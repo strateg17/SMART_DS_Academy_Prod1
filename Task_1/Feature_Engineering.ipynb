{
  "nbformat": 4,
  "nbformat_minor": 0,
  "metadata": {
    "colab": {
      "name": "Feature_Engineering.ipynb",
      "provenance": [],
      "collapsed_sections": []
    },
    "kernelspec": {
      "name": "python3",
      "display_name": "Python 3"
    },
    "language_info": {
      "name": "python"
    }
  },
  "cells": [
    {
      "cell_type": "code",
      "metadata": {
        "id": "psjrUlhOvdjg"
      },
      "source": [
        "import pandas as pd, datetime\n",
        "import pandas_profiling as pp\n",
        "\n",
        "import numpy as np\n",
        "from time import time\n",
        "\n",
        "import xgboost as xgb\n",
        "import lightgbm as lgb\n",
        "\n",
        "import matplotlib.pyplot as plt\n",
        "import seaborn as sns\n",
        "\n",
        "from scipy import stats\n",
        "\n",
        "\n",
        "from sklearn.metrics import r2_score\n",
        "from sklearn.metrics import mean_squared_error\n",
        "from sklearn.metrics import mean_absolute_error\n",
        "\n",
        "from sklearn.model_selection import TimeSeriesSplit\n",
        "from sklearn import model_selection, metrics"
      ],
      "execution_count": 1,
      "outputs": []
    },
    {
      "cell_type": "code",
      "metadata": {
        "id": "OpXWdxGmuvKq"
      },
      "source": [
        "import os\n",
        "import random\n",
        "\n",
        "RANDOM_SEED = 42\n",
        "def seed_everything(seed=RANDOM_SEED):\n",
        "    os.environ['PYTHONHASHSEED'] = str(seed)\n",
        "    np.random.seed(seed)\n",
        "    random.seed(seed)\n",
        "seed_everything()"
      ],
      "execution_count": 2,
      "outputs": []
    },
    {
      "cell_type": "code",
      "metadata": {
        "colab": {
          "base_uri": "https://localhost:8080/"
        },
        "id": "noCHSUa6viKA",
        "outputId": "fbdb586a-bdcd-44f4-d4e2-51b3aae06917"
      },
      "source": [
        "#load our data\n",
        "train = pd.read_csv('/content/drive/MyDrive/Colab Notebooks/TS/train.csv')\n",
        "test = pd.read_csv('/content/drive/MyDrive/Colab Notebooks/TS/test.csv')\n",
        "\n",
        "print(train.shape)\n",
        "print(test.shape)\n",
        "\n",
        "print(train.columns)\n",
        "print(test.columns)\n",
        "\n",
        "print(train.info())\n",
        "print(test.info())"
      ],
      "execution_count": 3,
      "outputs": [
        {
          "output_type": "stream",
          "text": [
            "(73915, 5)\n",
            "(2172, 4)\n",
            "Index(['date', 'product_id', 'product_category_name', 'price',\n",
            "       'sales_quantity'],\n",
            "      dtype='object')\n",
            "Index(['date', 'product_id', 'product_category_name', 'price'], dtype='object')\n",
            "<class 'pandas.core.frame.DataFrame'>\n",
            "RangeIndex: 73915 entries, 0 to 73914\n",
            "Data columns (total 5 columns):\n",
            " #   Column                 Non-Null Count  Dtype  \n",
            "---  ------                 --------------  -----  \n",
            " 0   date                   73915 non-null  object \n",
            " 1   product_id             73915 non-null  object \n",
            " 2   product_category_name  73915 non-null  object \n",
            " 3   price                  73915 non-null  float64\n",
            " 4   sales_quantity         73915 non-null  int64  \n",
            "dtypes: float64(1), int64(1), object(3)\n",
            "memory usage: 2.8+ MB\n",
            "None\n",
            "<class 'pandas.core.frame.DataFrame'>\n",
            "RangeIndex: 2172 entries, 0 to 2171\n",
            "Data columns (total 4 columns):\n",
            " #   Column                 Non-Null Count  Dtype  \n",
            "---  ------                 --------------  -----  \n",
            " 0   date                   2172 non-null   object \n",
            " 1   product_id             2172 non-null   object \n",
            " 2   product_category_name  2172 non-null   object \n",
            " 3   price                  2172 non-null   float64\n",
            "dtypes: float64(1), object(3)\n",
            "memory usage: 68.0+ KB\n",
            "None\n"
          ],
          "name": "stdout"
        }
      ]
    },
    {
      "cell_type": "code",
      "metadata": {
        "colab": {
          "base_uri": "https://localhost:8080/",
          "height": 359
        },
        "id": "O7uz1UQqMW9H",
        "outputId": "5002ac0c-3626-46f9-bccf-91757ed5780b"
      },
      "source": [
        "train.head().append(train.tail())"
      ],
      "execution_count": 4,
      "outputs": [
        {
          "output_type": "execute_result",
          "data": {
            "text/html": [
              "<div>\n",
              "<style scoped>\n",
              "    .dataframe tbody tr th:only-of-type {\n",
              "        vertical-align: middle;\n",
              "    }\n",
              "\n",
              "    .dataframe tbody tr th {\n",
              "        vertical-align: top;\n",
              "    }\n",
              "\n",
              "    .dataframe thead th {\n",
              "        text-align: right;\n",
              "    }\n",
              "</style>\n",
              "<table border=\"1\" class=\"dataframe\">\n",
              "  <thead>\n",
              "    <tr style=\"text-align: right;\">\n",
              "      <th></th>\n",
              "      <th>date</th>\n",
              "      <th>product_id</th>\n",
              "      <th>product_category_name</th>\n",
              "      <th>price</th>\n",
              "      <th>sales_quantity</th>\n",
              "    </tr>\n",
              "  </thead>\n",
              "  <tbody>\n",
              "    <tr>\n",
              "      <th>0</th>\n",
              "      <td>2016-09-15</td>\n",
              "      <td>5a6b04657a4c5ee34285d1e4619a96b4</td>\n",
              "      <td>beleza_saude</td>\n",
              "      <td>44.99</td>\n",
              "      <td>3</td>\n",
              "    </tr>\n",
              "    <tr>\n",
              "      <th>1</th>\n",
              "      <td>2016-10-04</td>\n",
              "      <td>29bedbfbe73ea473396306b4f0c010ec</td>\n",
              "      <td>utilidades_domesticas</td>\n",
              "      <td>89.90</td>\n",
              "      <td>1</td>\n",
              "    </tr>\n",
              "    <tr>\n",
              "      <th>2</th>\n",
              "      <td>2016-10-04</td>\n",
              "      <td>85b99d83c60cab5b4d8f927ad35212a1</td>\n",
              "      <td>moveis_decoracao</td>\n",
              "      <td>67.90</td>\n",
              "      <td>1</td>\n",
              "    </tr>\n",
              "    <tr>\n",
              "      <th>3</th>\n",
              "      <td>2016-10-04</td>\n",
              "      <td>43bb8825dd6838251606e5e4130cfff4</td>\n",
              "      <td>moveis_decoracao</td>\n",
              "      <td>23.90</td>\n",
              "      <td>2</td>\n",
              "    </tr>\n",
              "    <tr>\n",
              "      <th>4</th>\n",
              "      <td>2016-10-04</td>\n",
              "      <td>4e0946aebc8e1d7521219ec1e7380aed</td>\n",
              "      <td>brinquedos</td>\n",
              "      <td>128.90</td>\n",
              "      <td>1</td>\n",
              "    </tr>\n",
              "    <tr>\n",
              "      <th>73910</th>\n",
              "      <td>2018-08-12</td>\n",
              "      <td>0cf2faf9749f53924cea652a09d8e327</td>\n",
              "      <td>construcao_ferramentas_construcao</td>\n",
              "      <td>33.90</td>\n",
              "      <td>1</td>\n",
              "    </tr>\n",
              "    <tr>\n",
              "      <th>73911</th>\n",
              "      <td>2018-08-12</td>\n",
              "      <td>57e1815b050566a793e010162f765cdb</td>\n",
              "      <td>beleza_saude</td>\n",
              "      <td>149.65</td>\n",
              "      <td>1</td>\n",
              "    </tr>\n",
              "    <tr>\n",
              "      <th>73912</th>\n",
              "      <td>2018-08-12</td>\n",
              "      <td>0cbeda603059c985268afd35128be303</td>\n",
              "      <td>papelaria</td>\n",
              "      <td>79.00</td>\n",
              "      <td>1</td>\n",
              "    </tr>\n",
              "    <tr>\n",
              "      <th>73913</th>\n",
              "      <td>2018-08-12</td>\n",
              "      <td>309dd69eb83cea38c51709d62befe1a4</td>\n",
              "      <td>construcao_ferramentas_construcao</td>\n",
              "      <td>56.00</td>\n",
              "      <td>2</td>\n",
              "    </tr>\n",
              "    <tr>\n",
              "      <th>73914</th>\n",
              "      <td>2018-08-12</td>\n",
              "      <td>e343a7fbf868e28cb3f80ef0f6d9300c</td>\n",
              "      <td>utilidades_domesticas</td>\n",
              "      <td>47.50</td>\n",
              "      <td>1</td>\n",
              "    </tr>\n",
              "  </tbody>\n",
              "</table>\n",
              "</div>"
            ],
            "text/plain": [
              "             date                        product_id  ...   price  sales_quantity\n",
              "0      2016-09-15  5a6b04657a4c5ee34285d1e4619a96b4  ...   44.99               3\n",
              "1      2016-10-04  29bedbfbe73ea473396306b4f0c010ec  ...   89.90               1\n",
              "2      2016-10-04  85b99d83c60cab5b4d8f927ad35212a1  ...   67.90               1\n",
              "3      2016-10-04  43bb8825dd6838251606e5e4130cfff4  ...   23.90               2\n",
              "4      2016-10-04  4e0946aebc8e1d7521219ec1e7380aed  ...  128.90               1\n",
              "73910  2018-08-12  0cf2faf9749f53924cea652a09d8e327  ...   33.90               1\n",
              "73911  2018-08-12  57e1815b050566a793e010162f765cdb  ...  149.65               1\n",
              "73912  2018-08-12  0cbeda603059c985268afd35128be303  ...   79.00               1\n",
              "73913  2018-08-12  309dd69eb83cea38c51709d62befe1a4  ...   56.00               2\n",
              "73914  2018-08-12  e343a7fbf868e28cb3f80ef0f6d9300c  ...   47.50               1\n",
              "\n",
              "[10 rows x 5 columns]"
            ]
          },
          "metadata": {
            "tags": []
          },
          "execution_count": 4
        }
      ]
    },
    {
      "cell_type": "code",
      "metadata": {
        "colab": {
          "base_uri": "https://localhost:8080/"
        },
        "id": "UFdV716F7dzu",
        "outputId": "ba66cac0-a35b-48d1-cc33-1828d1a93683"
      },
      "source": [
        "len(list(set(test.product_id) - set(test.product_id).intersection(set(train.product_id)))), len(list(set(test.product_id))), len(test)"
      ],
      "execution_count": 5,
      "outputs": [
        {
          "output_type": "execute_result",
          "data": {
            "text/plain": [
              "(124, 1526, 2172)"
            ]
          },
          "metadata": {
            "tags": []
          },
          "execution_count": 5
        }
      ]
    },
    {
      "cell_type": "code",
      "metadata": {
        "colab": {
          "base_uri": "https://localhost:8080/",
          "height": 419
        },
        "id": "U3IHwb3ixmo4",
        "outputId": "c7c22400-319f-49fc-e6d6-b58e36089018"
      },
      "source": [
        "df = pd.concat([train, test])\n",
        "df"
      ],
      "execution_count": 6,
      "outputs": [
        {
          "output_type": "execute_result",
          "data": {
            "text/html": [
              "<div>\n",
              "<style scoped>\n",
              "    .dataframe tbody tr th:only-of-type {\n",
              "        vertical-align: middle;\n",
              "    }\n",
              "\n",
              "    .dataframe tbody tr th {\n",
              "        vertical-align: top;\n",
              "    }\n",
              "\n",
              "    .dataframe thead th {\n",
              "        text-align: right;\n",
              "    }\n",
              "</style>\n",
              "<table border=\"1\" class=\"dataframe\">\n",
              "  <thead>\n",
              "    <tr style=\"text-align: right;\">\n",
              "      <th></th>\n",
              "      <th>date</th>\n",
              "      <th>product_id</th>\n",
              "      <th>product_category_name</th>\n",
              "      <th>price</th>\n",
              "      <th>sales_quantity</th>\n",
              "    </tr>\n",
              "  </thead>\n",
              "  <tbody>\n",
              "    <tr>\n",
              "      <th>0</th>\n",
              "      <td>2016-09-15</td>\n",
              "      <td>5a6b04657a4c5ee34285d1e4619a96b4</td>\n",
              "      <td>beleza_saude</td>\n",
              "      <td>44.99</td>\n",
              "      <td>3.0</td>\n",
              "    </tr>\n",
              "    <tr>\n",
              "      <th>1</th>\n",
              "      <td>2016-10-04</td>\n",
              "      <td>29bedbfbe73ea473396306b4f0c010ec</td>\n",
              "      <td>utilidades_domesticas</td>\n",
              "      <td>89.90</td>\n",
              "      <td>1.0</td>\n",
              "    </tr>\n",
              "    <tr>\n",
              "      <th>2</th>\n",
              "      <td>2016-10-04</td>\n",
              "      <td>85b99d83c60cab5b4d8f927ad35212a1</td>\n",
              "      <td>moveis_decoracao</td>\n",
              "      <td>67.90</td>\n",
              "      <td>1.0</td>\n",
              "    </tr>\n",
              "    <tr>\n",
              "      <th>3</th>\n",
              "      <td>2016-10-04</td>\n",
              "      <td>43bb8825dd6838251606e5e4130cfff4</td>\n",
              "      <td>moveis_decoracao</td>\n",
              "      <td>23.90</td>\n",
              "      <td>2.0</td>\n",
              "    </tr>\n",
              "    <tr>\n",
              "      <th>4</th>\n",
              "      <td>2016-10-04</td>\n",
              "      <td>4e0946aebc8e1d7521219ec1e7380aed</td>\n",
              "      <td>brinquedos</td>\n",
              "      <td>128.90</td>\n",
              "      <td>1.0</td>\n",
              "    </tr>\n",
              "    <tr>\n",
              "      <th>...</th>\n",
              "      <td>...</td>\n",
              "      <td>...</td>\n",
              "      <td>...</td>\n",
              "      <td>...</td>\n",
              "      <td>...</td>\n",
              "    </tr>\n",
              "    <tr>\n",
              "      <th>2167</th>\n",
              "      <td>2018-08-29</td>\n",
              "      <td>777798445efd625458a90c13f3b3e6e7</td>\n",
              "      <td>brinquedos</td>\n",
              "      <td>63.90</td>\n",
              "      <td>NaN</td>\n",
              "    </tr>\n",
              "    <tr>\n",
              "      <th>2168</th>\n",
              "      <td>2018-08-29</td>\n",
              "      <td>06601c3059e35a3bf65e72f2fd2ac626</td>\n",
              "      <td>alimentos</td>\n",
              "      <td>109.90</td>\n",
              "      <td>NaN</td>\n",
              "    </tr>\n",
              "    <tr>\n",
              "      <th>2169</th>\n",
              "      <td>2018-08-29</td>\n",
              "      <td>8d4dac6177fb8134f26fb4c5cc6c0aff</td>\n",
              "      <td>beleza_saude</td>\n",
              "      <td>91.55</td>\n",
              "      <td>NaN</td>\n",
              "    </tr>\n",
              "    <tr>\n",
              "      <th>2170</th>\n",
              "      <td>2018-08-29</td>\n",
              "      <td>d04857e7b4b708ee8b8b9921163edba3</td>\n",
              "      <td>informatica_acessorios</td>\n",
              "      <td>84.99</td>\n",
              "      <td>NaN</td>\n",
              "    </tr>\n",
              "    <tr>\n",
              "      <th>2171</th>\n",
              "      <td>2018-09-03</td>\n",
              "      <td>b98992ea80b467987a7fbb88e7f2076a</td>\n",
              "      <td>moveis_cozinha_area_de_servico_jantar_e_jardim</td>\n",
              "      <td>145.00</td>\n",
              "      <td>NaN</td>\n",
              "    </tr>\n",
              "  </tbody>\n",
              "</table>\n",
              "<p>76087 rows × 5 columns</p>\n",
              "</div>"
            ],
            "text/plain": [
              "            date                        product_id  ...   price  sales_quantity\n",
              "0     2016-09-15  5a6b04657a4c5ee34285d1e4619a96b4  ...   44.99             3.0\n",
              "1     2016-10-04  29bedbfbe73ea473396306b4f0c010ec  ...   89.90             1.0\n",
              "2     2016-10-04  85b99d83c60cab5b4d8f927ad35212a1  ...   67.90             1.0\n",
              "3     2016-10-04  43bb8825dd6838251606e5e4130cfff4  ...   23.90             2.0\n",
              "4     2016-10-04  4e0946aebc8e1d7521219ec1e7380aed  ...  128.90             1.0\n",
              "...          ...                               ...  ...     ...             ...\n",
              "2167  2018-08-29  777798445efd625458a90c13f3b3e6e7  ...   63.90             NaN\n",
              "2168  2018-08-29  06601c3059e35a3bf65e72f2fd2ac626  ...  109.90             NaN\n",
              "2169  2018-08-29  8d4dac6177fb8134f26fb4c5cc6c0aff  ...   91.55             NaN\n",
              "2170  2018-08-29  d04857e7b4b708ee8b8b9921163edba3  ...   84.99             NaN\n",
              "2171  2018-09-03  b98992ea80b467987a7fbb88e7f2076a  ...  145.00             NaN\n",
              "\n",
              "[76087 rows x 5 columns]"
            ]
          },
          "metadata": {
            "tags": []
          },
          "execution_count": 6
        }
      ]
    },
    {
      "cell_type": "code",
      "metadata": {
        "id": "iB9BJSJ5NNJV"
      },
      "source": [
        "df['date'] = pd.DatetimeIndex(df.date)"
      ],
      "execution_count": 7,
      "outputs": []
    },
    {
      "cell_type": "code",
      "metadata": {
        "colab": {
          "base_uri": "https://localhost:8080/"
        },
        "id": "LhqKvLE5Mf7d",
        "outputId": "71dee1e5-b039-4f3b-dc08-4f44530ff371"
      },
      "source": [
        "# get year\n",
        "df['date_year'] = df.date.dt.year.astype(np.uint16)\n",
        "# get month\n",
        "df['date_month'] = df.date.dt.month.astype(np.uint8)\n",
        "# get weekday\n",
        "df['date_weekday'] = df.date.dt.weekday.astype(np.uint8)\n",
        "# get week of year\n",
        "df['date_weekofyear'] = df.date.dt.week.astype(np.uint8)\n",
        "# check weekend\n",
        "df['is_weekend'] = df.date_weekday.isin([5,6])*1\n",
        "# get quarter\n",
        "df['quarter'] = df.date.dt.quarter.astype(np.uint8)\n",
        "# get season\n",
        "df['season'] = df['date_month'] % 12 // 3 + 1"
      ],
      "execution_count": 8,
      "outputs": [
        {
          "output_type": "stream",
          "text": [
            "/usr/local/lib/python3.7/dist-packages/ipykernel_launcher.py:8: FutureWarning: Series.dt.weekofyear and Series.dt.week have been deprecated.  Please use Series.dt.isocalendar().week instead.\n",
            "  \n"
          ],
          "name": "stderr"
        }
      ]
    },
    {
      "cell_type": "code",
      "metadata": {
        "id": "mUafm72sHvA_"
      },
      "source": [
        "#add holidays\n",
        "from datetime import date\n",
        "import holidays\n",
        "bz_holidays = holidays.Brazil()\n",
        "df['holiday'] = df.index.isin([d.date() for d in bz_holidays])\n",
        "df['holiday'] = df['holiday'].map({False: 0, True: 1})"
      ],
      "execution_count": 9,
      "outputs": []
    },
    {
      "cell_type": "code",
      "metadata": {
        "id": "w7JYVDRLccqf"
      },
      "source": [
        "#increased/decreased in price features\n",
        "\n",
        "gp_product_price = df.sort_values('date').groupby(['product_id'], as_index=False).agg({'price':[np.min, np.max]})\n",
        "gp_product_price.columns = ['product_id', 'hist_min_product_price', 'hist_max_product_price']\n",
        "\n",
        "df = pd.merge(df, gp_product_price, on='product_id', how='left')"
      ],
      "execution_count": 10,
      "outputs": []
    },
    {
      "cell_type": "code",
      "metadata": {
        "id": "or3m4DfPAsLl"
      },
      "source": [
        "df['price_increase'] = df['price'] - df['hist_min_product_price']\n",
        "df['price_decrease'] = df['hist_max_product_price'] - df['price']"
      ],
      "execution_count": 11,
      "outputs": []
    },
    {
      "cell_type": "code",
      "metadata": {
        "colab": {
          "base_uri": "https://localhost:8080/",
          "height": 230
        },
        "id": "JchRV9WLAZmp",
        "outputId": "a96e0f3e-0c39-4ecc-8609-bec7faf06fe7"
      },
      "source": [
        "print(df.shape)\n",
        "df.head(3)"
      ],
      "execution_count": 12,
      "outputs": [
        {
          "output_type": "stream",
          "text": [
            "(76087, 17)\n"
          ],
          "name": "stdout"
        },
        {
          "output_type": "execute_result",
          "data": {
            "text/html": [
              "<div>\n",
              "<style scoped>\n",
              "    .dataframe tbody tr th:only-of-type {\n",
              "        vertical-align: middle;\n",
              "    }\n",
              "\n",
              "    .dataframe tbody tr th {\n",
              "        vertical-align: top;\n",
              "    }\n",
              "\n",
              "    .dataframe thead th {\n",
              "        text-align: right;\n",
              "    }\n",
              "</style>\n",
              "<table border=\"1\" class=\"dataframe\">\n",
              "  <thead>\n",
              "    <tr style=\"text-align: right;\">\n",
              "      <th></th>\n",
              "      <th>date</th>\n",
              "      <th>product_id</th>\n",
              "      <th>product_category_name</th>\n",
              "      <th>price</th>\n",
              "      <th>sales_quantity</th>\n",
              "      <th>date_year</th>\n",
              "      <th>date_month</th>\n",
              "      <th>date_weekday</th>\n",
              "      <th>date_weekofyear</th>\n",
              "      <th>is_weekend</th>\n",
              "      <th>quarter</th>\n",
              "      <th>season</th>\n",
              "      <th>holiday</th>\n",
              "      <th>hist_min_product_price</th>\n",
              "      <th>hist_max_product_price</th>\n",
              "      <th>price_increase</th>\n",
              "      <th>price_decrease</th>\n",
              "    </tr>\n",
              "  </thead>\n",
              "  <tbody>\n",
              "    <tr>\n",
              "      <th>0</th>\n",
              "      <td>2016-09-15</td>\n",
              "      <td>5a6b04657a4c5ee34285d1e4619a96b4</td>\n",
              "      <td>beleza_saude</td>\n",
              "      <td>44.99</td>\n",
              "      <td>3.0</td>\n",
              "      <td>2016</td>\n",
              "      <td>9</td>\n",
              "      <td>3</td>\n",
              "      <td>37</td>\n",
              "      <td>0</td>\n",
              "      <td>3</td>\n",
              "      <td>4</td>\n",
              "      <td>0</td>\n",
              "      <td>44.99</td>\n",
              "      <td>54.99</td>\n",
              "      <td>0.0</td>\n",
              "      <td>10.0</td>\n",
              "    </tr>\n",
              "    <tr>\n",
              "      <th>1</th>\n",
              "      <td>2016-10-04</td>\n",
              "      <td>29bedbfbe73ea473396306b4f0c010ec</td>\n",
              "      <td>utilidades_domesticas</td>\n",
              "      <td>89.90</td>\n",
              "      <td>1.0</td>\n",
              "      <td>2016</td>\n",
              "      <td>10</td>\n",
              "      <td>1</td>\n",
              "      <td>40</td>\n",
              "      <td>0</td>\n",
              "      <td>4</td>\n",
              "      <td>4</td>\n",
              "      <td>0</td>\n",
              "      <td>89.90</td>\n",
              "      <td>89.90</td>\n",
              "      <td>0.0</td>\n",
              "      <td>0.0</td>\n",
              "    </tr>\n",
              "    <tr>\n",
              "      <th>2</th>\n",
              "      <td>2016-10-04</td>\n",
              "      <td>85b99d83c60cab5b4d8f927ad35212a1</td>\n",
              "      <td>moveis_decoracao</td>\n",
              "      <td>67.90</td>\n",
              "      <td>1.0</td>\n",
              "      <td>2016</td>\n",
              "      <td>10</td>\n",
              "      <td>1</td>\n",
              "      <td>40</td>\n",
              "      <td>0</td>\n",
              "      <td>4</td>\n",
              "      <td>4</td>\n",
              "      <td>0</td>\n",
              "      <td>67.90</td>\n",
              "      <td>72.90</td>\n",
              "      <td>0.0</td>\n",
              "      <td>5.0</td>\n",
              "    </tr>\n",
              "  </tbody>\n",
              "</table>\n",
              "</div>"
            ],
            "text/plain": [
              "        date                        product_id  ... price_increase  price_decrease\n",
              "0 2016-09-15  5a6b04657a4c5ee34285d1e4619a96b4  ...            0.0            10.0\n",
              "1 2016-10-04  29bedbfbe73ea473396306b4f0c010ec  ...            0.0             0.0\n",
              "2 2016-10-04  85b99d83c60cab5b4d8f927ad35212a1  ...            0.0             5.0\n",
              "\n",
              "[3 rows x 17 columns]"
            ]
          },
          "metadata": {
            "tags": []
          },
          "execution_count": 12
        }
      ]
    },
    {
      "cell_type": "code",
      "metadata": {
        "colab": {
          "base_uri": "https://localhost:8080/"
        },
        "id": "fgiXqMSIUiwj",
        "outputId": "140365d9-1fa5-471e-bce0-97a39c3dc134"
      },
      "source": [
        "# check range\n",
        "dmin = df.date.dt.date.min()\n",
        "dmax = df.date.dt.date.max()\n",
        "\n",
        "print('Time range: {} to {}'.format(dmin, dmax))\n",
        "# date time passed\n",
        "df['date_time_passed'] = (df.date.dt.date - dmin).dt.days"
      ],
      "execution_count": 13,
      "outputs": [
        {
          "output_type": "stream",
          "text": [
            "Time range: 2016-09-15 to 2018-09-03\n"
          ],
          "name": "stdout"
        }
      ]
    },
    {
      "cell_type": "code",
      "metadata": {
        "colab": {
          "base_uri": "https://localhost:8080/",
          "height": 213
        },
        "id": "9WcfgGJpmE-v",
        "outputId": "44d20f06-a0c6-4769-c0b6-4b542a578179"
      },
      "source": [
        "df.head(3)"
      ],
      "execution_count": 14,
      "outputs": [
        {
          "output_type": "execute_result",
          "data": {
            "text/html": [
              "<div>\n",
              "<style scoped>\n",
              "    .dataframe tbody tr th:only-of-type {\n",
              "        vertical-align: middle;\n",
              "    }\n",
              "\n",
              "    .dataframe tbody tr th {\n",
              "        vertical-align: top;\n",
              "    }\n",
              "\n",
              "    .dataframe thead th {\n",
              "        text-align: right;\n",
              "    }\n",
              "</style>\n",
              "<table border=\"1\" class=\"dataframe\">\n",
              "  <thead>\n",
              "    <tr style=\"text-align: right;\">\n",
              "      <th></th>\n",
              "      <th>date</th>\n",
              "      <th>product_id</th>\n",
              "      <th>product_category_name</th>\n",
              "      <th>price</th>\n",
              "      <th>sales_quantity</th>\n",
              "      <th>date_year</th>\n",
              "      <th>date_month</th>\n",
              "      <th>date_weekday</th>\n",
              "      <th>date_weekofyear</th>\n",
              "      <th>is_weekend</th>\n",
              "      <th>quarter</th>\n",
              "      <th>season</th>\n",
              "      <th>holiday</th>\n",
              "      <th>hist_min_product_price</th>\n",
              "      <th>hist_max_product_price</th>\n",
              "      <th>price_increase</th>\n",
              "      <th>price_decrease</th>\n",
              "      <th>date_time_passed</th>\n",
              "    </tr>\n",
              "  </thead>\n",
              "  <tbody>\n",
              "    <tr>\n",
              "      <th>0</th>\n",
              "      <td>2016-09-15</td>\n",
              "      <td>5a6b04657a4c5ee34285d1e4619a96b4</td>\n",
              "      <td>beleza_saude</td>\n",
              "      <td>44.99</td>\n",
              "      <td>3.0</td>\n",
              "      <td>2016</td>\n",
              "      <td>9</td>\n",
              "      <td>3</td>\n",
              "      <td>37</td>\n",
              "      <td>0</td>\n",
              "      <td>3</td>\n",
              "      <td>4</td>\n",
              "      <td>0</td>\n",
              "      <td>44.99</td>\n",
              "      <td>54.99</td>\n",
              "      <td>0.0</td>\n",
              "      <td>10.0</td>\n",
              "      <td>0</td>\n",
              "    </tr>\n",
              "    <tr>\n",
              "      <th>1</th>\n",
              "      <td>2016-10-04</td>\n",
              "      <td>29bedbfbe73ea473396306b4f0c010ec</td>\n",
              "      <td>utilidades_domesticas</td>\n",
              "      <td>89.90</td>\n",
              "      <td>1.0</td>\n",
              "      <td>2016</td>\n",
              "      <td>10</td>\n",
              "      <td>1</td>\n",
              "      <td>40</td>\n",
              "      <td>0</td>\n",
              "      <td>4</td>\n",
              "      <td>4</td>\n",
              "      <td>0</td>\n",
              "      <td>89.90</td>\n",
              "      <td>89.90</td>\n",
              "      <td>0.0</td>\n",
              "      <td>0.0</td>\n",
              "      <td>19</td>\n",
              "    </tr>\n",
              "    <tr>\n",
              "      <th>2</th>\n",
              "      <td>2016-10-04</td>\n",
              "      <td>85b99d83c60cab5b4d8f927ad35212a1</td>\n",
              "      <td>moveis_decoracao</td>\n",
              "      <td>67.90</td>\n",
              "      <td>1.0</td>\n",
              "      <td>2016</td>\n",
              "      <td>10</td>\n",
              "      <td>1</td>\n",
              "      <td>40</td>\n",
              "      <td>0</td>\n",
              "      <td>4</td>\n",
              "      <td>4</td>\n",
              "      <td>0</td>\n",
              "      <td>67.90</td>\n",
              "      <td>72.90</td>\n",
              "      <td>0.0</td>\n",
              "      <td>5.0</td>\n",
              "      <td>19</td>\n",
              "    </tr>\n",
              "  </tbody>\n",
              "</table>\n",
              "</div>"
            ],
            "text/plain": [
              "        date  ... date_time_passed\n",
              "0 2016-09-15  ...                0\n",
              "1 2016-10-04  ...               19\n",
              "2 2016-10-04  ...               19\n",
              "\n",
              "[3 rows x 18 columns]"
            ]
          },
          "metadata": {
            "tags": []
          },
          "execution_count": 14
        }
      ]
    },
    {
      "cell_type": "code",
      "metadata": {
        "id": "MpWSvMxRg-FB"
      },
      "source": [
        "# encoding\n",
        "from sklearn import preprocessing\n",
        "categorical = ['product_category_name']\n",
        "\n",
        "label_encoder = preprocessing.LabelEncoder()\n",
        "for col in categorical:\n",
        "    df[col] = label_encoder.fit_transform(df[col].astype(str))"
      ],
      "execution_count": 15,
      "outputs": []
    },
    {
      "cell_type": "code",
      "metadata": {
        "colab": {
          "base_uri": "https://localhost:8080/"
        },
        "id": "0_alJbP1loEn",
        "outputId": "94f0eb02-025d-48bc-dac4-1c44e2806c46"
      },
      "source": [
        "print(len(train))\n",
        "print(len(test))"
      ],
      "execution_count": 16,
      "outputs": [
        {
          "output_type": "stream",
          "text": [
            "73915\n",
            "2172\n"
          ],
          "name": "stdout"
        }
      ]
    },
    {
      "cell_type": "code",
      "metadata": {
        "colab": {
          "base_uri": "https://localhost:8080/"
        },
        "id": "sY3QcsefsCQw",
        "outputId": "be79a5a1-272d-4a5d-d1f6-7763aeb4b60b"
      },
      "source": [
        "y = df.sales_quantity\n",
        "y.shape"
      ],
      "execution_count": 17,
      "outputs": [
        {
          "output_type": "execute_result",
          "data": {
            "text/plain": [
              "(76087,)"
            ]
          },
          "metadata": {
            "tags": []
          },
          "execution_count": 17
        }
      ]
    },
    {
      "cell_type": "code",
      "metadata": {
        "id": "f8-z_8nHloH7"
      },
      "source": [
        "#split train/test\n",
        "train = df[:len(train)]\n",
        "test = df[len(train):]\n",
        "\n",
        "X_train = train.drop(columns = ['product_id', 'sales_quantity', 'date'])\n",
        "X_test = test.drop(columns = ['product_id', 'sales_quantity', 'date'])"
      ],
      "execution_count": 18,
      "outputs": []
    },
    {
      "cell_type": "code",
      "metadata": {
        "id": "n-aGNtNStG2r"
      },
      "source": [
        "y_train = y[:len(train)]\n",
        "y_test = y[len(train):]"
      ],
      "execution_count": 19,
      "outputs": []
    },
    {
      "cell_type": "code",
      "metadata": {
        "id": "XacLutqePHeL"
      },
      "source": [
        "#lgbm\n",
        "lgb_reg = lgb.LGBMRegressor()"
      ],
      "execution_count": 20,
      "outputs": []
    },
    {
      "cell_type": "code",
      "metadata": {
        "id": "krQ9lc52PXGG"
      },
      "source": [
        "#xgb\n",
        "xgb_reg = xgb.XGBRegressor()"
      ],
      "execution_count": 21,
      "outputs": []
    },
    {
      "cell_type": "code",
      "metadata": {
        "colab": {
          "base_uri": "https://localhost:8080/"
        },
        "id": "PBoJmspjwkU_",
        "outputId": "c5111676-0b95-4f6b-890a-4389900a9a85"
      },
      "source": [
        "lgb_reg.fit(X_train, y_train)"
      ],
      "execution_count": 22,
      "outputs": [
        {
          "output_type": "execute_result",
          "data": {
            "text/plain": [
              "LGBMRegressor(boosting_type='gbdt', class_weight=None, colsample_bytree=1.0,\n",
              "              importance_type='split', learning_rate=0.1, max_depth=-1,\n",
              "              min_child_samples=20, min_child_weight=0.001, min_split_gain=0.0,\n",
              "              n_estimators=100, n_jobs=-1, num_leaves=31, objective=None,\n",
              "              random_state=None, reg_alpha=0.0, reg_lambda=0.0, silent=True,\n",
              "              subsample=1.0, subsample_for_bin=200000, subsample_freq=0)"
            ]
          },
          "metadata": {
            "tags": []
          },
          "execution_count": 22
        }
      ]
    },
    {
      "cell_type": "code",
      "metadata": {
        "colab": {
          "base_uri": "https://localhost:8080/"
        },
        "id": "ThywdOR8IUof",
        "outputId": "519a336f-b574-4284-c96c-c52b7b7a9d3b"
      },
      "source": [
        "#lgb\n",
        "mean_absolute_error(y_train, lgb_reg.predict(X_train))"
      ],
      "execution_count": 23,
      "outputs": [
        {
          "output_type": "execute_result",
          "data": {
            "text/plain": [
              "0.34958051876187296"
            ]
          },
          "metadata": {
            "tags": []
          },
          "execution_count": 23
        }
      ]
    },
    {
      "cell_type": "code",
      "metadata": {
        "colab": {
          "base_uri": "https://localhost:8080/"
        },
        "id": "R8RE7gPRPpuX",
        "outputId": "84c7bf79-484f-45a1-870e-ce7a417528e6"
      },
      "source": [
        "xgb_reg.fit(X_train, y_train)"
      ],
      "execution_count": 24,
      "outputs": [
        {
          "output_type": "stream",
          "text": [
            "[19:06:55] WARNING: /workspace/src/objective/regression_obj.cu:152: reg:linear is now deprecated in favor of reg:squarederror.\n"
          ],
          "name": "stdout"
        },
        {
          "output_type": "execute_result",
          "data": {
            "text/plain": [
              "XGBRegressor(base_score=0.5, booster='gbtree', colsample_bylevel=1,\n",
              "             colsample_bynode=1, colsample_bytree=1, gamma=0,\n",
              "             importance_type='gain', learning_rate=0.1, max_delta_step=0,\n",
              "             max_depth=3, min_child_weight=1, missing=None, n_estimators=100,\n",
              "             n_jobs=1, nthread=None, objective='reg:linear', random_state=0,\n",
              "             reg_alpha=0, reg_lambda=1, scale_pos_weight=1, seed=None,\n",
              "             silent=None, subsample=1, verbosity=1)"
            ]
          },
          "metadata": {
            "tags": []
          },
          "execution_count": 24
        }
      ]
    },
    {
      "cell_type": "code",
      "metadata": {
        "colab": {
          "base_uri": "https://localhost:8080/"
        },
        "id": "TFfTR4c_IU4E",
        "outputId": "0fb7076d-1aa6-44be-f5e8-018a66091b78"
      },
      "source": [
        "#xgb\n",
        "mean_absolute_error(y_train, xgb_reg.predict(X_train))"
      ],
      "execution_count": 25,
      "outputs": [
        {
          "output_type": "execute_result",
          "data": {
            "text/plain": [
              "0.37278853551562324"
            ]
          },
          "metadata": {
            "tags": []
          },
          "execution_count": 25
        }
      ]
    },
    {
      "cell_type": "code",
      "metadata": {
        "id": "x4_CmbGycLJj",
        "colab": {
          "base_uri": "https://localhost:8080/",
          "height": 530
        },
        "outputId": "918532dc-aba4-4783-ef94-09b6bdb75a47"
      },
      "source": [
        "fig, ax = plt.subplots(1,1,figsize=(12,8))\n",
        "\n",
        "lgb.plot_importance(lgb_reg, ax=ax)"
      ],
      "execution_count": 26,
      "outputs": [
        {
          "output_type": "execute_result",
          "data": {
            "text/plain": [
              "<matplotlib.axes._subplots.AxesSubplot at 0x7fc44f646a90>"
            ]
          },
          "metadata": {
            "tags": []
          },
          "execution_count": 26
        },
        {
          "output_type": "display_data",
          "data": {
            "image/png": "[encoded data removed]",
            "text/plain": [
              "<Figure size 864x576 with 1 Axes>"
            ]
          },
          "metadata": {
            "tags": [],
            "needs_background": "light"
          }
        }
      ]
    },
    {
      "cell_type": "markdown",
      "metadata": {
        "id": "PB7AUGJGP9AQ"
      },
      "source": [
        "#Create more features"
      ]
    },
    {
      "cell_type": "code",
      "metadata": {
        "id": "oNJC9iZ4OXXY"
      },
      "source": [
        "# Get rolling features\n",
        "# Min value\n",
        "f_min = lambda x: x.rolling(window=7, min_periods=1).min()\n",
        "# Max value\n",
        "f_max = lambda x: x.rolling(window=7, min_periods=1).max()\n",
        "# Mean value\n",
        "f_mean = lambda x: x.rolling(window=7, min_periods=1).mean()\n",
        "# Standard deviation\n",
        "f_std = lambda x: x.rolling(window=7, min_periods=1).std()\n",
        "\n",
        "function_list = [f_min, f_max, f_mean, f_std]\n",
        "function_name = ['min', 'max', 'mean', 'std']\n",
        "\n",
        "for i in range(len(function_list)):\n",
        "    df[('sales_%s' % function_name[i])] = df.sort_values('date').groupby(['product_id'])['sales_quantity'].apply(function_list[i])\n",
        "\n",
        "# Fill the empty std features with 0\n",
        "df['sales_std'].fillna(0, inplace=True)"
      ],
      "execution_count": 27,
      "outputs": []
    },
    {
      "cell_type": "code",
      "metadata": {
        "id": "9aYqThPgoHdB"
      },
      "source": [
        "lag_list = [1, 2, 3]\n",
        "\n",
        "for lag in lag_list:\n",
        "    ft_name = ('sales_shifted%s' % lag)\n",
        "    df[ft_name] = df.sort_values('date').groupby(['product_id'])['sales_quantity'].shift(lag)\n",
        "    # Fill the empty shifted features with 0\n",
        "    df[ft_name].fillna(0, inplace=True)"
      ],
      "execution_count": 29,
      "outputs": []
    },
    {
      "cell_type": "code",
      "metadata": {
        "colab": {
          "base_uri": "https://localhost:8080/",
          "height": 317
        },
        "id": "JZyHV5lQoAjb",
        "outputId": "c1bc9426-4f3c-4449-d99d-f4981bf1d87e"
      },
      "source": [
        "df.describe()"
      ],
      "execution_count": 30,
      "outputs": [
        {
          "output_type": "execute_result",
          "data": {
            "text/html": [
              "<div>\n",
              "<style scoped>\n",
              "    .dataframe tbody tr th:only-of-type {\n",
              "        vertical-align: middle;\n",
              "    }\n",
              "\n",
              "    .dataframe tbody tr th {\n",
              "        vertical-align: top;\n",
              "    }\n",
              "\n",
              "    .dataframe thead th {\n",
              "        text-align: right;\n",
              "    }\n",
              "</style>\n",
              "<table border=\"1\" class=\"dataframe\">\n",
              "  <thead>\n",
              "    <tr style=\"text-align: right;\">\n",
              "      <th></th>\n",
              "      <th>product_category_name</th>\n",
              "      <th>price</th>\n",
              "      <th>sales_quantity</th>\n",
              "      <th>date_year</th>\n",
              "      <th>date_month</th>\n",
              "      <th>date_weekday</th>\n",
              "      <th>date_weekofyear</th>\n",
              "      <th>is_weekend</th>\n",
              "      <th>quarter</th>\n",
              "      <th>season</th>\n",
              "      <th>holiday</th>\n",
              "      <th>hist_min_product_price</th>\n",
              "      <th>hist_max_product_price</th>\n",
              "      <th>price_increase</th>\n",
              "      <th>price_decrease</th>\n",
              "      <th>date_time_passed</th>\n",
              "      <th>sales_min</th>\n",
              "      <th>sales_max</th>\n",
              "      <th>sales_mean</th>\n",
              "      <th>sales_std</th>\n",
              "      <th>sales_shifted1</th>\n",
              "      <th>sales_shifted2</th>\n",
              "      <th>sales_shifted3</th>\n",
              "    </tr>\n",
              "  </thead>\n",
              "  <tbody>\n",
              "    <tr>\n",
              "      <th>count</th>\n",
              "      <td>76087.000000</td>\n",
              "      <td>76087.000000</td>\n",
              "      <td>73915.000000</td>\n",
              "      <td>76087.000000</td>\n",
              "      <td>76087.000000</td>\n",
              "      <td>76087.000000</td>\n",
              "      <td>76087.000000</td>\n",
              "      <td>76087.000000</td>\n",
              "      <td>76087.000000</td>\n",
              "      <td>76087.000000</td>\n",
              "      <td>76087.0</td>\n",
              "      <td>76087.000000</td>\n",
              "      <td>76087.000000</td>\n",
              "      <td>76087.000000</td>\n",
              "      <td>76087.000000</td>\n",
              "      <td>76087.000000</td>\n",
              "      <td>75858.000000</td>\n",
              "      <td>75858.000000</td>\n",
              "      <td>75858.000000</td>\n",
              "      <td>76087.000000</td>\n",
              "      <td>76087.000000</td>\n",
              "      <td>76087.000000</td>\n",
              "      <td>76087.000000</td>\n",
              "    </tr>\n",
              "    <tr>\n",
              "      <th>mean</th>\n",
              "      <td>36.976750</td>\n",
              "      <td>117.083446</td>\n",
              "      <td>1.234526</td>\n",
              "      <td>2017.537516</td>\n",
              "      <td>6.013747</td>\n",
              "      <td>2.738983</td>\n",
              "      <td>24.276867</td>\n",
              "      <td>0.216305</td>\n",
              "      <td>2.345158</td>\n",
              "      <td>2.411056</td>\n",
              "      <td>0.0</td>\n",
              "      <td>110.356628</td>\n",
              "      <td>126.365053</td>\n",
              "      <td>6.726818</td>\n",
              "      <td>9.281608</td>\n",
              "      <td>470.332974</td>\n",
              "      <td>1.059690</td>\n",
              "      <td>1.667919</td>\n",
              "      <td>1.231894</td>\n",
              "      <td>0.264871</td>\n",
              "      <td>0.977854</td>\n",
              "      <td>0.787625</td>\n",
              "      <td>0.673532</td>\n",
              "    </tr>\n",
              "    <tr>\n",
              "      <th>std</th>\n",
              "      <td>22.237619</td>\n",
              "      <td>161.454064</td>\n",
              "      <td>0.731710</td>\n",
              "      <td>0.503212</td>\n",
              "      <td>3.234830</td>\n",
              "      <td>1.874307</td>\n",
              "      <td>14.067243</td>\n",
              "      <td>0.411727</td>\n",
              "      <td>1.062113</td>\n",
              "      <td>1.013251</td>\n",
              "      <td>0.0</td>\n",
              "      <td>154.306516</td>\n",
              "      <td>171.695078</td>\n",
              "      <td>20.232733</td>\n",
              "      <td>26.325233</td>\n",
              "      <td>151.533585</td>\n",
              "      <td>0.360999</td>\n",
              "      <td>1.244393</td>\n",
              "      <td>0.519704</td>\n",
              "      <td>0.502340</td>\n",
              "      <td>0.812395</td>\n",
              "      <td>0.853064</td>\n",
              "      <td>0.859246</td>\n",
              "    </tr>\n",
              "    <tr>\n",
              "      <th>min</th>\n",
              "      <td>0.000000</td>\n",
              "      <td>0.850000</td>\n",
              "      <td>1.000000</td>\n",
              "      <td>2016.000000</td>\n",
              "      <td>1.000000</td>\n",
              "      <td>0.000000</td>\n",
              "      <td>1.000000</td>\n",
              "      <td>0.000000</td>\n",
              "      <td>1.000000</td>\n",
              "      <td>1.000000</td>\n",
              "      <td>0.0</td>\n",
              "      <td>0.850000</td>\n",
              "      <td>0.850000</td>\n",
              "      <td>0.000000</td>\n",
              "      <td>0.000000</td>\n",
              "      <td>0.000000</td>\n",
              "      <td>1.000000</td>\n",
              "      <td>1.000000</td>\n",
              "      <td>1.000000</td>\n",
              "      <td>0.000000</td>\n",
              "      <td>0.000000</td>\n",
              "      <td>0.000000</td>\n",
              "      <td>0.000000</td>\n",
              "    </tr>\n",
              "    <tr>\n",
              "      <th>25%</th>\n",
              "      <td>14.000000</td>\n",
              "      <td>39.990000</td>\n",
              "      <td>1.000000</td>\n",
              "      <td>2017.000000</td>\n",
              "      <td>3.000000</td>\n",
              "      <td>1.000000</td>\n",
              "      <td>12.000000</td>\n",
              "      <td>0.000000</td>\n",
              "      <td>1.000000</td>\n",
              "      <td>2.000000</td>\n",
              "      <td>0.0</td>\n",
              "      <td>39.000000</td>\n",
              "      <td>44.550000</td>\n",
              "      <td>0.000000</td>\n",
              "      <td>0.000000</td>\n",
              "      <td>361.000000</td>\n",
              "      <td>1.000000</td>\n",
              "      <td>1.000000</td>\n",
              "      <td>1.000000</td>\n",
              "      <td>0.000000</td>\n",
              "      <td>1.000000</td>\n",
              "      <td>0.000000</td>\n",
              "      <td>0.000000</td>\n",
              "    </tr>\n",
              "    <tr>\n",
              "      <th>50%</th>\n",
              "      <td>33.000000</td>\n",
              "      <td>75.000000</td>\n",
              "      <td>1.000000</td>\n",
              "      <td>2018.000000</td>\n",
              "      <td>6.000000</td>\n",
              "      <td>3.000000</td>\n",
              "      <td>23.000000</td>\n",
              "      <td>0.000000</td>\n",
              "      <td>2.000000</td>\n",
              "      <td>2.000000</td>\n",
              "      <td>0.0</td>\n",
              "      <td>69.900000</td>\n",
              "      <td>79.990000</td>\n",
              "      <td>0.000000</td>\n",
              "      <td>0.000000</td>\n",
              "      <td>489.000000</td>\n",
              "      <td>1.000000</td>\n",
              "      <td>1.000000</td>\n",
              "      <td>1.000000</td>\n",
              "      <td>0.000000</td>\n",
              "      <td>1.000000</td>\n",
              "      <td>1.000000</td>\n",
              "      <td>1.000000</td>\n",
              "    </tr>\n",
              "    <tr>\n",
              "      <th>75%</th>\n",
              "      <td>56.000000</td>\n",
              "      <td>133.820000</td>\n",
              "      <td>1.000000</td>\n",
              "      <td>2018.000000</td>\n",
              "      <td>8.000000</td>\n",
              "      <td>4.000000</td>\n",
              "      <td>34.000000</td>\n",
              "      <td>0.000000</td>\n",
              "      <td>3.000000</td>\n",
              "      <td>3.000000</td>\n",
              "      <td>0.0</td>\n",
              "      <td>124.995000</td>\n",
              "      <td>145.000000</td>\n",
              "      <td>6.000000</td>\n",
              "      <td>9.010000</td>\n",
              "      <td>593.000000</td>\n",
              "      <td>1.000000</td>\n",
              "      <td>2.000000</td>\n",
              "      <td>1.285714</td>\n",
              "      <td>0.447214</td>\n",
              "      <td>1.000000</td>\n",
              "      <td>1.000000</td>\n",
              "      <td>1.000000</td>\n",
              "    </tr>\n",
              "    <tr>\n",
              "      <th>max</th>\n",
              "      <td>72.000000</td>\n",
              "      <td>4059.000000</td>\n",
              "      <td>22.000000</td>\n",
              "      <td>2018.000000</td>\n",
              "      <td>12.000000</td>\n",
              "      <td>6.000000</td>\n",
              "      <td>52.000000</td>\n",
              "      <td>1.000000</td>\n",
              "      <td>4.000000</td>\n",
              "      <td>4.000000</td>\n",
              "      <td>0.0</td>\n",
              "      <td>3690.000000</td>\n",
              "      <td>4059.000000</td>\n",
              "      <td>999.100000</td>\n",
              "      <td>999.100000</td>\n",
              "      <td>718.000000</td>\n",
              "      <td>20.000000</td>\n",
              "      <td>22.000000</td>\n",
              "      <td>20.000000</td>\n",
              "      <td>9.192388</td>\n",
              "      <td>22.000000</td>\n",
              "      <td>22.000000</td>\n",
              "      <td>22.000000</td>\n",
              "    </tr>\n",
              "  </tbody>\n",
              "</table>\n",
              "</div>"
            ],
            "text/plain": [
              "       product_category_name         price  ...  sales_shifted2  sales_shifted3\n",
              "count           76087.000000  76087.000000  ...    76087.000000    76087.000000\n",
              "mean               36.976750    117.083446  ...        0.787625        0.673532\n",
              "std                22.237619    161.454064  ...        0.853064        0.859246\n",
              "min                 0.000000      0.850000  ...        0.000000        0.000000\n",
              "25%                14.000000     39.990000  ...        0.000000        0.000000\n",
              "50%                33.000000     75.000000  ...        1.000000        1.000000\n",
              "75%                56.000000    133.820000  ...        1.000000        1.000000\n",
              "max                72.000000   4059.000000  ...       22.000000       22.000000\n",
              "\n",
              "[8 rows x 23 columns]"
            ]
          },
          "metadata": {
            "tags": []
          },
          "execution_count": 30
        }
      ]
    },
    {
      "cell_type": "code",
      "metadata": {
        "id": "r15ImjshXT_f",
        "colab": {
          "base_uri": "https://localhost:8080/"
        },
        "outputId": "92c30f3f-3c9a-412d-d85e-f10e7af9163b"
      },
      "source": [
        "y = df.sales_quantity\n",
        "y.shape"
      ],
      "execution_count": 31,
      "outputs": [
        {
          "output_type": "execute_result",
          "data": {
            "text/plain": [
              "(76087,)"
            ]
          },
          "metadata": {
            "tags": []
          },
          "execution_count": 31
        }
      ]
    },
    {
      "cell_type": "code",
      "metadata": {
        "id": "0oiF2fzARTis"
      },
      "source": [
        "#split train/test\n",
        "train = df[:len(train)]\n",
        "test = df[len(train):]\n",
        "\n",
        "X_train = train.drop(columns = ['product_id', 'sales_quantity', 'date'])\n",
        "X_test = test.drop(columns = ['product_id', 'sales_quantity', 'date'])"
      ],
      "execution_count": 32,
      "outputs": []
    },
    {
      "cell_type": "code",
      "metadata": {
        "id": "dhMbc6snRUJQ"
      },
      "source": [
        "y_train = y[:len(train)]\n",
        "y_test = y[len(train):]"
      ],
      "execution_count": 33,
      "outputs": []
    },
    {
      "cell_type": "code",
      "metadata": {
        "colab": {
          "base_uri": "https://localhost:8080/"
        },
        "id": "RRbj2QDvRXHI",
        "outputId": "a6d31fcc-2ff1-4fe9-a2a4-c064a93a46c3"
      },
      "source": [
        "lgb_reg.fit(X_train, y_train)"
      ],
      "execution_count": 34,
      "outputs": [
        {
          "output_type": "execute_result",
          "data": {
            "text/plain": [
              "LGBMRegressor(boosting_type='gbdt', class_weight=None, colsample_bytree=1.0,\n",
              "              importance_type='split', learning_rate=0.1, max_depth=-1,\n",
              "              min_child_samples=20, min_child_weight=0.001, min_split_gain=0.0,\n",
              "              n_estimators=100, n_jobs=-1, num_leaves=31, objective=None,\n",
              "              random_state=None, reg_alpha=0.0, reg_lambda=0.0, silent=True,\n",
              "              subsample=1.0, subsample_for_bin=200000, subsample_freq=0)"
            ]
          },
          "metadata": {
            "tags": []
          },
          "execution_count": 34
        }
      ]
    },
    {
      "cell_type": "code",
      "metadata": {
        "colab": {
          "base_uri": "https://localhost:8080/"
        },
        "id": "Oe-ResM4Rada",
        "outputId": "f01021bc-0b99-49c4-feef-7557a110ef28"
      },
      "source": [
        "#lgb\n",
        "mean_absolute_error(y_train, lgb_reg.predict(X_train))"
      ],
      "execution_count": 35,
      "outputs": [
        {
          "output_type": "execute_result",
          "data": {
            "text/plain": [
              "0.1426476284880232"
            ]
          },
          "metadata": {
            "tags": []
          },
          "execution_count": 35
        }
      ]
    },
    {
      "cell_type": "code",
      "metadata": {
        "colab": {
          "base_uri": "https://localhost:8080/",
          "height": 530
        },
        "id": "5zCgr1vNRd4S",
        "outputId": "43c1c832-fd38-40f4-d5d0-ca92f1f1db93"
      },
      "source": [
        "fig, ax = plt.subplots(1,1,figsize=(12,8))\n",
        "\n",
        "lgb.plot_importance(lgb_reg, ax=ax)"
      ],
      "execution_count": 36,
      "outputs": [
        {
          "output_type": "execute_result",
          "data": {
            "text/plain": [
              "<matplotlib.axes._subplots.AxesSubplot at 0x7fc44e381750>"
            ]
          },
          "metadata": {
            "tags": []
          },
          "execution_count": 36
        },
        {
          "output_type": "display_data",
          "data": {
            "image/png": "[encoded data removed]",
            "text/plain": [
              "<Figure size 864x576 with 1 Axes>"
            ]
          },
          "metadata": {
            "tags": [],
            "needs_background": "light"
          }
        }
      ]
    },
    {
      "cell_type": "code",
      "metadata": {
        "id": "cyZquvvFRfwC"
      },
      "source": [
        ""
      ],
      "execution_count": null,
      "outputs": []
    }
  ]
}