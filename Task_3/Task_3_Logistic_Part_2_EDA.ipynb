{
 "cells": [
  {
   "cell_type": "markdown",
   "id": "prescribed-gabriel",
   "metadata": {},
   "source": [
    "# **Task 3: EDA for sellers and customers**"
   ]
  },
  {
   "cell_type": "code",
   "execution_count": 1,
   "id": "breeding-activity",
   "metadata": {},
   "outputs": [],
   "source": [
    "# Data processing\n",
    "import pandas as pd\n",
    "import numpy as np"
   ]
  },
  {
   "cell_type": "code",
   "execution_count": 2,
   "id": "moral-career",
   "metadata": {},
   "outputs": [],
   "source": [
    "# Data visualization\n",
    "import matplotlib.pyplot as plt\n",
    "import seaborn as sns\n",
    "import plotly.express as px"
   ]
  },
  {
   "cell_type": "code",
   "execution_count": 3,
   "id": "illegal-wednesday",
   "metadata": {},
   "outputs": [],
   "source": [
    "pd.set_option('display.max_columns', 500)\n",
    "pd.set_option('display.width', 1000)\n",
    "pd.options.mode.chained_assignment = None"
   ]
  },
  {
   "cell_type": "code",
   "execution_count": 4,
   "id": "active-violation",
   "metadata": {},
   "outputs": [],
   "source": [
    "# Increase default figure and font sizes for easier viewing.\n",
    "plt.style.use('seaborn-colorblind')\n",
    "sns.set_style('darkgrid')\n",
    "%matplotlib inline\n",
    "\n",
    "plt.rcParams['figure.figsize'] = (12, 6)\n",
    "plt.rcParams['font.size'] = 12"
   ]
  },
  {
   "cell_type": "markdown",
   "id": "clean-typing",
   "metadata": {},
   "source": [
    "## **Data importing and cleaning**"
   ]
  },
  {
   "cell_type": "code",
   "execution_count": 8,
   "id": "descending-establishment",
   "metadata": {},
   "outputs": [],
   "source": [
    "# This time we are going to import dataframe in an appropriate data types format\n",
    "data_all_agg = pd.read_csv('data_raw/data_all_agg.csv', \n",
    "                           index_col=0,\n",
    "                           dtype = {'order_id': str, \n",
    "                                    'seller_id': str, \n",
    "                                    'order_item_id': int, \n",
    "                                    'price': float, \n",
    "                                    'freight_value': float, \n",
    "                                    'product_weight_g':float, \n",
    "                                    'product_volume': float,\n",
    "                                    'customer_city':str,\n",
    "                                    'customer_state':str,\n",
    "                                    'customer_lat': float,\n",
    "                                    'customer_lng':float,\n",
    "                                    'seller_city':str,\n",
    "                                    'seller_state':str,\n",
    "                                    'seller_lat': float,\n",
    "                                    'seller_lng':float,\n",
    "                                    'distance_km':float,\n",
    "                                    'delivery_time':float,\n",
    "                                    'delivery_speed':float},\n",
    "                           parse_dates=['order_purchase_timestamp',\n",
    "                                         'order_approved_at',\n",
    "                                         'shipping_limit_date',\n",
    "                                         'order_delivered_carrier_date',\n",
    "                                         'order_delivered_customer_date',\n",
    "                                         'order_estimated_delivery_date'])"
   ]
  },
  {
   "cell_type": "code",
   "execution_count": 6,
   "id": "secondary-washer",
   "metadata": {},
   "outputs": [
    {
     "name": "stdout",
     "output_type": "stream",
     "text": [
      "<class 'pandas.core.frame.DataFrame'>\n",
      "RangeIndex: 94653 entries, 0 to 94652\n",
      "Data columns (total 27 columns):\n",
      " #   Column                         Non-Null Count  Dtype         \n",
      "---  ------                         --------------  -----         \n",
      " 0   Unnamed: 0                     94653 non-null  int64         \n",
      " 1   order_id                       94653 non-null  object        \n",
      " 2   seller_id                      94653 non-null  object        \n",
      " 3   order_item_id                  94653 non-null  int64         \n",
      " 4   price                          94653 non-null  float64       \n",
      " 5   freight_value                  94653 non-null  float64       \n",
      " 6   product_weight_g               94653 non-null  float64       \n",
      " 7   product_volume                 94653 non-null  float64       \n",
      " 8   customer_city                  94653 non-null  object        \n",
      " 9   customer_state                 94653 non-null  object        \n",
      " 10  customer_lat                   94653 non-null  float64       \n",
      " 11  customer_lng                   94653 non-null  float64       \n",
      " 12  seller_city                    94653 non-null  object        \n",
      " 13  seller_state                   94653 non-null  object        \n",
      " 14  seller_lat                     94653 non-null  float64       \n",
      " 15  seller_lng                     94653 non-null  float64       \n",
      " 16  order_purchase_timestamp       94653 non-null  datetime64[ns]\n",
      " 17  order_approved_at              94653 non-null  datetime64[ns]\n",
      " 18  shipping_limit_date            94653 non-null  datetime64[ns]\n",
      " 19  order_delivered_carrier_date   94653 non-null  datetime64[ns]\n",
      " 20  order_delivered_customer_date  94653 non-null  datetime64[ns]\n",
      " 21  order_estimated_delivery_date  94653 non-null  datetime64[ns]\n",
      " 22  distance_km                    94653 non-null  float64       \n",
      " 23  delivery_time                  94653 non-null  float64       \n",
      " 24  delivery_speed                 94653 non-null  float64       \n",
      " 25  delivery_time_hours            94653 non-null  float64       \n",
      " 26  delivery_time_days             94653 non-null  int64         \n",
      "dtypes: datetime64[ns](6), float64(12), int64(3), object(6)\n",
      "memory usage: 19.5+ MB\n"
     ]
    }
   ],
   "source": [
    "# Check dtypes\n",
    "data_all_agg.info()"
   ]
  },
  {
   "cell_type": "code",
   "execution_count": 9,
   "id": "similar-capture",
   "metadata": {},
   "outputs": [
    {
     "data": {
      "text/html": [
       "<div>\n",
       "<style scoped>\n",
       "    .dataframe tbody tr th:only-of-type {\n",
       "        vertical-align: middle;\n",
       "    }\n",
       "\n",
       "    .dataframe tbody tr th {\n",
       "        vertical-align: top;\n",
       "    }\n",
       "\n",
       "    .dataframe thead th {\n",
       "        text-align: right;\n",
       "    }\n",
       "</style>\n",
       "<table border=\"1\" class=\"dataframe\">\n",
       "  <thead>\n",
       "    <tr style=\"text-align: right;\">\n",
       "      <th></th>\n",
       "      <th>order_id</th>\n",
       "      <th>seller_id</th>\n",
       "      <th>order_item_id</th>\n",
       "      <th>price</th>\n",
       "      <th>freight_value</th>\n",
       "      <th>product_weight_g</th>\n",
       "      <th>product_volume</th>\n",
       "      <th>customer_city</th>\n",
       "      <th>customer_state</th>\n",
       "      <th>customer_lat</th>\n",
       "      <th>customer_lng</th>\n",
       "      <th>seller_city</th>\n",
       "      <th>seller_state</th>\n",
       "      <th>seller_lat</th>\n",
       "      <th>seller_lng</th>\n",
       "      <th>order_purchase_timestamp</th>\n",
       "      <th>order_approved_at</th>\n",
       "      <th>shipping_limit_date</th>\n",
       "      <th>order_delivered_carrier_date</th>\n",
       "      <th>order_delivered_customer_date</th>\n",
       "      <th>order_estimated_delivery_date</th>\n",
       "      <th>distance_km</th>\n",
       "      <th>delivery_time</th>\n",
       "      <th>delivery_speed</th>\n",
       "      <th>delivery_time_hours</th>\n",
       "      <th>delivery_time_days</th>\n",
       "    </tr>\n",
       "    <tr>\n",
       "      <th>Unnamed: 0</th>\n",
       "      <th></th>\n",
       "      <th></th>\n",
       "      <th></th>\n",
       "      <th></th>\n",
       "      <th></th>\n",
       "      <th></th>\n",
       "      <th></th>\n",
       "      <th></th>\n",
       "      <th></th>\n",
       "      <th></th>\n",
       "      <th></th>\n",
       "      <th></th>\n",
       "      <th></th>\n",
       "      <th></th>\n",
       "      <th></th>\n",
       "      <th></th>\n",
       "      <th></th>\n",
       "      <th></th>\n",
       "      <th></th>\n",
       "      <th></th>\n",
       "      <th></th>\n",
       "      <th></th>\n",
       "      <th></th>\n",
       "      <th></th>\n",
       "      <th></th>\n",
       "      <th></th>\n",
       "    </tr>\n",
       "  </thead>\n",
       "  <tbody>\n",
       "    <tr>\n",
       "      <th>0</th>\n",
       "      <td>00010242fe8c5a6d1ba2dd792cb16214</td>\n",
       "      <td>48436dade18ac8b2bce089ec2a041202</td>\n",
       "      <td>1</td>\n",
       "      <td>58.9</td>\n",
       "      <td>13.29</td>\n",
       "      <td>650.0</td>\n",
       "      <td>3528.0</td>\n",
       "      <td>campos dos goytacazes</td>\n",
       "      <td>RJ</td>\n",
       "      <td>-21.762775</td>\n",
       "      <td>-41.309633</td>\n",
       "      <td>volta redonda</td>\n",
       "      <td>SP</td>\n",
       "      <td>-22.496953</td>\n",
       "      <td>-44.127492</td>\n",
       "      <td>2017-09-13 08:59:02</td>\n",
       "      <td>2017-09-13 09:45:35</td>\n",
       "      <td>2017-09-19 09:45:35</td>\n",
       "      <td>2017-09-19 18:34:16</td>\n",
       "      <td>2017-09-20 23:43:48</td>\n",
       "      <td>2017-09-29</td>\n",
       "      <td>301.50</td>\n",
       "      <td>182.0</td>\n",
       "      <td>1.656593</td>\n",
       "      <td>182.0</td>\n",
       "      <td>7</td>\n",
       "    </tr>\n",
       "    <tr>\n",
       "      <th>1</th>\n",
       "      <td>00018f77f2f0320c557190d7a144bdd3</td>\n",
       "      <td>dd7ddc04e1b6c2c614352b383efe2d36</td>\n",
       "      <td>1</td>\n",
       "      <td>239.9</td>\n",
       "      <td>19.93</td>\n",
       "      <td>30000.0</td>\n",
       "      <td>60000.0</td>\n",
       "      <td>santa fe do sul</td>\n",
       "      <td>SP</td>\n",
       "      <td>-20.220527</td>\n",
       "      <td>-50.903424</td>\n",
       "      <td>sao paulo</td>\n",
       "      <td>SP</td>\n",
       "      <td>-23.565096</td>\n",
       "      <td>-46.518565</td>\n",
       "      <td>2017-04-26 10:53:06</td>\n",
       "      <td>2017-04-26 11:05:13</td>\n",
       "      <td>2017-05-03 11:05:13</td>\n",
       "      <td>2017-05-04 14:35:00</td>\n",
       "      <td>2017-05-12 16:04:24</td>\n",
       "      <td>2017-05-15</td>\n",
       "      <td>585.56</td>\n",
       "      <td>389.0</td>\n",
       "      <td>1.505296</td>\n",
       "      <td>389.0</td>\n",
       "      <td>16</td>\n",
       "    </tr>\n",
       "  </tbody>\n",
       "</table>\n",
       "</div>"
      ],
      "text/plain": [
       "                                    order_id                         seller_id  order_item_id  price  freight_value  product_weight_g  product_volume          customer_city customer_state  customer_lat  customer_lng    seller_city seller_state  seller_lat  seller_lng order_purchase_timestamp   order_approved_at shipping_limit_date order_delivered_carrier_date order_delivered_customer_date order_estimated_delivery_date  distance_km  delivery_time  delivery_speed  delivery_time_hours  delivery_time_days\n",
       "Unnamed: 0                                                                                                                                                                                                                                                                                                                                                                                                                                                                                                                \n",
       "0           00010242fe8c5a6d1ba2dd792cb16214  48436dade18ac8b2bce089ec2a041202              1   58.9          13.29             650.0          3528.0  campos dos goytacazes             RJ    -21.762775    -41.309633  volta redonda           SP  -22.496953  -44.127492      2017-09-13 08:59:02 2017-09-13 09:45:35 2017-09-19 09:45:35          2017-09-19 18:34:16           2017-09-20 23:43:48                    2017-09-29       301.50          182.0        1.656593                182.0                   7\n",
       "1           00018f77f2f0320c557190d7a144bdd3  dd7ddc04e1b6c2c614352b383efe2d36              1  239.9          19.93           30000.0         60000.0        santa fe do sul             SP    -20.220527    -50.903424      sao paulo           SP  -23.565096  -46.518565      2017-04-26 10:53:06 2017-04-26 11:05:13 2017-05-03 11:05:13          2017-05-04 14:35:00           2017-05-12 16:04:24                    2017-05-15       585.56          389.0        1.505296                389.0                  16"
      ]
     },
     "execution_count": 9,
     "metadata": {},
     "output_type": "execute_result"
    }
   ],
   "source": [
    "data_all_agg.head(2)"
   ]
  },
  {
   "cell_type": "markdown",
   "id": "white-petersburg",
   "metadata": {},
   "source": [
    "## **Sellers delivery analysis**"
   ]
  },
  {
   "cell_type": "code",
   "execution_count": 45,
   "id": "injured-preserve",
   "metadata": {},
   "outputs": [],
   "source": [
    "data_seller_del_sp.to_csv('data_raw/data_sellers_del_sp.csv')"
   ]
  },
  {
   "cell_type": "code",
   "execution_count": 15,
   "id": "recognized-performer",
   "metadata": {},
   "outputs": [
    {
     "data": {
      "text/html": [
       "<div>\n",
       "<style scoped>\n",
       "    .dataframe tbody tr th:only-of-type {\n",
       "        vertical-align: middle;\n",
       "    }\n",
       "\n",
       "    .dataframe tbody tr th {\n",
       "        vertical-align: top;\n",
       "    }\n",
       "\n",
       "    .dataframe thead th {\n",
       "        text-align: right;\n",
       "    }\n",
       "</style>\n",
       "<table border=\"1\" class=\"dataframe\">\n",
       "  <thead>\n",
       "    <tr style=\"text-align: right;\">\n",
       "      <th></th>\n",
       "      <th>seller_id</th>\n",
       "      <th>delivery_speed</th>\n",
       "    </tr>\n",
       "  </thead>\n",
       "  <tbody>\n",
       "    <tr>\n",
       "      <th>0</th>\n",
       "      <td>fa5fdc4e4bb6bd1009ad0e4ac4096562</td>\n",
       "      <td>13.752426</td>\n",
       "    </tr>\n",
       "    <tr>\n",
       "      <th>1</th>\n",
       "      <td>28872dc528e978a639754bc8c2ce5a4c</td>\n",
       "      <td>13.068229</td>\n",
       "    </tr>\n",
       "  </tbody>\n",
       "</table>\n",
       "</div>"
      ],
      "text/plain": [
       "                          seller_id  delivery_speed\n",
       "0  fa5fdc4e4bb6bd1009ad0e4ac4096562       13.752426\n",
       "1  28872dc528e978a639754bc8c2ce5a4c       13.068229"
      ]
     },
     "execution_count": 15,
     "metadata": {},
     "output_type": "execute_result"
    }
   ],
   "source": [
    "# create frame with top \n",
    "data_seller_del_sp = data_all_agg.groupby('seller_id').agg({'delivery_speed':'mean'}).sort_values(by=['delivery_speed'], ascending=False).reset_index()\n",
    "data_seller_del_sp.head(2)"
   ]
  },
  {
   "cell_type": "code",
   "execution_count": 78,
   "id": "corporate-orbit",
   "metadata": {},
   "outputs": [
    {
     "data": {
      "image/png": "[encoded data removed]",
      "text/plain": [
       "<Figure size 864x432 with 1 Axes>"
      ]
     },
     "metadata": {
      "needs_background": "light"
     },
     "output_type": "display_data"
    }
   ],
   "source": [
    "data_seller_del_sp.sort_values(by=['delivery_speed'])[-10:].plot(kind='barh')\n",
    "plt.title('The fastest sellers delivery speed rating', fontsize=20)\n",
    "plt.xlabel('Speed, km/hour', fontsize=18)\n",
    "plt.ylabel('Sellers', fontsize=18)\n",
    "plt.yticks([0, 1, 2, 3, 4 ,5, 6 ,7 ,8, 9], data_seller_del_sp.seller_id[:10])  # Set text labels and properties.\n",
    "plt.show();"
   ]
  },
  {
   "cell_type": "code",
   "execution_count": 44,
   "id": "stone-sally",
   "metadata": {},
   "outputs": [
    {
     "data": {
      "image/png": "[encoded data removed]",
      "text/plain": [
       "<Figure size 864x432 with 1 Axes>"
      ]
     },
     "metadata": {
      "needs_background": "light"
     },
     "output_type": "display_data"
    }
   ],
   "source": [
    "data_seller_del_sp.sort_values(by='delivery_speed', ascending=True)[:10].plot(kind='barh')\n",
    "plt.title('The slowest sellers delivery speed rating', fontsize=20)\n",
    "plt.xlabel('Speed, km/hour', fontsize=18)\n",
    "plt.ylabel('Sellers', fontsize=18)\n",
    "plt.yticks([0, 1, 2, 3, 4 ,5, 6 ,7 ,8, 9], data_seller_del_sp.seller_id[:])  # Set text labels and properties.\n",
    "plt.show();"
   ]
  },
  {
   "cell_type": "markdown",
   "id": "postal-heath",
   "metadata": {},
   "source": [
    "## **Sellers and customers delivery time and speed analysis**"
   ]
  },
  {
   "cell_type": "markdown",
   "id": "lonely-server",
   "metadata": {},
   "source": [
    "To capture critical geo points, we need to visualize them on the map. Only for this purpose we have to filter below the average delivery time and delivery speed"
   ]
  },
  {
   "cell_type": "code",
   "execution_count": 53,
   "id": "hidden-circular",
   "metadata": {},
   "outputs": [],
   "source": [
    "mean_del_time = data_all_agg.delivery_time.mean()\n",
    "mean_del_speed = data_all_agg.delivery_speed.mean()"
   ]
  },
  {
   "cell_type": "code",
   "execution_count": 80,
   "id": "connected-aruba",
   "metadata": {},
   "outputs": [
    {
     "data": {
      "application/vnd.plotly.v1+json": {
       "config": {
        "plotlyServerURL": "https://plot.ly"
       },
       "data": [
        {
         "hovertemplate": "customer_lat=%{lat}<br>customer_lng=%{lon}<br>delivery_time=%{marker.color}<extra></extra>",
         "lat": [
          -22.28531088541791,
          -8.014003597754705,
          -22.775193331957865,
          -22.069566562620427,
          -11.25353298652731,
          -4.990111113089043,
          -23.20410386960932,
          -14.279696054580535,
          -3.838402413855396,
          -22.91689708484025,
          -20.345030195796223,
          -10.9161786962848,
          -3.086199793453681,
          -21.24470863650576,
          -15.550183236860988,
          -10.99109302538438,
          -22.96914820115267,
          -23.48539708033281,
          2.796401433054506,
          -5.131798544100241,
          -22.78216791549053,
          -6.259324714082864,
          -23.55764745539649,
          -7.084785800609983,
          -23.52043844370904,
          -12.923438904843886,
          -12.979401136116156,
          -22.08162384952672,
          0.0333946008792229,
          -1.3215363047681985,
          -20.01085720737993,
          -23.179531489945607,
          -22.91103282131641,
          -23.561185904622896,
          -22.934576022997856,
          -4.717117343720794,
          -12.999525718314796,
          -22.9284131316606,
          -17.30608267043897,
          -6.852092560629193,
          -12.488128486464865,
          -21.19088563865416,
          -22.9661923608996,
          -29.68434895692012,
          -9.4332134455404,
          -22.936910913712644,
          -23.600609181469384,
          -20.01085720737993,
          -22.269903758517668,
          -13.8574648526584,
          -3.4961978403866927,
          -22.88548385187386,
          -23.634902556306105,
          -23.96194269902421,
          -11.314698067779764,
          -13.367204191409805,
          -6.525210475145849,
          -3.725711352106952,
          -27.00447650803857,
          -8.08011826711645,
          -23.669873484997385,
          -21.78007637120952,
          -22.934576022997856,
          -22.878636914963185,
          -11.29634043148977,
          -19.360654988886733,
          -23.01080349932642,
          -7.068379563936202,
          -11.430232476786514,
          -22.91439065092511,
          -18.131132996868345,
          -23.518635254069064,
          -19.24939653482508,
          -27.442895407783325,
          -22.948469100305584,
          -22.69400855622229,
          -23.71528473952517,
          -23.56165294846951,
          -9.5587427086405,
          -23.500142370129407,
          -7.997036690212408,
          -3.7378816901681575,
          -22.934576022997856,
          -29.48122530440761,
          -21.594340571750315,
          -22.930174278267906,
          -22.33939751193793,
          -19.87782692209869,
          -23.316305934989163,
          -23.504073903424537,
          -22.984439128577407,
          -8.441865196198224,
          -3.78088430675568,
          -24.59241160657905
         ],
         "legendgroup": "",
         "lon": [
          -42.52415219219638,
          -34.92925752375141,
          -43.38292984206083,
          -50.30397737674216,
          -39.37766198254968,
          -42.83546958068997,
          -46.8725900966585,
          -38.99380002052039,
          -38.51612072434251,
          -43.40278883313535,
          -40.28790374199651,
          -37.67161895543461,
          -59.97168356970081,
          -44.99920163943048,
          -47.32949631600096,
          -37.0606726416181,
          -43.38306523796816,
          -46.80979379414146,
          -60.68535501889281,
          -42.786188040750766,
          -47.17816106376935,
          -36.518752632087725,
          -46.93978258666856,
          -49.92163593911828,
          -46.6692371684404,
          -38.4633460841846,
          -38.49741792535076,
          -48.22036238417816,
          -51.06788438751215,
          -48.47228603185361,
          -40.79846476486159,
          -47.31338383666045,
          -43.06742681237905,
          -46.461300810487,
          -43.37578841332685,
          -44.32668695525109,
          -38.47484734217226,
          -43.24053818011483,
          -48.50168912522954,
          -35.490921511694495,
          -38.9930341658468,
          -48.156208788295054,
          -43.330734513875385,
          -53.81380324486171,
          -40.4961203502536,
          -43.36097335035078,
          -46.639783553158175,
          -40.79846476486159,
          -42.51971931487772,
          -40.10108406549886,
          -39.58093372474767,
          -43.45769280672658,
          -46.564837338912426,
          -46.38211637150603,
          -34.725129839453665,
          -39.07196625266378,
          -49.8727945934544,
          -40.99160875038256,
          -51.15253710423867,
          -34.9498360410337,
          -46.80204320628541,
          -48.15914226625744,
          -43.37578841332685,
          -43.08609614601049,
          -41.98876434561059,
          -47.28562643685492,
          -43.309886652481104,
          -34.842415611792,
          -40.59743564218765,
          -43.24569874883488,
          -40.35711188194904,
          -46.41380664707032,
          -40.518293109768535,
          -48.40148110687635,
          -43.364489898207424,
          -52.71970730503951,
          -46.59045718465921,
          -46.65602130430725,
          -35.7607238111778,
          -46.43458554897361,
          -34.90095324038228,
          -38.50270088014194,
          -43.37578841332685,
          -51.80817280859795,
          -48.811084255858304,
          -43.34644038809006,
          -41.75630392529991,
          -43.99542142919066,
          -45.94056912975552,
          -46.6376709347386,
          -43.221512713158894,
          -35.031331015635566,
          -38.65808525110107,
          -52.80415320094136
         ],
         "marker": {
          "color": [
           2311,
           3987,
           2542,
           3482,
           3318,
           4657,
           2855,
           2598,
           3419,
           5000,
           2392,
           4671,
           3333,
           3197,
           4345,
           4515,
           2515,
           2071,
           4131,
           4676,
           4556,
           4177,
           2391,
           2558,
           2108,
           2600,
           3511,
           2003,
           4492,
           4695,
           3441,
           4595,
           2260,
           2398,
           2277,
           4033,
           4030,
           2764,
           2999,
           2452,
           2007,
           2552,
           3960,
           4383,
           3024,
           2339,
           2310,
           3282,
           2086,
           3407,
           2195,
           2064,
           2528,
           2569,
           2010,
           4022,
           2064,
           2648,
           2356,
           2159,
           3120,
           2427,
           3170,
           2036,
           3136,
           4505,
           3149,
           2067,
           3247,
           2031,
           5031,
           2020,
           3556,
           2226,
           2043,
           2339,
           4205,
           2472,
           2183,
           2517,
           2020,
           4036,
           2117,
           4469,
           2490,
           2575,
           2635,
           2811,
           4155,
           2417,
           2041,
           2065,
           2493,
           2060
          ],
          "coloraxis": "coloraxis"
         },
         "mode": "markers",
         "name": "",
         "showlegend": false,
         "subplot": "mapbox",
         "type": "scattermapbox"
        }
       ],
       "layout": {
        "autosize": true,
        "coloraxis": {
         "colorbar": {
          "title": {
           "text": "delivery_time"
          }
         },
         "colorscale": [
          [
           0,
           "#000000"
          ],
          [
           0.0625,
           "#001f4d"
          ],
          [
           0.125,
           "#003786"
          ],
          [
           0.1875,
           "#0e58a8"
          ],
          [
           0.25,
           "#217eb8"
          ],
          [
           0.3125,
           "#30a4ca"
          ],
          [
           0.375,
           "#54c8df"
          ],
          [
           0.4375,
           "#9be4ef"
          ],
          [
           0.5,
           "#e1e9d1"
          ],
          [
           0.5625,
           "#f3d573"
          ],
          [
           0.625,
           "#e7b000"
          ],
          [
           0.6875,
           "#da8200"
          ],
          [
           0.75,
           "#c65400"
          ],
          [
           0.8125,
           "#ac2301"
          ],
          [
           0.875,
           "#820000"
          ],
          [
           0.9375,
           "#4c0000"
          ],
          [
           1,
           "#000000"
          ]
         ]
        },
        "legend": {
         "tracegroupgap": 0
        },
        "mapbox": {
         "bearing": 0,
         "center": {
          "lat": -16.98977407844563,
          "lon": -43.816838115668205
         },
         "domain": {
          "x": [
           0,
           1
          ],
          "y": [
           0,
           1
          ]
         },
         "pitch": 0,
         "style": "carto-positron",
         "zoom": 2
        },
        "template": {
         "data": {
          "bar": [
           {
            "error_x": {
             "color": "#2a3f5f"
            },
            "error_y": {
             "color": "#2a3f5f"
            },
            "marker": {
             "line": {
              "color": "#E5ECF6",
              "width": 0.5
             },
             "pattern": {
              "fillmode": "overlay",
              "size": 10,
              "solidity": 0.2
             }
            },
            "type": "bar"
           }
          ],
          "barpolar": [
           {
            "marker": {
             "line": {
              "color": "#E5ECF6",
              "width": 0.5
             },
             "pattern": {
              "fillmode": "overlay",
              "size": 10,
              "solidity": 0.2
             }
            },
            "type": "barpolar"
           }
          ],
          "carpet": [
           {
            "aaxis": {
             "endlinecolor": "#2a3f5f",
             "gridcolor": "white",
             "linecolor": "white",
             "minorgridcolor": "white",
             "startlinecolor": "#2a3f5f"
            },
            "baxis": {
             "endlinecolor": "#2a3f5f",
             "gridcolor": "white",
             "linecolor": "white",
             "minorgridcolor": "white",
             "startlinecolor": "#2a3f5f"
            },
            "type": "carpet"
           }
          ],
          "choropleth": [
           {
            "colorbar": {
             "outlinewidth": 0,
             "ticks": ""
            },
            "type": "choropleth"
           }
          ],
          "contour": [
           {
            "colorbar": {
             "outlinewidth": 0,
             "ticks": ""
            },
            "colorscale": [
             [
              0,
              "#0d0887"
             ],
             [
              0.1111111111111111,
              "#46039f"
             ],
             [
              0.2222222222222222,
              "#7201a8"
             ],
             [
              0.3333333333333333,
              "#9c179e"
             ],
             [
              0.4444444444444444,
              "#bd3786"
             ],
             [
              0.5555555555555556,
              "#d8576b"
             ],
             [
              0.6666666666666666,
              "#ed7953"
             ],
             [
              0.7777777777777778,
              "#fb9f3a"
             ],
             [
              0.8888888888888888,
              "#fdca26"
             ],
             [
              1,
              "#f0f921"
             ]
            ],
            "type": "contour"
           }
          ],
          "contourcarpet": [
           {
            "colorbar": {
             "outlinewidth": 0,
             "ticks": ""
            },
            "type": "contourcarpet"
           }
          ],
          "heatmap": [
           {
            "colorbar": {
             "outlinewidth": 0,
             "ticks": ""
            },
            "colorscale": [
             [
              0,
              "#0d0887"
             ],
             [
              0.1111111111111111,
              "#46039f"
             ],
             [
              0.2222222222222222,
              "#7201a8"
             ],
             [
              0.3333333333333333,
              "#9c179e"
             ],
             [
              0.4444444444444444,
              "#bd3786"
             ],
             [
              0.5555555555555556,
              "#d8576b"
             ],
             [
              0.6666666666666666,
              "#ed7953"
             ],
             [
              0.7777777777777778,
              "#fb9f3a"
             ],
             [
              0.8888888888888888,
              "#fdca26"
             ],
             [
              1,
              "#f0f921"
             ]
            ],
            "type": "heatmap"
           }
          ],
          "heatmapgl": [
           {
            "colorbar": {
             "outlinewidth": 0,
             "ticks": ""
            },
            "colorscale": [
             [
              0,
              "#0d0887"
             ],
             [
              0.1111111111111111,
              "#46039f"
             ],
             [
              0.2222222222222222,
              "#7201a8"
             ],
             [
              0.3333333333333333,
              "#9c179e"
             ],
             [
              0.4444444444444444,
              "#bd3786"
             ],
             [
              0.5555555555555556,
              "#d8576b"
             ],
             [
              0.6666666666666666,
              "#ed7953"
             ],
             [
              0.7777777777777778,
              "#fb9f3a"
             ],
             [
              0.8888888888888888,
              "#fdca26"
             ],
             [
              1,
              "#f0f921"
             ]
            ],
            "type": "heatmapgl"
           }
          ],
          "histogram": [
           {
            "marker": {
             "pattern": {
              "fillmode": "overlay",
              "size": 10,
              "solidity": 0.2
             }
            },
            "type": "histogram"
           }
          ],
          "histogram2d": [
           {
            "colorbar": {
             "outlinewidth": 0,
             "ticks": ""
            },
            "colorscale": [
             [
              0,
              "#0d0887"
             ],
             [
              0.1111111111111111,
              "#46039f"
             ],
             [
              0.2222222222222222,
              "#7201a8"
             ],
             [
              0.3333333333333333,
              "#9c179e"
             ],
             [
              0.4444444444444444,
              "#bd3786"
             ],
             [
              0.5555555555555556,
              "#d8576b"
             ],
             [
              0.6666666666666666,
              "#ed7953"
             ],
             [
              0.7777777777777778,
              "#fb9f3a"
             ],
             [
              0.8888888888888888,
              "#fdca26"
             ],
             [
              1,
              "#f0f921"
             ]
            ],
            "type": "histogram2d"
           }
          ],
          "histogram2dcontour": [
           {
            "colorbar": {
             "outlinewidth": 0,
             "ticks": ""
            },
            "colorscale": [
             [
              0,
              "#0d0887"
             ],
             [
              0.1111111111111111,
              "#46039f"
             ],
             [
              0.2222222222222222,
              "#7201a8"
             ],
             [
              0.3333333333333333,
              "#9c179e"
             ],
             [
              0.4444444444444444,
              "#bd3786"
             ],
             [
              0.5555555555555556,
              "#d8576b"
             ],
             [
              0.6666666666666666,
              "#ed7953"
             ],
             [
              0.7777777777777778,
              "#fb9f3a"
             ],
             [
              0.8888888888888888,
              "#fdca26"
             ],
             [
              1,
              "#f0f921"
             ]
            ],
            "type": "histogram2dcontour"
           }
          ],
          "mesh3d": [
           {
            "colorbar": {
             "outlinewidth": 0,
             "ticks": ""
            },
            "type": "mesh3d"
           }
          ],
          "parcoords": [
           {
            "line": {
             "colorbar": {
              "outlinewidth": 0,
              "ticks": ""
             }
            },
            "type": "parcoords"
           }
          ],
          "pie": [
           {
            "automargin": true,
            "type": "pie"
           }
          ],
          "scatter": [
           {
            "marker": {
             "colorbar": {
              "outlinewidth": 0,
              "ticks": ""
             }
            },
            "type": "scatter"
           }
          ],
          "scatter3d": [
           {
            "line": {
             "colorbar": {
              "outlinewidth": 0,
              "ticks": ""
             }
            },
            "marker": {
             "colorbar": {
              "outlinewidth": 0,
              "ticks": ""
             }
            },
            "type": "scatter3d"
           }
          ],
          "scattercarpet": [
           {
            "marker": {
             "colorbar": {
              "outlinewidth": 0,
              "ticks": ""
             }
            },
            "type": "scattercarpet"
           }
          ],
          "scattergeo": [
           {
            "marker": {
             "colorbar": {
              "outlinewidth": 0,
              "ticks": ""
             }
            },
            "type": "scattergeo"
           }
          ],
          "scattergl": [
           {
            "marker": {
             "colorbar": {
              "outlinewidth": 0,
              "ticks": ""
             }
            },
            "type": "scattergl"
           }
          ],
          "scattermapbox": [
           {
            "marker": {
             "colorbar": {
              "outlinewidth": 0,
              "ticks": ""
             }
            },
            "type": "scattermapbox"
           }
          ],
          "scatterpolar": [
           {
            "marker": {
             "colorbar": {
              "outlinewidth": 0,
              "ticks": ""
             }
            },
            "type": "scatterpolar"
           }
          ],
          "scatterpolargl": [
           {
            "marker": {
             "colorbar": {
              "outlinewidth": 0,
              "ticks": ""
             }
            },
            "type": "scatterpolargl"
           }
          ],
          "scatterternary": [
           {
            "marker": {
             "colorbar": {
              "outlinewidth": 0,
              "ticks": ""
             }
            },
            "type": "scatterternary"
           }
          ],
          "surface": [
           {
            "colorbar": {
             "outlinewidth": 0,
             "ticks": ""
            },
            "colorscale": [
             [
              0,
              "#0d0887"
             ],
             [
              0.1111111111111111,
              "#46039f"
             ],
             [
              0.2222222222222222,
              "#7201a8"
             ],
             [
              0.3333333333333333,
              "#9c179e"
             ],
             [
              0.4444444444444444,
              "#bd3786"
             ],
             [
              0.5555555555555556,
              "#d8576b"
             ],
             [
              0.6666666666666666,
              "#ed7953"
             ],
             [
              0.7777777777777778,
              "#fb9f3a"
             ],
             [
              0.8888888888888888,
              "#fdca26"
             ],
             [
              1,
              "#f0f921"
             ]
            ],
            "type": "surface"
           }
          ],
          "table": [
           {
            "cells": {
             "fill": {
              "color": "#EBF0F8"
             },
             "line": {
              "color": "white"
             }
            },
            "header": {
             "fill": {
              "color": "#C8D4E3"
             },
             "line": {
              "color": "white"
             }
            },
            "type": "table"
           }
          ]
         },
         "layout": {
          "annotationdefaults": {
           "arrowcolor": "#2a3f5f",
           "arrowhead": 0,
           "arrowwidth": 1
          },
          "autotypenumbers": "strict",
          "coloraxis": {
           "colorbar": {
            "outlinewidth": 0,
            "ticks": ""
           }
          },
          "colorscale": {
           "diverging": [
            [
             0,
             "#8e0152"
            ],
            [
             0.1,
             "#c51b7d"
            ],
            [
             0.2,
             "#de77ae"
            ],
            [
             0.3,
             "#f1b6da"
            ],
            [
             0.4,
             "#fde0ef"
            ],
            [
             0.5,
             "#f7f7f7"
            ],
            [
             0.6,
             "#e6f5d0"
            ],
            [
             0.7,
             "#b8e186"
            ],
            [
             0.8,
             "#7fbc41"
            ],
            [
             0.9,
             "#4d9221"
            ],
            [
             1,
             "#276419"
            ]
           ],
           "sequential": [
            [
             0,
             "#0d0887"
            ],
            [
             0.1111111111111111,
             "#46039f"
            ],
            [
             0.2222222222222222,
             "#7201a8"
            ],
            [
             0.3333333333333333,
             "#9c179e"
            ],
            [
             0.4444444444444444,
             "#bd3786"
            ],
            [
             0.5555555555555556,
             "#d8576b"
            ],
            [
             0.6666666666666666,
             "#ed7953"
            ],
            [
             0.7777777777777778,
             "#fb9f3a"
            ],
            [
             0.8888888888888888,
             "#fdca26"
            ],
            [
             1,
             "#f0f921"
            ]
           ],
           "sequentialminus": [
            [
             0,
             "#0d0887"
            ],
            [
             0.1111111111111111,
             "#46039f"
            ],
            [
             0.2222222222222222,
             "#7201a8"
            ],
            [
             0.3333333333333333,
             "#9c179e"
            ],
            [
             0.4444444444444444,
             "#bd3786"
            ],
            [
             0.5555555555555556,
             "#d8576b"
            ],
            [
             0.6666666666666666,
             "#ed7953"
            ],
            [
             0.7777777777777778,
             "#fb9f3a"
            ],
            [
             0.8888888888888888,
             "#fdca26"
            ],
            [
             1,
             "#f0f921"
            ]
           ]
          },
          "colorway": [
           "#636efa",
           "#EF553B",
           "#00cc96",
           "#ab63fa",
           "#FFA15A",
           "#19d3f3",
           "#FF6692",
           "#B6E880",
           "#FF97FF",
           "#FECB52"
          ],
          "font": {
           "color": "#2a3f5f"
          },
          "geo": {
           "bgcolor": "white",
           "lakecolor": "white",
           "landcolor": "#E5ECF6",
           "showlakes": true,
           "showland": true,
           "subunitcolor": "white"
          },
          "hoverlabel": {
           "align": "left"
          },
          "hovermode": "closest",
          "mapbox": {
           "style": "light"
          },
          "paper_bgcolor": "white",
          "plot_bgcolor": "#E5ECF6",
          "polar": {
           "angularaxis": {
            "gridcolor": "white",
            "linecolor": "white",
            "ticks": ""
           },
           "bgcolor": "#E5ECF6",
           "radialaxis": {
            "gridcolor": "white",
            "linecolor": "white",
            "ticks": ""
           }
          },
          "scene": {
           "xaxis": {
            "backgroundcolor": "#E5ECF6",
            "gridcolor": "white",
            "gridwidth": 2,
            "linecolor": "white",
            "showbackground": true,
            "ticks": "",
            "zerolinecolor": "white"
           },
           "yaxis": {
            "backgroundcolor": "#E5ECF6",
            "gridcolor": "white",
            "gridwidth": 2,
            "linecolor": "white",
            "showbackground": true,
            "ticks": "",
            "zerolinecolor": "white"
           },
           "zaxis": {
            "backgroundcolor": "#E5ECF6",
            "gridcolor": "white",
            "gridwidth": 2,
            "linecolor": "white",
            "showbackground": true,
            "ticks": "",
            "zerolinecolor": "white"
           }
          },
          "shapedefaults": {
           "line": {
            "color": "#2a3f5f"
           }
          },
          "ternary": {
           "aaxis": {
            "gridcolor": "white",
            "linecolor": "white",
            "ticks": ""
           },
           "baxis": {
            "gridcolor": "white",
            "linecolor": "white",
            "ticks": ""
           },
           "bgcolor": "#E5ECF6",
           "caxis": {
            "gridcolor": "white",
            "linecolor": "white",
            "ticks": ""
           }
          },
          "title": {
           "x": 0.05
          },
          "xaxis": {
           "automargin": true,
           "gridcolor": "white",
           "linecolor": "white",
           "ticks": "",
           "title": {
            "standoff": 15
           },
           "zerolinecolor": "white",
           "zerolinewidth": 2
          },
          "yaxis": {
           "automargin": true,
           "gridcolor": "white",
           "linecolor": "white",
           "ticks": "",
           "title": {
            "standoff": 15
           },
           "zerolinecolor": "white",
           "zerolinewidth": 2
          }
         }
        },
        "title": {
         "text": "Location of the customers with the longest delivery time"
        }
       }
      },
      "image/png": "[encoded data removed]",
      "text/html": [
       "<div>                            <div id=\"3831c6c3-21da-4957-bde4-5ba365b0cfcf\" class=\"plotly-graph-div\" style=\"height:525px; width:100%;\"></div>            <script type=\"text/javascript\">                require([\"plotly\"], function(Plotly) {                    window.PLOTLYENV=window.PLOTLYENV || {};                                    if (document.getElementById(\"3831c6c3-21da-4957-bde4-5ba365b0cfcf\")) {                    Plotly.newPlot(                        \"3831c6c3-21da-4957-bde4-5ba365b0cfcf\",                        [{\"hovertemplate\":\"customer_lat=%{lat}<br>customer_lng=%{lon}<br>delivery_time=%{marker.color}<extra></extra>\",\"lat\":[-22.28531088541791,-8.014003597754705,-22.775193331957865,-22.069566562620427,-11.25353298652731,-4.990111113089043,-23.20410386960932,-14.279696054580535,-3.838402413855396,-22.91689708484025,-20.345030195796223,-10.9161786962848,-3.086199793453681,-21.24470863650576,-15.550183236860988,-10.99109302538438,-22.96914820115267,-23.48539708033281,2.796401433054506,-5.131798544100241,-22.78216791549053,-6.259324714082864,-23.55764745539649,-7.084785800609983,-23.52043844370904,-12.923438904843886,-12.979401136116156,-22.08162384952672,0.0333946008792229,-1.3215363047681985,-20.01085720737993,-23.179531489945607,-22.91103282131641,-23.561185904622896,-22.934576022997856,-4.717117343720794,-12.999525718314796,-22.9284131316606,-17.30608267043897,-6.852092560629193,-12.488128486464865,-21.19088563865416,-22.9661923608996,-29.68434895692012,-9.4332134455404,-22.936910913712644,-23.600609181469384,-20.01085720737993,-22.269903758517668,-13.8574648526584,-3.4961978403866927,-22.88548385187386,-23.634902556306105,-23.96194269902421,-11.314698067779764,-13.367204191409805,-6.525210475145849,-3.725711352106952,-27.00447650803857,-8.08011826711645,-23.669873484997385,-21.78007637120952,-22.934576022997856,-22.878636914963185,-11.29634043148977,-19.360654988886733,-23.01080349932642,-7.068379563936202,-11.430232476786514,-22.91439065092511,-18.131132996868345,-23.518635254069064,-19.24939653482508,-27.442895407783325,-22.948469100305584,-22.69400855622229,-23.71528473952517,-23.56165294846951,-9.5587427086405,-23.500142370129407,-7.997036690212408,-3.7378816901681575,-22.934576022997856,-29.48122530440761,-21.594340571750315,-22.930174278267906,-22.33939751193793,-19.87782692209869,-23.316305934989163,-23.504073903424537,-22.984439128577407,-8.441865196198224,-3.78088430675568,-24.59241160657905],\"legendgroup\":\"\",\"lon\":[-42.52415219219638,-34.92925752375141,-43.38292984206083,-50.30397737674216,-39.37766198254968,-42.83546958068997,-46.8725900966585,-38.99380002052039,-38.51612072434251,-43.40278883313535,-40.28790374199651,-37.67161895543461,-59.97168356970081,-44.99920163943048,-47.32949631600096,-37.0606726416181,-43.38306523796816,-46.80979379414146,-60.68535501889281,-42.786188040750766,-47.17816106376935,-36.518752632087725,-46.93978258666856,-49.92163593911828,-46.6692371684404,-38.4633460841846,-38.49741792535076,-48.22036238417816,-51.06788438751215,-48.47228603185361,-40.79846476486159,-47.31338383666045,-43.06742681237905,-46.461300810487,-43.37578841332685,-44.32668695525109,-38.47484734217226,-43.24053818011483,-48.50168912522954,-35.490921511694495,-38.9930341658468,-48.156208788295054,-43.330734513875385,-53.81380324486171,-40.4961203502536,-43.36097335035078,-46.639783553158175,-40.79846476486159,-42.51971931487772,-40.10108406549886,-39.58093372474767,-43.45769280672658,-46.564837338912426,-46.38211637150603,-34.725129839453665,-39.07196625266378,-49.8727945934544,-40.99160875038256,-51.15253710423867,-34.9498360410337,-46.80204320628541,-48.15914226625744,-43.37578841332685,-43.08609614601049,-41.98876434561059,-47.28562643685492,-43.309886652481104,-34.842415611792,-40.59743564218765,-43.24569874883488,-40.35711188194904,-46.41380664707032,-40.518293109768535,-48.40148110687635,-43.364489898207424,-52.71970730503951,-46.59045718465921,-46.65602130430725,-35.7607238111778,-46.43458554897361,-34.90095324038228,-38.50270088014194,-43.37578841332685,-51.80817280859795,-48.811084255858304,-43.34644038809006,-41.75630392529991,-43.99542142919066,-45.94056912975552,-46.6376709347386,-43.221512713158894,-35.031331015635566,-38.65808525110107,-52.80415320094136],\"marker\":{\"color\":[2311.0,3987.0,2542.0,3482.0,3318.0,4657.0,2855.0,2598.0,3419.0,5000.0,2392.0,4671.0,3333.0,3197.0,4345.0,4515.0,2515.0,2071.0,4131.0,4676.0,4556.0,4177.0,2391.0,2558.0,2108.0,2600.0,3511.0,2003.0,4492.0,4695.0,3441.0,4595.0,2260.0,2398.0,2277.0,4033.0,4030.0,2764.0,2999.0,2452.0,2007.0,2552.0,3960.0,4383.0,3024.0,2339.0,2310.0,3282.0,2086.0,3407.0,2195.0,2064.0,2528.0,2569.0,2010.0,4022.0,2064.0,2648.0,2356.0,2159.0,3120.0,2427.0,3170.0,2036.0,3136.0,4505.0,3149.0,2067.0,3247.0,2031.0,5031.0,2020.0,3556.0,2226.0,2043.0,2339.0,4205.0,2472.0,2183.0,2517.0,2020.0,4036.0,2117.0,4469.0,2490.0,2575.0,2635.0,2811.0,4155.0,2417.0,2041.0,2065.0,2493.0,2060.0],\"coloraxis\":\"coloraxis\"},\"mode\":\"markers\",\"name\":\"\",\"showlegend\":false,\"subplot\":\"mapbox\",\"type\":\"scattermapbox\"}],                        {\"coloraxis\":{\"colorbar\":{\"title\":{\"text\":\"delivery_time\"}},\"colorscale\":[[0.0,\"#000000\"],[0.0625,\"#001f4d\"],[0.125,\"#003786\"],[0.1875,\"#0e58a8\"],[0.25,\"#217eb8\"],[0.3125,\"#30a4ca\"],[0.375,\"#54c8df\"],[0.4375,\"#9be4ef\"],[0.5,\"#e1e9d1\"],[0.5625,\"#f3d573\"],[0.625,\"#e7b000\"],[0.6875,\"#da8200\"],[0.75,\"#c65400\"],[0.8125,\"#ac2301\"],[0.875,\"#820000\"],[0.9375,\"#4c0000\"],[1.0,\"#000000\"]]},\"legend\":{\"tracegroupgap\":0},\"mapbox\":{\"center\":{\"lat\":-16.98977407844563,\"lon\":-43.816838115668205},\"domain\":{\"x\":[0.0,1.0],\"y\":[0.0,1.0]},\"style\":\"carto-positron\",\"zoom\":2},\"template\":{\"data\":{\"bar\":[{\"error_x\":{\"color\":\"#2a3f5f\"},\"error_y\":{\"color\":\"#2a3f5f\"},\"marker\":{\"line\":{\"color\":\"#E5ECF6\",\"width\":0.5},\"pattern\":{\"fillmode\":\"overlay\",\"size\":10,\"solidity\":0.2}},\"type\":\"bar\"}],\"barpolar\":[{\"marker\":{\"line\":{\"color\":\"#E5ECF6\",\"width\":0.5},\"pattern\":{\"fillmode\":\"overlay\",\"size\":10,\"solidity\":0.2}},\"type\":\"barpolar\"}],\"carpet\":[{\"aaxis\":{\"endlinecolor\":\"#2a3f5f\",\"gridcolor\":\"white\",\"linecolor\":\"white\",\"minorgridcolor\":\"white\",\"startlinecolor\":\"#2a3f5f\"},\"baxis\":{\"endlinecolor\":\"#2a3f5f\",\"gridcolor\":\"white\",\"linecolor\":\"white\",\"minorgridcolor\":\"white\",\"startlinecolor\":\"#2a3f5f\"},\"type\":\"carpet\"}],\"choropleth\":[{\"colorbar\":{\"outlinewidth\":0,\"ticks\":\"\"},\"type\":\"choropleth\"}],\"contour\":[{\"colorbar\":{\"outlinewidth\":0,\"ticks\":\"\"},\"colorscale\":[[0.0,\"#0d0887\"],[0.1111111111111111,\"#46039f\"],[0.2222222222222222,\"#7201a8\"],[0.3333333333333333,\"#9c179e\"],[0.4444444444444444,\"#bd3786\"],[0.5555555555555556,\"#d8576b\"],[0.6666666666666666,\"#ed7953\"],[0.7777777777777778,\"#fb9f3a\"],[0.8888888888888888,\"#fdca26\"],[1.0,\"#f0f921\"]],\"type\":\"contour\"}],\"contourcarpet\":[{\"colorbar\":{\"outlinewidth\":0,\"ticks\":\"\"},\"type\":\"contourcarpet\"}],\"heatmap\":[{\"colorbar\":{\"outlinewidth\":0,\"ticks\":\"\"},\"colorscale\":[[0.0,\"#0d0887\"],[0.1111111111111111,\"#46039f\"],[0.2222222222222222,\"#7201a8\"],[0.3333333333333333,\"#9c179e\"],[0.4444444444444444,\"#bd3786\"],[0.5555555555555556,\"#d8576b\"],[0.6666666666666666,\"#ed7953\"],[0.7777777777777778,\"#fb9f3a\"],[0.8888888888888888,\"#fdca26\"],[1.0,\"#f0f921\"]],\"type\":\"heatmap\"}],\"heatmapgl\":[{\"colorbar\":{\"outlinewidth\":0,\"ticks\":\"\"},\"colorscale\":[[0.0,\"#0d0887\"],[0.1111111111111111,\"#46039f\"],[0.2222222222222222,\"#7201a8\"],[0.3333333333333333,\"#9c179e\"],[0.4444444444444444,\"#bd3786\"],[0.5555555555555556,\"#d8576b\"],[0.6666666666666666,\"#ed7953\"],[0.7777777777777778,\"#fb9f3a\"],[0.8888888888888888,\"#fdca26\"],[1.0,\"#f0f921\"]],\"type\":\"heatmapgl\"}],\"histogram\":[{\"marker\":{\"pattern\":{\"fillmode\":\"overlay\",\"size\":10,\"solidity\":0.2}},\"type\":\"histogram\"}],\"histogram2d\":[{\"colorbar\":{\"outlinewidth\":0,\"ticks\":\"\"},\"colorscale\":[[0.0,\"#0d0887\"],[0.1111111111111111,\"#46039f\"],[0.2222222222222222,\"#7201a8\"],[0.3333333333333333,\"#9c179e\"],[0.4444444444444444,\"#bd3786\"],[0.5555555555555556,\"#d8576b\"],[0.6666666666666666,\"#ed7953\"],[0.7777777777777778,\"#fb9f3a\"],[0.8888888888888888,\"#fdca26\"],[1.0,\"#f0f921\"]],\"type\":\"histogram2d\"}],\"histogram2dcontour\":[{\"colorbar\":{\"outlinewidth\":0,\"ticks\":\"\"},\"colorscale\":[[0.0,\"#0d0887\"],[0.1111111111111111,\"#46039f\"],[0.2222222222222222,\"#7201a8\"],[0.3333333333333333,\"#9c179e\"],[0.4444444444444444,\"#bd3786\"],[0.5555555555555556,\"#d8576b\"],[0.6666666666666666,\"#ed7953\"],[0.7777777777777778,\"#fb9f3a\"],[0.8888888888888888,\"#fdca26\"],[1.0,\"#f0f921\"]],\"type\":\"histogram2dcontour\"}],\"mesh3d\":[{\"colorbar\":{\"outlinewidth\":0,\"ticks\":\"\"},\"type\":\"mesh3d\"}],\"parcoords\":[{\"line\":{\"colorbar\":{\"outlinewidth\":0,\"ticks\":\"\"}},\"type\":\"parcoords\"}],\"pie\":[{\"automargin\":true,\"type\":\"pie\"}],\"scatter\":[{\"marker\":{\"colorbar\":{\"outlinewidth\":0,\"ticks\":\"\"}},\"type\":\"scatter\"}],\"scatter3d\":[{\"line\":{\"colorbar\":{\"outlinewidth\":0,\"ticks\":\"\"}},\"marker\":{\"colorbar\":{\"outlinewidth\":0,\"ticks\":\"\"}},\"type\":\"scatter3d\"}],\"scattercarpet\":[{\"marker\":{\"colorbar\":{\"outlinewidth\":0,\"ticks\":\"\"}},\"type\":\"scattercarpet\"}],\"scattergeo\":[{\"marker\":{\"colorbar\":{\"outlinewidth\":0,\"ticks\":\"\"}},\"type\":\"scattergeo\"}],\"scattergl\":[{\"marker\":{\"colorbar\":{\"outlinewidth\":0,\"ticks\":\"\"}},\"type\":\"scattergl\"}],\"scattermapbox\":[{\"marker\":{\"colorbar\":{\"outlinewidth\":0,\"ticks\":\"\"}},\"type\":\"scattermapbox\"}],\"scatterpolar\":[{\"marker\":{\"colorbar\":{\"outlinewidth\":0,\"ticks\":\"\"}},\"type\":\"scatterpolar\"}],\"scatterpolargl\":[{\"marker\":{\"colorbar\":{\"outlinewidth\":0,\"ticks\":\"\"}},\"type\":\"scatterpolargl\"}],\"scatterternary\":[{\"marker\":{\"colorbar\":{\"outlinewidth\":0,\"ticks\":\"\"}},\"type\":\"scatterternary\"}],\"surface\":[{\"colorbar\":{\"outlinewidth\":0,\"ticks\":\"\"},\"colorscale\":[[0.0,\"#0d0887\"],[0.1111111111111111,\"#46039f\"],[0.2222222222222222,\"#7201a8\"],[0.3333333333333333,\"#9c179e\"],[0.4444444444444444,\"#bd3786\"],[0.5555555555555556,\"#d8576b\"],[0.6666666666666666,\"#ed7953\"],[0.7777777777777778,\"#fb9f3a\"],[0.8888888888888888,\"#fdca26\"],[1.0,\"#f0f921\"]],\"type\":\"surface\"}],\"table\":[{\"cells\":{\"fill\":{\"color\":\"#EBF0F8\"},\"line\":{\"color\":\"white\"}},\"header\":{\"fill\":{\"color\":\"#C8D4E3\"},\"line\":{\"color\":\"white\"}},\"type\":\"table\"}]},\"layout\":{\"annotationdefaults\":{\"arrowcolor\":\"#2a3f5f\",\"arrowhead\":0,\"arrowwidth\":1},\"autotypenumbers\":\"strict\",\"coloraxis\":{\"colorbar\":{\"outlinewidth\":0,\"ticks\":\"\"}},\"colorscale\":{\"diverging\":[[0,\"#8e0152\"],[0.1,\"#c51b7d\"],[0.2,\"#de77ae\"],[0.3,\"#f1b6da\"],[0.4,\"#fde0ef\"],[0.5,\"#f7f7f7\"],[0.6,\"#e6f5d0\"],[0.7,\"#b8e186\"],[0.8,\"#7fbc41\"],[0.9,\"#4d9221\"],[1,\"#276419\"]],\"sequential\":[[0.0,\"#0d0887\"],[0.1111111111111111,\"#46039f\"],[0.2222222222222222,\"#7201a8\"],[0.3333333333333333,\"#9c179e\"],[0.4444444444444444,\"#bd3786\"],[0.5555555555555556,\"#d8576b\"],[0.6666666666666666,\"#ed7953\"],[0.7777777777777778,\"#fb9f3a\"],[0.8888888888888888,\"#fdca26\"],[1.0,\"#f0f921\"]],\"sequentialminus\":[[0.0,\"#0d0887\"],[0.1111111111111111,\"#46039f\"],[0.2222222222222222,\"#7201a8\"],[0.3333333333333333,\"#9c179e\"],[0.4444444444444444,\"#bd3786\"],[0.5555555555555556,\"#d8576b\"],[0.6666666666666666,\"#ed7953\"],[0.7777777777777778,\"#fb9f3a\"],[0.8888888888888888,\"#fdca26\"],[1.0,\"#f0f921\"]]},\"colorway\":[\"#636efa\",\"#EF553B\",\"#00cc96\",\"#ab63fa\",\"#FFA15A\",\"#19d3f3\",\"#FF6692\",\"#B6E880\",\"#FF97FF\",\"#FECB52\"],\"font\":{\"color\":\"#2a3f5f\"},\"geo\":{\"bgcolor\":\"white\",\"lakecolor\":\"white\",\"landcolor\":\"#E5ECF6\",\"showlakes\":true,\"showland\":true,\"subunitcolor\":\"white\"},\"hoverlabel\":{\"align\":\"left\"},\"hovermode\":\"closest\",\"mapbox\":{\"style\":\"light\"},\"paper_bgcolor\":\"white\",\"plot_bgcolor\":\"#E5ECF6\",\"polar\":{\"angularaxis\":{\"gridcolor\":\"white\",\"linecolor\":\"white\",\"ticks\":\"\"},\"bgcolor\":\"#E5ECF6\",\"radialaxis\":{\"gridcolor\":\"white\",\"linecolor\":\"white\",\"ticks\":\"\"}},\"scene\":{\"xaxis\":{\"backgroundcolor\":\"#E5ECF6\",\"gridcolor\":\"white\",\"gridwidth\":2,\"linecolor\":\"white\",\"showbackground\":true,\"ticks\":\"\",\"zerolinecolor\":\"white\"},\"yaxis\":{\"backgroundcolor\":\"#E5ECF6\",\"gridcolor\":\"white\",\"gridwidth\":2,\"linecolor\":\"white\",\"showbackground\":true,\"ticks\":\"\",\"zerolinecolor\":\"white\"},\"zaxis\":{\"backgroundcolor\":\"#E5ECF6\",\"gridcolor\":\"white\",\"gridwidth\":2,\"linecolor\":\"white\",\"showbackground\":true,\"ticks\":\"\",\"zerolinecolor\":\"white\"}},\"shapedefaults\":{\"line\":{\"color\":\"#2a3f5f\"}},\"ternary\":{\"aaxis\":{\"gridcolor\":\"white\",\"linecolor\":\"white\",\"ticks\":\"\"},\"baxis\":{\"gridcolor\":\"white\",\"linecolor\":\"white\",\"ticks\":\"\"},\"bgcolor\":\"#E5ECF6\",\"caxis\":{\"gridcolor\":\"white\",\"linecolor\":\"white\",\"ticks\":\"\"}},\"title\":{\"x\":0.05},\"xaxis\":{\"automargin\":true,\"gridcolor\":\"white\",\"linecolor\":\"white\",\"ticks\":\"\",\"title\":{\"standoff\":15},\"zerolinecolor\":\"white\",\"zerolinewidth\":2},\"yaxis\":{\"automargin\":true,\"gridcolor\":\"white\",\"linecolor\":\"white\",\"ticks\":\"\",\"title\":{\"standoff\":15},\"zerolinecolor\":\"white\",\"zerolinewidth\":2}}},\"title\":{\"text\":\"Location of the customers with the longest delivery time\"}},                        {\"responsive\": true}                    ).then(function(){\n",
       "                            \n",
       "var gd = document.getElementById('3831c6c3-21da-4957-bde4-5ba365b0cfcf');\n",
       "var x = new MutationObserver(function (mutations, observer) {{\n",
       "        var display = window.getComputedStyle(gd).display;\n",
       "        if (!display || display === 'none') {{\n",
       "            console.log([gd, 'removed!']);\n",
       "            Plotly.purge(gd);\n",
       "            observer.disconnect();\n",
       "        }}\n",
       "}});\n",
       "\n",
       "// Listen for the removal of the full notebook cells\n",
       "var notebookContainer = gd.closest('#notebook-container');\n",
       "if (notebookContainer) {{\n",
       "    x.observe(notebookContainer, {childList: true});\n",
       "}}\n",
       "\n",
       "// Listen for the clearing of the current output cell\n",
       "var outputEl = gd.closest('.output');\n",
       "if (outputEl) {{\n",
       "    x.observe(outputEl, {childList: true});\n",
       "}}\n",
       "\n",
       "                        })                };                });            </script>        </div>"
      ]
     },
     "metadata": {},
     "output_type": "display_data"
    }
   ],
   "source": [
    "# Visualize the longest delivery time for customers\n",
    "fig = px.scatter_mapbox(data_all_agg[data_all_agg.delivery_time > 2000], \n",
    "                        lat=\"customer_lat\", \n",
    "                        lon=\"customer_lng\", \n",
    "                        color=\"delivery_time\", \n",
    "                        color_continuous_scale=px.colors.cyclical.IceFire, size_max=15, zoom=2,\n",
    "                        mapbox_style=\"carto-positron\",\n",
    "                        title='Location of the customers with the longest delivery time')\n",
    "fig.show()"
   ]
  },
  {
   "cell_type": "code",
   "execution_count": 64,
   "id": "stretch-counter",
   "metadata": {},
   "outputs": [
    {
     "data": {
      "text/plain": [
       "SP    22\n",
       "RJ    21\n",
       "BA    11\n",
       "CE     5\n",
       "ES     5\n",
       "PE     4\n",
       "PA     3\n",
       "MG     3\n",
       "PB     2\n",
       "PI     2\n",
       "SC     2\n",
       "PR     2\n",
       "GO     2\n",
       "RS     2\n",
       "SE     2\n",
       "AP     1\n",
       "AM     1\n",
       "MA     1\n",
       "RN     1\n",
       "AL     1\n",
       "RR     1\n",
       "Name: customer_state, dtype: int64"
      ]
     },
     "execution_count": 64,
     "metadata": {},
     "output_type": "execute_result"
    }
   ],
   "source": [
    "# Check regions with the slowest delivery to customers\n",
    "data_all_agg[data_all_agg.delivery_time > 2000]['customer_state'].value_counts()"
   ]
  },
  {
   "cell_type": "code",
   "execution_count": 66,
   "id": "requested-estonia",
   "metadata": {},
   "outputs": [
    {
     "data": {
      "text/plain": [
       "rio de janeiro    14\n",
       "sao paulo          7\n",
       "salvador           3\n",
       "recife             2\n",
       "nova friburgo      2\n",
       "Name: customer_city, dtype: int64"
      ]
     },
     "execution_count": 66,
     "metadata": {},
     "output_type": "execute_result"
    }
   ],
   "source": [
    "# Check regions with the slowest delivery to customers\n",
    "data_all_agg[data_all_agg.delivery_time > 2000]['customer_city'].value_counts()[:5]"
   ]
  },
  {
   "cell_type": "code",
   "execution_count": 79,
   "id": "superior-fusion",
   "metadata": {},
   "outputs": [
    {
     "data": {
      "application/vnd.plotly.v1+json": {
       "config": {
        "plotlyServerURL": "https://plot.ly"
       },
       "data": [
        {
         "hovertemplate": "seller_lat=%{lat}<br>seller_lng=%{lon}<br>delivery_speed=%{marker.color}<extra></extra>",
         "lat": [
          -18.65264443369265,
          -2.501242200626004,
          -22.54079651100627,
          -22.829351276710423,
          -3.766765995603741,
          -23.69101304628181,
          -23.53804880179313,
          -23.552336441109283,
          -23.53755537000389,
          -29.919402974839493,
          -19.89457420752632,
          -23.538268511790665,
          -22.988257375889454,
          -19.90612056261318,
          -8.049884228325219,
          -23.652366177840182,
          -23.652366177840182,
          -23.515977900238106,
          -23.515977900238106,
          -23.21686067703018,
          -23.552336441109283,
          -23.31247663924116,
          -22.32247412421865,
          -23.589847401363585,
          -23.512459731266134,
          -24.00892314920891,
          -24.026525667888205,
          -23.49993790539783,
          -8.135890720198347,
          -23.52039186756291,
          -28.290552519798347,
          -25.45693388285516,
          -19.86949505446246,
          -26.28730662064822,
          -23.539899237124576,
          -23.66130475506377,
          -19.94300350459581,
          -25.45693388285516,
          -29.919402974839493,
          -21.75732063771277,
          -8.135890720198347,
          -23.652366177840182,
          -23.46817509806932,
          -23.48968789588101,
          -23.66130475506377,
          -23.37087914790086,
          -23.62020569014463,
          -23.65936363644085,
          -19.95608602662569,
          -23.53994436316013,
          -27.81772374608258,
          -2.501242200626004,
          -29.19085626647707,
          -23.492024033814,
          -23.551881657731418,
          -23.57601657708377,
          -22.805706631753825,
          -23.442890814200968,
          -2.501242200626004,
          -23.552336441109283,
          -23.436153784043967,
          -23.48968789588101,
          -23.48968789588101,
          -2.501242200626004,
          -30.03321276448013,
          -22.41292693577841,
          -19.9178260281884,
          -23.551881657731418,
          -25.430144074286265,
          -22.1362294598616,
          -8.135890720198347,
          -23.93357260989164,
          -25.448990860825614,
          -28.290552519798347,
          -22.721605279768426,
          -2.501242200626004,
          -24.296024477069253,
          -22.892057554565948,
          -12.89316674808706,
          -23.60497215144589,
          -21.469600955340287,
          -23.546530378903565,
          -19.86949505446246,
          -8.135890720198347,
          -21.75732063771277,
          -23.652366177840182,
          -23.587353600670152,
          -22.9042136924814,
          -23.676569848880845,
          -29.919402974839493,
          -19.918527030159275,
          -23.587353600670152,
          -21.35993680296325,
          -30.03321276448013,
          -22.57812624091892,
          -2.501242200626004,
          -23.652366177840182,
          -8.135890720198347,
          -30.03321276448013,
          -2.501242200626004,
          -22.93526347623966,
          -20.536613759556865,
          -23.519193185045896,
          -23.652366177840182,
          -23.543150156894832,
          -6.491794555348289,
          -23.96974624488773,
          -23.44990733896688,
          -22.85547822328912,
          -30.03321276448013,
          -23.589847401363585,
          -9.024839005157318,
          -23.53631040591802,
          -22.757882920125365,
          -23.595498594800542,
          -29.90495069395657,
          -8.135890720198347,
          -22.92496986205362,
          -23.65936363644085,
          -19.9264100998534,
          -23.531234542419785,
          -23.37087914790086,
          -29.19085626647707,
          -23.552336441109283,
          -23.522840094345344,
          -2.501242200626004,
          -25.41804942777255,
          -19.92056947090005,
          -20.27851289140612,
          -8.135890720198347,
          -29.95269333551592,
          -22.110680580939565,
          -22.88170855771708,
          -22.892057554565948,
          -26.914469334728032,
          -19.9178260281884,
          -23.66130475506377,
          -23.53994436316013,
          -28.871905438293474,
          -23.541812281010863,
          -22.41292693577841,
          -23.6346070261456,
          -29.919402974839493,
          -23.652366177840182,
          -22.43118412282637,
          -2.501242200626004,
          -23.541812243632904,
          -19.884069370503447,
          -8.135890720198347,
          -26.89066585414966,
          -23.56880146453725,
          -23.580395310431417,
          -23.71504959465716,
          -2.501242200626004,
          -8.135890720198347,
          -29.919402974839493,
          -19.951799038267147,
          -23.541905853440447,
          -6.837168594957801,
          -23.59383917278593,
          -23.66130475506377,
          -19.84757316684865,
          -8.135890720198347,
          -20.832044636563623,
          -2.501242200626004,
          -16.664457060457906,
          -22.54079651100627,
          -21.75732063771277,
          -2.501242200626004,
          -23.543150156894832,
          -2.501242200626004,
          -24.95918428429228,
          -23.484769700217907,
          -23.53994436316013,
          -18.921397435860243,
          -23.52039186756291,
          -26.04430566637632,
          -23.533798010777897,
          -23.65936363644085,
          -2.501242200626004,
          -21.803200599395232,
          -22.655502343064512,
          -23.652366177840182,
          -23.57127586906545,
          -29.919402974839493,
          -23.552336441109283,
          -27.81772374608258,
          -19.85461537734019,
          -8.135890720198347,
          -23.188409628905863,
          -23.66130475506377,
          -23.5058713385214,
          -23.65936363644085,
          -23.53103954223585,
          -23.65936363644085,
          -15.81319450570022,
          -23.652366177840182,
          -8.135890720198347,
          -29.95269333551592,
          -23.37087914790086,
          -21.75732063771277,
          -23.747947364049548,
          -23.680729252163324,
          -23.54706743134006,
          -3.766765995603741,
          -15.827493762553392,
          -23.48892715522341,
          -23.114730524308005,
          -22.88998236045834,
          -22.96169371848569,
          -23.553659985884053,
          -23.302318252316944,
          -23.652366177840182,
          -23.589847401363585,
          -2.501242200626004,
          -22.92496986205362,
          -23.652366177840182,
          -23.515977900238106,
          -6.837168594957801,
          -3.717490463103508,
          -21.803200599395232,
          -23.515977900238106,
          -23.543150156894832,
          -23.552336441109283,
          -23.541812243632904,
          -2.501242200626004,
          -22.1362294598616,
          -22.740325486164828,
          -23.65936363644085,
          -8.135890720198347,
          -8.766194545807494,
          -19.951799038267147,
          -8.135890720198347,
          -23.209471278916475,
          -23.539899237124576,
          -23.67120903205988,
          -12.89316674808706,
          -24.026525667888205,
          -20.81912074784063,
          -20.27851289140612,
          -23.53965712727096,
          -23.5048912112042,
          -23.561456812728604,
          -22.8221365108088,
          -5.886563452788081,
          -23.59680394879425,
          -22.97545814072231,
          -23.652366177840182,
          -23.71504959465716,
          -23.179531489945607,
          -18.92408019816437,
          -3.766765995603741,
          -28.29124464593788,
          -8.058867141399071,
          -29.68433084309637,
          -19.506713154390688,
          -22.735332235607448,
          -22.1362294598616,
          -8.766194545807494,
          -29.68433084309637,
          -22.425778361057304,
          -23.68166159783415,
          -3.766765995603741,
          -25.36747499672607,
          -23.65936363644085,
          -30.00818156770628,
          -23.552336441109283,
          -23.65936363644085,
          -22.033506163362222,
          -23.46870426001278,
          -15.80698607290208,
          -30.01552834486621,
          -23.503984838767177,
          -23.652366177840182,
          -2.501242200626004,
          -23.552336441109283,
          -23.587353600670152,
          -23.635529881663825,
          -2.501242200626004,
          -23.31812709264707,
          -19.89457420752632,
          -23.6913846262179,
          -8.135890720198347,
          -30.03321276448013,
          -23.580395310431417,
          -23.59277554744454,
          -23.47874415112702,
          -22.829351276710423,
          -27.4198423877185,
          -22.837911776525186,
          -23.69101304628181,
          -8.135890720198347,
          -23.525219436926424,
          -19.89457420752632,
          -2.501242200626004,
          -12.89316674808706,
          -23.62547545562188,
          -6.837168594957801,
          -26.94994268763476,
          -23.551881657731418,
          -23.69101304628181,
          -8.135890720198347,
          -22.38340773030761,
          -23.70019768743884,
          -23.95460047631286,
          -23.47874415112702,
          -22.93526347623966,
          -22.743646919862503,
          -22.757882920125365,
          -23.543150156894832,
          -19.86949505446246,
          -25.46101647360314,
          -23.595498594800542,
          -23.04955173261455,
          -23.66130475506377,
          -23.652366177840182,
          -22.740325486164828,
          -23.543150156894832,
          -23.114730524308005,
          -30.03321276448013,
          -21.172861452750706,
          -22.892057554565948,
          -23.560182683752867,
          -23.589847401363585,
          -28.32938171277176,
          -25.43364816532121,
          -2.501242200626004,
          -12.901987911198416,
          -20.52861928433883,
          -2.501242200626004,
          -25.4699735553138,
          -19.90612056261318,
          -23.652366177840182,
          -23.62547545562188,
          -8.135890720198347,
          -2.501242200626004,
          -23.47281465844908,
          -3.905726996478778,
          -25.45693388285516,
          -23.44053398829077,
          -30.03321276448013,
          -23.718907865445058,
          -2.501242200626004,
          -28.29124464593788,
          -29.69420437579113,
          -23.65936363644085,
          -22.1362294598616,
          -23.62274809500327,
          -22.99576186030152,
          -23.652366177840182,
          -23.62547545562188,
          -30.077760743041143,
          -23.65936363644085,
          -23.680729252163324,
          -2.501242200626004,
          -25.513673225973893,
          -22.953714882106723,
          -23.21174633273221,
          -24.711673570658885,
          -21.75732063771277,
          -25.4699735553138,
          -23.53624654014997,
          -22.8221365108088,
          -22.60000425928191,
          -23.73885547032336,
          -3.717490463103508,
          -20.46253562176836,
          -25.42197753948749,
          -22.822624306841355,
          -23.436153784043967,
          -23.543150156894832,
          -23.41304547340984,
          -23.66130475506377,
          -8.135890720198347,
          -23.578171603805533,
          -2.501242200626004,
          -23.539553595497527,
          -29.68780422662314,
          -15.838225542625707,
          -8.135890720198347,
          -28.290552519798347,
          -23.541905853440447,
          -26.232193978218582,
          -8.135890720198347,
          -5.886563452788081,
          -25.45693388285516,
          -24.00892314920891,
          -28.29124464593788,
          -23.580395310431417,
          -25.441571360403625,
          -23.526306422402715,
          -30.03321276448013,
          -23.652366177840182,
          -23.65936363644085,
          -22.26258413023529,
          -2.501242200626004,
          -2.501242200626004,
          -2.501242200626004,
          -23.570211693584675,
          -19.951799038267147,
          -19.951799038267147,
          -2.501242200626004,
          -8.135890720198347,
          -23.543000459064807,
          -2.501242200626004,
          -22.285564358190715,
          -23.57127586906545,
          -23.37087914790086,
          -23.62547545562188,
          -2.501242200626004,
          -23.589847401363585,
          -2.501242200626004,
          -23.50320576014991,
          -19.86949505446246,
          -23.493718851420663,
          -23.08992524585618,
          -8.135890720198347,
          -22.430217898121057,
          -2.501242200626004,
          -19.836057733815164,
          -22.555991404059704,
          -23.550472430843698,
          -2.501242200626004,
          -22.92496986205362,
          -23.747947364049548,
          -23.44565538225258,
          -23.65936363644085,
          -23.605514428769723,
          -23.652366177840182,
          -23.484769700217907,
          -23.45763338134832,
          -23.652366177840182,
          -22.757882920125365,
          -23.21174633273221,
          -23.53994436316013,
          -23.66130475506377,
          -23.114730524308005,
          -23.541905853440447,
          -27.81772374608258,
          -25.45693388285516,
          -8.12050227334272,
          -30.077760743041143,
          -30.03321276448013,
          -23.652366177840182,
          -22.93198016932755,
          -19.86949505446246,
          -23.651458409656644,
          -25.36747499672607,
          -23.613258022164977,
          -8.135890720198347,
          -23.652366177840182,
          -22.73701486100054,
          -19.89457420752632,
          -23.48686598302112,
          -23.724055488204502,
          -8.135890720198347,
          -19.807680657862143,
          -23.652366177840182,
          -28.633920987357754,
          -23.493718851420663,
          -22.100315101836674,
          -8.135890720198347,
          -23.65936363644085,
          -22.26258413023529,
          -30.03321276448013,
          -23.50486890861525,
          -23.515977900238106,
          -23.48968789588101,
          -23.65936363644085,
          -23.652366177840182,
          -23.53965712727096,
          -2.501242200626004,
          -23.652366177840182,
          -2.501242200626004,
          -25.469955086957725,
          -25.513673225973893,
          -22.213865032134283,
          -19.91337994376673,
          -19.918527030159275,
          -30.03321276448013,
          -24.00892314920891,
          -23.528549092116897,
          -21.75732063771277,
          -23.652366177840182,
          -2.501242200626004,
          -15.880162327315896,
          -23.62057801188256,
          -23.62547545562188,
          -23.37087914790086,
          -8.135890720198347,
          -30.03321276448013,
          -23.68166159783415,
          -23.59345494924625,
          -24.966466359942885,
          -23.57669802149096,
          -16.690437557318464,
          -25.612764068813902,
          -23.53965712727096,
          -8.135890720198347,
          -23.62547545562188,
          -2.501242200626004,
          -8.135890720198347,
          -25.394747235498823,
          -23.53103954223585,
          -23.42946359631355,
          -28.290552519798347,
          -8.135890720198347,
          -8.135890720198347,
          -19.84757316684865,
          -23.652366177840182,
          -23.63500525801046,
          -8.135890720198347,
          -22.892057554565948,
          -2.501242200626004,
          -23.302318252316944,
          -23.46870426001278,
          -23.595498594800542,
          -19.760188995545462,
          -23.541812243632904,
          -23.559131335715936,
          -28.290552519798347,
          -23.5272590329992,
          -23.202268092167245,
          -26.91187688025885,
          -25.46101647360314,
          -2.501242200626004,
          -23.410633365293403,
          -8.135890720198347,
          -29.40523713119915,
          -2.501242200626004,
          -8.135890720198347,
          -21.21170599189456,
          -23.53243832363705,
          -23.589847401363585,
          -30.03321276448013,
          -15.813933452398985,
          -23.55364177873547,
          -23.69118300968993,
          -19.951799038267147,
          -27.81772374608258,
          -11.83455242799876,
          -8.135890720198347,
          -23.66385515483215,
          -23.652366177840182,
          -23.69101304628181,
          -23.552336441109283,
          -23.531424390734568,
          -22.868363814263645,
          -23.552336441109283,
          -8.045413124545014,
          -28.290552519798347,
          -19.9264100998534,
          -30.077760743041143,
          -23.515977900238106,
          -22.757096912776348,
          -23.652366177840182,
          -23.42946359631355,
          -21.3635017097994,
          -26.226411667053,
          -22.285564358190715,
          -30.03321276448013,
          -23.003301740276893,
          -23.55305446892853,
          -12.89316674808706,
          -19.45799501338864,
          -20.46253562176836,
          -11.304164446373438,
          -23.04955173261455,
          -23.503984838767177,
          -30.03321276448013,
          -8.135890720198347,
          -23.652366177840182,
          -30.03058947301783,
          -29.68433084309637,
          -22.892057554565948,
          -2.501242200626004,
          -23.595498594800542,
          -30.00648930091964,
          -23.425555705619,
          -23.719576291836983,
          -23.652366177840182,
          -21.3635017097994,
          -16.696727724111284,
          -25.456349625618472,
          -27.10572411117105,
          -23.652366177840182,
          -2.501242200626004,
          -22.93526347623966,
          -21.83491864103435,
          -23.652366177840182,
          -8.135890720198347,
          -23.6346070261456,
          -20.43232199650956,
          -26.610216926670343,
          -23.530395619220247,
          -23.48115800015399,
          -23.21174633273221,
          -23.553659985884053,
          -23.541905853440447,
          -22.43118412282637,
          -19.9318555870041,
          -5.886563452788081,
          -24.951755468655858,
          -25.38230981687026,
          -23.580395310431417,
          -23.69118300968993,
          -23.522840094345344,
          -2.501242200626004,
          -30.03321276448013,
          -23.595498594800542,
          -22.767878146745,
          -23.525428760068145,
          -19.89744032717272,
          -3.786626668221328,
          -23.69101304628181,
          -25.53849934881501,
          -19.9178260281884,
          -23.59250411503919,
          -25.44178653148089,
          -22.769600179710007,
          -3.717490463103508,
          -23.589847401363585,
          -25.51124719435153,
          -25.437225932288545,
          -25.469955086957725,
          -22.9140200060427,
          -8.135890720198347,
          -23.54339460016357,
          -21.75732063771277,
          -21.75732063771277,
          -23.37087914790086,
          -23.53965712727096,
          -22.55124525869924,
          -23.70019768743884,
          -8.135890720198347,
          -23.587353600670152,
          -23.652366177840182,
          -23.519193185045896,
          -2.501242200626004,
          -22.92496986205362,
          -25.45693388285516,
          -23.62547545562188,
          -23.50893894612541,
          -22.91624456473871,
          -30.01552834486621,
          -26.2644850091146,
          -29.16744881112399,
          -30.03321276448013,
          -19.86949505446246,
          -30.077760743041143,
          -23.522840094345344,
          -23.521944210545936,
          -23.54890998191391,
          -19.89457420752632,
          -29.68433084309637,
          -2.501242200626004,
          -30.00818156770628,
          -22.892057554565948,
          -27.00447650803857,
          -5.12360945433745,
          -8.135890720198347,
          -23.492024033814,
          -23.652366177840182,
          -22.905686000249105,
          -23.209471278916475,
          -23.652366177840182,
          -22.8221365108088,
          -22.892057554565948,
          -18.50726515886232,
          -14.223207197286875,
          -2.501242200626004,
          -19.884069370503447,
          -29.919402974839493,
          -23.66130475506377,
          -23.04955173261455,
          -23.50832107138193,
          -18.77576518394664,
          -19.506713154390688,
          -23.427901225690103,
          -27.60657304539599,
          -23.59494035584984,
          -19.86949505446246,
          -2.501242200626004,
          -22.757882920125365,
          -29.674727503663902,
          -2.501242200626004,
          -23.57727689232054,
          -23.53983233291429,
          -23.21174633273221,
          -23.5711528559151,
          -23.589847401363585,
          -23.652366177840182,
          -25.54232647353517,
          -23.53994436316013,
          -23.589847401363585,
          -23.550472430843698,
          -23.10162100644003,
          -23.65936363644085,
          -27.21992557329001,
          -23.652366177840182,
          -26.32827519256354,
          -23.580395310431417,
          -8.135890720198347,
          -23.484769700217907,
          -30.00818156770628,
          -23.543150156894832,
          -29.919402974839493,
          -23.7639730208048,
          -23.58741915450063,
          -22.892057554565948,
          -22.740325486164828,
          -23.515977900238106,
          -2.501242200626004,
          -23.538268511790665,
          -23.70019768743884,
          -23.69101304628181,
          -22.979900329721083,
          -22.767878146745,
          -23.543150156894832,
          -23.490758745356786,
          -19.760188995545462,
          -23.552336441109283
         ],
         "legendgroup": "",
         "lon": [
          -46.60072914501389,
          -44.24816336596759,
          -43.20123507158808,
          -43.01399541493808,
          -38.65536409195578,
          -46.703810106207634,
          -46.5065203579325,
          -46.53686856423848,
          -46.53822847017662,
          -51.14505892899358,
          -43.931234581848464,
          -46.63942263256764,
          -46.85396269506087,
          -43.92370433417947,
          -34.90083430094547,
          -46.75575337195744,
          -46.75575337195744,
          -46.54737185794935,
          -46.54737185794935,
          -45.908593804889406,
          -46.53686856423848,
          -51.36500347341602,
          -49.02934087244578,
          -46.632613806421325,
          -46.50082148805862,
          -46.41912533835566,
          -46.47823694263504,
          -46.51858686166485,
          -34.93253582376317,
          -46.37405086923973,
          -54.26251143307887,
          -49.30945498395364,
          -43.95094395435073,
          -48.8518015892504,
          -46.5474065279164,
          -46.564296407294165,
          -44.1136240110523,
          -49.30945498395364,
          -51.14505892899358,
          -48.82974353343713,
          -34.93253582376317,
          -46.75575337195744,
          -46.72025344447433,
          -46.952915158144144,
          -46.564296407294165,
          -46.84796832895859,
          -46.56414467348053,
          -46.523183340521726,
          -44.05212106582629,
          -46.439816187506,
          -50.330752255444736,
          -44.24816336596759,
          -51.23023949816572,
          -46.72898406045395,
          -46.64072797271628,
          -46.74118636634989,
          -43.42307905240662,
          -46.50673902926125,
          -44.24816336596759,
          -46.53686856423848,
          -46.55233201188834,
          -46.952915158144144,
          -46.952915158144144,
          -44.24816336596759,
          -51.231437899598326,
          -47.5792958770093,
          -43.942417941975386,
          -46.64072797271628,
          -49.28531986744622,
          -51.3724500454798,
          -34.93253582376317,
          -46.32962527759821,
          -49.28860985729242,
          -54.26251143307887,
          -46.844150475904215,
          -44.24816336596759,
          -53.3145970174448,
          -47.08244278411783,
          -38.33787462509412,
          -46.62000602777737,
          -49.22221684743829,
          -46.56533761884633,
          -43.95094395435073,
          -34.93253582376317,
          -48.82974353343713,
          -46.75575337195744,
          -46.61525833895384,
          -47.05654899637806,
          -46.66989690432334,
          -51.14505892899358,
          -43.93988998298764,
          -46.61525833895384,
          -48.07391298482992,
          -51.231437899598326,
          -44.96154905740904,
          -44.24816336596759,
          -46.75575337195744,
          -34.93253582376317,
          -51.231437899598326,
          -44.24816336596759,
          -43.18726357297112,
          -47.43358387554184,
          -46.53363245277436,
          -46.75575337195744,
          -46.49010130952279,
          -37.451862106329045,
          -46.321938826751385,
          -46.56294917650381,
          -46.31950127100399,
          -51.231437899598326,
          -46.632613806421325,
          -36.57020044972058,
          -46.65711200863415,
          -47.41705497247527,
          -46.559726963517065,
          -51.07030394103,
          -34.93253582376317,
          -47.07428354596361,
          -46.523183340521726,
          -43.94586443137008,
          -46.50691508220304,
          -46.84796832895859,
          -51.23023949816572,
          -46.53686856423848,
          -46.1955458411618,
          -44.24816336596759,
          -49.24877341863132,
          -44.02640958503362,
          -40.41167522341208,
          -34.93253582376317,
          -51.097790640776445,
          -51.399092120481285,
          -47.0504642669472,
          -47.08244278411783,
          -49.112263234420354,
          -43.942417941975386,
          -46.564296407294165,
          -46.439816187506,
          -52.18011144119088,
          -46.73068651777817,
          -47.5792958770093,
          -46.735881844474896,
          -51.14505892899358,
          -46.75575337195744,
          -42.9702210850494,
          -44.24816336596759,
          -46.62455025944192,
          -44.02242139461151,
          -34.93253582376317,
          -48.65532838709397,
          -46.57173940927547,
          -46.59132639890193,
          -46.53726820837794,
          -44.24816336596759,
          -34.93253582376317,
          -51.14505892899358,
          -44.196037480396015,
          -46.63508761691669,
          -35.126887193067326,
          -46.61645866896796,
          -46.564296407294165,
          -44.02943024506619,
          -34.93253582376317,
          -49.35334480373747,
          -44.24816336596759,
          -49.24469282203206,
          -43.20123507158808,
          -46.53686856423848,
          -44.24816336596759,
          -46.49010130952279,
          -44.24816336596759,
          -53.46264400005701,
          -46.73414273203397,
          -46.439816187506,
          -46.60072914501389,
          -46.37405086923973,
          -53.0637135521321,
          -46.517872723882775,
          -46.523183340521726,
          -44.24816336596759,
          -49.60221269289015,
          -50.42571007913951,
          -46.75575337195744,
          -46.479396724588405,
          -51.14505892899358,
          -46.53686856423848,
          -50.330752255444736,
          -43.914739731934176,
          -34.93253582376317,
          -46.85398781828784,
          -46.564296407294165,
          -46.62468256911272,
          -46.523183340521726,
          -46.51583258285473,
          -46.523183340521726,
          -47.89330451642298,
          -46.75575337195744,
          -34.93253582376317,
          -51.097790640776445,
          -46.84796832895859,
          -48.82974353343713,
          -46.68180588603656,
          -46.44423827270244,
          -46.52164439061696,
          -38.65536409195578,
          -47.92443250257791,
          -46.66091832100332,
          -46.552880539877926,
          -47.19898012005197,
          -46.52385416525664,
          -46.45695782334157,
          -45.97188817895197,
          -46.75575337195744,
          -46.632613806421325,
          -44.24816336596759,
          -47.07428354596361,
          -46.75575337195744,
          -46.54737185794935,
          -35.126887193067326,
          -38.59928475757382,
          -49.60221269289015,
          -46.54737185794935,
          -46.49010130952279,
          -46.53686856423848,
          -46.62455025944192,
          -44.24816336596759,
          -51.3724500454798,
          -46.89675369133934,
          -46.523183340521726,
          -34.93253582376317,
          -42.92677954827477,
          -44.196037480396015,
          -34.93253582376317,
          -47.30922889223856,
          -46.5474065279164,
          -46.49116730072025,
          -38.33787462509412,
          -46.47823694263504,
          -46.53686856423848,
          -40.41167522341208,
          -46.63188421270581,
          -46.726588049747335,
          -46.63294793571506,
          -47.27033542521254,
          -35.20824131593824,
          -46.63462180317358,
          -47.00268239234955,
          -46.75575337195744,
          -46.53726820837794,
          -47.31338383666045,
          -48.24926718659151,
          -38.65536409195578,
          -52.79025576343903,
          -34.90021057469489,
          -51.09298402937748,
          -42.6286140396501,
          -47.17665406567105,
          -51.3724500454798,
          -63.89356545864416,
          -51.09298402937748,
          -47.560436700322384,
          -46.623333307785806,
          -38.65536409195578,
          -49.18419913151328,
          -46.523183340521726,
          -51.20130443913633,
          -46.53686856423848,
          -46.523183340521726,
          -47.90892483428426,
          -46.51614189492681,
          -48.104958853481016,
          -51.16270825237461,
          -46.6256721599388,
          -46.75575337195744,
          -44.24816336596759,
          -46.53686856423848,
          -46.61525833895384,
          -46.69403108090457,
          -44.24816336596759,
          -51.1571364228282,
          -43.931234581848464,
          -46.54373229668177,
          -34.93253582376317,
          -51.231437899598326,
          -46.59132639890193,
          -46.60119064355825,
          -46.58831651709552,
          -43.01399541493808,
          -48.42646639542672,
          -43.322271046058205,
          -46.703810106207634,
          -34.93253582376317,
          -46.51702870503608,
          -43.931234581848464,
          -44.24816336596759,
          -38.33787462509412,
          -46.61200044104113,
          -35.126887193067326,
          -49.07692500050797,
          -46.64072797271628,
          -46.703810106207634,
          -34.93253582376317,
          -46.93598735087051,
          -46.51312842218974,
          -46.3377311534732,
          -46.58831651709552,
          -43.18726357297112,
          -47.31203571315089,
          -47.41705497247527,
          -46.49010130952279,
          -43.95094395435073,
          -49.231063871318334,
          -46.559726963517065,
          -47.83762131131263,
          -46.564296407294165,
          -46.75575337195744,
          -46.89675369133934,
          -46.49010130952279,
          -46.552880539877926,
          -51.231437899598326,
          -47.82369973956138,
          -47.08244278411783,
          -46.60439300394289,
          -46.632613806421325,
          -49.176644834659655,
          -49.26917337587714,
          -44.24816336596759,
          -38.40540238991362,
          -47.38740999652927,
          -44.24816336596759,
          -49.30737230197128,
          -43.92370433417947,
          -46.75575337195744,
          -46.61200044104113,
          -34.93253582376317,
          -44.24816336596759,
          -46.60072914501389,
          -40.74612755881526,
          -49.30945498395364,
          -46.46281463364434,
          -51.231437899598326,
          -46.39471606155454,
          -44.24816336596759,
          -52.79025576343903,
          -51.23318877432423,
          -46.523183340521726,
          -51.3724500454798,
          -52.47011837512829,
          -46.70246251262529,
          -46.75575337195744,
          -46.61200044104113,
          -51.05330632286344,
          -46.523183340521726,
          -46.44423827270244,
          -44.24816336596759,
          -49.25560607832763,
          -45.839550230520295,
          -46.76287513805131,
          -53.747606481343865,
          -48.82974353343713,
          -49.30737230197128,
          -46.66166521796584,
          -47.27033542521254,
          -47.407128587319605,
          -46.447140971353605,
          -38.59928475757382,
          -45.43305899816512,
          -49.27871218867798,
          -43.00309374212152,
          -46.55233201188834,
          -46.49010130952279,
          -46.72367775577436,
          -46.564296407294165,
          -34.93253582376317,
          -46.5073074074444,
          -44.24816336596759,
          -46.70471877885835,
          -51.46796398824514,
          -48.053400718858086,
          -34.93253582376317,
          -54.26251143307887,
          -46.63508761691669,
          -49.411882265954304,
          -34.93253582376317,
          -35.20824131593824,
          -49.30945498395364,
          -46.41912533835566,
          -52.79025576343903,
          -46.59132639890193,
          -49.26687451387349,
          -46.84569408911501,
          -51.231437899598326,
          -46.75575337195744,
          -46.523183340521726,
          -46.17112394057632,
          -44.24816336596759,
          -44.24816336596759,
          -44.24816336596759,
          -46.71083963489561,
          -44.196037480396015,
          -44.196037480396015,
          -44.24816336596759,
          -34.93253582376317,
          -46.63214323386248,
          -44.24816336596759,
          -48.53505780924213,
          -46.479396724588405,
          -46.84796832895859,
          -46.61200044104113,
          -44.24816336596759,
          -46.632613806421325,
          -44.24816336596759,
          -46.42228420833628,
          -43.95094395435073,
          -46.54618856351207,
          -46.61165422508776,
          -34.93253582376317,
          -46.57340512991158,
          -44.24816336596759,
          -43.94538236770013,
          -47.422060378397546,
          -46.53884595688125,
          -44.24816336596759,
          -47.07428354596361,
          -46.68180588603656,
          -46.54152485277401,
          -46.523183340521726,
          -46.49030091198302,
          -46.75575337195744,
          -46.73414273203397,
          -46.650404148793,
          -46.75575337195744,
          -46.53686856423848,
          -46.76287513805131,
          -46.439816187506,
          -46.564296407294165,
          -46.552880539877926,
          -46.63508761691669,
          -50.330752255444736,
          -49.30945498395364,
          -35.296470274753084,
          -51.05330632286344,
          -51.231437899598326,
          -46.75575337195744,
          -47.11184149169856,
          -43.95094395435073,
          -46.66726499000773,
          -49.18419913151328,
          -46.68995373230166,
          -34.93253582376317,
          -46.75575337195744,
          -43.56361873677635,
          -43.931234581848464,
          -46.67379824356865,
          -46.85665731168744,
          -34.93253582376317,
          -43.98042684085742,
          -46.75575337195744,
          -49.02415747436295,
          -46.54618856351207,
          -51.40735633783322,
          -34.93253582376317,
          -46.523183340521726,
          -46.17112394057632,
          -51.231437899598326,
          -46.68260221605633,
          -46.54737185794935,
          -46.952915158144144,
          -46.523183340521726,
          -46.75575337195744,
          -46.63188421270581,
          -44.24816336596759,
          -46.75575337195744,
          -44.24816336596759,
          -49.28982106037588,
          -49.25560607832763,
          -49.95851972439901,
          -43.95870189476292,
          -43.93988998298764,
          -51.231437899598326,
          -46.41912533835566,
          -46.779788326644095,
          -48.82974353343713,
          -46.75575337195744,
          -44.24816336596759,
          -47.81695942803694,
          -46.52740978640328,
          -46.61200044104113,
          -46.84796832895859,
          -34.93253582376317,
          -51.231437899598326,
          -46.623333307785806,
          -46.55235596542038,
          -53.466729765315804,
          -46.71705184930481,
          -49.32701527508711,
          -49.37234951517323,
          -46.63188421270581,
          -34.93253582376317,
          -46.61200044104113,
          -44.24816336596759,
          -34.93253582376317,
          -49.34443757980696,
          -46.51583258285473,
          -46.54959010802119,
          -54.26251143307887,
          -34.93253582376317,
          -34.93253582376317,
          -44.02943024506619,
          -46.75575337195744,
          -46.59911604502151,
          -34.93253582376317,
          -47.08244278411783,
          -44.24816336596759,
          -45.97188817895197,
          -46.51614189492681,
          -46.559726963517065,
          -47.93914526044794,
          -46.62455025944192,
          -46.50884108313166,
          -54.26251143307887,
          -46.61149456906234,
          -45.89802848030465,
          -48.65639411001171,
          -49.231063871318334,
          -44.24816336596759,
          -46.44516359725996,
          -34.93253582376317,
          -51.32578918258865,
          -44.24816336596759,
          -34.93253582376317,
          -50.40363945155295,
          -46.56432027972277,
          -46.632613806421325,
          -51.231437899598326,
          -47.94702492834328,
          -46.45266128745551,
          -46.67958429464096,
          -44.196037480396015,
          -50.330752255444736,
          -55.50810988391813,
          -34.93253582376317,
          -46.68579217808032,
          -46.75575337195744,
          -46.703810106207634,
          -46.53686856423848,
          -47.13442765046271,
          -43.46923216795061,
          -46.53686856423848,
          -34.89447935380134,
          -54.26251143307887,
          -43.94586443137008,
          -51.05330632286344,
          -46.54737185794935,
          -47.37609423222237,
          -46.75575337195744,
          -46.54959010802119,
          -48.22960077888058,
          -52.67454717796047,
          -48.53505780924213,
          -51.231437899598326,
          -46.83771515499862,
          -46.78198098470048,
          -38.33787462509412,
          -44.24812822762975,
          -45.43305899816512,
          -41.85580503001343,
          -46.552880539877926,
          -46.6256721599388,
          -51.231437899598326,
          -34.93253582376317,
          -46.75575337195744,
          -51.22769725328026,
          -51.09298402937748,
          -47.08244278411783,
          -44.24816336596759,
          -46.559726963517065,
          -51.07951429592407,
          -46.52529155803017,
          -46.564753092486725,
          -46.75575337195744,
          -48.22960077888058,
          -49.26744894449621,
          -49.26500692384353,
          -48.93331822533233,
          -46.75575337195744,
          -44.24816336596759,
          -43.18726357297112,
          -46.89918572591988,
          -46.75575337195744,
          -34.93253582376317,
          -46.735881844474896,
          -54.67213920600791,
          -49.00253404801828,
          -46.56597235661916,
          -46.71053625522482,
          -46.76287513805131,
          -46.572282911105056,
          -46.63508761691669,
          -42.9702210850494,
          -43.93264743101025,
          -35.20824131593824,
          -53.42517181498286,
          -51.45456651508261,
          -46.59132639890193,
          -46.67958429464096,
          -46.1955458411618,
          -44.24816336596759,
          -51.231437899598326,
          -46.559726963517065,
          -47.38550081126996,
          -46.51380633487217,
          -43.957177760395545,
          -38.567945481184445,
          -46.703810106207634,
          -49.19950992683624,
          -43.942417941975386,
          -46.60240268369203,
          -49.311076015365074,
          -47.150402273886925,
          -38.59928475757382,
          -46.632613806421325,
          -54.58574137255735,
          -49.19396558589783,
          -49.28982106037588,
          -47.01353540823248,
          -34.93253582376317,
          -46.262085681846166,
          -48.82974353343713,
          -43.30454037225461,
          -46.84796832895859,
          -46.63188421270581,
          -47.90659642198055,
          -46.51312842218974,
          -34.93253582376317,
          -46.61525833895384,
          -46.75575337195744,
          -46.53363245277436,
          -44.24816336596759,
          -47.07428354596361,
          -49.30945498395364,
          -46.61200044104113,
          -46.15005921825602,
          -43.217950335265314,
          -51.16270825237461,
          -48.807255525275366,
          -51.15483116731141,
          -51.231437899598326,
          -43.95094395435073,
          -51.05330632286344,
          -46.1955458411618,
          -46.34087492614053,
          -46.42292496090773,
          -43.931234581848464,
          -51.09298402937748,
          -44.24816336596759,
          -51.20130443913633,
          -47.08244278411783,
          -51.15253710423867,
          -42.76834387096315,
          -34.93253582376317,
          -46.72898406045395,
          -46.75575337195744,
          -43.17715630706046,
          -47.30922889223856,
          -46.75575337195744,
          -47.27033542521254,
          -47.08244278411783,
          -54.74875310212911,
          -42.78339770003472,
          -44.24816336596759,
          -44.02242139461151,
          -51.14505892899358,
          -46.564296407294165,
          -47.83762131131263,
          -46.48545545756666,
          -42.93166199720475,
          -42.6286140396501,
          -51.42388542180936,
          -48.59271208975145,
          -46.54115925090763,
          -43.95094395435073,
          -44.24816336596759,
          -47.41705497247527,
          -51.06040344017741,
          -44.24816336596759,
          -46.56338617640832,
          -46.44479870320024,
          -46.76287513805131,
          -46.62043601303771,
          -46.632613806421325,
          -46.75575337195744,
          -49.18219514723537,
          -46.439816187506,
          -46.632613806421325,
          -46.53884595688125,
          -47.711819140556784,
          -46.523183340521726,
          -52.02327989668861,
          -46.75575337195744,
          -48.88032525991248,
          -46.59132639890193,
          -34.93253582376317,
          -46.73414273203397,
          -51.20130443913633,
          -46.49010130952279,
          -51.14505892899358,
          -46.68808147880212,
          -46.581435332792125,
          -47.08244278411783,
          -46.89675369133934,
          -46.54737185794935,
          -44.24816336596759,
          -46.63942263256764,
          -46.51312842218974,
          -46.703810106207634,
          -43.49176475913367,
          -47.38550081126996,
          -46.49010130952279,
          -46.58336932471798,
          -47.93914526044794,
          -46.53686856423848
         ],
         "marker": {
          "color": [
           16.75074074074074,
           12.42157894736842,
           11.024703196347032,
           11.386666666666668,
           10.203939393939397,
           10.828148148148149,
           10.107977528089888,
           11.438988764044945,
           10.823133640552994,
           10.762096774193548,
           10.203829787234042,
           10.088483412322276,
           17.863875,
           10.080372670807456,
           11.37374331550802,
           13.564022988505746,
           14.574327485380117,
           11.646919191919192,
           11.414745762711863,
           13.556092715231788,
           10.762639593908627,
           10.11265060240964,
           12.063282051282052,
           10.635275229357797,
           12.343926380368098,
           13.012541436464089,
           12.051057692307692,
           14.704166666666667,
           10.445593220338983,
           16.23065934065934,
           10.691855670103092,
           10.69934497816594,
           13.796525423728813,
           11.458893617021277,
           10.45572033898305,
           10.931676300578037,
           13.211214953271028,
           12.285391705069124,
           10.478223684210526,
           11.521256281407036,
           10.7043216080402,
           12.523582887700536,
           10.016425531914894,
           11.56780487804878,
           10.52846153846154,
           11.142467532467531,
           15.327786259541986,
           13.754244186046511,
           10.788636363636364,
           14.417068965517242,
           13.395,
           12.94349794238683,
           10.60884745762712,
           12.152619926199264,
           12.689066666666664,
           10.093537735849056,
           10.644061135371178,
           10.014666666666669,
           10.574413145539904,
           11.219792531120332,
           12.36305882352941,
           11.76726368159204,
           11.94045197740113,
           10.476940639269406,
           11.3548,
           15.41985294117647,
           16.551153846153845,
           10.948844444444443,
           11.36824074074074,
           13.102352941176472,
           12.686242424242424,
           10.907565217391303,
           10.162592592592592,
           10.276109324758842,
           13.97203947368421,
           18.78071428571429,
           11.94,
           19.657083333333333,
           11.307786259541984,
           10.28803827751196,
           10.40600985221675,
           10.30459595959596,
           10.71782608695652,
           11.0825,
           10.01601809954751,
           10.231495726495726,
           40.70842105263158,
           11.105588235294118,
           14.190744680851065,
           16.380893854748603,
           11.50138888888889,
           10.096891891891891,
           13.910469798657717,
           10.202876712328766,
           10.510382775119618,
           10.97923076923077,
           12.344352331606215,
           16.48515625,
           12.224782608695651,
           12.460483870967742,
           11.689352941176471,
           14.419476744186047,
           13.304397590361448,
           20.963666666666665,
           12.90640243902439,
           11.47875,
           12.545847953216375,
           11.22842105263158,
           10.988297872340429,
           14.168070175438595,
           10.427234042553192,
           13.365366972477064,
           17.37778947368421,
           15.151518987341772,
           12.930301204819276,
           11.587821782178215,
           10.34072033898305,
           11.513157894736842,
           10.547727272727272,
           24.558051948051947,
           12.429032258064517,
           14.684848484848484,
           10.61418118466899,
           10.711447963800904,
           10.108103448275862,
           53.58045454545454,
           13.897891156462585,
           11.176164383561645,
           11.775674418604652,
           11.26603448275862,
           10.4075,
           10.389723502304149,
           11.136232558139534,
           13.75118811881188,
           16.599707602339183,
           11.016241134751771,
           11.591754385964911,
           12.849619047619049,
           10.318987341772152,
           10.41704845814978,
           16.070337078651686,
           13.058155339805824,
           10.234647435897436,
           10.187885462555066,
           11.581657142857145,
           10.830504587155964,
           10.191487603305786,
           10.498503937007872,
           15.125815602836878,
           10.89816733067729,
           13.937058823529412,
           16.33303448275862,
           11.0536,
           11.945050505050505,
           10.072358974358972,
           10.403164556962023,
           12.006567164179105,
           20.531242236024845,
           13.162,
           13.98934210526316,
           12.276732673267327,
           10.26424,
           10.76720812182741,
           10.311330049261082,
           10.854239631336403,
           16.2352,
           14.1164,
           14.626515151515152,
           10.007533039647578,
           12.33055,
           11.525817490494296,
           10.240545454545456,
           10.094170616113743,
           16.8673125,
           15.950857142857142,
           11.037374301675978,
           11.668826291079812,
           12.195221674876848,
           16.73891891891892,
           10.41768888888889,
           10.02876651982379,
           10.860563380281691,
           11.009333333333334,
           13.092486772486772,
           10.510196078431372,
           12.0343949044586,
           10.245348837209304,
           13.376944444444444,
           10.293737864077672,
           11.173333333333334,
           10.377875,
           11.54383233532934,
           13.45037974683544,
           11.61558139534884,
           11.1935,
           10.227529411764706,
           16.045801526717558,
           13.765,
           11.369904761904762,
           10.020132743362833,
           11.583147208121828,
           10.046635071090048,
           26.623164556962024,
           14.35056338028169,
           29.04426666666667,
           13.288030303030302,
           11.235636363636363,
           10.105981308411216,
           19.270487804878048,
           12.701176470588234,
           11.01058823529412,
           10.237791411042943,
           18.71212598425197,
           10.346418604651165,
           10.825708812260537,
           14.998451612903228,
           15.787094594594594,
           10.0625,
           17.505078125,
           11.759839572192512,
           11.043696682464454,
           11.84608938547486,
           13.0675,
           10.080574712643678,
           11.065544554455444,
           11.607868020304569,
           12.646511627906976,
           10.35665137614679,
           11.64,
           10.5035960591133,
           15.127924528301886,
           13.288391608391608,
           12.91981818181818,
           11.4248128342246,
           10.028341463414634,
           13.752426035502957,
           10.690144927536233,
           10.959606986899564,
           10.69493670886076,
           11.258854961832062,
           10.944305555555555,
           10.692722513089006,
           13.302090909090907,
           10.158185840707963,
           10.719722222222222,
           17.077985611510794,
           12.156190476190476,
           10.440878048780489,
           11.90486033519553,
           10.156336633663368,
           16.67,
           12.15607305936073,
           10.24409090909091,
           10.308496503496505,
           12.804475806451611,
           10.558599999999998,
           10.922811059907836,
           10.527291666666668,
           11.854857142857142,
           14.27289592760181,
           10.320765765765763,
           11.495628415300546,
           12.169226804123712,
           10.552079207920793,
           15.273724137931035,
           11.038593155893537,
           14.588639053254438,
           11.122307692307691,
           10.106310160427808,
           13.416,
           25.79096153846154,
           17.961851851851854,
           10.024575471698114,
           10.408421052631578,
           11.826633165829143,
           11.255645933014351,
           11.881009615384617,
           12.54419191919192,
           11.834747474747475,
           10.800084388185654,
           11.349367088607597,
           10.77872448979592,
           10.470505617977528,
           10.807303754266211,
           10.127095238095238,
           11.098846153846154,
           12.97098901098901,
           11.462962962962964,
           10.858833333333331,
           13.25089108910891,
           10.52921568627451,
           15.010461538461538,
           10.297666666666666,
           10.307470588235294,
           13.240621468926555,
           10.030136054421767,
           10.307125,
           11.351781609195402,
           10.964212765957448,
           10.994553571428572,
           11.642971698113207,
           11.228730158730158,
           10.615095238095238,
           10.32079411764706,
           13.8975,
           12.065964912280704,
           10.404633027522936,
           10.10240174672489,
           12.353333333333332,
           12.934195402298853,
           10.80353711790393,
           12.93127659574468,
           16.070408163265306,
           14.277947019867549,
           10.941827411167512,
           10.731361502347418,
           10.36674418604651,
           12.55463768115942,
           11.037763157894735,
           16.64295336787565,
           10.767164948453608,
           12.802857142857144,
           23.09554347826087,
           14.728032786885246,
           11.15360655737705,
           10.721204819277109,
           15.455424836601306,
           11.623858267716535,
           10.201363636363636,
           14.727696335078534,
           11.47246511627907,
           12.795,
           19.529693877551026,
           10.746082949308756,
           11.191415525114156,
           11.123113207547169,
           10.484177777777775,
           18.383535353535358,
           10.322058823529412,
           11.494224137931036,
           10.807303754266211,
           10.61225,
           19.135853658536583,
           15.191733333333335,
           11.05450704225352,
           25.682048192771084,
           19.2252,
           10.656923076923078,
           11.23411214953271,
           11.014666666666669,
           10.896422018348623,
           12.82731343283582,
           14.587,
           10.661486486486488,
           13.23314606741573,
           17.059426751592355,
           10.501474654377882,
           12.080673575129534,
           13.925512820512822,
           59.157,
           10.352941176470589,
           10.595183486238533,
           14.826666666666668,
           11.241472081218276,
           11.155381165919282,
           10.691221719457015,
           12.72157894736842,
           10.253625,
           11.534294478527606,
           13.090251572327045,
           18.284666666666663,
           13.9904,
           10.769633027522936,
           12.048295454545457,
           10.147075471698113,
           13.690179640718563,
           10.901794871794872,
           11.1379,
           10.837903225806452,
           15.963656716417912,
           12.039868421052631,
           26.824743589743587,
           13.268975535168195,
           10.01066147859922,
           12.33526595744681,
           11.404761904761903,
           10.273632653061224,
           14.51875,
           16.47967213114754,
           14.219132947976878,
           12.817747252747251,
           10.060689655172414,
           11.016805555555557,
           11.37429223744292,
           26.620102040816327,
           12.908258426966292,
           11.092264150943397,
           10.681682692307692,
           10.130094786729856,
           10.837912087912088,
           15.132083333333334,
           13.306581632653062,
           11.395486111111111,
           10.440396475770925,
           11.593319672131148,
           12.352393617021276,
           11.7815,
           10.737474747474748,
           10.038921568627453,
           10.112755555555555,
           10.89497435897436,
           11.527475247524752,
           12.78592391304348,
           10.980880281690142,
           15.354565217391302,
           15.50867924528302,
           10.98253968253968,
           10.361029411764706,
           10.40545871559633,
           10.215674157303372,
           12.740975609756097,
           13.82646153846154,
           12.999425287356322,
           10.328933333333334,
           10.902599118942732,
           13.459634146341465,
           12.677349397590362,
           13.117810650887574,
           11.108878504672898,
           13.275224719101123,
           10.987230046948358,
           10.569949238578682,
           27.27852941176471,
           16.94448979591837,
           21.837704918032784,
           12.58621301775148,
           11.542616279069769,
           14.185868263473054,
           10.3597265625,
           11.384631578947369,
           11.788685714285714,
           14.438928571428573,
           17.30063694267516,
           14.2428,
           14.432914798206278,
           16.23578313253012,
           11.313333333333333,
           10.928525345622118,
           14.651780821917807,
           11.433468208092483,
           11.645841121495328,
           12.85848275862069,
           21.739406779661017,
           12.07393063583815,
           10.756852589641433,
           13.947960526315793,
           14.227596153846154,
           11.34742105263158,
           10.765480427046263,
           12.981441441441442,
           10.71903409090909,
           12.391918604651162,
           10.745454545454546,
           14.712569444444446,
           10.605942028985506,
           11.159470899470898,
           10.823291139240506,
           10.968920187793428,
           10.071238938053098,
           15.074133333333332,
           18.14188034188034,
           12.075957446808513,
           10.109333333333334,
           12.976705202312138,
           11.8853738317757,
           12.93632850241546,
           11.76878787878788,
           10.725962732919257,
           11.69063492063492,
           12.43768,
           13.97,
           12.499130434782607,
           11.525783783783783,
           10.167349397590362,
           10.47144859813084,
           10.325180722891568,
           10.062682926829268,
           10.831238532110092,
           10.46740566037736,
           13.83176056338028,
           15.038373205741626,
           11.31126984126984,
           11.38387434554974,
           11.353805668016191,
           10.429414634146342,
           10.6632,
           10.657238095238094,
           11.903264248704662,
           12.272953367875648,
           17.43464788732394,
           13.079297520661155,
           11.917921348314604,
           10.402178988326847,
           11.762122905027931,
           12.087485714285714,
           10.14217391304348,
           11.324930555555556,
           10.447102040816326,
           16.302480620155038,
           10.09172131147541,
           16.077251908396946,
           10.632241379310344,
           10.2640206185567,
           11.819489795918368,
           10.17290780141844,
           10.165814977973568,
           15.339935064935064,
           21.460476190476196,
           14.454539877300617,
           11.649014778325125,
           10.330945945945944,
           15.994285714285713,
           15.886781609195404,
           10.063682310469314,
           12.752566037735848,
           10.15703180212014,
           15.166415094339625,
           11.068177083333332,
           13.317473684210528,
           18.2361038961039,
           11.30465240641711,
           10.485576923076923,
           11.35217105263158,
           10.630625,
           26.243471074380167,
           12.310884353741496,
           20.51590909090909,
           11.742641509433962,
           19.3874,
           13.700051813471504,
           10.240451612903223,
           18.577777777777776,
           14.4375,
           12.181761363636362,
           10.682139303482588,
           23.85238095238095,
           17.071494252873563,
           10.048297872340424,
           10.278708333333332,
           16.09342105263158,
           11.6803007518797,
           10.517011494252872,
           18.802535211267607,
           24.968205128205128,
           10.046906779661018,
           27.82964705882353,
           10.380929203539823,
           10.869153846153846,
           11.34301204819277,
           11.040666666666668,
           16.846835443037975,
           14.643194444444443,
           13.0705291005291,
           11.441831683168315,
           15.912090909090908,
           11.104758620689656,
           10.213055555555556,
           14.556178343949046,
           10.299298245614034,
           18.131351351351352,
           10.960725388601036,
           11.0698755186722,
           16.388529411764708,
           10.221883116883117,
           23.871340206185568,
           15.073483870967742,
           11.499537037037037,
           11.102380952380951,
           10.655948717948718,
           12.663097826086958,
           10.143364928909952,
           10.92054347826087,
           12.230133333333333,
           12.24795,
           10.37358870967742,
           10.187051282051282,
           12.97939226519337,
           20.126901408450703,
           10.654310344827586,
           11.512878048780488,
           12.89198795180723,
           14.047924528301886,
           10.859880952380951,
           13.048923076923076,
           16.622613636363635,
           12.095103092783503,
           11.93890625,
           16.922083333333333,
           16.11160975609756,
           11.983034825870648,
           11.926906474820145,
           14.651527777777778,
           10.517049180327868,
           11.81375,
           10.22247311827957,
           11.029398148148148,
           16.055342465753423,
           10.204663677130045,
           16.005,
           12.453383458646616,
           11.041727748691098,
           10.743290043290042,
           10.752314049586778,
           10.759556650246306,
           13.364247311827956,
           17.092028985507245,
           11.357326203208556,
           22.60712765957447,
           13.082352941176472,
           11.2894,
           20.922389380530973,
           10.234884792626728,
           11.72323943661972,
           15.456568047337278,
           13,
           10.144933333333334,
           15.703333333333331,
           15.19174193548387,
           11.341138613861386,
           10.438816568047338,
           11.41079069767442,
           10.85989010989011,
           15.376907216494844,
           11.526160337552742,
           10.140983606557375,
           10.003793103448276,
           11.02423469387755,
           11.519583333333337,
           10.217400881057268,
           10.310361990950229,
           10.40253164556962,
           12.27005988023952,
           10.972254335260116,
           10.480555555555556,
           14.0425,
           10.3717094017094,
           13.068229166666669,
           11.416043956043955,
           11.15021164021164,
           11.728333333333332,
           19.0071,
           10.17514084507042,
           11.011116071428573,
           10.472967741935484,
           11.088566037735848,
           11.201921182266007,
           11.766383763837638,
           10.756102564102564,
           12.54,
           10.429512195121951,
           10.802244897959184,
           17.291530612244898,
           12.729679144385026,
           12.23970297029703,
           12.492592592592594,
           11.80928143712575,
           10.495454545454546,
           19.1328,
           10.83096,
           10.43729007633588,
           11.11121771217712,
           10.300777777777778,
           10.58993031358885,
           18.80234042553192,
           14.486131386861311,
           10.328292682926833,
           10.727796610169491,
           14.411621621621622,
           12.340606060606062,
           10.325932203389833,
           10.865668202764976,
           11.442916666666669,
           10.728056872037914,
           16.721103896103898,
           13.029745762711864,
           12.0575,
           10.5103125,
           10.6872,
           14.539411764705882,
           12.998052631578949,
           10.073457249070632,
           10.105627906976745,
           10.328,
           12.926428571428572,
           10.39285046728972,
           12.76545945945946,
           13.509017341040462,
           10.242335329341318,
           10.457657657657656,
           17.801268656716417,
           12.109864864864864,
           14.882617449664432,
           10.48024630541872,
           19.195454545454545,
           21.859562043795624,
           10.80676724137931,
           10.636515679442509,
           27.446962025316456,
           11.491534883720927,
           40.70678571428572,
           16.34962962962963,
           16.25758620689655,
           10.12686046511628,
           10.03457264957265,
           10.01948356807512,
           11.314502369668247,
           12.133352601156073,
           14.040058823529412,
           10.072139303482588,
           10.07065306122449,
           10.182272727272728,
           10.695353535353537
          ],
          "coloraxis": "coloraxis"
         },
         "mode": "markers",
         "name": "",
         "showlegend": false,
         "subplot": "mapbox",
         "type": "scattermapbox"
        }
       ],
       "layout": {
        "autosize": true,
        "coloraxis": {
         "colorbar": {
          "title": {
           "text": "delivery_speed"
          }
         },
         "colorscale": [
          [
           0,
           "#000000"
          ],
          [
           0.0625,
           "#001f4d"
          ],
          [
           0.125,
           "#003786"
          ],
          [
           0.1875,
           "#0e58a8"
          ],
          [
           0.25,
           "#217eb8"
          ],
          [
           0.3125,
           "#30a4ca"
          ],
          [
           0.375,
           "#54c8df"
          ],
          [
           0.4375,
           "#9be4ef"
          ],
          [
           0.5,
           "#e1e9d1"
          ],
          [
           0.5625,
           "#f3d573"
          ],
          [
           0.625,
           "#e7b000"
          ],
          [
           0.6875,
           "#da8200"
          ],
          [
           0.75,
           "#c65400"
          ],
          [
           0.8125,
           "#ac2301"
          ],
          [
           0.875,
           "#820000"
          ],
          [
           0.9375,
           "#4c0000"
          ],
          [
           1,
           "#000000"
          ]
         ]
        },
        "legend": {
         "tracegroupgap": 0
        },
        "mapbox": {
         "bearing": 0,
         "center": {
          "lat": -58.05533144718596,
          "lon": 0.6422426098125698
         },
         "domain": {
          "x": [
           0,
           1
          ],
          "y": [
           0,
           1
          ]
         },
         "pitch": 0,
         "style": "carto-positron",
         "zoom": 1.3296679117293342
        },
        "template": {
         "data": {
          "bar": [
           {
            "error_x": {
             "color": "#2a3f5f"
            },
            "error_y": {
             "color": "#2a3f5f"
            },
            "marker": {
             "line": {
              "color": "#E5ECF6",
              "width": 0.5
             },
             "pattern": {
              "fillmode": "overlay",
              "size": 10,
              "solidity": 0.2
             }
            },
            "type": "bar"
           }
          ],
          "barpolar": [
           {
            "marker": {
             "line": {
              "color": "#E5ECF6",
              "width": 0.5
             },
             "pattern": {
              "fillmode": "overlay",
              "size": 10,
              "solidity": 0.2
             }
            },
            "type": "barpolar"
           }
          ],
          "carpet": [
           {
            "aaxis": {
             "endlinecolor": "#2a3f5f",
             "gridcolor": "white",
             "linecolor": "white",
             "minorgridcolor": "white",
             "startlinecolor": "#2a3f5f"
            },
            "baxis": {
             "endlinecolor": "#2a3f5f",
             "gridcolor": "white",
             "linecolor": "white",
             "minorgridcolor": "white",
             "startlinecolor": "#2a3f5f"
            },
            "type": "carpet"
           }
          ],
          "choropleth": [
           {
            "colorbar": {
             "outlinewidth": 0,
             "ticks": ""
            },
            "type": "choropleth"
           }
          ],
          "contour": [
           {
            "colorbar": {
             "outlinewidth": 0,
             "ticks": ""
            },
            "colorscale": [
             [
              0,
              "#0d0887"
             ],
             [
              0.1111111111111111,
              "#46039f"
             ],
             [
              0.2222222222222222,
              "#7201a8"
             ],
             [
              0.3333333333333333,
              "#9c179e"
             ],
             [
              0.4444444444444444,
              "#bd3786"
             ],
             [
              0.5555555555555556,
              "#d8576b"
             ],
             [
              0.6666666666666666,
              "#ed7953"
             ],
             [
              0.7777777777777778,
              "#fb9f3a"
             ],
             [
              0.8888888888888888,
              "#fdca26"
             ],
             [
              1,
              "#f0f921"
             ]
            ],
            "type": "contour"
           }
          ],
          "contourcarpet": [
           {
            "colorbar": {
             "outlinewidth": 0,
             "ticks": ""
            },
            "type": "contourcarpet"
           }
          ],
          "heatmap": [
           {
            "colorbar": {
             "outlinewidth": 0,
             "ticks": ""
            },
            "colorscale": [
             [
              0,
              "#0d0887"
             ],
             [
              0.1111111111111111,
              "#46039f"
             ],
             [
              0.2222222222222222,
              "#7201a8"
             ],
             [
              0.3333333333333333,
              "#9c179e"
             ],
             [
              0.4444444444444444,
              "#bd3786"
             ],
             [
              0.5555555555555556,
              "#d8576b"
             ],
             [
              0.6666666666666666,
              "#ed7953"
             ],
             [
              0.7777777777777778,
              "#fb9f3a"
             ],
             [
              0.8888888888888888,
              "#fdca26"
             ],
             [
              1,
              "#f0f921"
             ]
            ],
            "type": "heatmap"
           }
          ],
          "heatmapgl": [
           {
            "colorbar": {
             "outlinewidth": 0,
             "ticks": ""
            },
            "colorscale": [
             [
              0,
              "#0d0887"
             ],
             [
              0.1111111111111111,
              "#46039f"
             ],
             [
              0.2222222222222222,
              "#7201a8"
             ],
             [
              0.3333333333333333,
              "#9c179e"
             ],
             [
              0.4444444444444444,
              "#bd3786"
             ],
             [
              0.5555555555555556,
              "#d8576b"
             ],
             [
              0.6666666666666666,
              "#ed7953"
             ],
             [
              0.7777777777777778,
              "#fb9f3a"
             ],
             [
              0.8888888888888888,
              "#fdca26"
             ],
             [
              1,
              "#f0f921"
             ]
            ],
            "type": "heatmapgl"
           }
          ],
          "histogram": [
           {
            "marker": {
             "pattern": {
              "fillmode": "overlay",
              "size": 10,
              "solidity": 0.2
             }
            },
            "type": "histogram"
           }
          ],
          "histogram2d": [
           {
            "colorbar": {
             "outlinewidth": 0,
             "ticks": ""
            },
            "colorscale": [
             [
              0,
              "#0d0887"
             ],
             [
              0.1111111111111111,
              "#46039f"
             ],
             [
              0.2222222222222222,
              "#7201a8"
             ],
             [
              0.3333333333333333,
              "#9c179e"
             ],
             [
              0.4444444444444444,
              "#bd3786"
             ],
             [
              0.5555555555555556,
              "#d8576b"
             ],
             [
              0.6666666666666666,
              "#ed7953"
             ],
             [
              0.7777777777777778,
              "#fb9f3a"
             ],
             [
              0.8888888888888888,
              "#fdca26"
             ],
             [
              1,
              "#f0f921"
             ]
            ],
            "type": "histogram2d"
           }
          ],
          "histogram2dcontour": [
           {
            "colorbar": {
             "outlinewidth": 0,
             "ticks": ""
            },
            "colorscale": [
             [
              0,
              "#0d0887"
             ],
             [
              0.1111111111111111,
              "#46039f"
             ],
             [
              0.2222222222222222,
              "#7201a8"
             ],
             [
              0.3333333333333333,
              "#9c179e"
             ],
             [
              0.4444444444444444,
              "#bd3786"
             ],
             [
              0.5555555555555556,
              "#d8576b"
             ],
             [
              0.6666666666666666,
              "#ed7953"
             ],
             [
              0.7777777777777778,
              "#fb9f3a"
             ],
             [
              0.8888888888888888,
              "#fdca26"
             ],
             [
              1,
              "#f0f921"
             ]
            ],
            "type": "histogram2dcontour"
           }
          ],
          "mesh3d": [
           {
            "colorbar": {
             "outlinewidth": 0,
             "ticks": ""
            },
            "type": "mesh3d"
           }
          ],
          "parcoords": [
           {
            "line": {
             "colorbar": {
              "outlinewidth": 0,
              "ticks": ""
             }
            },
            "type": "parcoords"
           }
          ],
          "pie": [
           {
            "automargin": true,
            "type": "pie"
           }
          ],
          "scatter": [
           {
            "marker": {
             "colorbar": {
              "outlinewidth": 0,
              "ticks": ""
             }
            },
            "type": "scatter"
           }
          ],
          "scatter3d": [
           {
            "line": {
             "colorbar": {
              "outlinewidth": 0,
              "ticks": ""
             }
            },
            "marker": {
             "colorbar": {
              "outlinewidth": 0,
              "ticks": ""
             }
            },
            "type": "scatter3d"
           }
          ],
          "scattercarpet": [
           {
            "marker": {
             "colorbar": {
              "outlinewidth": 0,
              "ticks": ""
             }
            },
            "type": "scattercarpet"
           }
          ],
          "scattergeo": [
           {
            "marker": {
             "colorbar": {
              "outlinewidth": 0,
              "ticks": ""
             }
            },
            "type": "scattergeo"
           }
          ],
          "scattergl": [
           {
            "marker": {
             "colorbar": {
              "outlinewidth": 0,
              "ticks": ""
             }
            },
            "type": "scattergl"
           }
          ],
          "scattermapbox": [
           {
            "marker": {
             "colorbar": {
              "outlinewidth": 0,
              "ticks": ""
             }
            },
            "type": "scattermapbox"
           }
          ],
          "scatterpolar": [
           {
            "marker": {
             "colorbar": {
              "outlinewidth": 0,
              "ticks": ""
             }
            },
            "type": "scatterpolar"
           }
          ],
          "scatterpolargl": [
           {
            "marker": {
             "colorbar": {
              "outlinewidth": 0,
              "ticks": ""
             }
            },
            "type": "scatterpolargl"
           }
          ],
          "scatterternary": [
           {
            "marker": {
             "colorbar": {
              "outlinewidth": 0,
              "ticks": ""
             }
            },
            "type": "scatterternary"
           }
          ],
          "surface": [
           {
            "colorbar": {
             "outlinewidth": 0,
             "ticks": ""
            },
            "colorscale": [
             [
              0,
              "#0d0887"
             ],
             [
              0.1111111111111111,
              "#46039f"
             ],
             [
              0.2222222222222222,
              "#7201a8"
             ],
             [
              0.3333333333333333,
              "#9c179e"
             ],
             [
              0.4444444444444444,
              "#bd3786"
             ],
             [
              0.5555555555555556,
              "#d8576b"
             ],
             [
              0.6666666666666666,
              "#ed7953"
             ],
             [
              0.7777777777777778,
              "#fb9f3a"
             ],
             [
              0.8888888888888888,
              "#fdca26"
             ],
             [
              1,
              "#f0f921"
             ]
            ],
            "type": "surface"
           }
          ],
          "table": [
           {
            "cells": {
             "fill": {
              "color": "#EBF0F8"
             },
             "line": {
              "color": "white"
             }
            },
            "header": {
             "fill": {
              "color": "#C8D4E3"
             },
             "line": {
              "color": "white"
             }
            },
            "type": "table"
           }
          ]
         },
         "layout": {
          "annotationdefaults": {
           "arrowcolor": "#2a3f5f",
           "arrowhead": 0,
           "arrowwidth": 1
          },
          "autotypenumbers": "strict",
          "coloraxis": {
           "colorbar": {
            "outlinewidth": 0,
            "ticks": ""
           }
          },
          "colorscale": {
           "diverging": [
            [
             0,
             "#8e0152"
            ],
            [
             0.1,
             "#c51b7d"
            ],
            [
             0.2,
             "#de77ae"
            ],
            [
             0.3,
             "#f1b6da"
            ],
            [
             0.4,
             "#fde0ef"
            ],
            [
             0.5,
             "#f7f7f7"
            ],
            [
             0.6,
             "#e6f5d0"
            ],
            [
             0.7,
             "#b8e186"
            ],
            [
             0.8,
             "#7fbc41"
            ],
            [
             0.9,
             "#4d9221"
            ],
            [
             1,
             "#276419"
            ]
           ],
           "sequential": [
            [
             0,
             "#0d0887"
            ],
            [
             0.1111111111111111,
             "#46039f"
            ],
            [
             0.2222222222222222,
             "#7201a8"
            ],
            [
             0.3333333333333333,
             "#9c179e"
            ],
            [
             0.4444444444444444,
             "#bd3786"
            ],
            [
             0.5555555555555556,
             "#d8576b"
            ],
            [
             0.6666666666666666,
             "#ed7953"
            ],
            [
             0.7777777777777778,
             "#fb9f3a"
            ],
            [
             0.8888888888888888,
             "#fdca26"
            ],
            [
             1,
             "#f0f921"
            ]
           ],
           "sequentialminus": [
            [
             0,
             "#0d0887"
            ],
            [
             0.1111111111111111,
             "#46039f"
            ],
            [
             0.2222222222222222,
             "#7201a8"
            ],
            [
             0.3333333333333333,
             "#9c179e"
            ],
            [
             0.4444444444444444,
             "#bd3786"
            ],
            [
             0.5555555555555556,
             "#d8576b"
            ],
            [
             0.6666666666666666,
             "#ed7953"
            ],
            [
             0.7777777777777778,
             "#fb9f3a"
            ],
            [
             0.8888888888888888,
             "#fdca26"
            ],
            [
             1,
             "#f0f921"
            ]
           ]
          },
          "colorway": [
           "#636efa",
           "#EF553B",
           "#00cc96",
           "#ab63fa",
           "#FFA15A",
           "#19d3f3",
           "#FF6692",
           "#B6E880",
           "#FF97FF",
           "#FECB52"
          ],
          "font": {
           "color": "#2a3f5f"
          },
          "geo": {
           "bgcolor": "white",
           "lakecolor": "white",
           "landcolor": "#E5ECF6",
           "showlakes": true,
           "showland": true,
           "subunitcolor": "white"
          },
          "hoverlabel": {
           "align": "left"
          },
          "hovermode": "closest",
          "mapbox": {
           "style": "light"
          },
          "paper_bgcolor": "white",
          "plot_bgcolor": "#E5ECF6",
          "polar": {
           "angularaxis": {
            "gridcolor": "white",
            "linecolor": "white",
            "ticks": ""
           },
           "bgcolor": "#E5ECF6",
           "radialaxis": {
            "gridcolor": "white",
            "linecolor": "white",
            "ticks": ""
           }
          },
          "scene": {
           "xaxis": {
            "backgroundcolor": "#E5ECF6",
            "gridcolor": "white",
            "gridwidth": 2,
            "linecolor": "white",
            "showbackground": true,
            "ticks": "",
            "zerolinecolor": "white"
           },
           "yaxis": {
            "backgroundcolor": "#E5ECF6",
            "gridcolor": "white",
            "gridwidth": 2,
            "linecolor": "white",
            "showbackground": true,
            "ticks": "",
            "zerolinecolor": "white"
           },
           "zaxis": {
            "backgroundcolor": "#E5ECF6",
            "gridcolor": "white",
            "gridwidth": 2,
            "linecolor": "white",
            "showbackground": true,
            "ticks": "",
            "zerolinecolor": "white"
           }
          },
          "shapedefaults": {
           "line": {
            "color": "#2a3f5f"
           }
          },
          "ternary": {
           "aaxis": {
            "gridcolor": "white",
            "linecolor": "white",
            "ticks": ""
           },
           "baxis": {
            "gridcolor": "white",
            "linecolor": "white",
            "ticks": ""
           },
           "bgcolor": "#E5ECF6",
           "caxis": {
            "gridcolor": "white",
            "linecolor": "white",
            "ticks": ""
           }
          },
          "title": {
           "x": 0.05
          },
          "xaxis": {
           "automargin": true,
           "gridcolor": "white",
           "linecolor": "white",
           "ticks": "",
           "title": {
            "standoff": 15
           },
           "zerolinecolor": "white",
           "zerolinewidth": 2
          },
          "yaxis": {
           "automargin": true,
           "gridcolor": "white",
           "linecolor": "white",
           "ticks": "",
           "title": {
            "standoff": 15
           },
           "zerolinecolor": "white",
           "zerolinewidth": 2
          }
         }
        },
        "title": {
         "text": "Location of fastest sellers"
        }
       }
      },
      "image/png": "[encoded data removed]",
      "text/html": [
       "<div>                            <div id=\"9976df12-4f04-40d5-99e7-133fb88ecefc\" class=\"plotly-graph-div\" style=\"height:525px; width:100%;\"></div>            <script type=\"text/javascript\">                require([\"plotly\"], function(Plotly) {                    window.PLOTLYENV=window.PLOTLYENV || {};                                    if (document.getElementById(\"9976df12-4f04-40d5-99e7-133fb88ecefc\")) {                    Plotly.newPlot(                        \"9976df12-4f04-40d5-99e7-133fb88ecefc\",                        [{\"hovertemplate\":\"seller_lat=%{lat}<br>seller_lng=%{lon}<br>delivery_speed=%{marker.color}<extra></extra>\",\"lat\":[-18.65264443369265,-2.501242200626004,-22.54079651100627,-22.829351276710423,-3.766765995603741,-23.69101304628181,-23.53804880179313,-23.552336441109283,-23.53755537000389,-29.919402974839493,-19.89457420752632,-23.538268511790665,-22.988257375889454,-19.90612056261318,-8.049884228325219,-23.652366177840182,-23.652366177840182,-23.515977900238106,-23.515977900238106,-23.21686067703018,-23.552336441109283,-23.31247663924116,-22.32247412421865,-23.589847401363585,-23.512459731266134,-24.00892314920891,-24.026525667888205,-23.49993790539783,-8.135890720198347,-23.52039186756291,-28.290552519798347,-25.45693388285516,-19.86949505446246,-26.28730662064822,-23.539899237124576,-23.66130475506377,-19.94300350459581,-25.45693388285516,-29.919402974839493,-21.75732063771277,-8.135890720198347,-23.652366177840182,-23.46817509806932,-23.48968789588101,-23.66130475506377,-23.37087914790086,-23.62020569014463,-23.65936363644085,-19.95608602662569,-23.53994436316013,-27.81772374608258,-2.501242200626004,-29.19085626647707,-23.492024033814,-23.551881657731418,-23.57601657708377,-22.805706631753825,-23.442890814200968,-2.501242200626004,-23.552336441109283,-23.436153784043967,-23.48968789588101,-23.48968789588101,-2.501242200626004,-30.03321276448013,-22.41292693577841,-19.9178260281884,-23.551881657731418,-25.430144074286265,-22.1362294598616,-8.135890720198347,-23.93357260989164,-25.448990860825614,-28.290552519798347,-22.721605279768426,-2.501242200626004,-24.296024477069253,-22.892057554565948,-12.89316674808706,-23.60497215144589,-21.469600955340287,-23.546530378903565,-19.86949505446246,-8.135890720198347,-21.75732063771277,-23.652366177840182,-23.587353600670152,-22.9042136924814,-23.676569848880845,-29.919402974839493,-19.918527030159275,-23.587353600670152,-21.35993680296325,-30.03321276448013,-22.57812624091892,-2.501242200626004,-23.652366177840182,-8.135890720198347,-30.03321276448013,-2.501242200626004,-22.93526347623966,-20.536613759556865,-23.519193185045896,-23.652366177840182,-23.543150156894832,-6.491794555348289,-23.96974624488773,-23.44990733896688,-22.85547822328912,-30.03321276448013,-23.589847401363585,-9.024839005157318,-23.53631040591802,-22.757882920125365,-23.595498594800542,-29.90495069395657,-8.135890720198347,-22.92496986205362,-23.65936363644085,-19.9264100998534,-23.531234542419785,-23.37087914790086,-29.19085626647707,-23.552336441109283,-23.522840094345344,-2.501242200626004,-25.41804942777255,-19.92056947090005,-20.27851289140612,-8.135890720198347,-29.95269333551592,-22.110680580939565,-22.88170855771708,-22.892057554565948,-26.914469334728032,-19.9178260281884,-23.66130475506377,-23.53994436316013,-28.871905438293474,-23.541812281010863,-22.41292693577841,-23.6346070261456,-29.919402974839493,-23.652366177840182,-22.43118412282637,-2.501242200626004,-23.541812243632904,-19.884069370503447,-8.135890720198347,-26.89066585414966,-23.56880146453725,-23.580395310431417,-23.71504959465716,-2.501242200626004,-8.135890720198347,-29.919402974839493,-19.951799038267147,-23.541905853440447,-6.837168594957801,-23.59383917278593,-23.66130475506377,-19.84757316684865,-8.135890720198347,-20.832044636563623,-2.501242200626004,-16.664457060457906,-22.54079651100627,-21.75732063771277,-2.501242200626004,-23.543150156894832,-2.501242200626004,-24.95918428429228,-23.484769700217907,-23.53994436316013,-18.921397435860243,-23.52039186756291,-26.04430566637632,-23.533798010777897,-23.65936363644085,-2.501242200626004,-21.803200599395232,-22.655502343064512,-23.652366177840182,-23.57127586906545,-29.919402974839493,-23.552336441109283,-27.81772374608258,-19.85461537734019,-8.135890720198347,-23.188409628905863,-23.66130475506377,-23.5058713385214,-23.65936363644085,-23.53103954223585,-23.65936363644085,-15.81319450570022,-23.652366177840182,-8.135890720198347,-29.95269333551592,-23.37087914790086,-21.75732063771277,-23.747947364049548,-23.680729252163324,-23.54706743134006,-3.766765995603741,-15.827493762553392,-23.48892715522341,-23.114730524308005,-22.88998236045834,-22.96169371848569,-23.553659985884053,-23.302318252316944,-23.652366177840182,-23.589847401363585,-2.501242200626004,-22.92496986205362,-23.652366177840182,-23.515977900238106,-6.837168594957801,-3.717490463103508,-21.803200599395232,-23.515977900238106,-23.543150156894832,-23.552336441109283,-23.541812243632904,-2.501242200626004,-22.1362294598616,-22.740325486164828,-23.65936363644085,-8.135890720198347,-8.766194545807494,-19.951799038267147,-8.135890720198347,-23.209471278916475,-23.539899237124576,-23.67120903205988,-12.89316674808706,-24.026525667888205,-20.81912074784063,-20.27851289140612,-23.53965712727096,-23.5048912112042,-23.561456812728604,-22.8221365108088,-5.886563452788081,-23.59680394879425,-22.97545814072231,-23.652366177840182,-23.71504959465716,-23.179531489945607,-18.92408019816437,-3.766765995603741,-28.29124464593788,-8.058867141399071,-29.68433084309637,-19.506713154390688,-22.735332235607448,-22.1362294598616,-8.766194545807494,-29.68433084309637,-22.425778361057304,-23.68166159783415,-3.766765995603741,-25.36747499672607,-23.65936363644085,-30.00818156770628,-23.552336441109283,-23.65936363644085,-22.033506163362222,-23.46870426001278,-15.80698607290208,-30.01552834486621,-23.503984838767177,-23.652366177840182,-2.501242200626004,-23.552336441109283,-23.587353600670152,-23.635529881663825,-2.501242200626004,-23.31812709264707,-19.89457420752632,-23.6913846262179,-8.135890720198347,-30.03321276448013,-23.580395310431417,-23.59277554744454,-23.47874415112702,-22.829351276710423,-27.4198423877185,-22.837911776525186,-23.69101304628181,-8.135890720198347,-23.525219436926424,-19.89457420752632,-2.501242200626004,-12.89316674808706,-23.62547545562188,-6.837168594957801,-26.94994268763476,-23.551881657731418,-23.69101304628181,-8.135890720198347,-22.38340773030761,-23.70019768743884,-23.95460047631286,-23.47874415112702,-22.93526347623966,-22.743646919862503,-22.757882920125365,-23.543150156894832,-19.86949505446246,-25.46101647360314,-23.595498594800542,-23.04955173261455,-23.66130475506377,-23.652366177840182,-22.740325486164828,-23.543150156894832,-23.114730524308005,-30.03321276448013,-21.172861452750706,-22.892057554565948,-23.560182683752867,-23.589847401363585,-28.32938171277176,-25.43364816532121,-2.501242200626004,-12.901987911198416,-20.52861928433883,-2.501242200626004,-25.4699735553138,-19.90612056261318,-23.652366177840182,-23.62547545562188,-8.135890720198347,-2.501242200626004,-23.47281465844908,-3.905726996478778,-25.45693388285516,-23.44053398829077,-30.03321276448013,-23.718907865445058,-2.501242200626004,-28.29124464593788,-29.69420437579113,-23.65936363644085,-22.1362294598616,-23.62274809500327,-22.99576186030152,-23.652366177840182,-23.62547545562188,-30.077760743041143,-23.65936363644085,-23.680729252163324,-2.501242200626004,-25.513673225973893,-22.953714882106723,-23.21174633273221,-24.711673570658885,-21.75732063771277,-25.4699735553138,-23.53624654014997,-22.8221365108088,-22.60000425928191,-23.73885547032336,-3.717490463103508,-20.46253562176836,-25.42197753948749,-22.822624306841355,-23.436153784043967,-23.543150156894832,-23.41304547340984,-23.66130475506377,-8.135890720198347,-23.578171603805533,-2.501242200626004,-23.539553595497527,-29.68780422662314,-15.838225542625707,-8.135890720198347,-28.290552519798347,-23.541905853440447,-26.232193978218582,-8.135890720198347,-5.886563452788081,-25.45693388285516,-24.00892314920891,-28.29124464593788,-23.580395310431417,-25.441571360403625,-23.526306422402715,-30.03321276448013,-23.652366177840182,-23.65936363644085,-22.26258413023529,-2.501242200626004,-2.501242200626004,-2.501242200626004,-23.570211693584675,-19.951799038267147,-19.951799038267147,-2.501242200626004,-8.135890720198347,-23.543000459064807,-2.501242200626004,-22.285564358190715,-23.57127586906545,-23.37087914790086,-23.62547545562188,-2.501242200626004,-23.589847401363585,-2.501242200626004,-23.50320576014991,-19.86949505446246,-23.493718851420663,-23.08992524585618,-8.135890720198347,-22.430217898121057,-2.501242200626004,-19.836057733815164,-22.555991404059704,-23.550472430843698,-2.501242200626004,-22.92496986205362,-23.747947364049548,-23.44565538225258,-23.65936363644085,-23.605514428769723,-23.652366177840182,-23.484769700217907,-23.45763338134832,-23.652366177840182,-22.757882920125365,-23.21174633273221,-23.53994436316013,-23.66130475506377,-23.114730524308005,-23.541905853440447,-27.81772374608258,-25.45693388285516,-8.12050227334272,-30.077760743041143,-30.03321276448013,-23.652366177840182,-22.93198016932755,-19.86949505446246,-23.651458409656644,-25.36747499672607,-23.613258022164977,-8.135890720198347,-23.652366177840182,-22.73701486100054,-19.89457420752632,-23.48686598302112,-23.724055488204502,-8.135890720198347,-19.807680657862143,-23.652366177840182,-28.633920987357754,-23.493718851420663,-22.100315101836674,-8.135890720198347,-23.65936363644085,-22.26258413023529,-30.03321276448013,-23.50486890861525,-23.515977900238106,-23.48968789588101,-23.65936363644085,-23.652366177840182,-23.53965712727096,-2.501242200626004,-23.652366177840182,-2.501242200626004,-25.469955086957725,-25.513673225973893,-22.213865032134283,-19.91337994376673,-19.918527030159275,-30.03321276448013,-24.00892314920891,-23.528549092116897,-21.75732063771277,-23.652366177840182,-2.501242200626004,-15.880162327315896,-23.62057801188256,-23.62547545562188,-23.37087914790086,-8.135890720198347,-30.03321276448013,-23.68166159783415,-23.59345494924625,-24.966466359942885,-23.57669802149096,-16.690437557318464,-25.612764068813902,-23.53965712727096,-8.135890720198347,-23.62547545562188,-2.501242200626004,-8.135890720198347,-25.394747235498823,-23.53103954223585,-23.42946359631355,-28.290552519798347,-8.135890720198347,-8.135890720198347,-19.84757316684865,-23.652366177840182,-23.63500525801046,-8.135890720198347,-22.892057554565948,-2.501242200626004,-23.302318252316944,-23.46870426001278,-23.595498594800542,-19.760188995545462,-23.541812243632904,-23.559131335715936,-28.290552519798347,-23.5272590329992,-23.202268092167245,-26.91187688025885,-25.46101647360314,-2.501242200626004,-23.410633365293403,-8.135890720198347,-29.40523713119915,-2.501242200626004,-8.135890720198347,-21.21170599189456,-23.53243832363705,-23.589847401363585,-30.03321276448013,-15.813933452398985,-23.55364177873547,-23.69118300968993,-19.951799038267147,-27.81772374608258,-11.83455242799876,-8.135890720198347,-23.66385515483215,-23.652366177840182,-23.69101304628181,-23.552336441109283,-23.531424390734568,-22.868363814263645,-23.552336441109283,-8.045413124545014,-28.290552519798347,-19.9264100998534,-30.077760743041143,-23.515977900238106,-22.757096912776348,-23.652366177840182,-23.42946359631355,-21.3635017097994,-26.226411667053,-22.285564358190715,-30.03321276448013,-23.003301740276893,-23.55305446892853,-12.89316674808706,-19.45799501338864,-20.46253562176836,-11.304164446373438,-23.04955173261455,-23.503984838767177,-30.03321276448013,-8.135890720198347,-23.652366177840182,-30.03058947301783,-29.68433084309637,-22.892057554565948,-2.501242200626004,-23.595498594800542,-30.00648930091964,-23.425555705619,-23.719576291836983,-23.652366177840182,-21.3635017097994,-16.696727724111284,-25.456349625618472,-27.10572411117105,-23.652366177840182,-2.501242200626004,-22.93526347623966,-21.83491864103435,-23.652366177840182,-8.135890720198347,-23.6346070261456,-20.43232199650956,-26.610216926670343,-23.530395619220247,-23.48115800015399,-23.21174633273221,-23.553659985884053,-23.541905853440447,-22.43118412282637,-19.9318555870041,-5.886563452788081,-24.951755468655858,-25.38230981687026,-23.580395310431417,-23.69118300968993,-23.522840094345344,-2.501242200626004,-30.03321276448013,-23.595498594800542,-22.767878146745,-23.525428760068145,-19.89744032717272,-3.786626668221328,-23.69101304628181,-25.53849934881501,-19.9178260281884,-23.59250411503919,-25.44178653148089,-22.769600179710007,-3.717490463103508,-23.589847401363585,-25.51124719435153,-25.437225932288545,-25.469955086957725,-22.9140200060427,-8.135890720198347,-23.54339460016357,-21.75732063771277,-21.75732063771277,-23.37087914790086,-23.53965712727096,-22.55124525869924,-23.70019768743884,-8.135890720198347,-23.587353600670152,-23.652366177840182,-23.519193185045896,-2.501242200626004,-22.92496986205362,-25.45693388285516,-23.62547545562188,-23.50893894612541,-22.91624456473871,-30.01552834486621,-26.2644850091146,-29.16744881112399,-30.03321276448013,-19.86949505446246,-30.077760743041143,-23.522840094345344,-23.521944210545936,-23.54890998191391,-19.89457420752632,-29.68433084309637,-2.501242200626004,-30.00818156770628,-22.892057554565948,-27.00447650803857,-5.12360945433745,-8.135890720198347,-23.492024033814,-23.652366177840182,-22.905686000249105,-23.209471278916475,-23.652366177840182,-22.8221365108088,-22.892057554565948,-18.50726515886232,-14.223207197286875,-2.501242200626004,-19.884069370503447,-29.919402974839493,-23.66130475506377,-23.04955173261455,-23.50832107138193,-18.77576518394664,-19.506713154390688,-23.427901225690103,-27.60657304539599,-23.59494035584984,-19.86949505446246,-2.501242200626004,-22.757882920125365,-29.674727503663902,-2.501242200626004,-23.57727689232054,-23.53983233291429,-23.21174633273221,-23.5711528559151,-23.589847401363585,-23.652366177840182,-25.54232647353517,-23.53994436316013,-23.589847401363585,-23.550472430843698,-23.10162100644003,-23.65936363644085,-27.21992557329001,-23.652366177840182,-26.32827519256354,-23.580395310431417,-8.135890720198347,-23.484769700217907,-30.00818156770628,-23.543150156894832,-29.919402974839493,-23.7639730208048,-23.58741915450063,-22.892057554565948,-22.740325486164828,-23.515977900238106,-2.501242200626004,-23.538268511790665,-23.70019768743884,-23.69101304628181,-22.979900329721083,-22.767878146745,-23.543150156894832,-23.490758745356786,-19.760188995545462,-23.552336441109283],\"legendgroup\":\"\",\"lon\":[-46.60072914501389,-44.24816336596759,-43.20123507158808,-43.01399541493808,-38.65536409195578,-46.703810106207634,-46.5065203579325,-46.53686856423848,-46.53822847017662,-51.14505892899358,-43.931234581848464,-46.63942263256764,-46.85396269506087,-43.92370433417947,-34.90083430094547,-46.75575337195744,-46.75575337195744,-46.54737185794935,-46.54737185794935,-45.908593804889406,-46.53686856423848,-51.36500347341602,-49.02934087244578,-46.632613806421325,-46.50082148805862,-46.41912533835566,-46.47823694263504,-46.51858686166485,-34.93253582376317,-46.37405086923973,-54.26251143307887,-49.30945498395364,-43.95094395435073,-48.8518015892504,-46.5474065279164,-46.564296407294165,-44.1136240110523,-49.30945498395364,-51.14505892899358,-48.82974353343713,-34.93253582376317,-46.75575337195744,-46.72025344447433,-46.952915158144144,-46.564296407294165,-46.84796832895859,-46.56414467348053,-46.523183340521726,-44.05212106582629,-46.439816187506,-50.330752255444736,-44.24816336596759,-51.23023949816572,-46.72898406045395,-46.64072797271628,-46.74118636634989,-43.42307905240662,-46.50673902926125,-44.24816336596759,-46.53686856423848,-46.55233201188834,-46.952915158144144,-46.952915158144144,-44.24816336596759,-51.231437899598326,-47.5792958770093,-43.942417941975386,-46.64072797271628,-49.28531986744622,-51.3724500454798,-34.93253582376317,-46.32962527759821,-49.28860985729242,-54.26251143307887,-46.844150475904215,-44.24816336596759,-53.3145970174448,-47.08244278411783,-38.33787462509412,-46.62000602777737,-49.22221684743829,-46.56533761884633,-43.95094395435073,-34.93253582376317,-48.82974353343713,-46.75575337195744,-46.61525833895384,-47.05654899637806,-46.66989690432334,-51.14505892899358,-43.93988998298764,-46.61525833895384,-48.07391298482992,-51.231437899598326,-44.96154905740904,-44.24816336596759,-46.75575337195744,-34.93253582376317,-51.231437899598326,-44.24816336596759,-43.18726357297112,-47.43358387554184,-46.53363245277436,-46.75575337195744,-46.49010130952279,-37.451862106329045,-46.321938826751385,-46.56294917650381,-46.31950127100399,-51.231437899598326,-46.632613806421325,-36.57020044972058,-46.65711200863415,-47.41705497247527,-46.559726963517065,-51.07030394103,-34.93253582376317,-47.07428354596361,-46.523183340521726,-43.94586443137008,-46.50691508220304,-46.84796832895859,-51.23023949816572,-46.53686856423848,-46.1955458411618,-44.24816336596759,-49.24877341863132,-44.02640958503362,-40.41167522341208,-34.93253582376317,-51.097790640776445,-51.399092120481285,-47.0504642669472,-47.08244278411783,-49.112263234420354,-43.942417941975386,-46.564296407294165,-46.439816187506,-52.18011144119088,-46.73068651777817,-47.5792958770093,-46.735881844474896,-51.14505892899358,-46.75575337195744,-42.9702210850494,-44.24816336596759,-46.62455025944192,-44.02242139461151,-34.93253582376317,-48.65532838709397,-46.57173940927547,-46.59132639890193,-46.53726820837794,-44.24816336596759,-34.93253582376317,-51.14505892899358,-44.196037480396015,-46.63508761691669,-35.126887193067326,-46.61645866896796,-46.564296407294165,-44.02943024506619,-34.93253582376317,-49.35334480373747,-44.24816336596759,-49.24469282203206,-43.20123507158808,-46.53686856423848,-44.24816336596759,-46.49010130952279,-44.24816336596759,-53.46264400005701,-46.73414273203397,-46.439816187506,-46.60072914501389,-46.37405086923973,-53.0637135521321,-46.517872723882775,-46.523183340521726,-44.24816336596759,-49.60221269289015,-50.42571007913951,-46.75575337195744,-46.479396724588405,-51.14505892899358,-46.53686856423848,-50.330752255444736,-43.914739731934176,-34.93253582376317,-46.85398781828784,-46.564296407294165,-46.62468256911272,-46.523183340521726,-46.51583258285473,-46.523183340521726,-47.89330451642298,-46.75575337195744,-34.93253582376317,-51.097790640776445,-46.84796832895859,-48.82974353343713,-46.68180588603656,-46.44423827270244,-46.52164439061696,-38.65536409195578,-47.92443250257791,-46.66091832100332,-46.552880539877926,-47.19898012005197,-46.52385416525664,-46.45695782334157,-45.97188817895197,-46.75575337195744,-46.632613806421325,-44.24816336596759,-47.07428354596361,-46.75575337195744,-46.54737185794935,-35.126887193067326,-38.59928475757382,-49.60221269289015,-46.54737185794935,-46.49010130952279,-46.53686856423848,-46.62455025944192,-44.24816336596759,-51.3724500454798,-46.89675369133934,-46.523183340521726,-34.93253582376317,-42.92677954827477,-44.196037480396015,-34.93253582376317,-47.30922889223856,-46.5474065279164,-46.49116730072025,-38.33787462509412,-46.47823694263504,-46.53686856423848,-40.41167522341208,-46.63188421270581,-46.726588049747335,-46.63294793571506,-47.27033542521254,-35.20824131593824,-46.63462180317358,-47.00268239234955,-46.75575337195744,-46.53726820837794,-47.31338383666045,-48.24926718659151,-38.65536409195578,-52.79025576343903,-34.90021057469489,-51.09298402937748,-42.6286140396501,-47.17665406567105,-51.3724500454798,-63.89356545864416,-51.09298402937748,-47.560436700322384,-46.623333307785806,-38.65536409195578,-49.18419913151328,-46.523183340521726,-51.20130443913633,-46.53686856423848,-46.523183340521726,-47.90892483428426,-46.51614189492681,-48.104958853481016,-51.16270825237461,-46.6256721599388,-46.75575337195744,-44.24816336596759,-46.53686856423848,-46.61525833895384,-46.69403108090457,-44.24816336596759,-51.1571364228282,-43.931234581848464,-46.54373229668177,-34.93253582376317,-51.231437899598326,-46.59132639890193,-46.60119064355825,-46.58831651709552,-43.01399541493808,-48.42646639542672,-43.322271046058205,-46.703810106207634,-34.93253582376317,-46.51702870503608,-43.931234581848464,-44.24816336596759,-38.33787462509412,-46.61200044104113,-35.126887193067326,-49.07692500050797,-46.64072797271628,-46.703810106207634,-34.93253582376317,-46.93598735087051,-46.51312842218974,-46.3377311534732,-46.58831651709552,-43.18726357297112,-47.31203571315089,-47.41705497247527,-46.49010130952279,-43.95094395435073,-49.231063871318334,-46.559726963517065,-47.83762131131263,-46.564296407294165,-46.75575337195744,-46.89675369133934,-46.49010130952279,-46.552880539877926,-51.231437899598326,-47.82369973956138,-47.08244278411783,-46.60439300394289,-46.632613806421325,-49.176644834659655,-49.26917337587714,-44.24816336596759,-38.40540238991362,-47.38740999652927,-44.24816336596759,-49.30737230197128,-43.92370433417947,-46.75575337195744,-46.61200044104113,-34.93253582376317,-44.24816336596759,-46.60072914501389,-40.74612755881526,-49.30945498395364,-46.46281463364434,-51.231437899598326,-46.39471606155454,-44.24816336596759,-52.79025576343903,-51.23318877432423,-46.523183340521726,-51.3724500454798,-52.47011837512829,-46.70246251262529,-46.75575337195744,-46.61200044104113,-51.05330632286344,-46.523183340521726,-46.44423827270244,-44.24816336596759,-49.25560607832763,-45.839550230520295,-46.76287513805131,-53.747606481343865,-48.82974353343713,-49.30737230197128,-46.66166521796584,-47.27033542521254,-47.407128587319605,-46.447140971353605,-38.59928475757382,-45.43305899816512,-49.27871218867798,-43.00309374212152,-46.55233201188834,-46.49010130952279,-46.72367775577436,-46.564296407294165,-34.93253582376317,-46.5073074074444,-44.24816336596759,-46.70471877885835,-51.46796398824514,-48.053400718858086,-34.93253582376317,-54.26251143307887,-46.63508761691669,-49.411882265954304,-34.93253582376317,-35.20824131593824,-49.30945498395364,-46.41912533835566,-52.79025576343903,-46.59132639890193,-49.26687451387349,-46.84569408911501,-51.231437899598326,-46.75575337195744,-46.523183340521726,-46.17112394057632,-44.24816336596759,-44.24816336596759,-44.24816336596759,-46.71083963489561,-44.196037480396015,-44.196037480396015,-44.24816336596759,-34.93253582376317,-46.63214323386248,-44.24816336596759,-48.53505780924213,-46.479396724588405,-46.84796832895859,-46.61200044104113,-44.24816336596759,-46.632613806421325,-44.24816336596759,-46.42228420833628,-43.95094395435073,-46.54618856351207,-46.61165422508776,-34.93253582376317,-46.57340512991158,-44.24816336596759,-43.94538236770013,-47.422060378397546,-46.53884595688125,-44.24816336596759,-47.07428354596361,-46.68180588603656,-46.54152485277401,-46.523183340521726,-46.49030091198302,-46.75575337195744,-46.73414273203397,-46.650404148793,-46.75575337195744,-46.53686856423848,-46.76287513805131,-46.439816187506,-46.564296407294165,-46.552880539877926,-46.63508761691669,-50.330752255444736,-49.30945498395364,-35.296470274753084,-51.05330632286344,-51.231437899598326,-46.75575337195744,-47.11184149169856,-43.95094395435073,-46.66726499000773,-49.18419913151328,-46.68995373230166,-34.93253582376317,-46.75575337195744,-43.56361873677635,-43.931234581848464,-46.67379824356865,-46.85665731168744,-34.93253582376317,-43.98042684085742,-46.75575337195744,-49.02415747436295,-46.54618856351207,-51.40735633783322,-34.93253582376317,-46.523183340521726,-46.17112394057632,-51.231437899598326,-46.68260221605633,-46.54737185794935,-46.952915158144144,-46.523183340521726,-46.75575337195744,-46.63188421270581,-44.24816336596759,-46.75575337195744,-44.24816336596759,-49.28982106037588,-49.25560607832763,-49.95851972439901,-43.95870189476292,-43.93988998298764,-51.231437899598326,-46.41912533835566,-46.779788326644095,-48.82974353343713,-46.75575337195744,-44.24816336596759,-47.81695942803694,-46.52740978640328,-46.61200044104113,-46.84796832895859,-34.93253582376317,-51.231437899598326,-46.623333307785806,-46.55235596542038,-53.466729765315804,-46.71705184930481,-49.32701527508711,-49.37234951517323,-46.63188421270581,-34.93253582376317,-46.61200044104113,-44.24816336596759,-34.93253582376317,-49.34443757980696,-46.51583258285473,-46.54959010802119,-54.26251143307887,-34.93253582376317,-34.93253582376317,-44.02943024506619,-46.75575337195744,-46.59911604502151,-34.93253582376317,-47.08244278411783,-44.24816336596759,-45.97188817895197,-46.51614189492681,-46.559726963517065,-47.93914526044794,-46.62455025944192,-46.50884108313166,-54.26251143307887,-46.61149456906234,-45.89802848030465,-48.65639411001171,-49.231063871318334,-44.24816336596759,-46.44516359725996,-34.93253582376317,-51.32578918258865,-44.24816336596759,-34.93253582376317,-50.40363945155295,-46.56432027972277,-46.632613806421325,-51.231437899598326,-47.94702492834328,-46.45266128745551,-46.67958429464096,-44.196037480396015,-50.330752255444736,-55.50810988391813,-34.93253582376317,-46.68579217808032,-46.75575337195744,-46.703810106207634,-46.53686856423848,-47.13442765046271,-43.46923216795061,-46.53686856423848,-34.89447935380134,-54.26251143307887,-43.94586443137008,-51.05330632286344,-46.54737185794935,-47.37609423222237,-46.75575337195744,-46.54959010802119,-48.22960077888058,-52.67454717796047,-48.53505780924213,-51.231437899598326,-46.83771515499862,-46.78198098470048,-38.33787462509412,-44.24812822762975,-45.43305899816512,-41.85580503001343,-46.552880539877926,-46.6256721599388,-51.231437899598326,-34.93253582376317,-46.75575337195744,-51.22769725328026,-51.09298402937748,-47.08244278411783,-44.24816336596759,-46.559726963517065,-51.07951429592407,-46.52529155803017,-46.564753092486725,-46.75575337195744,-48.22960077888058,-49.26744894449621,-49.26500692384353,-48.93331822533233,-46.75575337195744,-44.24816336596759,-43.18726357297112,-46.89918572591988,-46.75575337195744,-34.93253582376317,-46.735881844474896,-54.67213920600791,-49.00253404801828,-46.56597235661916,-46.71053625522482,-46.76287513805131,-46.572282911105056,-46.63508761691669,-42.9702210850494,-43.93264743101025,-35.20824131593824,-53.42517181498286,-51.45456651508261,-46.59132639890193,-46.67958429464096,-46.1955458411618,-44.24816336596759,-51.231437899598326,-46.559726963517065,-47.38550081126996,-46.51380633487217,-43.957177760395545,-38.567945481184445,-46.703810106207634,-49.19950992683624,-43.942417941975386,-46.60240268369203,-49.311076015365074,-47.150402273886925,-38.59928475757382,-46.632613806421325,-54.58574137255735,-49.19396558589783,-49.28982106037588,-47.01353540823248,-34.93253582376317,-46.262085681846166,-48.82974353343713,-43.30454037225461,-46.84796832895859,-46.63188421270581,-47.90659642198055,-46.51312842218974,-34.93253582376317,-46.61525833895384,-46.75575337195744,-46.53363245277436,-44.24816336596759,-47.07428354596361,-49.30945498395364,-46.61200044104113,-46.15005921825602,-43.217950335265314,-51.16270825237461,-48.807255525275366,-51.15483116731141,-51.231437899598326,-43.95094395435073,-51.05330632286344,-46.1955458411618,-46.34087492614053,-46.42292496090773,-43.931234581848464,-51.09298402937748,-44.24816336596759,-51.20130443913633,-47.08244278411783,-51.15253710423867,-42.76834387096315,-34.93253582376317,-46.72898406045395,-46.75575337195744,-43.17715630706046,-47.30922889223856,-46.75575337195744,-47.27033542521254,-47.08244278411783,-54.74875310212911,-42.78339770003472,-44.24816336596759,-44.02242139461151,-51.14505892899358,-46.564296407294165,-47.83762131131263,-46.48545545756666,-42.93166199720475,-42.6286140396501,-51.42388542180936,-48.59271208975145,-46.54115925090763,-43.95094395435073,-44.24816336596759,-47.41705497247527,-51.06040344017741,-44.24816336596759,-46.56338617640832,-46.44479870320024,-46.76287513805131,-46.62043601303771,-46.632613806421325,-46.75575337195744,-49.18219514723537,-46.439816187506,-46.632613806421325,-46.53884595688125,-47.711819140556784,-46.523183340521726,-52.02327989668861,-46.75575337195744,-48.88032525991248,-46.59132639890193,-34.93253582376317,-46.73414273203397,-51.20130443913633,-46.49010130952279,-51.14505892899358,-46.68808147880212,-46.581435332792125,-47.08244278411783,-46.89675369133934,-46.54737185794935,-44.24816336596759,-46.63942263256764,-46.51312842218974,-46.703810106207634,-43.49176475913367,-47.38550081126996,-46.49010130952279,-46.58336932471798,-47.93914526044794,-46.53686856423848],\"marker\":{\"color\":[16.75074074074074,12.42157894736842,11.024703196347032,11.386666666666668,10.203939393939397,10.828148148148149,10.107977528089888,11.438988764044945,10.823133640552994,10.762096774193548,10.203829787234042,10.088483412322276,17.863875,10.080372670807456,11.37374331550802,13.564022988505746,14.574327485380117,11.646919191919192,11.414745762711863,13.556092715231788,10.762639593908627,10.11265060240964,12.063282051282052,10.635275229357797,12.343926380368098,13.012541436464089,12.051057692307692,14.704166666666667,10.445593220338983,16.23065934065934,10.691855670103092,10.69934497816594,13.796525423728813,11.458893617021277,10.45572033898305,10.931676300578037,13.211214953271028,12.285391705069124,10.478223684210526,11.521256281407036,10.7043216080402,12.523582887700536,10.016425531914894,11.56780487804878,10.52846153846154,11.142467532467531,15.327786259541986,13.754244186046511,10.788636363636364,14.417068965517242,13.395,12.94349794238683,10.60884745762712,12.152619926199264,12.689066666666664,10.093537735849056,10.644061135371178,10.014666666666669,10.574413145539904,11.219792531120332,12.36305882352941,11.76726368159204,11.94045197740113,10.476940639269406,11.3548,15.41985294117647,16.551153846153845,10.948844444444443,11.36824074074074,13.102352941176472,12.686242424242424,10.907565217391303,10.162592592592592,10.276109324758842,13.97203947368421,18.78071428571429,11.94,19.657083333333333,11.307786259541984,10.28803827751196,10.40600985221675,10.30459595959596,10.71782608695652,11.0825,10.01601809954751,10.231495726495726,40.70842105263158,11.105588235294118,14.190744680851065,16.380893854748603,11.50138888888889,10.096891891891891,13.910469798657717,10.202876712328766,10.510382775119618,10.97923076923077,12.344352331606215,16.48515625,12.224782608695651,12.460483870967742,11.689352941176471,14.419476744186047,13.304397590361448,20.963666666666665,12.90640243902439,11.47875,12.545847953216375,11.22842105263158,10.988297872340429,14.168070175438595,10.427234042553192,13.365366972477064,17.37778947368421,15.151518987341772,12.930301204819276,11.587821782178215,10.34072033898305,11.513157894736842,10.547727272727272,24.558051948051947,12.429032258064517,14.684848484848484,10.61418118466899,10.711447963800904,10.108103448275862,53.58045454545454,13.897891156462585,11.176164383561645,11.775674418604652,11.26603448275862,10.4075,10.389723502304149,11.136232558139534,13.75118811881188,16.599707602339183,11.016241134751771,11.591754385964911,12.849619047619049,10.318987341772152,10.41704845814978,16.070337078651686,13.058155339805824,10.234647435897436,10.187885462555066,11.581657142857145,10.830504587155964,10.191487603305786,10.498503937007872,15.125815602836878,10.89816733067729,13.937058823529412,16.33303448275862,11.0536,11.945050505050505,10.072358974358972,10.403164556962023,12.006567164179105,20.531242236024845,13.162,13.98934210526316,12.276732673267327,10.26424,10.76720812182741,10.311330049261082,10.854239631336403,16.2352,14.1164,14.626515151515152,10.007533039647578,12.33055,11.525817490494296,10.240545454545456,10.094170616113743,16.8673125,15.950857142857142,11.037374301675978,11.668826291079812,12.195221674876848,16.73891891891892,10.41768888888889,10.02876651982379,10.860563380281691,11.009333333333334,13.092486772486772,10.510196078431372,12.0343949044586,10.245348837209304,13.376944444444444,10.293737864077672,11.173333333333334,10.377875,11.54383233532934,13.45037974683544,11.61558139534884,11.1935,10.227529411764706,16.045801526717558,13.765,11.369904761904762,10.020132743362833,11.583147208121828,10.046635071090048,26.623164556962024,14.35056338028169,29.04426666666667,13.288030303030302,11.235636363636363,10.105981308411216,19.270487804878048,12.701176470588234,11.01058823529412,10.237791411042943,18.71212598425197,10.346418604651165,10.825708812260537,14.998451612903228,15.787094594594594,10.0625,17.505078125,11.759839572192512,11.043696682464454,11.84608938547486,13.0675,10.080574712643678,11.065544554455444,11.607868020304569,12.646511627906976,10.35665137614679,11.64,10.5035960591133,15.127924528301886,13.288391608391608,12.91981818181818,11.4248128342246,10.028341463414634,13.752426035502957,10.690144927536233,10.959606986899564,10.69493670886076,11.258854961832062,10.944305555555555,10.692722513089006,13.302090909090907,10.158185840707963,10.719722222222222,17.077985611510794,12.156190476190476,10.440878048780489,11.90486033519553,10.156336633663368,16.67,12.15607305936073,10.24409090909091,10.308496503496505,12.804475806451611,10.558599999999998,10.922811059907836,10.527291666666668,11.854857142857142,14.27289592760181,10.320765765765763,11.495628415300546,12.169226804123712,10.552079207920793,15.273724137931035,11.038593155893537,14.588639053254438,11.122307692307691,10.106310160427808,13.416,25.79096153846154,17.961851851851854,10.024575471698114,10.408421052631578,11.826633165829143,11.255645933014351,11.881009615384617,12.54419191919192,11.834747474747475,10.800084388185654,11.349367088607597,10.77872448979592,10.470505617977528,10.807303754266211,10.127095238095238,11.098846153846154,12.97098901098901,11.462962962962964,10.858833333333331,13.25089108910891,10.52921568627451,15.010461538461538,10.297666666666666,10.307470588235294,13.240621468926555,10.030136054421767,10.307125,11.351781609195402,10.964212765957448,10.994553571428572,11.642971698113207,11.228730158730158,10.615095238095238,10.32079411764706,13.8975,12.065964912280704,10.404633027522936,10.10240174672489,12.353333333333332,12.934195402298853,10.80353711790393,12.93127659574468,16.070408163265306,14.277947019867549,10.941827411167512,10.731361502347418,10.36674418604651,12.55463768115942,11.037763157894735,16.64295336787565,10.767164948453608,12.802857142857144,23.09554347826087,14.728032786885246,11.15360655737705,10.721204819277109,15.455424836601306,11.623858267716535,10.201363636363636,14.727696335078534,11.47246511627907,12.795,19.529693877551026,10.746082949308756,11.191415525114156,11.123113207547169,10.484177777777775,18.383535353535358,10.322058823529412,11.494224137931036,10.807303754266211,10.61225,19.135853658536583,15.191733333333335,11.05450704225352,25.682048192771084,19.2252,10.656923076923078,11.23411214953271,11.014666666666669,10.896422018348623,12.82731343283582,14.587,10.661486486486488,13.23314606741573,17.059426751592355,10.501474654377882,12.080673575129534,13.925512820512822,59.157,10.352941176470589,10.595183486238533,14.826666666666668,11.241472081218276,11.155381165919282,10.691221719457015,12.72157894736842,10.253625,11.534294478527606,13.090251572327045,18.284666666666663,13.9904,10.769633027522936,12.048295454545457,10.147075471698113,13.690179640718563,10.901794871794872,11.1379,10.837903225806452,15.963656716417912,12.039868421052631,26.824743589743587,13.268975535168195,10.01066147859922,12.33526595744681,11.404761904761903,10.273632653061224,14.51875,16.47967213114754,14.219132947976878,12.817747252747251,10.060689655172414,11.016805555555557,11.37429223744292,26.620102040816327,12.908258426966292,11.092264150943397,10.681682692307692,10.130094786729856,10.837912087912088,15.132083333333334,13.306581632653062,11.395486111111111,10.440396475770925,11.593319672131148,12.352393617021276,11.7815,10.737474747474748,10.038921568627453,10.112755555555555,10.89497435897436,11.527475247524752,12.78592391304348,10.980880281690142,15.354565217391302,15.50867924528302,10.98253968253968,10.361029411764706,10.40545871559633,10.215674157303372,12.740975609756097,13.82646153846154,12.999425287356322,10.328933333333334,10.902599118942732,13.459634146341465,12.677349397590362,13.117810650887574,11.108878504672898,13.275224719101123,10.987230046948358,10.569949238578682,27.27852941176471,16.94448979591837,21.837704918032784,12.58621301775148,11.542616279069769,14.185868263473054,10.3597265625,11.384631578947369,11.788685714285714,14.438928571428573,17.30063694267516,14.2428,14.432914798206278,16.23578313253012,11.313333333333333,10.928525345622118,14.651780821917807,11.433468208092483,11.645841121495328,12.85848275862069,21.739406779661017,12.07393063583815,10.756852589641433,13.947960526315793,14.227596153846154,11.34742105263158,10.765480427046263,12.981441441441442,10.71903409090909,12.391918604651162,10.745454545454546,14.712569444444446,10.605942028985506,11.159470899470898,10.823291139240506,10.968920187793428,10.071238938053098,15.074133333333332,18.14188034188034,12.075957446808513,10.109333333333334,12.976705202312138,11.8853738317757,12.93632850241546,11.76878787878788,10.725962732919257,11.69063492063492,12.43768,13.97,12.499130434782607,11.525783783783783,10.167349397590362,10.47144859813084,10.325180722891568,10.062682926829268,10.831238532110092,10.46740566037736,13.83176056338028,15.038373205741626,11.31126984126984,11.38387434554974,11.353805668016191,10.429414634146342,10.6632,10.657238095238094,11.903264248704662,12.272953367875648,17.43464788732394,13.079297520661155,11.917921348314604,10.402178988326847,11.762122905027931,12.087485714285714,10.14217391304348,11.324930555555556,10.447102040816326,16.302480620155038,10.09172131147541,16.077251908396946,10.632241379310344,10.2640206185567,11.819489795918368,10.17290780141844,10.165814977973568,15.339935064935064,21.460476190476196,14.454539877300617,11.649014778325125,10.330945945945944,15.994285714285713,15.886781609195404,10.063682310469314,12.752566037735848,10.15703180212014,15.166415094339625,11.068177083333332,13.317473684210528,18.2361038961039,11.30465240641711,10.485576923076923,11.35217105263158,10.630625,26.243471074380167,12.310884353741496,20.51590909090909,11.742641509433962,19.3874,13.700051813471504,10.240451612903223,18.577777777777776,14.4375,12.181761363636362,10.682139303482588,23.85238095238095,17.071494252873563,10.048297872340424,10.278708333333332,16.09342105263158,11.6803007518797,10.517011494252872,18.802535211267607,24.968205128205128,10.046906779661018,27.82964705882353,10.380929203539823,10.869153846153846,11.34301204819277,11.040666666666668,16.846835443037975,14.643194444444443,13.0705291005291,11.441831683168315,15.912090909090908,11.104758620689656,10.213055555555556,14.556178343949046,10.299298245614034,18.131351351351352,10.960725388601036,11.0698755186722,16.388529411764708,10.221883116883117,23.871340206185568,15.073483870967742,11.499537037037037,11.102380952380951,10.655948717948718,12.663097826086958,10.143364928909952,10.92054347826087,12.230133333333333,12.24795,10.37358870967742,10.187051282051282,12.97939226519337,20.126901408450703,10.654310344827586,11.512878048780488,12.89198795180723,14.047924528301886,10.859880952380951,13.048923076923076,16.622613636363635,12.095103092783503,11.93890625,16.922083333333333,16.11160975609756,11.983034825870648,11.926906474820145,14.651527777777778,10.517049180327868,11.81375,10.22247311827957,11.029398148148148,16.055342465753423,10.204663677130045,16.005,12.453383458646616,11.041727748691098,10.743290043290042,10.752314049586778,10.759556650246306,13.364247311827956,17.092028985507245,11.357326203208556,22.60712765957447,13.082352941176472,11.2894,20.922389380530973,10.234884792626728,11.72323943661972,15.456568047337278,13.0,10.144933333333334,15.703333333333331,15.19174193548387,11.341138613861386,10.438816568047338,11.41079069767442,10.85989010989011,15.376907216494844,11.526160337552742,10.140983606557375,10.003793103448276,11.02423469387755,11.519583333333337,10.217400881057268,10.310361990950229,10.40253164556962,12.27005988023952,10.972254335260116,10.480555555555556,14.0425,10.3717094017094,13.068229166666669,11.416043956043955,11.15021164021164,11.728333333333332,19.0071,10.17514084507042,11.011116071428573,10.472967741935484,11.088566037735848,11.201921182266007,11.766383763837638,10.756102564102564,12.54,10.429512195121951,10.802244897959184,17.291530612244898,12.729679144385026,12.23970297029703,12.492592592592594,11.80928143712575,10.495454545454546,19.1328,10.83096,10.43729007633588,11.11121771217712,10.300777777777778,10.58993031358885,18.80234042553192,14.486131386861311,10.328292682926833,10.727796610169491,14.411621621621622,12.340606060606062,10.325932203389833,10.865668202764976,11.442916666666669,10.728056872037914,16.721103896103898,13.029745762711864,12.0575,10.5103125,10.6872,14.539411764705882,12.998052631578949,10.073457249070632,10.105627906976745,10.328,12.926428571428572,10.39285046728972,12.76545945945946,13.509017341040462,10.242335329341318,10.457657657657656,17.801268656716417,12.109864864864864,14.882617449664432,10.48024630541872,19.195454545454545,21.859562043795624,10.80676724137931,10.636515679442509,27.446962025316456,11.491534883720927,40.70678571428572,16.34962962962963,16.25758620689655,10.12686046511628,10.03457264957265,10.01948356807512,11.314502369668247,12.133352601156073,14.040058823529412,10.072139303482588,10.07065306122449,10.182272727272728,10.695353535353537],\"coloraxis\":\"coloraxis\"},\"mode\":\"markers\",\"name\":\"\",\"showlegend\":false,\"subplot\":\"mapbox\",\"type\":\"scattermapbox\"}],                        {\"coloraxis\":{\"colorbar\":{\"title\":{\"text\":\"delivery_speed\"}},\"colorscale\":[[0.0,\"#000000\"],[0.0625,\"#001f4d\"],[0.125,\"#003786\"],[0.1875,\"#0e58a8\"],[0.25,\"#217eb8\"],[0.3125,\"#30a4ca\"],[0.375,\"#54c8df\"],[0.4375,\"#9be4ef\"],[0.5,\"#e1e9d1\"],[0.5625,\"#f3d573\"],[0.625,\"#e7b000\"],[0.6875,\"#da8200\"],[0.75,\"#c65400\"],[0.8125,\"#ac2301\"],[0.875,\"#820000\"],[0.9375,\"#4c0000\"],[1.0,\"#000000\"]]},\"legend\":{\"tracegroupgap\":0},\"mapbox\":{\"center\":{\"lat\":-20.690772290615485,\"lon\":-46.093048581621545},\"domain\":{\"x\":[0.0,1.0],\"y\":[0.0,1.0]},\"style\":\"carto-positron\",\"zoom\":2},\"template\":{\"data\":{\"bar\":[{\"error_x\":{\"color\":\"#2a3f5f\"},\"error_y\":{\"color\":\"#2a3f5f\"},\"marker\":{\"line\":{\"color\":\"#E5ECF6\",\"width\":0.5},\"pattern\":{\"fillmode\":\"overlay\",\"size\":10,\"solidity\":0.2}},\"type\":\"bar\"}],\"barpolar\":[{\"marker\":{\"line\":{\"color\":\"#E5ECF6\",\"width\":0.5},\"pattern\":{\"fillmode\":\"overlay\",\"size\":10,\"solidity\":0.2}},\"type\":\"barpolar\"}],\"carpet\":[{\"aaxis\":{\"endlinecolor\":\"#2a3f5f\",\"gridcolor\":\"white\",\"linecolor\":\"white\",\"minorgridcolor\":\"white\",\"startlinecolor\":\"#2a3f5f\"},\"baxis\":{\"endlinecolor\":\"#2a3f5f\",\"gridcolor\":\"white\",\"linecolor\":\"white\",\"minorgridcolor\":\"white\",\"startlinecolor\":\"#2a3f5f\"},\"type\":\"carpet\"}],\"choropleth\":[{\"colorbar\":{\"outlinewidth\":0,\"ticks\":\"\"},\"type\":\"choropleth\"}],\"contour\":[{\"colorbar\":{\"outlinewidth\":0,\"ticks\":\"\"},\"colorscale\":[[0.0,\"#0d0887\"],[0.1111111111111111,\"#46039f\"],[0.2222222222222222,\"#7201a8\"],[0.3333333333333333,\"#9c179e\"],[0.4444444444444444,\"#bd3786\"],[0.5555555555555556,\"#d8576b\"],[0.6666666666666666,\"#ed7953\"],[0.7777777777777778,\"#fb9f3a\"],[0.8888888888888888,\"#fdca26\"],[1.0,\"#f0f921\"]],\"type\":\"contour\"}],\"contourcarpet\":[{\"colorbar\":{\"outlinewidth\":0,\"ticks\":\"\"},\"type\":\"contourcarpet\"}],\"heatmap\":[{\"colorbar\":{\"outlinewidth\":0,\"ticks\":\"\"},\"colorscale\":[[0.0,\"#0d0887\"],[0.1111111111111111,\"#46039f\"],[0.2222222222222222,\"#7201a8\"],[0.3333333333333333,\"#9c179e\"],[0.4444444444444444,\"#bd3786\"],[0.5555555555555556,\"#d8576b\"],[0.6666666666666666,\"#ed7953\"],[0.7777777777777778,\"#fb9f3a\"],[0.8888888888888888,\"#fdca26\"],[1.0,\"#f0f921\"]],\"type\":\"heatmap\"}],\"heatmapgl\":[{\"colorbar\":{\"outlinewidth\":0,\"ticks\":\"\"},\"colorscale\":[[0.0,\"#0d0887\"],[0.1111111111111111,\"#46039f\"],[0.2222222222222222,\"#7201a8\"],[0.3333333333333333,\"#9c179e\"],[0.4444444444444444,\"#bd3786\"],[0.5555555555555556,\"#d8576b\"],[0.6666666666666666,\"#ed7953\"],[0.7777777777777778,\"#fb9f3a\"],[0.8888888888888888,\"#fdca26\"],[1.0,\"#f0f921\"]],\"type\":\"heatmapgl\"}],\"histogram\":[{\"marker\":{\"pattern\":{\"fillmode\":\"overlay\",\"size\":10,\"solidity\":0.2}},\"type\":\"histogram\"}],\"histogram2d\":[{\"colorbar\":{\"outlinewidth\":0,\"ticks\":\"\"},\"colorscale\":[[0.0,\"#0d0887\"],[0.1111111111111111,\"#46039f\"],[0.2222222222222222,\"#7201a8\"],[0.3333333333333333,\"#9c179e\"],[0.4444444444444444,\"#bd3786\"],[0.5555555555555556,\"#d8576b\"],[0.6666666666666666,\"#ed7953\"],[0.7777777777777778,\"#fb9f3a\"],[0.8888888888888888,\"#fdca26\"],[1.0,\"#f0f921\"]],\"type\":\"histogram2d\"}],\"histogram2dcontour\":[{\"colorbar\":{\"outlinewidth\":0,\"ticks\":\"\"},\"colorscale\":[[0.0,\"#0d0887\"],[0.1111111111111111,\"#46039f\"],[0.2222222222222222,\"#7201a8\"],[0.3333333333333333,\"#9c179e\"],[0.4444444444444444,\"#bd3786\"],[0.5555555555555556,\"#d8576b\"],[0.6666666666666666,\"#ed7953\"],[0.7777777777777778,\"#fb9f3a\"],[0.8888888888888888,\"#fdca26\"],[1.0,\"#f0f921\"]],\"type\":\"histogram2dcontour\"}],\"mesh3d\":[{\"colorbar\":{\"outlinewidth\":0,\"ticks\":\"\"},\"type\":\"mesh3d\"}],\"parcoords\":[{\"line\":{\"colorbar\":{\"outlinewidth\":0,\"ticks\":\"\"}},\"type\":\"parcoords\"}],\"pie\":[{\"automargin\":true,\"type\":\"pie\"}],\"scatter\":[{\"marker\":{\"colorbar\":{\"outlinewidth\":0,\"ticks\":\"\"}},\"type\":\"scatter\"}],\"scatter3d\":[{\"line\":{\"colorbar\":{\"outlinewidth\":0,\"ticks\":\"\"}},\"marker\":{\"colorbar\":{\"outlinewidth\":0,\"ticks\":\"\"}},\"type\":\"scatter3d\"}],\"scattercarpet\":[{\"marker\":{\"colorbar\":{\"outlinewidth\":0,\"ticks\":\"\"}},\"type\":\"scattercarpet\"}],\"scattergeo\":[{\"marker\":{\"colorbar\":{\"outlinewidth\":0,\"ticks\":\"\"}},\"type\":\"scattergeo\"}],\"scattergl\":[{\"marker\":{\"colorbar\":{\"outlinewidth\":0,\"ticks\":\"\"}},\"type\":\"scattergl\"}],\"scattermapbox\":[{\"marker\":{\"colorbar\":{\"outlinewidth\":0,\"ticks\":\"\"}},\"type\":\"scattermapbox\"}],\"scatterpolar\":[{\"marker\":{\"colorbar\":{\"outlinewidth\":0,\"ticks\":\"\"}},\"type\":\"scatterpolar\"}],\"scatterpolargl\":[{\"marker\":{\"colorbar\":{\"outlinewidth\":0,\"ticks\":\"\"}},\"type\":\"scatterpolargl\"}],\"scatterternary\":[{\"marker\":{\"colorbar\":{\"outlinewidth\":0,\"ticks\":\"\"}},\"type\":\"scatterternary\"}],\"surface\":[{\"colorbar\":{\"outlinewidth\":0,\"ticks\":\"\"},\"colorscale\":[[0.0,\"#0d0887\"],[0.1111111111111111,\"#46039f\"],[0.2222222222222222,\"#7201a8\"],[0.3333333333333333,\"#9c179e\"],[0.4444444444444444,\"#bd3786\"],[0.5555555555555556,\"#d8576b\"],[0.6666666666666666,\"#ed7953\"],[0.7777777777777778,\"#fb9f3a\"],[0.8888888888888888,\"#fdca26\"],[1.0,\"#f0f921\"]],\"type\":\"surface\"}],\"table\":[{\"cells\":{\"fill\":{\"color\":\"#EBF0F8\"},\"line\":{\"color\":\"white\"}},\"header\":{\"fill\":{\"color\":\"#C8D4E3\"},\"line\":{\"color\":\"white\"}},\"type\":\"table\"}]},\"layout\":{\"annotationdefaults\":{\"arrowcolor\":\"#2a3f5f\",\"arrowhead\":0,\"arrowwidth\":1},\"autotypenumbers\":\"strict\",\"coloraxis\":{\"colorbar\":{\"outlinewidth\":0,\"ticks\":\"\"}},\"colorscale\":{\"diverging\":[[0,\"#8e0152\"],[0.1,\"#c51b7d\"],[0.2,\"#de77ae\"],[0.3,\"#f1b6da\"],[0.4,\"#fde0ef\"],[0.5,\"#f7f7f7\"],[0.6,\"#e6f5d0\"],[0.7,\"#b8e186\"],[0.8,\"#7fbc41\"],[0.9,\"#4d9221\"],[1,\"#276419\"]],\"sequential\":[[0.0,\"#0d0887\"],[0.1111111111111111,\"#46039f\"],[0.2222222222222222,\"#7201a8\"],[0.3333333333333333,\"#9c179e\"],[0.4444444444444444,\"#bd3786\"],[0.5555555555555556,\"#d8576b\"],[0.6666666666666666,\"#ed7953\"],[0.7777777777777778,\"#fb9f3a\"],[0.8888888888888888,\"#fdca26\"],[1.0,\"#f0f921\"]],\"sequentialminus\":[[0.0,\"#0d0887\"],[0.1111111111111111,\"#46039f\"],[0.2222222222222222,\"#7201a8\"],[0.3333333333333333,\"#9c179e\"],[0.4444444444444444,\"#bd3786\"],[0.5555555555555556,\"#d8576b\"],[0.6666666666666666,\"#ed7953\"],[0.7777777777777778,\"#fb9f3a\"],[0.8888888888888888,\"#fdca26\"],[1.0,\"#f0f921\"]]},\"colorway\":[\"#636efa\",\"#EF553B\",\"#00cc96\",\"#ab63fa\",\"#FFA15A\",\"#19d3f3\",\"#FF6692\",\"#B6E880\",\"#FF97FF\",\"#FECB52\"],\"font\":{\"color\":\"#2a3f5f\"},\"geo\":{\"bgcolor\":\"white\",\"lakecolor\":\"white\",\"landcolor\":\"#E5ECF6\",\"showlakes\":true,\"showland\":true,\"subunitcolor\":\"white\"},\"hoverlabel\":{\"align\":\"left\"},\"hovermode\":\"closest\",\"mapbox\":{\"style\":\"light\"},\"paper_bgcolor\":\"white\",\"plot_bgcolor\":\"#E5ECF6\",\"polar\":{\"angularaxis\":{\"gridcolor\":\"white\",\"linecolor\":\"white\",\"ticks\":\"\"},\"bgcolor\":\"#E5ECF6\",\"radialaxis\":{\"gridcolor\":\"white\",\"linecolor\":\"white\",\"ticks\":\"\"}},\"scene\":{\"xaxis\":{\"backgroundcolor\":\"#E5ECF6\",\"gridcolor\":\"white\",\"gridwidth\":2,\"linecolor\":\"white\",\"showbackground\":true,\"ticks\":\"\",\"zerolinecolor\":\"white\"},\"yaxis\":{\"backgroundcolor\":\"#E5ECF6\",\"gridcolor\":\"white\",\"gridwidth\":2,\"linecolor\":\"white\",\"showbackground\":true,\"ticks\":\"\",\"zerolinecolor\":\"white\"},\"zaxis\":{\"backgroundcolor\":\"#E5ECF6\",\"gridcolor\":\"white\",\"gridwidth\":2,\"linecolor\":\"white\",\"showbackground\":true,\"ticks\":\"\",\"zerolinecolor\":\"white\"}},\"shapedefaults\":{\"line\":{\"color\":\"#2a3f5f\"}},\"ternary\":{\"aaxis\":{\"gridcolor\":\"white\",\"linecolor\":\"white\",\"ticks\":\"\"},\"baxis\":{\"gridcolor\":\"white\",\"linecolor\":\"white\",\"ticks\":\"\"},\"bgcolor\":\"#E5ECF6\",\"caxis\":{\"gridcolor\":\"white\",\"linecolor\":\"white\",\"ticks\":\"\"}},\"title\":{\"x\":0.05},\"xaxis\":{\"automargin\":true,\"gridcolor\":\"white\",\"linecolor\":\"white\",\"ticks\":\"\",\"title\":{\"standoff\":15},\"zerolinecolor\":\"white\",\"zerolinewidth\":2},\"yaxis\":{\"automargin\":true,\"gridcolor\":\"white\",\"linecolor\":\"white\",\"ticks\":\"\",\"title\":{\"standoff\":15},\"zerolinecolor\":\"white\",\"zerolinewidth\":2}}},\"title\":{\"text\":\"Location of fastest sellers\"}},                        {\"responsive\": true}                    ).then(function(){\n",
       "                            \n",
       "var gd = document.getElementById('9976df12-4f04-40d5-99e7-133fb88ecefc');\n",
       "var x = new MutationObserver(function (mutations, observer) {{\n",
       "        var display = window.getComputedStyle(gd).display;\n",
       "        if (!display || display === 'none') {{\n",
       "            console.log([gd, 'removed!']);\n",
       "            Plotly.purge(gd);\n",
       "            observer.disconnect();\n",
       "        }}\n",
       "}});\n",
       "\n",
       "// Listen for the removal of the full notebook cells\n",
       "var notebookContainer = gd.closest('#notebook-container');\n",
       "if (notebookContainer) {{\n",
       "    x.observe(notebookContainer, {childList: true});\n",
       "}}\n",
       "\n",
       "// Listen for the clearing of the current output cell\n",
       "var outputEl = gd.closest('.output');\n",
       "if (outputEl) {{\n",
       "    x.observe(outputEl, {childList: true});\n",
       "}}\n",
       "\n",
       "                        })                };                });            </script>        </div>"
      ]
     },
     "metadata": {},
     "output_type": "display_data"
    }
   ],
   "source": [
    "# Visualize the fastest sellers\n",
    "fig = px.scatter_mapbox(data_all_agg[data_all_agg.delivery_speed > 10], \n",
    "                        lat=\"seller_lat\", \n",
    "                        lon=\"seller_lng\", \n",
    "                        color=\"delivery_speed\", \n",
    "                        color_continuous_scale=px.colors.cyclical.IceFire, size_max=15, zoom=2,\n",
    "                        mapbox_style=\"carto-positron\",\n",
    "                        title='Location of fastest sellers')\n",
    "fig.show()"
   ]
  },
  {
   "cell_type": "code",
   "execution_count": 67,
   "id": "increasing-advocate",
   "metadata": {},
   "outputs": [
    {
     "data": {
      "text/plain": [
       "SP    403\n",
       "RS     61\n",
       "MA     49\n",
       "MG     47\n",
       "PE     46\n",
       "PR     42\n",
       "SC     20\n",
       "RJ     17\n",
       "CE      8\n",
       "BA      7\n",
       "DF      5\n",
       "PB      3\n",
       "GO      3\n",
       "RN      3\n",
       "RO      2\n",
       "MS      2\n",
       "ES      2\n",
       "PI      1\n",
       "MT      1\n",
       "Name: seller_state, dtype: int64"
      ]
     },
     "execution_count": 67,
     "metadata": {},
     "output_type": "execute_result"
    }
   ],
   "source": [
    "# Check region with the fastest sellers\n",
    "data_all_agg[data_all_agg.delivery_speed > 10]['seller_state'].value_counts()"
   ]
  },
  {
   "cell_type": "code",
   "execution_count": 68,
   "id": "sharp-festival",
   "metadata": {},
   "outputs": [
    {
     "data": {
      "text/plain": [
       "sao paulo         212\n",
       "sao luis           49\n",
       "recife             44\n",
       "belo horizonte     26\n",
       "curitiba           23\n",
       "Name: seller_city, dtype: int64"
      ]
     },
     "execution_count": 68,
     "metadata": {},
     "output_type": "execute_result"
    }
   ],
   "source": [
    "# Check region with the fastest sellers\n",
    "data_all_agg[data_all_agg.delivery_speed > 10]['seller_city'].value_counts()[:5]"
   ]
  },
  {
   "cell_type": "markdown",
   "id": "controlled-battle",
   "metadata": {},
   "source": [
    "### **Correlation between delivery speed and time**"
   ]
  },
  {
   "cell_type": "code",
   "execution_count": 22,
   "id": "yellow-clinic",
   "metadata": {},
   "outputs": [
    {
     "data": {
      "text/html": [
       "<div>\n",
       "<style scoped>\n",
       "    .dataframe tbody tr th:only-of-type {\n",
       "        vertical-align: middle;\n",
       "    }\n",
       "\n",
       "    .dataframe tbody tr th {\n",
       "        vertical-align: top;\n",
       "    }\n",
       "\n",
       "    .dataframe thead th {\n",
       "        text-align: right;\n",
       "    }\n",
       "</style>\n",
       "<table border=\"1\" class=\"dataframe\">\n",
       "  <thead>\n",
       "    <tr style=\"text-align: right;\">\n",
       "      <th></th>\n",
       "      <th>order_id</th>\n",
       "      <th>seller_id</th>\n",
       "      <th>order_item_id</th>\n",
       "      <th>price</th>\n",
       "      <th>freight_value</th>\n",
       "      <th>product_weight_g</th>\n",
       "      <th>product_volume</th>\n",
       "      <th>customer_city</th>\n",
       "      <th>customer_state</th>\n",
       "      <th>customer_lat</th>\n",
       "      <th>customer_lng</th>\n",
       "      <th>seller_city</th>\n",
       "      <th>seller_state</th>\n",
       "      <th>seller_lat</th>\n",
       "      <th>seller_lng</th>\n",
       "      <th>order_purchase_timestamp</th>\n",
       "      <th>order_approved_at</th>\n",
       "      <th>shipping_limit_date</th>\n",
       "      <th>order_delivered_carrier_date</th>\n",
       "      <th>order_delivered_customer_date</th>\n",
       "      <th>order_estimated_delivery_date</th>\n",
       "      <th>distance_km</th>\n",
       "      <th>delivery_time</th>\n",
       "      <th>delivery_speed</th>\n",
       "      <th>delivery_time_hours</th>\n",
       "      <th>delivery_time_days</th>\n",
       "    </tr>\n",
       "    <tr>\n",
       "      <th>Unnamed: 0</th>\n",
       "      <th></th>\n",
       "      <th></th>\n",
       "      <th></th>\n",
       "      <th></th>\n",
       "      <th></th>\n",
       "      <th></th>\n",
       "      <th></th>\n",
       "      <th></th>\n",
       "      <th></th>\n",
       "      <th></th>\n",
       "      <th></th>\n",
       "      <th></th>\n",
       "      <th></th>\n",
       "      <th></th>\n",
       "      <th></th>\n",
       "      <th></th>\n",
       "      <th></th>\n",
       "      <th></th>\n",
       "      <th></th>\n",
       "      <th></th>\n",
       "      <th></th>\n",
       "      <th></th>\n",
       "      <th></th>\n",
       "      <th></th>\n",
       "      <th></th>\n",
       "      <th></th>\n",
       "    </tr>\n",
       "  </thead>\n",
       "  <tbody>\n",
       "    <tr>\n",
       "      <th>0</th>\n",
       "      <td>00010242fe8c5a6d1ba2dd792cb16214</td>\n",
       "      <td>48436dade18ac8b2bce089ec2a041202</td>\n",
       "      <td>1</td>\n",
       "      <td>58.9</td>\n",
       "      <td>13.29</td>\n",
       "      <td>650.0</td>\n",
       "      <td>3528.0</td>\n",
       "      <td>campos dos goytacazes</td>\n",
       "      <td>RJ</td>\n",
       "      <td>-21.762775</td>\n",
       "      <td>-41.309633</td>\n",
       "      <td>volta redonda</td>\n",
       "      <td>SP</td>\n",
       "      <td>-22.496953</td>\n",
       "      <td>-44.127492</td>\n",
       "      <td>2017-09-13 08:59:02</td>\n",
       "      <td>2017-09-13 09:45:35</td>\n",
       "      <td>2017-09-19 09:45:35</td>\n",
       "      <td>2017-09-19 18:34:16</td>\n",
       "      <td>2017-09-20 23:43:48</td>\n",
       "      <td>2017-09-29</td>\n",
       "      <td>301.50</td>\n",
       "      <td>182.0</td>\n",
       "      <td>1.656593</td>\n",
       "      <td>182.0</td>\n",
       "      <td>7</td>\n",
       "    </tr>\n",
       "    <tr>\n",
       "      <th>1</th>\n",
       "      <td>00018f77f2f0320c557190d7a144bdd3</td>\n",
       "      <td>dd7ddc04e1b6c2c614352b383efe2d36</td>\n",
       "      <td>1</td>\n",
       "      <td>239.9</td>\n",
       "      <td>19.93</td>\n",
       "      <td>30000.0</td>\n",
       "      <td>60000.0</td>\n",
       "      <td>santa fe do sul</td>\n",
       "      <td>SP</td>\n",
       "      <td>-20.220527</td>\n",
       "      <td>-50.903424</td>\n",
       "      <td>sao paulo</td>\n",
       "      <td>SP</td>\n",
       "      <td>-23.565096</td>\n",
       "      <td>-46.518565</td>\n",
       "      <td>2017-04-26 10:53:06</td>\n",
       "      <td>2017-04-26 11:05:13</td>\n",
       "      <td>2017-05-03 11:05:13</td>\n",
       "      <td>2017-05-04 14:35:00</td>\n",
       "      <td>2017-05-12 16:04:24</td>\n",
       "      <td>2017-05-15</td>\n",
       "      <td>585.56</td>\n",
       "      <td>389.0</td>\n",
       "      <td>1.505296</td>\n",
       "      <td>389.0</td>\n",
       "      <td>16</td>\n",
       "    </tr>\n",
       "  </tbody>\n",
       "</table>\n",
       "</div>"
      ],
      "text/plain": [
       "                                    order_id                         seller_id  order_item_id  price  freight_value  product_weight_g  product_volume          customer_city customer_state  customer_lat  customer_lng    seller_city seller_state  seller_lat  seller_lng order_purchase_timestamp   order_approved_at shipping_limit_date order_delivered_carrier_date order_delivered_customer_date order_estimated_delivery_date  distance_km  delivery_time  delivery_speed  delivery_time_hours  delivery_time_days\n",
       "Unnamed: 0                                                                                                                                                                                                                                                                                                                                                                                                                                                                                                                \n",
       "0           00010242fe8c5a6d1ba2dd792cb16214  48436dade18ac8b2bce089ec2a041202              1   58.9          13.29             650.0          3528.0  campos dos goytacazes             RJ    -21.762775    -41.309633  volta redonda           SP  -22.496953  -44.127492      2017-09-13 08:59:02 2017-09-13 09:45:35 2017-09-19 09:45:35          2017-09-19 18:34:16           2017-09-20 23:43:48                    2017-09-29       301.50          182.0        1.656593                182.0                   7\n",
       "1           00018f77f2f0320c557190d7a144bdd3  dd7ddc04e1b6c2c614352b383efe2d36              1  239.9          19.93           30000.0         60000.0        santa fe do sul             SP    -20.220527    -50.903424      sao paulo           SP  -23.565096  -46.518565      2017-04-26 10:53:06 2017-04-26 11:05:13 2017-05-03 11:05:13          2017-05-04 14:35:00           2017-05-12 16:04:24                    2017-05-15       585.56          389.0        1.505296                389.0                  16"
      ]
     },
     "execution_count": 22,
     "metadata": {},
     "output_type": "execute_result"
    }
   ],
   "source": [
    "data_all_agg.head(2)"
   ]
  },
  {
   "cell_type": "code",
   "execution_count": 16,
   "id": "rapid-mercury",
   "metadata": {},
   "outputs": [
    {
     "data": {
      "image/png": "[encoded data removed]",
      "text/plain": [
       "<Figure size 864x432 with 1 Axes>"
      ]
     },
     "metadata": {
      "needs_background": "light"
     },
     "output_type": "display_data"
    }
   ],
   "source": [
    "sns.scatterplot(x=data_all_agg.delivery_speed, y=data_all_agg.delivery_time_days);\n",
    "plt.title('Relation between delivery time and delivery speed', fontsize=20)\n",
    "plt.xlabel('Delivery speed, km/hour', fontsize=14)\n",
    "plt.ylabel('Delivery time, days', fontsize=14)\n",
    "plt.show();"
   ]
  },
  {
   "cell_type": "code",
   "execution_count": 18,
   "id": "homeless-stability",
   "metadata": {},
   "outputs": [],
   "source": [
    "from scipy import stats"
   ]
  },
  {
   "cell_type": "code",
   "execution_count": 19,
   "id": "great-storage",
   "metadata": {},
   "outputs": [
    {
     "data": {
      "text/plain": [
       "SpearmanrResult(correlation=0.02591473717637902, pvalue=1.5350610953373393e-15)"
      ]
     },
     "execution_count": 19,
     "metadata": {},
     "output_type": "execute_result"
    }
   ],
   "source": [
    "stats.spearmanr(data_all_agg.delivery_speed, data_all_agg.delivery_time_days)"
   ]
  },
  {
   "cell_type": "code",
   "execution_count": 20,
   "id": "photographic-alliance",
   "metadata": {},
   "outputs": [
    {
     "data": {
      "text/plain": [
       "(-0.10055956650431024, 3.268611554564232e-211)"
      ]
     },
     "execution_count": 20,
     "metadata": {},
     "output_type": "execute_result"
    }
   ],
   "source": [
    "stats.pearsonr(data_all_agg.delivery_speed, data_all_agg.delivery_time_days)"
   ]
  },
  {
   "cell_type": "code",
   "execution_count": 21,
   "id": "french-adolescent",
   "metadata": {},
   "outputs": [
    {
     "data": {
      "text/plain": [
       "KendalltauResult(correlation=0.0050833094966961576, pvalue=0.021771644396695086)"
      ]
     },
     "execution_count": 21,
     "metadata": {},
     "output_type": "execute_result"
    }
   ],
   "source": [
    "stats.kendalltau(data_all_agg.delivery_speed, data_all_agg.delivery_time_days)"
   ]
  },
  {
   "cell_type": "markdown",
   "id": "identical-visibility",
   "metadata": {},
   "source": [
    "### **Notes**"
   ]
  },
  {
   "cell_type": "markdown",
   "id": "intellectual-wrapping",
   "metadata": {},
   "source": [
    "Клієнт додатково просив провести аналіз рангової кореляції між швидкістю доставки та часом доставки."
   ]
  }
 ],
 "metadata": {
  "kernelspec": {
   "display_name": "smart",
   "language": "python",
   "name": "smart"
  },
  "language_info": {
   "codemirror_mode": {
    "name": "ipython",
    "version": 3
   },
   "file_extension": ".py",
   "mimetype": "text/x-python",
   "name": "python",
   "nbconvert_exporter": "python",
   "pygments_lexer": "ipython3",
   "version": "3.8.5"
  }
 },
 "nbformat": 4,
 "nbformat_minor": 5
}
