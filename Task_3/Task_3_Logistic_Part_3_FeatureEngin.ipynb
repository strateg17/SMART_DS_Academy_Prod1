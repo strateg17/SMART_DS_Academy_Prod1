{
 "cells": [
  {
   "cell_type": "markdown",
   "id": "failing-hearts",
   "metadata": {},
   "source": [
    "# **Task 3: Feature Engineering**"
   ]
  },
  {
   "cell_type": "markdown",
   "id": "cheap-dinner",
   "metadata": {},
   "source": [
    "Here we are going to generate some new efatures and drop unnecessary information. "
   ]
  },
  {
   "cell_type": "code",
   "execution_count": 1,
   "id": "weekly-clearing",
   "metadata": {},
   "outputs": [],
   "source": [
    "# Data processing\n",
    "import pandas as pd\n",
    "import numpy as np"
   ]
  },
  {
   "cell_type": "code",
   "execution_count": 2,
   "id": "correct-salad",
   "metadata": {},
   "outputs": [],
   "source": [
    "# Stat tools \n",
    "from scipy import stats"
   ]
  },
  {
   "cell_type": "code",
   "execution_count": 3,
   "id": "broken-people",
   "metadata": {},
   "outputs": [],
   "source": [
    "# Data visualization\n",
    "import matplotlib.pyplot as plt\n",
    "import seaborn as sns\n",
    "import plotly.express as px"
   ]
  },
  {
   "cell_type": "code",
   "execution_count": 4,
   "id": "obvious-glucose",
   "metadata": {},
   "outputs": [],
   "source": [
    "pd.set_option('display.max_columns', 500)\n",
    "pd.set_option('display.width', 1000)\n",
    "pd.options.mode.chained_assignment = None"
   ]
  },
  {
   "cell_type": "code",
   "execution_count": 5,
   "id": "worse-bathroom",
   "metadata": {},
   "outputs": [],
   "source": [
    "# Increase default figure and font sizes for easier viewing.\n",
    "plt.style.use('seaborn-colorblind')\n",
    "sns.set_style('darkgrid')\n",
    "%matplotlib inline\n",
    "\n",
    "plt.rcParams['figure.figsize'] = (12, 6)\n",
    "plt.rcParams['font.size'] = 12"
   ]
  },
  {
   "cell_type": "markdown",
   "id": "awful-plymouth",
   "metadata": {},
   "source": [
    "## **Data importing and cleaning**"
   ]
  },
  {
   "cell_type": "code",
   "execution_count": 6,
   "id": "every-senate",
   "metadata": {},
   "outputs": [],
   "source": [
    "# This time we are going to import dataframe in an appropriate data types format\n",
    "data_all_agg = pd.read_csv('data_raw/data_all_agg.csv', \n",
    "                           index_col=0,\n",
    "                           dtype = {'order_id': str, \n",
    "                                    'seller_id': str, \n",
    "                                    'order_item_id': int, \n",
    "                                    'price': float, \n",
    "                                    'freight_value': float, \n",
    "                                    'product_weight_g':float, \n",
    "                                    'product_volume': float,\n",
    "                                    'customer_city':str,\n",
    "                                    'customer_state':str,\n",
    "                                    'customer_lat': float,\n",
    "                                    'customer_lng':float,\n",
    "                                    'seller_city':str,\n",
    "                                    'seller_state':str,\n",
    "                                    'seller_lat': float,\n",
    "                                    'seller_lng':float,\n",
    "                                    'distance_km':float,\n",
    "                                    'delivery_time_hours':float,\n",
    "                                    'delivery_speed':float,\n",
    "                                    'delivery_time_days':int},\n",
    "                           parse_dates=['order_purchase_timestamp',\n",
    "                                         'order_approved_at',\n",
    "                                         'shipping_limit_date',\n",
    "                                         'order_delivered_carrier_date',\n",
    "                                         'order_delivered_customer_date',\n",
    "                                         'order_estimated_delivery_date'])"
   ]
  },
  {
   "cell_type": "code",
   "execution_count": 7,
   "id": "earned-stress",
   "metadata": {},
   "outputs": [
    {
     "name": "stdout",
     "output_type": "stream",
     "text": [
      "<class 'pandas.core.frame.DataFrame'>\n",
      "Int64Index: 94653 entries, 0 to 94652\n",
      "Data columns (total 26 columns):\n",
      " #   Column                         Non-Null Count  Dtype         \n",
      "---  ------                         --------------  -----         \n",
      " 0   order_id                       94653 non-null  object        \n",
      " 1   seller_id                      94653 non-null  object        \n",
      " 2   order_item_id                  94653 non-null  int64         \n",
      " 3   price                          94653 non-null  float64       \n",
      " 4   freight_value                  94653 non-null  float64       \n",
      " 5   product_weight_g               94653 non-null  float64       \n",
      " 6   product_volume                 94653 non-null  float64       \n",
      " 7   customer_city                  94653 non-null  object        \n",
      " 8   customer_state                 94653 non-null  object        \n",
      " 9   customer_lat                   94653 non-null  float64       \n",
      " 10  customer_lng                   94653 non-null  float64       \n",
      " 11  seller_city                    94653 non-null  object        \n",
      " 12  seller_state                   94653 non-null  object        \n",
      " 13  seller_lat                     94653 non-null  float64       \n",
      " 14  seller_lng                     94653 non-null  float64       \n",
      " 15  order_purchase_timestamp       94653 non-null  datetime64[ns]\n",
      " 16  order_approved_at              94653 non-null  datetime64[ns]\n",
      " 17  shipping_limit_date            94653 non-null  datetime64[ns]\n",
      " 18  order_delivered_carrier_date   94653 non-null  datetime64[ns]\n",
      " 19  order_delivered_customer_date  94653 non-null  datetime64[ns]\n",
      " 20  order_estimated_delivery_date  94653 non-null  datetime64[ns]\n",
      " 21  distance_km                    94653 non-null  float64       \n",
      " 22  delivery_time                  94653 non-null  float64       \n",
      " 23  delivery_speed                 94653 non-null  float64       \n",
      " 24  delivery_time_hours            94653 non-null  float64       \n",
      " 25  delivery_time_days             94653 non-null  int64         \n",
      "dtypes: datetime64[ns](6), float64(12), int64(2), object(6)\n",
      "memory usage: 19.5+ MB\n"
     ]
    }
   ],
   "source": [
    "# Check dtypes\n",
    "data_all_agg.info()"
   ]
  },
  {
   "cell_type": "code",
   "execution_count": 8,
   "id": "diverse-aggregate",
   "metadata": {},
   "outputs": [
    {
     "data": {
      "text/html": [
       "<div>\n",
       "<style scoped>\n",
       "    .dataframe tbody tr th:only-of-type {\n",
       "        vertical-align: middle;\n",
       "    }\n",
       "\n",
       "    .dataframe tbody tr th {\n",
       "        vertical-align: top;\n",
       "    }\n",
       "\n",
       "    .dataframe thead th {\n",
       "        text-align: right;\n",
       "    }\n",
       "</style>\n",
       "<table border=\"1\" class=\"dataframe\">\n",
       "  <thead>\n",
       "    <tr style=\"text-align: right;\">\n",
       "      <th></th>\n",
       "      <th>order_id</th>\n",
       "      <th>seller_id</th>\n",
       "      <th>order_item_id</th>\n",
       "      <th>price</th>\n",
       "      <th>freight_value</th>\n",
       "      <th>product_weight_g</th>\n",
       "      <th>product_volume</th>\n",
       "      <th>customer_city</th>\n",
       "      <th>customer_state</th>\n",
       "      <th>customer_lat</th>\n",
       "      <th>customer_lng</th>\n",
       "      <th>seller_city</th>\n",
       "      <th>seller_state</th>\n",
       "      <th>seller_lat</th>\n",
       "      <th>seller_lng</th>\n",
       "      <th>order_purchase_timestamp</th>\n",
       "      <th>order_approved_at</th>\n",
       "      <th>shipping_limit_date</th>\n",
       "      <th>order_delivered_carrier_date</th>\n",
       "      <th>order_delivered_customer_date</th>\n",
       "      <th>order_estimated_delivery_date</th>\n",
       "      <th>distance_km</th>\n",
       "      <th>delivery_time</th>\n",
       "      <th>delivery_speed</th>\n",
       "      <th>delivery_time_hours</th>\n",
       "      <th>delivery_time_days</th>\n",
       "    </tr>\n",
       "    <tr>\n",
       "      <th>Unnamed: 0</th>\n",
       "      <th></th>\n",
       "      <th></th>\n",
       "      <th></th>\n",
       "      <th></th>\n",
       "      <th></th>\n",
       "      <th></th>\n",
       "      <th></th>\n",
       "      <th></th>\n",
       "      <th></th>\n",
       "      <th></th>\n",
       "      <th></th>\n",
       "      <th></th>\n",
       "      <th></th>\n",
       "      <th></th>\n",
       "      <th></th>\n",
       "      <th></th>\n",
       "      <th></th>\n",
       "      <th></th>\n",
       "      <th></th>\n",
       "      <th></th>\n",
       "      <th></th>\n",
       "      <th></th>\n",
       "      <th></th>\n",
       "      <th></th>\n",
       "      <th></th>\n",
       "      <th></th>\n",
       "    </tr>\n",
       "  </thead>\n",
       "  <tbody>\n",
       "    <tr>\n",
       "      <th>0</th>\n",
       "      <td>00010242fe8c5a6d1ba2dd792cb16214</td>\n",
       "      <td>48436dade18ac8b2bce089ec2a041202</td>\n",
       "      <td>1</td>\n",
       "      <td>58.90</td>\n",
       "      <td>13.29</td>\n",
       "      <td>650.0</td>\n",
       "      <td>3528.0</td>\n",
       "      <td>campos dos goytacazes</td>\n",
       "      <td>RJ</td>\n",
       "      <td>-21.762775</td>\n",
       "      <td>-41.309633</td>\n",
       "      <td>volta redonda</td>\n",
       "      <td>SP</td>\n",
       "      <td>-22.496953</td>\n",
       "      <td>-44.127492</td>\n",
       "      <td>2017-09-13 08:59:02</td>\n",
       "      <td>2017-09-13 09:45:35</td>\n",
       "      <td>2017-09-19 09:45:35</td>\n",
       "      <td>2017-09-19 18:34:16</td>\n",
       "      <td>2017-09-20 23:43:48</td>\n",
       "      <td>2017-09-29</td>\n",
       "      <td>301.50</td>\n",
       "      <td>182.0</td>\n",
       "      <td>1.656593</td>\n",
       "      <td>182.0</td>\n",
       "      <td>7</td>\n",
       "    </tr>\n",
       "    <tr>\n",
       "      <th>1</th>\n",
       "      <td>00018f77f2f0320c557190d7a144bdd3</td>\n",
       "      <td>dd7ddc04e1b6c2c614352b383efe2d36</td>\n",
       "      <td>1</td>\n",
       "      <td>239.90</td>\n",
       "      <td>19.93</td>\n",
       "      <td>30000.0</td>\n",
       "      <td>60000.0</td>\n",
       "      <td>santa fe do sul</td>\n",
       "      <td>SP</td>\n",
       "      <td>-20.220527</td>\n",
       "      <td>-50.903424</td>\n",
       "      <td>sao paulo</td>\n",
       "      <td>SP</td>\n",
       "      <td>-23.565096</td>\n",
       "      <td>-46.518565</td>\n",
       "      <td>2017-04-26 10:53:06</td>\n",
       "      <td>2017-04-26 11:05:13</td>\n",
       "      <td>2017-05-03 11:05:13</td>\n",
       "      <td>2017-05-04 14:35:00</td>\n",
       "      <td>2017-05-12 16:04:24</td>\n",
       "      <td>2017-05-15</td>\n",
       "      <td>585.56</td>\n",
       "      <td>389.0</td>\n",
       "      <td>1.505296</td>\n",
       "      <td>389.0</td>\n",
       "      <td>16</td>\n",
       "    </tr>\n",
       "    <tr>\n",
       "      <th>2</th>\n",
       "      <td>000229ec398224ef6ca0657da4fc703e</td>\n",
       "      <td>5b51032eddd242adc84c38acab88f23d</td>\n",
       "      <td>1</td>\n",
       "      <td>199.00</td>\n",
       "      <td>17.87</td>\n",
       "      <td>3050.0</td>\n",
       "      <td>14157.0</td>\n",
       "      <td>para de minas</td>\n",
       "      <td>MG</td>\n",
       "      <td>-19.870305</td>\n",
       "      <td>-44.593326</td>\n",
       "      <td>borda da mata</td>\n",
       "      <td>MG</td>\n",
       "      <td>-22.262584</td>\n",
       "      <td>-46.171124</td>\n",
       "      <td>2018-01-14 14:33:31</td>\n",
       "      <td>2018-01-14 14:48:30</td>\n",
       "      <td>2018-01-18 14:48:30</td>\n",
       "      <td>2018-01-16 12:36:48</td>\n",
       "      <td>2018-01-22 13:19:16</td>\n",
       "      <td>2018-02-05</td>\n",
       "      <td>312.34</td>\n",
       "      <td>190.0</td>\n",
       "      <td>1.643895</td>\n",
       "      <td>190.0</td>\n",
       "      <td>7</td>\n",
       "    </tr>\n",
       "    <tr>\n",
       "      <th>3</th>\n",
       "      <td>00024acbcdf0a6daa1e931b038114c75</td>\n",
       "      <td>9d7a1d34a5052409006425275ba1c2b4</td>\n",
       "      <td>1</td>\n",
       "      <td>12.99</td>\n",
       "      <td>12.79</td>\n",
       "      <td>200.0</td>\n",
       "      <td>2400.0</td>\n",
       "      <td>atibaia</td>\n",
       "      <td>SP</td>\n",
       "      <td>-23.089925</td>\n",
       "      <td>-46.611654</td>\n",
       "      <td>franca</td>\n",
       "      <td>SP</td>\n",
       "      <td>-20.553624</td>\n",
       "      <td>-47.387359</td>\n",
       "      <td>2018-08-08 10:00:35</td>\n",
       "      <td>2018-08-08 10:10:18</td>\n",
       "      <td>2018-08-15 10:10:18</td>\n",
       "      <td>2018-08-10 13:28:00</td>\n",
       "      <td>2018-08-14 13:32:39</td>\n",
       "      <td>2018-08-20</td>\n",
       "      <td>293.17</td>\n",
       "      <td>147.0</td>\n",
       "      <td>1.994354</td>\n",
       "      <td>147.0</td>\n",
       "      <td>6</td>\n",
       "    </tr>\n",
       "    <tr>\n",
       "      <th>4</th>\n",
       "      <td>00042b26cf59d7ce69dfabb4e55b4fd9</td>\n",
       "      <td>df560393f3a51e74553ab94004ba5c87</td>\n",
       "      <td>1</td>\n",
       "      <td>199.90</td>\n",
       "      <td>18.14</td>\n",
       "      <td>3750.0</td>\n",
       "      <td>42000.0</td>\n",
       "      <td>varzea paulista</td>\n",
       "      <td>SP</td>\n",
       "      <td>-23.243402</td>\n",
       "      <td>-46.827614</td>\n",
       "      <td>loanda</td>\n",
       "      <td>PR</td>\n",
       "      <td>-22.929384</td>\n",
       "      <td>-53.135873</td>\n",
       "      <td>2017-02-04 13:57:51</td>\n",
       "      <td>2017-02-04 14:10:13</td>\n",
       "      <td>2017-02-13 13:57:51</td>\n",
       "      <td>2017-02-16 09:46:09</td>\n",
       "      <td>2017-03-01 16:42:31</td>\n",
       "      <td>2017-03-17</td>\n",
       "      <td>646.16</td>\n",
       "      <td>602.0</td>\n",
       "      <td>1.073355</td>\n",
       "      <td>602.0</td>\n",
       "      <td>25</td>\n",
       "    </tr>\n",
       "  </tbody>\n",
       "</table>\n",
       "</div>"
      ],
      "text/plain": [
       "                                    order_id                         seller_id  order_item_id   price  freight_value  product_weight_g  product_volume          customer_city customer_state  customer_lat  customer_lng    seller_city seller_state  seller_lat  seller_lng order_purchase_timestamp   order_approved_at shipping_limit_date order_delivered_carrier_date order_delivered_customer_date order_estimated_delivery_date  distance_km  delivery_time  delivery_speed  delivery_time_hours  delivery_time_days\n",
       "Unnamed: 0                                                                                                                                                                                                                                                                                                                                                                                                                                                                                                                 \n",
       "0           00010242fe8c5a6d1ba2dd792cb16214  48436dade18ac8b2bce089ec2a041202              1   58.90          13.29             650.0          3528.0  campos dos goytacazes             RJ    -21.762775    -41.309633  volta redonda           SP  -22.496953  -44.127492      2017-09-13 08:59:02 2017-09-13 09:45:35 2017-09-19 09:45:35          2017-09-19 18:34:16           2017-09-20 23:43:48                    2017-09-29       301.50          182.0        1.656593                182.0                   7\n",
       "1           00018f77f2f0320c557190d7a144bdd3  dd7ddc04e1b6c2c614352b383efe2d36              1  239.90          19.93           30000.0         60000.0        santa fe do sul             SP    -20.220527    -50.903424      sao paulo           SP  -23.565096  -46.518565      2017-04-26 10:53:06 2017-04-26 11:05:13 2017-05-03 11:05:13          2017-05-04 14:35:00           2017-05-12 16:04:24                    2017-05-15       585.56          389.0        1.505296                389.0                  16\n",
       "2           000229ec398224ef6ca0657da4fc703e  5b51032eddd242adc84c38acab88f23d              1  199.00          17.87            3050.0         14157.0          para de minas             MG    -19.870305    -44.593326  borda da mata           MG  -22.262584  -46.171124      2018-01-14 14:33:31 2018-01-14 14:48:30 2018-01-18 14:48:30          2018-01-16 12:36:48           2018-01-22 13:19:16                    2018-02-05       312.34          190.0        1.643895                190.0                   7\n",
       "3           00024acbcdf0a6daa1e931b038114c75  9d7a1d34a5052409006425275ba1c2b4              1   12.99          12.79             200.0          2400.0                atibaia             SP    -23.089925    -46.611654         franca           SP  -20.553624  -47.387359      2018-08-08 10:00:35 2018-08-08 10:10:18 2018-08-15 10:10:18          2018-08-10 13:28:00           2018-08-14 13:32:39                    2018-08-20       293.17          147.0        1.994354                147.0                   6\n",
       "4           00042b26cf59d7ce69dfabb4e55b4fd9  df560393f3a51e74553ab94004ba5c87              1  199.90          18.14            3750.0         42000.0        varzea paulista             SP    -23.243402    -46.827614         loanda           PR  -22.929384  -53.135873      2017-02-04 13:57:51 2017-02-04 14:10:13 2017-02-13 13:57:51          2017-02-16 09:46:09           2017-03-01 16:42:31                    2017-03-17       646.16          602.0        1.073355                602.0                  25"
      ]
     },
     "execution_count": 8,
     "metadata": {},
     "output_type": "execute_result"
    }
   ],
   "source": [
    "data_all_agg.head()"
   ]
  },
  {
   "cell_type": "markdown",
   "id": "necessary-career",
   "metadata": {},
   "source": [
    "### **Metrics**"
   ]
  },
  {
   "cell_type": "code",
   "execution_count": 9,
   "id": "efficient-workstation",
   "metadata": {},
   "outputs": [],
   "source": [
    "import math"
   ]
  },
  {
   "cell_type": "markdown",
   "id": "artificial-strain",
   "metadata": {},
   "source": [
    "#### **Mean Absolute Error of base client model in days**"
   ]
  },
  {
   "cell_type": "code",
   "execution_count": 10,
   "id": "aggregate-visiting",
   "metadata": {},
   "outputs": [
    {
     "name": "stdout",
     "output_type": "stream",
     "text": [
      "Mean Absolute Error for baseline model is:  13.32\n"
     ]
    }
   ],
   "source": [
    "MAE = np.abs((data_all_agg.order_delivered_customer_date - data_all_agg.order_estimated_delivery_date).dt.days).mean()\n",
    "print(f'Mean Absolute Error for baseline model is: {MAE: .2f}')"
   ]
  },
  {
   "cell_type": "markdown",
   "id": "indian-content",
   "metadata": {},
   "source": [
    "#### **Mean Squared Error of base client model in days**"
   ]
  },
  {
   "cell_type": "code",
   "execution_count": 11,
   "id": "partial-passenger",
   "metadata": {},
   "outputs": [],
   "source": [
    "MSE = np.square((data_all_agg.order_delivered_customer_date - data_all_agg.order_estimated_delivery_date).dt.days).mean() \n",
    "RMSE = math.sqrt(MSE)"
   ]
  },
  {
   "cell_type": "code",
   "execution_count": 12,
   "id": "strategic-grenada",
   "metadata": {},
   "outputs": [
    {
     "name": "stdout",
     "output_type": "stream",
     "text": [
      "Root Mean Squared Error for baseline model is:  15.65\n"
     ]
    }
   ],
   "source": [
    "print(f'Root Mean Squared Error for baseline model is: {RMSE: .2f}')"
   ]
  },
  {
   "cell_type": "markdown",
   "id": "prompt-surface",
   "metadata": {},
   "source": [
    "#### **Mean Forecasting Error of base client model in days**"
   ]
  },
  {
   "cell_type": "code",
   "execution_count": 13,
   "id": "formal-height",
   "metadata": {},
   "outputs": [
    {
     "name": "stdout",
     "output_type": "stream",
     "text": [
      "Mean Absolute Error for baseline model is:  10.89\n"
     ]
    }
   ],
   "source": [
    "MFE = ((data_all_agg.order_estimated_delivery_date - data_all_agg.order_delivered_customer_date).dt.days).mean()\n",
    "print(f'Mean Absolute Error for baseline model is: {MFE: .2f}')"
   ]
  },
  {
   "cell_type": "markdown",
   "id": "cardiovascular-tribe",
   "metadata": {},
   "source": [
    "In average the delivivery date forecasting model give almost 11 days more for each order. So, in result, the order will be delivered much faster then estimated days."
   ]
  },
  {
   "cell_type": "markdown",
   "id": "invalid-protocol",
   "metadata": {},
   "source": [
    "#### **Percent of right forecast**"
   ]
  },
  {
   "cell_type": "code",
   "execution_count": 14,
   "id": "rubber-roman",
   "metadata": {},
   "outputs": [
    {
     "data": {
      "text/plain": [
       "False    93391\n",
       "True      1262\n",
       "dtype: int64"
      ]
     },
     "execution_count": 14,
     "metadata": {},
     "output_type": "execute_result"
    }
   ],
   "source": [
    "(data_all_agg.order_estimated_delivery_date.dt.floor('d') == data_all_agg.order_delivered_customer_date.dt.floor('d')).value_counts()"
   ]
  },
  {
   "cell_type": "code",
   "execution_count": 15,
   "id": "intensive-infrastructure",
   "metadata": {},
   "outputs": [
    {
     "name": "stdout",
     "output_type": "stream",
     "text": [
      "Percent of right delivery day forecast for client model is:  1.35%\n"
     ]
    }
   ],
   "source": [
    "PRF = round(1262 / (93391+1262) * 100, 2)\n",
    "print(f'Percent of right delivery day forecast for client model is: {PRF: .2f}%')"
   ]
  },
  {
   "cell_type": "markdown",
   "id": "impaired-request",
   "metadata": {},
   "source": [
    "The existing model accuratly predict only 1.35% of all orders."
   ]
  },
  {
   "cell_type": "code",
   "execution_count": 21,
   "id": "threatened-butter",
   "metadata": {},
   "outputs": [
    {
     "data": {
      "text/plain": [
       "False    89623\n",
       "True      5030\n",
       "dtype: int64"
      ]
     },
     "execution_count": 21,
     "metadata": {},
     "output_type": "execute_result"
    }
   ],
   "source": [
    "(np.abs(data_all_agg.order_estimated_delivery_date - data_all_agg.order_delivered_customer_date).dt.days < 2).value_counts()"
   ]
  },
  {
   "cell_type": "code",
   "execution_count": 24,
   "id": "interpreted-copying",
   "metadata": {},
   "outputs": [
    {
     "name": "stdout",
     "output_type": "stream",
     "text": [
      "Percent of right delivery day forecast for client model within 2 day is:  5.31%\n"
     ]
    }
   ],
   "source": [
    "PRF_2_day = round( 5030 / (93391+1262) * 100, 2)\n",
    "print(f'Percent of right delivery day forecast for client model within 2 day is: {PRF_2_day: .2f}%')"
   ]
  },
  {
   "cell_type": "markdown",
   "id": "contrary-fluid",
   "metadata": {},
   "source": [
    "#### Short summary"
   ]
  },
  {
   "cell_type": "markdown",
   "id": "atmospheric-dating",
   "metadata": {},
   "source": [
    "Ми вирахували, що Ваша модель має середню абсолютну похибку 13 днів. Проте дана метрика просто відображає наскільки модель відхиляється від фактичної дати доставки, але не показує в яку сторону. Тому ми також вирахували, що здебільшого Ваша модель робить перепрогноз на  майже 11 днів. В той же час точний прогноз, прогнозована дата доставки дорівнює фактичній, на наданих Вами даних становить 1.35%. Якщо розширити межі до похибки в недоброгноз/перепрогноз до 1 дня, то на даний момент Ваша модель показує 5.31% від даних. На даний момент нами побудуване базове рішення, яке дає середню похибку прогнозу 4 дні і ми працюємо над її вдосконаленням. Яка межа прогнозу у днях (перепрогноз/недопрогноз) Вас задовільнить?."
   ]
  },
  {
   "cell_type": "markdown",
   "id": "human-saturday",
   "metadata": {},
   "source": [
    "### **Generate new features**"
   ]
  },
  {
   "cell_type": "code",
   "execution_count": 25,
   "id": "finite-tactics",
   "metadata": {},
   "outputs": [],
   "source": [
    "# Make a copy of the working dataset\n",
    "data_all_agg_prep = data_all_agg.copy(deep=True)"
   ]
  },
  {
   "cell_type": "code",
   "execution_count": 26,
   "id": "determined-fitness",
   "metadata": {},
   "outputs": [
    {
     "data": {
      "text/html": [
       "<div>\n",
       "<style scoped>\n",
       "    .dataframe tbody tr th:only-of-type {\n",
       "        vertical-align: middle;\n",
       "    }\n",
       "\n",
       "    .dataframe tbody tr th {\n",
       "        vertical-align: top;\n",
       "    }\n",
       "\n",
       "    .dataframe thead th {\n",
       "        text-align: right;\n",
       "    }\n",
       "</style>\n",
       "<table border=\"1\" class=\"dataframe\">\n",
       "  <thead>\n",
       "    <tr style=\"text-align: right;\">\n",
       "      <th></th>\n",
       "      <th>order_id</th>\n",
       "      <th>seller_id</th>\n",
       "      <th>order_item_id</th>\n",
       "      <th>price</th>\n",
       "      <th>freight_value</th>\n",
       "      <th>product_weight_g</th>\n",
       "      <th>product_volume</th>\n",
       "      <th>customer_city</th>\n",
       "      <th>customer_state</th>\n",
       "      <th>customer_lat</th>\n",
       "      <th>customer_lng</th>\n",
       "      <th>seller_city</th>\n",
       "      <th>seller_state</th>\n",
       "      <th>seller_lat</th>\n",
       "      <th>seller_lng</th>\n",
       "      <th>order_purchase_timestamp</th>\n",
       "      <th>order_approved_at</th>\n",
       "      <th>shipping_limit_date</th>\n",
       "      <th>order_delivered_carrier_date</th>\n",
       "      <th>order_delivered_customer_date</th>\n",
       "      <th>order_estimated_delivery_date</th>\n",
       "      <th>distance_km</th>\n",
       "      <th>delivery_time</th>\n",
       "      <th>delivery_speed</th>\n",
       "      <th>delivery_time_hours</th>\n",
       "      <th>delivery_time_days</th>\n",
       "    </tr>\n",
       "    <tr>\n",
       "      <th>Unnamed: 0</th>\n",
       "      <th></th>\n",
       "      <th></th>\n",
       "      <th></th>\n",
       "      <th></th>\n",
       "      <th></th>\n",
       "      <th></th>\n",
       "      <th></th>\n",
       "      <th></th>\n",
       "      <th></th>\n",
       "      <th></th>\n",
       "      <th></th>\n",
       "      <th></th>\n",
       "      <th></th>\n",
       "      <th></th>\n",
       "      <th></th>\n",
       "      <th></th>\n",
       "      <th></th>\n",
       "      <th></th>\n",
       "      <th></th>\n",
       "      <th></th>\n",
       "      <th></th>\n",
       "      <th></th>\n",
       "      <th></th>\n",
       "      <th></th>\n",
       "      <th></th>\n",
       "      <th></th>\n",
       "    </tr>\n",
       "  </thead>\n",
       "  <tbody>\n",
       "    <tr>\n",
       "      <th>0</th>\n",
       "      <td>00010242fe8c5a6d1ba2dd792cb16214</td>\n",
       "      <td>48436dade18ac8b2bce089ec2a041202</td>\n",
       "      <td>1</td>\n",
       "      <td>58.9</td>\n",
       "      <td>13.29</td>\n",
       "      <td>650.0</td>\n",
       "      <td>3528.0</td>\n",
       "      <td>campos dos goytacazes</td>\n",
       "      <td>RJ</td>\n",
       "      <td>-21.762775</td>\n",
       "      <td>-41.309633</td>\n",
       "      <td>volta redonda</td>\n",
       "      <td>SP</td>\n",
       "      <td>-22.496953</td>\n",
       "      <td>-44.127492</td>\n",
       "      <td>2017-09-13 08:59:02</td>\n",
       "      <td>2017-09-13 09:45:35</td>\n",
       "      <td>2017-09-19 09:45:35</td>\n",
       "      <td>2017-09-19 18:34:16</td>\n",
       "      <td>2017-09-20 23:43:48</td>\n",
       "      <td>2017-09-29</td>\n",
       "      <td>301.50</td>\n",
       "      <td>182.0</td>\n",
       "      <td>1.656593</td>\n",
       "      <td>182.0</td>\n",
       "      <td>7</td>\n",
       "    </tr>\n",
       "    <tr>\n",
       "      <th>1</th>\n",
       "      <td>00018f77f2f0320c557190d7a144bdd3</td>\n",
       "      <td>dd7ddc04e1b6c2c614352b383efe2d36</td>\n",
       "      <td>1</td>\n",
       "      <td>239.9</td>\n",
       "      <td>19.93</td>\n",
       "      <td>30000.0</td>\n",
       "      <td>60000.0</td>\n",
       "      <td>santa fe do sul</td>\n",
       "      <td>SP</td>\n",
       "      <td>-20.220527</td>\n",
       "      <td>-50.903424</td>\n",
       "      <td>sao paulo</td>\n",
       "      <td>SP</td>\n",
       "      <td>-23.565096</td>\n",
       "      <td>-46.518565</td>\n",
       "      <td>2017-04-26 10:53:06</td>\n",
       "      <td>2017-04-26 11:05:13</td>\n",
       "      <td>2017-05-03 11:05:13</td>\n",
       "      <td>2017-05-04 14:35:00</td>\n",
       "      <td>2017-05-12 16:04:24</td>\n",
       "      <td>2017-05-15</td>\n",
       "      <td>585.56</td>\n",
       "      <td>389.0</td>\n",
       "      <td>1.505296</td>\n",
       "      <td>389.0</td>\n",
       "      <td>16</td>\n",
       "    </tr>\n",
       "  </tbody>\n",
       "</table>\n",
       "</div>"
      ],
      "text/plain": [
       "                                    order_id                         seller_id  order_item_id  price  freight_value  product_weight_g  product_volume          customer_city customer_state  customer_lat  customer_lng    seller_city seller_state  seller_lat  seller_lng order_purchase_timestamp   order_approved_at shipping_limit_date order_delivered_carrier_date order_delivered_customer_date order_estimated_delivery_date  distance_km  delivery_time  delivery_speed  delivery_time_hours  delivery_time_days\n",
       "Unnamed: 0                                                                                                                                                                                                                                                                                                                                                                                                                                                                                                                \n",
       "0           00010242fe8c5a6d1ba2dd792cb16214  48436dade18ac8b2bce089ec2a041202              1   58.9          13.29             650.0          3528.0  campos dos goytacazes             RJ    -21.762775    -41.309633  volta redonda           SP  -22.496953  -44.127492      2017-09-13 08:59:02 2017-09-13 09:45:35 2017-09-19 09:45:35          2017-09-19 18:34:16           2017-09-20 23:43:48                    2017-09-29       301.50          182.0        1.656593                182.0                   7\n",
       "1           00018f77f2f0320c557190d7a144bdd3  dd7ddc04e1b6c2c614352b383efe2d36              1  239.9          19.93           30000.0         60000.0        santa fe do sul             SP    -20.220527    -50.903424      sao paulo           SP  -23.565096  -46.518565      2017-04-26 10:53:06 2017-04-26 11:05:13 2017-05-03 11:05:13          2017-05-04 14:35:00           2017-05-12 16:04:24                    2017-05-15       585.56          389.0        1.505296                389.0                  16"
      ]
     },
     "execution_count": 26,
     "metadata": {},
     "output_type": "execute_result"
    }
   ],
   "source": [
    "data_all_agg_prep.head(2)"
   ]
  },
  {
   "cell_type": "code",
   "execution_count": 27,
   "id": "fitted-estimate",
   "metadata": {},
   "outputs": [],
   "source": [
    "# Seller and cutomer are in the same state\n",
    "data_all_agg_prep['same_state'] = (data_all_agg_prep.customer_state == data_all_agg_prep.seller_state).replace({True:1, False:0})"
   ]
  },
  {
   "cell_type": "code",
   "execution_count": 28,
   "id": "welcome-limit",
   "metadata": {},
   "outputs": [],
   "source": [
    "#Seller and customer are in the same city\n",
    "data_all_agg_prep['same_city'] = (data_all_agg_prep.customer_city == data_all_agg_prep.seller_city).replace({True:1, False:0})"
   ]
  },
  {
   "cell_type": "code",
   "execution_count": 29,
   "id": "gentle-contrary",
   "metadata": {},
   "outputs": [],
   "source": [
    "data_all_agg_prep['shipping_limit_date_overdue'] = (data_all_agg_prep.shipping_limit_date > data_all_agg_prep.order_delivered_carrier_date).replace({True:1, False:0})"
   ]
  },
  {
   "cell_type": "code",
   "execution_count": 30,
   "id": "british-convergence",
   "metadata": {},
   "outputs": [],
   "source": [
    "# Time in hours from purchase to order approving in hours\n",
    "# We could lose som info if it wil be in days\n",
    "data_all_agg_prep['time_purchase_approved'] = (data_all_agg_prep.order_approved_at - data_all_agg_prep.order_purchase_timestamp).dt.days"
   ]
  },
  {
   "cell_type": "code",
   "execution_count": 31,
   "id": "bigger-owner",
   "metadata": {},
   "outputs": [],
   "source": [
    "# Time in hours from approving to delivering to carrier in hours\n",
    "# We could lose som info if it wil be in days\n",
    "data_all_agg_prep['time_approved_delivered_carrier'] = (data_all_agg_prep.order_delivered_carrier_date - data_all_agg_prep.order_approved_at).dt.days"
   ]
  },
  {
   "cell_type": "code",
   "execution_count": 32,
   "id": "driving-radio",
   "metadata": {},
   "outputs": [],
   "source": [
    "# hash_space = 3000\n",
    "data_all_agg_prep['hashed_customer_city'] = pd.Series(hash(place) for place in data_all_agg_prep.customer_city)\n",
    "data_all_agg_prep['hashed_seller_city'] = pd.Series(hash(place) for place in data_all_agg_prep.seller_city)\n",
    "\n",
    "data_all_agg_prep['hashed_customer_state'] = pd.Series(hash(place) for place in data_all_agg_prep.customer_state)\n",
    "data_all_agg_prep['hashed_seller_state'] = pd.Series(hash(place) for place in data_all_agg_prep.seller_state)"
   ]
  },
  {
   "cell_type": "code",
   "execution_count": null,
   "id": "higher-possession",
   "metadata": {},
   "outputs": [],
   "source": []
  },
  {
   "cell_type": "code",
   "execution_count": null,
   "id": "crucial-composer",
   "metadata": {},
   "outputs": [],
   "source": []
  },
  {
   "cell_type": "code",
   "execution_count": 33,
   "id": "private-consequence",
   "metadata": {},
   "outputs": [
    {
     "data": {
      "text/html": [
       "<div>\n",
       "<style scoped>\n",
       "    .dataframe tbody tr th:only-of-type {\n",
       "        vertical-align: middle;\n",
       "    }\n",
       "\n",
       "    .dataframe tbody tr th {\n",
       "        vertical-align: top;\n",
       "    }\n",
       "\n",
       "    .dataframe thead th {\n",
       "        text-align: right;\n",
       "    }\n",
       "</style>\n",
       "<table border=\"1\" class=\"dataframe\">\n",
       "  <thead>\n",
       "    <tr style=\"text-align: right;\">\n",
       "      <th></th>\n",
       "      <th>order_id</th>\n",
       "      <th>seller_id</th>\n",
       "      <th>order_item_id</th>\n",
       "      <th>price</th>\n",
       "      <th>freight_value</th>\n",
       "      <th>product_weight_g</th>\n",
       "      <th>product_volume</th>\n",
       "      <th>customer_city</th>\n",
       "      <th>customer_state</th>\n",
       "      <th>customer_lat</th>\n",
       "      <th>customer_lng</th>\n",
       "      <th>seller_city</th>\n",
       "      <th>seller_state</th>\n",
       "      <th>seller_lat</th>\n",
       "      <th>seller_lng</th>\n",
       "      <th>order_purchase_timestamp</th>\n",
       "      <th>order_approved_at</th>\n",
       "      <th>shipping_limit_date</th>\n",
       "      <th>order_delivered_carrier_date</th>\n",
       "      <th>order_delivered_customer_date</th>\n",
       "      <th>order_estimated_delivery_date</th>\n",
       "      <th>distance_km</th>\n",
       "      <th>delivery_time</th>\n",
       "      <th>delivery_speed</th>\n",
       "      <th>delivery_time_hours</th>\n",
       "      <th>delivery_time_days</th>\n",
       "      <th>same_state</th>\n",
       "      <th>same_city</th>\n",
       "      <th>shipping_limit_date_overdue</th>\n",
       "      <th>time_purchase_approved</th>\n",
       "      <th>time_approved_delivered_carrier</th>\n",
       "      <th>hashed_customer_city</th>\n",
       "      <th>hashed_seller_city</th>\n",
       "      <th>hashed_customer_state</th>\n",
       "      <th>hashed_seller_state</th>\n",
       "    </tr>\n",
       "    <tr>\n",
       "      <th>Unnamed: 0</th>\n",
       "      <th></th>\n",
       "      <th></th>\n",
       "      <th></th>\n",
       "      <th></th>\n",
       "      <th></th>\n",
       "      <th></th>\n",
       "      <th></th>\n",
       "      <th></th>\n",
       "      <th></th>\n",
       "      <th></th>\n",
       "      <th></th>\n",
       "      <th></th>\n",
       "      <th></th>\n",
       "      <th></th>\n",
       "      <th></th>\n",
       "      <th></th>\n",
       "      <th></th>\n",
       "      <th></th>\n",
       "      <th></th>\n",
       "      <th></th>\n",
       "      <th></th>\n",
       "      <th></th>\n",
       "      <th></th>\n",
       "      <th></th>\n",
       "      <th></th>\n",
       "      <th></th>\n",
       "      <th></th>\n",
       "      <th></th>\n",
       "      <th></th>\n",
       "      <th></th>\n",
       "      <th></th>\n",
       "      <th></th>\n",
       "      <th></th>\n",
       "      <th></th>\n",
       "      <th></th>\n",
       "    </tr>\n",
       "  </thead>\n",
       "  <tbody>\n",
       "    <tr>\n",
       "      <th>5</th>\n",
       "      <td>00048cc3ae777c65dbb7d2a0634bc1ea</td>\n",
       "      <td>6426d21aca402a131fc0a5d0960a3c90</td>\n",
       "      <td>1</td>\n",
       "      <td>21.9</td>\n",
       "      <td>12.69</td>\n",
       "      <td>450.0</td>\n",
       "      <td>2880.0</td>\n",
       "      <td>uberaba</td>\n",
       "      <td>MG</td>\n",
       "      <td>-19.740199</td>\n",
       "      <td>-47.924793</td>\n",
       "      <td>ribeirao preto</td>\n",
       "      <td>SP</td>\n",
       "      <td>-21.190128</td>\n",
       "      <td>-47.787901</td>\n",
       "      <td>2017-05-15 21:42:34</td>\n",
       "      <td>2017-05-17 03:55:27</td>\n",
       "      <td>2017-05-23 03:55:27</td>\n",
       "      <td>2017-05-17 11:05:55</td>\n",
       "      <td>2017-05-22 13:44:35</td>\n",
       "      <td>2017-06-06</td>\n",
       "      <td>161.85</td>\n",
       "      <td>160.0</td>\n",
       "      <td>1.011562</td>\n",
       "      <td>160.0</td>\n",
       "      <td>6</td>\n",
       "      <td>0</td>\n",
       "      <td>0</td>\n",
       "      <td>1</td>\n",
       "      <td>1</td>\n",
       "      <td>0</td>\n",
       "      <td>-829314452290591256</td>\n",
       "      <td>-7313688245212824808</td>\n",
       "      <td>295471655616810801</td>\n",
       "      <td>-4850968688601002385</td>\n",
       "    </tr>\n",
       "    <tr>\n",
       "      <th>12</th>\n",
       "      <td>0006ec9db01a64e59a68b2c340bf65a7</td>\n",
       "      <td>4a3ca9315b744ce9f8e9374361493884</td>\n",
       "      <td>1</td>\n",
       "      <td>74.0</td>\n",
       "      <td>23.32</td>\n",
       "      <td>1383.0</td>\n",
       "      <td>20000.0</td>\n",
       "      <td>rio de janeiro</td>\n",
       "      <td>RJ</td>\n",
       "      <td>-22.879221</td>\n",
       "      <td>-43.459310</td>\n",
       "      <td>ibitinga</td>\n",
       "      <td>SP</td>\n",
       "      <td>-21.757321</td>\n",
       "      <td>-48.829744</td>\n",
       "      <td>2018-07-24 17:04:17</td>\n",
       "      <td>2018-07-24 17:24:20</td>\n",
       "      <td>2018-07-26 17:24:20</td>\n",
       "      <td>2018-07-25 11:02:00</td>\n",
       "      <td>2018-07-31 01:04:15</td>\n",
       "      <td>2018-08-22</td>\n",
       "      <td>566.30</td>\n",
       "      <td>151.0</td>\n",
       "      <td>3.750331</td>\n",
       "      <td>151.0</td>\n",
       "      <td>6</td>\n",
       "      <td>0</td>\n",
       "      <td>0</td>\n",
       "      <td>1</td>\n",
       "      <td>0</td>\n",
       "      <td>0</td>\n",
       "      <td>5360404565088014902</td>\n",
       "      <td>3034075958876919490</td>\n",
       "      <td>7860412576608632623</td>\n",
       "      <td>-4850968688601002385</td>\n",
       "    </tr>\n",
       "  </tbody>\n",
       "</table>\n",
       "</div>"
      ],
      "text/plain": [
       "                                    order_id                         seller_id  order_item_id  price  freight_value  product_weight_g  product_volume   customer_city customer_state  customer_lat  customer_lng     seller_city seller_state  seller_lat  seller_lng order_purchase_timestamp   order_approved_at shipping_limit_date order_delivered_carrier_date order_delivered_customer_date order_estimated_delivery_date  distance_km  delivery_time  delivery_speed  delivery_time_hours  delivery_time_days  same_state  same_city  shipping_limit_date_overdue  time_purchase_approved  time_approved_delivered_carrier  hashed_customer_city   hashed_seller_city  hashed_customer_state  hashed_seller_state\n",
       "Unnamed: 0                                                                                                                                                                                                                                                                                                                                                                                                                                                                                                                                                                                                                                                                                                              \n",
       "5           00048cc3ae777c65dbb7d2a0634bc1ea  6426d21aca402a131fc0a5d0960a3c90              1   21.9          12.69             450.0          2880.0         uberaba             MG    -19.740199    -47.924793  ribeirao preto           SP  -21.190128  -47.787901      2017-05-15 21:42:34 2017-05-17 03:55:27 2017-05-23 03:55:27          2017-05-17 11:05:55           2017-05-22 13:44:35                    2017-06-06       161.85          160.0        1.011562                160.0                   6           0          0                            1                       1                                0   -829314452290591256 -7313688245212824808     295471655616810801 -4850968688601002385\n",
       "12          0006ec9db01a64e59a68b2c340bf65a7  4a3ca9315b744ce9f8e9374361493884              1   74.0          23.32            1383.0         20000.0  rio de janeiro             RJ    -22.879221    -43.459310        ibitinga           SP  -21.757321  -48.829744      2018-07-24 17:04:17 2018-07-24 17:24:20 2018-07-26 17:24:20          2018-07-25 11:02:00           2018-07-31 01:04:15                    2018-08-22       566.30          151.0        3.750331                151.0                   6           0          0                            1                       0                                0   5360404565088014902  3034075958876919490    7860412576608632623 -4850968688601002385"
      ]
     },
     "execution_count": 33,
     "metadata": {},
     "output_type": "execute_result"
    }
   ],
   "source": [
    "data_all_agg_prep[data_all_agg_prep.time_approved_delivered_carrier == 0].head(2)"
   ]
  },
  {
   "cell_type": "code",
   "execution_count": null,
   "id": "military-syracuse",
   "metadata": {},
   "outputs": [],
   "source": []
  },
  {
   "cell_type": "code",
   "execution_count": null,
   "id": "driven-clear",
   "metadata": {},
   "outputs": [],
   "source": []
  },
  {
   "cell_type": "markdown",
   "id": "fifty-karma",
   "metadata": {},
   "source": [
    "#### Special part with avg delivery speed incorporation into the features"
   ]
  },
  {
   "cell_type": "markdown",
   "id": "infinite-incidence",
   "metadata": {},
   "source": [
    "Тут є варіант додати ще фічу зі швидкістю доставки за попередні періоди для продавця. Є декілька варіантів. Найпростіший - це просто взяти середнє значення або медіанне. Більш складний варіант - це врахувати, що на різну відстань додавки різна швидкість. "
   ]
  },
  {
   "cell_type": "code",
   "execution_count": 127,
   "id": "directed-calcium",
   "metadata": {},
   "outputs": [
    {
     "data": {
      "text/plain": [
       "78083"
      ]
     },
     "execution_count": 127,
     "metadata": {},
     "output_type": "execute_result"
    }
   ],
   "source": [
    "# Check the number of time from purchasing to approving to less then 1 hour\n",
    "data_all_agg_prep.time_purchase_approved.isin([0]).sum()"
   ]
  },
  {
   "cell_type": "code",
   "execution_count": 128,
   "id": "acoustic-minute",
   "metadata": {},
   "outputs": [
    {
     "data": {
      "text/plain": [
       "27358"
      ]
     },
     "execution_count": 128,
     "metadata": {},
     "output_type": "execute_result"
    }
   ],
   "source": [
    "# Check the number of time from approving to delivering to carrier less then 1 hour\n",
    "data_all_agg_prep.time_approved_delivered_carrier.isin([0]).sum()"
   ]
  },
  {
   "cell_type": "code",
   "execution_count": 103,
   "id": "controlling-shooting",
   "metadata": {},
   "outputs": [],
   "source": [
    "order_date = data_all_agg_prep[data_all_agg_prep.order_id == '00611822267e76e0055c25c18506f06e'].order_purchase_timestamp.tolist()[0]"
   ]
  },
  {
   "cell_type": "code",
   "execution_count": 108,
   "id": "figured-welding",
   "metadata": {},
   "outputs": [],
   "source": [
    "seller = data_all_agg_prep[data_all_agg_prep.order_id == '00611822267e76e0055c25c18506f06e'].seller_id.tolist()[0]"
   ]
  },
  {
   "cell_type": "code",
   "execution_count": 109,
   "id": "unknown-mileage",
   "metadata": {},
   "outputs": [
    {
     "data": {
      "text/plain": [
       "(Timestamp('2018-07-26 13:35:01'), '23d7c96d4a1160db1c726b248601b25a')"
      ]
     },
     "execution_count": 109,
     "metadata": {},
     "output_type": "execute_result"
    }
   ],
   "source": [
    "order_date, seller"
   ]
  },
  {
   "cell_type": "code",
   "execution_count": 112,
   "id": "tired-decimal",
   "metadata": {},
   "outputs": [
    {
     "data": {
      "text/plain": [
       "1.6112678826997706"
      ]
     },
     "execution_count": 112,
     "metadata": {},
     "output_type": "execute_result"
    }
   ],
   "source": [
    "data_all_agg_prep[(data_all_agg_prep.order_purchase_timestamp <= order_date) & \n",
    "                  (data_all_agg_prep.seller_id == seller)].sort_values(by=['order_purchase_timestamp'], ascending=False).delivery_speed.mean()"
   ]
  },
  {
   "cell_type": "code",
   "execution_count": null,
   "id": "tamil-heather",
   "metadata": {},
   "outputs": [],
   "source": []
  },
  {
   "cell_type": "code",
   "execution_count": 48,
   "id": "inappropriate-version",
   "metadata": {},
   "outputs": [],
   "source": [
    "orders = data_all_agg_prep.order_id.unique().tolist()\n",
    "sellers = data_all_agg_prep.seller_id.unique().tolist()"
   ]
  },
  {
   "cell_type": "code",
   "execution_count": 49,
   "id": "healthy-pencil",
   "metadata": {},
   "outputs": [],
   "source": [
    "data_all_agg_prep['avg_seller_speed'] = 0"
   ]
  },
  {
   "cell_type": "code",
   "execution_count": 51,
   "id": "identified-chapter",
   "metadata": {},
   "outputs": [
    {
     "name": "stdout",
     "output_type": "stream",
     "text": [
      "CPU times: user 39min 38s, sys: 1.09 s, total: 39min 39s\n",
      "Wall time: 39min 46s\n"
     ]
    }
   ],
   "source": [
    "%%time\n",
    "for order in orders:\n",
    "    order_date = data_all_agg_prep[data_all_agg_prep.order_id == order].order_purchase_timestamp.tolist()[0]\n",
    "    seller = data_all_agg_prep[data_all_agg_prep.order_id == '00611822267e76e0055c25c18506f06e'].seller_id.tolist()[0]\n",
    "    \n",
    "    avg_seller_sp = data_all_agg_prep[(data_all_agg_prep.order_purchase_timestamp <= order_date) & \n",
    "                  (data_all_agg_prep.seller_id == seller)].sort_values(by=['order_purchase_timestamp'], ascending=False).delivery_speed.mean()\n",
    "    \n",
    "    data_all_agg_prep[(data_all_agg_prep.order_purchase_timestamp == order_date) & \n",
    "                  (data_all_agg_prep.seller_id == seller)].avg_seller_speed = avg_seller_sp\n",
    "    "
   ]
  },
  {
   "cell_type": "code",
   "execution_count": null,
   "id": "australian-poker",
   "metadata": {},
   "outputs": [],
   "source": []
  },
  {
   "cell_type": "code",
   "execution_count": null,
   "id": "stainless-graham",
   "metadata": {},
   "outputs": [],
   "source": []
  },
  {
   "cell_type": "code",
   "execution_count": null,
   "id": "gross-trunk",
   "metadata": {},
   "outputs": [],
   "source": []
  },
  {
   "cell_type": "code",
   "execution_count": null,
   "id": "canadian-knowing",
   "metadata": {},
   "outputs": [],
   "source": []
  },
  {
   "cell_type": "code",
   "execution_count": 43,
   "id": "difficult-motorcycle",
   "metadata": {},
   "outputs": [],
   "source": [
    "df_test = data_all_agg_prep[data_all_agg_prep.seller_id == '6426d21aca402a131fc0a5d0960a3c90'][['delivery_speed','distance_km']]"
   ]
  },
  {
   "cell_type": "code",
   "execution_count": 46,
   "id": "expensive-liability",
   "metadata": {},
   "outputs": [
    {
     "data": {
      "image/png": "[encoded data removed]",
      "text/plain": [
       "<Figure size 864x432 with 1 Axes>"
      ]
     },
     "metadata": {
      "needs_background": "light"
     },
     "output_type": "display_data"
    }
   ],
   "source": [
    "sns.lineplot(x=df_test.distance_km ,y=df_test.delivery_speed, estimator='mean');"
   ]
  },
  {
   "cell_type": "code",
   "execution_count": null,
   "id": "simple-metallic",
   "metadata": {},
   "outputs": [],
   "source": []
  },
  {
   "cell_type": "code",
   "execution_count": null,
   "id": "sorted-honolulu",
   "metadata": {},
   "outputs": [],
   "source": []
  },
  {
   "cell_type": "code",
   "execution_count": null,
   "id": "competitive-round",
   "metadata": {},
   "outputs": [],
   "source": []
  },
  {
   "cell_type": "code",
   "execution_count": null,
   "id": "framed-priority",
   "metadata": {},
   "outputs": [],
   "source": []
  },
  {
   "cell_type": "code",
   "execution_count": 114,
   "id": "moral-committee",
   "metadata": {},
   "outputs": [
    {
     "data": {
      "text/html": [
       "<div>\n",
       "<style scoped>\n",
       "    .dataframe tbody tr th:only-of-type {\n",
       "        vertical-align: middle;\n",
       "    }\n",
       "\n",
       "    .dataframe tbody tr th {\n",
       "        vertical-align: top;\n",
       "    }\n",
       "\n",
       "    .dataframe thead th {\n",
       "        text-align: right;\n",
       "    }\n",
       "</style>\n",
       "<table border=\"1\" class=\"dataframe\">\n",
       "  <thead>\n",
       "    <tr style=\"text-align: right;\">\n",
       "      <th></th>\n",
       "      <th>order_id</th>\n",
       "      <th>seller_id</th>\n",
       "      <th>order_item_id</th>\n",
       "      <th>price</th>\n",
       "      <th>freight_value</th>\n",
       "      <th>product_weight_g</th>\n",
       "      <th>product_volume</th>\n",
       "      <th>customer_city</th>\n",
       "      <th>customer_state</th>\n",
       "      <th>customer_lat</th>\n",
       "      <th>customer_lng</th>\n",
       "      <th>seller_city</th>\n",
       "      <th>seller_state</th>\n",
       "      <th>seller_lat</th>\n",
       "      <th>seller_lng</th>\n",
       "      <th>order_purchase_timestamp</th>\n",
       "      <th>order_approved_at</th>\n",
       "      <th>shipping_limit_date</th>\n",
       "      <th>order_delivered_carrier_date</th>\n",
       "      <th>order_delivered_customer_date</th>\n",
       "      <th>order_estimated_delivery_date</th>\n",
       "      <th>distance_km</th>\n",
       "      <th>delivery_time</th>\n",
       "      <th>delivery_speed</th>\n",
       "      <th>delivery_time_hours</th>\n",
       "      <th>delivery_time_days</th>\n",
       "      <th>same_state</th>\n",
       "      <th>same_city</th>\n",
       "      <th>shipping_limit_date_overdue</th>\n",
       "      <th>time_purchase_approved</th>\n",
       "      <th>time_approved_delivered_carrier</th>\n",
       "      <th>hashed_customer_city</th>\n",
       "      <th>hashed_seller_city</th>\n",
       "      <th>hashed_customer_state</th>\n",
       "      <th>hashed_seller_state</th>\n",
       "    </tr>\n",
       "    <tr>\n",
       "      <th>Unnamed: 0</th>\n",
       "      <th></th>\n",
       "      <th></th>\n",
       "      <th></th>\n",
       "      <th></th>\n",
       "      <th></th>\n",
       "      <th></th>\n",
       "      <th></th>\n",
       "      <th></th>\n",
       "      <th></th>\n",
       "      <th></th>\n",
       "      <th></th>\n",
       "      <th></th>\n",
       "      <th></th>\n",
       "      <th></th>\n",
       "      <th></th>\n",
       "      <th></th>\n",
       "      <th></th>\n",
       "      <th></th>\n",
       "      <th></th>\n",
       "      <th></th>\n",
       "      <th></th>\n",
       "      <th></th>\n",
       "      <th></th>\n",
       "      <th></th>\n",
       "      <th></th>\n",
       "      <th></th>\n",
       "      <th></th>\n",
       "      <th></th>\n",
       "      <th></th>\n",
       "      <th></th>\n",
       "      <th></th>\n",
       "      <th></th>\n",
       "      <th></th>\n",
       "      <th></th>\n",
       "      <th></th>\n",
       "    </tr>\n",
       "  </thead>\n",
       "  <tbody>\n",
       "    <tr>\n",
       "      <th>0</th>\n",
       "      <td>00010242fe8c5a6d1ba2dd792cb16214</td>\n",
       "      <td>48436dade18ac8b2bce089ec2a041202</td>\n",
       "      <td>1</td>\n",
       "      <td>58.9</td>\n",
       "      <td>13.29</td>\n",
       "      <td>650.0</td>\n",
       "      <td>3528.0</td>\n",
       "      <td>campos dos goytacazes</td>\n",
       "      <td>RJ</td>\n",
       "      <td>-21.762775</td>\n",
       "      <td>-41.309633</td>\n",
       "      <td>volta redonda</td>\n",
       "      <td>SP</td>\n",
       "      <td>-22.496953</td>\n",
       "      <td>-44.127492</td>\n",
       "      <td>2017-09-13 08:59:02</td>\n",
       "      <td>2017-09-13 09:45:35</td>\n",
       "      <td>2017-09-19 09:45:35</td>\n",
       "      <td>2017-09-19 18:34:16</td>\n",
       "      <td>2017-09-20 23:43:48</td>\n",
       "      <td>2017-09-29</td>\n",
       "      <td>301.5</td>\n",
       "      <td>182.0</td>\n",
       "      <td>1.656593</td>\n",
       "      <td>182.0</td>\n",
       "      <td>7</td>\n",
       "      <td>0</td>\n",
       "      <td>0</td>\n",
       "      <td>0</td>\n",
       "      <td>0.0</td>\n",
       "      <td>152.0</td>\n",
       "      <td>-8046876946468587586</td>\n",
       "      <td>8830193365186712737</td>\n",
       "      <td>-8452078374672731262</td>\n",
       "      <td>-2348517858702383879</td>\n",
       "    </tr>\n",
       "  </tbody>\n",
       "</table>\n",
       "</div>"
      ],
      "text/plain": [
       "                                    order_id                         seller_id  order_item_id  price  freight_value  product_weight_g  product_volume          customer_city customer_state  customer_lat  customer_lng    seller_city seller_state  seller_lat  seller_lng order_purchase_timestamp   order_approved_at shipping_limit_date order_delivered_carrier_date order_delivered_customer_date order_estimated_delivery_date  distance_km  delivery_time  delivery_speed  delivery_time_hours  delivery_time_days  same_state  same_city  shipping_limit_date_overdue  time_purchase_approved  time_approved_delivered_carrier  hashed_customer_city   hashed_seller_city  hashed_customer_state  hashed_seller_state\n",
       "Unnamed: 0                                                                                                                                                                                                                                                                                                                                                                                                                                                                                                                                                                                                                                                                                                                    \n",
       "0           00010242fe8c5a6d1ba2dd792cb16214  48436dade18ac8b2bce089ec2a041202              1   58.9          13.29             650.0          3528.0  campos dos goytacazes             RJ    -21.762775    -41.309633  volta redonda           SP  -22.496953  -44.127492      2017-09-13 08:59:02 2017-09-13 09:45:35 2017-09-19 09:45:35          2017-09-19 18:34:16           2017-09-20 23:43:48                    2017-09-29        301.5          182.0        1.656593                182.0                   7           0          0                            0                     0.0                            152.0  -8046876946468587586  8830193365186712737   -8452078374672731262 -2348517858702383879"
      ]
     },
     "execution_count": 114,
     "metadata": {},
     "output_type": "execute_result"
    }
   ],
   "source": [
    "data_all_agg_prep.head(1)"
   ]
  },
  {
   "cell_type": "code",
   "execution_count": 129,
   "id": "exact-mixer",
   "metadata": {},
   "outputs": [
    {
     "data": {
      "text/html": [
       "<div>\n",
       "<style scoped>\n",
       "    .dataframe tbody tr th:only-of-type {\n",
       "        vertical-align: middle;\n",
       "    }\n",
       "\n",
       "    .dataframe tbody tr th {\n",
       "        vertical-align: top;\n",
       "    }\n",
       "\n",
       "    .dataframe thead th {\n",
       "        text-align: right;\n",
       "    }\n",
       "</style>\n",
       "<table border=\"1\" class=\"dataframe\">\n",
       "  <thead>\n",
       "    <tr style=\"text-align: right;\">\n",
       "      <th></th>\n",
       "      <th>order_item_id</th>\n",
       "      <th>price</th>\n",
       "      <th>freight_value</th>\n",
       "      <th>product_weight_g</th>\n",
       "      <th>product_volume</th>\n",
       "      <th>customer_lat</th>\n",
       "      <th>customer_lng</th>\n",
       "      <th>seller_lat</th>\n",
       "      <th>seller_lng</th>\n",
       "      <th>distance_km</th>\n",
       "      <th>delivery_time_days</th>\n",
       "      <th>same_state</th>\n",
       "      <th>same_city</th>\n",
       "      <th>shipping_limit_date_overdue</th>\n",
       "      <th>time_purchase_approved</th>\n",
       "      <th>time_approved_delivered_carrier</th>\n",
       "      <th>hashed_customer_city</th>\n",
       "      <th>hashed_seller_city</th>\n",
       "      <th>hashed_customer_state</th>\n",
       "      <th>hashed_seller_state</th>\n",
       "    </tr>\n",
       "    <tr>\n",
       "      <th>Unnamed: 0</th>\n",
       "      <th></th>\n",
       "      <th></th>\n",
       "      <th></th>\n",
       "      <th></th>\n",
       "      <th></th>\n",
       "      <th></th>\n",
       "      <th></th>\n",
       "      <th></th>\n",
       "      <th></th>\n",
       "      <th></th>\n",
       "      <th></th>\n",
       "      <th></th>\n",
       "      <th></th>\n",
       "      <th></th>\n",
       "      <th></th>\n",
       "      <th></th>\n",
       "      <th></th>\n",
       "      <th></th>\n",
       "      <th></th>\n",
       "      <th></th>\n",
       "    </tr>\n",
       "  </thead>\n",
       "  <tbody>\n",
       "    <tr>\n",
       "      <th>0</th>\n",
       "      <td>1</td>\n",
       "      <td>58.9</td>\n",
       "      <td>13.29</td>\n",
       "      <td>650.0</td>\n",
       "      <td>3528.0</td>\n",
       "      <td>-21.762775</td>\n",
       "      <td>-41.309633</td>\n",
       "      <td>-22.496953</td>\n",
       "      <td>-44.127492</td>\n",
       "      <td>301.50</td>\n",
       "      <td>7</td>\n",
       "      <td>0</td>\n",
       "      <td>0</td>\n",
       "      <td>0</td>\n",
       "      <td>0</td>\n",
       "      <td>6</td>\n",
       "      <td>-8046876946468587586</td>\n",
       "      <td>8830193365186712737</td>\n",
       "      <td>-8452078374672731262</td>\n",
       "      <td>-2348517858702383879</td>\n",
       "    </tr>\n",
       "    <tr>\n",
       "      <th>1</th>\n",
       "      <td>1</td>\n",
       "      <td>239.9</td>\n",
       "      <td>19.93</td>\n",
       "      <td>30000.0</td>\n",
       "      <td>60000.0</td>\n",
       "      <td>-20.220527</td>\n",
       "      <td>-50.903424</td>\n",
       "      <td>-23.565096</td>\n",
       "      <td>-46.518565</td>\n",
       "      <td>585.56</td>\n",
       "      <td>16</td>\n",
       "      <td>1</td>\n",
       "      <td>0</td>\n",
       "      <td>0</td>\n",
       "      <td>0</td>\n",
       "      <td>8</td>\n",
       "      <td>-4176635117835696672</td>\n",
       "      <td>-7438935248913176890</td>\n",
       "      <td>-2348517858702383879</td>\n",
       "      <td>-2348517858702383879</td>\n",
       "    </tr>\n",
       "  </tbody>\n",
       "</table>\n",
       "</div>"
      ],
      "text/plain": [
       "            order_item_id  price  freight_value  product_weight_g  product_volume  customer_lat  customer_lng  seller_lat  seller_lng  distance_km  delivery_time_days  same_state  same_city  shipping_limit_date_overdue  time_purchase_approved  time_approved_delivered_carrier  hashed_customer_city   hashed_seller_city  hashed_customer_state  hashed_seller_state\n",
       "Unnamed: 0                                                                                                                                                                                                                                                                                                                                                                \n",
       "0                       1   58.9          13.29             650.0          3528.0    -21.762775    -41.309633  -22.496953  -44.127492       301.50                   7           0          0                            0                       0                                6  -8046876946468587586  8830193365186712737   -8452078374672731262 -2348517858702383879\n",
       "1                       1  239.9          19.93           30000.0         60000.0    -20.220527    -50.903424  -23.565096  -46.518565       585.56                  16           1          0                            0                       0                                8  -4176635117835696672 -7438935248913176890   -2348517858702383879 -2348517858702383879"
      ]
     },
     "execution_count": 129,
     "metadata": {},
     "output_type": "execute_result"
    }
   ],
   "source": [
    "# For beseline model we a\n",
    "data_all_agg_prep.drop(['order_id',\n",
    "                        'seller_id',\n",
    "                        'customer_city',\n",
    "                        'customer_state',\n",
    "                        'seller_city',\n",
    "                        'seller_state',\n",
    "                        'order_purchase_timestamp',\n",
    "                        'order_approved_at',\n",
    "                        'shipping_limit_date',\n",
    "                        'order_delivered_carrier_date',\n",
    "                        'order_delivered_customer_date',\n",
    "                        'order_estimated_delivery_date',\n",
    "                        'delivery_time_hours',\n",
    "                        'delivery_time',\n",
    "                        'delivery_speed'],# This could couse a data target leakage, as  \n",
    "                         axis=1, inplace=True)\n",
    "data_all_agg_prep.head(2)"
   ]
  },
  {
   "cell_type": "code",
   "execution_count": 130,
   "id": "respected-douglas",
   "metadata": {},
   "outputs": [],
   "source": [
    "Y = data_all_agg_prep['delivery_time_days']\n",
    "X = data_all_agg_prep.drop(['delivery_time_days'], axis=1)"
   ]
  },
  {
   "cell_type": "code",
   "execution_count": 131,
   "id": "composed-purple",
   "metadata": {},
   "outputs": [],
   "source": [
    "X.to_csv('data_raw/data_x.csv')\n",
    "Y.to_csv('data_raw/data_y.csv')"
   ]
  },
  {
   "cell_type": "markdown",
   "id": "portuguese-going",
   "metadata": {},
   "source": [
    "### **Additional features**"
   ]
  },
  {
   "cell_type": "markdown",
   "id": "deluxe-citation",
   "metadata": {},
   "source": [
    "- Можна також додати на який день тижня було здійснене замовлення: будні чи вихідні; \n",
    "- Також нормальний варіант буде врахувати вид товару, який був замовлений. Тобто якщо це були продукти харчування, то для них дата час доставки буде значно менший ніж для товарів не продуктової групи;\n",
    "- Можна спробувати погратися також із категоріальним фічами не через хешування, а через OneHotEncoding;"
   ]
  },
  {
   "cell_type": "code",
   "execution_count": null,
   "id": "african-jacksonville",
   "metadata": {},
   "outputs": [],
   "source": []
  }
 ],
 "metadata": {
  "kernelspec": {
   "display_name": "smart",
   "language": "python",
   "name": "smart"
  },
  "language_info": {
   "codemirror_mode": {
    "name": "ipython",
    "version": 3
   },
   "file_extension": ".py",
   "mimetype": "text/x-python",
   "name": "python",
   "nbconvert_exporter": "python",
   "pygments_lexer": "ipython3",
   "version": "3.8.5"
  }
 },
 "nbformat": 4,
 "nbformat_minor": 5
}
