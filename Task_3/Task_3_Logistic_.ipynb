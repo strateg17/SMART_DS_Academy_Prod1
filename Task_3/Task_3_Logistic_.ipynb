{
 "cells": [
  {
   "cell_type": "markdown",
   "id": "happy-edinburgh",
   "metadata": {},
   "source": [
    "# **Task 3**"
   ]
  },
  {
   "cell_type": "code",
   "execution_count": 1,
   "id": "streaming-wagon",
   "metadata": {},
   "outputs": [],
   "source": [
    "import pandas as pd"
   ]
  },
  {
   "cell_type": "code",
   "execution_count": 2,
   "id": "pressed-halifax",
   "metadata": {},
   "outputs": [],
   "source": [
    "pd.set_option('display.max_columns', 500)\n",
    "pd.set_option('display.width', 1000)"
   ]
  },
  {
   "cell_type": "markdown",
   "id": "inner-bangladesh",
   "metadata": {},
   "source": [
    "## **Data importing and cleaning**"
   ]
  },
  {
   "cell_type": "code",
   "execution_count": 3,
   "id": "pharmaceutical-lebanon",
   "metadata": {},
   "outputs": [],
   "source": [
    "data_orders_payments = pd.read_csv('data_raw/order_payments.csv')\n",
    "data_orders = pd.read_csv('data_raw/orders.csv')\n",
    "data_customers = pd.read_csv('data_raw/customers.csv')\n",
    "data_sellers = pd.read_csv('data_raw/sellers (1).csv')\n",
    "data_order_items = pd.read_csv('data_raw/order_items.csv')\n",
    "data_product = pd.read_csv('data_raw/products.csv')\n",
    "data_geolocation = pd.read_csv('data_raw/geolocation.csv')"
   ]
  },
  {
   "cell_type": "code",
   "execution_count": 4,
   "id": "ordered-james",
   "metadata": {},
   "outputs": [
    {
     "data": {
      "text/html": [
       "<div>\n",
       "<style scoped>\n",
       "    .dataframe tbody tr th:only-of-type {\n",
       "        vertical-align: middle;\n",
       "    }\n",
       "\n",
       "    .dataframe tbody tr th {\n",
       "        vertical-align: top;\n",
       "    }\n",
       "\n",
       "    .dataframe thead th {\n",
       "        text-align: right;\n",
       "    }\n",
       "</style>\n",
       "<table border=\"1\" class=\"dataframe\">\n",
       "  <thead>\n",
       "    <tr style=\"text-align: right;\">\n",
       "      <th></th>\n",
       "      <th>order_id</th>\n",
       "      <th>customer_id</th>\n",
       "      <th>order_status</th>\n",
       "      <th>order_purchase_timestamp</th>\n",
       "      <th>order_approved_at</th>\n",
       "      <th>order_delivered_carrier_date</th>\n",
       "      <th>order_delivered_customer_date</th>\n",
       "      <th>order_estimated_delivery_date</th>\n",
       "    </tr>\n",
       "  </thead>\n",
       "  <tbody>\n",
       "    <tr>\n",
       "      <th>0</th>\n",
       "      <td>e481f51cbdc54678b7cc49136f2d6af7</td>\n",
       "      <td>9ef432eb6251297304e76186b10a928d</td>\n",
       "      <td>delivered</td>\n",
       "      <td>2017-10-02 10:56:33</td>\n",
       "      <td>2017-10-02 11:07:15</td>\n",
       "      <td>2017-10-04 19:55:00</td>\n",
       "      <td>2017-10-10 21:25:13</td>\n",
       "      <td>2017-10-18 00:00:00</td>\n",
       "    </tr>\n",
       "    <tr>\n",
       "      <th>1</th>\n",
       "      <td>53cdb2fc8bc7dce0b6741e2150273451</td>\n",
       "      <td>b0830fb4747a6c6d20dea0b8c802d7ef</td>\n",
       "      <td>delivered</td>\n",
       "      <td>2018-07-24 20:41:37</td>\n",
       "      <td>2018-07-26 03:24:27</td>\n",
       "      <td>2018-07-26 14:31:00</td>\n",
       "      <td>2018-08-07 15:27:45</td>\n",
       "      <td>2018-08-13 00:00:00</td>\n",
       "    </tr>\n",
       "  </tbody>\n",
       "</table>\n",
       "</div>"
      ],
      "text/plain": [
       "                           order_id                       customer_id order_status order_purchase_timestamp    order_approved_at order_delivered_carrier_date order_delivered_customer_date order_estimated_delivery_date\n",
       "0  e481f51cbdc54678b7cc49136f2d6af7  9ef432eb6251297304e76186b10a928d    delivered      2017-10-02 10:56:33  2017-10-02 11:07:15          2017-10-04 19:55:00           2017-10-10 21:25:13           2017-10-18 00:00:00\n",
       "1  53cdb2fc8bc7dce0b6741e2150273451  b0830fb4747a6c6d20dea0b8c802d7ef    delivered      2018-07-24 20:41:37  2018-07-26 03:24:27          2018-07-26 14:31:00           2018-08-07 15:27:45           2018-08-13 00:00:00"
      ]
     },
     "execution_count": 4,
     "metadata": {},
     "output_type": "execute_result"
    }
   ],
   "source": [
    "data_orders.head(2)"
   ]
  },
  {
   "cell_type": "code",
   "execution_count": 5,
   "id": "immune-stack",
   "metadata": {},
   "outputs": [
    {
     "data": {
      "text/plain": [
       "((99441, 5), (1000163, 5))"
      ]
     },
     "execution_count": 5,
     "metadata": {},
     "output_type": "execute_result"
    }
   ],
   "source": [
    "data_customers.shape, data_geolocation.shape"
   ]
  },
  {
   "cell_type": "code",
   "execution_count": 14,
   "id": "narrative-indication",
   "metadata": {},
   "outputs": [
    {
     "data": {
      "text/html": [
       "<div>\n",
       "<style scoped>\n",
       "    .dataframe tbody tr th:only-of-type {\n",
       "        vertical-align: middle;\n",
       "    }\n",
       "\n",
       "    .dataframe tbody tr th {\n",
       "        vertical-align: top;\n",
       "    }\n",
       "\n",
       "    .dataframe thead th {\n",
       "        text-align: right;\n",
       "    }\n",
       "</style>\n",
       "<table border=\"1\" class=\"dataframe\">\n",
       "  <thead>\n",
       "    <tr style=\"text-align: right;\">\n",
       "      <th></th>\n",
       "      <th>customer_id</th>\n",
       "      <th>customer_zip_code_prefix</th>\n",
       "      <th>customer_city</th>\n",
       "      <th>customer_state</th>\n",
       "      <th>customer_lat</th>\n",
       "      <th>customer_lng</th>\n",
       "    </tr>\n",
       "  </thead>\n",
       "  <tbody>\n",
       "    <tr>\n",
       "      <th>0</th>\n",
       "      <td>05b005e82f3f2dcc41b5504f00484e50</td>\n",
       "      <td>1037.0</td>\n",
       "      <td>sao paulo</td>\n",
       "      <td>SP</td>\n",
       "      <td>-23.545621</td>\n",
       "      <td>-46.639292</td>\n",
       "    </tr>\n",
       "    <tr>\n",
       "      <th>1</th>\n",
       "      <td>19ee522d0dd140702062bb89e4820e19</td>\n",
       "      <td>1037.0</td>\n",
       "      <td>sao paulo</td>\n",
       "      <td>SP</td>\n",
       "      <td>-23.545621</td>\n",
       "      <td>-46.639292</td>\n",
       "    </tr>\n",
       "  </tbody>\n",
       "</table>\n",
       "</div>"
      ],
      "text/plain": [
       "                        customer_id  customer_zip_code_prefix customer_city customer_state  customer_lat  customer_lng\n",
       "0  05b005e82f3f2dcc41b5504f00484e50                    1037.0     sao paulo             SP    -23.545621    -46.639292\n",
       "1  19ee522d0dd140702062bb89e4820e19                    1037.0     sao paulo             SP    -23.545621    -46.639292"
      ]
     },
     "execution_count": 14,
     "metadata": {},
     "output_type": "execute_result"
    }
   ],
   "source": [
    "data_merge_0 = pd.merge(data_customers, data_geolocation, how='right', \n",
    "                        left_on = 'customer_zip_code_prefix', right_on = 'geolocation_zip_code_prefix')\n",
    "\n",
    "data_merge_0.rename(columns={'geolocation_lat':'customer_lat', 'geolocation_lng': 'customer_lng'}, inplace=True)\n",
    "data_merge_0.drop(['geolocation_zip_code_prefix', 'customer_unique_id','geolocation_city','geolocation_state'], axis=1, inplace=True)\n",
    "data_merge_0.head(2)"
   ]
  },
  {
   "cell_type": "code",
   "execution_count": 15,
   "id": "minute-ancient",
   "metadata": {},
   "outputs": [
    {
     "data": {
      "text/plain": [
       "(15115319, 6)"
      ]
     },
     "execution_count": 15,
     "metadata": {},
     "output_type": "execute_result"
    }
   ],
   "source": [
    "data_merge_0.shape"
   ]
  },
  {
   "cell_type": "code",
   "execution_count": null,
   "id": "distinct-bottle",
   "metadata": {},
   "outputs": [],
   "source": [
    " # merge of data with orders and and customers\n",
    "data_merge_1 = pd.merge(data_orders, data_merge_0, on='customer_id')\n",
    "data_merge_1.drop(['customer_zip_code_prefix'], axis=1, inplace=True)\n",
    "data_merge_1.head(2)"
   ]
  },
  {
   "cell_type": "code",
   "execution_count": null,
   "id": "voluntary-cyprus",
   "metadata": {},
   "outputs": [],
   "source": [
    "data_merge_1_5 = pd.merge(data_sellers, data_geolocation[['geolocation_zip_code_prefix','geolocation_lat', 'geolocation_lng']], left_on = 'seller_zip_code_prefix', right_on='geolocation_zip_code_prefix')\n",
    "data_merge_1_5.rename(columns={'geolocation_lat':'seller_lat', 'geolocation_lng': 'seller_lng'}, inplace=True)\n",
    "data_merge_1_5.drop(['geolocation_zip_code_prefix','seller_zip_code_prefix'], axis=1, inplace=True)\n",
    "data_merge_1_5.head(2)"
   ]
  },
  {
   "cell_type": "code",
   "execution_count": null,
   "id": "running-louisville",
   "metadata": {},
   "outputs": [],
   "source": [
    "data_merge_2 = pd.merge(data_order_items, data_merge_1_5, on='seller_id')\n",
    "data_merge_2.head(2)"
   ]
  },
  {
   "cell_type": "code",
   "execution_count": null,
   "id": "affected-brooklyn",
   "metadata": {},
   "outputs": [],
   "source": [
    "# Count of items in order\n",
    "data_merge_2.order_item_id.value_counts()"
   ]
  },
  {
   "cell_type": "code",
   "execution_count": null,
   "id": "fatty-pitch",
   "metadata": {},
   "outputs": [],
   "source": [
    "data_merge_3 = pd.merge(data_merge_2, data_product, on='product_id')\n",
    "data_merge_3.head(2)"
   ]
  },
  {
   "cell_type": "code",
   "execution_count": null,
   "id": "promotional-commodity",
   "metadata": {},
   "outputs": [],
   "source": [
    "del data_merge_0, data_merge_1_5, data_merge_2"
   ]
  },
  {
   "cell_type": "code",
   "execution_count": null,
   "id": "turned-instruction",
   "metadata": {},
   "outputs": [],
   "source": [
    "data_merge_1.shape "
   ]
  },
  {
   "cell_type": "code",
   "execution_count": null,
   "id": "caroline-stanley",
   "metadata": {},
   "outputs": [],
   "source": [
    "data_merge_3.shape "
   ]
  },
  {
   "cell_type": "code",
   "execution_count": null,
   "id": "cosmetic-great",
   "metadata": {},
   "outputs": [],
   "source": [
    "data_merge_4 = pd.merge(data_merge_1, data_merge_3, on='order_id')\n",
    "data_merge_4.head(2)"
   ]
  },
  {
   "cell_type": "code",
   "execution_count": null,
   "id": "operational-external",
   "metadata": {},
   "outputs": [],
   "source": [
    "data_merge_4.shape"
   ]
  },
  {
   "cell_type": "code",
   "execution_count": null,
   "id": "demographic-deadline",
   "metadata": {},
   "outputs": [],
   "source": [
    "data_merge_4.isna().sum()"
   ]
  },
  {
   "cell_type": "markdown",
   "id": "whole-shopper",
   "metadata": {},
   "source": [
    "Ми отримали фінальну робочу таблицб з якою вже можемо працювати."
   ]
  },
  {
   "cell_type": "markdown",
   "id": "genetic-canal",
   "metadata": {},
   "source": [
    "## **Preprocessing**"
   ]
  },
  {
   "cell_type": "markdown",
   "id": "nutritional-prisoner",
   "metadata": {},
   "source": [
    "### **Order approving**"
   ]
  },
  {
   "cell_type": "code",
   "execution_count": null,
   "id": "iraqi-buddy",
   "metadata": {},
   "outputs": [],
   "source": [
    "data_merge_4[data_merge_4.order_approved_at.isna()].head(2)"
   ]
  },
  {
   "cell_type": "markdown",
   "id": "fresh-arthur",
   "metadata": {},
   "source": [
    "Could be droped"
   ]
  },
  {
   "cell_type": "code",
   "execution_count": null,
   "id": "wrapped-copying",
   "metadata": {},
   "outputs": [],
   "source": []
  }
 ],
 "metadata": {
  "kernelspec": {
   "display_name": "smart",
   "language": "python",
   "name": "smart"
  },
  "language_info": {
   "codemirror_mode": {
    "name": "ipython",
    "version": 3
   },
   "file_extension": ".py",
   "mimetype": "text/x-python",
   "name": "python",
   "nbconvert_exporter": "python",
   "pygments_lexer": "ipython3",
   "version": "3.8.5"
  }
 },
 "nbformat": 4,
 "nbformat_minor": 5
}
