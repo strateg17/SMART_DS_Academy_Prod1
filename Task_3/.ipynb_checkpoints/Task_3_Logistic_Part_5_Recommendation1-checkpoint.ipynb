{
 "cells": [
  {
   "cell_type": "markdown",
   "id": "smoking-intranet",
   "metadata": {},
   "source": [
    "# **Task 3: Recommendation system**"
   ]
  },
  {
   "cell_type": "code",
   "execution_count": 13,
   "id": "passing-discretion",
   "metadata": {},
   "outputs": [],
   "source": [
    "# Data processing\n",
    "import pandas as pd\n",
    "import numpy as np"
   ]
  },
  {
   "cell_type": "code",
   "execution_count": 14,
   "id": "heard-citizen",
   "metadata": {},
   "outputs": [],
   "source": [
    "pd.set_option('display.max_columns', 500)\n",
    "pd.set_option('display.width', 1000)\n",
    "pd.options.mode.chained_assignment = None"
   ]
  },
  {
   "cell_type": "markdown",
   "id": "ordinary-cleaning",
   "metadata": {},
   "source": [
    "## **Data importing and cleaning**"
   ]
  },
  {
   "cell_type": "code",
   "execution_count": 11,
   "id": "charitable-audio",
   "metadata": {},
   "outputs": [],
   "source": [
    "data_merged = pd.read_csv('data_raw/data_merged.csv', \n",
    "                          index_col=0,\n",
    "                          dtype = { 'order_id': str,\n",
    "                                    'customer_id':str,\n",
    "                                    'seller_id': str,\n",
    "                                    'product_id':str,\n",
    "                                    'product_category_name':str,\n",
    "                                    'order_item_id': int, \n",
    "                                    'price': float, \n",
    "                                    'freight_value': float, \n",
    "                                    'product_name_lenght': int,\n",
    "                                    'product_description_lenght': int,\n",
    "                                    'product_photos_qty' : float,\n",
    "                                    'product_weight_g':float, \n",
    "                                    'product_volume': float,\n",
    "                                    'customer_city':str,\n",
    "                                    'customer_state':str,\n",
    "                                    'customer_lat': float,\n",
    "                                    'customer_lng':float,\n",
    "                                    'seller_city':str,\n",
    "                                    'seller_state':str,\n",
    "                                    'seller_lat': float,\n",
    "                                    'seller_lng':float},\n",
    "                        parse_dates=['order_purchase_timestamp',\n",
    "                                     'order_approved_at',\n",
    "                                     'shipping_limit_date',\n",
    "                                     'order_delivered_carrier_date',\n",
    "                                     'order_delivered_customer_date',\n",
    "                                     'order_estimated_delivery_date'])"
   ]
  },
  {
   "cell_type": "code",
   "execution_count": 12,
   "id": "concerned-three",
   "metadata": {},
   "outputs": [
    {
     "name": "stdout",
     "output_type": "stream",
     "text": [
      "<class 'pandas.core.frame.DataFrame'>\n",
      "Int64Index: 108106 entries, 0 to 109660\n",
      "Data columns (total 29 columns):\n",
      " #   Column                         Non-Null Count   Dtype         \n",
      "---  ------                         --------------   -----         \n",
      " 0   order_id                       108106 non-null  object        \n",
      " 1   customer_id                    108106 non-null  object        \n",
      " 2   order_purchase_timestamp       108106 non-null  datetime64[ns]\n",
      " 3   order_approved_at              108106 non-null  datetime64[ns]\n",
      " 4   order_delivered_carrier_date   108106 non-null  datetime64[ns]\n",
      " 5   order_delivered_customer_date  108106 non-null  datetime64[ns]\n",
      " 6   order_estimated_delivery_date  108106 non-null  datetime64[ns]\n",
      " 7   customer_city                  108106 non-null  object        \n",
      " 8   customer_state                 108106 non-null  object        \n",
      " 9   customer_lat                   108106 non-null  float64       \n",
      " 10  customer_lng                   108106 non-null  float64       \n",
      " 11  order_item_id                  108106 non-null  int64         \n",
      " 12  product_id                     108106 non-null  object        \n",
      " 13  seller_id                      108106 non-null  object        \n",
      " 14  shipping_limit_date            108106 non-null  datetime64[ns]\n",
      " 15  price                          108106 non-null  float64       \n",
      " 16  freight_value                  108106 non-null  float64       \n",
      " 17  seller_city                    108106 non-null  object        \n",
      " 18  seller_state                   108106 non-null  object        \n",
      " 19  seller_lat                     108106 non-null  float64       \n",
      " 20  seller_lng                     108106 non-null  float64       \n",
      " 21  product_category_name          108106 non-null  object        \n",
      " 22  product_name_lenght            108106 non-null  int64         \n",
      " 23  product_description_lenght     108106 non-null  int64         \n",
      " 24  product_photos_qty             108106 non-null  float64       \n",
      " 25  product_weight_g               108106 non-null  float64       \n",
      " 26  product_length_cm              108106 non-null  float64       \n",
      " 27  product_height_cm              108106 non-null  float64       \n",
      " 28  product_width_cm               108106 non-null  float64       \n",
      "dtypes: datetime64[ns](6), float64(11), int64(3), object(9)\n",
      "memory usage: 24.7+ MB\n"
     ]
    }
   ],
   "source": [
    "data_merged.info()"
   ]
  },
  {
   "cell_type": "code",
   "execution_count": 44,
   "id": "gothic-oxygen",
   "metadata": {},
   "outputs": [
    {
     "data": {
      "text/html": [
       "<div>\n",
       "<style scoped>\n",
       "    .dataframe tbody tr th:only-of-type {\n",
       "        vertical-align: middle;\n",
       "    }\n",
       "\n",
       "    .dataframe tbody tr th {\n",
       "        vertical-align: top;\n",
       "    }\n",
       "\n",
       "    .dataframe thead th {\n",
       "        text-align: right;\n",
       "    }\n",
       "</style>\n",
       "<table border=\"1\" class=\"dataframe\">\n",
       "  <thead>\n",
       "    <tr style=\"text-align: right;\">\n",
       "      <th></th>\n",
       "      <th>product_id</th>\n",
       "      <th>total_sale</th>\n",
       "    </tr>\n",
       "  </thead>\n",
       "  <tbody>\n",
       "    <tr>\n",
       "      <th>21175</th>\n",
       "      <td>aca2eb7d00ea1a7b8ebd4e68314663af</td>\n",
       "      <td>518</td>\n",
       "    </tr>\n",
       "    <tr>\n",
       "      <th>8249</th>\n",
       "      <td>422879e10f46682990de24d770e7f83d</td>\n",
       "      <td>483</td>\n",
       "    </tr>\n",
       "    <tr>\n",
       "      <th>18889</th>\n",
       "      <td>99a4788cb24856965c36a24e339b6058</td>\n",
       "      <td>476</td>\n",
       "    </tr>\n",
       "    <tr>\n",
       "      <th>7049</th>\n",
       "      <td>389d119b48cf3043d311335e499d9c6b</td>\n",
       "      <td>389</td>\n",
       "    </tr>\n",
       "    <tr>\n",
       "      <th>6774</th>\n",
       "      <td>368c6c730842d78016ad823897a372db</td>\n",
       "      <td>385</td>\n",
       "    </tr>\n",
       "  </tbody>\n",
       "</table>\n",
       "</div>"
      ],
      "text/plain": [
       "                             product_id  total_sale\n",
       "21175  aca2eb7d00ea1a7b8ebd4e68314663af         518\n",
       "8249   422879e10f46682990de24d770e7f83d         483\n",
       "18889  99a4788cb24856965c36a24e339b6058         476\n",
       "7049   389d119b48cf3043d311335e499d9c6b         389\n",
       "6774   368c6c730842d78016ad823897a372db         385"
      ]
     },
     "execution_count": 44,
     "metadata": {},
     "output_type": "execute_result"
    }
   ],
   "source": [
    "data_product = data_merged.groupby('product_id').agg({'product_id':'count'}).rename(columns={'product_id':'total_sale'}).reset_index().sort_values(by=['total_sale'], ascending=False)\n",
    "data_product.head()"
   ]
  },
  {
   "cell_type": "code",
   "execution_count": 62,
   "id": "becoming-grade",
   "metadata": {},
   "outputs": [
    {
     "data": {
      "text/html": [
       "<div>\n",
       "<style scoped>\n",
       "    .dataframe tbody tr th:only-of-type {\n",
       "        vertical-align: middle;\n",
       "    }\n",
       "\n",
       "    .dataframe tbody tr th {\n",
       "        vertical-align: top;\n",
       "    }\n",
       "\n",
       "    .dataframe thead th {\n",
       "        text-align: right;\n",
       "    }\n",
       "</style>\n",
       "<table border=\"1\" class=\"dataframe\">\n",
       "  <thead>\n",
       "    <tr style=\"text-align: right;\">\n",
       "      <th></th>\n",
       "      <th>total_sale</th>\n",
       "      <th>unique_customers</th>\n",
       "    </tr>\n",
       "    <tr>\n",
       "      <th>product_id</th>\n",
       "      <th></th>\n",
       "      <th></th>\n",
       "    </tr>\n",
       "  </thead>\n",
       "  <tbody>\n",
       "    <tr>\n",
       "      <th>aca2eb7d00ea1a7b8ebd4e68314663af</th>\n",
       "      <td>518</td>\n",
       "      <td>0</td>\n",
       "    </tr>\n",
       "    <tr>\n",
       "      <th>422879e10f46682990de24d770e7f83d</th>\n",
       "      <td>483</td>\n",
       "      <td>0</td>\n",
       "    </tr>\n",
       "  </tbody>\n",
       "</table>\n",
       "</div>"
      ],
      "text/plain": [
       "                                  total_sale  unique_customers\n",
       "product_id                                                    \n",
       "aca2eb7d00ea1a7b8ebd4e68314663af         518                 0\n",
       "422879e10f46682990de24d770e7f83d         483                 0"
      ]
     },
     "execution_count": 62,
     "metadata": {},
     "output_type": "execute_result"
    }
   ],
   "source": [
    "data_product.set_index('product_id', drop=True, inplace=True)\n",
    "data_product.head(2)"
   ]
  },
  {
   "cell_type": "code",
   "execution_count": 45,
   "id": "statistical-marsh",
   "metadata": {},
   "outputs": [],
   "source": [
    "data_product['unique_customers'] = 0"
   ]
  },
  {
   "cell_type": "code",
   "execution_count": 63,
   "id": "working-medium",
   "metadata": {},
   "outputs": [],
   "source": [
    "# Calculate the unique customers for each product\n",
    "for prod in data_product.index:\n",
    "    data_product.loc[prod, ['unique_customers']] = data_merged[data_merged['product_id'] == prod].customer_id.unique().shape[0]"
   ]
  },
  {
   "cell_type": "code",
   "execution_count": 65,
   "id": "institutional-express",
   "metadata": {},
   "outputs": [
    {
     "data": {
      "text/html": [
       "<div>\n",
       "<style scoped>\n",
       "    .dataframe tbody tr th:only-of-type {\n",
       "        vertical-align: middle;\n",
       "    }\n",
       "\n",
       "    .dataframe tbody tr th {\n",
       "        vertical-align: top;\n",
       "    }\n",
       "\n",
       "    .dataframe thead th {\n",
       "        text-align: right;\n",
       "    }\n",
       "</style>\n",
       "<table border=\"1\" class=\"dataframe\">\n",
       "  <thead>\n",
       "    <tr style=\"text-align: right;\">\n",
       "      <th></th>\n",
       "      <th>total_sale</th>\n",
       "      <th>unique_customers</th>\n",
       "    </tr>\n",
       "    <tr>\n",
       "      <th>product_id</th>\n",
       "      <th></th>\n",
       "      <th></th>\n",
       "    </tr>\n",
       "  </thead>\n",
       "  <tbody>\n",
       "    <tr>\n",
       "      <th>aca2eb7d00ea1a7b8ebd4e68314663af</th>\n",
       "      <td>518</td>\n",
       "      <td>423</td>\n",
       "    </tr>\n",
       "    <tr>\n",
       "      <th>422879e10f46682990de24d770e7f83d</th>\n",
       "      <td>483</td>\n",
       "      <td>351</td>\n",
       "    </tr>\n",
       "  </tbody>\n",
       "</table>\n",
       "</div>"
      ],
      "text/plain": [
       "                                  total_sale  unique_customers\n",
       "product_id                                                    \n",
       "aca2eb7d00ea1a7b8ebd4e68314663af         518               423\n",
       "422879e10f46682990de24d770e7f83d         483               351"
      ]
     },
     "execution_count": 65,
     "metadata": {},
     "output_type": "execute_result"
    }
   ],
   "source": [
    "# Check the result\n",
    "data_product.head(2)"
   ]
  },
  {
   "cell_type": "code",
   "execution_count": 66,
   "id": "still-nomination",
   "metadata": {},
   "outputs": [],
   "source": [
    "data_product.to_csv('data_raw/data_products.csv')"
   ]
  },
  {
   "cell_type": "code",
   "execution_count": 68,
   "id": "valid-happening",
   "metadata": {},
   "outputs": [],
   "source": [
    "# Create a dictionary with orders as keys and product_id as values.\n",
    "dict_order_item = {}"
   ]
  },
  {
   "cell_type": "code",
   "execution_count": 94,
   "id": "complex-shannon",
   "metadata": {},
   "outputs": [],
   "source": [
    "for order in data_merged.order_id.unique():\n",
    "    dict_order_item[order] = data_merged[data_merged['order_id'] == order].product_id.unique().tolist()"
   ]
  },
  {
   "cell_type": "code",
   "execution_count": 97,
   "id": "isolated-johnson",
   "metadata": {},
   "outputs": [],
   "source": [
    "def save_dict_to_file(dic):\n",
    "    f = open('dict.txt','w')\n",
    "    f.write(str(dic))\n",
    "    f.close()"
   ]
  },
  {
   "cell_type": "code",
   "execution_count": 1,
   "id": "cardiac-broadcasting",
   "metadata": {},
   "outputs": [],
   "source": [
    "def load_dict_from_file():\n",
    "    f = open('dict.txt','r')\n",
    "    data=f.read()\n",
    "    f.close()\n",
    "    return eval(data)"
   ]
  },
  {
   "cell_type": "code",
   "execution_count": 6,
   "id": "senior-seller",
   "metadata": {},
   "outputs": [],
   "source": [
    "dict_temp = load_dict_from_file()"
   ]
  },
  {
   "cell_type": "code",
   "execution_count": 99,
   "id": "spiritual-adult",
   "metadata": {},
   "outputs": [],
   "source": [
    "save_dict_to_file(dict_order_item)"
   ]
  },
  {
   "cell_type": "code",
   "execution_count": 100,
   "id": "difficult-bonus",
   "metadata": {},
   "outputs": [],
   "source": [
    "import json"
   ]
  },
  {
   "cell_type": "code",
   "execution_count": 101,
   "id": "spatial-significance",
   "metadata": {},
   "outputs": [],
   "source": [
    "# Serialize data into file:\n",
    "json.dump( dict_order_item, open( \"file_name.json\", 'w' ) )"
   ]
  },
  {
   "cell_type": "code",
   "execution_count": null,
   "id": "backed-maria",
   "metadata": {},
   "outputs": [],
   "source": [
    "# Read data from file:\n",
    "data = json.load( open( \"file_name.json\" ) )"
   ]
  },
  {
   "cell_type": "code",
   "execution_count": 9,
   "id": "continued-copying",
   "metadata": {},
   "outputs": [
    {
     "data": {
      "text/plain": [
       "dict"
      ]
     },
     "execution_count": 9,
     "metadata": {},
     "output_type": "execute_result"
    }
   ],
   "source": [
    "dict_temp"
   ]
  }
 ],
 "metadata": {
  "kernelspec": {
   "display_name": "smart",
   "language": "python",
   "name": "smart"
  },
  "language_info": {
   "codemirror_mode": {
    "name": "ipython",
    "version": 3
   },
   "file_extension": ".py",
   "mimetype": "text/x-python",
   "name": "python",
   "nbconvert_exporter": "python",
   "pygments_lexer": "ipython3",
   "version": "3.8.5"
  }
 },
 "nbformat": 4,
 "nbformat_minor": 5
}
