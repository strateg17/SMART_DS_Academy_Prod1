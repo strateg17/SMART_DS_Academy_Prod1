{
 "cells": [
  {
   "cell_type": "markdown",
   "id": "prescribed-gabriel",
   "metadata": {},
   "source": [
    "# **Task 3: EDA for sellers and customers**"
   ]
  },
  {
   "cell_type": "code",
   "execution_count": 39,
   "id": "breeding-activity",
   "metadata": {},
   "outputs": [],
   "source": [
    "# Data processing\n",
    "import pandas as pd\n",
    "import numpy as np"
   ]
  },
  {
   "cell_type": "code",
   "execution_count": 40,
   "id": "moral-career",
   "metadata": {},
   "outputs": [],
   "source": [
    "# Data visualization\n",
    "import matplotlib.pyplot as plt\n",
    "import seaborn as sns\n",
    "import plotly.express as px"
   ]
  },
  {
   "cell_type": "code",
   "execution_count": 41,
   "id": "illegal-wednesday",
   "metadata": {},
   "outputs": [],
   "source": [
    "pd.set_option('display.max_columns', 500)\n",
    "pd.set_option('display.width', 1000)\n",
    "pd.options.mode.chained_assignment = None"
   ]
  },
  {
   "cell_type": "code",
   "execution_count": 42,
   "id": "active-violation",
   "metadata": {},
   "outputs": [],
   "source": [
    "# Increase default figure and font sizes for easier viewing.\n",
    "plt.style.use('seaborn-colorblind')\n",
    "sns.set_style('darkgrid')\n",
    "%matplotlib inline\n",
    "\n",
    "plt.rcParams['figure.figsize'] = (12, 6)\n",
    "plt.rcParams['font.size'] = 12"
   ]
  },
  {
   "cell_type": "markdown",
   "id": "clean-typing",
   "metadata": {},
   "source": [
    "## **Data importing and cleaning**"
   ]
  },
  {
   "cell_type": "code",
   "execution_count": 17,
   "id": "descending-establishment",
   "metadata": {},
   "outputs": [],
   "source": [
    "# This time we are going to import dataframe in an appropriate data types format\n",
    "data_all_agg = pd.read_csv('data_raw/data_all_agg.csv', \n",
    "                           index_col=0,\n",
    "                           dtype = {'order_id': str, \n",
    "                                    'seller_id': str, \n",
    "                                    'order_item_id': int, \n",
    "                                    'price': float, \n",
    "                                    'freight_value': float, \n",
    "                                    'product_weight_g':float, \n",
    "                                    'product_volume': float,\n",
    "                                    'customer_city':str,\n",
    "                                    'customer_state':str,\n",
    "                                    'customer_lat': float,\n",
    "                                    'customer_lng':float,\n",
    "                                    'seller_city':str,\n",
    "                                    'seller_state':str,\n",
    "                                    'seller_lat': float,\n",
    "                                    'seller_lng':float,\n",
    "                                    'distance_km':float,\n",
    "                                    'delivery_time':float,\n",
    "                                    'delivery_speed':float},\n",
    "                           parse_dates=['order_purchase_timestamp',\n",
    "                                         'order_approved_at',\n",
    "                                         'shipping_limit_date',\n",
    "                                         'order_delivered_carrier_date',\n",
    "                                         'order_delivered_customer_date',\n",
    "                                         'order_estimated_delivery_date'])"
   ]
  },
  {
   "cell_type": "code",
   "execution_count": 18,
   "id": "secondary-washer",
   "metadata": {},
   "outputs": [
    {
     "name": "stdout",
     "output_type": "stream",
     "text": [
      "<class 'pandas.core.frame.DataFrame'>\n",
      "Index: 94653 entries, 00010242fe8c5a6d1ba2dd792cb16214 to fffe41c64501cc87c801fd61db3f6244\n",
      "Data columns (total 24 columns):\n",
      " #   Column                         Non-Null Count  Dtype         \n",
      "---  ------                         --------------  -----         \n",
      " 0   seller_id                      94653 non-null  object        \n",
      " 1   order_item_id                  94653 non-null  int32         \n",
      " 2   price                          94653 non-null  float64       \n",
      " 3   freight_value                  94653 non-null  float64       \n",
      " 4   product_weight_g               94653 non-null  float64       \n",
      " 5   product_volume                 94653 non-null  float64       \n",
      " 6   customer_city                  94653 non-null  object        \n",
      " 7   customer_state                 94653 non-null  object        \n",
      " 8   customer_lat                   94653 non-null  float64       \n",
      " 9   customer_lng                   94653 non-null  float64       \n",
      " 10  seller_city                    94653 non-null  object        \n",
      " 11  seller_state                   94653 non-null  object        \n",
      " 12  seller_lat                     94653 non-null  float64       \n",
      " 13  seller_lng                     94653 non-null  float64       \n",
      " 14  order_purchase_timestamp       94653 non-null  datetime64[ns]\n",
      " 15  order_approved_at              94653 non-null  datetime64[ns]\n",
      " 16  shipping_limit_date            94653 non-null  datetime64[ns]\n",
      " 17  order_delivered_carrier_date   94653 non-null  datetime64[ns]\n",
      " 18  order_delivered_customer_date  94653 non-null  datetime64[ns]\n",
      " 19  order_estimated_delivery_date  94653 non-null  datetime64[ns]\n",
      " 20  distance_km                    94653 non-null  float64       \n",
      " 21  delivery_time_hours            94653 non-null  float64       \n",
      " 22  delivery_time_days             94653 non-null  float64       \n",
      " 23  delivery_speed_km_per_hour     94653 non-null  float64       \n",
      "dtypes: datetime64[ns](6), float64(12), int32(1), object(5)\n",
      "memory usage: 17.7+ MB\n"
     ]
    }
   ],
   "source": [
    "# Check dtypes\n",
    "data_all_agg.info()"
   ]
  },
  {
   "cell_type": "code",
   "execution_count": 19,
   "id": "similar-capture",
   "metadata": {},
   "outputs": [
    {
     "data": {
      "text/html": [
       "<div>\n",
       "<style scoped>\n",
       "    .dataframe tbody tr th:only-of-type {\n",
       "        vertical-align: middle;\n",
       "    }\n",
       "\n",
       "    .dataframe tbody tr th {\n",
       "        vertical-align: top;\n",
       "    }\n",
       "\n",
       "    .dataframe thead th {\n",
       "        text-align: right;\n",
       "    }\n",
       "</style>\n",
       "<table border=\"1\" class=\"dataframe\">\n",
       "  <thead>\n",
       "    <tr style=\"text-align: right;\">\n",
       "      <th></th>\n",
       "      <th>seller_id</th>\n",
       "      <th>order_item_id</th>\n",
       "      <th>price</th>\n",
       "      <th>freight_value</th>\n",
       "      <th>product_weight_g</th>\n",
       "      <th>product_volume</th>\n",
       "      <th>customer_city</th>\n",
       "      <th>customer_state</th>\n",
       "      <th>customer_lat</th>\n",
       "      <th>customer_lng</th>\n",
       "      <th>seller_city</th>\n",
       "      <th>seller_state</th>\n",
       "      <th>seller_lat</th>\n",
       "      <th>seller_lng</th>\n",
       "      <th>order_purchase_timestamp</th>\n",
       "      <th>order_approved_at</th>\n",
       "      <th>shipping_limit_date</th>\n",
       "      <th>order_delivered_carrier_date</th>\n",
       "      <th>order_delivered_customer_date</th>\n",
       "      <th>order_estimated_delivery_date</th>\n",
       "      <th>distance_km</th>\n",
       "      <th>delivery_time_hours</th>\n",
       "      <th>delivery_time_days</th>\n",
       "      <th>delivery_speed_km_per_hour</th>\n",
       "    </tr>\n",
       "    <tr>\n",
       "      <th>order_id</th>\n",
       "      <th></th>\n",
       "      <th></th>\n",
       "      <th></th>\n",
       "      <th></th>\n",
       "      <th></th>\n",
       "      <th></th>\n",
       "      <th></th>\n",
       "      <th></th>\n",
       "      <th></th>\n",
       "      <th></th>\n",
       "      <th></th>\n",
       "      <th></th>\n",
       "      <th></th>\n",
       "      <th></th>\n",
       "      <th></th>\n",
       "      <th></th>\n",
       "      <th></th>\n",
       "      <th></th>\n",
       "      <th></th>\n",
       "      <th></th>\n",
       "      <th></th>\n",
       "      <th></th>\n",
       "      <th></th>\n",
       "      <th></th>\n",
       "    </tr>\n",
       "  </thead>\n",
       "  <tbody>\n",
       "    <tr>\n",
       "      <th>5f9d46795c3126674e52becb3a1a517f</th>\n",
       "      <td>f664f98bfda2eaf266a23ff144e7a872</td>\n",
       "      <td>2</td>\n",
       "      <td>119.0</td>\n",
       "      <td>0.03</td>\n",
       "      <td>1600.0</td>\n",
       "      <td>27200.0</td>\n",
       "      <td>mogi das cruzes</td>\n",
       "      <td>SP</td>\n",
       "      <td>-23.528928</td>\n",
       "      <td>-46.171651</td>\n",
       "      <td>sao paulo</td>\n",
       "      <td>SP</td>\n",
       "      <td>-23.572939</td>\n",
       "      <td>-46.651115</td>\n",
       "      <td>2017-07-18 11:48:20</td>\n",
       "      <td>2017-07-18 12:03:29</td>\n",
       "      <td>2017-07-24 12:03:29</td>\n",
       "      <td>2017-07-20 23:03:42</td>\n",
       "      <td>2017-07-20 18:52:41</td>\n",
       "      <td>2017-07-31</td>\n",
       "      <td>49.12</td>\n",
       "      <td>55.0725</td>\n",
       "      <td>2.294688</td>\n",
       "      <td>0.891915</td>\n",
       "    </tr>\n",
       "  </tbody>\n",
       "</table>\n",
       "</div>"
      ],
      "text/plain": [
       "                                                         seller_id  order_item_id  price  freight_value  product_weight_g  product_volume    customer_city customer_state  customer_lat  customer_lng seller_city seller_state  seller_lat  seller_lng order_purchase_timestamp   order_approved_at shipping_limit_date order_delivered_carrier_date order_delivered_customer_date order_estimated_delivery_date  distance_km  delivery_time_hours  delivery_time_days  delivery_speed_km_per_hour\n",
       "order_id                                                                                                                                                                                                                                                                                                                                                                                                                                                                                          \n",
       "5f9d46795c3126674e52becb3a1a517f  f664f98bfda2eaf266a23ff144e7a872              2  119.0           0.03            1600.0         27200.0  mogi das cruzes             SP    -23.528928    -46.171651   sao paulo           SP  -23.572939  -46.651115      2017-07-18 11:48:20 2017-07-18 12:03:29 2017-07-24 12:03:29          2017-07-20 23:03:42           2017-07-20 18:52:41                    2017-07-31        49.12              55.0725            2.294688                    0.891915"
      ]
     },
     "execution_count": 19,
     "metadata": {},
     "output_type": "execute_result"
    }
   ],
   "source": [
    "data_all_agg[data_all_agg.seller_id == \"f664f98bfda2eaf266a23ff144e7a872\"]"
   ]
  },
  {
   "cell_type": "markdown",
   "id": "white-petersburg",
   "metadata": {},
   "source": [
    "## **Sellers delivery analysis**"
   ]
  },
  {
   "cell_type": "code",
   "execution_count": 21,
   "id": "injured-preserve",
   "metadata": {},
   "outputs": [],
   "source": [
    "data_seller_del_sp.to_csv('data_raw/data_sellers_del_sp.csv')"
   ]
  },
  {
   "cell_type": "code",
   "execution_count": 20,
   "id": "recognized-performer",
   "metadata": {},
   "outputs": [
    {
     "data": {
      "text/html": [
       "<div>\n",
       "<style scoped>\n",
       "    .dataframe tbody tr th:only-of-type {\n",
       "        vertical-align: middle;\n",
       "    }\n",
       "\n",
       "    .dataframe tbody tr th {\n",
       "        vertical-align: top;\n",
       "    }\n",
       "\n",
       "    .dataframe thead th {\n",
       "        text-align: right;\n",
       "    }\n",
       "</style>\n",
       "<table border=\"1\" class=\"dataframe\">\n",
       "  <thead>\n",
       "    <tr style=\"text-align: right;\">\n",
       "      <th></th>\n",
       "      <th>seller_id</th>\n",
       "      <th>delivery_speed_km_per_hour</th>\n",
       "    </tr>\n",
       "  </thead>\n",
       "  <tbody>\n",
       "    <tr>\n",
       "      <th>0</th>\n",
       "      <td>fa5fdc4e4bb6bd1009ad0e4ac4096562</td>\n",
       "      <td>13.722023</td>\n",
       "    </tr>\n",
       "    <tr>\n",
       "      <th>1</th>\n",
       "      <td>28872dc528e978a639754bc8c2ce5a4c</td>\n",
       "      <td>12.941696</td>\n",
       "    </tr>\n",
       "    <tr>\n",
       "      <th>2</th>\n",
       "      <td>eb9267cccc90f1b49c8d2f9887c7dd97</td>\n",
       "      <td>11.345783</td>\n",
       "    </tr>\n",
       "    <tr>\n",
       "      <th>3</th>\n",
       "      <td>e73bf2cea7fe4b0b4d287a7568ed1099</td>\n",
       "      <td>10.958579</td>\n",
       "    </tr>\n",
       "    <tr>\n",
       "      <th>4</th>\n",
       "      <td>17998cf586426bf0f2c3726cb0a4b211</td>\n",
       "      <td>10.715573</td>\n",
       "    </tr>\n",
       "    <tr>\n",
       "      <th>...</th>\n",
       "      <td>...</td>\n",
       "      <td>...</td>\n",
       "    </tr>\n",
       "    <tr>\n",
       "      <th>2891</th>\n",
       "      <td>9e94fa26a70ede4d26226e918e8706a2</td>\n",
       "      <td>0.025542</td>\n",
       "    </tr>\n",
       "    <tr>\n",
       "      <th>2892</th>\n",
       "      <td>2235cf78d3e2073a88146a9cb60f0dd0</td>\n",
       "      <td>0.023977</td>\n",
       "    </tr>\n",
       "    <tr>\n",
       "      <th>2893</th>\n",
       "      <td>3442033154be05bac582e173ef54fd12</td>\n",
       "      <td>0.021439</td>\n",
       "    </tr>\n",
       "    <tr>\n",
       "      <th>2894</th>\n",
       "      <td>baf15155e37ef5492731459bdc05be8a</td>\n",
       "      <td>0.004929</td>\n",
       "    </tr>\n",
       "    <tr>\n",
       "      <th>2895</th>\n",
       "      <td>77128dec4bec4878c37ab7d6169d6f26</td>\n",
       "      <td>0.004690</td>\n",
       "    </tr>\n",
       "  </tbody>\n",
       "</table>\n",
       "<p>2896 rows × 2 columns</p>\n",
       "</div>"
      ],
      "text/plain": [
       "                             seller_id  delivery_speed_km_per_hour\n",
       "0     fa5fdc4e4bb6bd1009ad0e4ac4096562                   13.722023\n",
       "1     28872dc528e978a639754bc8c2ce5a4c                   12.941696\n",
       "2     eb9267cccc90f1b49c8d2f9887c7dd97                   11.345783\n",
       "3     e73bf2cea7fe4b0b4d287a7568ed1099                   10.958579\n",
       "4     17998cf586426bf0f2c3726cb0a4b211                   10.715573\n",
       "...                                ...                         ...\n",
       "2891  9e94fa26a70ede4d26226e918e8706a2                    0.025542\n",
       "2892  2235cf78d3e2073a88146a9cb60f0dd0                    0.023977\n",
       "2893  3442033154be05bac582e173ef54fd12                    0.021439\n",
       "2894  baf15155e37ef5492731459bdc05be8a                    0.004929\n",
       "2895  77128dec4bec4878c37ab7d6169d6f26                    0.004690\n",
       "\n",
       "[2896 rows x 2 columns]"
      ]
     },
     "execution_count": 20,
     "metadata": {},
     "output_type": "execute_result"
    }
   ],
   "source": [
    "# create frame with top \n",
    "data_seller_del_sp = data_all_agg.groupby('seller_id').agg({'delivery_speed_km_per_hour':'mean'}).sort_values(by=['delivery_speed_km_per_hour'], ascending=False).reset_index()\n",
    "data_seller_del_sp"
   ]
  },
  {
   "cell_type": "code",
   "execution_count": 22,
   "id": "1cfdfc6b-49e8-4c8d-beb8-709f696996e2",
   "metadata": {},
   "outputs": [
    {
     "data": {
      "text/plain": [
       "order_id\n",
       "1d893dd7ca5f77ebf5f59f0d2017eee0      12.801944\n",
       "434cecee7d1a65fc65358a632b6f725f      18.752778\n",
       "f3c6775ba3d2d9fe2826f93b71f12008      20.527500\n",
       "8339b608be0d84fca9d8da68b58332c3      20.722222\n",
       "bb5a519e352b45b714192a02ffe25681      21.378056\n",
       "                                       ...     \n",
       "285ab9426d6982034523a855f55a885e    4671.206667\n",
       "2fb597c2f772eca01b1f5c561bf6cc7b    4676.404167\n",
       "440d0d17af552815d15a9e41abe49359    4695.216389\n",
       "1b3190b2dfa9d789e1f14c05b647a14a    5000.442222\n",
       "ca07593549f1816d26a572e06dc1eab6    5031.086667\n",
       "Name: delivery_time_hours, Length: 94653, dtype: float64"
      ]
     },
     "execution_count": 22,
     "metadata": {},
     "output_type": "execute_result"
    }
   ],
   "source": [
    "data_all_agg.delivery_time_hours.sort_values()"
   ]
  },
  {
   "cell_type": "code",
   "execution_count": null,
   "id": "b164d7ea-404a-4911-a831-b1cf3b523009",
   "metadata": {},
   "outputs": [],
   "source": []
  },
  {
   "cell_type": "code",
   "execution_count": null,
   "id": "73ef98bd-c3fb-4332-8d3f-823cb6db6bb0",
   "metadata": {},
   "outputs": [],
   "source": []
  },
  {
   "cell_type": "code",
   "execution_count": 24,
   "id": "corporate-orbit",
   "metadata": {},
   "outputs": [
    {
     "data": {
      "image/png": "[encoded data removed]",
      "text/plain": [
       "<Figure size 864x432 with 1 Axes>"
      ]
     },
     "metadata": {
      "needs_background": "light"
     },
     "output_type": "display_data"
    }
   ],
   "source": [
    "data_seller_del_sp.sort_values(by=['delivery_speed_km_per_hour'])[-10:].plot(kind='barh')\n",
    "plt.title('The fastest sellers delivery speed rating', fontsize=20)\n",
    "plt.xlabel('Speed, km/hour', fontsize=18)\n",
    "plt.ylabel('Sellers', fontsize=18)\n",
    "plt.yticks([0, 1, 2, 3, 4 ,5, 6 ,7 ,8, 9], data_seller_del_sp.seller_id[:10])  # Set text labels and properties.\n",
    "plt.show();"
   ]
  },
  {
   "cell_type": "code",
   "execution_count": 28,
   "id": "stone-sally",
   "metadata": {},
   "outputs": [
    {
     "data": {
      "image/png": "[encoded data removed]",
      "text/plain": [
       "<Figure size 864x432 with 1 Axes>"
      ]
     },
     "metadata": {
      "needs_background": "light"
     },
     "output_type": "display_data"
    }
   ],
   "source": [
    "data_seller_del_sp.sort_values(by='delivery_speed_km_per_hour', ascending=True)[:10].plot(kind='barh')\n",
    "plt.title('The slowest sellers delivery speed rating', fontsize=20)\n",
    "plt.xlabel('Speed, km/hour', fontsize=18)\n",
    "plt.ylabel('Sellers', fontsize=18)\n",
    "# plt.yticks([0, 1, 2, 3, 4 ,5, 6 ,7 ,8, 9], data_seller_del_sp.seller_id[:])  # Set text labels and properties.\n",
    "plt.show();"
   ]
  },
  {
   "cell_type": "markdown",
   "id": "postal-heath",
   "metadata": {},
   "source": [
    "## **Sellers and customers delivery time and speed analysis**"
   ]
  },
  {
   "cell_type": "markdown",
   "id": "lonely-server",
   "metadata": {},
   "source": [
    "To capture critical geo points, we need to visualize them on the map. Only for this purpose we have to filter below the average delivery time and delivery speed"
   ]
  },
  {
   "cell_type": "code",
   "execution_count": 29,
   "id": "hidden-circular",
   "metadata": {},
   "outputs": [],
   "source": [
    "mean_del_time = data_all_agg.delivery_time_hours.mean()\n",
    "mean_del_speed = data_all_agg.delivery_speed_km_per_hour.mean()"
   ]
  },
  {
   "cell_type": "code",
   "execution_count": 43,
   "id": "connected-aruba",
   "metadata": {},
   "outputs": [
    {
     "data": {
      "application/vnd.plotly.v1+json": {
       "config": {
        "plotlyServerURL": "https://plot.ly"
       },
       "data": [
        {
         "hovertemplate": "customer_lat=%{lat}<br>customer_lng=%{lon}<br>delivery_time_hours=%{marker.color}<extra></extra>",
         "lat": [
          -22.28531088541791,
          -8.014003597754705,
          -22.775193331957865,
          -22.069566562620427,
          -11.25353298652731,
          -4.990111113089043,
          -23.20410386960932,
          -14.279696054580535,
          -3.838402413855396,
          -22.91689708484025,
          -20.345030195796223,
          -10.9161786962848,
          -3.086199793453681,
          -21.24470863650576,
          -15.550183236860988,
          -10.99109302538438,
          -22.96914820115267,
          -23.48539708033281,
          2.796401433054506,
          -5.131798544100241,
          -22.78216791549053,
          -6.259324714082864,
          -23.55764745539649,
          -7.084785800609983,
          -23.52043844370904,
          -12.923438904843886,
          -12.979401136116156,
          -22.08162384952672,
          0.0333946008792229,
          -1.3215363047681985,
          -20.01085720737993,
          -23.179531489945607,
          -22.91103282131641,
          -23.561185904622896,
          -22.934576022997856,
          -4.717117343720794,
          -12.999525718314796,
          -22.9284131316606,
          -17.30608267043897,
          -6.852092560629193,
          -12.488128486464865,
          -21.19088563865416,
          -22.9661923608996,
          -29.68434895692012,
          -9.4332134455404,
          -22.936910913712644,
          -23.600609181469384,
          -20.01085720737993,
          -22.269903758517668,
          -13.8574648526584,
          -3.4961978403866927,
          -22.88548385187386,
          -23.634902556306105,
          -23.96194269902421,
          -11.314698067779764,
          -13.367204191409805,
          -6.525210475145849,
          -3.725711352106952,
          -27.00447650803857,
          -8.08011826711645,
          -23.669873484997385,
          -21.78007637120952,
          -22.934576022997856,
          -22.878636914963185,
          -11.29634043148977,
          -19.360654988886733,
          -23.01080349932642,
          -7.068379563936202,
          -11.430232476786514,
          -22.91439065092511,
          -18.131132996868345,
          -23.518635254069064,
          -19.24939653482508,
          -27.442895407783325,
          -22.948469100305584,
          -22.69400855622229,
          -23.71528473952517,
          -23.56165294846951,
          -9.5587427086405,
          -23.500142370129407,
          -7.997036690212408,
          -3.7378816901681575,
          -22.934576022997856,
          -29.48122530440761,
          -21.594340571750315,
          -22.930174278267906,
          -22.33939751193793,
          -19.87782692209869,
          -23.316305934989163,
          -23.504073903424537,
          -22.984439128577407,
          -8.441865196198224,
          -3.78088430675568,
          -24.59241160657905
         ],
         "legendgroup": "",
         "lon": [
          -42.52415219219638,
          -34.92925752375141,
          -43.38292984206083,
          -50.30397737674216,
          -39.37766198254968,
          -42.83546958068997,
          -46.8725900966585,
          -38.99380002052039,
          -38.51612072434251,
          -43.40278883313535,
          -40.28790374199651,
          -37.67161895543461,
          -59.97168356970081,
          -44.99920163943048,
          -47.32949631600096,
          -37.0606726416181,
          -43.38306523796816,
          -46.80979379414146,
          -60.68535501889281,
          -42.786188040750766,
          -47.17816106376935,
          -36.518752632087725,
          -46.93978258666856,
          -49.92163593911828,
          -46.6692371684404,
          -38.4633460841846,
          -38.49741792535076,
          -48.22036238417816,
          -51.06788438751215,
          -48.47228603185361,
          -40.79846476486159,
          -47.31338383666045,
          -43.06742681237905,
          -46.461300810487,
          -43.37578841332685,
          -44.32668695525109,
          -38.47484734217226,
          -43.24053818011483,
          -48.50168912522954,
          -35.490921511694495,
          -38.9930341658468,
          -48.156208788295054,
          -43.330734513875385,
          -53.81380324486171,
          -40.4961203502536,
          -43.36097335035078,
          -46.639783553158175,
          -40.79846476486159,
          -42.51971931487772,
          -40.10108406549886,
          -39.58093372474767,
          -43.45769280672658,
          -46.564837338912426,
          -46.38211637150603,
          -34.725129839453665,
          -39.07196625266378,
          -49.8727945934544,
          -40.99160875038256,
          -51.15253710423867,
          -34.9498360410337,
          -46.80204320628541,
          -48.15914226625744,
          -43.37578841332685,
          -43.08609614601049,
          -41.98876434561059,
          -47.28562643685492,
          -43.309886652481104,
          -34.842415611792,
          -40.59743564218765,
          -43.24569874883488,
          -40.35711188194904,
          -46.41380664707032,
          -40.518293109768535,
          -48.40148110687635,
          -43.364489898207424,
          -52.71970730503951,
          -46.59045718465921,
          -46.65602130430725,
          -35.7607238111778,
          -46.43458554897361,
          -34.90095324038228,
          -38.50270088014194,
          -43.37578841332685,
          -51.80817280859795,
          -48.811084255858304,
          -43.34644038809006,
          -41.75630392529991,
          -43.99542142919066,
          -45.94056912975552,
          -46.6376709347386,
          -43.221512713158894,
          -35.031331015635566,
          -38.65808525110107,
          -52.80415320094136
         ],
         "marker": {
          "color": [
           2311.509444444445,
           3987.401666666666,
           2542.53,
           3482.9075,
           3318.4894444444444,
           4657.1900000000005,
           2855.2694444444446,
           2598.8913888888887,
           3419.203611111111,
           5000.442222222222,
           2392.597222222222,
           4671.206666666667,
           3333.0669444444443,
           3197.7875,
           4345.4525,
           4515.230833333334,
           2515.0394444444446,
           2071.822222222222,
           4131.348611111112,
           4676.404166666666,
           4556.715833333334,
           4177.153888888889,
           2391.831388888889,
           2558.470555555556,
           2108.260555555556,
           2600.688611111111,
           3511.513611111111,
           2003.795555555556,
           4492.882777777778,
           4695.216388888889,
           3441.8744444444446,
           4595.125000000001,
           2260.9725000000003,
           2398.739722222222,
           2277.667777777778,
           4033.987222222222,
           4030.65,
           2764.137777777778,
           2999.947222222222,
           2452.0958333333333,
           2007.1358333333333,
           2552.3172222222224,
           3960.240555555556,
           4383.795277777778,
           3024.1875,
           2339.283611111111,
           2310.768333333333,
           3282.758888888889,
           2086.2436111111115,
           3407.342222222222,
           2195.9283333333337,
           2064.2869444444445,
           2528.011388888889,
           2569.552777777778,
           2010.1519444444448,
           4022.4352777777776,
           2064.0280555555555,
           2648.59,
           2356.2719444444447,
           2159.914166666667,
           3120.1569444444444,
           2427.005833333333,
           3170.8355555555554,
           2036.4708333333333,
           3136.343055555556,
           4505.852222222223,
           3149.2975,
           2067.455833333333,
           3247.6225,
           2031.6075,
           5031.086666666667,
           2020.3475,
           3556.188055555556,
           2226.836111111111,
           2043.928055555556,
           2339.244166666667,
           4205.371666666667,
           2472.0144444444445,
           2183.0638888888893,
           2517.1897222222224,
           2020.0897222222225,
           4036.365833333333,
           2117.801388888889,
           4469.682500000001,
           2490.189444444444,
           2575.130833333333,
           2635.903611111112,
           2811.6452777777777,
           4155.201111111112,
           2417.2438888888887,
           2041.6138888888888,
           2065.8527777777776,
           2493.5769444444445,
           2060.8586111111117
          ],
          "coloraxis": "coloraxis"
         },
         "mode": "markers",
         "name": "",
         "showlegend": false,
         "subplot": "mapbox",
         "type": "scattermapbox"
        }
       ],
       "layout": {
        "autosize": true,
        "coloraxis": {
         "colorbar": {
          "title": {
           "text": "delivery_time_hours"
          }
         },
         "colorscale": [
          [
           0,
           "#000000"
          ],
          [
           0.0625,
           "#001f4d"
          ],
          [
           0.125,
           "#003786"
          ],
          [
           0.1875,
           "#0e58a8"
          ],
          [
           0.25,
           "#217eb8"
          ],
          [
           0.3125,
           "#30a4ca"
          ],
          [
           0.375,
           "#54c8df"
          ],
          [
           0.4375,
           "#9be4ef"
          ],
          [
           0.5,
           "#e1e9d1"
          ],
          [
           0.5625,
           "#f3d573"
          ],
          [
           0.625,
           "#e7b000"
          ],
          [
           0.6875,
           "#da8200"
          ],
          [
           0.75,
           "#c65400"
          ],
          [
           0.8125,
           "#ac2301"
          ],
          [
           0.875,
           "#820000"
          ],
          [
           0.9375,
           "#4c0000"
          ],
          [
           1,
           "#000000"
          ]
         ]
        },
        "legend": {
         "tracegroupgap": 0
        },
        "mapbox": {
         "bearing": 0,
         "center": {
          "lat": -18.911262452976146,
          "lon": -57.95149324090772
         },
         "domain": {
          "x": [
           0,
           1
          ],
          "y": [
           0,
           1
          ]
         },
         "pitch": 0,
         "style": "carto-positron",
         "zoom": 0.9388264794436021
        },
        "template": {
         "data": {
          "bar": [
           {
            "error_x": {
             "color": "#2a3f5f"
            },
            "error_y": {
             "color": "#2a3f5f"
            },
            "marker": {
             "line": {
              "color": "#E5ECF6",
              "width": 0.5
             },
             "pattern": {
              "fillmode": "overlay",
              "size": 10,
              "solidity": 0.2
             }
            },
            "type": "bar"
           }
          ],
          "barpolar": [
           {
            "marker": {
             "line": {
              "color": "#E5ECF6",
              "width": 0.5
             },
             "pattern": {
              "fillmode": "overlay",
              "size": 10,
              "solidity": 0.2
             }
            },
            "type": "barpolar"
           }
          ],
          "carpet": [
           {
            "aaxis": {
             "endlinecolor": "#2a3f5f",
             "gridcolor": "white",
             "linecolor": "white",
             "minorgridcolor": "white",
             "startlinecolor": "#2a3f5f"
            },
            "baxis": {
             "endlinecolor": "#2a3f5f",
             "gridcolor": "white",
             "linecolor": "white",
             "minorgridcolor": "white",
             "startlinecolor": "#2a3f5f"
            },
            "type": "carpet"
           }
          ],
          "choropleth": [
           {
            "colorbar": {
             "outlinewidth": 0,
             "ticks": ""
            },
            "type": "choropleth"
           }
          ],
          "contour": [
           {
            "colorbar": {
             "outlinewidth": 0,
             "ticks": ""
            },
            "colorscale": [
             [
              0,
              "#0d0887"
             ],
             [
              0.1111111111111111,
              "#46039f"
             ],
             [
              0.2222222222222222,
              "#7201a8"
             ],
             [
              0.3333333333333333,
              "#9c179e"
             ],
             [
              0.4444444444444444,
              "#bd3786"
             ],
             [
              0.5555555555555556,
              "#d8576b"
             ],
             [
              0.6666666666666666,
              "#ed7953"
             ],
             [
              0.7777777777777778,
              "#fb9f3a"
             ],
             [
              0.8888888888888888,
              "#fdca26"
             ],
             [
              1,
              "#f0f921"
             ]
            ],
            "type": "contour"
           }
          ],
          "contourcarpet": [
           {
            "colorbar": {
             "outlinewidth": 0,
             "ticks": ""
            },
            "type": "contourcarpet"
           }
          ],
          "heatmap": [
           {
            "colorbar": {
             "outlinewidth": 0,
             "ticks": ""
            },
            "colorscale": [
             [
              0,
              "#0d0887"
             ],
             [
              0.1111111111111111,
              "#46039f"
             ],
             [
              0.2222222222222222,
              "#7201a8"
             ],
             [
              0.3333333333333333,
              "#9c179e"
             ],
             [
              0.4444444444444444,
              "#bd3786"
             ],
             [
              0.5555555555555556,
              "#d8576b"
             ],
             [
              0.6666666666666666,
              "#ed7953"
             ],
             [
              0.7777777777777778,
              "#fb9f3a"
             ],
             [
              0.8888888888888888,
              "#fdca26"
             ],
             [
              1,
              "#f0f921"
             ]
            ],
            "type": "heatmap"
           }
          ],
          "heatmapgl": [
           {
            "colorbar": {
             "outlinewidth": 0,
             "ticks": ""
            },
            "colorscale": [
             [
              0,
              "#0d0887"
             ],
             [
              0.1111111111111111,
              "#46039f"
             ],
             [
              0.2222222222222222,
              "#7201a8"
             ],
             [
              0.3333333333333333,
              "#9c179e"
             ],
             [
              0.4444444444444444,
              "#bd3786"
             ],
             [
              0.5555555555555556,
              "#d8576b"
             ],
             [
              0.6666666666666666,
              "#ed7953"
             ],
             [
              0.7777777777777778,
              "#fb9f3a"
             ],
             [
              0.8888888888888888,
              "#fdca26"
             ],
             [
              1,
              "#f0f921"
             ]
            ],
            "type": "heatmapgl"
           }
          ],
          "histogram": [
           {
            "marker": {
             "pattern": {
              "fillmode": "overlay",
              "size": 10,
              "solidity": 0.2
             }
            },
            "type": "histogram"
           }
          ],
          "histogram2d": [
           {
            "colorbar": {
             "outlinewidth": 0,
             "ticks": ""
            },
            "colorscale": [
             [
              0,
              "#0d0887"
             ],
             [
              0.1111111111111111,
              "#46039f"
             ],
             [
              0.2222222222222222,
              "#7201a8"
             ],
             [
              0.3333333333333333,
              "#9c179e"
             ],
             [
              0.4444444444444444,
              "#bd3786"
             ],
             [
              0.5555555555555556,
              "#d8576b"
             ],
             [
              0.6666666666666666,
              "#ed7953"
             ],
             [
              0.7777777777777778,
              "#fb9f3a"
             ],
             [
              0.8888888888888888,
              "#fdca26"
             ],
             [
              1,
              "#f0f921"
             ]
            ],
            "type": "histogram2d"
           }
          ],
          "histogram2dcontour": [
           {
            "colorbar": {
             "outlinewidth": 0,
             "ticks": ""
            },
            "colorscale": [
             [
              0,
              "#0d0887"
             ],
             [
              0.1111111111111111,
              "#46039f"
             ],
             [
              0.2222222222222222,
              "#7201a8"
             ],
             [
              0.3333333333333333,
              "#9c179e"
             ],
             [
              0.4444444444444444,
              "#bd3786"
             ],
             [
              0.5555555555555556,
              "#d8576b"
             ],
             [
              0.6666666666666666,
              "#ed7953"
             ],
             [
              0.7777777777777778,
              "#fb9f3a"
             ],
             [
              0.8888888888888888,
              "#fdca26"
             ],
             [
              1,
              "#f0f921"
             ]
            ],
            "type": "histogram2dcontour"
           }
          ],
          "mesh3d": [
           {
            "colorbar": {
             "outlinewidth": 0,
             "ticks": ""
            },
            "type": "mesh3d"
           }
          ],
          "parcoords": [
           {
            "line": {
             "colorbar": {
              "outlinewidth": 0,
              "ticks": ""
             }
            },
            "type": "parcoords"
           }
          ],
          "pie": [
           {
            "automargin": true,
            "type": "pie"
           }
          ],
          "scatter": [
           {
            "marker": {
             "colorbar": {
              "outlinewidth": 0,
              "ticks": ""
             }
            },
            "type": "scatter"
           }
          ],
          "scatter3d": [
           {
            "line": {
             "colorbar": {
              "outlinewidth": 0,
              "ticks": ""
             }
            },
            "marker": {
             "colorbar": {
              "outlinewidth": 0,
              "ticks": ""
             }
            },
            "type": "scatter3d"
           }
          ],
          "scattercarpet": [
           {
            "marker": {
             "colorbar": {
              "outlinewidth": 0,
              "ticks": ""
             }
            },
            "type": "scattercarpet"
           }
          ],
          "scattergeo": [
           {
            "marker": {
             "colorbar": {
              "outlinewidth": 0,
              "ticks": ""
             }
            },
            "type": "scattergeo"
           }
          ],
          "scattergl": [
           {
            "marker": {
             "colorbar": {
              "outlinewidth": 0,
              "ticks": ""
             }
            },
            "type": "scattergl"
           }
          ],
          "scattermapbox": [
           {
            "marker": {
             "colorbar": {
              "outlinewidth": 0,
              "ticks": ""
             }
            },
            "type": "scattermapbox"
           }
          ],
          "scatterpolar": [
           {
            "marker": {
             "colorbar": {
              "outlinewidth": 0,
              "ticks": ""
             }
            },
            "type": "scatterpolar"
           }
          ],
          "scatterpolargl": [
           {
            "marker": {
             "colorbar": {
              "outlinewidth": 0,
              "ticks": ""
             }
            },
            "type": "scatterpolargl"
           }
          ],
          "scatterternary": [
           {
            "marker": {
             "colorbar": {
              "outlinewidth": 0,
              "ticks": ""
             }
            },
            "type": "scatterternary"
           }
          ],
          "surface": [
           {
            "colorbar": {
             "outlinewidth": 0,
             "ticks": ""
            },
            "colorscale": [
             [
              0,
              "#0d0887"
             ],
             [
              0.1111111111111111,
              "#46039f"
             ],
             [
              0.2222222222222222,
              "#7201a8"
             ],
             [
              0.3333333333333333,
              "#9c179e"
             ],
             [
              0.4444444444444444,
              "#bd3786"
             ],
             [
              0.5555555555555556,
              "#d8576b"
             ],
             [
              0.6666666666666666,
              "#ed7953"
             ],
             [
              0.7777777777777778,
              "#fb9f3a"
             ],
             [
              0.8888888888888888,
              "#fdca26"
             ],
             [
              1,
              "#f0f921"
             ]
            ],
            "type": "surface"
           }
          ],
          "table": [
           {
            "cells": {
             "fill": {
              "color": "#EBF0F8"
             },
             "line": {
              "color": "white"
             }
            },
            "header": {
             "fill": {
              "color": "#C8D4E3"
             },
             "line": {
              "color": "white"
             }
            },
            "type": "table"
           }
          ]
         },
         "layout": {
          "annotationdefaults": {
           "arrowcolor": "#2a3f5f",
           "arrowhead": 0,
           "arrowwidth": 1
          },
          "autotypenumbers": "strict",
          "coloraxis": {
           "colorbar": {
            "outlinewidth": 0,
            "ticks": ""
           }
          },
          "colorscale": {
           "diverging": [
            [
             0,
             "#8e0152"
            ],
            [
             0.1,
             "#c51b7d"
            ],
            [
             0.2,
             "#de77ae"
            ],
            [
             0.3,
             "#f1b6da"
            ],
            [
             0.4,
             "#fde0ef"
            ],
            [
             0.5,
             "#f7f7f7"
            ],
            [
             0.6,
             "#e6f5d0"
            ],
            [
             0.7,
             "#b8e186"
            ],
            [
             0.8,
             "#7fbc41"
            ],
            [
             0.9,
             "#4d9221"
            ],
            [
             1,
             "#276419"
            ]
           ],
           "sequential": [
            [
             0,
             "#0d0887"
            ],
            [
             0.1111111111111111,
             "#46039f"
            ],
            [
             0.2222222222222222,
             "#7201a8"
            ],
            [
             0.3333333333333333,
             "#9c179e"
            ],
            [
             0.4444444444444444,
             "#bd3786"
            ],
            [
             0.5555555555555556,
             "#d8576b"
            ],
            [
             0.6666666666666666,
             "#ed7953"
            ],
            [
             0.7777777777777778,
             "#fb9f3a"
            ],
            [
             0.8888888888888888,
             "#fdca26"
            ],
            [
             1,
             "#f0f921"
            ]
           ],
           "sequentialminus": [
            [
             0,
             "#0d0887"
            ],
            [
             0.1111111111111111,
             "#46039f"
            ],
            [
             0.2222222222222222,
             "#7201a8"
            ],
            [
             0.3333333333333333,
             "#9c179e"
            ],
            [
             0.4444444444444444,
             "#bd3786"
            ],
            [
             0.5555555555555556,
             "#d8576b"
            ],
            [
             0.6666666666666666,
             "#ed7953"
            ],
            [
             0.7777777777777778,
             "#fb9f3a"
            ],
            [
             0.8888888888888888,
             "#fdca26"
            ],
            [
             1,
             "#f0f921"
            ]
           ]
          },
          "colorway": [
           "#636efa",
           "#EF553B",
           "#00cc96",
           "#ab63fa",
           "#FFA15A",
           "#19d3f3",
           "#FF6692",
           "#B6E880",
           "#FF97FF",
           "#FECB52"
          ],
          "font": {
           "color": "#2a3f5f"
          },
          "geo": {
           "bgcolor": "white",
           "lakecolor": "white",
           "landcolor": "#E5ECF6",
           "showlakes": true,
           "showland": true,
           "subunitcolor": "white"
          },
          "hoverlabel": {
           "align": "left"
          },
          "hovermode": "closest",
          "mapbox": {
           "style": "light"
          },
          "paper_bgcolor": "white",
          "plot_bgcolor": "#E5ECF6",
          "polar": {
           "angularaxis": {
            "gridcolor": "white",
            "linecolor": "white",
            "ticks": ""
           },
           "bgcolor": "#E5ECF6",
           "radialaxis": {
            "gridcolor": "white",
            "linecolor": "white",
            "ticks": ""
           }
          },
          "scene": {
           "xaxis": {
            "backgroundcolor": "#E5ECF6",
            "gridcolor": "white",
            "gridwidth": 2,
            "linecolor": "white",
            "showbackground": true,
            "ticks": "",
            "zerolinecolor": "white"
           },
           "yaxis": {
            "backgroundcolor": "#E5ECF6",
            "gridcolor": "white",
            "gridwidth": 2,
            "linecolor": "white",
            "showbackground": true,
            "ticks": "",
            "zerolinecolor": "white"
           },
           "zaxis": {
            "backgroundcolor": "#E5ECF6",
            "gridcolor": "white",
            "gridwidth": 2,
            "linecolor": "white",
            "showbackground": true,
            "ticks": "",
            "zerolinecolor": "white"
           }
          },
          "shapedefaults": {
           "line": {
            "color": "#2a3f5f"
           }
          },
          "ternary": {
           "aaxis": {
            "gridcolor": "white",
            "linecolor": "white",
            "ticks": ""
           },
           "baxis": {
            "gridcolor": "white",
            "linecolor": "white",
            "ticks": ""
           },
           "bgcolor": "#E5ECF6",
           "caxis": {
            "gridcolor": "white",
            "linecolor": "white",
            "ticks": ""
           }
          },
          "title": {
           "x": 0.05
          },
          "xaxis": {
           "automargin": true,
           "gridcolor": "white",
           "linecolor": "white",
           "ticks": "",
           "title": {
            "standoff": 15
           },
           "zerolinecolor": "white",
           "zerolinewidth": 2
          },
          "yaxis": {
           "automargin": true,
           "gridcolor": "white",
           "linecolor": "white",
           "ticks": "",
           "title": {
            "standoff": 15
           },
           "zerolinecolor": "white",
           "zerolinewidth": 2
          }
         }
        },
        "title": {
         "text": "Location of the customers with the longest delivery time"
        }
       }
      },
      "image/png": "[encoded data removed]",
      "text/html": [
       "<div>                            <div id=\"80860550-5772-428f-a4a7-10842864f664\" class=\"plotly-graph-div\" style=\"height:525px; width:100%;\"></div>            <script type=\"text/javascript\">                require([\"plotly\"], function(Plotly) {                    window.PLOTLYENV=window.PLOTLYENV || {};                                    if (document.getElementById(\"80860550-5772-428f-a4a7-10842864f664\")) {                    Plotly.newPlot(                        \"80860550-5772-428f-a4a7-10842864f664\",                        [{\"hovertemplate\":\"customer_lat=%{lat}<br>customer_lng=%{lon}<br>delivery_time_hours=%{marker.color}<extra></extra>\",\"lat\":[-22.28531088541791,-8.014003597754705,-22.775193331957865,-22.069566562620427,-11.25353298652731,-4.990111113089043,-23.20410386960932,-14.279696054580535,-3.838402413855396,-22.91689708484025,-20.345030195796223,-10.9161786962848,-3.086199793453681,-21.24470863650576,-15.550183236860988,-10.99109302538438,-22.96914820115267,-23.48539708033281,2.796401433054506,-5.131798544100241,-22.78216791549053,-6.259324714082864,-23.55764745539649,-7.084785800609983,-23.52043844370904,-12.923438904843886,-12.979401136116156,-22.08162384952672,0.0333946008792229,-1.3215363047681985,-20.01085720737993,-23.179531489945607,-22.91103282131641,-23.561185904622896,-22.934576022997856,-4.717117343720794,-12.999525718314796,-22.9284131316606,-17.30608267043897,-6.852092560629193,-12.488128486464865,-21.19088563865416,-22.9661923608996,-29.68434895692012,-9.4332134455404,-22.936910913712644,-23.600609181469384,-20.01085720737993,-22.269903758517668,-13.8574648526584,-3.4961978403866927,-22.88548385187386,-23.634902556306105,-23.96194269902421,-11.314698067779764,-13.367204191409805,-6.525210475145849,-3.725711352106952,-27.00447650803857,-8.08011826711645,-23.669873484997385,-21.78007637120952,-22.934576022997856,-22.878636914963185,-11.29634043148977,-19.360654988886733,-23.01080349932642,-7.068379563936202,-11.430232476786514,-22.91439065092511,-18.131132996868345,-23.518635254069064,-19.24939653482508,-27.442895407783325,-22.948469100305584,-22.69400855622229,-23.71528473952517,-23.56165294846951,-9.5587427086405,-23.500142370129407,-7.997036690212408,-3.7378816901681575,-22.934576022997856,-29.48122530440761,-21.594340571750315,-22.930174278267906,-22.33939751193793,-19.87782692209869,-23.316305934989163,-23.504073903424537,-22.984439128577407,-8.441865196198224,-3.78088430675568,-24.59241160657905],\"legendgroup\":\"\",\"lon\":[-42.52415219219638,-34.92925752375141,-43.38292984206083,-50.30397737674216,-39.37766198254968,-42.83546958068997,-46.8725900966585,-38.99380002052039,-38.51612072434251,-43.40278883313535,-40.28790374199651,-37.67161895543461,-59.97168356970081,-44.99920163943048,-47.32949631600096,-37.0606726416181,-43.38306523796816,-46.80979379414146,-60.68535501889281,-42.786188040750766,-47.17816106376935,-36.518752632087725,-46.93978258666856,-49.92163593911828,-46.6692371684404,-38.4633460841846,-38.49741792535076,-48.22036238417816,-51.06788438751215,-48.47228603185361,-40.79846476486159,-47.31338383666045,-43.06742681237905,-46.461300810487,-43.37578841332685,-44.32668695525109,-38.47484734217226,-43.24053818011483,-48.50168912522954,-35.490921511694495,-38.9930341658468,-48.156208788295054,-43.330734513875385,-53.81380324486171,-40.4961203502536,-43.36097335035078,-46.639783553158175,-40.79846476486159,-42.51971931487772,-40.10108406549886,-39.58093372474767,-43.45769280672658,-46.564837338912426,-46.38211637150603,-34.725129839453665,-39.07196625266378,-49.8727945934544,-40.99160875038256,-51.15253710423867,-34.9498360410337,-46.80204320628541,-48.15914226625744,-43.37578841332685,-43.08609614601049,-41.98876434561059,-47.28562643685492,-43.309886652481104,-34.842415611792,-40.59743564218765,-43.24569874883488,-40.35711188194904,-46.41380664707032,-40.518293109768535,-48.40148110687635,-43.364489898207424,-52.71970730503951,-46.59045718465921,-46.65602130430725,-35.7607238111778,-46.43458554897361,-34.90095324038228,-38.50270088014194,-43.37578841332685,-51.80817280859795,-48.811084255858304,-43.34644038809006,-41.75630392529991,-43.99542142919066,-45.94056912975552,-46.6376709347386,-43.221512713158894,-35.031331015635566,-38.65808525110107,-52.80415320094136],\"marker\":{\"color\":[2311.509444444445,3987.401666666666,2542.53,3482.9075,3318.4894444444444,4657.1900000000005,2855.2694444444446,2598.8913888888887,3419.203611111111,5000.442222222222,2392.597222222222,4671.206666666667,3333.0669444444443,3197.7875,4345.4525,4515.230833333334,2515.0394444444446,2071.822222222222,4131.348611111112,4676.404166666666,4556.715833333334,4177.153888888889,2391.831388888889,2558.470555555556,2108.260555555556,2600.688611111111,3511.513611111111,2003.795555555556,4492.882777777778,4695.216388888889,3441.8744444444446,4595.125000000001,2260.9725000000003,2398.739722222222,2277.667777777778,4033.987222222222,4030.65,2764.137777777778,2999.947222222222,2452.0958333333333,2007.1358333333333,2552.3172222222224,3960.240555555556,4383.795277777778,3024.1875,2339.283611111111,2310.768333333333,3282.758888888889,2086.2436111111115,3407.342222222222,2195.9283333333337,2064.2869444444445,2528.011388888889,2569.552777777778,2010.1519444444448,4022.4352777777776,2064.0280555555555,2648.59,2356.2719444444447,2159.914166666667,3120.1569444444444,2427.005833333333,3170.8355555555554,2036.4708333333333,3136.343055555556,4505.852222222223,3149.2975,2067.455833333333,3247.6225,2031.6075,5031.086666666667,2020.3475,3556.188055555556,2226.836111111111,2043.928055555556,2339.244166666667,4205.371666666667,2472.0144444444445,2183.0638888888893,2517.1897222222224,2020.0897222222225,4036.365833333333,2117.801388888889,4469.682500000001,2490.189444444444,2575.130833333333,2635.903611111112,2811.6452777777777,4155.201111111112,2417.2438888888887,2041.6138888888888,2065.8527777777776,2493.5769444444445,2060.8586111111117],\"coloraxis\":\"coloraxis\"},\"mode\":\"markers\",\"name\":\"\",\"showlegend\":false,\"subplot\":\"mapbox\",\"type\":\"scattermapbox\"}],                        {\"coloraxis\":{\"colorbar\":{\"title\":{\"text\":\"delivery_time_hours\"}},\"colorscale\":[[0.0,\"#000000\"],[0.0625,\"#001f4d\"],[0.125,\"#003786\"],[0.1875,\"#0e58a8\"],[0.25,\"#217eb8\"],[0.3125,\"#30a4ca\"],[0.375,\"#54c8df\"],[0.4375,\"#9be4ef\"],[0.5,\"#e1e9d1\"],[0.5625,\"#f3d573\"],[0.625,\"#e7b000\"],[0.6875,\"#da8200\"],[0.75,\"#c65400\"],[0.8125,\"#ac2301\"],[0.875,\"#820000\"],[0.9375,\"#4c0000\"],[1.0,\"#000000\"]]},\"legend\":{\"tracegroupgap\":0},\"mapbox\":{\"center\":{\"lat\":-16.98977407844563,\"lon\":-43.816838115668205},\"domain\":{\"x\":[0.0,1.0],\"y\":[0.0,1.0]},\"style\":\"carto-positron\",\"zoom\":2},\"template\":{\"data\":{\"bar\":[{\"error_x\":{\"color\":\"#2a3f5f\"},\"error_y\":{\"color\":\"#2a3f5f\"},\"marker\":{\"line\":{\"color\":\"#E5ECF6\",\"width\":0.5},\"pattern\":{\"fillmode\":\"overlay\",\"size\":10,\"solidity\":0.2}},\"type\":\"bar\"}],\"barpolar\":[{\"marker\":{\"line\":{\"color\":\"#E5ECF6\",\"width\":0.5},\"pattern\":{\"fillmode\":\"overlay\",\"size\":10,\"solidity\":0.2}},\"type\":\"barpolar\"}],\"carpet\":[{\"aaxis\":{\"endlinecolor\":\"#2a3f5f\",\"gridcolor\":\"white\",\"linecolor\":\"white\",\"minorgridcolor\":\"white\",\"startlinecolor\":\"#2a3f5f\"},\"baxis\":{\"endlinecolor\":\"#2a3f5f\",\"gridcolor\":\"white\",\"linecolor\":\"white\",\"minorgridcolor\":\"white\",\"startlinecolor\":\"#2a3f5f\"},\"type\":\"carpet\"}],\"choropleth\":[{\"colorbar\":{\"outlinewidth\":0,\"ticks\":\"\"},\"type\":\"choropleth\"}],\"contour\":[{\"colorbar\":{\"outlinewidth\":0,\"ticks\":\"\"},\"colorscale\":[[0.0,\"#0d0887\"],[0.1111111111111111,\"#46039f\"],[0.2222222222222222,\"#7201a8\"],[0.3333333333333333,\"#9c179e\"],[0.4444444444444444,\"#bd3786\"],[0.5555555555555556,\"#d8576b\"],[0.6666666666666666,\"#ed7953\"],[0.7777777777777778,\"#fb9f3a\"],[0.8888888888888888,\"#fdca26\"],[1.0,\"#f0f921\"]],\"type\":\"contour\"}],\"contourcarpet\":[{\"colorbar\":{\"outlinewidth\":0,\"ticks\":\"\"},\"type\":\"contourcarpet\"}],\"heatmap\":[{\"colorbar\":{\"outlinewidth\":0,\"ticks\":\"\"},\"colorscale\":[[0.0,\"#0d0887\"],[0.1111111111111111,\"#46039f\"],[0.2222222222222222,\"#7201a8\"],[0.3333333333333333,\"#9c179e\"],[0.4444444444444444,\"#bd3786\"],[0.5555555555555556,\"#d8576b\"],[0.6666666666666666,\"#ed7953\"],[0.7777777777777778,\"#fb9f3a\"],[0.8888888888888888,\"#fdca26\"],[1.0,\"#f0f921\"]],\"type\":\"heatmap\"}],\"heatmapgl\":[{\"colorbar\":{\"outlinewidth\":0,\"ticks\":\"\"},\"colorscale\":[[0.0,\"#0d0887\"],[0.1111111111111111,\"#46039f\"],[0.2222222222222222,\"#7201a8\"],[0.3333333333333333,\"#9c179e\"],[0.4444444444444444,\"#bd3786\"],[0.5555555555555556,\"#d8576b\"],[0.6666666666666666,\"#ed7953\"],[0.7777777777777778,\"#fb9f3a\"],[0.8888888888888888,\"#fdca26\"],[1.0,\"#f0f921\"]],\"type\":\"heatmapgl\"}],\"histogram\":[{\"marker\":{\"pattern\":{\"fillmode\":\"overlay\",\"size\":10,\"solidity\":0.2}},\"type\":\"histogram\"}],\"histogram2d\":[{\"colorbar\":{\"outlinewidth\":0,\"ticks\":\"\"},\"colorscale\":[[0.0,\"#0d0887\"],[0.1111111111111111,\"#46039f\"],[0.2222222222222222,\"#7201a8\"],[0.3333333333333333,\"#9c179e\"],[0.4444444444444444,\"#bd3786\"],[0.5555555555555556,\"#d8576b\"],[0.6666666666666666,\"#ed7953\"],[0.7777777777777778,\"#fb9f3a\"],[0.8888888888888888,\"#fdca26\"],[1.0,\"#f0f921\"]],\"type\":\"histogram2d\"}],\"histogram2dcontour\":[{\"colorbar\":{\"outlinewidth\":0,\"ticks\":\"\"},\"colorscale\":[[0.0,\"#0d0887\"],[0.1111111111111111,\"#46039f\"],[0.2222222222222222,\"#7201a8\"],[0.3333333333333333,\"#9c179e\"],[0.4444444444444444,\"#bd3786\"],[0.5555555555555556,\"#d8576b\"],[0.6666666666666666,\"#ed7953\"],[0.7777777777777778,\"#fb9f3a\"],[0.8888888888888888,\"#fdca26\"],[1.0,\"#f0f921\"]],\"type\":\"histogram2dcontour\"}],\"mesh3d\":[{\"colorbar\":{\"outlinewidth\":0,\"ticks\":\"\"},\"type\":\"mesh3d\"}],\"parcoords\":[{\"line\":{\"colorbar\":{\"outlinewidth\":0,\"ticks\":\"\"}},\"type\":\"parcoords\"}],\"pie\":[{\"automargin\":true,\"type\":\"pie\"}],\"scatter\":[{\"marker\":{\"colorbar\":{\"outlinewidth\":0,\"ticks\":\"\"}},\"type\":\"scatter\"}],\"scatter3d\":[{\"line\":{\"colorbar\":{\"outlinewidth\":0,\"ticks\":\"\"}},\"marker\":{\"colorbar\":{\"outlinewidth\":0,\"ticks\":\"\"}},\"type\":\"scatter3d\"}],\"scattercarpet\":[{\"marker\":{\"colorbar\":{\"outlinewidth\":0,\"ticks\":\"\"}},\"type\":\"scattercarpet\"}],\"scattergeo\":[{\"marker\":{\"colorbar\":{\"outlinewidth\":0,\"ticks\":\"\"}},\"type\":\"scattergeo\"}],\"scattergl\":[{\"marker\":{\"colorbar\":{\"outlinewidth\":0,\"ticks\":\"\"}},\"type\":\"scattergl\"}],\"scattermapbox\":[{\"marker\":{\"colorbar\":{\"outlinewidth\":0,\"ticks\":\"\"}},\"type\":\"scattermapbox\"}],\"scatterpolar\":[{\"marker\":{\"colorbar\":{\"outlinewidth\":0,\"ticks\":\"\"}},\"type\":\"scatterpolar\"}],\"scatterpolargl\":[{\"marker\":{\"colorbar\":{\"outlinewidth\":0,\"ticks\":\"\"}},\"type\":\"scatterpolargl\"}],\"scatterternary\":[{\"marker\":{\"colorbar\":{\"outlinewidth\":0,\"ticks\":\"\"}},\"type\":\"scatterternary\"}],\"surface\":[{\"colorbar\":{\"outlinewidth\":0,\"ticks\":\"\"},\"colorscale\":[[0.0,\"#0d0887\"],[0.1111111111111111,\"#46039f\"],[0.2222222222222222,\"#7201a8\"],[0.3333333333333333,\"#9c179e\"],[0.4444444444444444,\"#bd3786\"],[0.5555555555555556,\"#d8576b\"],[0.6666666666666666,\"#ed7953\"],[0.7777777777777778,\"#fb9f3a\"],[0.8888888888888888,\"#fdca26\"],[1.0,\"#f0f921\"]],\"type\":\"surface\"}],\"table\":[{\"cells\":{\"fill\":{\"color\":\"#EBF0F8\"},\"line\":{\"color\":\"white\"}},\"header\":{\"fill\":{\"color\":\"#C8D4E3\"},\"line\":{\"color\":\"white\"}},\"type\":\"table\"}]},\"layout\":{\"annotationdefaults\":{\"arrowcolor\":\"#2a3f5f\",\"arrowhead\":0,\"arrowwidth\":1},\"autotypenumbers\":\"strict\",\"coloraxis\":{\"colorbar\":{\"outlinewidth\":0,\"ticks\":\"\"}},\"colorscale\":{\"diverging\":[[0,\"#8e0152\"],[0.1,\"#c51b7d\"],[0.2,\"#de77ae\"],[0.3,\"#f1b6da\"],[0.4,\"#fde0ef\"],[0.5,\"#f7f7f7\"],[0.6,\"#e6f5d0\"],[0.7,\"#b8e186\"],[0.8,\"#7fbc41\"],[0.9,\"#4d9221\"],[1,\"#276419\"]],\"sequential\":[[0.0,\"#0d0887\"],[0.1111111111111111,\"#46039f\"],[0.2222222222222222,\"#7201a8\"],[0.3333333333333333,\"#9c179e\"],[0.4444444444444444,\"#bd3786\"],[0.5555555555555556,\"#d8576b\"],[0.6666666666666666,\"#ed7953\"],[0.7777777777777778,\"#fb9f3a\"],[0.8888888888888888,\"#fdca26\"],[1.0,\"#f0f921\"]],\"sequentialminus\":[[0.0,\"#0d0887\"],[0.1111111111111111,\"#46039f\"],[0.2222222222222222,\"#7201a8\"],[0.3333333333333333,\"#9c179e\"],[0.4444444444444444,\"#bd3786\"],[0.5555555555555556,\"#d8576b\"],[0.6666666666666666,\"#ed7953\"],[0.7777777777777778,\"#fb9f3a\"],[0.8888888888888888,\"#fdca26\"],[1.0,\"#f0f921\"]]},\"colorway\":[\"#636efa\",\"#EF553B\",\"#00cc96\",\"#ab63fa\",\"#FFA15A\",\"#19d3f3\",\"#FF6692\",\"#B6E880\",\"#FF97FF\",\"#FECB52\"],\"font\":{\"color\":\"#2a3f5f\"},\"geo\":{\"bgcolor\":\"white\",\"lakecolor\":\"white\",\"landcolor\":\"#E5ECF6\",\"showlakes\":true,\"showland\":true,\"subunitcolor\":\"white\"},\"hoverlabel\":{\"align\":\"left\"},\"hovermode\":\"closest\",\"mapbox\":{\"style\":\"light\"},\"paper_bgcolor\":\"white\",\"plot_bgcolor\":\"#E5ECF6\",\"polar\":{\"angularaxis\":{\"gridcolor\":\"white\",\"linecolor\":\"white\",\"ticks\":\"\"},\"bgcolor\":\"#E5ECF6\",\"radialaxis\":{\"gridcolor\":\"white\",\"linecolor\":\"white\",\"ticks\":\"\"}},\"scene\":{\"xaxis\":{\"backgroundcolor\":\"#E5ECF6\",\"gridcolor\":\"white\",\"gridwidth\":2,\"linecolor\":\"white\",\"showbackground\":true,\"ticks\":\"\",\"zerolinecolor\":\"white\"},\"yaxis\":{\"backgroundcolor\":\"#E5ECF6\",\"gridcolor\":\"white\",\"gridwidth\":2,\"linecolor\":\"white\",\"showbackground\":true,\"ticks\":\"\",\"zerolinecolor\":\"white\"},\"zaxis\":{\"backgroundcolor\":\"#E5ECF6\",\"gridcolor\":\"white\",\"gridwidth\":2,\"linecolor\":\"white\",\"showbackground\":true,\"ticks\":\"\",\"zerolinecolor\":\"white\"}},\"shapedefaults\":{\"line\":{\"color\":\"#2a3f5f\"}},\"ternary\":{\"aaxis\":{\"gridcolor\":\"white\",\"linecolor\":\"white\",\"ticks\":\"\"},\"baxis\":{\"gridcolor\":\"white\",\"linecolor\":\"white\",\"ticks\":\"\"},\"bgcolor\":\"#E5ECF6\",\"caxis\":{\"gridcolor\":\"white\",\"linecolor\":\"white\",\"ticks\":\"\"}},\"title\":{\"x\":0.05},\"xaxis\":{\"automargin\":true,\"gridcolor\":\"white\",\"linecolor\":\"white\",\"ticks\":\"\",\"title\":{\"standoff\":15},\"zerolinecolor\":\"white\",\"zerolinewidth\":2},\"yaxis\":{\"automargin\":true,\"gridcolor\":\"white\",\"linecolor\":\"white\",\"ticks\":\"\",\"title\":{\"standoff\":15},\"zerolinecolor\":\"white\",\"zerolinewidth\":2}}},\"title\":{\"text\":\"Location of the customers with the longest delivery time\"}},                        {\"responsive\": true}                    ).then(function(){\n",
       "                            \n",
       "var gd = document.getElementById('80860550-5772-428f-a4a7-10842864f664');\n",
       "var x = new MutationObserver(function (mutations, observer) {{\n",
       "        var display = window.getComputedStyle(gd).display;\n",
       "        if (!display || display === 'none') {{\n",
       "            console.log([gd, 'removed!']);\n",
       "            Plotly.purge(gd);\n",
       "            observer.disconnect();\n",
       "        }}\n",
       "}});\n",
       "\n",
       "// Listen for the removal of the full notebook cells\n",
       "var notebookContainer = gd.closest('#notebook-container');\n",
       "if (notebookContainer) {{\n",
       "    x.observe(notebookContainer, {childList: true});\n",
       "}}\n",
       "\n",
       "// Listen for the clearing of the current output cell\n",
       "var outputEl = gd.closest('.output');\n",
       "if (outputEl) {{\n",
       "    x.observe(outputEl, {childList: true});\n",
       "}}\n",
       "\n",
       "                        })                };                });            </script>        </div>"
      ]
     },
     "metadata": {},
     "output_type": "display_data"
    }
   ],
   "source": [
    "# Visualize the longest delivery time for customers\n",
    "fig = px.scatter_mapbox(data_all_agg[data_all_agg.delivery_time_hours > 2000], \n",
    "                        lat=\"customer_lat\", \n",
    "                        lon=\"customer_lng\", \n",
    "                        color=\"delivery_time_hours\", \n",
    "                        color_continuous_scale=px.colors.cyclical.IceFire, size_max=30, zoom=2,\n",
    "                        mapbox_style=\"carto-positron\",\n",
    "                        title='Location of the customers with the longest delivery time')\n",
    "fig.show()"
   ]
  },
  {
   "cell_type": "code",
   "execution_count": 44,
   "id": "stretch-counter",
   "metadata": {},
   "outputs": [
    {
     "data": {
      "text/plain": [
       "SP    22\n",
       "RJ    21\n",
       "BA    11\n",
       "ES     5\n",
       "CE     5\n",
       "PE     4\n",
       "PA     3\n",
       "MG     3\n",
       "RS     2\n",
       "PR     2\n",
       "PB     2\n",
       "SC     2\n",
       "GO     2\n",
       "SE     2\n",
       "PI     2\n",
       "RN     1\n",
       "MA     1\n",
       "AL     1\n",
       "AP     1\n",
       "AM     1\n",
       "RR     1\n",
       "Name: customer_state, dtype: int64"
      ]
     },
     "execution_count": 44,
     "metadata": {},
     "output_type": "execute_result"
    }
   ],
   "source": [
    "# Check regions with the slowest delivery to customers\n",
    "data_all_agg[data_all_agg.delivery_time_hours > 2000]['customer_state'].value_counts()"
   ]
  },
  {
   "cell_type": "code",
   "execution_count": 45,
   "id": "requested-estonia",
   "metadata": {},
   "outputs": [
    {
     "data": {
      "text/plain": [
       "rio de janeiro    14\n",
       "sao paulo          7\n",
       "salvador           3\n",
       "teresina           2\n",
       "fortaleza          2\n",
       "Name: customer_city, dtype: int64"
      ]
     },
     "execution_count": 45,
     "metadata": {},
     "output_type": "execute_result"
    }
   ],
   "source": [
    "# Check regions with the slowest delivery to customers\n",
    "data_all_agg[data_all_agg.delivery_time_hours > 2000]['customer_city'].value_counts()[:5]"
   ]
  },
  {
   "cell_type": "code",
   "execution_count": 46,
   "id": "superior-fusion",
   "metadata": {},
   "outputs": [
    {
     "data": {
      "application/vnd.plotly.v1+json": {
       "config": {
        "plotlyServerURL": "https://plot.ly"
       },
       "data": [
        {
         "hovertemplate": "seller_lat=%{lat}<br>seller_lng=%{lon}<br>delivery_speed_km_per_hour=%{marker.color}<extra></extra>",
         "lat": [
          -18.65264443369265,
          -2.501242200626004,
          -22.54079651100627,
          -22.829351276710423,
          -3.766765995603741,
          -23.69101304628181,
          -23.53804880179313,
          -23.552336441109283,
          -23.53755537000389,
          -29.919402974839493,
          -19.89457420752632,
          -23.538268511790665,
          -22.988257375889454,
          -19.90612056261318,
          -8.049884228325219,
          -23.652366177840182,
          -23.652366177840182,
          -23.515977900238106,
          -23.515977900238106,
          -23.21686067703018,
          -23.552336441109283,
          -23.31247663924116,
          -22.32247412421865,
          -23.589847401363585,
          -23.512459731266134,
          -24.00892314920891,
          -24.026525667888205,
          -23.49993790539783,
          -8.135890720198347,
          -23.52039186756291,
          -28.290552519798347,
          -25.45693388285516,
          -19.86949505446246,
          -26.28730662064822,
          -23.539899237124576,
          -23.66130475506377,
          -19.94300350459581,
          -25.45693388285516,
          -29.919402974839493,
          -21.75732063771277,
          -8.135890720198347,
          -23.652366177840182,
          -23.46817509806932,
          -23.48968789588101,
          -23.66130475506377,
          -23.37087914790086,
          -23.62020569014463,
          -23.65936363644085,
          -19.95608602662569,
          -23.53994436316013,
          -27.81772374608258,
          -2.501242200626004,
          -29.19085626647707,
          -23.492024033814,
          -23.551881657731418,
          -23.57601657708377,
          -22.805706631753825,
          -23.442890814200968,
          -2.501242200626004,
          -23.552336441109283,
          -23.436153784043967,
          -23.48968789588101,
          -23.48968789588101,
          -2.501242200626004,
          -30.03321276448013,
          -22.41292693577841,
          -19.9178260281884,
          -23.551881657731418,
          -25.430144074286265,
          -22.1362294598616,
          -8.135890720198347,
          -23.93357260989164,
          -25.448990860825614,
          -28.290552519798347,
          -22.721605279768426,
          -2.501242200626004,
          -24.296024477069253,
          -22.892057554565948,
          -12.89316674808706,
          -23.60497215144589,
          -21.469600955340287,
          -23.546530378903565,
          -19.86949505446246,
          -8.135890720198347,
          -23.652366177840182,
          -23.587353600670152,
          -22.9042136924814,
          -23.676569848880845,
          -29.919402974839493,
          -19.918527030159275,
          -21.35993680296325,
          -30.03321276448013,
          -22.57812624091892,
          -2.501242200626004,
          -23.652366177840182,
          -8.135890720198347,
          -30.03321276448013,
          -2.501242200626004,
          -22.93526347623966,
          -20.536613759556865,
          -23.519193185045896,
          -23.652366177840182,
          -23.543150156894832,
          -6.491794555348289,
          -23.96974624488773,
          -23.44990733896688,
          -22.85547822328912,
          -30.03321276448013,
          -23.589847401363585,
          -9.024839005157318,
          -23.53631040591802,
          -22.757882920125365,
          -23.595498594800542,
          -29.90495069395657,
          -8.135890720198347,
          -22.92496986205362,
          -23.65936363644085,
          -19.9264100998534,
          -23.531234542419785,
          -23.37087914790086,
          -29.19085626647707,
          -23.552336441109283,
          -23.522840094345344,
          -2.501242200626004,
          -25.41804942777255,
          -19.92056947090005,
          -20.27851289140612,
          -8.135890720198347,
          -29.95269333551592,
          -22.110680580939565,
          -22.88170855771708,
          -22.892057554565948,
          -26.914469334728032,
          -19.9178260281884,
          -23.66130475506377,
          -23.53994436316013,
          -28.871905438293474,
          -23.541812281010863,
          -22.41292693577841,
          -23.6346070261456,
          -29.919402974839493,
          -23.652366177840182,
          -22.43118412282637,
          -2.501242200626004,
          -23.541812243632904,
          -19.884069370503447,
          -8.135890720198347,
          -26.89066585414966,
          -23.56880146453725,
          -23.580395310431417,
          -23.71504959465716,
          -2.501242200626004,
          -8.135890720198347,
          -29.919402974839493,
          -19.951799038267147,
          -23.541905853440447,
          -6.837168594957801,
          -23.59383917278593,
          -23.66130475506377,
          -19.84757316684865,
          -8.135890720198347,
          -20.832044636563623,
          -2.501242200626004,
          -16.664457060457906,
          -22.54079651100627,
          -21.75732063771277,
          -23.543150156894832,
          -2.501242200626004,
          -24.95918428429228,
          -23.484769700217907,
          -23.53994436316013,
          -18.921397435860243,
          -23.52039186756291,
          -26.04430566637632,
          -23.533798010777897,
          -23.65936363644085,
          -2.501242200626004,
          -21.803200599395232,
          -22.655502343064512,
          -23.652366177840182,
          -23.57127586906545,
          -29.919402974839493,
          -23.552336441109283,
          -27.81772374608258,
          -19.85461537734019,
          -8.135890720198347,
          -23.188409628905863,
          -23.66130475506377,
          -23.5058713385214,
          -23.65936363644085,
          -23.53103954223585,
          -23.65936363644085,
          -15.81319450570022,
          -23.652366177840182,
          -8.135890720198347,
          -29.95269333551592,
          -23.37087914790086,
          -21.75732063771277,
          -23.747947364049548,
          -23.680729252163324,
          -23.54706743134006,
          -3.766765995603741,
          -15.827493762553392,
          -23.48892715522341,
          -23.114730524308005,
          -22.88998236045834,
          -22.96169371848569,
          -23.553659985884053,
          -23.302318252316944,
          -23.652366177840182,
          -23.589847401363585,
          -2.501242200626004,
          -22.92496986205362,
          -23.652366177840182,
          -23.515977900238106,
          -6.837168594957801,
          -3.717490463103508,
          -21.803200599395232,
          -23.515977900238106,
          -23.543150156894832,
          -23.552336441109283,
          -23.541812243632904,
          -2.501242200626004,
          -22.1362294598616,
          -22.740325486164828,
          -23.65936363644085,
          -8.135890720198347,
          -8.766194545807494,
          -19.951799038267147,
          -8.135890720198347,
          -23.209471278916475,
          -23.67120903205988,
          -12.89316674808706,
          -24.026525667888205,
          -20.81912074784063,
          -20.27851289140612,
          -23.53965712727096,
          -23.5048912112042,
          -23.561456812728604,
          -22.8221365108088,
          -5.886563452788081,
          -23.59680394879425,
          -22.97545814072231,
          -23.652366177840182,
          -23.71504959465716,
          -23.179531489945607,
          -18.92408019816437,
          -3.766765995603741,
          -28.29124464593788,
          -8.058867141399071,
          -29.68433084309637,
          -19.506713154390688,
          -22.735332235607448,
          -22.1362294598616,
          -8.766194545807494,
          -29.68433084309637,
          -22.425778361057304,
          -23.68166159783415,
          -3.766765995603741,
          -25.36747499672607,
          -23.65936363644085,
          -30.00818156770628,
          -23.552336441109283,
          -23.65936363644085,
          -22.033506163362222,
          -23.46870426001278,
          -15.80698607290208,
          -30.01552834486621,
          -23.503984838767177,
          -23.652366177840182,
          -2.501242200626004,
          -23.552336441109283,
          -23.587353600670152,
          -23.635529881663825,
          -2.501242200626004,
          -23.31812709264707,
          -19.89457420752632,
          -23.6913846262179,
          -8.135890720198347,
          -30.03321276448013,
          -23.580395310431417,
          -23.59277554744454,
          -23.47874415112702,
          -22.829351276710423,
          -27.4198423877185,
          -22.837911776525186,
          -23.69101304628181,
          -8.135890720198347,
          -23.525219436926424,
          -19.89457420752632,
          -2.501242200626004,
          -12.89316674808706,
          -23.62547545562188,
          -6.837168594957801,
          -26.94994268763476,
          -23.551881657731418,
          -23.69101304628181,
          -8.135890720198347,
          -22.38340773030761,
          -23.70019768743884,
          -23.95460047631286,
          -23.47874415112702,
          -22.93526347623966,
          -22.743646919862503,
          -22.757882920125365,
          -23.543150156894832,
          -19.86949505446246,
          -25.46101647360314,
          -23.595498594800542,
          -23.04955173261455,
          -23.66130475506377,
          -23.652366177840182,
          -22.740325486164828,
          -23.543150156894832,
          -23.114730524308005,
          -30.03321276448013,
          -21.172861452750706,
          -22.892057554565948,
          -23.560182683752867,
          -23.589847401363585,
          -28.32938171277176,
          -25.43364816532121,
          -2.501242200626004,
          -12.901987911198416,
          -20.52861928433883,
          -2.501242200626004,
          -25.4699735553138,
          -19.90612056261318,
          -23.652366177840182,
          -23.62547545562188,
          -8.135890720198347,
          -2.501242200626004,
          -23.47281465844908,
          -3.905726996478778,
          -25.45693388285516,
          -23.44053398829077,
          -30.03321276448013,
          -23.718907865445058,
          -2.501242200626004,
          -28.29124464593788,
          -29.69420437579113,
          -23.65936363644085,
          -22.1362294598616,
          -23.62274809500327,
          -22.99576186030152,
          -23.652366177840182,
          -23.62547545562188,
          -30.077760743041143,
          -23.65936363644085,
          -23.680729252163324,
          -2.501242200626004,
          -25.513673225973893,
          -22.953714882106723,
          -23.21174633273221,
          -24.711673570658885,
          -21.75732063771277,
          -25.4699735553138,
          -23.53624654014997,
          -22.8221365108088,
          -22.60000425928191,
          -23.73885547032336,
          -3.717490463103508,
          -20.46253562176836,
          -25.42197753948749,
          -22.822624306841355,
          -23.436153784043967,
          -23.543150156894832,
          -23.41304547340984,
          -23.66130475506377,
          -8.135890720198347,
          -23.578171603805533,
          -2.501242200626004,
          -23.539553595497527,
          -29.68780422662314,
          -15.838225542625707,
          -8.135890720198347,
          -28.290552519798347,
          -23.541905853440447,
          -26.232193978218582,
          -5.886563452788081,
          -25.45693388285516,
          -24.00892314920891,
          -28.29124464593788,
          -23.580395310431417,
          -25.441571360403625,
          -23.526306422402715,
          -30.03321276448013,
          -23.652366177840182,
          -23.65936363644085,
          -22.26258413023529,
          -2.501242200626004,
          -2.501242200626004,
          -2.501242200626004,
          -23.570211693584675,
          -19.951799038267147,
          -19.951799038267147,
          -2.501242200626004,
          -8.135890720198347,
          -23.543000459064807,
          -2.501242200626004,
          -22.285564358190715,
          -23.57127586906545,
          -23.37087914790086,
          -2.501242200626004,
          -23.589847401363585,
          -2.501242200626004,
          -23.50320576014991,
          -19.86949505446246,
          -23.493718851420663,
          -23.08992524585618,
          -8.135890720198347,
          -22.430217898121057,
          -2.501242200626004,
          -19.836057733815164,
          -22.555991404059704,
          -23.550472430843698,
          -2.501242200626004,
          -22.92496986205362,
          -23.747947364049548,
          -23.44565538225258,
          -23.65936363644085,
          -23.605514428769723,
          -23.652366177840182,
          -23.484769700217907,
          -23.45763338134832,
          -23.652366177840182,
          -22.757882920125365,
          -23.21174633273221,
          -23.53994436316013,
          -23.66130475506377,
          -23.114730524308005,
          -23.541905853440447,
          -27.81772374608258,
          -25.45693388285516,
          -8.12050227334272,
          -30.077760743041143,
          -30.03321276448013,
          -23.652366177840182,
          -22.93198016932755,
          -19.86949505446246,
          -23.651458409656644,
          -25.36747499672607,
          -23.613258022164977,
          -8.135890720198347,
          -23.652366177840182,
          -22.73701486100054,
          -19.89457420752632,
          -23.48686598302112,
          -23.724055488204502,
          -8.135890720198347,
          -19.807680657862143,
          -23.652366177840182,
          -28.633920987357754,
          -23.493718851420663,
          -22.100315101836674,
          -8.135890720198347,
          -23.65936363644085,
          -22.26258413023529,
          -30.03321276448013,
          -23.50486890861525,
          -23.515977900238106,
          -23.48968789588101,
          -23.65936363644085,
          -23.652366177840182,
          -23.53965712727096,
          -2.501242200626004,
          -23.652366177840182,
          -2.501242200626004,
          -25.469955086957725,
          -25.513673225973893,
          -22.213865032134283,
          -19.91337994376673,
          -19.918527030159275,
          -30.03321276448013,
          -24.00892314920891,
          -23.528549092116897,
          -21.75732063771277,
          -23.652366177840182,
          -2.501242200626004,
          -15.880162327315896,
          -23.62057801188256,
          -23.62547545562188,
          -23.37087914790086,
          -8.135890720198347,
          -30.03321276448013,
          -23.68166159783415,
          -23.59345494924625,
          -24.966466359942885,
          -23.57669802149096,
          -16.690437557318464,
          -25.612764068813902,
          -23.53965712727096,
          -8.135890720198347,
          -23.62547545562188,
          -2.501242200626004,
          -8.135890720198347,
          -25.394747235498823,
          -23.53103954223585,
          -23.42946359631355,
          -28.290552519798347,
          -8.135890720198347,
          -8.135890720198347,
          -19.84757316684865,
          -23.652366177840182,
          -23.63500525801046,
          -8.135890720198347,
          -22.892057554565948,
          -2.501242200626004,
          -23.302318252316944,
          -23.46870426001278,
          -23.595498594800542,
          -19.760188995545462,
          -23.541812243632904,
          -23.559131335715936,
          -28.290552519798347,
          -23.5272590329992,
          -23.202268092167245,
          -26.91187688025885,
          -25.46101647360314,
          -2.501242200626004,
          -23.410633365293403,
          -8.135890720198347,
          -29.40523713119915,
          -2.501242200626004,
          -8.135890720198347,
          -21.21170599189456,
          -23.53243832363705,
          -23.589847401363585,
          -30.03321276448013,
          -15.813933452398985,
          -23.55364177873547,
          -23.69118300968993,
          -19.951799038267147,
          -27.81772374608258,
          -11.83455242799876,
          -8.135890720198347,
          -23.66385515483215,
          -23.652366177840182,
          -23.69101304628181,
          -23.552336441109283,
          -23.531424390734568,
          -22.868363814263645,
          -23.552336441109283,
          -8.045413124545014,
          -28.290552519798347,
          -19.9264100998534,
          -30.077760743041143,
          -23.515977900238106,
          -22.757096912776348,
          -23.652366177840182,
          -23.42946359631355,
          -21.3635017097994,
          -26.226411667053,
          -22.285564358190715,
          -30.03321276448013,
          -23.003301740276893,
          -23.55305446892853,
          -12.89316674808706,
          -19.45799501338864,
          -20.46253562176836,
          -11.304164446373438,
          -23.04955173261455,
          -23.503984838767177,
          -30.03321276448013,
          -8.135890720198347,
          -23.652366177840182,
          -30.03058947301783,
          -29.68433084309637,
          -22.892057554565948,
          -2.501242200626004,
          -23.595498594800542,
          -30.00648930091964,
          -23.425555705619,
          -23.719576291836983,
          -23.652366177840182,
          -21.3635017097994,
          -16.696727724111284,
          -25.456349625618472,
          -27.10572411117105,
          -23.652366177840182,
          -2.501242200626004,
          -22.93526347623966,
          -21.83491864103435,
          -23.652366177840182,
          -8.135890720198347,
          -23.6346070261456,
          -20.43232199650956,
          -26.610216926670343,
          -23.530395619220247,
          -23.48115800015399,
          -23.21174633273221,
          -23.553659985884053,
          -23.541905853440447,
          -22.43118412282637,
          -19.9318555870041,
          -5.886563452788081,
          -24.951755468655858,
          -25.38230981687026,
          -23.580395310431417,
          -23.69118300968993,
          -23.522840094345344,
          -2.501242200626004,
          -30.03321276448013,
          -23.595498594800542,
          -22.767878146745,
          -23.525428760068145,
          -19.89744032717272,
          -3.786626668221328,
          -23.69101304628181,
          -25.53849934881501,
          -19.9178260281884,
          -23.59250411503919,
          -25.44178653148089,
          -22.769600179710007,
          -3.717490463103508,
          -23.589847401363585,
          -25.51124719435153,
          -25.437225932288545,
          -25.469955086957725,
          -22.9140200060427,
          -8.135890720198347,
          -23.54339460016357,
          -21.75732063771277,
          -21.75732063771277,
          -23.37087914790086,
          -23.53965712727096,
          -22.55124525869924,
          -23.70019768743884,
          -8.135890720198347,
          -23.587353600670152,
          -23.652366177840182,
          -23.519193185045896,
          -2.501242200626004,
          -22.92496986205362,
          -25.45693388285516,
          -23.62547545562188,
          -23.50893894612541,
          -22.91624456473871,
          -30.01552834486621,
          -26.2644850091146,
          -29.16744881112399,
          -30.03321276448013,
          -19.86949505446246,
          -30.077760743041143,
          -23.522840094345344,
          -23.521944210545936,
          -23.54890998191391,
          -19.89457420752632,
          -29.68433084309637,
          -2.501242200626004,
          -30.00818156770628,
          -22.892057554565948,
          -27.00447650803857,
          -5.12360945433745,
          -8.135890720198347,
          -23.492024033814,
          -23.652366177840182,
          -22.905686000249105,
          -23.209471278916475,
          -23.652366177840182,
          -22.8221365108088,
          -22.892057554565948,
          -18.50726515886232,
          -14.223207197286875,
          -2.501242200626004,
          -19.884069370503447,
          -29.919402974839493,
          -23.66130475506377,
          -23.04955173261455,
          -23.50832107138193,
          -18.77576518394664,
          -19.506713154390688,
          -23.427901225690103,
          -27.60657304539599,
          -23.59494035584984,
          -19.86949505446246,
          -2.501242200626004,
          -22.757882920125365,
          -29.674727503663902,
          -2.501242200626004,
          -23.57727689232054,
          -23.53983233291429,
          -23.21174633273221,
          -23.5711528559151,
          -23.589847401363585,
          -23.652366177840182,
          -25.54232647353517,
          -23.53994436316013,
          -23.589847401363585,
          -23.550472430843698,
          -23.10162100644003,
          -23.65936363644085,
          -27.21992557329001,
          -23.652366177840182,
          -26.32827519256354,
          -23.580395310431417,
          -8.135890720198347,
          -23.484769700217907,
          -30.00818156770628,
          -23.543150156894832,
          -29.919402974839493,
          -23.7639730208048,
          -23.58741915450063,
          -22.892057554565948,
          -22.740325486164828,
          -23.515977900238106,
          -2.501242200626004,
          -23.538268511790665,
          -23.69101304628181,
          -22.979900329721083,
          -22.767878146745,
          -23.543150156894832,
          -23.490758745356786,
          -19.760188995545462,
          -23.552336441109283
         ],
         "legendgroup": "",
         "lon": [
          -46.60072914501389,
          -44.24816336596759,
          -43.20123507158808,
          -43.01399541493808,
          -38.65536409195578,
          -46.703810106207634,
          -46.5065203579325,
          -46.53686856423848,
          -46.53822847017662,
          -51.14505892899358,
          -43.931234581848464,
          -46.63942263256764,
          -46.85396269506087,
          -43.92370433417947,
          -34.90083430094547,
          -46.75575337195744,
          -46.75575337195744,
          -46.54737185794935,
          -46.54737185794935,
          -45.908593804889406,
          -46.53686856423848,
          -51.36500347341602,
          -49.02934087244578,
          -46.632613806421325,
          -46.50082148805862,
          -46.41912533835566,
          -46.47823694263504,
          -46.51858686166485,
          -34.93253582376317,
          -46.37405086923973,
          -54.26251143307887,
          -49.30945498395364,
          -43.95094395435073,
          -48.8518015892504,
          -46.5474065279164,
          -46.564296407294165,
          -44.1136240110523,
          -49.30945498395364,
          -51.14505892899358,
          -48.82974353343713,
          -34.93253582376317,
          -46.75575337195744,
          -46.72025344447433,
          -46.952915158144144,
          -46.564296407294165,
          -46.84796832895859,
          -46.56414467348053,
          -46.523183340521726,
          -44.05212106582629,
          -46.439816187506,
          -50.330752255444736,
          -44.24816336596759,
          -51.23023949816572,
          -46.72898406045395,
          -46.64072797271628,
          -46.74118636634989,
          -43.42307905240662,
          -46.50673902926125,
          -44.24816336596759,
          -46.53686856423848,
          -46.55233201188834,
          -46.952915158144144,
          -46.952915158144144,
          -44.24816336596759,
          -51.231437899598326,
          -47.5792958770093,
          -43.942417941975386,
          -46.64072797271628,
          -49.28531986744622,
          -51.3724500454798,
          -34.93253582376317,
          -46.32962527759821,
          -49.28860985729242,
          -54.26251143307887,
          -46.844150475904215,
          -44.24816336596759,
          -53.3145970174448,
          -47.08244278411783,
          -38.33787462509412,
          -46.62000602777737,
          -49.22221684743829,
          -46.56533761884633,
          -43.95094395435073,
          -34.93253582376317,
          -46.75575337195744,
          -46.61525833895384,
          -47.05654899637806,
          -46.66989690432334,
          -51.14505892899358,
          -43.93988998298764,
          -48.07391298482992,
          -51.231437899598326,
          -44.96154905740904,
          -44.24816336596759,
          -46.75575337195744,
          -34.93253582376317,
          -51.231437899598326,
          -44.24816336596759,
          -43.18726357297112,
          -47.43358387554184,
          -46.53363245277436,
          -46.75575337195744,
          -46.49010130952279,
          -37.451862106329045,
          -46.321938826751385,
          -46.56294917650381,
          -46.31950127100399,
          -51.231437899598326,
          -46.632613806421325,
          -36.57020044972058,
          -46.65711200863415,
          -47.41705497247527,
          -46.559726963517065,
          -51.07030394103,
          -34.93253582376317,
          -47.07428354596361,
          -46.523183340521726,
          -43.94586443137008,
          -46.50691508220304,
          -46.84796832895859,
          -51.23023949816572,
          -46.53686856423848,
          -46.1955458411618,
          -44.24816336596759,
          -49.24877341863132,
          -44.02640958503362,
          -40.41167522341208,
          -34.93253582376317,
          -51.097790640776445,
          -51.399092120481285,
          -47.0504642669472,
          -47.08244278411783,
          -49.112263234420354,
          -43.942417941975386,
          -46.564296407294165,
          -46.439816187506,
          -52.18011144119088,
          -46.73068651777817,
          -47.5792958770093,
          -46.735881844474896,
          -51.14505892899358,
          -46.75575337195744,
          -42.9702210850494,
          -44.24816336596759,
          -46.62455025944192,
          -44.02242139461151,
          -34.93253582376317,
          -48.65532838709397,
          -46.57173940927547,
          -46.59132639890193,
          -46.53726820837794,
          -44.24816336596759,
          -34.93253582376317,
          -51.14505892899358,
          -44.196037480396015,
          -46.63508761691669,
          -35.126887193067326,
          -46.61645866896796,
          -46.564296407294165,
          -44.02943024506619,
          -34.93253582376317,
          -49.35334480373747,
          -44.24816336596759,
          -49.24469282203206,
          -43.20123507158808,
          -46.53686856423848,
          -46.49010130952279,
          -44.24816336596759,
          -53.46264400005701,
          -46.73414273203397,
          -46.439816187506,
          -46.60072914501389,
          -46.37405086923973,
          -53.0637135521321,
          -46.517872723882775,
          -46.523183340521726,
          -44.24816336596759,
          -49.60221269289015,
          -50.42571007913951,
          -46.75575337195744,
          -46.479396724588405,
          -51.14505892899358,
          -46.53686856423848,
          -50.330752255444736,
          -43.914739731934176,
          -34.93253582376317,
          -46.85398781828784,
          -46.564296407294165,
          -46.62468256911272,
          -46.523183340521726,
          -46.51583258285473,
          -46.523183340521726,
          -47.89330451642298,
          -46.75575337195744,
          -34.93253582376317,
          -51.097790640776445,
          -46.84796832895859,
          -48.82974353343713,
          -46.68180588603656,
          -46.44423827270244,
          -46.52164439061696,
          -38.65536409195578,
          -47.92443250257791,
          -46.66091832100332,
          -46.552880539877926,
          -47.19898012005197,
          -46.52385416525664,
          -46.45695782334157,
          -45.97188817895197,
          -46.75575337195744,
          -46.632613806421325,
          -44.24816336596759,
          -47.07428354596361,
          -46.75575337195744,
          -46.54737185794935,
          -35.126887193067326,
          -38.59928475757382,
          -49.60221269289015,
          -46.54737185794935,
          -46.49010130952279,
          -46.53686856423848,
          -46.62455025944192,
          -44.24816336596759,
          -51.3724500454798,
          -46.89675369133934,
          -46.523183340521726,
          -34.93253582376317,
          -42.92677954827477,
          -44.196037480396015,
          -34.93253582376317,
          -47.30922889223856,
          -46.49116730072025,
          -38.33787462509412,
          -46.47823694263504,
          -46.53686856423848,
          -40.41167522341208,
          -46.63188421270581,
          -46.726588049747335,
          -46.63294793571506,
          -47.27033542521254,
          -35.20824131593824,
          -46.63462180317358,
          -47.00268239234955,
          -46.75575337195744,
          -46.53726820837794,
          -47.31338383666045,
          -48.24926718659151,
          -38.65536409195578,
          -52.79025576343903,
          -34.90021057469489,
          -51.09298402937748,
          -42.6286140396501,
          -47.17665406567105,
          -51.3724500454798,
          -63.89356545864416,
          -51.09298402937748,
          -47.560436700322384,
          -46.623333307785806,
          -38.65536409195578,
          -49.18419913151328,
          -46.523183340521726,
          -51.20130443913633,
          -46.53686856423848,
          -46.523183340521726,
          -47.90892483428426,
          -46.51614189492681,
          -48.104958853481016,
          -51.16270825237461,
          -46.6256721599388,
          -46.75575337195744,
          -44.24816336596759,
          -46.53686856423848,
          -46.61525833895384,
          -46.69403108090457,
          -44.24816336596759,
          -51.1571364228282,
          -43.931234581848464,
          -46.54373229668177,
          -34.93253582376317,
          -51.231437899598326,
          -46.59132639890193,
          -46.60119064355825,
          -46.58831651709552,
          -43.01399541493808,
          -48.42646639542672,
          -43.322271046058205,
          -46.703810106207634,
          -34.93253582376317,
          -46.51702870503608,
          -43.931234581848464,
          -44.24816336596759,
          -38.33787462509412,
          -46.61200044104113,
          -35.126887193067326,
          -49.07692500050797,
          -46.64072797271628,
          -46.703810106207634,
          -34.93253582376317,
          -46.93598735087051,
          -46.51312842218974,
          -46.3377311534732,
          -46.58831651709552,
          -43.18726357297112,
          -47.31203571315089,
          -47.41705497247527,
          -46.49010130952279,
          -43.95094395435073,
          -49.231063871318334,
          -46.559726963517065,
          -47.83762131131263,
          -46.564296407294165,
          -46.75575337195744,
          -46.89675369133934,
          -46.49010130952279,
          -46.552880539877926,
          -51.231437899598326,
          -47.82369973956138,
          -47.08244278411783,
          -46.60439300394289,
          -46.632613806421325,
          -49.176644834659655,
          -49.26917337587714,
          -44.24816336596759,
          -38.40540238991362,
          -47.38740999652927,
          -44.24816336596759,
          -49.30737230197128,
          -43.92370433417947,
          -46.75575337195744,
          -46.61200044104113,
          -34.93253582376317,
          -44.24816336596759,
          -46.60072914501389,
          -40.74612755881526,
          -49.30945498395364,
          -46.46281463364434,
          -51.231437899598326,
          -46.39471606155454,
          -44.24816336596759,
          -52.79025576343903,
          -51.23318877432423,
          -46.523183340521726,
          -51.3724500454798,
          -52.47011837512829,
          -46.70246251262529,
          -46.75575337195744,
          -46.61200044104113,
          -51.05330632286344,
          -46.523183340521726,
          -46.44423827270244,
          -44.24816336596759,
          -49.25560607832763,
          -45.839550230520295,
          -46.76287513805131,
          -53.747606481343865,
          -48.82974353343713,
          -49.30737230197128,
          -46.66166521796584,
          -47.27033542521254,
          -47.407128587319605,
          -46.447140971353605,
          -38.59928475757382,
          -45.43305899816512,
          -49.27871218867798,
          -43.00309374212152,
          -46.55233201188834,
          -46.49010130952279,
          -46.72367775577436,
          -46.564296407294165,
          -34.93253582376317,
          -46.5073074074444,
          -44.24816336596759,
          -46.70471877885835,
          -51.46796398824514,
          -48.053400718858086,
          -34.93253582376317,
          -54.26251143307887,
          -46.63508761691669,
          -49.411882265954304,
          -35.20824131593824,
          -49.30945498395364,
          -46.41912533835566,
          -52.79025576343903,
          -46.59132639890193,
          -49.26687451387349,
          -46.84569408911501,
          -51.231437899598326,
          -46.75575337195744,
          -46.523183340521726,
          -46.17112394057632,
          -44.24816336596759,
          -44.24816336596759,
          -44.24816336596759,
          -46.71083963489561,
          -44.196037480396015,
          -44.196037480396015,
          -44.24816336596759,
          -34.93253582376317,
          -46.63214323386248,
          -44.24816336596759,
          -48.53505780924213,
          -46.479396724588405,
          -46.84796832895859,
          -44.24816336596759,
          -46.632613806421325,
          -44.24816336596759,
          -46.42228420833628,
          -43.95094395435073,
          -46.54618856351207,
          -46.61165422508776,
          -34.93253582376317,
          -46.57340512991158,
          -44.24816336596759,
          -43.94538236770013,
          -47.422060378397546,
          -46.53884595688125,
          -44.24816336596759,
          -47.07428354596361,
          -46.68180588603656,
          -46.54152485277401,
          -46.523183340521726,
          -46.49030091198302,
          -46.75575337195744,
          -46.73414273203397,
          -46.650404148793,
          -46.75575337195744,
          -46.53686856423848,
          -46.76287513805131,
          -46.439816187506,
          -46.564296407294165,
          -46.552880539877926,
          -46.63508761691669,
          -50.330752255444736,
          -49.30945498395364,
          -35.296470274753084,
          -51.05330632286344,
          -51.231437899598326,
          -46.75575337195744,
          -47.11184149169856,
          -43.95094395435073,
          -46.66726499000773,
          -49.18419913151328,
          -46.68995373230166,
          -34.93253582376317,
          -46.75575337195744,
          -43.56361873677635,
          -43.931234581848464,
          -46.67379824356865,
          -46.85665731168744,
          -34.93253582376317,
          -43.98042684085742,
          -46.75575337195744,
          -49.02415747436295,
          -46.54618856351207,
          -51.40735633783322,
          -34.93253582376317,
          -46.523183340521726,
          -46.17112394057632,
          -51.231437899598326,
          -46.68260221605633,
          -46.54737185794935,
          -46.952915158144144,
          -46.523183340521726,
          -46.75575337195744,
          -46.63188421270581,
          -44.24816336596759,
          -46.75575337195744,
          -44.24816336596759,
          -49.28982106037588,
          -49.25560607832763,
          -49.95851972439901,
          -43.95870189476292,
          -43.93988998298764,
          -51.231437899598326,
          -46.41912533835566,
          -46.779788326644095,
          -48.82974353343713,
          -46.75575337195744,
          -44.24816336596759,
          -47.81695942803694,
          -46.52740978640328,
          -46.61200044104113,
          -46.84796832895859,
          -34.93253582376317,
          -51.231437899598326,
          -46.623333307785806,
          -46.55235596542038,
          -53.466729765315804,
          -46.71705184930481,
          -49.32701527508711,
          -49.37234951517323,
          -46.63188421270581,
          -34.93253582376317,
          -46.61200044104113,
          -44.24816336596759,
          -34.93253582376317,
          -49.34443757980696,
          -46.51583258285473,
          -46.54959010802119,
          -54.26251143307887,
          -34.93253582376317,
          -34.93253582376317,
          -44.02943024506619,
          -46.75575337195744,
          -46.59911604502151,
          -34.93253582376317,
          -47.08244278411783,
          -44.24816336596759,
          -45.97188817895197,
          -46.51614189492681,
          -46.559726963517065,
          -47.93914526044794,
          -46.62455025944192,
          -46.50884108313166,
          -54.26251143307887,
          -46.61149456906234,
          -45.89802848030465,
          -48.65639411001171,
          -49.231063871318334,
          -44.24816336596759,
          -46.44516359725996,
          -34.93253582376317,
          -51.32578918258865,
          -44.24816336596759,
          -34.93253582376317,
          -50.40363945155295,
          -46.56432027972277,
          -46.632613806421325,
          -51.231437899598326,
          -47.94702492834328,
          -46.45266128745551,
          -46.67958429464096,
          -44.196037480396015,
          -50.330752255444736,
          -55.50810988391813,
          -34.93253582376317,
          -46.68579217808032,
          -46.75575337195744,
          -46.703810106207634,
          -46.53686856423848,
          -47.13442765046271,
          -43.46923216795061,
          -46.53686856423848,
          -34.89447935380134,
          -54.26251143307887,
          -43.94586443137008,
          -51.05330632286344,
          -46.54737185794935,
          -47.37609423222237,
          -46.75575337195744,
          -46.54959010802119,
          -48.22960077888058,
          -52.67454717796047,
          -48.53505780924213,
          -51.231437899598326,
          -46.83771515499862,
          -46.78198098470048,
          -38.33787462509412,
          -44.24812822762975,
          -45.43305899816512,
          -41.85580503001343,
          -46.552880539877926,
          -46.6256721599388,
          -51.231437899598326,
          -34.93253582376317,
          -46.75575337195744,
          -51.22769725328026,
          -51.09298402937748,
          -47.08244278411783,
          -44.24816336596759,
          -46.559726963517065,
          -51.07951429592407,
          -46.52529155803017,
          -46.564753092486725,
          -46.75575337195744,
          -48.22960077888058,
          -49.26744894449621,
          -49.26500692384353,
          -48.93331822533233,
          -46.75575337195744,
          -44.24816336596759,
          -43.18726357297112,
          -46.89918572591988,
          -46.75575337195744,
          -34.93253582376317,
          -46.735881844474896,
          -54.67213920600791,
          -49.00253404801828,
          -46.56597235661916,
          -46.71053625522482,
          -46.76287513805131,
          -46.572282911105056,
          -46.63508761691669,
          -42.9702210850494,
          -43.93264743101025,
          -35.20824131593824,
          -53.42517181498286,
          -51.45456651508261,
          -46.59132639890193,
          -46.67958429464096,
          -46.1955458411618,
          -44.24816336596759,
          -51.231437899598326,
          -46.559726963517065,
          -47.38550081126996,
          -46.51380633487217,
          -43.957177760395545,
          -38.567945481184445,
          -46.703810106207634,
          -49.19950992683624,
          -43.942417941975386,
          -46.60240268369203,
          -49.311076015365074,
          -47.150402273886925,
          -38.59928475757382,
          -46.632613806421325,
          -54.58574137255735,
          -49.19396558589783,
          -49.28982106037588,
          -47.01353540823248,
          -34.93253582376317,
          -46.262085681846166,
          -48.82974353343713,
          -43.30454037225461,
          -46.84796832895859,
          -46.63188421270581,
          -47.90659642198055,
          -46.51312842218974,
          -34.93253582376317,
          -46.61525833895384,
          -46.75575337195744,
          -46.53363245277436,
          -44.24816336596759,
          -47.07428354596361,
          -49.30945498395364,
          -46.61200044104113,
          -46.15005921825602,
          -43.217950335265314,
          -51.16270825237461,
          -48.807255525275366,
          -51.15483116731141,
          -51.231437899598326,
          -43.95094395435073,
          -51.05330632286344,
          -46.1955458411618,
          -46.34087492614053,
          -46.42292496090773,
          -43.931234581848464,
          -51.09298402937748,
          -44.24816336596759,
          -51.20130443913633,
          -47.08244278411783,
          -51.15253710423867,
          -42.76834387096315,
          -34.93253582376317,
          -46.72898406045395,
          -46.75575337195744,
          -43.17715630706046,
          -47.30922889223856,
          -46.75575337195744,
          -47.27033542521254,
          -47.08244278411783,
          -54.74875310212911,
          -42.78339770003472,
          -44.24816336596759,
          -44.02242139461151,
          -51.14505892899358,
          -46.564296407294165,
          -47.83762131131263,
          -46.48545545756666,
          -42.93166199720475,
          -42.6286140396501,
          -51.42388542180936,
          -48.59271208975145,
          -46.54115925090763,
          -43.95094395435073,
          -44.24816336596759,
          -47.41705497247527,
          -51.06040344017741,
          -44.24816336596759,
          -46.56338617640832,
          -46.44479870320024,
          -46.76287513805131,
          -46.62043601303771,
          -46.632613806421325,
          -46.75575337195744,
          -49.18219514723537,
          -46.439816187506,
          -46.632613806421325,
          -46.53884595688125,
          -47.711819140556784,
          -46.523183340521726,
          -52.02327989668861,
          -46.75575337195744,
          -48.88032525991248,
          -46.59132639890193,
          -34.93253582376317,
          -46.73414273203397,
          -51.20130443913633,
          -46.49010130952279,
          -51.14505892899358,
          -46.68808147880212,
          -46.581435332792125,
          -47.08244278411783,
          -46.89675369133934,
          -46.54737185794935,
          -44.24816336596759,
          -46.63942263256764,
          -46.703810106207634,
          -43.49176475913367,
          -47.38550081126996,
          -46.49010130952279,
          -46.58336932471798,
          -47.93914526044794,
          -46.53686856423848
         ],
         "marker": {
          "color": [
           16.585792869269948,
           12.38377584216602,
           10.98943775049625,
           11.386592679709684,
           10.16257298035294,
           10.810936292271307,
           10.094419584183123,
           11.404568608475667,
           10.776589588744974,
           10.75544690110953,
           10.10244707369308,
           10.0448578383246,
           17.832482400773635,
           10.05225895141435,
           11.345783341409094,
           13.529292620476172,
           14.530683505844207,
           11.63934251553422,
           11.377250117315814,
           13.483417195762357,
           10.727456199773444,
           10.049354467510527,
           12.037680545506497,
           10.623133345297232,
           12.279452974413484,
           12.98617447999228,
           12.005667674696758,
           14.620740450899383,
           10.389682640030346,
           16.13202549734074,
           10.670679321964144,
           10.672430878461522,
           13.77185409377269,
           11.458812348848593,
           10.41603495157926,
           10.892813372969272,
           13.19107903822825,
           12.260876230578386,
           10.439609339722956,
           11.515919478968428,
           10.653492966277586,
           12.50220730747044,
           10.004599763872491,
           11.544137831248404,
           10.485746224843242,
           11.005964979796037,
           15.271473510528391,
           13.691359453672089,
           10.757125591701078,
           14.360260654689782,
           13.319356001182518,
           12.902010339409284,
           10.606500444816824,
           12.1089799370044,
           12.644296490943178,
           10.067458901665889,
           10.6377254691832,
           10.006671918202915,
           10.567439847987634,
           11.205237088291256,
           12.297932029887471,
           11.760405070564154,
           11.885798197241185,
           10.445989559094311,
           11.209778678064886,
           15.386645108256284,
           16.197609861673097,
           10.9058538378958,
           11.36670588462206,
           12.80953369862138,
           12.643692355188517,
           10.880351198873347,
           10.160223267550776,
           10.263138316614851,
           13.928665121769928,
           18.726549310635903,
           11.926306832895564,
           19.45896524199985,
           11.281663324109568,
           10.274478260350175,
           10.386056344953047,
           10.261078506837585,
           10.698079430680488,
           11.079470457296834,
           10.216917456336043,
           40.36769566814219,
           11.003909949729216,
           14.176919670534057,
           16.355994366118615,
           11.428001893703437,
           13.835052769763628,
           10.175,
           10.50962849556252,
           10.938649082330777,
           12.294981292736422,
           16.39181397597017,
           12.184132047366123,
           12.437636957202272,
           11.67920043361,
           14.392699628597958,
           13.27534112083993,
           20.86720415118077,
           12.863828048768136,
           11.434867184630413,
           12.506536471616997,
           11.173574159007504,
           10.976960851602737,
           14.107604104241323,
           10.293876026885735,
           13.35173962354936,
           17.295257717558318,
           15.139940446388572,
           12.888310674559293,
           11.481720078482669,
           10.318252392976689,
           11.465034919220638,
           10.542535872487033,
           24.537603944764644,
           12.37387884518824,
           14.608526720668117,
           10.611623795659,
           10.690741035776608,
           10.102261264139631,
           52.541239251422304,
           13.83041171006164,
           11.106726213210408,
           11.75333700422066,
           11.210785925682345,
           10.375783117515777,
           10.35057099680548,
           11.11248572172644,
           13.725594189053414,
           16.526498115075036,
           11.00420934557369,
           11.559794071621347,
           12.804245273692828,
           10.25269093310136,
           10.374557459840814,
           15.893102202961355,
           13.023962170515112,
           10.223233676077456,
           10.16744357587474,
           11.526239714136318,
           10.793453664408872,
           10.160976681589718,
           10.419469118757975,
           15.097351919253883,
           10.892851098567432,
           13.87584187408492,
           16.22770980684751,
           11.02025352913591,
           11.940041985755132,
           10.0235974568162,
           10.318807219461156,
           11.96069798657718,
           20.425695380152597,
           13.10693801041702,
           13.92713829314975,
           12.25556519542704,
           10.216562707365629,
           10.756227427161216,
           10.269468055095608,
           10.813695195560934,
           16.115675407395152,
           14.07274841925509,
           14.472471046812336,
           12.314814403817344,
           11.521436716077536,
           10.088203393203642,
           10.05552910812714,
           16.76326963723418,
           15.831866842067948,
           10.983343885603102,
           11.645119937112892,
           12.160195386850956,
           16.65573403104988,
           10.400470332449611,
           10.028263388645456,
           10.818097972226914,
           10.971137521222412,
           13.09042816605854,
           10.453912350986112,
           11.96900163297483,
           10.213678516228748,
           13.29006169160331,
           10.289311906016696,
           11.119012935043964,
           10.33947295288679,
           11.513497372193024,
           13.381753559890646,
           11.577065962720924,
           11.131725793282952,
           10.205550790943686,
           15.996380985800863,
           13.761348929860134,
           11.271975745113878,
           10.007475795730327,
           11.567423862657076,
           10.019646922586084,
           26.489042821158687,
           14.294164067051558,
           28.902217619330184,
           13.250665211734583,
           11.211924276309574,
           10.10474838220674,
           19.10288458309547,
           12.653024682214252,
           10.941844132858105,
           10.18499191308859,
           18.58812384573601,
           10.327325061804338,
           10.808580272429069,
           14.954713097178146,
           15.703478288467748,
           10.000448605354968,
           17.400291215013752,
           11.720648870162307,
           11.017574182329678,
           11.799360694456466,
           13.014718087755217,
           10.027619150463387,
           11.01919182098406,
           11.604497283642935,
           12.388811542842676,
           10.32741143195489,
           11.606029969751916,
           10.482052486542438,
           15.089765137950414,
           13.270270008127982,
           12.889352439688013,
           11.373823234519046,
           13.722022868463691,
           10.663143649936352,
           10.930464385348138,
           10.6547752494115,
           11.174618808599298,
           10.941308515028677,
           10.653338008699658,
           13.287695905193615,
           10.156612913929258,
           10.699481818730256,
           17.07778084195633,
           12.152633901784696,
           10.424817050154438,
           11.853575777053962,
           10.107771515846578,
           16.50852770043847,
           12.136323056213696,
           10.216963617523458,
           10.276417631829156,
           12.784442836549806,
           10.506781139131864,
           10.874022721914606,
           10.502069682186878,
           11.803427921200484,
           14.232377657874451,
           10.287632175650495,
           11.490919022258636,
           12.16859955672388,
           10.548597822500826,
           15.185693660885365,
           11.003333214014235,
           14.502989413277602,
           11.102727668300062,
           10.084663786139377,
           13.397464439878878,
           25.74818543978753,
           17.885153004690107,
           10.005003315055848,
           10.401539916940912,
           11.82153426285982,
           11.246199364701631,
           11.8290678750359,
           12.501101002856316,
           11.79376381457813,
           10.75691551952782,
           11.208511879544682,
           10.75509863536732,
           10.43435662965382,
           10.77943541867016,
           10.088449537222491,
           11.05349846782431,
           12.949327742360154,
           11.396211490992403,
           10.839938717929163,
           13.151602997174791,
           10.526540095110176,
           15.005117835528656,
           10.27086019705514,
           10.300014858525609,
           13.216954574435922,
           10.028316858619752,
           10.27240806533475,
           11.317759671994946,
           10.962282056706323,
           10.94651325593656,
           11.634480600505134,
           11.170072502861954,
           10.571369480995934,
           10.295257840845746,
           13.851089232259962,
           12.015665416215745,
           10.392556051072148,
           10.101568526613525,
           12.34662066445356,
           12.906112657165206,
           10.763194721386364,
           12.9120077897936,
           15.971476755847188,
           14.206210361584713,
           10.93504312045544,
           10.685681190736524,
           10.150232128625824,
           12.399099858458309,
           10.999289764966838,
           16.572446528585925,
           10.75846143941399,
           12.635953673138252,
           22.9102965753958,
           14.695932836442562,
           11.097646657262558,
           10.687951031429431,
           15.408343786143645,
           11.58130230125523,
           10.18841371657237,
           14.652876310751816,
           11.434365338233455,
           12.529019359840062,
           19.35637531288716,
           10.735446447068572,
           11.150626071044025,
           11.078187904136136,
           10.445439382832063,
           18.33127783870896,
           10.29841621767022,
           11.44934249601061,
           10.773282325156336,
           10.54015242956168,
           19.015567738851573,
           15.027928908233587,
           11.007243934981837,
           25.495185886574305,
           18.67813808886394,
           10.652191165642794,
           11.192575838108578,
           10.916859690403385,
           10.87288350016974,
           12.703230468557535,
           14.52042432897532,
           10.623151689847946,
           13.17246393020915,
           16.994689373282593,
           10.457193553156884,
           12.049716832834472,
           13.830404165089783,
           57.09522788203754,
           10.320863143614094,
           10.580071024950344,
           14.820060825600992,
           11.226797460172618,
           11.136847498433102,
           10.656209988799995,
           12.665749656121044,
           10.230039076573457,
           11.478934246900598,
           13.084536802584472,
           18.242326452185047,
           13.97892840319928,
           10.725762363421785,
           12.047763040774711,
           10.115662839452956,
           13.610130701661554,
           10.868153138504317,
           11.064322256991009,
           10.809909821340794,
           15.881811394843323,
           11.969303775621064,
           26.69090883320104,
           13.2557389389036,
           12.286848367911908,
           11.359549096255774,
           10.2697552964697,
           14.50433380017257,
           16.453111893596176,
           14.21002922020093,
           12.81723863216661,
           10.05212031888524,
           10.969182151564198,
           11.332922184112284,
           26.39342382598432,
           12.85715484800582,
           11.082505969586528,
           10.646932288311122,
           10.09494322691523,
           10.808679821971104,
           14.93621834051158,
           13.25452905327858,
           11.33559376673018,
           10.422044393194067,
           11.547453250919334,
           12.291065413855511,
           11.75916122304696,
           10.713636605420598,
           10.10351271244454,
           10.846474241248888,
           11.50131576419969,
           12.77930660904755,
           10.953817153628652,
           15.31246211102323,
           15.507216300349024,
           10.930617642240268,
           10.327504397489632,
           10.371257880485858,
           10.184728983565853,
           12.677886803137504,
           13.810094019623463,
           12.928631535493706,
           10.308240495006322,
           10.872358210703707,
           13.457537104651715,
           12.617576374304456,
           13.066203014719967,
           11.106773638433008,
           13.211209728143125,
           10.94911945770395,
           10.5543825660405,
           26.99883559206909,
           16.83312777712075,
           21.735608922569984,
           12.56061282068106,
           11.517171365587656,
           14.14375694455961,
           10.336386696272848,
           11.293491124260354,
           11.771887417795874,
           14.345922023390028,
           17.21768620041801,
           14.155533755790692,
           14.428152142105557,
           16.150382848392038,
           11.263668180850084,
           10.911512771945429,
           14.57008742836493,
           11.418617405108964,
           11.620455313742177,
           12.81544544852249,
           21.714665964390854,
           12.052758962259617,
           10.755888416377015,
           13.904255629235587,
           14.128950118563235,
           11.325068942875903,
           10.734378742492837,
           12.889639852303166,
           10.677443292226616,
           12.388637376405471,
           10.695251049736829,
           14.615359261700725,
           10.554127381875212,
           11.119268957033652,
           10.791266424534784,
           10.925406635543885,
           10.03479251244558,
           15.012803251900568,
           18.12049884158531,
           12.06666853677946,
           10.05102385822317,
           12.96795994993742,
           11.841766495912635,
           12.892126431785814,
           11.458219963940335,
           10.71557254697826,
           11.632804290838097,
           12.38694856399236,
           13.764231687898086,
           12.47642775625673,
           11.508555510744426,
           10.147007839037538,
           10.450450030312922,
           10.31413479539984,
           10.054610627646504,
           10.815431574902632,
           10.424298889811002,
           13.775091904781386,
           14.998962057432822,
           11.253168166126391,
           11.32556645542148,
           11.351431212094637,
           10.41592192227954,
           10.619385203272426,
           10.62359670567014,
           11.885507833719917,
           12.269915910281275,
           17.418496933594433,
           13.061082168463404,
           11.901428731720088,
           10.366436519135275,
           11.751381806511429,
           12.019148271257706,
           10.067518641954589,
           11.306348362644728,
           10.421155490411628,
           16.200650947211646,
           10.083502063436452,
           16.053933535894636,
           10.601662589585356,
           10.214352888873693,
           11.81532027388294,
           10.133201462354958,
           10.14094657740929,
           15.307933090814837,
           21.080963085199,
           14.42746993116188,
           11.645317852022892,
           10.327437563440348,
           15.989723264903626,
           15.800664958225765,
           10.029586543939072,
           12.72968196585802,
           10.155855525174744,
           14.962678000806628,
           11.0361161440722,
           13.275647630637394,
           18.20963029938437,
           11.298073611325549,
           10.470251874926657,
           11.34450024654382,
           10.522694309066038,
           26.13105235968309,
           12.242086234953227,
           20.38792679789955,
           11.693382827841312,
           19.372816574189983,
           13.630545448296898,
           10.218841875603562,
           18.352898130926608,
           14.398722951401206,
           12.13171039933104,
           10.647017095347438,
           23.83044181547147,
           17.006119515018895,
           10.022914781419397,
           10.268712977298716,
           16.017587299893535,
           11.66390599679231,
           10.488362725696572,
           18.692908179339472,
           24.94306663867968,
           10.031274238357362,
           27.723283871681847,
           10.36045279241617,
           10.864302053142932,
           11.230295660356727,
           11.01318077959281,
           16.801110900713248,
           14.62144842450753,
           13.008659579074244,
           11.417856069556912,
           15.823543001787971,
           11.08490347748764,
           10.21254335237816,
           14.488937573856642,
           10.263747764504766,
           18.03616050424561,
           10.941434574907513,
           11.030792236818831,
           16.326881206989405,
           10.170571629064764,
           23.86293487689044,
           15.060987030474712,
           11.492132769396262,
           11.015346118849305,
           10.609009141887883,
           12.616357877067747,
           10.1097588978186,
           10.87299055910368,
           12.179475736105012,
           12.242950795092003,
           10.373577090527451,
           10.154348590070205,
           12.934807278778182,
           20.05370069347803,
           10.596523429064996,
           11.478799390968009,
           12.822255138553716,
           14.034929223465346,
           10.742227979274611,
           13.036017048648418,
           16.52921937286167,
           12.04009173435805,
           11.899876994867816,
           16.842161041354682,
           16.033895333862837,
           11.969008127567474,
           11.918641549525008,
           14.642112838966714,
           10.475595208396644,
           11.761917245472066,
           10.18337298098252,
           10.99365745108495,
           16.05299071483059,
           10.180075776121202,
           15.978179484436836,
           12.431068289067555,
           10.98738207325315,
           10.723418965097144,
           10.70378335142547,
           10.730381406875397,
           13.315527118517968,
           16.98872196246256,
           11.320834505530302,
           22.520943787809657,
           12.862099987148182,
           11.254292858665885,
           20.89275535928636,
           10.21741108396291,
           11.631362593597522,
           15.391576332023392,
           12.921167043107149,
           10.072930533593205,
           15.680272123470434,
           15.159385612429382,
           11.305180305217316,
           10.437667120813456,
           11.365797411796198,
           10.839210907152106,
           15.24800654262932,
           11.493761724160096,
           10.12144129731302,
           10.000504304140083,
           10.9692794742891,
           11.465507012642917,
           10.20855646356314,
           10.294743896577216,
           10.37883500867686,
           12.261025225923012,
           10.91539891764796,
           10.47467567395617,
           13.9361571018535,
           10.31672117984626,
           12.9416956321154,
           11.317002908005945,
           11.103782684103066,
           11.714175849850085,
           18.893737574552684,
           10.110663608443804,
           11.00718493395216,
           10.434390416792397,
           11.051415211129878,
           11.16758407032564,
           11.764333808172006,
           10.714496130410968,
           12.49998582182538,
           10.388661388415745,
           10.74918451013492,
           17.224108577252874,
           12.701623123018525,
           12.204057455945506,
           12.274257295636264,
           11.779499601805153,
           10.476573320809388,
           18.923658529437624,
           10.794928926117713,
           10.423078796297668,
           11.091719660498404,
           10.29266647888598,
           10.559861486166952,
           18.77903311492828,
           14.460769331970486,
           10.298360456397058,
           10.65368727425746,
           14.049211042477824,
           12.330987613477705,
           10.287330497145833,
           10.855815702338765,
           11.427735531373571,
           10.725727034017098,
           16.671336468514806,
           13.022250611406571,
           12.0401802962009,
           10.473970523901444,
           10.58487949818422,
           14.291949309076502,
           12.932031209090434,
           10.062100499952036,
           10.064097252423462,
           10.222579647386327,
           12.879467266027868,
           10.355924552510714,
           12.69942625656683,
           13.445610536055884,
           10.22393496734088,
           10.395818666242098,
           17.77359873000366,
           12.0898210549327,
           14.868896152879056,
           10.469301387165032,
           19.16330830317109,
           21.79579211673874,
           10.778556125848771,
           10.61357712184178,
           27.21728033472803,
           11.468316728277506,
           40.01447183647995,
           16.0646961303627,
           16.220546185721492,
           10.124854679951431,
           10.012892312940645,
           11.298230300225848,
           12.071309790239953,
           13.970684785842847,
           10.032790134877306,
           10.06700063469036,
           10.143019753101948,
           10.6823452922087
          ],
          "coloraxis": "coloraxis"
         },
         "mode": "markers",
         "name": "",
         "showlegend": false,
         "subplot": "mapbox",
         "type": "scattermapbox"
        }
       ],
       "layout": {
        "autosize": true,
        "coloraxis": {
         "colorbar": {
          "title": {
           "text": "delivery_speed_km_per_hour"
          }
         },
         "colorscale": [
          [
           0,
           "#000000"
          ],
          [
           0.0625,
           "#001f4d"
          ],
          [
           0.125,
           "#003786"
          ],
          [
           0.1875,
           "#0e58a8"
          ],
          [
           0.25,
           "#217eb8"
          ],
          [
           0.3125,
           "#30a4ca"
          ],
          [
           0.375,
           "#54c8df"
          ],
          [
           0.4375,
           "#9be4ef"
          ],
          [
           0.5,
           "#e1e9d1"
          ],
          [
           0.5625,
           "#f3d573"
          ],
          [
           0.625,
           "#e7b000"
          ],
          [
           0.6875,
           "#da8200"
          ],
          [
           0.75,
           "#c65400"
          ],
          [
           0.8125,
           "#ac2301"
          ],
          [
           0.875,
           "#820000"
          ],
          [
           0.9375,
           "#4c0000"
          ],
          [
           1,
           "#000000"
          ]
         ]
        },
        "legend": {
         "tracegroupgap": 0
        },
        "mapbox": {
         "bearing": 0,
         "center": {
          "lat": -20.52878477486817,
          "lon": 36.481783915855544
         },
         "domain": {
          "x": [
           0,
           1
          ],
          "y": [
           0,
           1
          ]
         },
         "pitch": 0,
         "style": "carto-positron",
         "zoom": 0.10480773784816132
        },
        "template": {
         "data": {
          "bar": [
           {
            "error_x": {
             "color": "#2a3f5f"
            },
            "error_y": {
             "color": "#2a3f5f"
            },
            "marker": {
             "line": {
              "color": "#E5ECF6",
              "width": 0.5
             },
             "pattern": {
              "fillmode": "overlay",
              "size": 10,
              "solidity": 0.2
             }
            },
            "type": "bar"
           }
          ],
          "barpolar": [
           {
            "marker": {
             "line": {
              "color": "#E5ECF6",
              "width": 0.5
             },
             "pattern": {
              "fillmode": "overlay",
              "size": 10,
              "solidity": 0.2
             }
            },
            "type": "barpolar"
           }
          ],
          "carpet": [
           {
            "aaxis": {
             "endlinecolor": "#2a3f5f",
             "gridcolor": "white",
             "linecolor": "white",
             "minorgridcolor": "white",
             "startlinecolor": "#2a3f5f"
            },
            "baxis": {
             "endlinecolor": "#2a3f5f",
             "gridcolor": "white",
             "linecolor": "white",
             "minorgridcolor": "white",
             "startlinecolor": "#2a3f5f"
            },
            "type": "carpet"
           }
          ],
          "choropleth": [
           {
            "colorbar": {
             "outlinewidth": 0,
             "ticks": ""
            },
            "type": "choropleth"
           }
          ],
          "contour": [
           {
            "colorbar": {
             "outlinewidth": 0,
             "ticks": ""
            },
            "colorscale": [
             [
              0,
              "#0d0887"
             ],
             [
              0.1111111111111111,
              "#46039f"
             ],
             [
              0.2222222222222222,
              "#7201a8"
             ],
             [
              0.3333333333333333,
              "#9c179e"
             ],
             [
              0.4444444444444444,
              "#bd3786"
             ],
             [
              0.5555555555555556,
              "#d8576b"
             ],
             [
              0.6666666666666666,
              "#ed7953"
             ],
             [
              0.7777777777777778,
              "#fb9f3a"
             ],
             [
              0.8888888888888888,
              "#fdca26"
             ],
             [
              1,
              "#f0f921"
             ]
            ],
            "type": "contour"
           }
          ],
          "contourcarpet": [
           {
            "colorbar": {
             "outlinewidth": 0,
             "ticks": ""
            },
            "type": "contourcarpet"
           }
          ],
          "heatmap": [
           {
            "colorbar": {
             "outlinewidth": 0,
             "ticks": ""
            },
            "colorscale": [
             [
              0,
              "#0d0887"
             ],
             [
              0.1111111111111111,
              "#46039f"
             ],
             [
              0.2222222222222222,
              "#7201a8"
             ],
             [
              0.3333333333333333,
              "#9c179e"
             ],
             [
              0.4444444444444444,
              "#bd3786"
             ],
             [
              0.5555555555555556,
              "#d8576b"
             ],
             [
              0.6666666666666666,
              "#ed7953"
             ],
             [
              0.7777777777777778,
              "#fb9f3a"
             ],
             [
              0.8888888888888888,
              "#fdca26"
             ],
             [
              1,
              "#f0f921"
             ]
            ],
            "type": "heatmap"
           }
          ],
          "heatmapgl": [
           {
            "colorbar": {
             "outlinewidth": 0,
             "ticks": ""
            },
            "colorscale": [
             [
              0,
              "#0d0887"
             ],
             [
              0.1111111111111111,
              "#46039f"
             ],
             [
              0.2222222222222222,
              "#7201a8"
             ],
             [
              0.3333333333333333,
              "#9c179e"
             ],
             [
              0.4444444444444444,
              "#bd3786"
             ],
             [
              0.5555555555555556,
              "#d8576b"
             ],
             [
              0.6666666666666666,
              "#ed7953"
             ],
             [
              0.7777777777777778,
              "#fb9f3a"
             ],
             [
              0.8888888888888888,
              "#fdca26"
             ],
             [
              1,
              "#f0f921"
             ]
            ],
            "type": "heatmapgl"
           }
          ],
          "histogram": [
           {
            "marker": {
             "pattern": {
              "fillmode": "overlay",
              "size": 10,
              "solidity": 0.2
             }
            },
            "type": "histogram"
           }
          ],
          "histogram2d": [
           {
            "colorbar": {
             "outlinewidth": 0,
             "ticks": ""
            },
            "colorscale": [
             [
              0,
              "#0d0887"
             ],
             [
              0.1111111111111111,
              "#46039f"
             ],
             [
              0.2222222222222222,
              "#7201a8"
             ],
             [
              0.3333333333333333,
              "#9c179e"
             ],
             [
              0.4444444444444444,
              "#bd3786"
             ],
             [
              0.5555555555555556,
              "#d8576b"
             ],
             [
              0.6666666666666666,
              "#ed7953"
             ],
             [
              0.7777777777777778,
              "#fb9f3a"
             ],
             [
              0.8888888888888888,
              "#fdca26"
             ],
             [
              1,
              "#f0f921"
             ]
            ],
            "type": "histogram2d"
           }
          ],
          "histogram2dcontour": [
           {
            "colorbar": {
             "outlinewidth": 0,
             "ticks": ""
            },
            "colorscale": [
             [
              0,
              "#0d0887"
             ],
             [
              0.1111111111111111,
              "#46039f"
             ],
             [
              0.2222222222222222,
              "#7201a8"
             ],
             [
              0.3333333333333333,
              "#9c179e"
             ],
             [
              0.4444444444444444,
              "#bd3786"
             ],
             [
              0.5555555555555556,
              "#d8576b"
             ],
             [
              0.6666666666666666,
              "#ed7953"
             ],
             [
              0.7777777777777778,
              "#fb9f3a"
             ],
             [
              0.8888888888888888,
              "#fdca26"
             ],
             [
              1,
              "#f0f921"
             ]
            ],
            "type": "histogram2dcontour"
           }
          ],
          "mesh3d": [
           {
            "colorbar": {
             "outlinewidth": 0,
             "ticks": ""
            },
            "type": "mesh3d"
           }
          ],
          "parcoords": [
           {
            "line": {
             "colorbar": {
              "outlinewidth": 0,
              "ticks": ""
             }
            },
            "type": "parcoords"
           }
          ],
          "pie": [
           {
            "automargin": true,
            "type": "pie"
           }
          ],
          "scatter": [
           {
            "marker": {
             "colorbar": {
              "outlinewidth": 0,
              "ticks": ""
             }
            },
            "type": "scatter"
           }
          ],
          "scatter3d": [
           {
            "line": {
             "colorbar": {
              "outlinewidth": 0,
              "ticks": ""
             }
            },
            "marker": {
             "colorbar": {
              "outlinewidth": 0,
              "ticks": ""
             }
            },
            "type": "scatter3d"
           }
          ],
          "scattercarpet": [
           {
            "marker": {
             "colorbar": {
              "outlinewidth": 0,
              "ticks": ""
             }
            },
            "type": "scattercarpet"
           }
          ],
          "scattergeo": [
           {
            "marker": {
             "colorbar": {
              "outlinewidth": 0,
              "ticks": ""
             }
            },
            "type": "scattergeo"
           }
          ],
          "scattergl": [
           {
            "marker": {
             "colorbar": {
              "outlinewidth": 0,
              "ticks": ""
             }
            },
            "type": "scattergl"
           }
          ],
          "scattermapbox": [
           {
            "marker": {
             "colorbar": {
              "outlinewidth": 0,
              "ticks": ""
             }
            },
            "type": "scattermapbox"
           }
          ],
          "scatterpolar": [
           {
            "marker": {
             "colorbar": {
              "outlinewidth": 0,
              "ticks": ""
             }
            },
            "type": "scatterpolar"
           }
          ],
          "scatterpolargl": [
           {
            "marker": {
             "colorbar": {
              "outlinewidth": 0,
              "ticks": ""
             }
            },
            "type": "scatterpolargl"
           }
          ],
          "scatterternary": [
           {
            "marker": {
             "colorbar": {
              "outlinewidth": 0,
              "ticks": ""
             }
            },
            "type": "scatterternary"
           }
          ],
          "surface": [
           {
            "colorbar": {
             "outlinewidth": 0,
             "ticks": ""
            },
            "colorscale": [
             [
              0,
              "#0d0887"
             ],
             [
              0.1111111111111111,
              "#46039f"
             ],
             [
              0.2222222222222222,
              "#7201a8"
             ],
             [
              0.3333333333333333,
              "#9c179e"
             ],
             [
              0.4444444444444444,
              "#bd3786"
             ],
             [
              0.5555555555555556,
              "#d8576b"
             ],
             [
              0.6666666666666666,
              "#ed7953"
             ],
             [
              0.7777777777777778,
              "#fb9f3a"
             ],
             [
              0.8888888888888888,
              "#fdca26"
             ],
             [
              1,
              "#f0f921"
             ]
            ],
            "type": "surface"
           }
          ],
          "table": [
           {
            "cells": {
             "fill": {
              "color": "#EBF0F8"
             },
             "line": {
              "color": "white"
             }
            },
            "header": {
             "fill": {
              "color": "#C8D4E3"
             },
             "line": {
              "color": "white"
             }
            },
            "type": "table"
           }
          ]
         },
         "layout": {
          "annotationdefaults": {
           "arrowcolor": "#2a3f5f",
           "arrowhead": 0,
           "arrowwidth": 1
          },
          "autotypenumbers": "strict",
          "coloraxis": {
           "colorbar": {
            "outlinewidth": 0,
            "ticks": ""
           }
          },
          "colorscale": {
           "diverging": [
            [
             0,
             "#8e0152"
            ],
            [
             0.1,
             "#c51b7d"
            ],
            [
             0.2,
             "#de77ae"
            ],
            [
             0.3,
             "#f1b6da"
            ],
            [
             0.4,
             "#fde0ef"
            ],
            [
             0.5,
             "#f7f7f7"
            ],
            [
             0.6,
             "#e6f5d0"
            ],
            [
             0.7,
             "#b8e186"
            ],
            [
             0.8,
             "#7fbc41"
            ],
            [
             0.9,
             "#4d9221"
            ],
            [
             1,
             "#276419"
            ]
           ],
           "sequential": [
            [
             0,
             "#0d0887"
            ],
            [
             0.1111111111111111,
             "#46039f"
            ],
            [
             0.2222222222222222,
             "#7201a8"
            ],
            [
             0.3333333333333333,
             "#9c179e"
            ],
            [
             0.4444444444444444,
             "#bd3786"
            ],
            [
             0.5555555555555556,
             "#d8576b"
            ],
            [
             0.6666666666666666,
             "#ed7953"
            ],
            [
             0.7777777777777778,
             "#fb9f3a"
            ],
            [
             0.8888888888888888,
             "#fdca26"
            ],
            [
             1,
             "#f0f921"
            ]
           ],
           "sequentialminus": [
            [
             0,
             "#0d0887"
            ],
            [
             0.1111111111111111,
             "#46039f"
            ],
            [
             0.2222222222222222,
             "#7201a8"
            ],
            [
             0.3333333333333333,
             "#9c179e"
            ],
            [
             0.4444444444444444,
             "#bd3786"
            ],
            [
             0.5555555555555556,
             "#d8576b"
            ],
            [
             0.6666666666666666,
             "#ed7953"
            ],
            [
             0.7777777777777778,
             "#fb9f3a"
            ],
            [
             0.8888888888888888,
             "#fdca26"
            ],
            [
             1,
             "#f0f921"
            ]
           ]
          },
          "colorway": [
           "#636efa",
           "#EF553B",
           "#00cc96",
           "#ab63fa",
           "#FFA15A",
           "#19d3f3",
           "#FF6692",
           "#B6E880",
           "#FF97FF",
           "#FECB52"
          ],
          "font": {
           "color": "#2a3f5f"
          },
          "geo": {
           "bgcolor": "white",
           "lakecolor": "white",
           "landcolor": "#E5ECF6",
           "showlakes": true,
           "showland": true,
           "subunitcolor": "white"
          },
          "hoverlabel": {
           "align": "left"
          },
          "hovermode": "closest",
          "mapbox": {
           "style": "light"
          },
          "paper_bgcolor": "white",
          "plot_bgcolor": "#E5ECF6",
          "polar": {
           "angularaxis": {
            "gridcolor": "white",
            "linecolor": "white",
            "ticks": ""
           },
           "bgcolor": "#E5ECF6",
           "radialaxis": {
            "gridcolor": "white",
            "linecolor": "white",
            "ticks": ""
           }
          },
          "scene": {
           "xaxis": {
            "backgroundcolor": "#E5ECF6",
            "gridcolor": "white",
            "gridwidth": 2,
            "linecolor": "white",
            "showbackground": true,
            "ticks": "",
            "zerolinecolor": "white"
           },
           "yaxis": {
            "backgroundcolor": "#E5ECF6",
            "gridcolor": "white",
            "gridwidth": 2,
            "linecolor": "white",
            "showbackground": true,
            "ticks": "",
            "zerolinecolor": "white"
           },
           "zaxis": {
            "backgroundcolor": "#E5ECF6",
            "gridcolor": "white",
            "gridwidth": 2,
            "linecolor": "white",
            "showbackground": true,
            "ticks": "",
            "zerolinecolor": "white"
           }
          },
          "shapedefaults": {
           "line": {
            "color": "#2a3f5f"
           }
          },
          "ternary": {
           "aaxis": {
            "gridcolor": "white",
            "linecolor": "white",
            "ticks": ""
           },
           "baxis": {
            "gridcolor": "white",
            "linecolor": "white",
            "ticks": ""
           },
           "bgcolor": "#E5ECF6",
           "caxis": {
            "gridcolor": "white",
            "linecolor": "white",
            "ticks": ""
           }
          },
          "title": {
           "x": 0.05
          },
          "xaxis": {
           "automargin": true,
           "gridcolor": "white",
           "linecolor": "white",
           "ticks": "",
           "title": {
            "standoff": 15
           },
           "zerolinecolor": "white",
           "zerolinewidth": 2
          },
          "yaxis": {
           "automargin": true,
           "gridcolor": "white",
           "linecolor": "white",
           "ticks": "",
           "title": {
            "standoff": 15
           },
           "zerolinecolor": "white",
           "zerolinewidth": 2
          }
         }
        },
        "title": {
         "text": "Location of fastest sellers"
        }
       }
      },
      "image/png": "[encoded data removed]",
      "text/html": [
       "<div>                            <div id=\"f92fde6c-08d4-4486-88f2-ecdfdd917cdd\" class=\"plotly-graph-div\" style=\"height:525px; width:100%;\"></div>            <script type=\"text/javascript\">                require([\"plotly\"], function(Plotly) {                    window.PLOTLYENV=window.PLOTLYENV || {};                                    if (document.getElementById(\"f92fde6c-08d4-4486-88f2-ecdfdd917cdd\")) {                    Plotly.newPlot(                        \"f92fde6c-08d4-4486-88f2-ecdfdd917cdd\",                        [{\"hovertemplate\":\"seller_lat=%{lat}<br>seller_lng=%{lon}<br>delivery_speed_km_per_hour=%{marker.color}<extra></extra>\",\"lat\":[-18.65264443369265,-2.501242200626004,-22.54079651100627,-22.829351276710423,-3.766765995603741,-23.69101304628181,-23.53804880179313,-23.552336441109283,-23.53755537000389,-29.919402974839493,-19.89457420752632,-23.538268511790665,-22.988257375889454,-19.90612056261318,-8.049884228325219,-23.652366177840182,-23.652366177840182,-23.515977900238106,-23.515977900238106,-23.21686067703018,-23.552336441109283,-23.31247663924116,-22.32247412421865,-23.589847401363585,-23.512459731266134,-24.00892314920891,-24.026525667888205,-23.49993790539783,-8.135890720198347,-23.52039186756291,-28.290552519798347,-25.45693388285516,-19.86949505446246,-26.28730662064822,-23.539899237124576,-23.66130475506377,-19.94300350459581,-25.45693388285516,-29.919402974839493,-21.75732063771277,-8.135890720198347,-23.652366177840182,-23.46817509806932,-23.48968789588101,-23.66130475506377,-23.37087914790086,-23.62020569014463,-23.65936363644085,-19.95608602662569,-23.53994436316013,-27.81772374608258,-2.501242200626004,-29.19085626647707,-23.492024033814,-23.551881657731418,-23.57601657708377,-22.805706631753825,-23.442890814200968,-2.501242200626004,-23.552336441109283,-23.436153784043967,-23.48968789588101,-23.48968789588101,-2.501242200626004,-30.03321276448013,-22.41292693577841,-19.9178260281884,-23.551881657731418,-25.430144074286265,-22.1362294598616,-8.135890720198347,-23.93357260989164,-25.448990860825614,-28.290552519798347,-22.721605279768426,-2.501242200626004,-24.296024477069253,-22.892057554565948,-12.89316674808706,-23.60497215144589,-21.469600955340287,-23.546530378903565,-19.86949505446246,-8.135890720198347,-23.652366177840182,-23.587353600670152,-22.9042136924814,-23.676569848880845,-29.919402974839493,-19.918527030159275,-21.35993680296325,-30.03321276448013,-22.57812624091892,-2.501242200626004,-23.652366177840182,-8.135890720198347,-30.03321276448013,-2.501242200626004,-22.93526347623966,-20.536613759556865,-23.519193185045896,-23.652366177840182,-23.543150156894832,-6.491794555348289,-23.96974624488773,-23.44990733896688,-22.85547822328912,-30.03321276448013,-23.589847401363585,-9.024839005157318,-23.53631040591802,-22.757882920125365,-23.595498594800542,-29.90495069395657,-8.135890720198347,-22.92496986205362,-23.65936363644085,-19.9264100998534,-23.531234542419785,-23.37087914790086,-29.19085626647707,-23.552336441109283,-23.522840094345344,-2.501242200626004,-25.41804942777255,-19.92056947090005,-20.27851289140612,-8.135890720198347,-29.95269333551592,-22.110680580939565,-22.88170855771708,-22.892057554565948,-26.914469334728032,-19.9178260281884,-23.66130475506377,-23.53994436316013,-28.871905438293474,-23.541812281010863,-22.41292693577841,-23.6346070261456,-29.919402974839493,-23.652366177840182,-22.43118412282637,-2.501242200626004,-23.541812243632904,-19.884069370503447,-8.135890720198347,-26.89066585414966,-23.56880146453725,-23.580395310431417,-23.71504959465716,-2.501242200626004,-8.135890720198347,-29.919402974839493,-19.951799038267147,-23.541905853440447,-6.837168594957801,-23.59383917278593,-23.66130475506377,-19.84757316684865,-8.135890720198347,-20.832044636563623,-2.501242200626004,-16.664457060457906,-22.54079651100627,-21.75732063771277,-23.543150156894832,-2.501242200626004,-24.95918428429228,-23.484769700217907,-23.53994436316013,-18.921397435860243,-23.52039186756291,-26.04430566637632,-23.533798010777897,-23.65936363644085,-2.501242200626004,-21.803200599395232,-22.655502343064512,-23.652366177840182,-23.57127586906545,-29.919402974839493,-23.552336441109283,-27.81772374608258,-19.85461537734019,-8.135890720198347,-23.188409628905863,-23.66130475506377,-23.5058713385214,-23.65936363644085,-23.53103954223585,-23.65936363644085,-15.81319450570022,-23.652366177840182,-8.135890720198347,-29.95269333551592,-23.37087914790086,-21.75732063771277,-23.747947364049548,-23.680729252163324,-23.54706743134006,-3.766765995603741,-15.827493762553392,-23.48892715522341,-23.114730524308005,-22.88998236045834,-22.96169371848569,-23.553659985884053,-23.302318252316944,-23.652366177840182,-23.589847401363585,-2.501242200626004,-22.92496986205362,-23.652366177840182,-23.515977900238106,-6.837168594957801,-3.717490463103508,-21.803200599395232,-23.515977900238106,-23.543150156894832,-23.552336441109283,-23.541812243632904,-2.501242200626004,-22.1362294598616,-22.740325486164828,-23.65936363644085,-8.135890720198347,-8.766194545807494,-19.951799038267147,-8.135890720198347,-23.209471278916475,-23.67120903205988,-12.89316674808706,-24.026525667888205,-20.81912074784063,-20.27851289140612,-23.53965712727096,-23.5048912112042,-23.561456812728604,-22.8221365108088,-5.886563452788081,-23.59680394879425,-22.97545814072231,-23.652366177840182,-23.71504959465716,-23.179531489945607,-18.92408019816437,-3.766765995603741,-28.29124464593788,-8.058867141399071,-29.68433084309637,-19.506713154390688,-22.735332235607448,-22.1362294598616,-8.766194545807494,-29.68433084309637,-22.425778361057304,-23.68166159783415,-3.766765995603741,-25.36747499672607,-23.65936363644085,-30.00818156770628,-23.552336441109283,-23.65936363644085,-22.033506163362222,-23.46870426001278,-15.80698607290208,-30.01552834486621,-23.503984838767177,-23.652366177840182,-2.501242200626004,-23.552336441109283,-23.587353600670152,-23.635529881663825,-2.501242200626004,-23.31812709264707,-19.89457420752632,-23.6913846262179,-8.135890720198347,-30.03321276448013,-23.580395310431417,-23.59277554744454,-23.47874415112702,-22.829351276710423,-27.4198423877185,-22.837911776525186,-23.69101304628181,-8.135890720198347,-23.525219436926424,-19.89457420752632,-2.501242200626004,-12.89316674808706,-23.62547545562188,-6.837168594957801,-26.94994268763476,-23.551881657731418,-23.69101304628181,-8.135890720198347,-22.38340773030761,-23.70019768743884,-23.95460047631286,-23.47874415112702,-22.93526347623966,-22.743646919862503,-22.757882920125365,-23.543150156894832,-19.86949505446246,-25.46101647360314,-23.595498594800542,-23.04955173261455,-23.66130475506377,-23.652366177840182,-22.740325486164828,-23.543150156894832,-23.114730524308005,-30.03321276448013,-21.172861452750706,-22.892057554565948,-23.560182683752867,-23.589847401363585,-28.32938171277176,-25.43364816532121,-2.501242200626004,-12.901987911198416,-20.52861928433883,-2.501242200626004,-25.4699735553138,-19.90612056261318,-23.652366177840182,-23.62547545562188,-8.135890720198347,-2.501242200626004,-23.47281465844908,-3.905726996478778,-25.45693388285516,-23.44053398829077,-30.03321276448013,-23.718907865445058,-2.501242200626004,-28.29124464593788,-29.69420437579113,-23.65936363644085,-22.1362294598616,-23.62274809500327,-22.99576186030152,-23.652366177840182,-23.62547545562188,-30.077760743041143,-23.65936363644085,-23.680729252163324,-2.501242200626004,-25.513673225973893,-22.953714882106723,-23.21174633273221,-24.711673570658885,-21.75732063771277,-25.4699735553138,-23.53624654014997,-22.8221365108088,-22.60000425928191,-23.73885547032336,-3.717490463103508,-20.46253562176836,-25.42197753948749,-22.822624306841355,-23.436153784043967,-23.543150156894832,-23.41304547340984,-23.66130475506377,-8.135890720198347,-23.578171603805533,-2.501242200626004,-23.539553595497527,-29.68780422662314,-15.838225542625707,-8.135890720198347,-28.290552519798347,-23.541905853440447,-26.232193978218582,-5.886563452788081,-25.45693388285516,-24.00892314920891,-28.29124464593788,-23.580395310431417,-25.441571360403625,-23.526306422402715,-30.03321276448013,-23.652366177840182,-23.65936363644085,-22.26258413023529,-2.501242200626004,-2.501242200626004,-2.501242200626004,-23.570211693584675,-19.951799038267147,-19.951799038267147,-2.501242200626004,-8.135890720198347,-23.543000459064807,-2.501242200626004,-22.285564358190715,-23.57127586906545,-23.37087914790086,-2.501242200626004,-23.589847401363585,-2.501242200626004,-23.50320576014991,-19.86949505446246,-23.493718851420663,-23.08992524585618,-8.135890720198347,-22.430217898121057,-2.501242200626004,-19.836057733815164,-22.555991404059704,-23.550472430843698,-2.501242200626004,-22.92496986205362,-23.747947364049548,-23.44565538225258,-23.65936363644085,-23.605514428769723,-23.652366177840182,-23.484769700217907,-23.45763338134832,-23.652366177840182,-22.757882920125365,-23.21174633273221,-23.53994436316013,-23.66130475506377,-23.114730524308005,-23.541905853440447,-27.81772374608258,-25.45693388285516,-8.12050227334272,-30.077760743041143,-30.03321276448013,-23.652366177840182,-22.93198016932755,-19.86949505446246,-23.651458409656644,-25.36747499672607,-23.613258022164977,-8.135890720198347,-23.652366177840182,-22.73701486100054,-19.89457420752632,-23.48686598302112,-23.724055488204502,-8.135890720198347,-19.807680657862143,-23.652366177840182,-28.633920987357754,-23.493718851420663,-22.100315101836674,-8.135890720198347,-23.65936363644085,-22.26258413023529,-30.03321276448013,-23.50486890861525,-23.515977900238106,-23.48968789588101,-23.65936363644085,-23.652366177840182,-23.53965712727096,-2.501242200626004,-23.652366177840182,-2.501242200626004,-25.469955086957725,-25.513673225973893,-22.213865032134283,-19.91337994376673,-19.918527030159275,-30.03321276448013,-24.00892314920891,-23.528549092116897,-21.75732063771277,-23.652366177840182,-2.501242200626004,-15.880162327315896,-23.62057801188256,-23.62547545562188,-23.37087914790086,-8.135890720198347,-30.03321276448013,-23.68166159783415,-23.59345494924625,-24.966466359942885,-23.57669802149096,-16.690437557318464,-25.612764068813902,-23.53965712727096,-8.135890720198347,-23.62547545562188,-2.501242200626004,-8.135890720198347,-25.394747235498823,-23.53103954223585,-23.42946359631355,-28.290552519798347,-8.135890720198347,-8.135890720198347,-19.84757316684865,-23.652366177840182,-23.63500525801046,-8.135890720198347,-22.892057554565948,-2.501242200626004,-23.302318252316944,-23.46870426001278,-23.595498594800542,-19.760188995545462,-23.541812243632904,-23.559131335715936,-28.290552519798347,-23.5272590329992,-23.202268092167245,-26.91187688025885,-25.46101647360314,-2.501242200626004,-23.410633365293403,-8.135890720198347,-29.40523713119915,-2.501242200626004,-8.135890720198347,-21.21170599189456,-23.53243832363705,-23.589847401363585,-30.03321276448013,-15.813933452398985,-23.55364177873547,-23.69118300968993,-19.951799038267147,-27.81772374608258,-11.83455242799876,-8.135890720198347,-23.66385515483215,-23.652366177840182,-23.69101304628181,-23.552336441109283,-23.531424390734568,-22.868363814263645,-23.552336441109283,-8.045413124545014,-28.290552519798347,-19.9264100998534,-30.077760743041143,-23.515977900238106,-22.757096912776348,-23.652366177840182,-23.42946359631355,-21.3635017097994,-26.226411667053,-22.285564358190715,-30.03321276448013,-23.003301740276893,-23.55305446892853,-12.89316674808706,-19.45799501338864,-20.46253562176836,-11.304164446373438,-23.04955173261455,-23.503984838767177,-30.03321276448013,-8.135890720198347,-23.652366177840182,-30.03058947301783,-29.68433084309637,-22.892057554565948,-2.501242200626004,-23.595498594800542,-30.00648930091964,-23.425555705619,-23.719576291836983,-23.652366177840182,-21.3635017097994,-16.696727724111284,-25.456349625618472,-27.10572411117105,-23.652366177840182,-2.501242200626004,-22.93526347623966,-21.83491864103435,-23.652366177840182,-8.135890720198347,-23.6346070261456,-20.43232199650956,-26.610216926670343,-23.530395619220247,-23.48115800015399,-23.21174633273221,-23.553659985884053,-23.541905853440447,-22.43118412282637,-19.9318555870041,-5.886563452788081,-24.951755468655858,-25.38230981687026,-23.580395310431417,-23.69118300968993,-23.522840094345344,-2.501242200626004,-30.03321276448013,-23.595498594800542,-22.767878146745,-23.525428760068145,-19.89744032717272,-3.786626668221328,-23.69101304628181,-25.53849934881501,-19.9178260281884,-23.59250411503919,-25.44178653148089,-22.769600179710007,-3.717490463103508,-23.589847401363585,-25.51124719435153,-25.437225932288545,-25.469955086957725,-22.9140200060427,-8.135890720198347,-23.54339460016357,-21.75732063771277,-21.75732063771277,-23.37087914790086,-23.53965712727096,-22.55124525869924,-23.70019768743884,-8.135890720198347,-23.587353600670152,-23.652366177840182,-23.519193185045896,-2.501242200626004,-22.92496986205362,-25.45693388285516,-23.62547545562188,-23.50893894612541,-22.91624456473871,-30.01552834486621,-26.2644850091146,-29.16744881112399,-30.03321276448013,-19.86949505446246,-30.077760743041143,-23.522840094345344,-23.521944210545936,-23.54890998191391,-19.89457420752632,-29.68433084309637,-2.501242200626004,-30.00818156770628,-22.892057554565948,-27.00447650803857,-5.12360945433745,-8.135890720198347,-23.492024033814,-23.652366177840182,-22.905686000249105,-23.209471278916475,-23.652366177840182,-22.8221365108088,-22.892057554565948,-18.50726515886232,-14.223207197286875,-2.501242200626004,-19.884069370503447,-29.919402974839493,-23.66130475506377,-23.04955173261455,-23.50832107138193,-18.77576518394664,-19.506713154390688,-23.427901225690103,-27.60657304539599,-23.59494035584984,-19.86949505446246,-2.501242200626004,-22.757882920125365,-29.674727503663902,-2.501242200626004,-23.57727689232054,-23.53983233291429,-23.21174633273221,-23.5711528559151,-23.589847401363585,-23.652366177840182,-25.54232647353517,-23.53994436316013,-23.589847401363585,-23.550472430843698,-23.10162100644003,-23.65936363644085,-27.21992557329001,-23.652366177840182,-26.32827519256354,-23.580395310431417,-8.135890720198347,-23.484769700217907,-30.00818156770628,-23.543150156894832,-29.919402974839493,-23.7639730208048,-23.58741915450063,-22.892057554565948,-22.740325486164828,-23.515977900238106,-2.501242200626004,-23.538268511790665,-23.69101304628181,-22.979900329721083,-22.767878146745,-23.543150156894832,-23.490758745356786,-19.760188995545462,-23.552336441109283],\"legendgroup\":\"\",\"lon\":[-46.60072914501389,-44.24816336596759,-43.20123507158808,-43.01399541493808,-38.65536409195578,-46.703810106207634,-46.5065203579325,-46.53686856423848,-46.53822847017662,-51.14505892899358,-43.931234581848464,-46.63942263256764,-46.85396269506087,-43.92370433417947,-34.90083430094547,-46.75575337195744,-46.75575337195744,-46.54737185794935,-46.54737185794935,-45.908593804889406,-46.53686856423848,-51.36500347341602,-49.02934087244578,-46.632613806421325,-46.50082148805862,-46.41912533835566,-46.47823694263504,-46.51858686166485,-34.93253582376317,-46.37405086923973,-54.26251143307887,-49.30945498395364,-43.95094395435073,-48.8518015892504,-46.5474065279164,-46.564296407294165,-44.1136240110523,-49.30945498395364,-51.14505892899358,-48.82974353343713,-34.93253582376317,-46.75575337195744,-46.72025344447433,-46.952915158144144,-46.564296407294165,-46.84796832895859,-46.56414467348053,-46.523183340521726,-44.05212106582629,-46.439816187506,-50.330752255444736,-44.24816336596759,-51.23023949816572,-46.72898406045395,-46.64072797271628,-46.74118636634989,-43.42307905240662,-46.50673902926125,-44.24816336596759,-46.53686856423848,-46.55233201188834,-46.952915158144144,-46.952915158144144,-44.24816336596759,-51.231437899598326,-47.5792958770093,-43.942417941975386,-46.64072797271628,-49.28531986744622,-51.3724500454798,-34.93253582376317,-46.32962527759821,-49.28860985729242,-54.26251143307887,-46.844150475904215,-44.24816336596759,-53.3145970174448,-47.08244278411783,-38.33787462509412,-46.62000602777737,-49.22221684743829,-46.56533761884633,-43.95094395435073,-34.93253582376317,-46.75575337195744,-46.61525833895384,-47.05654899637806,-46.66989690432334,-51.14505892899358,-43.93988998298764,-48.07391298482992,-51.231437899598326,-44.96154905740904,-44.24816336596759,-46.75575337195744,-34.93253582376317,-51.231437899598326,-44.24816336596759,-43.18726357297112,-47.43358387554184,-46.53363245277436,-46.75575337195744,-46.49010130952279,-37.451862106329045,-46.321938826751385,-46.56294917650381,-46.31950127100399,-51.231437899598326,-46.632613806421325,-36.57020044972058,-46.65711200863415,-47.41705497247527,-46.559726963517065,-51.07030394103,-34.93253582376317,-47.07428354596361,-46.523183340521726,-43.94586443137008,-46.50691508220304,-46.84796832895859,-51.23023949816572,-46.53686856423848,-46.1955458411618,-44.24816336596759,-49.24877341863132,-44.02640958503362,-40.41167522341208,-34.93253582376317,-51.097790640776445,-51.399092120481285,-47.0504642669472,-47.08244278411783,-49.112263234420354,-43.942417941975386,-46.564296407294165,-46.439816187506,-52.18011144119088,-46.73068651777817,-47.5792958770093,-46.735881844474896,-51.14505892899358,-46.75575337195744,-42.9702210850494,-44.24816336596759,-46.62455025944192,-44.02242139461151,-34.93253582376317,-48.65532838709397,-46.57173940927547,-46.59132639890193,-46.53726820837794,-44.24816336596759,-34.93253582376317,-51.14505892899358,-44.196037480396015,-46.63508761691669,-35.126887193067326,-46.61645866896796,-46.564296407294165,-44.02943024506619,-34.93253582376317,-49.35334480373747,-44.24816336596759,-49.24469282203206,-43.20123507158808,-46.53686856423848,-46.49010130952279,-44.24816336596759,-53.46264400005701,-46.73414273203397,-46.439816187506,-46.60072914501389,-46.37405086923973,-53.0637135521321,-46.517872723882775,-46.523183340521726,-44.24816336596759,-49.60221269289015,-50.42571007913951,-46.75575337195744,-46.479396724588405,-51.14505892899358,-46.53686856423848,-50.330752255444736,-43.914739731934176,-34.93253582376317,-46.85398781828784,-46.564296407294165,-46.62468256911272,-46.523183340521726,-46.51583258285473,-46.523183340521726,-47.89330451642298,-46.75575337195744,-34.93253582376317,-51.097790640776445,-46.84796832895859,-48.82974353343713,-46.68180588603656,-46.44423827270244,-46.52164439061696,-38.65536409195578,-47.92443250257791,-46.66091832100332,-46.552880539877926,-47.19898012005197,-46.52385416525664,-46.45695782334157,-45.97188817895197,-46.75575337195744,-46.632613806421325,-44.24816336596759,-47.07428354596361,-46.75575337195744,-46.54737185794935,-35.126887193067326,-38.59928475757382,-49.60221269289015,-46.54737185794935,-46.49010130952279,-46.53686856423848,-46.62455025944192,-44.24816336596759,-51.3724500454798,-46.89675369133934,-46.523183340521726,-34.93253582376317,-42.92677954827477,-44.196037480396015,-34.93253582376317,-47.30922889223856,-46.49116730072025,-38.33787462509412,-46.47823694263504,-46.53686856423848,-40.41167522341208,-46.63188421270581,-46.726588049747335,-46.63294793571506,-47.27033542521254,-35.20824131593824,-46.63462180317358,-47.00268239234955,-46.75575337195744,-46.53726820837794,-47.31338383666045,-48.24926718659151,-38.65536409195578,-52.79025576343903,-34.90021057469489,-51.09298402937748,-42.6286140396501,-47.17665406567105,-51.3724500454798,-63.89356545864416,-51.09298402937748,-47.560436700322384,-46.623333307785806,-38.65536409195578,-49.18419913151328,-46.523183340521726,-51.20130443913633,-46.53686856423848,-46.523183340521726,-47.90892483428426,-46.51614189492681,-48.104958853481016,-51.16270825237461,-46.6256721599388,-46.75575337195744,-44.24816336596759,-46.53686856423848,-46.61525833895384,-46.69403108090457,-44.24816336596759,-51.1571364228282,-43.931234581848464,-46.54373229668177,-34.93253582376317,-51.231437899598326,-46.59132639890193,-46.60119064355825,-46.58831651709552,-43.01399541493808,-48.42646639542672,-43.322271046058205,-46.703810106207634,-34.93253582376317,-46.51702870503608,-43.931234581848464,-44.24816336596759,-38.33787462509412,-46.61200044104113,-35.126887193067326,-49.07692500050797,-46.64072797271628,-46.703810106207634,-34.93253582376317,-46.93598735087051,-46.51312842218974,-46.3377311534732,-46.58831651709552,-43.18726357297112,-47.31203571315089,-47.41705497247527,-46.49010130952279,-43.95094395435073,-49.231063871318334,-46.559726963517065,-47.83762131131263,-46.564296407294165,-46.75575337195744,-46.89675369133934,-46.49010130952279,-46.552880539877926,-51.231437899598326,-47.82369973956138,-47.08244278411783,-46.60439300394289,-46.632613806421325,-49.176644834659655,-49.26917337587714,-44.24816336596759,-38.40540238991362,-47.38740999652927,-44.24816336596759,-49.30737230197128,-43.92370433417947,-46.75575337195744,-46.61200044104113,-34.93253582376317,-44.24816336596759,-46.60072914501389,-40.74612755881526,-49.30945498395364,-46.46281463364434,-51.231437899598326,-46.39471606155454,-44.24816336596759,-52.79025576343903,-51.23318877432423,-46.523183340521726,-51.3724500454798,-52.47011837512829,-46.70246251262529,-46.75575337195744,-46.61200044104113,-51.05330632286344,-46.523183340521726,-46.44423827270244,-44.24816336596759,-49.25560607832763,-45.839550230520295,-46.76287513805131,-53.747606481343865,-48.82974353343713,-49.30737230197128,-46.66166521796584,-47.27033542521254,-47.407128587319605,-46.447140971353605,-38.59928475757382,-45.43305899816512,-49.27871218867798,-43.00309374212152,-46.55233201188834,-46.49010130952279,-46.72367775577436,-46.564296407294165,-34.93253582376317,-46.5073074074444,-44.24816336596759,-46.70471877885835,-51.46796398824514,-48.053400718858086,-34.93253582376317,-54.26251143307887,-46.63508761691669,-49.411882265954304,-35.20824131593824,-49.30945498395364,-46.41912533835566,-52.79025576343903,-46.59132639890193,-49.26687451387349,-46.84569408911501,-51.231437899598326,-46.75575337195744,-46.523183340521726,-46.17112394057632,-44.24816336596759,-44.24816336596759,-44.24816336596759,-46.71083963489561,-44.196037480396015,-44.196037480396015,-44.24816336596759,-34.93253582376317,-46.63214323386248,-44.24816336596759,-48.53505780924213,-46.479396724588405,-46.84796832895859,-44.24816336596759,-46.632613806421325,-44.24816336596759,-46.42228420833628,-43.95094395435073,-46.54618856351207,-46.61165422508776,-34.93253582376317,-46.57340512991158,-44.24816336596759,-43.94538236770013,-47.422060378397546,-46.53884595688125,-44.24816336596759,-47.07428354596361,-46.68180588603656,-46.54152485277401,-46.523183340521726,-46.49030091198302,-46.75575337195744,-46.73414273203397,-46.650404148793,-46.75575337195744,-46.53686856423848,-46.76287513805131,-46.439816187506,-46.564296407294165,-46.552880539877926,-46.63508761691669,-50.330752255444736,-49.30945498395364,-35.296470274753084,-51.05330632286344,-51.231437899598326,-46.75575337195744,-47.11184149169856,-43.95094395435073,-46.66726499000773,-49.18419913151328,-46.68995373230166,-34.93253582376317,-46.75575337195744,-43.56361873677635,-43.931234581848464,-46.67379824356865,-46.85665731168744,-34.93253582376317,-43.98042684085742,-46.75575337195744,-49.02415747436295,-46.54618856351207,-51.40735633783322,-34.93253582376317,-46.523183340521726,-46.17112394057632,-51.231437899598326,-46.68260221605633,-46.54737185794935,-46.952915158144144,-46.523183340521726,-46.75575337195744,-46.63188421270581,-44.24816336596759,-46.75575337195744,-44.24816336596759,-49.28982106037588,-49.25560607832763,-49.95851972439901,-43.95870189476292,-43.93988998298764,-51.231437899598326,-46.41912533835566,-46.779788326644095,-48.82974353343713,-46.75575337195744,-44.24816336596759,-47.81695942803694,-46.52740978640328,-46.61200044104113,-46.84796832895859,-34.93253582376317,-51.231437899598326,-46.623333307785806,-46.55235596542038,-53.466729765315804,-46.71705184930481,-49.32701527508711,-49.37234951517323,-46.63188421270581,-34.93253582376317,-46.61200044104113,-44.24816336596759,-34.93253582376317,-49.34443757980696,-46.51583258285473,-46.54959010802119,-54.26251143307887,-34.93253582376317,-34.93253582376317,-44.02943024506619,-46.75575337195744,-46.59911604502151,-34.93253582376317,-47.08244278411783,-44.24816336596759,-45.97188817895197,-46.51614189492681,-46.559726963517065,-47.93914526044794,-46.62455025944192,-46.50884108313166,-54.26251143307887,-46.61149456906234,-45.89802848030465,-48.65639411001171,-49.231063871318334,-44.24816336596759,-46.44516359725996,-34.93253582376317,-51.32578918258865,-44.24816336596759,-34.93253582376317,-50.40363945155295,-46.56432027972277,-46.632613806421325,-51.231437899598326,-47.94702492834328,-46.45266128745551,-46.67958429464096,-44.196037480396015,-50.330752255444736,-55.50810988391813,-34.93253582376317,-46.68579217808032,-46.75575337195744,-46.703810106207634,-46.53686856423848,-47.13442765046271,-43.46923216795061,-46.53686856423848,-34.89447935380134,-54.26251143307887,-43.94586443137008,-51.05330632286344,-46.54737185794935,-47.37609423222237,-46.75575337195744,-46.54959010802119,-48.22960077888058,-52.67454717796047,-48.53505780924213,-51.231437899598326,-46.83771515499862,-46.78198098470048,-38.33787462509412,-44.24812822762975,-45.43305899816512,-41.85580503001343,-46.552880539877926,-46.6256721599388,-51.231437899598326,-34.93253582376317,-46.75575337195744,-51.22769725328026,-51.09298402937748,-47.08244278411783,-44.24816336596759,-46.559726963517065,-51.07951429592407,-46.52529155803017,-46.564753092486725,-46.75575337195744,-48.22960077888058,-49.26744894449621,-49.26500692384353,-48.93331822533233,-46.75575337195744,-44.24816336596759,-43.18726357297112,-46.89918572591988,-46.75575337195744,-34.93253582376317,-46.735881844474896,-54.67213920600791,-49.00253404801828,-46.56597235661916,-46.71053625522482,-46.76287513805131,-46.572282911105056,-46.63508761691669,-42.9702210850494,-43.93264743101025,-35.20824131593824,-53.42517181498286,-51.45456651508261,-46.59132639890193,-46.67958429464096,-46.1955458411618,-44.24816336596759,-51.231437899598326,-46.559726963517065,-47.38550081126996,-46.51380633487217,-43.957177760395545,-38.567945481184445,-46.703810106207634,-49.19950992683624,-43.942417941975386,-46.60240268369203,-49.311076015365074,-47.150402273886925,-38.59928475757382,-46.632613806421325,-54.58574137255735,-49.19396558589783,-49.28982106037588,-47.01353540823248,-34.93253582376317,-46.262085681846166,-48.82974353343713,-43.30454037225461,-46.84796832895859,-46.63188421270581,-47.90659642198055,-46.51312842218974,-34.93253582376317,-46.61525833895384,-46.75575337195744,-46.53363245277436,-44.24816336596759,-47.07428354596361,-49.30945498395364,-46.61200044104113,-46.15005921825602,-43.217950335265314,-51.16270825237461,-48.807255525275366,-51.15483116731141,-51.231437899598326,-43.95094395435073,-51.05330632286344,-46.1955458411618,-46.34087492614053,-46.42292496090773,-43.931234581848464,-51.09298402937748,-44.24816336596759,-51.20130443913633,-47.08244278411783,-51.15253710423867,-42.76834387096315,-34.93253582376317,-46.72898406045395,-46.75575337195744,-43.17715630706046,-47.30922889223856,-46.75575337195744,-47.27033542521254,-47.08244278411783,-54.74875310212911,-42.78339770003472,-44.24816336596759,-44.02242139461151,-51.14505892899358,-46.564296407294165,-47.83762131131263,-46.48545545756666,-42.93166199720475,-42.6286140396501,-51.42388542180936,-48.59271208975145,-46.54115925090763,-43.95094395435073,-44.24816336596759,-47.41705497247527,-51.06040344017741,-44.24816336596759,-46.56338617640832,-46.44479870320024,-46.76287513805131,-46.62043601303771,-46.632613806421325,-46.75575337195744,-49.18219514723537,-46.439816187506,-46.632613806421325,-46.53884595688125,-47.711819140556784,-46.523183340521726,-52.02327989668861,-46.75575337195744,-48.88032525991248,-46.59132639890193,-34.93253582376317,-46.73414273203397,-51.20130443913633,-46.49010130952279,-51.14505892899358,-46.68808147880212,-46.581435332792125,-47.08244278411783,-46.89675369133934,-46.54737185794935,-44.24816336596759,-46.63942263256764,-46.703810106207634,-43.49176475913367,-47.38550081126996,-46.49010130952279,-46.58336932471798,-47.93914526044794,-46.53686856423848],\"marker\":{\"color\":[16.585792869269948,12.38377584216602,10.98943775049625,11.386592679709684,10.16257298035294,10.810936292271307,10.094419584183123,11.404568608475667,10.776589588744974,10.75544690110953,10.10244707369308,10.0448578383246,17.832482400773635,10.05225895141435,11.345783341409094,13.529292620476172,14.530683505844207,11.63934251553422,11.377250117315814,13.483417195762357,10.727456199773444,10.049354467510527,12.037680545506497,10.623133345297232,12.279452974413484,12.98617447999228,12.005667674696758,14.620740450899383,10.389682640030346,16.13202549734074,10.670679321964144,10.672430878461522,13.77185409377269,11.458812348848593,10.41603495157926,10.892813372969272,13.19107903822825,12.260876230578386,10.439609339722956,11.515919478968428,10.653492966277586,12.50220730747044,10.004599763872491,11.544137831248404,10.485746224843242,11.005964979796037,15.271473510528391,13.691359453672089,10.757125591701078,14.360260654689782,13.319356001182518,12.902010339409284,10.606500444816824,12.1089799370044,12.644296490943178,10.067458901665889,10.6377254691832,10.006671918202915,10.567439847987634,11.205237088291256,12.297932029887471,11.760405070564154,11.885798197241185,10.445989559094311,11.209778678064886,15.386645108256284,16.197609861673097,10.9058538378958,11.36670588462206,12.80953369862138,12.643692355188517,10.880351198873347,10.160223267550776,10.263138316614851,13.928665121769928,18.726549310635903,11.926306832895564,19.45896524199985,11.281663324109568,10.274478260350175,10.386056344953047,10.261078506837585,10.698079430680488,11.079470457296834,10.216917456336043,40.36769566814219,11.003909949729216,14.176919670534057,16.355994366118615,11.428001893703437,13.835052769763628,10.175,10.50962849556252,10.938649082330777,12.294981292736422,16.39181397597017,12.184132047366123,12.437636957202272,11.67920043361,14.392699628597958,13.27534112083993,20.86720415118077,12.863828048768136,11.434867184630413,12.506536471616997,11.173574159007504,10.976960851602737,14.107604104241323,10.293876026885735,13.35173962354936,17.295257717558318,15.139940446388572,12.888310674559293,11.481720078482669,10.318252392976689,11.465034919220638,10.542535872487033,24.537603944764644,12.37387884518824,14.608526720668117,10.611623795659,10.690741035776608,10.102261264139631,52.541239251422304,13.83041171006164,11.106726213210408,11.75333700422066,11.210785925682345,10.375783117515777,10.35057099680548,11.11248572172644,13.725594189053414,16.526498115075036,11.00420934557369,11.559794071621347,12.804245273692828,10.25269093310136,10.374557459840814,15.893102202961355,13.023962170515112,10.223233676077456,10.16744357587474,11.526239714136318,10.793453664408872,10.160976681589718,10.419469118757975,15.097351919253883,10.892851098567432,13.87584187408492,16.22770980684751,11.02025352913591,11.940041985755132,10.0235974568162,10.318807219461156,11.96069798657718,20.425695380152597,13.10693801041702,13.92713829314975,12.25556519542704,10.216562707365629,10.756227427161216,10.269468055095608,10.813695195560934,16.115675407395152,14.07274841925509,14.472471046812336,12.314814403817344,11.521436716077536,10.088203393203642,10.05552910812714,16.76326963723418,15.831866842067948,10.983343885603102,11.645119937112892,12.160195386850956,16.65573403104988,10.400470332449611,10.028263388645456,10.818097972226914,10.971137521222412,13.09042816605854,10.453912350986112,11.96900163297483,10.213678516228748,13.29006169160331,10.289311906016696,11.119012935043964,10.33947295288679,11.513497372193024,13.381753559890646,11.577065962720924,11.131725793282952,10.205550790943686,15.996380985800863,13.761348929860134,11.271975745113878,10.007475795730327,11.567423862657076,10.019646922586084,26.489042821158687,14.294164067051558,28.902217619330184,13.250665211734583,11.211924276309574,10.10474838220674,19.10288458309547,12.653024682214252,10.941844132858105,10.18499191308859,18.58812384573601,10.327325061804338,10.808580272429069,14.954713097178146,15.703478288467748,10.000448605354968,17.400291215013752,11.720648870162307,11.017574182329678,11.799360694456466,13.014718087755217,10.027619150463387,11.01919182098406,11.604497283642935,12.388811542842676,10.32741143195489,11.606029969751916,10.482052486542438,15.089765137950414,13.270270008127982,12.889352439688013,11.373823234519046,13.722022868463691,10.663143649936352,10.930464385348138,10.6547752494115,11.174618808599298,10.941308515028677,10.653338008699658,13.287695905193615,10.156612913929258,10.699481818730256,17.07778084195633,12.152633901784696,10.424817050154438,11.853575777053962,10.107771515846578,16.50852770043847,12.136323056213696,10.216963617523458,10.276417631829156,12.784442836549806,10.506781139131864,10.874022721914606,10.502069682186878,11.803427921200484,14.232377657874451,10.287632175650495,11.490919022258636,12.16859955672388,10.548597822500826,15.185693660885365,11.003333214014235,14.502989413277602,11.102727668300062,10.084663786139377,13.397464439878878,25.74818543978753,17.885153004690107,10.005003315055848,10.401539916940912,11.82153426285982,11.246199364701631,11.8290678750359,12.501101002856316,11.79376381457813,10.75691551952782,11.208511879544682,10.75509863536732,10.43435662965382,10.77943541867016,10.088449537222491,11.05349846782431,12.949327742360154,11.396211490992403,10.839938717929163,13.151602997174791,10.526540095110176,15.005117835528656,10.27086019705514,10.300014858525609,13.216954574435922,10.028316858619752,10.27240806533475,11.317759671994946,10.962282056706323,10.94651325593656,11.634480600505134,11.170072502861954,10.571369480995934,10.295257840845746,13.851089232259962,12.015665416215745,10.392556051072148,10.101568526613525,12.34662066445356,12.906112657165206,10.763194721386364,12.9120077897936,15.971476755847188,14.206210361584713,10.93504312045544,10.685681190736524,10.150232128625824,12.399099858458309,10.999289764966838,16.572446528585925,10.75846143941399,12.635953673138252,22.9102965753958,14.695932836442562,11.097646657262558,10.687951031429431,15.408343786143645,11.58130230125523,10.18841371657237,14.652876310751816,11.434365338233455,12.529019359840062,19.35637531288716,10.735446447068572,11.150626071044025,11.078187904136136,10.445439382832063,18.33127783870896,10.29841621767022,11.44934249601061,10.773282325156336,10.54015242956168,19.015567738851573,15.027928908233587,11.007243934981837,25.495185886574305,18.67813808886394,10.652191165642794,11.192575838108578,10.916859690403385,10.87288350016974,12.703230468557535,14.52042432897532,10.623151689847946,13.17246393020915,16.994689373282593,10.457193553156884,12.049716832834472,13.830404165089783,57.09522788203754,10.320863143614094,10.580071024950344,14.820060825600992,11.226797460172618,11.136847498433102,10.656209988799995,12.665749656121044,10.230039076573457,11.478934246900598,13.084536802584472,18.242326452185047,13.97892840319928,10.725762363421785,12.047763040774711,10.115662839452956,13.610130701661554,10.868153138504317,11.064322256991009,10.809909821340794,15.881811394843323,11.969303775621064,26.69090883320104,13.2557389389036,12.286848367911908,11.359549096255774,10.2697552964697,14.50433380017257,16.453111893596176,14.21002922020093,12.81723863216661,10.05212031888524,10.969182151564198,11.332922184112284,26.39342382598432,12.85715484800582,11.082505969586528,10.646932288311122,10.09494322691523,10.808679821971104,14.93621834051158,13.25452905327858,11.33559376673018,10.422044393194067,11.547453250919334,12.291065413855511,11.75916122304696,10.713636605420598,10.10351271244454,10.846474241248888,11.50131576419969,12.77930660904755,10.953817153628652,15.31246211102323,15.507216300349024,10.930617642240268,10.327504397489632,10.371257880485858,10.184728983565853,12.677886803137504,13.810094019623463,12.928631535493706,10.308240495006322,10.872358210703707,13.457537104651715,12.617576374304456,13.066203014719967,11.106773638433008,13.211209728143125,10.94911945770395,10.5543825660405,26.99883559206909,16.83312777712075,21.735608922569984,12.56061282068106,11.517171365587656,14.14375694455961,10.336386696272848,11.293491124260354,11.771887417795874,14.345922023390028,17.21768620041801,14.155533755790692,14.428152142105557,16.150382848392038,11.263668180850084,10.911512771945429,14.57008742836493,11.418617405108964,11.620455313742177,12.81544544852249,21.714665964390854,12.052758962259617,10.755888416377015,13.904255629235587,14.128950118563235,11.325068942875903,10.734378742492837,12.889639852303166,10.677443292226616,12.388637376405471,10.695251049736829,14.615359261700725,10.554127381875212,11.119268957033652,10.791266424534784,10.925406635543885,10.03479251244558,15.012803251900568,18.12049884158531,12.06666853677946,10.05102385822317,12.96795994993742,11.841766495912635,12.892126431785814,11.458219963940335,10.71557254697826,11.632804290838097,12.38694856399236,13.764231687898086,12.47642775625673,11.508555510744426,10.147007839037538,10.450450030312922,10.31413479539984,10.054610627646504,10.815431574902632,10.424298889811002,13.775091904781386,14.998962057432822,11.253168166126391,11.32556645542148,11.351431212094637,10.41592192227954,10.619385203272426,10.62359670567014,11.885507833719917,12.269915910281275,17.418496933594433,13.061082168463404,11.901428731720088,10.366436519135275,11.751381806511429,12.019148271257706,10.067518641954589,11.306348362644728,10.421155490411628,16.200650947211646,10.083502063436452,16.053933535894636,10.601662589585356,10.214352888873693,11.81532027388294,10.133201462354958,10.14094657740929,15.307933090814837,21.080963085199,14.42746993116188,11.645317852022892,10.327437563440348,15.989723264903626,15.800664958225765,10.029586543939072,12.72968196585802,10.155855525174744,14.962678000806628,11.0361161440722,13.275647630637394,18.20963029938437,11.298073611325549,10.470251874926657,11.34450024654382,10.522694309066038,26.13105235968309,12.242086234953227,20.38792679789955,11.693382827841312,19.372816574189983,13.630545448296898,10.218841875603562,18.352898130926608,14.398722951401206,12.13171039933104,10.647017095347438,23.83044181547147,17.006119515018895,10.022914781419397,10.268712977298716,16.017587299893535,11.66390599679231,10.488362725696572,18.692908179339472,24.94306663867968,10.031274238357362,27.723283871681847,10.36045279241617,10.864302053142932,11.230295660356727,11.01318077959281,16.801110900713248,14.62144842450753,13.008659579074244,11.417856069556912,15.823543001787971,11.08490347748764,10.21254335237816,14.488937573856642,10.263747764504766,18.03616050424561,10.941434574907513,11.030792236818831,16.326881206989405,10.170571629064764,23.86293487689044,15.060987030474712,11.492132769396262,11.015346118849305,10.609009141887883,12.616357877067747,10.1097588978186,10.87299055910368,12.179475736105012,12.242950795092003,10.373577090527451,10.154348590070205,12.934807278778182,20.05370069347803,10.596523429064996,11.478799390968009,12.822255138553716,14.034929223465346,10.742227979274611,13.036017048648418,16.52921937286167,12.04009173435805,11.899876994867816,16.842161041354682,16.033895333862837,11.969008127567474,11.918641549525008,14.642112838966714,10.475595208396644,11.761917245472066,10.18337298098252,10.99365745108495,16.05299071483059,10.180075776121202,15.978179484436836,12.431068289067555,10.98738207325315,10.723418965097144,10.70378335142547,10.730381406875397,13.315527118517968,16.98872196246256,11.320834505530302,22.520943787809657,12.862099987148182,11.254292858665885,20.89275535928636,10.21741108396291,11.631362593597522,15.391576332023392,12.921167043107149,10.072930533593205,15.680272123470434,15.159385612429382,11.305180305217316,10.437667120813456,11.365797411796198,10.839210907152106,15.24800654262932,11.493761724160096,10.12144129731302,10.000504304140083,10.9692794742891,11.465507012642917,10.20855646356314,10.294743896577216,10.37883500867686,12.261025225923012,10.91539891764796,10.47467567395617,13.9361571018535,10.31672117984626,12.9416956321154,11.317002908005945,11.103782684103066,11.714175849850085,18.893737574552684,10.110663608443804,11.00718493395216,10.434390416792397,11.051415211129878,11.16758407032564,11.764333808172006,10.714496130410968,12.49998582182538,10.388661388415745,10.74918451013492,17.224108577252874,12.701623123018525,12.204057455945506,12.274257295636264,11.779499601805153,10.476573320809388,18.923658529437624,10.794928926117713,10.423078796297668,11.091719660498404,10.29266647888598,10.559861486166952,18.77903311492828,14.460769331970486,10.298360456397058,10.65368727425746,14.049211042477824,12.330987613477705,10.287330497145833,10.855815702338765,11.427735531373571,10.725727034017098,16.671336468514806,13.022250611406571,12.0401802962009,10.473970523901444,10.58487949818422,14.291949309076502,12.932031209090434,10.062100499952036,10.064097252423462,10.222579647386327,12.879467266027868,10.355924552510714,12.69942625656683,13.445610536055884,10.22393496734088,10.395818666242098,17.77359873000366,12.0898210549327,14.868896152879056,10.469301387165032,19.16330830317109,21.79579211673874,10.778556125848771,10.61357712184178,27.21728033472803,11.468316728277506,40.01447183647995,16.0646961303627,16.220546185721492,10.124854679951431,10.012892312940645,11.298230300225848,12.071309790239953,13.970684785842847,10.032790134877306,10.06700063469036,10.143019753101948,10.6823452922087],\"coloraxis\":\"coloraxis\"},\"mode\":\"markers\",\"name\":\"\",\"showlegend\":false,\"subplot\":\"mapbox\",\"type\":\"scattermapbox\"}],                        {\"coloraxis\":{\"colorbar\":{\"title\":{\"text\":\"delivery_speed_km_per_hour\"}},\"colorscale\":[[0.0,\"#000000\"],[0.0625,\"#001f4d\"],[0.125,\"#003786\"],[0.1875,\"#0e58a8\"],[0.25,\"#217eb8\"],[0.3125,\"#30a4ca\"],[0.375,\"#54c8df\"],[0.4375,\"#9be4ef\"],[0.5,\"#e1e9d1\"],[0.5625,\"#f3d573\"],[0.625,\"#e7b000\"],[0.6875,\"#da8200\"],[0.75,\"#c65400\"],[0.8125,\"#ac2301\"],[0.875,\"#820000\"],[0.9375,\"#4c0000\"],[1.0,\"#000000\"]]},\"legend\":{\"tracegroupgap\":0},\"mapbox\":{\"center\":{\"lat\":-20.71593036962935,\"lon\":-46.104731244024464},\"domain\":{\"x\":[0.0,1.0],\"y\":[0.0,1.0]},\"style\":\"carto-positron\",\"zoom\":2},\"template\":{\"data\":{\"bar\":[{\"error_x\":{\"color\":\"#2a3f5f\"},\"error_y\":{\"color\":\"#2a3f5f\"},\"marker\":{\"line\":{\"color\":\"#E5ECF6\",\"width\":0.5},\"pattern\":{\"fillmode\":\"overlay\",\"size\":10,\"solidity\":0.2}},\"type\":\"bar\"}],\"barpolar\":[{\"marker\":{\"line\":{\"color\":\"#E5ECF6\",\"width\":0.5},\"pattern\":{\"fillmode\":\"overlay\",\"size\":10,\"solidity\":0.2}},\"type\":\"barpolar\"}],\"carpet\":[{\"aaxis\":{\"endlinecolor\":\"#2a3f5f\",\"gridcolor\":\"white\",\"linecolor\":\"white\",\"minorgridcolor\":\"white\",\"startlinecolor\":\"#2a3f5f\"},\"baxis\":{\"endlinecolor\":\"#2a3f5f\",\"gridcolor\":\"white\",\"linecolor\":\"white\",\"minorgridcolor\":\"white\",\"startlinecolor\":\"#2a3f5f\"},\"type\":\"carpet\"}],\"choropleth\":[{\"colorbar\":{\"outlinewidth\":0,\"ticks\":\"\"},\"type\":\"choropleth\"}],\"contour\":[{\"colorbar\":{\"outlinewidth\":0,\"ticks\":\"\"},\"colorscale\":[[0.0,\"#0d0887\"],[0.1111111111111111,\"#46039f\"],[0.2222222222222222,\"#7201a8\"],[0.3333333333333333,\"#9c179e\"],[0.4444444444444444,\"#bd3786\"],[0.5555555555555556,\"#d8576b\"],[0.6666666666666666,\"#ed7953\"],[0.7777777777777778,\"#fb9f3a\"],[0.8888888888888888,\"#fdca26\"],[1.0,\"#f0f921\"]],\"type\":\"contour\"}],\"contourcarpet\":[{\"colorbar\":{\"outlinewidth\":0,\"ticks\":\"\"},\"type\":\"contourcarpet\"}],\"heatmap\":[{\"colorbar\":{\"outlinewidth\":0,\"ticks\":\"\"},\"colorscale\":[[0.0,\"#0d0887\"],[0.1111111111111111,\"#46039f\"],[0.2222222222222222,\"#7201a8\"],[0.3333333333333333,\"#9c179e\"],[0.4444444444444444,\"#bd3786\"],[0.5555555555555556,\"#d8576b\"],[0.6666666666666666,\"#ed7953\"],[0.7777777777777778,\"#fb9f3a\"],[0.8888888888888888,\"#fdca26\"],[1.0,\"#f0f921\"]],\"type\":\"heatmap\"}],\"heatmapgl\":[{\"colorbar\":{\"outlinewidth\":0,\"ticks\":\"\"},\"colorscale\":[[0.0,\"#0d0887\"],[0.1111111111111111,\"#46039f\"],[0.2222222222222222,\"#7201a8\"],[0.3333333333333333,\"#9c179e\"],[0.4444444444444444,\"#bd3786\"],[0.5555555555555556,\"#d8576b\"],[0.6666666666666666,\"#ed7953\"],[0.7777777777777778,\"#fb9f3a\"],[0.8888888888888888,\"#fdca26\"],[1.0,\"#f0f921\"]],\"type\":\"heatmapgl\"}],\"histogram\":[{\"marker\":{\"pattern\":{\"fillmode\":\"overlay\",\"size\":10,\"solidity\":0.2}},\"type\":\"histogram\"}],\"histogram2d\":[{\"colorbar\":{\"outlinewidth\":0,\"ticks\":\"\"},\"colorscale\":[[0.0,\"#0d0887\"],[0.1111111111111111,\"#46039f\"],[0.2222222222222222,\"#7201a8\"],[0.3333333333333333,\"#9c179e\"],[0.4444444444444444,\"#bd3786\"],[0.5555555555555556,\"#d8576b\"],[0.6666666666666666,\"#ed7953\"],[0.7777777777777778,\"#fb9f3a\"],[0.8888888888888888,\"#fdca26\"],[1.0,\"#f0f921\"]],\"type\":\"histogram2d\"}],\"histogram2dcontour\":[{\"colorbar\":{\"outlinewidth\":0,\"ticks\":\"\"},\"colorscale\":[[0.0,\"#0d0887\"],[0.1111111111111111,\"#46039f\"],[0.2222222222222222,\"#7201a8\"],[0.3333333333333333,\"#9c179e\"],[0.4444444444444444,\"#bd3786\"],[0.5555555555555556,\"#d8576b\"],[0.6666666666666666,\"#ed7953\"],[0.7777777777777778,\"#fb9f3a\"],[0.8888888888888888,\"#fdca26\"],[1.0,\"#f0f921\"]],\"type\":\"histogram2dcontour\"}],\"mesh3d\":[{\"colorbar\":{\"outlinewidth\":0,\"ticks\":\"\"},\"type\":\"mesh3d\"}],\"parcoords\":[{\"line\":{\"colorbar\":{\"outlinewidth\":0,\"ticks\":\"\"}},\"type\":\"parcoords\"}],\"pie\":[{\"automargin\":true,\"type\":\"pie\"}],\"scatter\":[{\"marker\":{\"colorbar\":{\"outlinewidth\":0,\"ticks\":\"\"}},\"type\":\"scatter\"}],\"scatter3d\":[{\"line\":{\"colorbar\":{\"outlinewidth\":0,\"ticks\":\"\"}},\"marker\":{\"colorbar\":{\"outlinewidth\":0,\"ticks\":\"\"}},\"type\":\"scatter3d\"}],\"scattercarpet\":[{\"marker\":{\"colorbar\":{\"outlinewidth\":0,\"ticks\":\"\"}},\"type\":\"scattercarpet\"}],\"scattergeo\":[{\"marker\":{\"colorbar\":{\"outlinewidth\":0,\"ticks\":\"\"}},\"type\":\"scattergeo\"}],\"scattergl\":[{\"marker\":{\"colorbar\":{\"outlinewidth\":0,\"ticks\":\"\"}},\"type\":\"scattergl\"}],\"scattermapbox\":[{\"marker\":{\"colorbar\":{\"outlinewidth\":0,\"ticks\":\"\"}},\"type\":\"scattermapbox\"}],\"scatterpolar\":[{\"marker\":{\"colorbar\":{\"outlinewidth\":0,\"ticks\":\"\"}},\"type\":\"scatterpolar\"}],\"scatterpolargl\":[{\"marker\":{\"colorbar\":{\"outlinewidth\":0,\"ticks\":\"\"}},\"type\":\"scatterpolargl\"}],\"scatterternary\":[{\"marker\":{\"colorbar\":{\"outlinewidth\":0,\"ticks\":\"\"}},\"type\":\"scatterternary\"}],\"surface\":[{\"colorbar\":{\"outlinewidth\":0,\"ticks\":\"\"},\"colorscale\":[[0.0,\"#0d0887\"],[0.1111111111111111,\"#46039f\"],[0.2222222222222222,\"#7201a8\"],[0.3333333333333333,\"#9c179e\"],[0.4444444444444444,\"#bd3786\"],[0.5555555555555556,\"#d8576b\"],[0.6666666666666666,\"#ed7953\"],[0.7777777777777778,\"#fb9f3a\"],[0.8888888888888888,\"#fdca26\"],[1.0,\"#f0f921\"]],\"type\":\"surface\"}],\"table\":[{\"cells\":{\"fill\":{\"color\":\"#EBF0F8\"},\"line\":{\"color\":\"white\"}},\"header\":{\"fill\":{\"color\":\"#C8D4E3\"},\"line\":{\"color\":\"white\"}},\"type\":\"table\"}]},\"layout\":{\"annotationdefaults\":{\"arrowcolor\":\"#2a3f5f\",\"arrowhead\":0,\"arrowwidth\":1},\"autotypenumbers\":\"strict\",\"coloraxis\":{\"colorbar\":{\"outlinewidth\":0,\"ticks\":\"\"}},\"colorscale\":{\"diverging\":[[0,\"#8e0152\"],[0.1,\"#c51b7d\"],[0.2,\"#de77ae\"],[0.3,\"#f1b6da\"],[0.4,\"#fde0ef\"],[0.5,\"#f7f7f7\"],[0.6,\"#e6f5d0\"],[0.7,\"#b8e186\"],[0.8,\"#7fbc41\"],[0.9,\"#4d9221\"],[1,\"#276419\"]],\"sequential\":[[0.0,\"#0d0887\"],[0.1111111111111111,\"#46039f\"],[0.2222222222222222,\"#7201a8\"],[0.3333333333333333,\"#9c179e\"],[0.4444444444444444,\"#bd3786\"],[0.5555555555555556,\"#d8576b\"],[0.6666666666666666,\"#ed7953\"],[0.7777777777777778,\"#fb9f3a\"],[0.8888888888888888,\"#fdca26\"],[1.0,\"#f0f921\"]],\"sequentialminus\":[[0.0,\"#0d0887\"],[0.1111111111111111,\"#46039f\"],[0.2222222222222222,\"#7201a8\"],[0.3333333333333333,\"#9c179e\"],[0.4444444444444444,\"#bd3786\"],[0.5555555555555556,\"#d8576b\"],[0.6666666666666666,\"#ed7953\"],[0.7777777777777778,\"#fb9f3a\"],[0.8888888888888888,\"#fdca26\"],[1.0,\"#f0f921\"]]},\"colorway\":[\"#636efa\",\"#EF553B\",\"#00cc96\",\"#ab63fa\",\"#FFA15A\",\"#19d3f3\",\"#FF6692\",\"#B6E880\",\"#FF97FF\",\"#FECB52\"],\"font\":{\"color\":\"#2a3f5f\"},\"geo\":{\"bgcolor\":\"white\",\"lakecolor\":\"white\",\"landcolor\":\"#E5ECF6\",\"showlakes\":true,\"showland\":true,\"subunitcolor\":\"white\"},\"hoverlabel\":{\"align\":\"left\"},\"hovermode\":\"closest\",\"mapbox\":{\"style\":\"light\"},\"paper_bgcolor\":\"white\",\"plot_bgcolor\":\"#E5ECF6\",\"polar\":{\"angularaxis\":{\"gridcolor\":\"white\",\"linecolor\":\"white\",\"ticks\":\"\"},\"bgcolor\":\"#E5ECF6\",\"radialaxis\":{\"gridcolor\":\"white\",\"linecolor\":\"white\",\"ticks\":\"\"}},\"scene\":{\"xaxis\":{\"backgroundcolor\":\"#E5ECF6\",\"gridcolor\":\"white\",\"gridwidth\":2,\"linecolor\":\"white\",\"showbackground\":true,\"ticks\":\"\",\"zerolinecolor\":\"white\"},\"yaxis\":{\"backgroundcolor\":\"#E5ECF6\",\"gridcolor\":\"white\",\"gridwidth\":2,\"linecolor\":\"white\",\"showbackground\":true,\"ticks\":\"\",\"zerolinecolor\":\"white\"},\"zaxis\":{\"backgroundcolor\":\"#E5ECF6\",\"gridcolor\":\"white\",\"gridwidth\":2,\"linecolor\":\"white\",\"showbackground\":true,\"ticks\":\"\",\"zerolinecolor\":\"white\"}},\"shapedefaults\":{\"line\":{\"color\":\"#2a3f5f\"}},\"ternary\":{\"aaxis\":{\"gridcolor\":\"white\",\"linecolor\":\"white\",\"ticks\":\"\"},\"baxis\":{\"gridcolor\":\"white\",\"linecolor\":\"white\",\"ticks\":\"\"},\"bgcolor\":\"#E5ECF6\",\"caxis\":{\"gridcolor\":\"white\",\"linecolor\":\"white\",\"ticks\":\"\"}},\"title\":{\"x\":0.05},\"xaxis\":{\"automargin\":true,\"gridcolor\":\"white\",\"linecolor\":\"white\",\"ticks\":\"\",\"title\":{\"standoff\":15},\"zerolinecolor\":\"white\",\"zerolinewidth\":2},\"yaxis\":{\"automargin\":true,\"gridcolor\":\"white\",\"linecolor\":\"white\",\"ticks\":\"\",\"title\":{\"standoff\":15},\"zerolinecolor\":\"white\",\"zerolinewidth\":2}}},\"title\":{\"text\":\"Location of fastest sellers\"}},                        {\"responsive\": true}                    ).then(function(){\n",
       "                            \n",
       "var gd = document.getElementById('f92fde6c-08d4-4486-88f2-ecdfdd917cdd');\n",
       "var x = new MutationObserver(function (mutations, observer) {{\n",
       "        var display = window.getComputedStyle(gd).display;\n",
       "        if (!display || display === 'none') {{\n",
       "            console.log([gd, 'removed!']);\n",
       "            Plotly.purge(gd);\n",
       "            observer.disconnect();\n",
       "        }}\n",
       "}});\n",
       "\n",
       "// Listen for the removal of the full notebook cells\n",
       "var notebookContainer = gd.closest('#notebook-container');\n",
       "if (notebookContainer) {{\n",
       "    x.observe(notebookContainer, {childList: true});\n",
       "}}\n",
       "\n",
       "// Listen for the clearing of the current output cell\n",
       "var outputEl = gd.closest('.output');\n",
       "if (outputEl) {{\n",
       "    x.observe(outputEl, {childList: true});\n",
       "}}\n",
       "\n",
       "                        })                };                });            </script>        </div>"
      ]
     },
     "metadata": {},
     "output_type": "display_data"
    }
   ],
   "source": [
    "# Visualize the fastest sellers\n",
    "fig = px.scatter_mapbox(data_all_agg[data_all_agg.delivery_speed_km_per_hour > 10], \n",
    "                        lat=\"seller_lat\", \n",
    "                        lon=\"seller_lng\", \n",
    "                        color=\"delivery_speed_km_per_hour\", \n",
    "                        color_continuous_scale=px.colors.cyclical.IceFire, size_max=15, zoom=2,\n",
    "                        mapbox_style=\"carto-positron\",\n",
    "                        title='Location of fastest sellers')\n",
    "fig.show()"
   ]
  },
  {
   "cell_type": "code",
   "execution_count": 48,
   "id": "increasing-advocate",
   "metadata": {},
   "outputs": [
    {
     "data": {
      "text/plain": [
       "SP    398\n",
       "RS     61\n",
       "MA     48\n",
       "MG     47\n",
       "PE     45\n",
       "PR     42\n",
       "SC     20\n",
       "RJ     17\n",
       "CE      8\n",
       "BA      7\n",
       "DF      5\n",
       "PB      3\n",
       "GO      3\n",
       "RN      3\n",
       "RO      2\n",
       "ES      2\n",
       "MS      2\n",
       "PI      1\n",
       "MT      1\n",
       "Name: seller_state, dtype: int64"
      ]
     },
     "execution_count": 48,
     "metadata": {},
     "output_type": "execute_result"
    }
   ],
   "source": [
    "# Check region with the fastest sellers\n",
    "data_all_agg[data_all_agg.delivery_speed_km_per_hour > 10]['seller_state'].value_counts()"
   ]
  },
  {
   "cell_type": "code",
   "execution_count": 50,
   "id": "sharp-festival",
   "metadata": {},
   "outputs": [
    {
     "data": {
      "text/plain": [
       "sao paulo         209\n",
       "sao luis           48\n",
       "recife             43\n",
       "belo horizonte     26\n",
       "curitiba           23\n",
       "Name: seller_city, dtype: int64"
      ]
     },
     "execution_count": 50,
     "metadata": {},
     "output_type": "execute_result"
    }
   ],
   "source": [
    "# Check region with the fastest sellers\n",
    "data_all_agg[data_all_agg.delivery_speed_km_per_hour > 10]['seller_city'].value_counts()[:5]"
   ]
  },
  {
   "cell_type": "markdown",
   "id": "controlled-battle",
   "metadata": {},
   "source": [
    "### **Correlation between delivery speed and time**"
   ]
  },
  {
   "cell_type": "code",
   "execution_count": 51,
   "id": "yellow-clinic",
   "metadata": {},
   "outputs": [
    {
     "data": {
      "text/html": [
       "<div>\n",
       "<style scoped>\n",
       "    .dataframe tbody tr th:only-of-type {\n",
       "        vertical-align: middle;\n",
       "    }\n",
       "\n",
       "    .dataframe tbody tr th {\n",
       "        vertical-align: top;\n",
       "    }\n",
       "\n",
       "    .dataframe thead th {\n",
       "        text-align: right;\n",
       "    }\n",
       "</style>\n",
       "<table border=\"1\" class=\"dataframe\">\n",
       "  <thead>\n",
       "    <tr style=\"text-align: right;\">\n",
       "      <th></th>\n",
       "      <th>seller_id</th>\n",
       "      <th>order_item_id</th>\n",
       "      <th>price</th>\n",
       "      <th>freight_value</th>\n",
       "      <th>product_weight_g</th>\n",
       "      <th>product_volume</th>\n",
       "      <th>customer_city</th>\n",
       "      <th>customer_state</th>\n",
       "      <th>customer_lat</th>\n",
       "      <th>customer_lng</th>\n",
       "      <th>seller_city</th>\n",
       "      <th>seller_state</th>\n",
       "      <th>seller_lat</th>\n",
       "      <th>seller_lng</th>\n",
       "      <th>order_purchase_timestamp</th>\n",
       "      <th>order_approved_at</th>\n",
       "      <th>shipping_limit_date</th>\n",
       "      <th>order_delivered_carrier_date</th>\n",
       "      <th>order_delivered_customer_date</th>\n",
       "      <th>order_estimated_delivery_date</th>\n",
       "      <th>distance_km</th>\n",
       "      <th>delivery_time_hours</th>\n",
       "      <th>delivery_time_days</th>\n",
       "      <th>delivery_speed_km_per_hour</th>\n",
       "    </tr>\n",
       "    <tr>\n",
       "      <th>order_id</th>\n",
       "      <th></th>\n",
       "      <th></th>\n",
       "      <th></th>\n",
       "      <th></th>\n",
       "      <th></th>\n",
       "      <th></th>\n",
       "      <th></th>\n",
       "      <th></th>\n",
       "      <th></th>\n",
       "      <th></th>\n",
       "      <th></th>\n",
       "      <th></th>\n",
       "      <th></th>\n",
       "      <th></th>\n",
       "      <th></th>\n",
       "      <th></th>\n",
       "      <th></th>\n",
       "      <th></th>\n",
       "      <th></th>\n",
       "      <th></th>\n",
       "      <th></th>\n",
       "      <th></th>\n",
       "      <th></th>\n",
       "      <th></th>\n",
       "    </tr>\n",
       "  </thead>\n",
       "  <tbody>\n",
       "    <tr>\n",
       "      <th>00010242fe8c5a6d1ba2dd792cb16214</th>\n",
       "      <td>48436dade18ac8b2bce089ec2a041202</td>\n",
       "      <td>1</td>\n",
       "      <td>58.9</td>\n",
       "      <td>13.29</td>\n",
       "      <td>650.0</td>\n",
       "      <td>3528.0</td>\n",
       "      <td>campos dos goytacazes</td>\n",
       "      <td>RJ</td>\n",
       "      <td>-21.762775</td>\n",
       "      <td>-41.309633</td>\n",
       "      <td>volta redonda</td>\n",
       "      <td>SP</td>\n",
       "      <td>-22.496953</td>\n",
       "      <td>-44.127492</td>\n",
       "      <td>2017-09-13 08:59:02</td>\n",
       "      <td>2017-09-13 09:45:35</td>\n",
       "      <td>2017-09-19 09:45:35</td>\n",
       "      <td>2017-09-19 18:34:16</td>\n",
       "      <td>2017-09-20 23:43:48</td>\n",
       "      <td>2017-09-29</td>\n",
       "      <td>301.50</td>\n",
       "      <td>182.746111</td>\n",
       "      <td>7.614421</td>\n",
       "      <td>1.649830</td>\n",
       "    </tr>\n",
       "    <tr>\n",
       "      <th>00018f77f2f0320c557190d7a144bdd3</th>\n",
       "      <td>dd7ddc04e1b6c2c614352b383efe2d36</td>\n",
       "      <td>1</td>\n",
       "      <td>239.9</td>\n",
       "      <td>19.93</td>\n",
       "      <td>30000.0</td>\n",
       "      <td>60000.0</td>\n",
       "      <td>santa fe do sul</td>\n",
       "      <td>SP</td>\n",
       "      <td>-20.220527</td>\n",
       "      <td>-50.903424</td>\n",
       "      <td>sao paulo</td>\n",
       "      <td>SP</td>\n",
       "      <td>-23.565096</td>\n",
       "      <td>-46.518565</td>\n",
       "      <td>2017-04-26 10:53:06</td>\n",
       "      <td>2017-04-26 11:05:13</td>\n",
       "      <td>2017-05-03 11:05:13</td>\n",
       "      <td>2017-05-04 14:35:00</td>\n",
       "      <td>2017-05-12 16:04:24</td>\n",
       "      <td>2017-05-15</td>\n",
       "      <td>585.56</td>\n",
       "      <td>389.188333</td>\n",
       "      <td>16.216181</td>\n",
       "      <td>1.504567</td>\n",
       "    </tr>\n",
       "  </tbody>\n",
       "</table>\n",
       "</div>"
      ],
      "text/plain": [
       "                                                         seller_id  order_item_id  price  freight_value  product_weight_g  product_volume          customer_city customer_state  customer_lat  customer_lng    seller_city seller_state  seller_lat  seller_lng order_purchase_timestamp   order_approved_at shipping_limit_date order_delivered_carrier_date order_delivered_customer_date order_estimated_delivery_date  distance_km  delivery_time_hours  delivery_time_days  delivery_speed_km_per_hour\n",
       "order_id                                                                                                                                                                                                                                                                                                                                                                                                                                                                                                   \n",
       "00010242fe8c5a6d1ba2dd792cb16214  48436dade18ac8b2bce089ec2a041202              1   58.9          13.29             650.0          3528.0  campos dos goytacazes             RJ    -21.762775    -41.309633  volta redonda           SP  -22.496953  -44.127492      2017-09-13 08:59:02 2017-09-13 09:45:35 2017-09-19 09:45:35          2017-09-19 18:34:16           2017-09-20 23:43:48                    2017-09-29       301.50           182.746111            7.614421                    1.649830\n",
       "00018f77f2f0320c557190d7a144bdd3  dd7ddc04e1b6c2c614352b383efe2d36              1  239.9          19.93           30000.0         60000.0        santa fe do sul             SP    -20.220527    -50.903424      sao paulo           SP  -23.565096  -46.518565      2017-04-26 10:53:06 2017-04-26 11:05:13 2017-05-03 11:05:13          2017-05-04 14:35:00           2017-05-12 16:04:24                    2017-05-15       585.56           389.188333           16.216181                    1.504567"
      ]
     },
     "execution_count": 51,
     "metadata": {},
     "output_type": "execute_result"
    }
   ],
   "source": [
    "data_all_agg.head(2)"
   ]
  },
  {
   "cell_type": "code",
   "execution_count": 52,
   "id": "rapid-mercury",
   "metadata": {},
   "outputs": [
    {
     "data": {
      "image/png": "[encoded data removed]",
      "text/plain": [
       "<Figure size 864x432 with 1 Axes>"
      ]
     },
     "metadata": {
      "needs_background": "light"
     },
     "output_type": "display_data"
    }
   ],
   "source": [
    "sns.scatterplot(x=data_all_agg.delivery_speed_km_per_hour, y=data_all_agg.delivery_time_days);\n",
    "plt.title('Relation between delivery time and delivery speed', fontsize=20)\n",
    "plt.xlabel('Delivery speed, km/hour', fontsize=14)\n",
    "plt.ylabel('Delivery time, days', fontsize=14)\n",
    "plt.show();"
   ]
  },
  {
   "cell_type": "code",
   "execution_count": 53,
   "id": "homeless-stability",
   "metadata": {},
   "outputs": [],
   "source": [
    "from scipy import stats"
   ]
  },
  {
   "cell_type": "code",
   "execution_count": 55,
   "id": "great-storage",
   "metadata": {},
   "outputs": [
    {
     "data": {
      "text/plain": [
       "SpearmanrResult(correlation=0.028254711764683558, pvalue=3.48702539308878e-18)"
      ]
     },
     "execution_count": 55,
     "metadata": {},
     "output_type": "execute_result"
    }
   ],
   "source": [
    "stats.spearmanr(data_all_agg.delivery_speed_km_per_hour, data_all_agg.delivery_time_days)"
   ]
  },
  {
   "cell_type": "code",
   "execution_count": 56,
   "id": "photographic-alliance",
   "metadata": {},
   "outputs": [
    {
     "data": {
      "text/plain": [
       "(-0.09958096749839883, 3.844299973694803e-207)"
      ]
     },
     "execution_count": 56,
     "metadata": {},
     "output_type": "execute_result"
    }
   ],
   "source": [
    "stats.pearsonr(data_all_agg.delivery_speed_km_per_hour, data_all_agg.delivery_time_days)"
   ]
  },
  {
   "cell_type": "code",
   "execution_count": 57,
   "id": "french-adolescent",
   "metadata": {},
   "outputs": [
    {
     "data": {
      "text/plain": [
       "KendalltauResult(correlation=0.006212553074059331, pvalue=0.004144461085613878)"
      ]
     },
     "execution_count": 57,
     "metadata": {},
     "output_type": "execute_result"
    }
   ],
   "source": [
    "stats.kendalltau(data_all_agg.delivery_speed_km_per_hour, data_all_agg.delivery_time_days)"
   ]
  },
  {
   "cell_type": "markdown",
   "id": "identical-visibility",
   "metadata": {},
   "source": [
    "### **Notes**"
   ]
  },
  {
   "cell_type": "markdown",
   "id": "intellectual-wrapping",
   "metadata": {},
   "source": [
    "Клієнт додатково просив провести аналіз рангової кореляції між швидкістю доставки та часом доставки."
   ]
  }
 ],
 "metadata": {
  "kernelspec": {
   "display_name": "Python 3",
   "language": "python",
   "name": "python3"
  },
  "language_info": {
   "codemirror_mode": {
    "name": "ipython",
    "version": 3
   },
   "file_extension": ".py",
   "mimetype": "text/x-python",
   "name": "python",
   "nbconvert_exporter": "python",
   "pygments_lexer": "ipython3",
   "version": "3.9.2"
  }
 },
 "nbformat": 4,
 "nbformat_minor": 5
}
