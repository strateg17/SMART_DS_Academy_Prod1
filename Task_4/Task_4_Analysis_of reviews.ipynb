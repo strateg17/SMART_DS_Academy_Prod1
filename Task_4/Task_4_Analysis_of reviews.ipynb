{
 "cells": [
  {
   "cell_type": "code",
   "execution_count": 1,
   "metadata": {},
   "outputs": [],
   "source": [
    "import pandas as pd\n",
    "import numpy as np "
   ]
  },
  {
   "cell_type": "code",
   "execution_count": 2,
   "metadata": {},
   "outputs": [],
   "source": [
    "import seaborn as sns"
   ]
  },
  {
   "cell_type": "code",
   "execution_count": 8,
   "metadata": {},
   "outputs": [],
   "source": [
    "import json \n",
    "file = json.load( open( \"file_name.json\" ) )"
   ]
  },
  {
   "cell_type": "code",
   "execution_count": 10,
   "metadata": {},
   "outputs": [
    {
     "ename": "AttributeError",
     "evalue": "'dict' object has no attribute 'shape'",
     "output_type": "error",
     "traceback": [
      "\u001b[0;31m---------------------------------------------------------------------------\u001b[0m",
      "\u001b[0;31mAttributeError\u001b[0m                            Traceback (most recent call last)",
      "\u001b[0;32m<ipython-input-10-9da7ce41dc1b>\u001b[0m in \u001b[0;36m<module>\u001b[0;34m\u001b[0m\n\u001b[0;32m----> 1\u001b[0;31m \u001b[0mfile\u001b[0m\u001b[0;34m.\u001b[0m\u001b[0mshape\u001b[0m\u001b[0;34m\u001b[0m\u001b[0;34m\u001b[0m\u001b[0m\n\u001b[0m",
      "\u001b[0;31mAttributeError\u001b[0m: 'dict' object has no attribute 'shape'"
     ]
    }
   ],
   "source": []
  },
  {
   "cell_type": "code",
   "execution_count": 151,
   "metadata": {},
   "outputs": [],
   "source": [
    "data = pd.read_csv('order_reviews.csv')"
   ]
  },
  {
   "cell_type": "code",
   "execution_count": 152,
   "metadata": {},
   "outputs": [
    {
     "data": {
      "text/html": [
       "<div>\n",
       "<style scoped>\n",
       "    .dataframe tbody tr th:only-of-type {\n",
       "        vertical-align: middle;\n",
       "    }\n",
       "\n",
       "    .dataframe tbody tr th {\n",
       "        vertical-align: top;\n",
       "    }\n",
       "\n",
       "    .dataframe thead th {\n",
       "        text-align: right;\n",
       "    }\n",
       "</style>\n",
       "<table border=\"1\" class=\"dataframe\">\n",
       "  <thead>\n",
       "    <tr style=\"text-align: right;\">\n",
       "      <th></th>\n",
       "      <th>review_id</th>\n",
       "      <th>order_id</th>\n",
       "      <th>review_score</th>\n",
       "      <th>review_comment_title</th>\n",
       "      <th>review_comment_message</th>\n",
       "      <th>review_creation_date</th>\n",
       "      <th>review_answer_timestamp</th>\n",
       "    </tr>\n",
       "  </thead>\n",
       "  <tbody>\n",
       "    <tr>\n",
       "      <th>0</th>\n",
       "      <td>7bc2406110b926393aa56f80a40eba40</td>\n",
       "      <td>73fc7af87114b39712e6da79b0a377eb</td>\n",
       "      <td>4</td>\n",
       "      <td>NaN</td>\n",
       "      <td>NaN</td>\n",
       "      <td>2018-01-18 00:00:00</td>\n",
       "      <td>2018-01-18 21:46:59</td>\n",
       "    </tr>\n",
       "    <tr>\n",
       "      <th>1</th>\n",
       "      <td>80e641a11e56f04c1ad469d5645fdfde</td>\n",
       "      <td>a548910a1c6147796b98fdf73dbeba33</td>\n",
       "      <td>5</td>\n",
       "      <td>NaN</td>\n",
       "      <td>NaN</td>\n",
       "      <td>2018-03-10 00:00:00</td>\n",
       "      <td>2018-03-11 03:05:13</td>\n",
       "    </tr>\n",
       "    <tr>\n",
       "      <th>2</th>\n",
       "      <td>228ce5500dc1d8e020d8d1322874b6f0</td>\n",
       "      <td>f9e4b658b201a9f2ecdecbb34bed034b</td>\n",
       "      <td>5</td>\n",
       "      <td>NaN</td>\n",
       "      <td>NaN</td>\n",
       "      <td>2018-02-17 00:00:00</td>\n",
       "      <td>2018-02-18 14:36:24</td>\n",
       "    </tr>\n",
       "    <tr>\n",
       "      <th>3</th>\n",
       "      <td>e64fb393e7b32834bb789ff8bb30750e</td>\n",
       "      <td>658677c97b385a9be170737859d3511b</td>\n",
       "      <td>5</td>\n",
       "      <td>NaN</td>\n",
       "      <td>Recebi bem antes do prazo estipulado.</td>\n",
       "      <td>2017-04-21 00:00:00</td>\n",
       "      <td>2017-04-21 22:02:06</td>\n",
       "    </tr>\n",
       "    <tr>\n",
       "      <th>4</th>\n",
       "      <td>f7c4243c7fe1938f181bec41a392bdeb</td>\n",
       "      <td>8e6bfb81e283fa7e4f11123a3fb894f1</td>\n",
       "      <td>5</td>\n",
       "      <td>NaN</td>\n",
       "      <td>Parabéns lojas lannister adorei comprar pela Internet seguro e prático Parabéns a todos feliz Pá...</td>\n",
       "      <td>2018-03-01 00:00:00</td>\n",
       "      <td>2018-03-02 10:26:53</td>\n",
       "    </tr>\n",
       "    <tr>\n",
       "      <th>...</th>\n",
       "      <td>...</td>\n",
       "      <td>...</td>\n",
       "      <td>...</td>\n",
       "      <td>...</td>\n",
       "      <td>...</td>\n",
       "      <td>...</td>\n",
       "      <td>...</td>\n",
       "    </tr>\n",
       "    <tr>\n",
       "      <th>99995</th>\n",
       "      <td>f3897127253a9592a73be9bdfdf4ed7a</td>\n",
       "      <td>22ec9f0669f784db00fa86d035cf8602</td>\n",
       "      <td>5</td>\n",
       "      <td>NaN</td>\n",
       "      <td>NaN</td>\n",
       "      <td>2017-12-09 00:00:00</td>\n",
       "      <td>2017-12-11 20:06:42</td>\n",
       "    </tr>\n",
       "    <tr>\n",
       "      <th>99996</th>\n",
       "      <td>b3de70c89b1510c4cd3d0649fd302472</td>\n",
       "      <td>55d4004744368f5571d1f590031933e4</td>\n",
       "      <td>5</td>\n",
       "      <td>NaN</td>\n",
       "      <td>Excelente mochila, entrega super rápida. Super recomendo essa loja!</td>\n",
       "      <td>2018-03-22 00:00:00</td>\n",
       "      <td>2018-03-23 09:10:43</td>\n",
       "    </tr>\n",
       "    <tr>\n",
       "      <th>99997</th>\n",
       "      <td>1adeb9d84d72fe4e337617733eb85149</td>\n",
       "      <td>7725825d039fc1f0ceb7635e3f7d9206</td>\n",
       "      <td>4</td>\n",
       "      <td>NaN</td>\n",
       "      <td>NaN</td>\n",
       "      <td>2018-07-01 00:00:00</td>\n",
       "      <td>2018-07-02 12:59:13</td>\n",
       "    </tr>\n",
       "    <tr>\n",
       "      <th>99998</th>\n",
       "      <td>be360f18f5df1e0541061c87021e6d93</td>\n",
       "      <td>f8bd3f2000c28c5342fedeb5e50f2e75</td>\n",
       "      <td>1</td>\n",
       "      <td>NaN</td>\n",
       "      <td>Solicitei a compra de uma capa de retrovisor celta/prisma/meriva - preta - lado esquerdo, mas ch...</td>\n",
       "      <td>2017-12-15 00:00:00</td>\n",
       "      <td>2017-12-16 01:29:43</td>\n",
       "    </tr>\n",
       "    <tr>\n",
       "      <th>99999</th>\n",
       "      <td>efe49f1d6f951dd88b51e6ccd4cc548f</td>\n",
       "      <td>90531360ecb1eec2a1fbb265a0db0508</td>\n",
       "      <td>1</td>\n",
       "      <td>NaN</td>\n",
       "      <td>meu produto chegou e ja tenho que devolver, pois está com defeito , não segurar carga</td>\n",
       "      <td>2017-07-03 00:00:00</td>\n",
       "      <td>2017-07-03 21:01:49</td>\n",
       "    </tr>\n",
       "  </tbody>\n",
       "</table>\n",
       "<p>100000 rows × 7 columns</p>\n",
       "</div>"
      ],
      "text/plain": [
       "                              review_id                          order_id  \\\n",
       "0      7bc2406110b926393aa56f80a40eba40  73fc7af87114b39712e6da79b0a377eb   \n",
       "1      80e641a11e56f04c1ad469d5645fdfde  a548910a1c6147796b98fdf73dbeba33   \n",
       "2      228ce5500dc1d8e020d8d1322874b6f0  f9e4b658b201a9f2ecdecbb34bed034b   \n",
       "3      e64fb393e7b32834bb789ff8bb30750e  658677c97b385a9be170737859d3511b   \n",
       "4      f7c4243c7fe1938f181bec41a392bdeb  8e6bfb81e283fa7e4f11123a3fb894f1   \n",
       "...                                 ...                               ...   \n",
       "99995  f3897127253a9592a73be9bdfdf4ed7a  22ec9f0669f784db00fa86d035cf8602   \n",
       "99996  b3de70c89b1510c4cd3d0649fd302472  55d4004744368f5571d1f590031933e4   \n",
       "99997  1adeb9d84d72fe4e337617733eb85149  7725825d039fc1f0ceb7635e3f7d9206   \n",
       "99998  be360f18f5df1e0541061c87021e6d93  f8bd3f2000c28c5342fedeb5e50f2e75   \n",
       "99999  efe49f1d6f951dd88b51e6ccd4cc548f  90531360ecb1eec2a1fbb265a0db0508   \n",
       "\n",
       "       review_score review_comment_title  \\\n",
       "0                 4                  NaN   \n",
       "1                 5                  NaN   \n",
       "2                 5                  NaN   \n",
       "3                 5                  NaN   \n",
       "4                 5                  NaN   \n",
       "...             ...                  ...   \n",
       "99995             5                  NaN   \n",
       "99996             5                  NaN   \n",
       "99997             4                  NaN   \n",
       "99998             1                  NaN   \n",
       "99999             1                  NaN   \n",
       "\n",
       "                                                                                    review_comment_message  \\\n",
       "0                                                                                                      NaN   \n",
       "1                                                                                                      NaN   \n",
       "2                                                                                                      NaN   \n",
       "3                                                                    Recebi bem antes do prazo estipulado.   \n",
       "4      Parabéns lojas lannister adorei comprar pela Internet seguro e prático Parabéns a todos feliz Pá...   \n",
       "...                                                                                                    ...   \n",
       "99995                                                                                                  NaN   \n",
       "99996                                  Excelente mochila, entrega super rápida. Super recomendo essa loja!   \n",
       "99997                                                                                                  NaN   \n",
       "99998  Solicitei a compra de uma capa de retrovisor celta/prisma/meriva - preta - lado esquerdo, mas ch...   \n",
       "99999                meu produto chegou e ja tenho que devolver, pois está com defeito , não segurar carga   \n",
       "\n",
       "      review_creation_date review_answer_timestamp  \n",
       "0      2018-01-18 00:00:00     2018-01-18 21:46:59  \n",
       "1      2018-03-10 00:00:00     2018-03-11 03:05:13  \n",
       "2      2018-02-17 00:00:00     2018-02-18 14:36:24  \n",
       "3      2017-04-21 00:00:00     2017-04-21 22:02:06  \n",
       "4      2018-03-01 00:00:00     2018-03-02 10:26:53  \n",
       "...                    ...                     ...  \n",
       "99995  2017-12-09 00:00:00     2017-12-11 20:06:42  \n",
       "99996  2018-03-22 00:00:00     2018-03-23 09:10:43  \n",
       "99997  2018-07-01 00:00:00     2018-07-02 12:59:13  \n",
       "99998  2017-12-15 00:00:00     2017-12-16 01:29:43  \n",
       "99999  2017-07-03 00:00:00     2017-07-03 21:01:49  \n",
       "\n",
       "[100000 rows x 7 columns]"
      ]
     },
     "execution_count": 152,
     "metadata": {},
     "output_type": "execute_result"
    }
   ],
   "source": [
    "data"
   ]
  },
  {
   "cell_type": "code",
   "execution_count": 153,
   "metadata": {},
   "outputs": [],
   "source": [
    "data = data.drop(['review_id','order_id','review_comment_title','review_creation_date','review_answer_timestamp'],axis=1)"
   ]
  },
  {
   "cell_type": "code",
   "execution_count": 154,
   "metadata": {},
   "outputs": [],
   "source": [
    "coment_not_nan = data.loc[ data.review_comment_message.isna() == False]"
   ]
  },
  {
   "cell_type": "code",
   "execution_count": 155,
   "metadata": {},
   "outputs": [],
   "source": [
    "pd.options.display.max_colwidth=100"
   ]
  },
  {
   "cell_type": "code",
   "execution_count": 156,
   "metadata": {},
   "outputs": [
    {
     "data": {
      "text/html": [
       "<div>\n",
       "<style scoped>\n",
       "    .dataframe tbody tr th:only-of-type {\n",
       "        vertical-align: middle;\n",
       "    }\n",
       "\n",
       "    .dataframe tbody tr th {\n",
       "        vertical-align: top;\n",
       "    }\n",
       "\n",
       "    .dataframe thead th {\n",
       "        text-align: right;\n",
       "    }\n",
       "</style>\n",
       "<table border=\"1\" class=\"dataframe\">\n",
       "  <thead>\n",
       "    <tr style=\"text-align: right;\">\n",
       "      <th></th>\n",
       "      <th>review_score</th>\n",
       "      <th>review_comment_message</th>\n",
       "    </tr>\n",
       "  </thead>\n",
       "  <tbody>\n",
       "    <tr>\n",
       "      <th>3</th>\n",
       "      <td>5</td>\n",
       "      <td>Recebi bem antes do prazo estipulado.</td>\n",
       "    </tr>\n",
       "    <tr>\n",
       "      <th>4</th>\n",
       "      <td>5</td>\n",
       "      <td>Parabéns lojas lannister adorei comprar pela Internet seguro e prático Parabéns a todos feliz Pá...</td>\n",
       "    </tr>\n",
       "    <tr>\n",
       "      <th>9</th>\n",
       "      <td>4</td>\n",
       "      <td>aparelho eficiente. no site a marca do aparelho esta impresso como 3desinfector e ao chegar esta...</td>\n",
       "    </tr>\n",
       "    <tr>\n",
       "      <th>12</th>\n",
       "      <td>4</td>\n",
       "      <td>Mas um pouco ,travando...pelo valor ta Boa.\\r\\n</td>\n",
       "    </tr>\n",
       "    <tr>\n",
       "      <th>15</th>\n",
       "      <td>5</td>\n",
       "      <td>Vendedor confiável, produto ok e entrega antes do prazo.</td>\n",
       "    </tr>\n",
       "    <tr>\n",
       "      <th>...</th>\n",
       "      <td>...</td>\n",
       "      <td>...</td>\n",
       "    </tr>\n",
       "    <tr>\n",
       "      <th>99983</th>\n",
       "      <td>5</td>\n",
       "      <td>Entregou dentro do prazo. O produto chegou em condições perfeitas. Estou muito satisfeita!</td>\n",
       "    </tr>\n",
       "    <tr>\n",
       "      <th>99990</th>\n",
       "      <td>3</td>\n",
       "      <td>O produto não foi enviado com NF, não existe venda sem NF, com certeza fico no aguardo do envio ...</td>\n",
       "    </tr>\n",
       "    <tr>\n",
       "      <th>99996</th>\n",
       "      <td>5</td>\n",
       "      <td>Excelente mochila, entrega super rápida. Super recomendo essa loja!</td>\n",
       "    </tr>\n",
       "    <tr>\n",
       "      <th>99998</th>\n",
       "      <td>1</td>\n",
       "      <td>Solicitei a compra de uma capa de retrovisor celta/prisma/meriva - preta - lado esquerdo, mas ch...</td>\n",
       "    </tr>\n",
       "    <tr>\n",
       "      <th>99999</th>\n",
       "      <td>1</td>\n",
       "      <td>meu produto chegou e ja tenho que devolver, pois está com defeito , não segurar carga</td>\n",
       "    </tr>\n",
       "  </tbody>\n",
       "</table>\n",
       "<p>41753 rows × 2 columns</p>\n",
       "</div>"
      ],
      "text/plain": [
       "       review_score  \\\n",
       "3                 5   \n",
       "4                 5   \n",
       "9                 4   \n",
       "12                4   \n",
       "15                5   \n",
       "...             ...   \n",
       "99983             5   \n",
       "99990             3   \n",
       "99996             5   \n",
       "99998             1   \n",
       "99999             1   \n",
       "\n",
       "                                                                                    review_comment_message  \n",
       "3                                                                    Recebi bem antes do prazo estipulado.  \n",
       "4      Parabéns lojas lannister adorei comprar pela Internet seguro e prático Parabéns a todos feliz Pá...  \n",
       "9      aparelho eficiente. no site a marca do aparelho esta impresso como 3desinfector e ao chegar esta...  \n",
       "12                                                         Mas um pouco ,travando...pelo valor ta Boa.\\r\\n  \n",
       "15                                                Vendedor confiável, produto ok e entrega antes do prazo.  \n",
       "...                                                                                                    ...  \n",
       "99983          Entregou dentro do prazo. O produto chegou em condições perfeitas. Estou muito satisfeita!   \n",
       "99990  O produto não foi enviado com NF, não existe venda sem NF, com certeza fico no aguardo do envio ...  \n",
       "99996                                  Excelente mochila, entrega super rápida. Super recomendo essa loja!  \n",
       "99998  Solicitei a compra de uma capa de retrovisor celta/prisma/meriva - preta - lado esquerdo, mas ch...  \n",
       "99999                meu produto chegou e ja tenho que devolver, pois está com defeito , não segurar carga  \n",
       "\n",
       "[41753 rows x 2 columns]"
      ]
     },
     "execution_count": 156,
     "metadata": {},
     "output_type": "execute_result"
    }
   ],
   "source": [
    "coment_not_nan"
   ]
  },
  {
   "cell_type": "code",
   "execution_count": 157,
   "metadata": {},
   "outputs": [],
   "source": [
    "def sentiment(score):\n",
    "    if (score == 5) or (score == 4):\n",
    "        return 1\n",
    "    if (score == 3):\n",
    "        return 0\n",
    "    if (score == 1) or (score == 2):\n",
    "        return -1"
   ]
  },
  {
   "cell_type": "code",
   "execution_count": 158,
   "metadata": {},
   "outputs": [
    {
     "name": "stderr",
     "output_type": "stream",
     "text": [
      "<ipython-input-158-916182bbb9d1>:1: SettingWithCopyWarning: \n",
      "A value is trying to be set on a copy of a slice from a DataFrame.\n",
      "Try using .loc[row_indexer,col_indexer] = value instead\n",
      "\n",
      "See the caveats in the documentation: https://pandas.pydata.org/pandas-docs/stable/user_guide/indexing.html#returning-a-view-versus-a-copy\n",
      "  coment_not_nan['sentiment'] = coment_not_nan.review_score.apply(sentiment)\n"
     ]
    }
   ],
   "source": [
    "coment_not_nan['sentiment'] = coment_not_nan.review_score.apply(sentiment)"
   ]
  },
  {
   "cell_type": "code",
   "execution_count": 159,
   "metadata": {},
   "outputs": [
    {
     "name": "stderr",
     "output_type": "stream",
     "text": [
      "/home/ruiite/.virtualenvs/ds/lib/python3.9/site-packages/seaborn/_decorators.py:36: FutureWarning: Pass the following variable as a keyword arg: x. From version 0.12, the only valid positional argument will be `data`, and passing other arguments without an explicit keyword will result in an error or misinterpretation.\n",
      "  warnings.warn(\n"
     ]
    },
    {
     "data": {
      "text/plain": [
       "<AxesSubplot:xlabel='sentiment', ylabel='count'>"
      ]
     },
     "execution_count": 159,
     "metadata": {},
     "output_type": "execute_result"
    },
    {
     "data": {
      "image/png": "[encoded data removed]",
      "text/plain": [
       "<Figure size 432x288 with 1 Axes>"
      ]
     },
     "metadata": {
      "needs_background": "light"
     },
     "output_type": "display_data"
    }
   ],
   "source": [
    "sns.countplot(coment_not_nan.sentiment)"
   ]
  },
  {
   "cell_type": "code",
   "execution_count": 12,
   "metadata": {},
   "outputs": [],
   "source": [
    "# class disbalance"
   ]
  },
  {
   "cell_type": "code",
   "execution_count": 160,
   "metadata": {},
   "outputs": [],
   "source": [
    "from nltk.corpus import stopwords"
   ]
  },
  {
   "cell_type": "code",
   "execution_count": 161,
   "metadata": {},
   "outputs": [],
   "source": [
    "stopwords = stopwords.words(\"portuguese\")"
   ]
  },
  {
   "cell_type": "code",
   "execution_count": 162,
   "metadata": {},
   "outputs": [],
   "source": [
    "import re"
   ]
  },
  {
   "cell_type": "code",
   "execution_count": 163,
   "metadata": {},
   "outputs": [],
   "source": [
    "regrex_pattern = re.compile(pattern = \"([\"\n",
    "        u\"\\U0001F600-\\U0001F64F\"  # emoticons\n",
    "        u\"\\U0001F300-\\U0001F5FF\"  # symbols & pictographs\n",
    "        u\"\\U0001F680-\\U0001F6FF\"  # transport & map symbols\n",
    "        u\"\\U0001F1E0-\\U0001F1FF\"  # flags (iOS)\n",
    "                           \"])+\", flags = re.UNICODE)"
   ]
  },
  {
   "cell_type": "code",
   "execution_count": 164,
   "metadata": {},
   "outputs": [],
   "source": [
    "def remove_emojis(text):\n",
    "    reduced = re.sub(regrex_pattern,'',text)\n",
    "    return reduced"
   ]
  },
  {
   "cell_type": "code",
   "execution_count": 165,
   "metadata": {},
   "outputs": [],
   "source": [
    "def remove_whitespaces(text):\n",
    "    reduced = re.sub(r'\\s',' ',text)\n",
    "    return reduced"
   ]
  },
  {
   "cell_type": "code",
   "execution_count": 166,
   "metadata": {},
   "outputs": [],
   "source": [
    "def remove_links(text):\n",
    "    reduced = re.sub(r'http\\S+', '', text)\n",
    "    return reduced"
   ]
  },
  {
   "cell_type": "code",
   "execution_count": 167,
   "metadata": {},
   "outputs": [],
   "source": [
    "def remove_stopwords(text):\n",
    "    text = text.split()\n",
    "    text = [word for word in text if word not in stopwords]\n",
    "    text = \" \".join(text)\n",
    "    return text"
   ]
  },
  {
   "cell_type": "code",
   "execution_count": 168,
   "metadata": {},
   "outputs": [],
   "source": [
    "def remove_punktuation(text):\n",
    "    reduced = re.sub(r'[.,!?;-]', '',text)\n",
    "    return reduced"
   ]
  },
  {
   "cell_type": "code",
   "execution_count": 169,
   "metadata": {},
   "outputs": [],
   "source": [
    "def clean_text(text):\n",
    "    \n",
    "    text = text.lower()\n",
    "    text = remove_punktuation(text)\n",
    "    text = remove_links(text)\n",
    "    text = remove_stopwords(text)\n",
    "    text = remove_emojis(text)\n",
    "    text = remove_whitespaces(text)\n",
    "    \n",
    "    return text"
   ]
  },
  {
   "cell_type": "code",
   "execution_count": 170,
   "metadata": {},
   "outputs": [],
   "source": [
    "def stemming(text):\n",
    "    text = text.split()\n",
    "    text = [stemmer.stem(word) for word in text]\n",
    "    text = \" \".join(text)\n",
    "    return text"
   ]
  },
  {
   "cell_type": "code",
   "execution_count": 171,
   "metadata": {},
   "outputs": [
    {
     "name": "stderr",
     "output_type": "stream",
     "text": [
      "/home/ruiite/.virtualenvs/ds/lib64/python3.9/site-packages/pandas/core/generic.py:5489: SettingWithCopyWarning: \n",
      "A value is trying to be set on a copy of a slice from a DataFrame.\n",
      "Try using .loc[row_indexer,col_indexer] = value instead\n",
      "\n",
      "See the caveats in the documentation: https://pandas.pydata.org/pandas-docs/stable/user_guide/indexing.html#returning-a-view-versus-a-copy\n",
      "  self[name] = value\n"
     ]
    }
   ],
   "source": [
    "coment_not_nan.review_comment_message = coment_not_nan.review_comment_message.apply(clean_text)"
   ]
  },
  {
   "cell_type": "code",
   "execution_count": 172,
   "metadata": {},
   "outputs": [],
   "source": [
    "coment_not_nan.review_comment_message = coment_not_nan.review_comment_message.apply(stemming)"
   ]
  },
  {
   "cell_type": "code",
   "execution_count": 173,
   "metadata": {},
   "outputs": [],
   "source": [
    "from nltk.stem.snowball import SnowballStemmer"
   ]
  },
  {
   "cell_type": "code",
   "execution_count": 174,
   "metadata": {},
   "outputs": [],
   "source": [
    "stemmer = SnowballStemmer(\"portuguese\")"
   ]
  },
  {
   "cell_type": "code",
   "execution_count": 95,
   "metadata": {},
   "outputs": [
    {
     "data": {
      "text/plain": [
       "'recebi bem antes prazo estipul'"
      ]
     },
     "execution_count": 95,
     "metadata": {},
     "output_type": "execute_result"
    }
   ],
   "source": [
    "stemmer.stem(coment_not_nan.review_comment_message.iloc[0])"
   ]
  },
  {
   "cell_type": "code",
   "execution_count": 112,
   "metadata": {},
   "outputs": [
    {
     "data": {
      "text/plain": [
       "'receb'"
      ]
     },
     "execution_count": 112,
     "metadata": {},
     "output_type": "execute_result"
    }
   ],
   "source": [
    "stemmer.stem('recebi')"
   ]
  },
  {
   "cell_type": "code",
   "execution_count": 106,
   "metadata": {},
   "outputs": [],
   "source": [
    "text = 'recebi bem antes prazo estipul'"
   ]
  },
  {
   "cell_type": "code",
   "execution_count": 114,
   "metadata": {},
   "outputs": [
    {
     "data": {
      "text/plain": [
       "'receb bem antes praz estipul'"
      ]
     },
     "execution_count": 114,
     "metadata": {},
     "output_type": "execute_result"
    }
   ],
   "source": [
    "text"
   ]
  },
  {
   "cell_type": "code",
   "execution_count": 113,
   "metadata": {},
   "outputs": [],
   "source": [
    "text = text.split()\n",
    "text = [stemmer.stem(word) for word in text]\n",
    "text = \" \".join(text)"
   ]
  },
  {
   "cell_type": "code",
   "execution_count": 24,
   "metadata": {},
   "outputs": [
    {
     "data": {
      "text/html": [
       "<div>\n",
       "<style scoped>\n",
       "    .dataframe tbody tr th:only-of-type {\n",
       "        vertical-align: middle;\n",
       "    }\n",
       "\n",
       "    .dataframe tbody tr th {\n",
       "        vertical-align: top;\n",
       "    }\n",
       "\n",
       "    .dataframe thead th {\n",
       "        text-align: right;\n",
       "    }\n",
       "</style>\n",
       "<table border=\"1\" class=\"dataframe\">\n",
       "  <thead>\n",
       "    <tr style=\"text-align: right;\">\n",
       "      <th></th>\n",
       "      <th>review_score</th>\n",
       "      <th>review_comment_message</th>\n",
       "      <th>sentiment</th>\n",
       "    </tr>\n",
       "  </thead>\n",
       "  <tbody>\n",
       "    <tr>\n",
       "      <th>3</th>\n",
       "      <td>5</td>\n",
       "      <td>recebi bem antes prazo estipulado</td>\n",
       "      <td>1</td>\n",
       "    </tr>\n",
       "    <tr>\n",
       "      <th>4</th>\n",
       "      <td>5</td>\n",
       "      <td>parabéns lojas lannister adorei comprar internet seguro prático parabéns todos feliz páscoa</td>\n",
       "      <td>1</td>\n",
       "    </tr>\n",
       "    <tr>\n",
       "      <th>9</th>\n",
       "      <td>4</td>\n",
       "      <td>aparelho eficiente site marca aparelho impresso 3desinfector chegar outro nomeatualizar marca co...</td>\n",
       "      <td>1</td>\n",
       "    </tr>\n",
       "    <tr>\n",
       "      <th>12</th>\n",
       "      <td>4</td>\n",
       "      <td>pouco travandopelo valor ta boa</td>\n",
       "      <td>1</td>\n",
       "    </tr>\n",
       "    <tr>\n",
       "      <th>15</th>\n",
       "      <td>5</td>\n",
       "      <td>vendedor confiável produto ok entrega antes prazo</td>\n",
       "      <td>1</td>\n",
       "    </tr>\n",
       "    <tr>\n",
       "      <th>...</th>\n",
       "      <td>...</td>\n",
       "      <td>...</td>\n",
       "      <td>...</td>\n",
       "    </tr>\n",
       "    <tr>\n",
       "      <th>99983</th>\n",
       "      <td>5</td>\n",
       "      <td>entregou dentro prazo produto chegou condições perfeitas satisfeita</td>\n",
       "      <td>1</td>\n",
       "    </tr>\n",
       "    <tr>\n",
       "      <th>99990</th>\n",
       "      <td>3</td>\n",
       "      <td>produto enviado nf existe venda nf certeza fico aguardo envio nf podendo ser email</td>\n",
       "      <td>0</td>\n",
       "    </tr>\n",
       "    <tr>\n",
       "      <th>99996</th>\n",
       "      <td>5</td>\n",
       "      <td>excelente mochila entrega super rápida super recomendo loja</td>\n",
       "      <td>1</td>\n",
       "    </tr>\n",
       "    <tr>\n",
       "      <th>99998</th>\n",
       "      <td>1</td>\n",
       "      <td>solicitei compra capa retrovisor celta/prisma/meriva preta lado esquerdo chegou mim capa lado di...</td>\n",
       "      <td>-1</td>\n",
       "    </tr>\n",
       "    <tr>\n",
       "      <th>99999</th>\n",
       "      <td>1</td>\n",
       "      <td>produto chegou ja devolver pois defeito segurar carga</td>\n",
       "      <td>-1</td>\n",
       "    </tr>\n",
       "  </tbody>\n",
       "</table>\n",
       "<p>41753 rows × 3 columns</p>\n",
       "</div>"
      ],
      "text/plain": [
       "       review_score  \\\n",
       "3                 5   \n",
       "4                 5   \n",
       "9                 4   \n",
       "12                4   \n",
       "15                5   \n",
       "...             ...   \n",
       "99983             5   \n",
       "99990             3   \n",
       "99996             5   \n",
       "99998             1   \n",
       "99999             1   \n",
       "\n",
       "                                                                                    review_comment_message  \\\n",
       "3                                                                        recebi bem antes prazo estipulado   \n",
       "4              parabéns lojas lannister adorei comprar internet seguro prático parabéns todos feliz páscoa   \n",
       "9      aparelho eficiente site marca aparelho impresso 3desinfector chegar outro nomeatualizar marca co...   \n",
       "12                                                                         pouco travandopelo valor ta boa   \n",
       "15                                                       vendedor confiável produto ok entrega antes prazo   \n",
       "...                                                                                                    ...   \n",
       "99983                                  entregou dentro prazo produto chegou condições perfeitas satisfeita   \n",
       "99990                   produto enviado nf existe venda nf certeza fico aguardo envio nf podendo ser email   \n",
       "99996                                          excelente mochila entrega super rápida super recomendo loja   \n",
       "99998  solicitei compra capa retrovisor celta/prisma/meriva preta lado esquerdo chegou mim capa lado di...   \n",
       "99999                                                produto chegou ja devolver pois defeito segurar carga   \n",
       "\n",
       "       sentiment  \n",
       "3              1  \n",
       "4              1  \n",
       "9              1  \n",
       "12             1  \n",
       "15             1  \n",
       "...          ...  \n",
       "99983          1  \n",
       "99990          0  \n",
       "99996          1  \n",
       "99998         -1  \n",
       "99999         -1  \n",
       "\n",
       "[41753 rows x 3 columns]"
      ]
     },
     "execution_count": 24,
     "metadata": {},
     "output_type": "execute_result"
    }
   ],
   "source": [
    "coment_not_nan"
   ]
  },
  {
   "cell_type": "code",
   "execution_count": 175,
   "metadata": {},
   "outputs": [],
   "source": [
    "from keras.preprocessing.text import Tokenizer\n",
    "from keras.preprocessing.sequence import pad_sequences\n",
    "from sklearn.model_selection import train_test_split\n",
    "from tensorflow.keras.utils import to_categorical\n",
    "from keras.layers import Input,Embedding,Bidirectional,LSTM,BatchNormalization,Dense,Dropout\n",
    "import keras\n"
   ]
  },
  {
   "cell_type": "code",
   "execution_count": 176,
   "metadata": {},
   "outputs": [],
   "source": [
    "tokenizer = Tokenizer()"
   ]
  },
  {
   "cell_type": "code",
   "execution_count": 177,
   "metadata": {},
   "outputs": [],
   "source": [
    "tokenizer.fit_on_texts(coment_not_nan.review_comment_message)"
   ]
  },
  {
   "cell_type": "code",
   "execution_count": 178,
   "metadata": {},
   "outputs": [
    {
     "name": "stdout",
     "output_type": "stream",
     "text": [
      "13134\n"
     ]
    }
   ],
   "source": [
    "counts = tokenizer.word_counts\n",
    "print(len(counts))"
   ]
  },
  {
   "cell_type": "code",
   "execution_count": 120,
   "metadata": {},
   "outputs": [
    {
     "data": {
      "text/plain": [
       "OrderedDict([('receb', 6689),\n",
       "             ('bem', 3110),\n",
       "             ('antes', 5640),\n",
       "             ('praz', 8386),\n",
       "             ('estipul', 292),\n",
       "             ('parabéns', 899),\n",
       "             ('loj', 2841),\n",
       "             ('lannist', 1138),\n",
       "             ('ador', 923),\n",
       "             ('compr', 7492),\n",
       "             ('internet', 121),\n",
       "             ('segur', 183),\n",
       "             ('prátic', 88),\n",
       "             ('tod', 1081),\n",
       "             ('feliz', 151),\n",
       "             ('pásco', 2),\n",
       "             ('aparelh', 141),\n",
       "             ('eficient', 234),\n",
       "             ('sit', 1231),\n",
       "             ('marc', 272),\n",
       "             ('impress', 13),\n",
       "             ('3desinfector', 1),\n",
       "             ('cheg', 6515),\n",
       "             ('outr', 1404),\n",
       "             ('nomeatualiz', 1),\n",
       "             ('corret', 1006),\n",
       "             ('vez', 681),\n",
       "             ('pouc', 536),\n",
       "             ('travandopel', 1),\n",
       "             ('valor', 432),\n",
       "             ('ta', 54),\n",
       "             ('boa', 1323),\n",
       "             ('vendedor', 568),\n",
       "             ('confiável', 142),\n",
       "             ('produt', 19856),\n",
       "             ('ok', 726),\n",
       "             ('entreg', 11961),\n",
       "             ('gost', 2489),\n",
       "             ('sab', 475),\n",
       "             ('sempr', 979),\n",
       "             ('agor', 951),\n",
       "             ('decpcion', 3),\n",
       "             ('péssim', 379),\n",
       "             ('not', 834),\n",
       "             ('10', 427),\n",
       "             ('obrig', 890),\n",
       "             ('atença', 5),\n",
       "             ('amim', 1),\n",
       "             ('dispens', 5),\n",
       "             ('realiz', 279),\n",
       "             ('facil', 79),\n",
       "             ('efetu', 214),\n",
       "             ('dad', 97),\n",
       "             ('comec', 61),\n",
       "             ('ser', 1035),\n",
       "             ('usad', 71),\n",
       "             ('present', 371),\n",
       "             ('problem', 1055),\n",
       "             ('relógi', 520),\n",
       "             ('bonit', 660),\n",
       "             ('barat', 97),\n",
       "             ('gat', 14),\n",
       "             ('lebr', 5),\n",
       "             ('ocorr', 229),\n",
       "             ('combin', 345),\n",
       "             ('acredit', 117),\n",
       "             ('máxim', 57),\n",
       "             ('stark', 335),\n",
       "             ('esgot', 16),\n",
       "             ('aind', 2372),\n",
       "             ('exat', 305),\n",
       "             ('esper', 1528),\n",
       "             ('dem', 181),\n",
       "             ('encomend', 311),\n",
       "             ('atras', 511),\n",
       "             ('recom', 4194),\n",
       "             ('tô', 35),\n",
       "             ('complet', 143),\n",
       "             ('apaixon', 18),\n",
       "             ('sup', 1690),\n",
       "             ('respons', 113),\n",
       "             ('nad', 736),\n",
       "             ('ped', 2081),\n",
       "             ('bom', 4552),\n",
       "             ('cheiros', 7),\n",
       "             ('otim', 907),\n",
       "             ('ate', 347),\n",
       "             ('process', 114),\n",
       "             ('tranquil', 66),\n",
       "             ('tom', 122),\n",
       "             ('q', 679),\n",
       "             ('dur', 49),\n",
       "             ('pois', 1086),\n",
       "             ('pelinh', 2),\n",
       "             ('soment', 403),\n",
       "             ('1', 735),\n",
       "             ('control', 169),\n",
       "             ('mid', 2),\n",
       "             ('split', 1),\n",
       "             ('estil', 16),\n",
       "             ('falt', 977),\n",
       "             ('remot', 32),\n",
       "             ('ar', 27),\n",
       "             ('condicion', 22),\n",
       "             ('consul', 3),\n",
       "             ('mt', 77),\n",
       "             ('lind', 967),\n",
       "             ('tud', 2327),\n",
       "             ('contrat', 31),\n",
       "             ('send', 318),\n",
       "             ('satisfeit', 1282),\n",
       "             ('ame', 620),\n",
       "             ('ache', 580),\n",
       "             ('delic', 30),\n",
       "             ('ótim', 2802),\n",
       "             ('parceria', 1),\n",
       "             ('rápidíssim', 1),\n",
       "             ('embal', 904),\n",
       "             ('qualidad', 2773),\n",
       "             ('cust', 195),\n",
       "             ('fret', 637),\n",
       "             ('mei', 103),\n",
       "             ('azed', 1),\n",
       "             ('caus', 85),\n",
       "             ('transtorn', 61),\n",
       "             ('pq', 215),\n",
       "             ('program', 38),\n",
       "             ('viag', 21),\n",
       "             ('fér', 4),\n",
       "             ('filh', 225),\n",
       "             ('bas', 90),\n",
       "             ('mor', 37),\n",
       "             ('bah', 3),\n",
       "             ('cuiab', 1),\n",
       "             ('sozinh', 12),\n",
       "             ('cas', 463),\n",
       "             ('vaz', 50),\n",
       "             ('solicit', 582),\n",
       "             ('muit', 282),\n",
       "             ('brevidad', 1),\n",
       "             ('duas', 497),\n",
       "             ('unidad', 416),\n",
       "             ('fac', 187),\n",
       "             ('porém', 1000),\n",
       "             ('vei', 3332),\n",
       "             ('mim', 165),\n",
       "             ('condiz', 48),\n",
       "             ('fot', 605),\n",
       "             ('anúnci', 258),\n",
       "             ('inferior', 137),\n",
       "             ('mal', 173),\n",
       "             ('acab', 413),\n",
       "             ('kit', 267),\n",
       "             ('mochil', 154),\n",
       "             ('patrulh', 2),\n",
       "             ('canin', 3),\n",
       "             ('netinh', 3),\n",
       "             ('vai', 204),\n",
       "             ('amar', 16),\n",
       "             ('maravilh', 242),\n",
       "             ('cumpr', 362),\n",
       "             ('promet', 256),\n",
       "             ('temp', 572),\n",
       "             ('satisfatóri', 30),\n",
       "             ('reembols', 120),\n",
       "             ('respost', 409),\n",
       "             ('moment', 505),\n",
       "             ('ráp', 2389),\n",
       "             ('esta', 26),\n",
       "             ('parabens', 127),\n",
       "             ('muiiit', 1),\n",
       "             ('antecedenc', 5),\n",
       "             ('pc', 12),\n",
       "             ('consegu', 205),\n",
       "             ('reconhec', 30),\n",
       "             ('port', 80),\n",
       "             ('usb', 36),\n",
       "             ('bald', 12),\n",
       "             ('128', 2),\n",
       "             ('pec', 377),\n",
       "             ('bloc', 5),\n",
       "             ('mont', 111),\n",
       "             ('2', 935),\n",
       "             ('un', 7),\n",
       "             ('r', 52),\n",
       "             ('2500', 1),\n",
       "             ('cad', 156),\n",
       "             ('nã', 18),\n",
       "             ('entregue', 11),\n",
       "             ('vend', 325),\n",
       "             ('targaryen', 296),\n",
       "             ('tapet', 197),\n",
       "             ('eva', 7),\n",
       "             ('nº', 9),\n",
       "             ('letr', 4),\n",
       "             ('36', 4),\n",
       "             ('crianc', 54),\n",
       "             ('3590', 1),\n",
       "             ('est', 3),\n",
       "             ('tres', 34),\n",
       "             ('pacot', 89),\n",
       "             ('cinc', 23),\n",
       "             ('folh', 15),\n",
       "             ('papel', 80),\n",
       "             ('transf', 1),\n",
       "             ('tec', 165),\n",
       "             ('escur', 30),\n",
       "             ('so', 300),\n",
       "             ('dois', 735),\n",
       "             ('apen', 866),\n",
       "             ('hoj', 372),\n",
       "             ('cert', 995),\n",
       "             ('att', 35),\n",
       "             ('elenic', 1),\n",
       "             ('bols', 159),\n",
       "             ('térmic', 15),\n",
       "             ('além', 252),\n",
       "             ('espac', 46),\n",
       "             ('acord', 254),\n",
       "             ('anunc', 369),\n",
       "             ('demor', 946),\n",
       "             ('pra', 895),\n",
       "             ('rap', 469),\n",
       "             ('dat', 768),\n",
       "             ('divid', 16),\n",
       "             ('comunic', 98),\n",
       "             ('chegu', 8),\n",
       "             ('pens', 158),\n",
       "             ('hav', 227),\n",
       "             ('envi', 925),\n",
       "             ('part', 289),\n",
       "             ('funcion', 597),\n",
       "             ('faz', 643),\n",
       "             ('sincron', 2),\n",
       "             ('client', 469),\n",
       "             ('jog', 214),\n",
       "             ('banho', 1),\n",
       "             ('estamp', 54),\n",
       "             ('flor', 9),\n",
       "             ('bord', 44),\n",
       "             ('garant', 87),\n",
       "             ('const', 305),\n",
       "             ('joi', 8),\n",
       "             ('sistem', 57),\n",
       "             ('pag', 344),\n",
       "             ('car', 224),\n",
       "             ('unissex', 5),\n",
       "             ('feminin', 20),\n",
       "             ('menor', 183),\n",
       "             ('especific', 159),\n",
       "             ('lannisterpr', 2),\n",
       "             ('melhor', 580),\n",
       "             ('onlin', 40),\n",
       "             ('excelent', 1823),\n",
       "             ('custobenefíci', 5),\n",
       "             ('atençã', 110),\n",
       "             ('vidr', 96),\n",
       "             ('quebr', 296),\n",
       "             ('caix', 490),\n",
       "             ('nenhum', 599),\n",
       "             ('proteçã', 61),\n",
       "             ('dentr', 1473),\n",
       "             ('amass', 172),\n",
       "             ('desculp', 19),\n",
       "             ('vcs', 256),\n",
       "             ('serv', 109),\n",
       "             ('dia', 1358),\n",
       "             ('25', 55),\n",
       "             ('fevereir', 14),\n",
       "             ('29', 29),\n",
       "             ('resident', 103),\n",
       "             ('sei', 262),\n",
       "             ('correi', 1220),\n",
       "             ('dess', 228),\n",
       "             ('brasil', 30),\n",
       "             ('própr', 23),\n",
       "             ('post', 75),\n",
       "             ('fiz', 627),\n",
       "             ('30', 118),\n",
       "             ('dias', 935),\n",
       "             ('precis', 563),\n",
       "             ('seman', 212),\n",
       "             ('tã', 126),\n",
       "             ('extravag', 1),\n",
       "             ('porémm', 1),\n",
       "             ('atraz', 11),\n",
       "             ('far', 45),\n",
       "             ('desist', 25),\n",
       "             ('baratheon', 295),\n",
       "             ('fiqu', 531),\n",
       "             ('lustr', 45),\n",
       "             ('pendent', 109),\n",
       "             ('parceir', 259),\n",
       "             ('abri', 98),\n",
       "             ('reclam', 390),\n",
       "             ('aguard', 1066),\n",
       "             ('soluçã', 129),\n",
       "             ('alta', 51),\n",
       "             ('val', 316),\n",
       "             ('dor', 26),\n",
       "             ('cost', 8),\n",
       "             ('dorm', 14),\n",
       "             ('aqu', 126),\n",
       "             ('descrev', 23),\n",
       "             ('acho', 237),\n",
       "             ('rastr', 62),\n",
       "             ('dev', 646),\n",
       "             ('geral', 71),\n",
       "             ('experient', 48),\n",
       "             ('oportun', 14),\n",
       "             ('test', 275),\n",
       "             ('usar', 172),\n",
       "             ('declar', 19),\n",
       "             ('cap', 316),\n",
       "             ('intern', 42),\n",
       "             ('4', 255),\n",
       "             ('garraf', 40),\n",
       "             ('azeitecheg', 1),\n",
       "             ('quas', 217),\n",
       "             ('48', 27),\n",
       "             ('hor', 185),\n",
       "             ('depoiscontat', 1),\n",
       "             ('dificiltant', 1),\n",
       "             ('via', 76),\n",
       "             ('email', 371),\n",
       "             ('qto', 13),\n",
       "             ('telef', 1),\n",
       "             ('suspens', 1),\n",
       "             ('termin', 17),\n",
       "             ('lá', 39),\n",
       "             ('poss', 250),\n",
       "             ('compreilog', 1),\n",
       "             ('acontec', 240),\n",
       "             ('opiniã', 97),\n",
       "             ('form', 166),\n",
       "             ('mand', 441),\n",
       "             ('emails', 62),\n",
       "             ('retorn', 455),\n",
       "             ('insatisfeit', 149),\n",
       "             ('recomend', 287),\n",
       "             ('pret', 258),\n",
       "             ('volt', 356),\n",
       "             ('nela', 2),\n",
       "             ('mercador', 591),\n",
       "             ('após', 190),\n",
       "             ('mês', 241),\n",
       "             ('costum', 16),\n",
       "             ('estranh', 39),\n",
       "             ('atend', 1360),\n",
       "             ('expect', 532),\n",
       "             ('fácil', 209),\n",
       "             ('manusei', 25),\n",
       "             ('decepcion', 284),\n",
       "             ('nao', 1390),\n",
       "             ('manual', 141),\n",
       "             ('encaix', 121),\n",
       "             ('diâmetr', 5),\n",
       "             ('diferent', 560),\n",
       "             ('serr', 4),\n",
       "             ('martel', 2),\n",
       "             ('pod', 660),\n",
       "             ('cab', 196),\n",
       "             ('rest', 72),\n",
       "             ('detest', 16),\n",
       "             ('nunc', 392),\n",
       "             ('mesm', 218),\n",
       "             ('segund', 242),\n",
       "             ('rastrei', 82),\n",
       "             ('par', 91),\n",
       "             ('rib', 4),\n",
       "             ('sp', 15),\n",
       "             ('deu', 217),\n",
       "             ('defeit', 432),\n",
       "             ('uso', 175),\n",
       "             ('profissional', 47),\n",
       "             ('vi', 108),\n",
       "             ('ja', 339),\n",
       "             ('apes', 245),\n",
       "             ('ter', 723),\n",
       "             ('sid', 159),\n",
       "             ('rapid', 60),\n",
       "             ('substituír', 1),\n",
       "             ('meteor', 1),\n",
       "             ('born', 1),\n",
       "             ('tent', 273),\n",
       "             ('estaav', 1),\n",
       "             ('guitarr', 9),\n",
       "             ('acessóri', 17),\n",
       "             ('revendedor', 8),\n",
       "             ('períod', 28),\n",
       "             ('validad', 29),\n",
       "             ('toalh', 126),\n",
       "             ('umas', 21),\n",
       "             ('alças', 12),\n",
       "             ('pin', 16),\n",
       "             ('fixação', 1),\n",
       "             ('14', 53),\n",
       "             ('02', 224),\n",
       "             ('rastreament', 109),\n",
       "             ('realidad', 20),\n",
       "             ('28', 40),\n",
       "             ('lev', 184),\n",
       "             ('úte', 53),\n",
       "             ('model', 206),\n",
       "             ('cor', 628),\n",
       "             ('capinh', 64),\n",
       "             ('zíp', 17),\n",
       "             ('enfim', 41),\n",
       "             ('tabel', 2),\n",
       "             ('grac', 17),\n",
       "             ('deus', 20),\n",
       "             ('fic', 763),\n",
       "             ('grat', 88),\n",
       "             ('confi', 85),\n",
       "             ('cancel', 604),\n",
       "             ('ligu', 68),\n",
       "             ('atendent', 42),\n",
       "             ('bagunc', 4),\n",
       "             ('ver', 164),\n",
       "             ('cobr', 223),\n",
       "             ('08', 113),\n",
       "             ('troc', 626),\n",
       "             ('enderec', 284),\n",
       "             ('mensag', 74),\n",
       "             ('iam', 4),\n",
       "             ('lig', 167),\n",
       "             ('48h', 8),\n",
       "             ('oko', 1),\n",
       "             ('acabent', 2),\n",
       "             ('sintet', 2),\n",
       "             ('fei', 32),\n",
       "             ('borr', 5),\n",
       "             ('orrivel', 1),\n",
       "             ('desorden', 1),\n",
       "             ('três', 124),\n",
       "             ('sertõ', 1),\n",
       "             ('separ', 97),\n",
       "             ('ruim', 231),\n",
       "             ('pass', 328),\n",
       "             ('previst', 1137),\n",
       "             ('entend', 101),\n",
       "             ('frasc', 62),\n",
       "             ('60', 27),\n",
       "             ('cápsul', 24),\n",
       "             ('cada', 2),\n",
       "             ('total', 327),\n",
       "             ('vou', 582),\n",
       "             ('devolv', 385),\n",
       "             ('porqu', 419),\n",
       "             ('perfeit', 1463),\n",
       "             ('honest', 21),\n",
       "             ('ler', 6),\n",
       "             ('disposit', 7),\n",
       "             ('crem', 24),\n",
       "             ('desd', 144),\n",
       "             ('emissã', 20),\n",
       "             ('fiscal', 396),\n",
       "             ('avis', 157),\n",
       "             ('consig', 222),\n",
       "             ('comentári', 35),\n",
       "             ('noit', 84),\n",
       "             ('lament', 41),\n",
       "             ('tant', 133),\n",
       "             ('satisf', 202),\n",
       "             ('sequ', 41),\n",
       "             ('import', 39),\n",
       "             ('5000', 2),\n",
       "             ('rea', 55),\n",
       "             ('retor', 2),\n",
       "             ('protetor', 37),\n",
       "             ('deix', 321),\n",
       "             ('desej', 201),\n",
       "             ('tip', 111),\n",
       "             ('material', 504),\n",
       "             ('parec', 421),\n",
       "             ('prazoverific', 1),\n",
       "             ('corretom', 3),\n",
       "             ('monteiprodut', 1),\n",
       "             ('lindocor', 1),\n",
       "             ('perfeitaam', 1),\n",
       "             ('embalag', 459),\n",
       "             ('danific', 104),\n",
       "             ('prazoatend', 1),\n",
       "             ('necess', 112),\n",
       "             ('pard', 2),\n",
       "             ('sobr', 344),\n",
       "             ('lógic', 4),\n",
       "             ('sedex', 20),\n",
       "             ('invés', 37),\n",
       "             ('pac', 10),\n",
       "             ('últim', 64),\n",
       "             ('estar', 125),\n",
       "             ('procur', 77),\n",
       "             ('direit', 77),\n",
       "             ('contr', 27),\n",
       "             ('instruçõ', 44),\n",
       "             ('pulseir', 80),\n",
       "             ('conform', 945),\n",
       "             ('descrit', 201),\n",
       "             ('jam', 12),\n",
       "             ('nov', 292),\n",
       "             ('empres', 602),\n",
       "             ('sai', 78),\n",
       "             ('corr', 78),\n",
       "             ('absurd', 125),\n",
       "             ('extracom', 1),\n",
       "             ('inform', 735),\n",
       "             ('utiliz', 111),\n",
       "             ('01', 209),\n",
       "             ('restant', 50),\n",
       "             ('violã', 6),\n",
       "             ('ades', 68),\n",
       "             ('confer', 44),\n",
       "             ('ato', 40),\n",
       "             ('aprov', 95),\n",
       "             ('trabalh', 153),\n",
       "             ('indic', 334),\n",
       "             ('certez', 156),\n",
       "             ('mp3', 16),\n",
       "             ('play', 12),\n",
       "             ('pilh', 42),\n",
       "             ('divers', 32),\n",
       "             ('pré', 4),\n",
       "             ('trein', 6),\n",
       "             ('merc', 47),\n",
       "             ('mediat', 1),\n",
       "             ('olhos', 4),\n",
       "             ('fech', 71),\n",
       "             ('td', 106),\n",
       "             ('direitinh', 101),\n",
       "             ('confianc', 91),\n",
       "             ('coloc', 214),\n",
       "             ('12', 180),\n",
       "             ('17', 113),\n",
       "             ('fals', 48),\n",
       "             ('quer', 881),\n",
       "             ('bolet', 30),\n",
       "             ('bancar', 1),\n",
       "             ('forr', 20),\n",
       "             ('fragil', 23),\n",
       "             ('instal', 198),\n",
       "             ('cartuch', 254),\n",
       "             ('tint', 91),\n",
       "             ('impressor', 76),\n",
       "             ('vazi', 12),\n",
       "             ('apresent', 127),\n",
       "             ('erro', 81),\n",
       "             ('cim', 56),\n",
       "             ('marcador', 5),\n",
       "             ('nível', 9),\n",
       "             ('quant', 215),\n",
       "             ('question', 24),\n",
       "             ('frac', 108),\n",
       "             ('aspect', 24),\n",
       "             ('sbmarin', 1),\n",
       "             ('cour', 30),\n",
       "             ('devolu', 328),\n",
       "             ('dinheir', 351),\n",
       "             ('lençol', 84),\n",
       "             ('log', 96),\n",
       "             ('lanc', 9),\n",
       "             ('cabeceir', 2),\n",
       "             ('algum', 221),\n",
       "             ('confusã', 13),\n",
       "             ('imprevist', 28),\n",
       "             ('negu', 3),\n",
       "             ('19', 64),\n",
       "             ('mai', 14),\n",
       "             ('use', 130),\n",
       "             ('alça', 25),\n",
       "             ('pes', 60),\n",
       "             ('maior', 230),\n",
       "             ('campeã', 2),\n",
       "             ('produtoest', 4),\n",
       "             ('certinh', 459),\n",
       "             ('boqu', 1),\n",
       "             ('vermelh', 89),\n",
       "             ('nest', 141),\n",
       "             ('lojasup', 1),\n",
       "             ('resistent', 144),\n",
       "             ('msg', 16),\n",
       "             ('obtiv', 143),\n",
       "             ('relogi', 88),\n",
       "             ('anunciadoótim', 1),\n",
       "             ('prec', 652),\n",
       "             ('baix', 155),\n",
       "             ('atrat', 8),\n",
       "             ('por', 239),\n",
       "             ('sim', 229),\n",
       "             ('sao', 36),\n",
       "             ('igual', 181),\n",
       "             ('pós', 17),\n",
       "             ('através', 43),\n",
       "             ('sr', 7),\n",
       "             ('renat', 2),\n",
       "             ('celul', 154),\n",
       "             ('tir', 105),\n",
       "             ('eleg', 14),\n",
       "             ('monstruos', 1),\n",
       "             ('tamanh', 299),\n",
       "             ('recebicompr', 1),\n",
       "             ('questa', 6),\n",
       "             ('saudeportant', 1),\n",
       "             ('descriçã', 292),\n",
       "             ('bastant', 178),\n",
       "             ('rapazinh', 1),\n",
       "             ('3', 487),\n",
       "             ('aninh', 2),\n",
       "             ('aproveit', 5),\n",
       "             ('maxim', 6),\n",
       "             ('difer', 4),\n",
       "             ('tratas', 20),\n",
       "             ('solucion', 35),\n",
       "             ('proced', 102),\n",
       "             ('pagu', 473),\n",
       "             ('metad', 77),\n",
       "             ('cois', 180),\n",
       "             ('conserv', 15),\n",
       "             ('exped', 4),\n",
       "             ('inici', 8),\n",
       "             ('abrind', 9),\n",
       "             ('protocol', 31),\n",
       "             ('resolv', 315),\n",
       "             ('situaçã', 59),\n",
       "             ('assim', 368),\n",
       "             ('contat', 631),\n",
       "             ('ratr', 1),\n",
       "             ('conseguindo', 1),\n",
       "             ('servic', 276),\n",
       "             ('sent', 72),\n",
       "             ('respond', 199),\n",
       "             ('pergunt', 51),\n",
       "             ('natal', 68),\n",
       "             ('long', 150),\n",
       "             ('ma', 21),\n",
       "             ('entregar', 3),\n",
       "             ('estendidoporém', 1),\n",
       "             ('divulg', 21),\n",
       "             ('propagand', 96),\n",
       "             ('cadeir', 216),\n",
       "             ('vem', 183),\n",
       "             ('simples', 104),\n",
       "             ('vár', 75),\n",
       "             ('anos', 102),\n",
       "             ('mensagens', 24),\n",
       "             ('ultim', 39),\n",
       "             ('convers', 2),\n",
       "             ('ontem', 60),\n",
       "             ('fim', 47),\n",
       "             ('ano', 36),\n",
       "             ('colch', 81),\n",
       "             ('anteontem', 1),\n",
       "             ('18', 105),\n",
       "             ('pinc', 48),\n",
       "             ('vier', 222),\n",
       "             ('descol', 19),\n",
       "             ('correspondent', 8),\n",
       "             ('estabelec', 123),\n",
       "             ('mostr', 146),\n",
       "             ('lux', 3),\n",
       "             ('acolcho', 5),\n",
       "             ('diz', 345),\n",
       "             ('normal', 77),\n",
       "             ('benefíci', 102),\n",
       "             ('plástic', 138),\n",
       "             ('plen', 19),\n",
       "             ('aquisiçã', 39),\n",
       "             ('únic', 184),\n",
       "             ('concord', 6),\n",
       "             ('autíssim', 1),\n",
       "             ('mant', 53),\n",
       "             ('aliment', 8),\n",
       "             ('murch', 3),\n",
       "             ('batat', 1),\n",
       "             ('palha', 1),\n",
       "             ('tamp', 98),\n",
       "             ('inox', 19),\n",
       "             ('03', 196),\n",
       "             ('igu', 62),\n",
       "             ('necessit', 24),\n",
       "             ('fal', 301),\n",
       "             ('pesso', 122),\n",
       "             ('máquin', 49),\n",
       "             ('gravaçõ', 2),\n",
       "             ('antecip', 64),\n",
       "             ('dta', 1),\n",
       "             ('d', 53),\n",
       "             ('feit', 462),\n",
       "             ('condico', 4),\n",
       "             ('equip', 72),\n",
       "             ('cartã', 165),\n",
       "             ('possibilit', 3),\n",
       "             ('satisfeitíssim', 7),\n",
       "             ('defeitodevolv', 1),\n",
       "             ('informadopost', 1),\n",
       "             ('indicado', 1),\n",
       "             ('notific', 26),\n",
       "             ('anális', 1),\n",
       "             ('meuressarc', 1),\n",
       "             ('abrim', 4),\n",
       "             ('mes', 178),\n",
       "             ('bat', 100),\n",
       "             ('agiliz', 10),\n",
       "             ('pequen', 318),\n",
       "             ('arranh', 51),\n",
       "             ('apel', 2),\n",
       "             ('limp', 22),\n",
       "             ('pel', 22),\n",
       "             ('n', 148),\n",
       "             ('sdds', 1),\n",
       "             ('produtorecom', 7),\n",
       "             ('objet', 63),\n",
       "             ('ñ', 60),\n",
       "             ('funçõ', 21),\n",
       "             ('visor', 15),\n",
       "             ('digital', 19),\n",
       "             ('med', 148),\n",
       "             ('ofert', 30),\n",
       "             ('urgent', 94),\n",
       "             ('ninguém', 241),\n",
       "             ('sapateir', 3),\n",
       "             ('der', 130),\n",
       "             ('grand', 232),\n",
       "             ('qualqu', 106),\n",
       "             ('produto', 47),\n",
       "             ('borrach', 22),\n",
       "             ('tr4', 2),\n",
       "             ('mitsubish', 1),\n",
       "             ('pvc', 13),\n",
       "             ('horrivel', 13),\n",
       "             ('titul', 4),\n",
       "             ('engan', 137),\n",
       "             ('despes', 2),\n",
       "             ('devoluça', 14),\n",
       "             ('perfum', 101),\n",
       "             ('fragrânc', 13),\n",
       "             ('estad', 445),\n",
       "             ('super', 178),\n",
       "             ('7', 64),\n",
       "             ('show', 84),\n",
       "             ('previsã', 141),\n",
       "             ('05', 99),\n",
       "             ('cortin', 263),\n",
       "             ('desenh', 33),\n",
       "             ('mort', 3),\n",
       "             ('apag', 12),\n",
       "             ('verdadeir', 22),\n",
       "             ('porc', 37),\n",
       "             ('decepçã', 49),\n",
       "             ('si', 43),\n",
       "             ('pen', 244),\n",
       "             ('american', 82),\n",
       "             ('suport', 118),\n",
       "             ('buch', 4),\n",
       "             ('parafus', 90),\n",
       "             ('fix', 27),\n",
       "             ('pared', 49),\n",
       "             ('mto', 140),\n",
       "             ('marcaçã', 5),\n",
       "             ('pouquíssim', 2),\n",
       "             ('abus', 6),\n",
       "             ('infeliz', 189),\n",
       "             ('compens', 34),\n",
       "             ('sofistic', 8),\n",
       "             ('agradec', 131),\n",
       "             ('encontr', 99),\n",
       "             ('recoment', 39),\n",
       "             ('amig', 71),\n",
       "             ('denunc', 4),\n",
       "             ('procon', 43),\n",
       "             ('impressã', 54),\n",
       "             ('saind', 14),\n",
       "             ('fraquinh', 9),\n",
       "             ('ros', 76),\n",
       "             ('brac', 32),\n",
       "             ('branc', 122),\n",
       "             ('bomsup', 2),\n",
       "             ('recomendoentreg', 4),\n",
       "             ('boas', 68),\n",
       "             ('pessoal', 41),\n",
       "             ('atenc', 83),\n",
       "             ('cuid', 92),\n",
       "             ('prazoador', 5),\n",
       "             ('condiçõ', 314),\n",
       "             ('bonec', 85),\n",
       "             ('compensapes', 1),\n",
       "             ('orçament', 1),\n",
       "             ('a', 19),\n",
       "             ('imaginavapor', 1),\n",
       "             ('enquant', 76),\n",
       "             ('mod', 31),\n",
       "             ('telefon', 121),\n",
       "             ('compromiss', 65),\n",
       "             ('espect', 65),\n",
       "             ('potinh', 7),\n",
       "             ('dific', 3),\n",
       "             ('abrir', 77),\n",
       "             ('bandej', 10),\n",
       "             ('onde', 139),\n",
       "             ('pont', 83),\n",
       "             ('ferrug', 13),\n",
       "             ('vacil', 5),\n",
       "             ('cent', 6),\n",
       "             ('tabac', 6),\n",
       "             ('indo', 7),\n",
       "             ('estrag', 22),\n",
       "             ('primeir', 371),\n",
       "             ('fatur', 71),\n",
       "             ('fucion', 3),\n",
       "             ('100', 145),\n",
       "             ('extrem', 91),\n",
       "             ('verifiqu', 26),\n",
       "             ('cinz', 29),\n",
       "             ('lix', 40),\n",
       "             ('montag', 65),\n",
       "             ('propósit', 7),\n",
       "             ('otimiz', 2),\n",
       "             ('vint', 4),\n",
       "             ('posiçã', 103),\n",
       "             ('cep', 21),\n",
       "             ('escrit', 40),\n",
       "             ('errad', 569),\n",
       "             ('retir', 232),\n",
       "             ('cidad', 61),\n",
       "             ('vizinh', 11),\n",
       "             ('fornecedor', 180),\n",
       "             ('sabor', 40),\n",
       "             ('chocolat', 15),\n",
       "             ('continu', 201),\n",
       "             ('consumidor', 124),\n",
       "             ('modern', 17),\n",
       "             ('cantinh', 1),\n",
       "             ('caf', 13),\n",
       "             ('top', 121),\n",
       "             ('simpl', 127),\n",
       "             ('rapidinh', 30),\n",
       "             ('testaloobrig', 1),\n",
       "             ('brev', 43),\n",
       "             ('vand', 1),\n",
       "             ('31', 24),\n",
       "             ('janeir', 27),\n",
       "             ('achand', 26),\n",
       "             ('escol', 6),\n",
       "             ('mix', 4),\n",
       "             ('elétr', 17),\n",
       "             ('portátil', 9),\n",
       "             ('tal', 27),\n",
       "             ('seriedad', 25),\n",
       "             ('trat', 65),\n",
       "             ('justific', 36),\n",
       "             ('estim', 84),\n",
       "             ('imagin', 138),\n",
       "             ('legal', 83),\n",
       "             ('horári', 23),\n",
       "             ('atenciososlig', 1),\n",
       "             ('dar', 179),\n",
       "             ('acompanh', 119),\n",
       "             ('verific', 80),\n",
       "             ('itens', 155),\n",
       "             ('olá', 52),\n",
       "             ('ir', 169),\n",
       "             ('atrás', 32),\n",
       "             ('agênc', 72),\n",
       "             ('centr', 25),\n",
       "             ('gross', 34),\n",
       "             ('esquent', 14),\n",
       "             ('potênc', 8),\n",
       "             ('5', 197),\n",
       "             ('rimeir', 1),\n",
       "             ('cheir', 43),\n",
       "             ('queim', 25),\n",
       "             ('pratic', 68),\n",
       "             ('custo', 7),\n",
       "             ('comform', 4),\n",
       "             ('imag', 156),\n",
       "             ('frent', 39),\n",
       "             ('distribuiçã', 13),\n",
       "             ('respeit', 191),\n",
       "             ('correspond', 120),\n",
       "             ('películ', 198),\n",
       "             ('tel', 95),\n",
       "             ('prazoperfeit', 3),\n",
       "             ('encaminh', 46),\n",
       "             ('destin', 23),\n",
       "             ('posicion', 37),\n",
       "             ('decent', 2),\n",
       "             ('duch', 10),\n",
       "             ('desviador', 4),\n",
       "             ('20x20', 1),\n",
       "             ('30cm', 4),\n",
       "             ('leitur', 7),\n",
       "             ('vergonh', 34),\n",
       "             ('descar', 1),\n",
       "             ('duer', 1),\n",
       "             ('escolh', 131),\n",
       "             ('paeceir', 1),\n",
       "             ('eh', 30),\n",
       "             ('calendári', 2),\n",
       "             ('difícil', 55),\n",
       "             ('estorn', 130),\n",
       "             ('adapt', 29),\n",
       "             ('áudi', 10),\n",
       "             ('muitocheg', 2),\n",
       "             ('massag', 14),\n",
       "             ('chei', 21),\n",
       "             ('avali', 338),\n",
       "             ('negat', 45),\n",
       "             ('erra', 1),\n",
       "             ('superior', 23),\n",
       "             ('né', 18),\n",
       "             ('curioso', 1),\n",
       "             ('vir', 125),\n",
       "             ('livre6', 1),\n",
       "             ('6', 94),\n",
       "             ('numer', 41),\n",
       "             ('03492551892', 1),\n",
       "             ('sapatên', 1),\n",
       "             ('manchest', 1),\n",
       "             ('pol', 10),\n",
       "             ('match', 1),\n",
       "             ('lug', 104),\n",
       "             ('entro', 16),\n",
       "             ('aparec', 102),\n",
       "             ('superando', 1),\n",
       "             ('surpreend', 99),\n",
       "             ('eficác', 11),\n",
       "             ('atent', 16),\n",
       "             ('tbm', 39),\n",
       "             ('22', 56),\n",
       "             ('07', 82),\n",
       "             ('contud', 34),\n",
       "             ('posterior', 6),\n",
       "             ('aument', 15),\n",
       "             ('atitud', 10),\n",
       "             ('cancelac', 1),\n",
       "             ('nf', 94),\n",
       "             ('emit', 92),\n",
       "             ('ganh', 34),\n",
       "             ('msm', 15),\n",
       "             ('charm', 9),\n",
       "             ('sal', 35),\n",
       "             ('quantidad', 58),\n",
       "             ('volum', 28),\n",
       "             ('próxim', 55),\n",
       "             ('dest', 158),\n",
       "             ('prestaçã', 17),\n",
       "             ('ursos', 2),\n",
       "             ('rez', 2),\n",
       "             ('azul', 94),\n",
       "             ('adquir', 155),\n",
       "             ('risc', 93),\n",
       "             ('evi', 2),\n",
       "             ('ligaçõ', 5),\n",
       "             ('gravaçã', 7),\n",
       "             ('las', 7),\n",
       "             ('just', 62),\n",
       "             ('centraliz', 3),\n",
       "             ('pingent', 15),\n",
       "             ('lindocheg', 4),\n",
       "             ('pranch', 11),\n",
       "             ('02645381563', 1),\n",
       "             ('protud', 17),\n",
       "             ('quart', 52),\n",
       "             ('irad', 1),\n",
       "             ('ness', 170),\n",
       "             ('agent', 10),\n",
       "             ('15', 122),\n",
       "             ('exelent', 58),\n",
       "             ('eficaz', 20),\n",
       "             ('travesseir', 53),\n",
       "             ('pontual', 134),\n",
       "             ('negóci', 28),\n",
       "             ('original', 382),\n",
       "             ('usuári', 3),\n",
       "             ('impressõ', 4),\n",
       "             ('mosquiteir', 14),\n",
       "             ('fur', 33),\n",
       "             ('king', 28),\n",
       "             ('kiung', 1),\n",
       "             ('que', 10),\n",
       "             ('pagament', 134),\n",
       "             ('tratat', 1),\n",
       "             ('produtocheg', 9),\n",
       "             ('estipuladoest', 1),\n",
       "             ('quadr', 91),\n",
       "             ('madeir', 36),\n",
       "             ('afundada', 1),\n",
       "             ('sejacheg', 1),\n",
       "             ('avari', 41),\n",
       "             ('agil', 112),\n",
       "             ('razoavel', 8),\n",
       "             ('propr', 7),\n",
       "             ('avar', 78),\n",
       "             ('qualid', 3),\n",
       "             ('bons', 65),\n",
       "             ('bebedour', 10),\n",
       "             ('metál', 8),\n",
       "             ('obs', 21),\n",
       "             ('cachorr', 14),\n",
       "             ('mach', 4),\n",
       "             ...])"
      ]
     },
     "execution_count": 120,
     "metadata": {},
     "output_type": "execute_result"
    }
   ],
   "source": [
    "counts"
   ]
  },
  {
   "cell_type": "code",
   "execution_count": 121,
   "metadata": {},
   "outputs": [
    {
     "name": "stdout",
     "output_type": "stream",
     "text": [
      "7884 are used less than 2 times\n",
      "And these words accounts for 2.59% of whole texts\n"
     ]
    }
   ],
   "source": [
    "total_freq = 0\n",
    "rare_freq = 0\n",
    "rare_counts = 0\n",
    "thread=2\n",
    "\n",
    "for key,value in counts.items():\n",
    "    total_freq += value\n",
    "    if value<thread:\n",
    "        rare_freq += value\n",
    "        rare_counts += value\n",
    "\n",
    "print(f\"{rare_counts} are used less than {thread} times\")\n",
    "print(f\"And these words accounts for {np.round(rare_freq/total_freq*100,2)}% of whole texts\")"
   ]
  },
  {
   "cell_type": "code",
   "execution_count": 179,
   "metadata": {},
   "outputs": [
    {
     "name": "stdout",
     "output_type": "stream",
     "text": [
      "\n",
      "Samples\n",
      "\n",
      "[5, 11, 7, 3, 172]\n",
      "[55, 12, 33, 52, 4, 367, 262, 463, 55, 36, 309, 3735]\n",
      "41753\n"
     ]
    }
   ],
   "source": [
    "word_size=(13134)\n",
    "vocab_size = word_size+1\n",
    "tokenizer = Tokenizer(num_words=word_size)\n",
    "\n",
    "tokenizer.fit_on_texts(coment_not_nan.review_comment_message)\n",
    "tokenized = tokenizer.texts_to_sequences(coment_not_nan.review_comment_message)\n",
    "\n",
    "print(\"\\nSamples\\n\")\n",
    "print(tokenized[0])\n",
    "print(tokenized[1])\n",
    "print(len(tokenized))"
   ]
  },
  {
   "cell_type": "code",
   "execution_count": 123,
   "metadata": {},
   "outputs": [],
   "source": [
    "import matplotlib.pyplot as plt"
   ]
  },
  {
   "cell_type": "code",
   "execution_count": 180,
   "metadata": {},
   "outputs": [
    {
     "name": "stdout",
     "output_type": "stream",
     "text": [
      "Average length of each row >> 7.281824060546548\n",
      "Maximum length of each row >> 31\n"
     ]
    },
    {
     "data": {
      "image/png": "[encoded data removed]",
      "text/plain": [
       "<Figure size 432x288 with 1 Axes>"
      ]
     },
     "metadata": {
      "needs_background": "light"
     },
     "output_type": "display_data"
    }
   ],
   "source": [
    "lengths = [len(s) for s in tokenized]\n",
    "print(f\"Average length of each row >> {np.mean(lengths)}\")\n",
    "print(f\"Maximum length of each row >> {np.max(lengths)}\")\n",
    "\n",
    "plt.hist(lengths,bins=50)\n",
    "plt.title('Length of sequence')\n",
    "plt.show()"
   ]
  },
  {
   "cell_type": "code",
   "execution_count": 181,
   "metadata": {},
   "outputs": [],
   "source": [
    "sequence_size = 26"
   ]
  },
  {
   "cell_type": "code",
   "execution_count": 182,
   "metadata": {},
   "outputs": [
    {
     "name": "stdout",
     "output_type": "stream",
     "text": [
      "(41753, 26)\n",
      "Padded samples\n",
      "[  5  11   7   3 172   0   0   0   0   0   0   0   0   0   0   0   0   0\n",
      "   0   0   0   0   0   0   0   0]\n",
      "[  55   12   33   52    4  367  262  463   55   36  309 3735    0    0\n",
      "    0    0    0    0    0    0    0    0    0    0    0    0]\n"
     ]
    }
   ],
   "source": [
    "padded = pad_sequences(tokenized,maxlen=sequence_size,padding='post',truncating='post')\n",
    "print(padded.shape)\n",
    "print(\"Padded samples\")\n",
    "print(padded[0])\n",
    "print(padded[1])"
   ]
  },
  {
   "cell_type": "code",
   "execution_count": 183,
   "metadata": {},
   "outputs": [],
   "source": [
    "from imblearn.over_sampling import RandomOverSampler\n",
    "oversample = RandomOverSampler(sampling_strategy='minority')"
   ]
  },
  {
   "cell_type": "code",
   "execution_count": 184,
   "metadata": {},
   "outputs": [],
   "source": [
    "y = coment_not_nan.sentiment"
   ]
  },
  {
   "cell_type": "code",
   "execution_count": 185,
   "metadata": {},
   "outputs": [],
   "source": [
    "train_data, test_data, train_label, test_label = train_test_split(padded,y,test_size =0.2,random_state=42,stratify=y)"
   ]
  },
  {
   "cell_type": "code",
   "execution_count": 186,
   "metadata": {},
   "outputs": [
    {
     "data": {
      "text/plain": [
       " 1    21344\n",
       "-1     9126\n",
       " 0     2932\n",
       "Name: sentiment, dtype: int64"
      ]
     },
     "execution_count": 186,
     "metadata": {},
     "output_type": "execute_result"
    }
   ],
   "source": [
    "train_label.value_counts()"
   ]
  },
  {
   "cell_type": "code",
   "execution_count": 187,
   "metadata": {},
   "outputs": [
    {
     "data": {
      "text/plain": [
       " 1    5336\n",
       "-1    2282\n",
       " 0     733\n",
       "Name: sentiment, dtype: int64"
      ]
     },
     "execution_count": 187,
     "metadata": {},
     "output_type": "execute_result"
    }
   ],
   "source": [
    "test_label.value_counts()"
   ]
  },
  {
   "cell_type": "code",
   "execution_count": 188,
   "metadata": {},
   "outputs": [],
   "source": [
    "X_over, y_over = oversample.fit_resample(train_data, train_label)"
   ]
  },
  {
   "cell_type": "code",
   "execution_count": 189,
   "metadata": {},
   "outputs": [],
   "source": [
    "X_over_1, y_over_1 = oversample.fit_resample(X_over, y_over)"
   ]
  },
  {
   "cell_type": "code",
   "execution_count": 190,
   "metadata": {},
   "outputs": [
    {
     "data": {
      "text/plain": [
       " 0    21344\n",
       " 1    21344\n",
       "-1    21344\n",
       "Name: sentiment, dtype: int64"
      ]
     },
     "execution_count": 190,
     "metadata": {},
     "output_type": "execute_result"
    }
   ],
   "source": [
    "y_over_1.value_counts()"
   ]
  },
  {
   "cell_type": "code",
   "execution_count": 191,
   "metadata": {},
   "outputs": [],
   "source": [
    "label = to_categorical(y_over_1,num_classes=3)"
   ]
  },
  {
   "cell_type": "code",
   "execution_count": 192,
   "metadata": {},
   "outputs": [
    {
     "data": {
      "text/plain": [
       "array([[0., 0., 1.],\n",
       "       [1., 0., 0.],\n",
       "       [0., 0., 1.],\n",
       "       ...,\n",
       "       [0., 0., 1.],\n",
       "       [0., 0., 1.],\n",
       "       [0., 0., 1.]], dtype=float32)"
      ]
     },
     "execution_count": 192,
     "metadata": {},
     "output_type": "execute_result"
    }
   ],
   "source": [
    "label"
   ]
  },
  {
   "cell_type": "code",
   "execution_count": 193,
   "metadata": {},
   "outputs": [],
   "source": [
    "### classes in balance"
   ]
  },
  {
   "cell_type": "code",
   "execution_count": 194,
   "metadata": {},
   "outputs": [],
   "source": [
    "# less than one percent of messages contains emojis and even less contains only emojis"
   ]
  },
  {
   "cell_type": "code",
   "execution_count": 195,
   "metadata": {},
   "outputs": [
    {
     "data": {
      "text/plain": [
       "array([[  5,   1,   5, ...,   0,   0,   0],\n",
       "       [ 15,   1,   2, ...,   0,   0,   0],\n",
       "       [  5,   1,  28, ...,   0,   0,   0],\n",
       "       ...,\n",
       "       [  5, 126,  64, ...,   0,   0,   0],\n",
       "       [  2,  97,  47, ...,   0,   0,   0],\n",
       "       [ 21, 879, 240, ...,   0,   0,   0]], dtype=int32)"
      ]
     },
     "execution_count": 195,
     "metadata": {},
     "output_type": "execute_result"
    }
   ],
   "source": [
    "X_over_1"
   ]
  },
  {
   "cell_type": "code",
   "execution_count": 196,
   "metadata": {},
   "outputs": [
    {
     "data": {
      "text/plain": [
       "0       -1\n",
       "1        0\n",
       "2       -1\n",
       "3       -1\n",
       "4        1\n",
       "        ..\n",
       "64027   -1\n",
       "64028   -1\n",
       "64029   -1\n",
       "64030   -1\n",
       "64031   -1\n",
       "Name: sentiment, Length: 64032, dtype: int64"
      ]
     },
     "execution_count": 196,
     "metadata": {},
     "output_type": "execute_result"
    }
   ],
   "source": [
    "y_over_1"
   ]
  },
  {
   "cell_type": "code",
   "execution_count": 197,
   "metadata": {},
   "outputs": [
    {
     "data": {
      "text/plain": [
       " 0    21344\n",
       " 1    21344\n",
       "-1    21344\n",
       "Name: sentiment, dtype: int64"
      ]
     },
     "execution_count": 197,
     "metadata": {},
     "output_type": "execute_result"
    }
   ],
   "source": [
    "y_over_1.value_counts()"
   ]
  },
  {
   "cell_type": "code",
   "execution_count": 198,
   "metadata": {},
   "outputs": [],
   "source": [
    "### classes balanced"
   ]
  },
  {
   "cell_type": "code",
   "execution_count": 199,
   "metadata": {},
   "outputs": [],
   "source": [
    "# X_over_1, y_over_1,test_label,test_data"
   ]
  },
  {
   "cell_type": "code",
   "execution_count": 200,
   "metadata": {},
   "outputs": [
    {
     "data": {
      "text/plain": [
       "4526    -1\n",
       "74288   -1\n",
       "27827   -1\n",
       "15038    1\n",
       "37062    1\n",
       "        ..\n",
       "6357    -1\n",
       "91295    1\n",
       "13575    1\n",
       "41169    1\n",
       "97101   -1\n",
       "Name: sentiment, Length: 8351, dtype: int64"
      ]
     },
     "execution_count": 200,
     "metadata": {},
     "output_type": "execute_result"
    }
   ],
   "source": [
    "test_label"
   ]
  },
  {
   "cell_type": "code",
   "execution_count": 201,
   "metadata": {},
   "outputs": [
    {
     "data": {
      "text/plain": [
       "0       -1\n",
       "1        0\n",
       "2       -1\n",
       "3       -1\n",
       "4        1\n",
       "        ..\n",
       "64027   -1\n",
       "64028   -1\n",
       "64029   -1\n",
       "64030   -1\n",
       "64031   -1\n",
       "Name: sentiment, Length: 64032, dtype: int64"
      ]
     },
     "execution_count": 201,
     "metadata": {},
     "output_type": "execute_result"
    }
   ],
   "source": [
    "y_over_1"
   ]
  },
  {
   "cell_type": "code",
   "execution_count": 202,
   "metadata": {},
   "outputs": [],
   "source": [
    "testing_label = to_categorical(test_label,num_classes=3)"
   ]
  },
  {
   "cell_type": "code",
   "execution_count": 203,
   "metadata": {},
   "outputs": [
    {
     "data": {
      "text/plain": [
       "array([[0., 0., 1.],\n",
       "       [0., 0., 1.],\n",
       "       [0., 0., 1.],\n",
       "       ...,\n",
       "       [0., 1., 0.],\n",
       "       [0., 1., 0.],\n",
       "       [0., 0., 1.]], dtype=float32)"
      ]
     },
     "execution_count": 203,
     "metadata": {},
     "output_type": "execute_result"
    }
   ],
   "source": [
    "testing_label"
   ]
  },
  {
   "cell_type": "code",
   "execution_count": 204,
   "metadata": {},
   "outputs": [],
   "source": [
    "from sklearn.model_selection import train_test_split"
   ]
  },
  {
   "cell_type": "code",
   "execution_count": 205,
   "metadata": {},
   "outputs": [],
   "source": [
    "word_vec_size=100\n",
    "hidden_size=256\n",
    "\n",
    "def baseline_model():\n",
    "    X = Input(shape = [sequence_size])\n",
    "    H = Embedding(vocab_size,word_vec_size,input_length=sequence_size)(X)\n",
    "\n",
    "    #H = BatchNormalization()(H)\n",
    "    #H = LSTM(hidden_size,return_sequences = True)(H)\n",
    "    H = BatchNormalization()(H)\n",
    "    H = LSTM(hidden_size)(H)\n",
    "    \n",
    "    \n",
    "    \n",
    "    Y = Dense(3,activation='softmax')(H)\n",
    "    \n",
    "    model = keras.models.Model(X,Y)\n",
    "    model.compile(loss='categorical_crossentropy',optimizer='adam',metrics=['accuracy'])\n",
    "    return model \n",
    "       "
   ]
  },
  {
   "cell_type": "code",
   "execution_count": 206,
   "metadata": {},
   "outputs": [
    {
     "name": "stdout",
     "output_type": "stream",
     "text": [
      "Epoch 1/10\n",
      "801/801 [==============================] - 99s 120ms/step - loss: 0.7511 - accuracy: 0.6599 - val_loss: 0.7017 - val_accuracy: 0.7560\n",
      "Epoch 2/10\n",
      "801/801 [==============================] - 107s 134ms/step - loss: 0.4588 - accuracy: 0.8150 - val_loss: 0.3691 - val_accuracy: 0.8560\n",
      "Epoch 3/10\n",
      "801/801 [==============================] - 82s 103ms/step - loss: 0.3228 - accuracy: 0.8693 - val_loss: 0.4325 - val_accuracy: 0.8097\n",
      "Epoch 4/10\n",
      "801/801 [==============================] - 87s 108ms/step - loss: 0.2557 - accuracy: 0.8939 - val_loss: 0.2819 - val_accuracy: 0.9010\n",
      "Epoch 5/10\n",
      "801/801 [==============================] - 94s 117ms/step - loss: 0.2104 - accuracy: 0.9105 - val_loss: 0.2680 - val_accuracy: 0.8990\n",
      "Epoch 6/10\n",
      "801/801 [==============================] - 94s 117ms/step - loss: 0.1816 - accuracy: 0.9225 - val_loss: 0.2147 - val_accuracy: 0.9288\n",
      "Epoch 7/10\n",
      "801/801 [==============================] - 99s 123ms/step - loss: 0.1625 - accuracy: 0.9290 - val_loss: 0.1979 - val_accuracy: 0.9207\n",
      "Epoch 8/10\n",
      "801/801 [==============================] - 101s 126ms/step - loss: 0.1510 - accuracy: 0.9324 - val_loss: 0.1520 - val_accuracy: 0.9557\n",
      "Epoch 9/10\n",
      "801/801 [==============================] - 85s 106ms/step - loss: 0.1447 - accuracy: 0.9345 - val_loss: 0.1319 - val_accuracy: 0.9523\n",
      "Epoch 10/10\n",
      "801/801 [==============================] - 84s 105ms/step - loss: 0.1362 - accuracy: 0.9378 - val_loss: 0.1365 - val_accuracy: 0.9511\n",
      "261/261 [==============================] - 6s 23ms/step - loss: 1.1027 - accuracy: 0.7846\n"
     ]
    },
    {
     "data": {
      "text/plain": [
       "[1.102732539176941, 0.7845767140388489]"
      ]
     },
     "execution_count": 206,
     "metadata": {},
     "output_type": "execute_result"
    }
   ],
   "source": [
    "lstm_no = baseline_model()\n",
    "lstm_no_hist = lstm_no.fit(X_over_1,label,epochs=10,batch_size=64,validation_split=0.2)\n",
    "lstm_no.evaluate(test_data,testing_label)"
   ]
  },
  {
   "cell_type": "code",
   "execution_count": 89,
   "metadata": {},
   "outputs": [],
   "source": [
    "### baseline model with 1 lstm have accuraccy 80%"
   ]
  },
  {
   "cell_type": "code",
   "execution_count": 94,
   "metadata": {},
   "outputs": [],
   "source": [
    "### model with 2 lstm overfit with 10 epochs\n"
   ]
  },
  {
   "cell_type": "code",
   "execution_count": 147,
   "metadata": {},
   "outputs": [],
   "source": [
    "X_over_1 = pd.DataFrame(X_over_1)\n",
    "label = pd.DataFrame(label)\n",
    "test_data = pd.DataFrame(test_data)\n",
    "testing_label = pd.DataFrame(testing_label)"
   ]
  },
  {
   "cell_type": "code",
   "execution_count": 148,
   "metadata": {},
   "outputs": [],
   "source": [
    "X_over_1.to_csv('train_text.csv')\n",
    "label.to_csv('train_label.csv')\n",
    "test_data.to_csv('test_text.csv')\n",
    "testing_label.to_csv('test_label.csv')"
   ]
  },
  {
   "cell_type": "code",
   "execution_count": 61,
   "metadata": {},
   "outputs": [
    {
     "data": {
      "text/plain": [
       "(64032, 25)"
      ]
     },
     "execution_count": 61,
     "metadata": {},
     "output_type": "execute_result"
    }
   ],
   "source": [
    "X_over_1.shape"
   ]
  },
  {
   "cell_type": "code",
   "execution_count": 62,
   "metadata": {},
   "outputs": [
    {
     "data": {
      "text/plain": [
       "(64032, 3)"
      ]
     },
     "execution_count": 62,
     "metadata": {},
     "output_type": "execute_result"
    }
   ],
   "source": [
    "label.shape"
   ]
  },
  {
   "cell_type": "code",
   "execution_count": 63,
   "metadata": {},
   "outputs": [
    {
     "data": {
      "text/plain": [
       "(8351, 25)"
      ]
     },
     "execution_count": 63,
     "metadata": {},
     "output_type": "execute_result"
    }
   ],
   "source": [
    "test_data.shape"
   ]
  },
  {
   "cell_type": "code",
   "execution_count": 64,
   "metadata": {},
   "outputs": [
    {
     "data": {
      "text/plain": [
       "(8351, 3)"
      ]
     },
     "execution_count": 64,
     "metadata": {},
     "output_type": "execute_result"
    }
   ],
   "source": [
    "testing_label.shape"
   ]
  },
  {
   "cell_type": "code",
   "execution_count": 207,
   "metadata": {},
   "outputs": [],
   "source": [
    "import pickle "
   ]
  },
  {
   "cell_type": "code",
   "execution_count": null,
   "metadata": {},
   "outputs": [],
   "source": []
  }
 ],
 "metadata": {
  "kernelspec": {
   "display_name": "Python 3",
   "language": "python",
   "name": "python3"
  },
  "language_info": {
   "codemirror_mode": {
    "name": "ipython",
    "version": 3
   },
   "file_extension": ".py",
   "mimetype": "text/x-python",
   "name": "python",
   "nbconvert_exporter": "python",
   "pygments_lexer": "ipython3",
   "version": "3.9.4"
  }
 },
 "nbformat": 4,
 "nbformat_minor": 4
}
