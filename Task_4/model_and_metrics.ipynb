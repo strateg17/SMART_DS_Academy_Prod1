{
  "nbformat": 4,
  "nbformat_minor": 0,
  "metadata": {
    "colab": {
      "name": "model_and metrics.ipynb",
      "provenance": [],
      "collapsed_sections": []
    },
    "kernelspec": {
      "name": "python3",
      "display_name": "Python 3"
    },
    "language_info": {
      "name": "python"
    },
    "accelerator": "GPU"
  },
  "cells": [
    {
      "cell_type": "code",
      "metadata": {
        "id": "e4IP_r5ln7lj"
      },
      "source": [
        "import tensorflow as tf\n"
      ],
      "execution_count": 1,
      "outputs": []
    },
    {
      "cell_type": "code",
      "metadata": {
        "colab": {
          "base_uri": "https://localhost:8080/"
        },
        "id": "vQ-PHhFzoHPu",
        "outputId": "ad1236d2-31fa-402e-8af1-7c6bbe04adae"
      },
      "source": [
        " tf.config.list_physical_devices('GPU')"
      ],
      "execution_count": 2,
      "outputs": [
        {
          "output_type": "execute_result",
          "data": {
            "text/plain": [
              "[PhysicalDevice(name='/physical_device:GPU:0', device_type='GPU')]"
            ]
          },
          "metadata": {
            "tags": []
          },
          "execution_count": 2
        }
      ]
    },
    {
      "cell_type": "code",
      "metadata": {
        "id": "23H6zTnDo7xy"
      },
      "source": [
        "import pandas as pd\n",
        "import numpy as np"
      ],
      "execution_count": 3,
      "outputs": []
    },
    {
      "cell_type": "code",
      "metadata": {
        "id": "z0S5XT27pAbU"
      },
      "source": [
        "train_text = pd.read_csv('train_text.csv',index_col=0)\n",
        "test_text = pd.read_csv('test_text.csv',index_col=0)\n",
        "train_label = pd.read_csv('train_label.csv',index_col=0)\n",
        "test_label = pd.read_csv('test_label.csv',index_col=0)"
      ],
      "execution_count": 4,
      "outputs": []
    },
    {
      "cell_type": "code",
      "metadata": {
        "colab": {
          "base_uri": "https://localhost:8080/"
        },
        "id": "UFQblqApsm4g",
        "outputId": "7725aaf6-9ae0-42f0-d2f2-29865c8741c3"
      },
      "source": [
        "train_text.shape"
      ],
      "execution_count": 5,
      "outputs": [
        {
          "output_type": "execute_result",
          "data": {
            "text/plain": [
              "(32506, 25)"
            ]
          },
          "metadata": {
            "tags": []
          },
          "execution_count": 5
        }
      ]
    },
    {
      "cell_type": "code",
      "metadata": {
        "colab": {
          "base_uri": "https://localhost:8080/"
        },
        "id": "ZUU4SCFRso9_",
        "outputId": "b7ea0fe4-462b-4dd3-e303-ca49f1c26e03"
      },
      "source": [
        "test_text.shape"
      ],
      "execution_count": 6,
      "outputs": [
        {
          "output_type": "execute_result",
          "data": {
            "text/plain": [
              "(8351, 25)"
            ]
          },
          "metadata": {
            "tags": []
          },
          "execution_count": 6
        }
      ]
    },
    {
      "cell_type": "code",
      "metadata": {
        "colab": {
          "base_uri": "https://localhost:8080/"
        },
        "id": "_piwIaAcsq3Q",
        "outputId": "12b4fd74-f9ae-4e7a-9175-1a032e3c5d49"
      },
      "source": [
        "train_label.shape"
      ],
      "execution_count": 7,
      "outputs": [
        {
          "output_type": "execute_result",
          "data": {
            "text/plain": [
              "(64032, 3)"
            ]
          },
          "metadata": {
            "tags": []
          },
          "execution_count": 7
        }
      ]
    },
    {
      "cell_type": "code",
      "metadata": {
        "colab": {
          "base_uri": "https://localhost:8080/"
        },
        "id": "T3bOBCeFsutm",
        "outputId": "b95a316b-fc46-4108-ec2d-f5036da5fab9"
      },
      "source": [
        "test_label.shape"
      ],
      "execution_count": 8,
      "outputs": [
        {
          "output_type": "execute_result",
          "data": {
            "text/plain": [
              "(8351, 3)"
            ]
          },
          "metadata": {
            "tags": []
          },
          "execution_count": 8
        }
      ]
    },
    {
      "cell_type": "code",
      "metadata": {
        "id": "CU3g3MhNtRvo"
      },
      "source": [
        "from keras.preprocessing.text import Tokenizer\n",
        "from keras.preprocessing.sequence import pad_sequences\n",
        "from sklearn.model_selection import train_test_split\n",
        "from tensorflow.keras.utils import to_categorical\n",
        "from keras.layers import Input,Embedding,Bidirectional,LSTM,BatchNormalization,Dense,Dropout\n",
        "import keras"
      ],
      "execution_count": 9,
      "outputs": []
    },
    {
      "cell_type": "code",
      "metadata": {
        "id": "9yQZBdXWt_nU"
      },
      "source": [
        "sequence_size = 25\n",
        "word_size=(13133-7884)\n",
        "vocab_size = word_size+1"
      ],
      "execution_count": 10,
      "outputs": []
    },
    {
      "cell_type": "code",
      "metadata": {
        "id": "134aQsJLtroQ"
      },
      "source": [
        "word_vec_size=100\n",
        "hidden_size=256\n",
        "\n",
        "def baseline_model():\n",
        "    X = Input(shape = [sequence_size])\n",
        "    H = Embedding(vocab_size,word_vec_size,input_length=sequence_size)(X)\n",
        "\n",
        "    H = BatchNormalization()(H)\n",
        "    H = (LSTM(hidden_size,return_sequences = True))(H)\n",
        "    H = BatchNormalization()(H)\n",
        "    H = (LSTM(int(hidden_size/2)))(H)\n",
        "    \n",
        "    H = Dropout(0.2)(H)\n",
        "    \n",
        "    Y = Dense(3,activation='softmax')(H)\n",
        "    \n",
        "    model = keras.models.Model(X,Y)\n",
        "    model.compile(loss='categorical_crossentropy',optimizer='adam',metrics=['accuracy'])\n",
        "    return model "
      ],
      "execution_count": 66,
      "outputs": []
    },
    {
      "cell_type": "code",
      "metadata": {
        "colab": {
          "base_uri": "https://localhost:8080/"
        },
        "id": "KCKvHn--t0yX",
        "outputId": "5214b80d-bf0d-4046-b793-4b2fcf61b94f"
      },
      "source": [
        "lstm_no = baseline_model()\n",
        "lstm_no_hist = lstm_no.fit(train_text,train_label,epochs=12,batch_size=512,validation_split=0.2)\n",
        "lstm_no.evaluate(test_text,test_label)"
      ],
      "execution_count": 68,
      "outputs": [
        {
          "output_type": "stream",
          "text": [
            "Epoch 1/12\n",
            "51/51 [==============================] - 6s 48ms/step - loss: 0.7555 - accuracy: 0.6921 - val_loss: 1.0801 - val_accuracy: 0.3544\n",
            "Epoch 2/12\n",
            "51/51 [==============================] - 2s 30ms/step - loss: 0.4536 - accuracy: 0.8421 - val_loss: 1.0496 - val_accuracy: 0.4639\n",
            "Epoch 3/12\n",
            "51/51 [==============================] - 2s 30ms/step - loss: 0.3960 - accuracy: 0.8613 - val_loss: 1.0599 - val_accuracy: 0.4502\n",
            "Epoch 4/12\n",
            "51/51 [==============================] - 2s 30ms/step - loss: 0.3622 - accuracy: 0.8732 - val_loss: 1.0717 - val_accuracy: 0.4542\n",
            "Epoch 5/12\n",
            "51/51 [==============================] - 2s 30ms/step - loss: 0.3340 - accuracy: 0.8875 - val_loss: 1.0273 - val_accuracy: 0.4969\n",
            "Epoch 6/12\n",
            "51/51 [==============================] - 2s 31ms/step - loss: 0.3018 - accuracy: 0.8983 - val_loss: 0.7188 - val_accuracy: 0.7428\n",
            "Epoch 7/12\n",
            "51/51 [==============================] - 2s 31ms/step - loss: 0.2687 - accuracy: 0.9135 - val_loss: 0.6226 - val_accuracy: 0.7893\n",
            "Epoch 8/12\n",
            "51/51 [==============================] - 2s 31ms/step - loss: 0.2468 - accuracy: 0.9187 - val_loss: 0.6282 - val_accuracy: 0.7914\n",
            "Epoch 9/12\n",
            "51/51 [==============================] - 2s 31ms/step - loss: 0.2389 - accuracy: 0.9228 - val_loss: 0.6152 - val_accuracy: 0.8078\n",
            "Epoch 10/12\n",
            "51/51 [==============================] - 2s 31ms/step - loss: 0.2133 - accuracy: 0.9292 - val_loss: 0.6732 - val_accuracy: 0.8177\n",
            "Epoch 11/12\n",
            "51/51 [==============================] - 2s 31ms/step - loss: 0.2000 - accuracy: 0.9369 - val_loss: 0.7473 - val_accuracy: 0.8145\n",
            "Epoch 12/12\n",
            "51/51 [==============================] - 2s 31ms/step - loss: 0.1809 - accuracy: 0.9429 - val_loss: 0.7920 - val_accuracy: 0.8114\n",
            "261/261 [==============================] - 2s 4ms/step - loss: 0.7710 - accuracy: 0.8145\n"
          ],
          "name": "stdout"
        },
        {
          "output_type": "execute_result",
          "data": {
            "text/plain": [
              "[0.7710028290748596, 0.8145132064819336]"
            ]
          },
          "metadata": {
            "tags": []
          },
          "execution_count": 68
        }
      ]
    },
    {
      "cell_type": "code",
      "metadata": {
        "id": "NYyKteym1HmE"
      },
      "source": [
        "from sklearn.metrics import multilabel_confusion_matrix"
      ],
      "execution_count": 20,
      "outputs": []
    },
    {
      "cell_type": "code",
      "metadata": {
        "id": "n-M9i7xc1JhO"
      },
      "source": [
        "multilabel_confusion_matrix(y_true, y_pred)"
      ],
      "execution_count": null,
      "outputs": []
    },
    {
      "cell_type": "code",
      "metadata": {
        "id": "s8pFdtNPhScL"
      },
      "source": [
        "conf_label=lstm_no.predict(test_text)"
      ],
      "execution_count": 69,
      "outputs": []
    },
    {
      "cell_type": "code",
      "metadata": {
        "id": "tarhMDEthVwt"
      },
      "source": [
        "confusions = multilabel_confusion_matrix(new_label,new_conf)"
      ],
      "execution_count": 73,
      "outputs": []
    },
    {
      "cell_type": "code",
      "metadata": {
        "id": "FfgYSG1qkwzv"
      },
      "source": [
        "labels=[\"neutral\", \"positive\", \"negative\"]"
      ],
      "execution_count": null,
      "outputs": []
    },
    {
      "cell_type": "code",
      "metadata": {
        "id": "J7auO2BMhnxa"
      },
      "source": [
        "new_conf = np.argmax(conf_label,axis=1)"
      ],
      "execution_count": 70,
      "outputs": []
    },
    {
      "cell_type": "code",
      "metadata": {
        "id": "JBFcpwAHjzGu"
      },
      "source": [
        "test_label = np.array(test_label)"
      ],
      "execution_count": 71,
      "outputs": []
    },
    {
      "cell_type": "code",
      "metadata": {
        "id": "tX7gTW-4iD6P"
      },
      "source": [
        "new_label = np.argmax(test_label,axis=1)"
      ],
      "execution_count": 72,
      "outputs": []
    },
    {
      "cell_type": "code",
      "metadata": {
        "colab": {
          "base_uri": "https://localhost:8080/"
        },
        "id": "TLiKAbWOjUc4",
        "outputId": "81b57796-7810-49ec-b02f-7bd7a831941f"
      },
      "source": [
        "test_label.shape"
      ],
      "execution_count": 37,
      "outputs": [
        {
          "output_type": "execute_result",
          "data": {
            "text/plain": [
              "(8351, 3)"
            ]
          },
          "metadata": {
            "tags": []
          },
          "execution_count": 37
        }
      ]
    },
    {
      "cell_type": "code",
      "metadata": {
        "colab": {
          "base_uri": "https://localhost:8080/"
        },
        "id": "6I1Oo7fujXv7",
        "outputId": "77737430-a44e-4b6d-fafa-de7798e6a92c"
      },
      "source": [
        "conf_label.shape"
      ],
      "execution_count": 39,
      "outputs": [
        {
          "output_type": "execute_result",
          "data": {
            "text/plain": [
              "(8351, 3)"
            ]
          },
          "metadata": {
            "tags": []
          },
          "execution_count": 39
        }
      ]
    },
    {
      "cell_type": "code",
      "metadata": {
        "colab": {
          "base_uri": "https://localhost:8080/"
        },
        "id": "T3Jxc1TCjaHm",
        "outputId": "ad1e1673-a3b8-4941-db4c-3763f620d138"
      },
      "source": [
        "conf_label"
      ],
      "execution_count": 41,
      "outputs": [
        {
          "output_type": "execute_result",
          "data": {
            "text/plain": [
              "array([[0.1982708 , 0.05887478, 0.7428544 ],\n",
              "       [0.25555465, 0.5672751 , 0.17717025],\n",
              "       [0.21211043, 0.46996868, 0.31792086],\n",
              "       ...,\n",
              "       [0.20528872, 0.69837123, 0.09634001],\n",
              "       [0.21645457, 0.64144725, 0.1420982 ],\n",
              "       [0.09925117, 0.23189741, 0.66885144]], dtype=float32)"
            ]
          },
          "metadata": {
            "tags": []
          },
          "execution_count": 41
        }
      ]
    },
    {
      "cell_type": "code",
      "metadata": {
        "colab": {
          "base_uri": "https://localhost:8080/",
          "height": 296
        },
        "id": "bHHcsJTsjveI",
        "outputId": "14dd082b-6716-4533-b407-b704d4b859f8"
      },
      "source": [
        "labels = ['neural','not_neurtal']\n",
        "\n",
        "ax= plt.subplot()\n",
        "sns.heatmap(confusions[0], annot=True, ax = ax); #annot=True to annotate cells\n",
        "\n",
        "# labels, title and ticks\n",
        "ax.set_xlabel('Predicted labels');ax.set_ylabel('True labels'); \n",
        "ax.set_title('Confusion Matrix'); \n",
        "ax.xaxis.set_ticklabels(labels); \n",
        "ax.yaxis.set_ticklabels(labels);"
      ],
      "execution_count": 74,
      "outputs": [
        {
          "output_type": "display_data",
          "data": {
            "image/png": "[encoded data removed]",
            "text/plain": [
              "<Figure size 432x288 with 2 Axes>"
            ]
          },
          "metadata": {
            "tags": [],
            "needs_background": "light"
          }
        }
      ]
    },
    {
      "cell_type": "code",
      "metadata": {
        "colab": {
          "base_uri": "https://localhost:8080/",
          "height": 296
        },
        "id": "b3CEaCEomZPA",
        "outputId": "72a1dc21-3cec-4fb2-f12a-8c3b6a603ead"
      },
      "source": [
        "labels = ['positive','not_positive']\n",
        "\n",
        "ax= plt.subplot()\n",
        "sns.heatmap(confusions[1], annot=True,ax=ax); #annot=True to annotate cells\n",
        "\n",
        "# labels, title and ticks\n",
        "ax.set_xlabel('Predicted labels');ax.set_ylabel('True labels'); \n",
        "ax.set_title('Confusion Matrix'); \n",
        "ax.xaxis.set_ticklabels(labels); \n",
        "ax.yaxis.set_ticklabels(labels);"
      ],
      "execution_count": 75,
      "outputs": [
        {
          "output_type": "display_data",
          "data": {
            "image/png": "[encoded data removed]",
            "text/plain": [
              "<Figure size 432x288 with 2 Axes>"
            ]
          },
          "metadata": {
            "tags": [],
            "needs_background": "light"
          }
        }
      ]
    },
    {
      "cell_type": "code",
      "metadata": {
        "colab": {
          "base_uri": "https://localhost:8080/",
          "height": 296
        },
        "id": "V6th-8Vnm1yB",
        "outputId": "ea830862-9bb5-48a6-b7eb-e59f01792e42"
      },
      "source": [
        "labels = ['negative','not_negative']\n",
        "\n",
        "ax= plt.subplot()\n",
        "sns.heatmap(confusions[2], annot=True, ax = ax); #annot=True to annotate cells\n",
        "\n",
        "# labels, title and ticks\n",
        "ax.set_xlabel('Predicted labels');ax.set_ylabel('True labels'); \n",
        "ax.set_title('Confusion Matrix'); \n",
        "ax.xaxis.set_ticklabels(labels); \n",
        "ax.yaxis.set_ticklabels(labels);"
      ],
      "execution_count": 76,
      "outputs": [
        {
          "output_type": "display_data",
          "data": {
            "image/png": "[encoded data removed]",
            "text/plain": [
              "<Figure size 432x288 with 2 Axes>"
            ]
          },
          "metadata": {
            "tags": [],
            "needs_background": "light"
          }
        }
      ]
    },
    {
      "cell_type": "code",
      "metadata": {
        "colab": {
          "base_uri": "https://localhost:8080/"
        },
        "id": "8FFocsznjweL",
        "outputId": "1fa82ce2-9200-4bc2-e418-8ffb43648e12"
      },
      "source": [
        "confusions[0][0][1]"
      ],
      "execution_count": 82,
      "outputs": [
        {
          "output_type": "execute_result",
          "data": {
            "text/plain": [
              "276"
            ]
          },
          "metadata": {
            "tags": []
          },
          "execution_count": 82
        }
      ]
    },
    {
      "cell_type": "code",
      "metadata": {
        "colab": {
          "base_uri": "https://localhost:8080/"
        },
        "id": "P12M0STPtwrc",
        "outputId": "f262452d-beec-4e65-f7a3-25cda5733309"
      },
      "source": [
        "confusions"
      ],
      "execution_count": 77,
      "outputs": [
        {
          "output_type": "execute_result",
          "data": {
            "text/plain": [
              "array([[[7342,  276],\n",
              "        [ 634,   99]],\n",
              "\n",
              "       [[2548,  467],\n",
              "        [ 569, 4767]],\n",
              "\n",
              "       [[5263,  806],\n",
              "        [ 346, 1936]]])"
            ]
          },
          "metadata": {
            "tags": []
          },
          "execution_count": 77
        }
      ]
    },
    {
      "cell_type": "code",
      "metadata": {
        "colab": {
          "base_uri": "https://localhost:8080/"
        },
        "id": "ImOpwL-MmSE5",
        "outputId": "f3e7907b-5e9c-483e-e830-c6d833ce51d2"
      },
      "source": [
        "# neurtal \n",
        "n_recall = confusions[0][0][0] / (confusions[0][0][0]+ confusions[0][1][0])\n",
        "n_precision = confusions[0][0][0] / (confusions[0][0][0] +confusions[0][0][1])\n",
        "print('neutral_recall:' ,n_recall )\n",
        "print('neutral_precision:', n_precision )"
      ],
      "execution_count": 86,
      "outputs": [
        {
          "output_type": "stream",
          "text": [
            "neutral_recall: 0.9205115346038114\n",
            "neutral_precision: 0.963770018377527\n"
          ],
          "name": "stdout"
        }
      ]
    },
    {
      "cell_type": "code",
      "metadata": {
        "colab": {
          "base_uri": "https://localhost:8080/"
        },
        "id": "EvzEtm8KuGxu",
        "outputId": "ad6f3d7d-b5f6-46c8-bf5d-150c9079a62a"
      },
      "source": [
        "# positive\n",
        "p_recall = confusions[1][0][0] / (confusions[1][0][0]+ confusions[1][1][0])\n",
        "p_precision = confusions[1][0][0] / (confusions[1][0][0] +confusions[1][0][1])\n",
        "print('positive_recall:' ,p_recall )\n",
        "print('positive_precision:', p_precision )"
      ],
      "execution_count": 87,
      "outputs": [
        {
          "output_type": "stream",
          "text": [
            "positive_recall: 0.8174526788578762\n",
            "positive_recall: 0.8451077943615257\n"
          ],
          "name": "stdout"
        }
      ]
    },
    {
      "cell_type": "code",
      "metadata": {
        "colab": {
          "base_uri": "https://localhost:8080/"
        },
        "id": "i_XrHha2vMKo",
        "outputId": "4111c603-0861-4e9a-dea6-a41fee698e0f"
      },
      "source": [
        "# negative\n",
        "neg_recall = confusions[2][0][0] / (confusions[2][0][0]+ confusions[2][1][0])\n",
        "neg_precision = confusions[2][0][0] / (confusions[2][0][0] +confusions[2][0][1])\n",
        "print('negative_recall:' ,neg_recall )\n",
        "print('negative_precision:', neg_precision )"
      ],
      "execution_count": 89,
      "outputs": [
        {
          "output_type": "stream",
          "text": [
            "negative_recall: 0.9383134248529149\n",
            "negative_precision: 0.8671939363980886\n"
          ],
          "name": "stdout"
        }
      ]
    }
  ]
}