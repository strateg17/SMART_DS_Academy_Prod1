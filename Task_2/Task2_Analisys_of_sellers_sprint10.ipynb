{
 "cells": [
  {
   "cell_type": "code",
   "execution_count": 1,
   "id": "0cf8e2cd",
   "metadata": {},
   "outputs": [],
   "source": [
    "# Importing libs\n",
    "import pandas as pd\n",
    "import numpy as np\n",
    "import matplotlib.pyplot as plt\n",
    "import seaborn as sns \n",
    "import os\n",
    "\n",
    "%matplotlib inline"
   ]
  },
  {
   "cell_type": "code",
   "execution_count": 2,
   "id": "b9b68c3d",
   "metadata": {},
   "outputs": [],
   "source": [
    "# Pandas setting\n",
    "pd.set_option('display.max_rows', 100)\n",
    "pd.set_option('display.max_columns', 100)"
   ]
  },
  {
   "cell_type": "code",
   "execution_count": 3,
   "id": "785120cf",
   "metadata": {},
   "outputs": [],
   "source": [
    "# Load necessary data files for analize\n",
    "sellers = pd.read_csv('sellers_1.csv')\n",
    "order_items = pd.read_csv('order_items.csv')\n",
    "orders = pd.read_csv('orders.csv')\n",
    "products = pd.read_csv('products.csv')\n",
    "translate_category = pd.read_csv('product_category_name_translation.csv')"
   ]
  },
  {
   "cell_type": "code",
   "execution_count": 4,
   "id": "8fc0103f",
   "metadata": {},
   "outputs": [
    {
     "data": {
      "text/plain": [
       "((3095, 4), (112650, 7), (99441, 8), (32951, 9))"
      ]
     },
     "execution_count": 4,
     "metadata": {},
     "output_type": "execute_result"
    }
   ],
   "source": [
    "# Просмотр размерностей данных\n",
    "sellers.shape, order_items.shape, orders.shape, products.shape"
   ]
  },
  {
   "cell_type": "code",
   "execution_count": 5,
   "id": "4f6ec068",
   "metadata": {},
   "outputs": [],
   "source": [
    "# Объединение всех данных в единую таблицу\n",
    "data_sellers_and_orders = pd.merge(sellers, order_items, how='left', on='seller_id')\n",
    "full_data = pd.merge(data_sellers_and_orders, orders, how='left', on='order_id')\n",
    "full_data = pd.merge(full_data, products, how='left', on='product_id')\n",
    "full_data = pd.merge(full_data, translate_category, how='left', on='product_category_name')"
   ]
  },
  {
   "cell_type": "code",
   "execution_count": 6,
   "id": "a9459668",
   "metadata": {},
   "outputs": [
    {
     "data": {
      "text/plain": [
       "(112650, 26)"
      ]
     },
     "execution_count": 6,
     "metadata": {},
     "output_type": "execute_result"
    }
   ],
   "source": [
    "full_data.shape"
   ]
  },
  {
   "cell_type": "code",
   "execution_count": 7,
   "id": "2d492a94",
   "metadata": {},
   "outputs": [
    {
     "name": "stdout",
     "output_type": "stream",
     "text": [
      "<class 'pandas.core.frame.DataFrame'>\n",
      "Int64Index: 112650 entries, 0 to 112649\n",
      "Data columns (total 26 columns):\n",
      " #   Column                         Non-Null Count   Dtype  \n",
      "---  ------                         --------------   -----  \n",
      " 0   seller_id                      112650 non-null  object \n",
      " 1   seller_zip_code_prefix         112650 non-null  int64  \n",
      " 2   seller_city                    112650 non-null  object \n",
      " 3   seller_state                   112650 non-null  object \n",
      " 4   order_id                       112650 non-null  object \n",
      " 5   order_item_id                  112650 non-null  int64  \n",
      " 6   product_id                     112650 non-null  object \n",
      " 7   shipping_limit_date            112650 non-null  object \n",
      " 8   price                          112650 non-null  float64\n",
      " 9   freight_value                  112650 non-null  float64\n",
      " 10  customer_id                    112650 non-null  object \n",
      " 11  order_status                   112650 non-null  object \n",
      " 12  order_purchase_timestamp       112650 non-null  object \n",
      " 13  order_approved_at              112635 non-null  object \n",
      " 14  order_delivered_carrier_date   111456 non-null  object \n",
      " 15  order_delivered_customer_date  110196 non-null  object \n",
      " 16  order_estimated_delivery_date  112650 non-null  object \n",
      " 17  product_category_name          111047 non-null  object \n",
      " 18  product_name_lenght            111047 non-null  float64\n",
      " 19  product_description_lenght     111047 non-null  float64\n",
      " 20  product_photos_qty             111047 non-null  float64\n",
      " 21  product_weight_g               112632 non-null  float64\n",
      " 22  product_length_cm              112632 non-null  float64\n",
      " 23  product_height_cm              112632 non-null  float64\n",
      " 24  product_width_cm               112632 non-null  float64\n",
      " 25  product_category_name_english  111023 non-null  object \n",
      "dtypes: float64(9), int64(2), object(15)\n",
      "memory usage: 23.2+ MB\n"
     ]
    }
   ],
   "source": [
    "full_data.info()"
   ]
  },
  {
   "cell_type": "markdown",
   "id": "5fd53cc2",
   "metadata": {},
   "source": [
    "Присутствуют пропуски значений"
   ]
  },
  {
   "cell_type": "code",
   "execution_count": 8,
   "id": "7013f016",
   "metadata": {},
   "outputs": [
    {
     "data": {
      "text/html": [
       "<div>\n",
       "<style scoped>\n",
       "    .dataframe tbody tr th:only-of-type {\n",
       "        vertical-align: middle;\n",
       "    }\n",
       "\n",
       "    .dataframe tbody tr th {\n",
       "        vertical-align: top;\n",
       "    }\n",
       "\n",
       "    .dataframe thead th {\n",
       "        text-align: right;\n",
       "    }\n",
       "</style>\n",
       "<table border=\"1\" class=\"dataframe\">\n",
       "  <thead>\n",
       "    <tr style=\"text-align: right;\">\n",
       "      <th></th>\n",
       "      <th>seller_id</th>\n",
       "      <th>seller_zip_code_prefix</th>\n",
       "      <th>seller_city</th>\n",
       "      <th>seller_state</th>\n",
       "      <th>order_id</th>\n",
       "      <th>order_item_id</th>\n",
       "      <th>product_id</th>\n",
       "      <th>shipping_limit_date</th>\n",
       "      <th>price</th>\n",
       "      <th>freight_value</th>\n",
       "      <th>customer_id</th>\n",
       "      <th>order_status</th>\n",
       "      <th>order_purchase_timestamp</th>\n",
       "      <th>order_approved_at</th>\n",
       "      <th>order_delivered_carrier_date</th>\n",
       "      <th>order_delivered_customer_date</th>\n",
       "      <th>order_estimated_delivery_date</th>\n",
       "      <th>product_category_name</th>\n",
       "      <th>product_name_lenght</th>\n",
       "      <th>product_description_lenght</th>\n",
       "      <th>product_photos_qty</th>\n",
       "      <th>product_weight_g</th>\n",
       "      <th>product_length_cm</th>\n",
       "      <th>product_height_cm</th>\n",
       "      <th>product_width_cm</th>\n",
       "      <th>product_category_name_english</th>\n",
       "    </tr>\n",
       "  </thead>\n",
       "  <tbody>\n",
       "    <tr>\n",
       "      <th>0</th>\n",
       "      <td>3442f8959a84dea7ee197c632cb2df15</td>\n",
       "      <td>13023</td>\n",
       "      <td>campinas</td>\n",
       "      <td>SP</td>\n",
       "      <td>4a90af3e85dd563884e2afeab1091394</td>\n",
       "      <td>1</td>\n",
       "      <td>ffb64e34a37740dafb6c88f1abd1fa61</td>\n",
       "      <td>2017-08-25 20:50:19</td>\n",
       "      <td>106.20</td>\n",
       "      <td>9.56</td>\n",
       "      <td>9d6837f9700a3441e7183bff3bc4eef0</td>\n",
       "      <td>delivered</td>\n",
       "      <td>2017-08-21 20:35:44</td>\n",
       "      <td>2017-08-21 20:50:19</td>\n",
       "      <td>2017-08-29 20:33:29</td>\n",
       "      <td>2017-08-30 16:07:13</td>\n",
       "      <td>2017-09-01 00:00:00</td>\n",
       "      <td>esporte_lazer</td>\n",
       "      <td>26.0</td>\n",
       "      <td>417.0</td>\n",
       "      <td>3.0</td>\n",
       "      <td>700.0</td>\n",
       "      <td>43.0</td>\n",
       "      <td>15.0</td>\n",
       "      <td>35.0</td>\n",
       "      <td>sports_leisure</td>\n",
       "    </tr>\n",
       "    <tr>\n",
       "      <th>1</th>\n",
       "      <td>3442f8959a84dea7ee197c632cb2df15</td>\n",
       "      <td>13023</td>\n",
       "      <td>campinas</td>\n",
       "      <td>SP</td>\n",
       "      <td>6d953888a914b67350d5bc4d48f2acab</td>\n",
       "      <td>1</td>\n",
       "      <td>f4621f8ad6f54a2e3c408884068be46d</td>\n",
       "      <td>2017-05-11 16:25:11</td>\n",
       "      <td>101.70</td>\n",
       "      <td>15.92</td>\n",
       "      <td>a973c4e3ad82777add3fa188f91dacea</td>\n",
       "      <td>delivered</td>\n",
       "      <td>2017-05-05 16:12:29</td>\n",
       "      <td>2017-05-05 16:25:11</td>\n",
       "      <td>2017-05-12 05:43:55</td>\n",
       "      <td>2017-06-02 16:57:44</td>\n",
       "      <td>2017-05-30 00:00:00</td>\n",
       "      <td>esporte_lazer</td>\n",
       "      <td>27.0</td>\n",
       "      <td>485.0</td>\n",
       "      <td>2.0</td>\n",
       "      <td>600.0</td>\n",
       "      <td>35.0</td>\n",
       "      <td>15.0</td>\n",
       "      <td>28.0</td>\n",
       "      <td>sports_leisure</td>\n",
       "    </tr>\n",
       "    <tr>\n",
       "      <th>2</th>\n",
       "      <td>3442f8959a84dea7ee197c632cb2df15</td>\n",
       "      <td>13023</td>\n",
       "      <td>campinas</td>\n",
       "      <td>SP</td>\n",
       "      <td>bc8a5de6abf5b14f98a6135a7fb46731</td>\n",
       "      <td>2</td>\n",
       "      <td>325a06bcce0da45b7f4ecf2797dd40e4</td>\n",
       "      <td>2017-09-05 12:50:19</td>\n",
       "      <td>10.80</td>\n",
       "      <td>2.42</td>\n",
       "      <td>1554ffe702931a062b4383b109accf63</td>\n",
       "      <td>delivered</td>\n",
       "      <td>2017-08-30 11:47:52</td>\n",
       "      <td>2017-08-30 12:50:19</td>\n",
       "      <td>2017-08-30 19:22:18</td>\n",
       "      <td>2017-09-01 16:51:26</td>\n",
       "      <td>2017-09-20 00:00:00</td>\n",
       "      <td>esporte_lazer</td>\n",
       "      <td>44.0</td>\n",
       "      <td>1089.0</td>\n",
       "      <td>1.0</td>\n",
       "      <td>300.0</td>\n",
       "      <td>16.0</td>\n",
       "      <td>5.0</td>\n",
       "      <td>15.0</td>\n",
       "      <td>sports_leisure</td>\n",
       "    </tr>\n",
       "    <tr>\n",
       "      <th>3</th>\n",
       "      <td>d1b65fc7debc3361ea86b5f14c68d2e2</td>\n",
       "      <td>13844</td>\n",
       "      <td>mogi guacu</td>\n",
       "      <td>SP</td>\n",
       "      <td>035201c3c82a97f8a25dd6bd5244b2d5</td>\n",
       "      <td>1</td>\n",
       "      <td>1c36a5285f7f3b1ed2637d7c528ce5ff</td>\n",
       "      <td>2017-11-22 04:30:29</td>\n",
       "      <td>89.99</td>\n",
       "      <td>45.09</td>\n",
       "      <td>9facbfd2dd51a45404d58154b12ed2dd</td>\n",
       "      <td>delivered</td>\n",
       "      <td>2017-11-10 16:54:13</td>\n",
       "      <td>2017-11-14 04:31:07</td>\n",
       "      <td>2017-11-14 20:06:59</td>\n",
       "      <td>2017-11-21 23:26:35</td>\n",
       "      <td>2017-12-04 00:00:00</td>\n",
       "      <td>malas_acessorios</td>\n",
       "      <td>21.0</td>\n",
       "      <td>769.0</td>\n",
       "      <td>4.0</td>\n",
       "      <td>1600.0</td>\n",
       "      <td>55.0</td>\n",
       "      <td>37.0</td>\n",
       "      <td>30.0</td>\n",
       "      <td>luggage_accessories</td>\n",
       "    </tr>\n",
       "    <tr>\n",
       "      <th>4</th>\n",
       "      <td>d1b65fc7debc3361ea86b5f14c68d2e2</td>\n",
       "      <td>13844</td>\n",
       "      <td>mogi guacu</td>\n",
       "      <td>SP</td>\n",
       "      <td>0504447548229e075dea8441b37b1e2a</td>\n",
       "      <td>1</td>\n",
       "      <td>8852eb03b04ec3268a66e9b696e25f6f</td>\n",
       "      <td>2017-10-06 02:14:42</td>\n",
       "      <td>199.90</td>\n",
       "      <td>21.89</td>\n",
       "      <td>4e2c1f15de98416a90c2ee06b55ccc9b</td>\n",
       "      <td>delivered</td>\n",
       "      <td>2017-09-28 19:31:57</td>\n",
       "      <td>2017-09-30 02:14:42</td>\n",
       "      <td>2017-10-02 19:33:19</td>\n",
       "      <td>2017-10-06 17:03:59</td>\n",
       "      <td>2017-11-03 00:00:00</td>\n",
       "      <td>papelaria</td>\n",
       "      <td>30.0</td>\n",
       "      <td>832.0</td>\n",
       "      <td>5.0</td>\n",
       "      <td>2000.0</td>\n",
       "      <td>25.0</td>\n",
       "      <td>55.0</td>\n",
       "      <td>40.0</td>\n",
       "      <td>stationery</td>\n",
       "    </tr>\n",
       "  </tbody>\n",
       "</table>\n",
       "</div>"
      ],
      "text/plain": [
       "                          seller_id  seller_zip_code_prefix seller_city  \\\n",
       "0  3442f8959a84dea7ee197c632cb2df15                   13023    campinas   \n",
       "1  3442f8959a84dea7ee197c632cb2df15                   13023    campinas   \n",
       "2  3442f8959a84dea7ee197c632cb2df15                   13023    campinas   \n",
       "3  d1b65fc7debc3361ea86b5f14c68d2e2                   13844  mogi guacu   \n",
       "4  d1b65fc7debc3361ea86b5f14c68d2e2                   13844  mogi guacu   \n",
       "\n",
       "  seller_state                          order_id  order_item_id  \\\n",
       "0           SP  4a90af3e85dd563884e2afeab1091394              1   \n",
       "1           SP  6d953888a914b67350d5bc4d48f2acab              1   \n",
       "2           SP  bc8a5de6abf5b14f98a6135a7fb46731              2   \n",
       "3           SP  035201c3c82a97f8a25dd6bd5244b2d5              1   \n",
       "4           SP  0504447548229e075dea8441b37b1e2a              1   \n",
       "\n",
       "                         product_id  shipping_limit_date   price  \\\n",
       "0  ffb64e34a37740dafb6c88f1abd1fa61  2017-08-25 20:50:19  106.20   \n",
       "1  f4621f8ad6f54a2e3c408884068be46d  2017-05-11 16:25:11  101.70   \n",
       "2  325a06bcce0da45b7f4ecf2797dd40e4  2017-09-05 12:50:19   10.80   \n",
       "3  1c36a5285f7f3b1ed2637d7c528ce5ff  2017-11-22 04:30:29   89.99   \n",
       "4  8852eb03b04ec3268a66e9b696e25f6f  2017-10-06 02:14:42  199.90   \n",
       "\n",
       "   freight_value                       customer_id order_status  \\\n",
       "0           9.56  9d6837f9700a3441e7183bff3bc4eef0    delivered   \n",
       "1          15.92  a973c4e3ad82777add3fa188f91dacea    delivered   \n",
       "2           2.42  1554ffe702931a062b4383b109accf63    delivered   \n",
       "3          45.09  9facbfd2dd51a45404d58154b12ed2dd    delivered   \n",
       "4          21.89  4e2c1f15de98416a90c2ee06b55ccc9b    delivered   \n",
       "\n",
       "  order_purchase_timestamp    order_approved_at order_delivered_carrier_date  \\\n",
       "0      2017-08-21 20:35:44  2017-08-21 20:50:19          2017-08-29 20:33:29   \n",
       "1      2017-05-05 16:12:29  2017-05-05 16:25:11          2017-05-12 05:43:55   \n",
       "2      2017-08-30 11:47:52  2017-08-30 12:50:19          2017-08-30 19:22:18   \n",
       "3      2017-11-10 16:54:13  2017-11-14 04:31:07          2017-11-14 20:06:59   \n",
       "4      2017-09-28 19:31:57  2017-09-30 02:14:42          2017-10-02 19:33:19   \n",
       "\n",
       "  order_delivered_customer_date order_estimated_delivery_date  \\\n",
       "0           2017-08-30 16:07:13           2017-09-01 00:00:00   \n",
       "1           2017-06-02 16:57:44           2017-05-30 00:00:00   \n",
       "2           2017-09-01 16:51:26           2017-09-20 00:00:00   \n",
       "3           2017-11-21 23:26:35           2017-12-04 00:00:00   \n",
       "4           2017-10-06 17:03:59           2017-11-03 00:00:00   \n",
       "\n",
       "  product_category_name  product_name_lenght  product_description_lenght  \\\n",
       "0         esporte_lazer                 26.0                       417.0   \n",
       "1         esporte_lazer                 27.0                       485.0   \n",
       "2         esporte_lazer                 44.0                      1089.0   \n",
       "3      malas_acessorios                 21.0                       769.0   \n",
       "4             papelaria                 30.0                       832.0   \n",
       "\n",
       "   product_photos_qty  product_weight_g  product_length_cm  product_height_cm  \\\n",
       "0                 3.0             700.0               43.0               15.0   \n",
       "1                 2.0             600.0               35.0               15.0   \n",
       "2                 1.0             300.0               16.0                5.0   \n",
       "3                 4.0            1600.0               55.0               37.0   \n",
       "4                 5.0            2000.0               25.0               55.0   \n",
       "\n",
       "   product_width_cm product_category_name_english  \n",
       "0              35.0                sports_leisure  \n",
       "1              28.0                sports_leisure  \n",
       "2              15.0                sports_leisure  \n",
       "3              30.0           luggage_accessories  \n",
       "4              40.0                    stationery  "
      ]
     },
     "execution_count": 8,
     "metadata": {},
     "output_type": "execute_result"
    }
   ],
   "source": [
    "full_data.head()"
   ]
  },
  {
   "cell_type": "code",
   "execution_count": 9,
   "id": "df81e8cf",
   "metadata": {},
   "outputs": [
    {
     "data": {
      "text/plain": [
       "Index(['seller_id', 'seller_zip_code_prefix', 'seller_city', 'seller_state',\n",
       "       'order_id', 'order_item_id', 'product_id', 'shipping_limit_date',\n",
       "       'price', 'freight_value', 'customer_id', 'order_status',\n",
       "       'order_purchase_timestamp', 'order_approved_at',\n",
       "       'order_delivered_carrier_date', 'order_delivered_customer_date',\n",
       "       'order_estimated_delivery_date', 'product_category_name',\n",
       "       'product_name_lenght', 'product_description_lenght',\n",
       "       'product_photos_qty', 'product_weight_g', 'product_length_cm',\n",
       "       'product_height_cm', 'product_width_cm',\n",
       "       'product_category_name_english'],\n",
       "      dtype='object')"
      ]
     },
     "execution_count": 9,
     "metadata": {},
     "output_type": "execute_result"
    }
   ],
   "source": [
    "full_data.columns"
   ]
  },
  {
   "cell_type": "code",
   "execution_count": 10,
   "id": "39c2de3d",
   "metadata": {},
   "outputs": [],
   "source": [
    "# Фильтр ненужных колонок\n",
    "non_value_columns = ['product_name_lenght',\n",
    "                        'product_description_lenght',\n",
    "                        'product_photos_qty', \n",
    "                        'product_weight_g', \n",
    "                        'product_length_cm',\n",
    "                        'product_height_cm', \n",
    "                        'product_width_cm',\n",
    "                        'seller_zip_code_prefix',\n",
    "                        'customer_id',\n",
    "                        ]\n",
    "full_data = full_data.drop(non_value_columns, axis=1)"
   ]
  },
  {
   "cell_type": "code",
   "execution_count": 11,
   "id": "aa218e39",
   "metadata": {},
   "outputs": [
    {
     "data": {
      "text/html": [
       "<div>\n",
       "<style scoped>\n",
       "    .dataframe tbody tr th:only-of-type {\n",
       "        vertical-align: middle;\n",
       "    }\n",
       "\n",
       "    .dataframe tbody tr th {\n",
       "        vertical-align: top;\n",
       "    }\n",
       "\n",
       "    .dataframe thead th {\n",
       "        text-align: right;\n",
       "    }\n",
       "</style>\n",
       "<table border=\"1\" class=\"dataframe\">\n",
       "  <thead>\n",
       "    <tr style=\"text-align: right;\">\n",
       "      <th></th>\n",
       "      <th>order_item_id</th>\n",
       "      <th>price</th>\n",
       "      <th>freight_value</th>\n",
       "    </tr>\n",
       "  </thead>\n",
       "  <tbody>\n",
       "    <tr>\n",
       "      <th>count</th>\n",
       "      <td>112650.00</td>\n",
       "      <td>112650.00</td>\n",
       "      <td>112650.00</td>\n",
       "    </tr>\n",
       "    <tr>\n",
       "      <th>mean</th>\n",
       "      <td>1.20</td>\n",
       "      <td>120.65</td>\n",
       "      <td>19.99</td>\n",
       "    </tr>\n",
       "    <tr>\n",
       "      <th>std</th>\n",
       "      <td>0.71</td>\n",
       "      <td>183.63</td>\n",
       "      <td>15.81</td>\n",
       "    </tr>\n",
       "    <tr>\n",
       "      <th>min</th>\n",
       "      <td>1.00</td>\n",
       "      <td>0.85</td>\n",
       "      <td>0.00</td>\n",
       "    </tr>\n",
       "    <tr>\n",
       "      <th>25%</th>\n",
       "      <td>1.00</td>\n",
       "      <td>39.90</td>\n",
       "      <td>13.08</td>\n",
       "    </tr>\n",
       "    <tr>\n",
       "      <th>50%</th>\n",
       "      <td>1.00</td>\n",
       "      <td>74.99</td>\n",
       "      <td>16.26</td>\n",
       "    </tr>\n",
       "    <tr>\n",
       "      <th>75%</th>\n",
       "      <td>1.00</td>\n",
       "      <td>134.90</td>\n",
       "      <td>21.15</td>\n",
       "    </tr>\n",
       "    <tr>\n",
       "      <th>max</th>\n",
       "      <td>21.00</td>\n",
       "      <td>6735.00</td>\n",
       "      <td>409.68</td>\n",
       "    </tr>\n",
       "  </tbody>\n",
       "</table>\n",
       "</div>"
      ],
      "text/plain": [
       "       order_item_id      price  freight_value\n",
       "count      112650.00  112650.00      112650.00\n",
       "mean            1.20     120.65          19.99\n",
       "std             0.71     183.63          15.81\n",
       "min             1.00       0.85           0.00\n",
       "25%             1.00      39.90          13.08\n",
       "50%             1.00      74.99          16.26\n",
       "75%             1.00     134.90          21.15\n",
       "max            21.00    6735.00         409.68"
      ]
     },
     "execution_count": 11,
     "metadata": {},
     "output_type": "execute_result"
    }
   ],
   "source": [
    "full_data.describe().round(2)"
   ]
  },
  {
   "cell_type": "code",
   "execution_count": 12,
   "id": "7c42c859",
   "metadata": {},
   "outputs": [
    {
     "data": {
      "text/plain": [
       "Index(['seller_id', 'seller_city', 'seller_state', 'order_id', 'order_item_id',\n",
       "       'product_id', 'shipping_limit_date', 'price', 'freight_value',\n",
       "       'order_status', 'order_purchase_timestamp', 'order_approved_at',\n",
       "       'order_delivered_carrier_date', 'order_delivered_customer_date',\n",
       "       'order_estimated_delivery_date', 'product_category_name',\n",
       "       'product_category_name_english'],\n",
       "      dtype='object')"
      ]
     },
     "execution_count": 12,
     "metadata": {},
     "output_type": "execute_result"
    }
   ],
   "source": [
    "full_data.columns"
   ]
  },
  {
   "cell_type": "code",
   "execution_count": 13,
   "id": "c8dbd654",
   "metadata": {},
   "outputs": [
    {
     "data": {
      "text/html": [
       "<div>\n",
       "<style scoped>\n",
       "    .dataframe tbody tr th:only-of-type {\n",
       "        vertical-align: middle;\n",
       "    }\n",
       "\n",
       "    .dataframe tbody tr th {\n",
       "        vertical-align: top;\n",
       "    }\n",
       "\n",
       "    .dataframe thead th {\n",
       "        text-align: right;\n",
       "    }\n",
       "</style>\n",
       "<table border=\"1\" class=\"dataframe\">\n",
       "  <thead>\n",
       "    <tr style=\"text-align: right;\">\n",
       "      <th></th>\n",
       "      <th>seller_id</th>\n",
       "      <th>seller_city</th>\n",
       "      <th>seller_state</th>\n",
       "      <th>order_id</th>\n",
       "      <th>order_item_id</th>\n",
       "      <th>product_id</th>\n",
       "      <th>shipping_limit_date</th>\n",
       "      <th>price</th>\n",
       "      <th>freight_value</th>\n",
       "      <th>order_status</th>\n",
       "      <th>order_purchase_timestamp</th>\n",
       "      <th>order_approved_at</th>\n",
       "      <th>order_delivered_carrier_date</th>\n",
       "      <th>order_delivered_customer_date</th>\n",
       "      <th>order_estimated_delivery_date</th>\n",
       "      <th>product_category_name</th>\n",
       "      <th>product_category_name_english</th>\n",
       "    </tr>\n",
       "  </thead>\n",
       "  <tbody>\n",
       "    <tr>\n",
       "      <th>2</th>\n",
       "      <td>3442f8959a84dea7ee197c632cb2df15</td>\n",
       "      <td>campinas</td>\n",
       "      <td>SP</td>\n",
       "      <td>bc8a5de6abf5b14f98a6135a7fb46731</td>\n",
       "      <td>2</td>\n",
       "      <td>325a06bcce0da45b7f4ecf2797dd40e4</td>\n",
       "      <td>2017-09-05 12:50:19</td>\n",
       "      <td>10.8</td>\n",
       "      <td>2.42</td>\n",
       "      <td>delivered</td>\n",
       "      <td>2017-08-30 11:47:52</td>\n",
       "      <td>2017-08-30 12:50:19</td>\n",
       "      <td>2017-08-30 19:22:18</td>\n",
       "      <td>2017-09-01 16:51:26</td>\n",
       "      <td>2017-09-20 00:00:00</td>\n",
       "      <td>esporte_lazer</td>\n",
       "      <td>sports_leisure</td>\n",
       "    </tr>\n",
       "    <tr>\n",
       "      <th>88524</th>\n",
       "      <td>8c16d1f32a54d92897cc437244442e1b</td>\n",
       "      <td>blumenau</td>\n",
       "      <td>SC</td>\n",
       "      <td>bc8a5de6abf5b14f98a6135a7fb46731</td>\n",
       "      <td>1</td>\n",
       "      <td>1b37d55343061aa2b18b807945ff9831</td>\n",
       "      <td>2017-09-05 12:50:19</td>\n",
       "      <td>118.9</td>\n",
       "      <td>26.68</td>\n",
       "      <td>delivered</td>\n",
       "      <td>2017-08-30 11:47:52</td>\n",
       "      <td>2017-08-30 12:50:19</td>\n",
       "      <td>2017-08-30 19:22:18</td>\n",
       "      <td>2017-09-01 16:51:26</td>\n",
       "      <td>2017-09-20 00:00:00</td>\n",
       "      <td>moveis_escritorio</td>\n",
       "      <td>office_furniture</td>\n",
       "    </tr>\n",
       "  </tbody>\n",
       "</table>\n",
       "</div>"
      ],
      "text/plain": [
       "                              seller_id seller_city seller_state  \\\n",
       "2      3442f8959a84dea7ee197c632cb2df15    campinas           SP   \n",
       "88524  8c16d1f32a54d92897cc437244442e1b    blumenau           SC   \n",
       "\n",
       "                               order_id  order_item_id  \\\n",
       "2      bc8a5de6abf5b14f98a6135a7fb46731              2   \n",
       "88524  bc8a5de6abf5b14f98a6135a7fb46731              1   \n",
       "\n",
       "                             product_id  shipping_limit_date  price  \\\n",
       "2      325a06bcce0da45b7f4ecf2797dd40e4  2017-09-05 12:50:19   10.8   \n",
       "88524  1b37d55343061aa2b18b807945ff9831  2017-09-05 12:50:19  118.9   \n",
       "\n",
       "       freight_value order_status order_purchase_timestamp  \\\n",
       "2               2.42    delivered      2017-08-30 11:47:52   \n",
       "88524          26.68    delivered      2017-08-30 11:47:52   \n",
       "\n",
       "         order_approved_at order_delivered_carrier_date  \\\n",
       "2      2017-08-30 12:50:19          2017-08-30 19:22:18   \n",
       "88524  2017-08-30 12:50:19          2017-08-30 19:22:18   \n",
       "\n",
       "      order_delivered_customer_date order_estimated_delivery_date  \\\n",
       "2               2017-09-01 16:51:26           2017-09-20 00:00:00   \n",
       "88524           2017-09-01 16:51:26           2017-09-20 00:00:00   \n",
       "\n",
       "      product_category_name product_category_name_english  \n",
       "2             esporte_lazer                sports_leisure  \n",
       "88524     moveis_escritorio              office_furniture  "
      ]
     },
     "execution_count": 13,
     "metadata": {},
     "output_type": "execute_result"
    }
   ],
   "source": [
    "# В одном заказе могут быть несколько продуктов. Просмотр одного из таких заказов\n",
    "# Видно, что в 1 заказе с несколькоми товарами продавцы могут быть разные\n",
    "full_data[full_data['order_id'] == 'bc8a5de6abf5b14f98a6135a7fb46731']"
   ]
  },
  {
   "cell_type": "code",
   "execution_count": 14,
   "id": "5a611c98",
   "metadata": {},
   "outputs": [],
   "source": [
    "# rearrange all the columns for easy reference\n",
    "df_sellers_analize = full_data[['seller_id', \n",
    "                                'seller_city', \n",
    "                                'seller_state', \n",
    "                                'product_category_name_english',\n",
    "                                'price', 'order_status', \n",
    "                                'freight_value', \n",
    "                                'order_delivered_customer_date', \n",
    "                                'order_id',\n",
    "                                'order_item_id',\n",
    "                                'product_id', 'order_purchase_timestamp']]"
   ]
  },
  {
   "cell_type": "code",
   "execution_count": 15,
   "id": "122cd18b",
   "metadata": {},
   "outputs": [
    {
     "name": "stdout",
     "output_type": "stream",
     "text": [
      "<class 'pandas.core.frame.DataFrame'>\n",
      "Int64Index: 112650 entries, 0 to 112649\n",
      "Data columns (total 12 columns):\n",
      " #   Column                         Non-Null Count   Dtype  \n",
      "---  ------                         --------------   -----  \n",
      " 0   seller_id                      112650 non-null  object \n",
      " 1   seller_city                    112650 non-null  object \n",
      " 2   seller_state                   112650 non-null  object \n",
      " 3   product_category_name_english  111023 non-null  object \n",
      " 4   price                          112650 non-null  float64\n",
      " 5   order_status                   112650 non-null  object \n",
      " 6   freight_value                  112650 non-null  float64\n",
      " 7   order_delivered_customer_date  110196 non-null  object \n",
      " 8   order_id                       112650 non-null  object \n",
      " 9   order_item_id                  112650 non-null  int64  \n",
      " 10  product_id                     112650 non-null  object \n",
      " 11  order_purchase_timestamp       112650 non-null  object \n",
      "dtypes: float64(2), int64(1), object(9)\n",
      "memory usage: 11.2+ MB\n"
     ]
    }
   ],
   "source": [
    "df_sellers_analize.info()"
   ]
  },
  {
   "cell_type": "code",
   "execution_count": 16,
   "id": "4fd70b81",
   "metadata": {},
   "outputs": [
    {
     "data": {
      "text/plain": [
       "array(['campinas', 'mogi guacu', 'rio de janeiro', 'sao paulo',\n",
       "       'braganca paulista', 'brejao', 'penapolis', 'curitiba', 'anapolis',\n",
       "       'itirapina', 'tubarao', 'lauro de freitas', 'imbituba', 'brasilia',\n",
       "       'porto seguro', 'guaruja', 'tabatinga', 'salto', 'tres de maio',\n",
       "       'belo horizonte', 'arapongas', 'sao bernardo do campo', 'tatui',\n",
       "       'garopaba', 'camanducaia', 'tupa', 'guarulhos',\n",
       "       'sao jose dos pinhais', 'sao ludgero', 'sao jose', 'piracicaba',\n",
       "       'porto alegre', 'congonhal', 'santo andre', 'osasco', 'valinhos',\n",
       "       'joinville', 'saquarema', 'barra velha', 'petropolis',\n",
       "       'santo antonio da patrulha', 'ponta grossa', 'santana de parnaiba',\n",
       "       'sao carlos', 'ibitinga', 'barueri', 'caxias do sul', 'araguari',\n",
       "       'contagem', 'jaragua do sul', 'lages - sc', 'bento goncalves',\n",
       "       'catanduva', 'ribeirao pires', 'jaboticabal', 'echapora', 'cotia',\n",
       "       'rio do sul', 'sorocaba', 'pradopolis', 'itaborai', 'mirassol',\n",
       "       'birigui', 'assis', 'jaguariuna', 'araraquara', 'macae',\n",
       "       'rio claro', 'londrina', 'ribeirao preto', 'tres coracoes',\n",
       "       'nhandeara', 'orleans', 'cuiaba', 'formosa do oeste', 'santos',\n",
       "       'santa terezinha de goias', 'arvorezinha', 'guiricema', 'caruaru',\n",
       "       'franca', 'salvador', 'diadema', 'itaquaquecetuba',\n",
       "       'lencois paulista', 'carapicuiba', 'uruacu', 'itajai', 'loanda',\n",
       "       'maringa', 'ferraz de vasconcelos', 'limeira', 'claudio',\n",
       "       'niteroi', 'osvaldo cruz', 'sao goncalo', 'jaciara',\n",
       "       'balenario camboriu', 'timbo', 'jacutinga', 'fortaleza',\n",
       "       'ferraz de  vasconcelos', 'mirandopolis', 'bauru', 'jacarei',\n",
       "       'itu', 'laranjeiras do sul', 'videira', 'florianopolis',\n",
       "       'itapecerica da serra', 'mamanguape', 'ponte nova', 'goioere',\n",
       "       'pederneiras', 'itapevi', 'goiania', 'campina grande',\n",
       "       'estancia velha', 'resende', 'maua', 'caratinga', 'auriflama/sp',\n",
       "       'cafelandia', 'uba', 'sao paulo / sao paulo',\n",
       "       'sao jose do rio preto', 'porto ferreira', 'tres coroas',\n",
       "       'blumenau', 'mogi das cruzes', 'jaci', 'laranjal paulista',\n",
       "       'americana', 'sertanopolis', 'apucarana', 'colombo',\n",
       "       'vicente de carvalho', 'mesquita', 'sao pauo', 'cascavel',\n",
       "       'fazenda rio grande', 'taboao da serra', 'sao jose dos campos',\n",
       "       'toledo', 'marechal candido rondon', 'jundiai', 'mandirituba',\n",
       "       'suzano', 'vespasiano', 'santa rosa', 'sao joaquim da barra',\n",
       "       'santo antonio de posse', 'uruguaiana', 'campanha', 'piracanjuba',\n",
       "       'concordia', 'santa rita do sapucai', 'barretos', 'indaiatuba',\n",
       "       'nilopolis', 'pompeia', 'barro alto', 'são paulo', 'praia grande',\n",
       "       'luiz alves', 'brusque', 'criciuma', 'jales', 'atibaia',\n",
       "       'rio branco', 'barra mansa', 'marilia', 'bahia', 'taubate',\n",
       "       'cascavael', 'monteiro lobato', 'viana', 'paraiba do sul',\n",
       "       'mococa', 'sao roque', 'passos', 'francisco beltrao', 'tocantins',\n",
       "       'porto belo', 'nova iguacu', 'icara', 'lajeado', 'horizontina',\n",
       "       'votorantim', 'campo bom', 'monte alto', 'fernandopolis',\n",
       "       'pedreira', 'poa', 'divinopolis', 'santa barbara d´oeste',\n",
       "       'canoas', 'mombuca', 'sete lagoas', 'campo do meio',\n",
       "       'cordeiropolis', 'uberlandia', 'santa barbara d oeste',\n",
       "       'volta redonda', '04482255', 'aracatuba', 'monte siao', 'garuva',\n",
       "       'bonfinopolis de minas', 'cosmopolis', 'pocos de caldas',\n",
       "       'artur nogueira', 'joao pessoa', 'dois corregos', 'araquari',\n",
       "       'novo hamburgo, rio grande do sul, brasil', 'floranopolis',\n",
       "       'sumare', 'guaira', 'cachoeiro de itapemirim', 'serrana',\n",
       "       'rolandia', 'congonhas', 'sao  jose dos pinhais', 'boituva',\n",
       "       'mairipora', 'guaimbe', 'parai', 'aperibe', 'jaguaruna',\n",
       "       'vila velha', 'juiz de fora', 'fronteira', 'novo horizonte',\n",
       "       'pilar do sul', 'itajobi', 'cariacica / es', 'prados', 'mucambo',\n",
       "       'montes claros', 'vicosa', 'porto velho', 'sao jose do rio pardo',\n",
       "       'pato branco', 'sao joao del rei', 'presidente prudente',\n",
       "       'paracambi', 'serra negra', 'sao caetano do sul', 'bom jardim',\n",
       "       'serra redonda', 'sao francisco do sul', 'betim', 'imbituva',\n",
       "       'guaratuba', 'teresina', \"sao miguel d'oeste\", 'california',\n",
       "       'japira', 'foz do iguacu', 'nova friburgo', 'itau de minas',\n",
       "       'oliveira', 'sabara', 'pedrinhas paulista', 'votuporanga',\n",
       "       'holambra', 'ararangua', 'pinhais', 'pato bragado', 'carazinho',\n",
       "       'arinos', 'sao pedro', 'lages', 'ampere', 'itauna', 'mogi mirim',\n",
       "       'curitibanos', 'brasilia df', 'mogi das cruses', 'hortolandia',\n",
       "       'ipatinga', 'laguna', 'dores de campos', 'sao paulo - sp',\n",
       "       'araras', 'divisa nova', 'igaracu do tiete', 'pitangueiras',\n",
       "       'campo grande', 'garca', 'presidente epitacio', 'sbc/sp',\n",
       "       \"arraial d'ajuda (porto seguro)\", 'pacatuba', 'formosa',\n",
       "       'borda da mata', 'ubatuba', 'entre rios do oeste', 'formiga',\n",
       "       'venancio aires', 'navegantes', 'cruzeiro', 'santa maria',\n",
       "       'muriae', 'santo andre/sao paulo', 'ipe', 'messias targino',\n",
       "       'varginha', 'botucatu', 'domingos martins', 'uberaba',\n",
       "       'coronel fabriciano', 'cachoeirinha', 's jose do rio preto',\n",
       "       'taruma', 'pirassununga', 'aruja', 'sp / sp', 'angra dos reis',\n",
       "       'juzeiro do norte', 'laurentino', 'flores da cunha', 'montenegro',\n",
       "       'pedregulho', 'novo hamburgo', 'torres', 'aracaju',\n",
       "       'santa catarina', 'joao pinheiro', 'bady bassitt', 'sinop',\n",
       "       'guarapuava', 'araucaria', 'vitoria', 'batatais', 'lagoa santa',\n",
       "       'chapeco', 'umuarama', 'belford roxo', 'cariacica',\n",
       "       'monte alegre do sul', 'sp', 'lagoa da prata', 'rolante',\n",
       "       'teresopolis', 'itaporanga', 'campo largo', 'sao joao de meriti',\n",
       "       'maua/sao paulo', 'bom jesus dos perdoes', 'brotas', 'irece',\n",
       "       'coxim', 'jau', 'conselheiro lafaiete', 'amparo',\n",
       "       'sao miguel do oeste', 'gaspar', 'rio bonito', 'mandaguari',\n",
       "       'vargem grande paulista', 'conchal', 'cambe', 'marialva',\n",
       "       'alfenas', 'balneario camboriu', 'palhoca', 'sao bernardo do capo',\n",
       "       'guara', 'colatina', 'franco da rocha', 'lambari',\n",
       "       'mogi das cruzes / sp', 'treze tilias',\n",
       "       'rio de janeiro \\\\rio de janeiro', 'paulo lopes', 'santa cecilia',\n",
       "       'braco do norte', 'floresta', 'farroupilha', 'castro', 'luziania',\n",
       "       'joao monlevade', 'pelotas', 'sao bento', 'campos dos goytacazes',\n",
       "       'ouro fino', 'sao jose dos pinhas', 'tiete', 'viamao', 'janauba',\n",
       "       'capivari', 'santa terezinha de itaipu', 'igrejinha',\n",
       "       'sao bento do sul', 'duque de caxias', 'araxa', 'canoinhas',\n",
       "       'recife', 'barbacena/ minas gerais', 'vera cruz', 'parnamirim',\n",
       "       'santo angelo', 'paincandu', 'tres rios', 'tanabi',\n",
       "       'portoferreira', 'itatiba', 'sarandi', 'cravinhos', 'morrinhos',\n",
       "       'bebedouro', 'almirante tamandare', 'bertioga', 'natal',\n",
       "       'belo horizont', 'ivoti', 'andira-pr', 'cerqueira cesar',\n",
       "       'marapoama', 'imigrante', 'mairinque', 'sao paulo sp',\n",
       "       'rio de janeiro / rio de janeiro', 'andradas', 'sando andre',\n",
       "       'nova odessa', 'paulinia', 'extrema', 'olimpia',\n",
       "       'angra dos reis rj', 'ronda alta', 'sao  paulo', 'sao vicente',\n",
       "       'pinhais/pr', 'portao', 'registro', 'ao bernardo do campo',\n",
       "       'carmo do cajuru', 'embu das artes', 'fernando prestes',\n",
       "       'castro pires', 'vargem grande do sul', 'campina das missoes',\n",
       "       'sao pedro da aldeia', 'miguelopolis', 'itapui', 'sbc', 'neopolis',\n",
       "       'mineiros do tiete', 'varzea paulista', 'nova lima', 'barbacena',\n",
       "       'caieiras', 'buritama', 'erechim', 'itapetininga', 'pinhalzinho',\n",
       "       'descalvado', 'pitanga', 'bage', 'taio', \"santa barbara d'oeste\",\n",
       "       'patos de minas', 'garulhos', 'jarinu', 'nova petropolis',\n",
       "       'ribeirao preto / sao paulo', 'camboriu', 'nova trento',\n",
       "       'sao luis', 'sao jose do rio pret', 'eusebio', 'itaipulandia',\n",
       "       'ipira', 'campo magro', 'tiradentes', 'sao paluo', 'baependi',\n",
       "       'embu guacu', 'paraiso do sul', 'aparecida', 'cataguases',\n",
       "       'bariri', 'abadia de goias', 'alambari', 'ji parana', 'vassouras',\n",
       "       'lorena', 'rodeio', 'louveira', 'guanhaes',\n",
       "       'santo antonio de padua', 'presidente getulio', 'campos novos',\n",
       "       'eunapolis', 'engenheiro coelho', 'rio das pedras',\n",
       "       'afonso claudio', 'carapicuiba / sao paulo', 'centro', 'parana',\n",
       "       'indaial', 'bombinhas', 'orlandia', 'itapeva', 'sao sebastiao',\n",
       "       'macatuba', 'sao joao da boa vista', 'teixeira soares',\n",
       "       'mandaguacu', 'rio do oeste', 'vendas@creditparts.com.br',\n",
       "       'armacao dos buzios', 'mateus leme', 'sao paulop',\n",
       "       'campo limpo paulista', 'socorro', 'serra', 'bocaiuva do sul',\n",
       "       'ilheus', 'imbe', 'soledade', 'cajamar', 'rio negrinho',\n",
       "       'clementina', 'francisco morato', 'rio grande', 'xaxim', 'manaus',\n",
       "       'terra boa', 'minas gerais', 'avare', 'ibirite',\n",
       "       'santa maria da serra', 'auriflama', 'condor', 'ibia', 'guanambi',\n",
       "       'caucaia', 'cordilheira alta', 'carmo da mata', 'ouro preto',\n",
       "       'pedro leopoldo', 'santa rosa de viterbo', 'xanxere',\n",
       "       'alvares machado', 'scao jose do rio pardo', 'ribeirao das neves',\n",
       "       'medianeira', 'massaranduba', 'cornelio procopio', 'pirituba',\n",
       "       'jambeiro', 'sao leopoldo', 'aguas claras df', 'ribeirao pretp',\n",
       "       'cianorte', 'feira de santana', 'cachoeira do sul', 'guariba',\n",
       "       'sao sebastiao da grama/sp', 'dracena', 'ourinhos',\n",
       "       'robeirao preto', 'cacador', 'gama', 'queimados', 'cananeia',\n",
       "       'presidente bernardes', 'pinhalao', 'sombrio', 'campo mourao',\n",
       "       'ilicinea', 'itabira', 'barrinha', 'jussara', 'uniao da vitoria',\n",
       "       'triunfo', 'santa cruz do sul', 'colorado', 'itapema', 'sapiranga',\n",
       "       'paranavai', 'alvorada', 'ipaussu', 'rio verde', 'mage',\n",
       "       'tabao da serra', 'bofete', 'picarras', 'marica', 'jaragua',\n",
       "       'governador valadares', 'rio de janeiro, rio de janeiro, brasil',\n",
       "       'pouso alegre', 'timoteo', 'muqui', 'ipua', 'jacarei / sao paulo',\n",
       "       'varzea alegre', 'guaratingueta', 'tambau', 'irati',\n",
       "       'riberao preto', 'aparecida de goiania', 'bandeirantes',\n",
       "       'vitoria de santo antao', 'palotina', 'leme'], dtype=object)"
      ]
     },
     "execution_count": 16,
     "metadata": {},
     "output_type": "execute_result"
    }
   ],
   "source": [
    "# Просмотр уникальных значений городов. Нужно чистить данные\n",
    "df_sellers_analize['seller_city'].unique()"
   ]
  },
  {
   "cell_type": "code",
   "execution_count": 17,
   "id": "3e2a2d00",
   "metadata": {},
   "outputs": [
    {
     "data": {
      "text/plain": [
       "array(['SP', 'RJ', 'PE', 'PR', 'GO', 'SC', 'BA', 'DF', 'RS', 'MG', 'RN',\n",
       "       'MT', 'CE', 'PB', 'AC', 'ES', 'RO', 'PI', 'MS', 'SE', 'MA', 'AM',\n",
       "       'PA'], dtype=object)"
      ]
     },
     "execution_count": 17,
     "metadata": {},
     "output_type": "execute_result"
    }
   ],
   "source": [
    "# Просмотр уникальных значений районов продавцов\n",
    "df_sellers_analize['seller_state'].unique()"
   ]
  },
  {
   "cell_type": "code",
   "execution_count": 18,
   "id": "b9835716",
   "metadata": {},
   "outputs": [
    {
     "data": {
      "text/plain": [
       "order_delivered_customer_date    2454\n",
       "product_category_name_english    1627\n",
       "seller_id                           0\n",
       "seller_city                         0\n",
       "seller_state                        0\n",
       "price                               0\n",
       "order_status                        0\n",
       "freight_value                       0\n",
       "order_id                            0\n",
       "order_item_id                       0\n",
       "product_id                          0\n",
       "order_purchase_timestamp            0\n",
       "dtype: int64"
      ]
     },
     "execution_count": 18,
     "metadata": {},
     "output_type": "execute_result"
    }
   ],
   "source": [
    "# check missing values for each column \n",
    "df_sellers_analize.isnull().sum().sort_values(ascending=False)"
   ]
  },
  {
   "cell_type": "markdown",
   "id": "683be9c3",
   "metadata": {},
   "source": [
    "### Cleaning data"
   ]
  },
  {
   "cell_type": "code",
   "execution_count": 19,
   "id": "5455b812",
   "metadata": {},
   "outputs": [
    {
     "name": "stderr",
     "output_type": "stream",
     "text": [
      "C:\\ProgramData\\Anaconda3\\envs\\py3.7\\lib\\site-packages\\ipykernel_launcher.py:2: SettingWithCopyWarning: \n",
      "A value is trying to be set on a copy of a slice from a DataFrame.\n",
      "Try using .loc[row_indexer,col_indexer] = value instead\n",
      "\n",
      "See the caveats in the documentation: https://pandas.pydata.org/pandas-docs/stable/user_guide/indexing.html#returning-a-view-versus-a-copy\n",
      "  \n"
     ]
    }
   ],
   "source": [
    "# clean seller_city from wrong characters\n",
    "df_sellers_analize['seller_city'] = df_sellers_analize['seller_city'].str.split(r'\\\\|,|/|\\(|\\-').str[0].str.strip()"
   ]
  },
  {
   "cell_type": "code",
   "execution_count": 20,
   "id": "20e1468f",
   "metadata": {},
   "outputs": [],
   "source": [
    "# collect only delivered, shipped and invoiced orders\n",
    "df_sellers_analize = df_sellers_analize[df_sellers_analize['order_status'].isin(['delivered', 'shipped', 'invoiced'])]"
   ]
  },
  {
   "cell_type": "code",
   "execution_count": 21,
   "id": "17e14bec",
   "metadata": {},
   "outputs": [],
   "source": [
    "# Очистка от дубиликатов строк и пустых значений \n",
    "df_sellers_analize = df_sellers_analize.drop_duplicates()\n",
    "df_sellers_analize = df_sellers_analize.dropna().reset_index(drop=True)"
   ]
  },
  {
   "cell_type": "code",
   "execution_count": 22,
   "id": "ebc51604",
   "metadata": {
    "scrolled": true
   },
   "outputs": [
    {
     "data": {
      "text/plain": [
       "(108630, 12)"
      ]
     },
     "execution_count": 22,
     "metadata": {},
     "output_type": "execute_result"
    }
   ],
   "source": [
    "df_sellers_analize.shape"
   ]
  },
  {
   "cell_type": "code",
   "execution_count": 23,
   "id": "caf87df5",
   "metadata": {},
   "outputs": [
    {
     "data": {
      "text/plain": [
       "Index(['seller_id', 'seller_city', 'seller_state',\n",
       "       'product_category_name_english', 'price', 'order_status',\n",
       "       'freight_value', 'order_delivered_customer_date', 'order_id',\n",
       "       'order_item_id', 'product_id', 'order_purchase_timestamp'],\n",
       "      dtype='object')"
      ]
     },
     "execution_count": 23,
     "metadata": {},
     "output_type": "execute_result"
    }
   ],
   "source": [
    "df_sellers_analize.columns"
   ]
  },
  {
   "cell_type": "code",
   "execution_count": 24,
   "id": "c350a172",
   "metadata": {},
   "outputs": [
    {
     "data": {
      "text/plain": [
       "seller_id                        0\n",
       "seller_city                      0\n",
       "seller_state                     0\n",
       "product_category_name_english    0\n",
       "price                            0\n",
       "order_status                     0\n",
       "freight_value                    0\n",
       "order_delivered_customer_date    0\n",
       "order_id                         0\n",
       "order_item_id                    0\n",
       "product_id                       0\n",
       "order_purchase_timestamp         0\n",
       "dtype: int64"
      ]
     },
     "execution_count": 24,
     "metadata": {},
     "output_type": "execute_result"
    }
   ],
   "source": [
    "# check missing values for each column \n",
    "df_sellers_analize.isnull().sum().sort_values(ascending=False)"
   ]
  },
  {
   "cell_type": "code",
   "execution_count": 25,
   "id": "a0aa90b4",
   "metadata": {},
   "outputs": [],
   "source": [
    "df_sellers_analize['timestamp'] = pd.to_datetime(df_sellers_analize['order_purchase_timestamp'])"
   ]
  },
  {
   "cell_type": "code",
   "execution_count": 26,
   "id": "d7bf1311",
   "metadata": {},
   "outputs": [
    {
     "data": {
      "text/plain": [
       "(Timestamp('2018-08-29 15:00:37'), Timestamp('2016-09-15 12:16:38'))"
      ]
     },
     "execution_count": 26,
     "metadata": {},
     "output_type": "execute_result"
    }
   ],
   "source": [
    "df_sellers_analize['timestamp'].max(), df_sellers_analize['timestamp'].min()"
   ]
  },
  {
   "cell_type": "code",
   "execution_count": 27,
   "id": "7048a68c",
   "metadata": {},
   "outputs": [
    {
     "data": {
      "text/html": [
       "<div>\n",
       "<style scoped>\n",
       "    .dataframe tbody tr th:only-of-type {\n",
       "        vertical-align: middle;\n",
       "    }\n",
       "\n",
       "    .dataframe tbody tr th {\n",
       "        vertical-align: top;\n",
       "    }\n",
       "\n",
       "    .dataframe thead th {\n",
       "        text-align: right;\n",
       "    }\n",
       "</style>\n",
       "<table border=\"1\" class=\"dataframe\">\n",
       "  <thead>\n",
       "    <tr style=\"text-align: right;\">\n",
       "      <th></th>\n",
       "      <th>seller_id</th>\n",
       "      <th>seller_city</th>\n",
       "      <th>year_month</th>\n",
       "      <th>month</th>\n",
       "      <th>day</th>\n",
       "      <th>hour</th>\n",
       "      <th>seller_state</th>\n",
       "      <th>product_category_name_english</th>\n",
       "      <th>price</th>\n",
       "      <th>order_status</th>\n",
       "      <th>freight_value</th>\n",
       "      <th>order_delivered_customer_date</th>\n",
       "      <th>order_id</th>\n",
       "      <th>order_item_id</th>\n",
       "      <th>product_id</th>\n",
       "      <th>order_purchase_timestamp</th>\n",
       "      <th>timestamp</th>\n",
       "    </tr>\n",
       "  </thead>\n",
       "  <tbody>\n",
       "    <tr>\n",
       "      <th>0</th>\n",
       "      <td>3442f8959a84dea7ee197c632cb2df15</td>\n",
       "      <td>campinas</td>\n",
       "      <td>201708</td>\n",
       "      <td>8</td>\n",
       "      <td>1</td>\n",
       "      <td>20</td>\n",
       "      <td>SP</td>\n",
       "      <td>sports_leisure</td>\n",
       "      <td>106.20</td>\n",
       "      <td>delivered</td>\n",
       "      <td>9.56</td>\n",
       "      <td>2017-08-30 16:07:13</td>\n",
       "      <td>4a90af3e85dd563884e2afeab1091394</td>\n",
       "      <td>1</td>\n",
       "      <td>ffb64e34a37740dafb6c88f1abd1fa61</td>\n",
       "      <td>2017-08-21 20:35:44</td>\n",
       "      <td>2017-08-21 20:35:44</td>\n",
       "    </tr>\n",
       "    <tr>\n",
       "      <th>1</th>\n",
       "      <td>3442f8959a84dea7ee197c632cb2df15</td>\n",
       "      <td>campinas</td>\n",
       "      <td>201705</td>\n",
       "      <td>5</td>\n",
       "      <td>5</td>\n",
       "      <td>16</td>\n",
       "      <td>SP</td>\n",
       "      <td>sports_leisure</td>\n",
       "      <td>101.70</td>\n",
       "      <td>delivered</td>\n",
       "      <td>15.92</td>\n",
       "      <td>2017-06-02 16:57:44</td>\n",
       "      <td>6d953888a914b67350d5bc4d48f2acab</td>\n",
       "      <td>1</td>\n",
       "      <td>f4621f8ad6f54a2e3c408884068be46d</td>\n",
       "      <td>2017-05-05 16:12:29</td>\n",
       "      <td>2017-05-05 16:12:29</td>\n",
       "    </tr>\n",
       "    <tr>\n",
       "      <th>2</th>\n",
       "      <td>3442f8959a84dea7ee197c632cb2df15</td>\n",
       "      <td>campinas</td>\n",
       "      <td>201708</td>\n",
       "      <td>8</td>\n",
       "      <td>3</td>\n",
       "      <td>11</td>\n",
       "      <td>SP</td>\n",
       "      <td>sports_leisure</td>\n",
       "      <td>10.80</td>\n",
       "      <td>delivered</td>\n",
       "      <td>2.42</td>\n",
       "      <td>2017-09-01 16:51:26</td>\n",
       "      <td>bc8a5de6abf5b14f98a6135a7fb46731</td>\n",
       "      <td>2</td>\n",
       "      <td>325a06bcce0da45b7f4ecf2797dd40e4</td>\n",
       "      <td>2017-08-30 11:47:52</td>\n",
       "      <td>2017-08-30 11:47:52</td>\n",
       "    </tr>\n",
       "    <tr>\n",
       "      <th>3</th>\n",
       "      <td>d1b65fc7debc3361ea86b5f14c68d2e2</td>\n",
       "      <td>mogi guacu</td>\n",
       "      <td>201711</td>\n",
       "      <td>11</td>\n",
       "      <td>5</td>\n",
       "      <td>16</td>\n",
       "      <td>SP</td>\n",
       "      <td>luggage_accessories</td>\n",
       "      <td>89.99</td>\n",
       "      <td>delivered</td>\n",
       "      <td>45.09</td>\n",
       "      <td>2017-11-21 23:26:35</td>\n",
       "      <td>035201c3c82a97f8a25dd6bd5244b2d5</td>\n",
       "      <td>1</td>\n",
       "      <td>1c36a5285f7f3b1ed2637d7c528ce5ff</td>\n",
       "      <td>2017-11-10 16:54:13</td>\n",
       "      <td>2017-11-10 16:54:13</td>\n",
       "    </tr>\n",
       "    <tr>\n",
       "      <th>4</th>\n",
       "      <td>d1b65fc7debc3361ea86b5f14c68d2e2</td>\n",
       "      <td>mogi guacu</td>\n",
       "      <td>201709</td>\n",
       "      <td>9</td>\n",
       "      <td>4</td>\n",
       "      <td>19</td>\n",
       "      <td>SP</td>\n",
       "      <td>stationery</td>\n",
       "      <td>199.90</td>\n",
       "      <td>delivered</td>\n",
       "      <td>21.89</td>\n",
       "      <td>2017-10-06 17:03:59</td>\n",
       "      <td>0504447548229e075dea8441b37b1e2a</td>\n",
       "      <td>1</td>\n",
       "      <td>8852eb03b04ec3268a66e9b696e25f6f</td>\n",
       "      <td>2017-09-28 19:31:57</td>\n",
       "      <td>2017-09-28 19:31:57</td>\n",
       "    </tr>\n",
       "  </tbody>\n",
       "</table>\n",
       "</div>"
      ],
      "text/plain": [
       "                          seller_id seller_city  year_month  month  day  hour  \\\n",
       "0  3442f8959a84dea7ee197c632cb2df15    campinas      201708      8    1    20   \n",
       "1  3442f8959a84dea7ee197c632cb2df15    campinas      201705      5    5    16   \n",
       "2  3442f8959a84dea7ee197c632cb2df15    campinas      201708      8    3    11   \n",
       "3  d1b65fc7debc3361ea86b5f14c68d2e2  mogi guacu      201711     11    5    16   \n",
       "4  d1b65fc7debc3361ea86b5f14c68d2e2  mogi guacu      201709      9    4    19   \n",
       "\n",
       "  seller_state product_category_name_english   price order_status  \\\n",
       "0           SP                sports_leisure  106.20    delivered   \n",
       "1           SP                sports_leisure  101.70    delivered   \n",
       "2           SP                sports_leisure   10.80    delivered   \n",
       "3           SP           luggage_accessories   89.99    delivered   \n",
       "4           SP                    stationery  199.90    delivered   \n",
       "\n",
       "   freight_value order_delivered_customer_date  \\\n",
       "0           9.56           2017-08-30 16:07:13   \n",
       "1          15.92           2017-06-02 16:57:44   \n",
       "2           2.42           2017-09-01 16:51:26   \n",
       "3          45.09           2017-11-21 23:26:35   \n",
       "4          21.89           2017-10-06 17:03:59   \n",
       "\n",
       "                           order_id  order_item_id  \\\n",
       "0  4a90af3e85dd563884e2afeab1091394              1   \n",
       "1  6d953888a914b67350d5bc4d48f2acab              1   \n",
       "2  bc8a5de6abf5b14f98a6135a7fb46731              2   \n",
       "3  035201c3c82a97f8a25dd6bd5244b2d5              1   \n",
       "4  0504447548229e075dea8441b37b1e2a              1   \n",
       "\n",
       "                         product_id order_purchase_timestamp  \\\n",
       "0  ffb64e34a37740dafb6c88f1abd1fa61      2017-08-21 20:35:44   \n",
       "1  f4621f8ad6f54a2e3c408884068be46d      2017-05-05 16:12:29   \n",
       "2  325a06bcce0da45b7f4ecf2797dd40e4      2017-08-30 11:47:52   \n",
       "3  1c36a5285f7f3b1ed2637d7c528ce5ff      2017-11-10 16:54:13   \n",
       "4  8852eb03b04ec3268a66e9b696e25f6f      2017-09-28 19:31:57   \n",
       "\n",
       "            timestamp  \n",
       "0 2017-08-21 20:35:44  \n",
       "1 2017-05-05 16:12:29  \n",
       "2 2017-08-30 11:47:52  \n",
       "3 2017-11-10 16:54:13  \n",
       "4 2017-09-28 19:31:57  "
      ]
     },
     "execution_count": 27,
     "metadata": {},
     "output_type": "execute_result"
    }
   ],
   "source": [
    "# Add the columns - Month, Day and Hour for the invoice¶\n",
    "df_sellers_analize.insert(loc=2, column='year_month', value=df_sellers_analize['timestamp'].map(lambda x: 100*x.year + x.month))\n",
    "df_sellers_analize.insert(loc=3, column='month', value=df_sellers_analize['timestamp'].dt.month)\n",
    "# +1 to make Monday=1.....until Sunday=7\n",
    "df_sellers_analize.insert(loc=4, column='day', value=(df_sellers_analize['timestamp'].dt.dayofweek)+1)\n",
    "df_sellers_analize.insert(loc=5, column='hour', value=df_sellers_analize['timestamp'].dt.hour)\n",
    "df_sellers_analize.head()"
   ]
  },
  {
   "cell_type": "code",
   "execution_count": 28,
   "id": "1857f4f1",
   "metadata": {},
   "outputs": [
    {
     "data": {
      "text/plain": [
       "(108630, 17)"
      ]
     },
     "execution_count": 28,
     "metadata": {},
     "output_type": "execute_result"
    }
   ],
   "source": [
    "df_sellers_analize.shape"
   ]
  },
  {
   "cell_type": "markdown",
   "id": "f696c58b",
   "metadata": {},
   "source": [
    "### Best | worst sellers analize"
   ]
  },
  {
   "cell_type": "markdown",
   "id": "1229ab6a",
   "metadata": {},
   "source": [
    "### Агрегация продавцов по категории продуктов (количество и оборот)"
   ]
  },
  {
   "cell_type": "code",
   "execution_count": null,
   "id": "579a561f",
   "metadata": {},
   "outputs": [],
   "source": [
    "orders_by_cellers = df_sellers_analize.groupby(['seller_id', 'product_category_name_english'], as_index=False) \\\n",
    "        .agg({'order_id': 'count', 'price': 'sum'}) \\\n",
    "        .rename(columns={'order_id': 'num_orders', 'price': 'money_turnover'}) \\\n",
    "        .sort_values(by=['money_turnover', 'num_orders'], ascending=[False, True])\n",
    "\n",
    "orders_by_cellers.head()"
   ]
  },
  {
   "cell_type": "code",
   "execution_count": null,
   "id": "fc8b5eb0",
   "metadata": {},
   "outputs": [],
   "source": [
    "sellers_income = df_sellers_analize.groupby('seller_id', as_index=False)['price'].sum(). \\\n",
    "                rename(columns={'price': 'sum_income'}). \\\n",
    "                sort_values(by=['sum_income'], ascending=False, ignore_index=True)\n",
    "\n",
    "sellers_income.head()"
   ]
  },
  {
   "cell_type": "code",
   "execution_count": null,
   "id": "dff4680b",
   "metadata": {},
   "outputs": [],
   "source": [
    "top5_sellers_income = sellers_income.iloc[:5, 0].tolist()"
   ]
  },
  {
   "cell_type": "code",
   "execution_count": null,
   "id": "6fcc6f6e",
   "metadata": {},
   "outputs": [],
   "source": [
    "orders_by_cellers[orders_by_cellers['seller_id'].isin(top5_sellers_income)].reset_index(drop=True)"
   ]
  },
  {
   "cell_type": "code",
   "execution_count": null,
   "id": "e248e2ea",
   "metadata": {},
   "outputs": [],
   "source": [
    "# Сохранение файлов с топ 5 продавцами\n",
    "top5 = {name: pd.DataFrame() for name in top5_sellers_income}\n",
    "for index, seller in enumerate (top5_sellers_income):\n",
    "    top5[seller] = orders_by_cellers[orders_by_cellers['seller_id'] == seller].reset_index(drop=True)\n",
    "    top5[seller].to_csv(os.path.join(os.getcwd(), 'result_datas', f'top{index+1}_seller.tsv'), sep='\\t', decimal=',')"
   ]
  },
  {
   "cell_type": "code",
   "execution_count": null,
   "id": "840a0b23",
   "metadata": {},
   "outputs": [],
   "source": []
  },
  {
   "cell_type": "markdown",
   "id": "f7abcdd8",
   "metadata": {},
   "source": [
    "#### Первоначальный анализ продавцов по количеству продаж"
   ]
  },
  {
   "cell_type": "code",
   "execution_count": null,
   "id": "4b6604ec",
   "metadata": {},
   "outputs": [],
   "source": [
    "orders_count = df_sellers_analize.groupby('seller_id', as_index=False)['order_id'].count()"
   ]
  },
  {
   "cell_type": "code",
   "execution_count": null,
   "id": "fe55f62c",
   "metadata": {},
   "outputs": [],
   "source": [
    "orders_count.head()"
   ]
  },
  {
   "cell_type": "code",
   "execution_count": null,
   "id": "19799e7e",
   "metadata": {},
   "outputs": [],
   "source": [
    "# Сортировка значений\n",
    "orders_count = orders_count.rename(columns={'order_id': 'num_orders'}). \\\n",
    "    sort_values(by=['num_orders'], ascending=False, ignore_index=True)"
   ]
  },
  {
   "cell_type": "code",
   "execution_count": null,
   "id": "fddffb76",
   "metadata": {},
   "outputs": [],
   "source": [
    "# График лидеров продаж по количеству\n",
    "plt.subplots(figsize=(15, 6))\n",
    "plt.bar(orders_count[orders_count['num_orders'] > 1000]['seller_id'],\n",
    "        orders_count[orders_count['num_orders'] > 1000]['num_orders'])\n",
    "plt.xlabel('Seller ID')\n",
    "plt.xticks(rotation=90)\n",
    "plt.ylabel('Number of Orders')\n",
    "plt.title('Лидеры по объемам продаж')\n",
    "plt.show()"
   ]
  },
  {
   "cell_type": "code",
   "execution_count": null,
   "id": "6c009414",
   "metadata": {},
   "outputs": [],
   "source": [
    "orders_count.head()"
   ]
  },
  {
   "cell_type": "code",
   "execution_count": null,
   "id": "34174992",
   "metadata": {},
   "outputs": [],
   "source": [
    "# Собираем топ5 и топ10 продавцов\n",
    "top5_sellers = orders_count.iloc[:5, 0].tolist()\n",
    "top10_sellers = orders_count.iloc[:10, 0].tolist()"
   ]
  },
  {
   "cell_type": "code",
   "execution_count": null,
   "id": "277fdbb0",
   "metadata": {},
   "outputs": [],
   "source": [
    "orders_count[orders_count['num_orders'] > 1000].shape[0]"
   ]
  },
  {
   "cell_type": "code",
   "execution_count": null,
   "id": "d6637cfc",
   "metadata": {},
   "outputs": [],
   "source": [
    "# plt.subplots(figsize=(15,6))\n",
    "# plt.plot(orders_count['seller_id'], orders_count['num_orders'])\n",
    "# plt.xlabel('Customers ID')\n",
    "# plt.xticks(rotation=90)\n",
    "# plt.ylabel('Number of Orders')\n",
    "# plt.title('Number of Orders for different Customers')\n",
    "# plt.show()"
   ]
  },
  {
   "cell_type": "markdown",
   "id": "7a7a9aa5",
   "metadata": {},
   "source": [
    "#### Полезно посмотреть не по количеству продаж, а по доходу"
   ]
  },
  {
   "cell_type": "code",
   "execution_count": null,
   "id": "c0e9fc9d",
   "metadata": {},
   "outputs": [],
   "source": [
    "sellers_income = df_sellers_analize.groupby('seller_id', as_index=False)['price'].sum(). \\\n",
    "                rename(columns={'price': 'sum_income'}). \\\n",
    "                sort_values(by=['sum_income'], ascending=False, ignore_index=True)"
   ]
  },
  {
   "cell_type": "code",
   "execution_count": null,
   "id": "362a2c7a",
   "metadata": {},
   "outputs": [],
   "source": [
    "sellers_income.head(25)"
   ]
  },
  {
   "cell_type": "code",
   "execution_count": null,
   "id": "25ca9478",
   "metadata": {},
   "outputs": [],
   "source": [
    "(sellers_income['sum_income'] < 100).sum()"
   ]
  },
  {
   "cell_type": "code",
   "execution_count": null,
   "id": "8f423ad7",
   "metadata": {},
   "outputs": [],
   "source": [
    "top5_best_sellers = sellers_income.iloc[:5, 0].tolist()\n",
    "top10_best_sellers = sellers_income.iloc[:10, 0].tolist()"
   ]
  },
  {
   "cell_type": "code",
   "execution_count": null,
   "id": "c8ef416d",
   "metadata": {},
   "outputs": [],
   "source": [
    "plt.subplots(figsize=(15, 6))\n",
    "plt.bar(sellers_income[sellers_income['sum_income'] > 50000]['seller_id'],\n",
    "        sellers_income[sellers_income['sum_income'] > 50000]['sum_income'])\n",
    "plt.xlabel('Seller ID')\n",
    "plt.xticks(rotation=90)\n",
    "plt.ylabel('Сумма оборота')\n",
    "plt.title('Лидеры по обороту')\n",
    "plt.show()"
   ]
  },
  {
   "cell_type": "code",
   "execution_count": null,
   "id": "f5129d1b",
   "metadata": {},
   "outputs": [],
   "source": [
    "sellers_income.iloc[:5, :].to_csv(os.path.join(os.getcwd(), 'result_datas', 'top5_sellers_income.tsv'), \n",
    "                                  sep='\\t', \n",
    "                                  decimal=',')"
   ]
  },
  {
   "cell_type": "code",
   "execution_count": null,
   "id": "d24b86cd",
   "metadata": {},
   "outputs": [],
   "source": []
  },
  {
   "cell_type": "code",
   "execution_count": null,
   "id": "b38a06fb",
   "metadata": {},
   "outputs": [],
   "source": [
    "sellers_income[sellers_income['sum_income'] > 50000].to_csv(os.path.join(os.getcwd(), 'result_datas', 'best_sellers_income.tsv'), \n",
    "                                  sep='\\t', \n",
    "                                  decimal=',')"
   ]
  },
  {
   "cell_type": "code",
   "execution_count": null,
   "id": "4b9df33a",
   "metadata": {},
   "outputs": [],
   "source": [
    "sellers50000 = sellers_income[sellers_income['sum_income'] > 50000]['seller_id'].to_list()"
   ]
  },
  {
   "cell_type": "code",
   "execution_count": null,
   "id": "36c0c778",
   "metadata": {},
   "outputs": [],
   "source": []
  },
  {
   "cell_type": "code",
   "execution_count": null,
   "id": "1d498f64",
   "metadata": {},
   "outputs": [],
   "source": [
    "sellers50000_quantity = orders_count[orders_count['seller_id'].isin(sellers50000)].reset_index(drop=True)\n",
    "timedelta = (df_sellers_analize['timestamp'].max() - df_sellers_analize['timestamp'].min()).days\n",
    "sellers50000_quantity['order_quantity'] = (sellers50000_quantity['num_orders'] / timedelta).round(2)\n",
    "sorterIndex = dict(zip(sellers50000, range(len(sellers50000))))\n",
    "sellers50000_quantity['sort_column'] = sellers50000_quantity['seller_id'].map(sorterIndex)\n",
    "sellers50000_quantity = sellers50000_quantity.sort_values(by=['sort_column']).reset_index(drop=True)\n",
    "sellers50000_quantity = sellers50000_quantity.drop('sort_column', axis=1)"
   ]
  },
  {
   "cell_type": "code",
   "execution_count": null,
   "id": "78ce7761",
   "metadata": {},
   "outputs": [],
   "source": [
    "sellers50000_quantity = pd.merge(sellers50000_quantity, sellers_income[sellers_income['sum_income'] > 50000], how='left', on='seller_id')"
   ]
  },
  {
   "cell_type": "code",
   "execution_count": null,
   "id": "d020550e",
   "metadata": {},
   "outputs": [],
   "source": [
    "sellers50000_quantity.head()"
   ]
  },
  {
   "cell_type": "code",
   "execution_count": null,
   "id": "a6eb7e80",
   "metadata": {},
   "outputs": [],
   "source": [
    "sellers50000_quantity.to_csv(os.path.join(os.getcwd(), 'result_datas', 'best_sellers_income_quantity.tsv'), \n",
    "                                  sep='\\t', \n",
    "                                  decimal=',')"
   ]
  },
  {
   "cell_type": "code",
   "execution_count": null,
   "id": "90ee9bbb",
   "metadata": {},
   "outputs": [],
   "source": [
    "plt.subplots(figsize=(15, 6))\n",
    "plt.bar(sellers50000_quantity['seller_id'],\n",
    "        sellers50000_quantity['order_quantity'])\n",
    "plt.xlabel('Seller ID')\n",
    "plt.xticks(rotation=90)\n",
    "plt.ylabel('Частота оборота')\n",
    "plt.title('Лидеры по обороту')\n",
    "plt.show()"
   ]
  },
  {
   "cell_type": "code",
   "execution_count": null,
   "id": "2ce0abe1",
   "metadata": {},
   "outputs": [],
   "source": []
  },
  {
   "cell_type": "markdown",
   "id": "ed4e48aa",
   "metadata": {},
   "source": [
    "### Анализ аутсайдеров за последние полгода по дате последней транзакии"
   ]
  },
  {
   "cell_type": "code",
   "execution_count": null,
   "id": "6a3354f0",
   "metadata": {},
   "outputs": [],
   "source": [
    "sellers_last_half_of_year = df_sellers_analize[df_sellers_analize['year_month'] >= 201802].reset_index(drop=True)\n",
    "sellers_last_half_of_year.head()"
   ]
  },
  {
   "cell_type": "code",
   "execution_count": null,
   "id": "d41acea6",
   "metadata": {},
   "outputs": [],
   "source": [
    "# sellers_income = df_sellers_analize.groupby('seller_id', as_index=False)['price'].sum(). \\\n",
    "#                 rename(columns={'price': 'sum_income'}). \\\n",
    "#                 sort_values(by=['sum_income'], ascending=False, ignore_index=True)\n",
    "\n",
    "lowest_sellers = sellers_income[sellers_income['sum_income'] < 100].reset_index(drop=True)"
   ]
  },
  {
   "cell_type": "code",
   "execution_count": null,
   "id": "7a5773de",
   "metadata": {},
   "outputs": [],
   "source": [
    "lowest_list_sellers = lowest_sellers['seller_id'].to_list()"
   ]
  },
  {
   "cell_type": "code",
   "execution_count": null,
   "id": "5c761ec6",
   "metadata": {},
   "outputs": [],
   "source": [
    "lowest_sellers_last_6months = sellers_last_half_of_year[sellers_last_half_of_year['seller_id'].isin(lowest_list_sellers)].reset_index(drop=True)"
   ]
  },
  {
   "cell_type": "code",
   "execution_count": null,
   "id": "307f1443",
   "metadata": {},
   "outputs": [],
   "source": [
    "lowest_sellers_last_6months['seller_id'].unique()"
   ]
  },
  {
   "cell_type": "code",
   "execution_count": null,
   "id": "cce84ea3",
   "metadata": {},
   "outputs": [],
   "source": [
    "lowest_sellers_last_6months['year_month'].min(), lowest_sellers_last_6months['year_month'].max()"
   ]
  },
  {
   "cell_type": "code",
   "execution_count": null,
   "id": "661782fb",
   "metadata": {},
   "outputs": [],
   "source": [
    "lowest_sellers_last_3months = lowest_sellers_last_6months[lowest_sellers_last_6months['year_month'] > 201805].reset_index(drop=True)"
   ]
  },
  {
   "cell_type": "code",
   "execution_count": null,
   "id": "a0aca6e2",
   "metadata": {},
   "outputs": [],
   "source": [
    "last_3months_grouped = lowest_sellers_last_3months.groupby('seller_id').agg({'order_id': 'count', 'price': 'sum'}) \\\n",
    "                            .rename(columns={'order_id': 'num_orders', 'price': 'sum_income'}) \\\n",
    "                            .sort_values(by=['sum_income', 'num_orders'], ascending=[False, True]) \\\n",
    "                            .reset_index()"
   ]
  },
  {
   "cell_type": "code",
   "execution_count": null,
   "id": "86c201c4",
   "metadata": {},
   "outputs": [],
   "source": [
    "lowest_sellers_last_3months = pd.merge(lowest_sellers_last_3months, last_3months_grouped, how='left', on='seller_id')"
   ]
  },
  {
   "cell_type": "code",
   "execution_count": null,
   "id": "abcddf6e",
   "metadata": {},
   "outputs": [],
   "source": [
    "lowest_sellers_last_3months.columns"
   ]
  },
  {
   "cell_type": "code",
   "execution_count": null,
   "id": "493c7b8c",
   "metadata": {},
   "outputs": [],
   "source": [
    "lowest_sellers_last_3months.boxplot(column=['num_orders', 'sum_income'])"
   ]
  },
  {
   "cell_type": "code",
   "execution_count": null,
   "id": "b953b578",
   "metadata": {},
   "outputs": [],
   "source": [
    "latest_idx_time = lowest_sellers_last_3months.groupby('seller_id')['timestamp'].idxmax()\n",
    "# latest_idx_time['type'] = 'last_date_of_sell'"
   ]
  },
  {
   "cell_type": "code",
   "execution_count": null,
   "id": "6d2fb8a4",
   "metadata": {
    "scrolled": false
   },
   "outputs": [],
   "source": [
    "latest_idx_time[0].index"
   ]
  },
  {
   "cell_type": "code",
   "execution_count": null,
   "id": "a915eed1",
   "metadata": {},
   "outputs": [],
   "source": [
    "last_date_of_sell = lowest_sellers_last_3months.iloc[\n",
    "    lowest_sellers_last_3months.groupby(['seller_id']).apply(lambda x: x['timestamp'].idxmax())]"
   ]
  },
  {
   "cell_type": "code",
   "execution_count": null,
   "id": "aaa09586",
   "metadata": {},
   "outputs": [],
   "source": [
    "last_date_of_sell.groupby('month').agg({'seller_id': 'count'}).rename(\n",
    "    columns={'seller_id': 'num_sellers'}).reset_index()"
   ]
  },
  {
   "cell_type": "code",
   "execution_count": null,
   "id": "9ca33a54",
   "metadata": {},
   "outputs": [],
   "source": [
    "last_date_of_sell.drop(columns=['product_id', 'order_item_id', 'order_id', 'order_purchase_timestamp',\n",
    "                       'hour', 'order_status', 'freight_value', 'price', 'day'], inplace=True)"
   ]
  },
  {
   "cell_type": "code",
   "execution_count": null,
   "id": "42c9e437",
   "metadata": {},
   "outputs": [],
   "source": [
    "last_date_of_sell = last_date_of_sell.sort_values(\n",
    "    by=['sum_income', 'month'], ascending=False).reset_index(drop=True)"
   ]
  },
  {
   "cell_type": "code",
   "execution_count": null,
   "id": "eb45d491",
   "metadata": {},
   "outputs": [],
   "source": [
    "last_date_of_sell['date_of_last_order'] = last_date_of_sell['timestamp'].dt.date"
   ]
  },
  {
   "cell_type": "code",
   "execution_count": null,
   "id": "82a82fbc",
   "metadata": {},
   "outputs": [],
   "source": [
    "last_date_of_sell = last_date_of_sell.drop(\n",
    "    ['date', 'timestamp', 'order_delivered_customer_date'], axis=1)"
   ]
  },
  {
   "cell_type": "code",
   "execution_count": null,
   "id": "97e4e60f",
   "metadata": {},
   "outputs": [],
   "source": [
    "last_date_of_sell.head()"
   ]
  },
  {
   "cell_type": "code",
   "execution_count": null,
   "id": "280aefab",
   "metadata": {},
   "outputs": [],
   "source": [
    "last_date_of_sell.to_csv(os.path.join(os.getcwd(), 'result_datas', 'lowest_sellers_last_3months_date.tsv'),\n",
    "                         sep='\\t',\n",
    "                         decimal=',')"
   ]
  },
  {
   "cell_type": "markdown",
   "id": "5c074da1",
   "metadata": {},
   "source": [
    "#### Продавцы, которые продали товаров меньше 100 товаров"
   ]
  },
  {
   "cell_type": "code",
   "execution_count": null,
   "id": "4d5fbbb5",
   "metadata": {},
   "outputs": [],
   "source": [
    "orders_count[orders_count['num_orders'] < 100].shape"
   ]
  },
  {
   "cell_type": "code",
   "execution_count": null,
   "id": "89404565",
   "metadata": {},
   "outputs": [],
   "source": [
    "orders_count[orders_count['num_orders'] == 1].shape"
   ]
  },
  {
   "cell_type": "code",
   "execution_count": null,
   "id": "446641ea",
   "metadata": {},
   "outputs": [],
   "source": [
    "outsider_sellers = orders_count[orders_count['num_orders'] < 100].reset_index(\n",
    "    drop=True)"
   ]
  },
  {
   "cell_type": "code",
   "execution_count": null,
   "id": "38f09319",
   "metadata": {},
   "outputs": [],
   "source": [
    "outsider_sellers.head()"
   ]
  },
  {
   "cell_type": "code",
   "execution_count": null,
   "id": "fd5fce54",
   "metadata": {},
   "outputs": [],
   "source": [
    "count_outsider_sellers_by_orders = outsider_sellers.groupby('num_orders'). \\\n",
    "    count().reset_index().rename(columns={'seller_id': 'num_sellers'})"
   ]
  },
  {
   "cell_type": "code",
   "execution_count": null,
   "id": "3df780c6",
   "metadata": {},
   "outputs": [],
   "source": [
    "count_outsider_sellers_by_orders.shape"
   ]
  },
  {
   "cell_type": "code",
   "execution_count": null,
   "id": "7aa75290",
   "metadata": {},
   "outputs": [],
   "source": [
    "plt.subplots(figsize=(15, 6))\n",
    "plt.bar(count_outsider_sellers_by_orders['num_orders'],\n",
    "        count_outsider_sellers_by_orders['num_sellers'])\n",
    "plt.xlabel('Number of Orders')\n",
    "plt.xticks(rotation=90)\n",
    "plt.ylabel('Number of Sellers')\n",
    "plt.title('Срез продавцов по наименьшим продажам')\n",
    "plt.show()"
   ]
  },
  {
   "cell_type": "markdown",
   "id": "3315d824",
   "metadata": {},
   "source": [
    "Интересно увидеть диаграмму доходов топ 5 продавцов, в разрезе категорий (с) Заказчик"
   ]
  },
  {
   "cell_type": "code",
   "execution_count": null,
   "id": "70c9b650",
   "metadata": {},
   "outputs": [],
   "source": []
  },
  {
   "cell_type": "markdown",
   "id": "819496a9",
   "metadata": {},
   "source": [
    "# RFM-analisys"
   ]
  },
  {
   "cell_type": "code",
   "execution_count": null,
   "id": "3980e600",
   "metadata": {},
   "outputs": [],
   "source": []
  },
  {
   "cell_type": "code",
   "execution_count": 32,
   "id": "2aee5e4c",
   "metadata": {},
   "outputs": [
    {
     "data": {
      "text/html": [
       "<div>\n",
       "<style scoped>\n",
       "    .dataframe tbody tr th:only-of-type {\n",
       "        vertical-align: middle;\n",
       "    }\n",
       "\n",
       "    .dataframe tbody tr th {\n",
       "        vertical-align: top;\n",
       "    }\n",
       "\n",
       "    .dataframe thead th {\n",
       "        text-align: right;\n",
       "    }\n",
       "</style>\n",
       "<table border=\"1\" class=\"dataframe\">\n",
       "  <thead>\n",
       "    <tr style=\"text-align: right;\">\n",
       "      <th></th>\n",
       "      <th>seller_id</th>\n",
       "      <th>seller_city</th>\n",
       "      <th>year_month</th>\n",
       "      <th>month</th>\n",
       "      <th>day</th>\n",
       "      <th>hour</th>\n",
       "      <th>seller_state</th>\n",
       "      <th>product_category_name_english</th>\n",
       "      <th>price</th>\n",
       "      <th>order_id</th>\n",
       "      <th>timestamp</th>\n",
       "    </tr>\n",
       "  </thead>\n",
       "  <tbody>\n",
       "    <tr>\n",
       "      <th>0</th>\n",
       "      <td>3442f8959a84dea7ee197c632cb2df15</td>\n",
       "      <td>campinas</td>\n",
       "      <td>201708</td>\n",
       "      <td>8</td>\n",
       "      <td>1</td>\n",
       "      <td>20</td>\n",
       "      <td>SP</td>\n",
       "      <td>sports_leisure</td>\n",
       "      <td>106.20</td>\n",
       "      <td>4a90af3e85dd563884e2afeab1091394</td>\n",
       "      <td>2017-08-21</td>\n",
       "    </tr>\n",
       "    <tr>\n",
       "      <th>1</th>\n",
       "      <td>3442f8959a84dea7ee197c632cb2df15</td>\n",
       "      <td>campinas</td>\n",
       "      <td>201705</td>\n",
       "      <td>5</td>\n",
       "      <td>5</td>\n",
       "      <td>16</td>\n",
       "      <td>SP</td>\n",
       "      <td>sports_leisure</td>\n",
       "      <td>101.70</td>\n",
       "      <td>6d953888a914b67350d5bc4d48f2acab</td>\n",
       "      <td>2017-05-05</td>\n",
       "    </tr>\n",
       "    <tr>\n",
       "      <th>2</th>\n",
       "      <td>3442f8959a84dea7ee197c632cb2df15</td>\n",
       "      <td>campinas</td>\n",
       "      <td>201708</td>\n",
       "      <td>8</td>\n",
       "      <td>3</td>\n",
       "      <td>11</td>\n",
       "      <td>SP</td>\n",
       "      <td>sports_leisure</td>\n",
       "      <td>10.80</td>\n",
       "      <td>bc8a5de6abf5b14f98a6135a7fb46731</td>\n",
       "      <td>2017-08-30</td>\n",
       "    </tr>\n",
       "    <tr>\n",
       "      <th>3</th>\n",
       "      <td>d1b65fc7debc3361ea86b5f14c68d2e2</td>\n",
       "      <td>mogi guacu</td>\n",
       "      <td>201711</td>\n",
       "      <td>11</td>\n",
       "      <td>5</td>\n",
       "      <td>16</td>\n",
       "      <td>SP</td>\n",
       "      <td>luggage_accessories</td>\n",
       "      <td>89.99</td>\n",
       "      <td>035201c3c82a97f8a25dd6bd5244b2d5</td>\n",
       "      <td>2017-11-10</td>\n",
       "    </tr>\n",
       "    <tr>\n",
       "      <th>4</th>\n",
       "      <td>d1b65fc7debc3361ea86b5f14c68d2e2</td>\n",
       "      <td>mogi guacu</td>\n",
       "      <td>201709</td>\n",
       "      <td>9</td>\n",
       "      <td>4</td>\n",
       "      <td>19</td>\n",
       "      <td>SP</td>\n",
       "      <td>stationery</td>\n",
       "      <td>199.90</td>\n",
       "      <td>0504447548229e075dea8441b37b1e2a</td>\n",
       "      <td>2017-09-28</td>\n",
       "    </tr>\n",
       "  </tbody>\n",
       "</table>\n",
       "</div>"
      ],
      "text/plain": [
       "                          seller_id seller_city  year_month  month  day  hour  \\\n",
       "0  3442f8959a84dea7ee197c632cb2df15    campinas      201708      8    1    20   \n",
       "1  3442f8959a84dea7ee197c632cb2df15    campinas      201705      5    5    16   \n",
       "2  3442f8959a84dea7ee197c632cb2df15    campinas      201708      8    3    11   \n",
       "3  d1b65fc7debc3361ea86b5f14c68d2e2  mogi guacu      201711     11    5    16   \n",
       "4  d1b65fc7debc3361ea86b5f14c68d2e2  mogi guacu      201709      9    4    19   \n",
       "\n",
       "  seller_state product_category_name_english   price  \\\n",
       "0           SP                sports_leisure  106.20   \n",
       "1           SP                sports_leisure  101.70   \n",
       "2           SP                sports_leisure   10.80   \n",
       "3           SP           luggage_accessories   89.99   \n",
       "4           SP                    stationery  199.90   \n",
       "\n",
       "                           order_id  timestamp  \n",
       "0  4a90af3e85dd563884e2afeab1091394 2017-08-21  \n",
       "1  6d953888a914b67350d5bc4d48f2acab 2017-05-05  \n",
       "2  bc8a5de6abf5b14f98a6135a7fb46731 2017-08-30  \n",
       "3  035201c3c82a97f8a25dd6bd5244b2d5 2017-11-10  \n",
       "4  0504447548229e075dea8441b37b1e2a 2017-09-28  "
      ]
     },
     "execution_count": 32,
     "metadata": {},
     "output_type": "execute_result"
    }
   ],
   "source": [
    "df = df_sellers_analize.drop(columns=['order_item_id',\n",
    "                                      'product_id',\n",
    "                                      'order_delivered_customer_date',\n",
    "                                      'freight_value',\n",
    "                                      'order_status',\n",
    "                                      'order_purchase_timestamp'])\n",
    "df['timestamp'] = df['timestamp'].dt.date\n",
    "df['timestamp'] = pd.to_datetime(df['timestamp'])\n",
    "df.head()"
   ]
  },
  {
   "cell_type": "code",
   "execution_count": 33,
   "id": "94153ba0",
   "metadata": {},
   "outputs": [
    {
     "name": "stdout",
     "output_type": "stream",
     "text": [
      "<class 'pandas.core.frame.DataFrame'>\n",
      "RangeIndex: 108630 entries, 0 to 108629\n",
      "Data columns (total 11 columns):\n",
      " #   Column                         Non-Null Count   Dtype         \n",
      "---  ------                         --------------   -----         \n",
      " 0   seller_id                      108630 non-null  object        \n",
      " 1   seller_city                    108630 non-null  object        \n",
      " 2   year_month                     108630 non-null  int64         \n",
      " 3   month                          108630 non-null  int64         \n",
      " 4   day                            108630 non-null  int64         \n",
      " 5   hour                           108630 non-null  int64         \n",
      " 6   seller_state                   108630 non-null  object        \n",
      " 7   product_category_name_english  108630 non-null  object        \n",
      " 8   price                          108630 non-null  float64       \n",
      " 9   order_id                       108630 non-null  object        \n",
      " 10  timestamp                      108630 non-null  datetime64[ns]\n",
      "dtypes: datetime64[ns](1), float64(1), int64(4), object(5)\n",
      "memory usage: 9.1+ MB\n"
     ]
    }
   ],
   "source": [
    "df.info()"
   ]
  },
  {
   "cell_type": "code",
   "execution_count": 34,
   "id": "192ff7f2",
   "metadata": {},
   "outputs": [
    {
     "data": {
      "text/plain": [
       "Timestamp('2018-08-29 00:00:00')"
      ]
     },
     "execution_count": 34,
     "metadata": {},
     "output_type": "execute_result"
    }
   ],
   "source": [
    "df['timestamp'].max()"
   ]
  },
  {
   "cell_type": "code",
   "execution_count": 36,
   "id": "c73db937",
   "metadata": {},
   "outputs": [],
   "source": [
    "import datetime as dt\n",
    "last_day = df['timestamp'].max()  # last date available in our dataset\n",
    "threshold_date = dt.datetime(2017, 8, 29)"
   ]
  },
  {
   "cell_type": "code",
   "execution_count": 44,
   "id": "66bfde08",
   "metadata": {},
   "outputs": [],
   "source": [
    "# # restrict the data to one full year because it's better to use a metric per Months or Years in RFM\n",
    "# sellers_last_year = df[df['timestamp'] >=\n",
    "#                        threshold_date].reset_index(drop=True)\n",
    "# sellers_last_year.shape"
   ]
  },
  {
   "cell_type": "code",
   "execution_count": 43,
   "id": "e1987bc8",
   "metadata": {},
   "outputs": [],
   "source": [
    "# print(\"Summary..\")\n",
    "# # exploring the unique values of each attribute\n",
    "# print(\"Number of sellers:\", sellers_last_year['seller_id'].nunique())\n",
    "# print(\"Percentage of sellers NA: \", round(\n",
    "#     sellers_last_year['seller_id'].isnull().sum() * 100 / len(sellers_last_year), 2), \"%\")"
   ]
  },
  {
   "cell_type": "markdown",
   "id": "46fe8b7c",
   "metadata": {},
   "source": [
    "RFM (Recency, Frequency, Monetary) analysis is a customer segmentation technique that uses past purchase behavior to divide customers into groups. RFM helps divide customers into various categories or clusters to identify customers who are more likely to respond to promotions and also for future personalization services.\n",
    "\n",
    "\n",
    "    RECENCY (R): Days since last purchase\n",
    "    FREQUENCY (F): Total number of purchases\n",
    "    MONETARY VALUE (M): Total money this customer spent.\n",
    "\n",
    "We will create those 3 customer attributes for each customer."
   ]
  },
  {
   "cell_type": "code",
   "execution_count": 42,
   "id": "1dc3a0fb",
   "metadata": {},
   "outputs": [
    {
     "data": {
      "text/html": [
       "<div>\n",
       "<style scoped>\n",
       "    .dataframe tbody tr th:only-of-type {\n",
       "        vertical-align: middle;\n",
       "    }\n",
       "\n",
       "    .dataframe tbody tr th {\n",
       "        vertical-align: top;\n",
       "    }\n",
       "\n",
       "    .dataframe thead th {\n",
       "        text-align: right;\n",
       "    }\n",
       "</style>\n",
       "<table border=\"1\" class=\"dataframe\">\n",
       "  <thead>\n",
       "    <tr style=\"text-align: right;\">\n",
       "      <th></th>\n",
       "      <th>seller_id</th>\n",
       "      <th>seller_city</th>\n",
       "      <th>year_month</th>\n",
       "      <th>month</th>\n",
       "      <th>day</th>\n",
       "      <th>hour</th>\n",
       "      <th>seller_state</th>\n",
       "      <th>product_category_name_english</th>\n",
       "      <th>price</th>\n",
       "      <th>order_id</th>\n",
       "      <th>timestamp</th>\n",
       "      <th>hist</th>\n",
       "    </tr>\n",
       "  </thead>\n",
       "  <tbody>\n",
       "    <tr>\n",
       "      <th>0</th>\n",
       "      <td>3442f8959a84dea7ee197c632cb2df15</td>\n",
       "      <td>campinas</td>\n",
       "      <td>201708</td>\n",
       "      <td>8</td>\n",
       "      <td>1</td>\n",
       "      <td>20</td>\n",
       "      <td>SP</td>\n",
       "      <td>sports_leisure</td>\n",
       "      <td>106.20</td>\n",
       "      <td>4a90af3e85dd563884e2afeab1091394</td>\n",
       "      <td>2017-08-21</td>\n",
       "      <td>373.0</td>\n",
       "    </tr>\n",
       "    <tr>\n",
       "      <th>1</th>\n",
       "      <td>3442f8959a84dea7ee197c632cb2df15</td>\n",
       "      <td>campinas</td>\n",
       "      <td>201705</td>\n",
       "      <td>5</td>\n",
       "      <td>5</td>\n",
       "      <td>16</td>\n",
       "      <td>SP</td>\n",
       "      <td>sports_leisure</td>\n",
       "      <td>101.70</td>\n",
       "      <td>6d953888a914b67350d5bc4d48f2acab</td>\n",
       "      <td>2017-05-05</td>\n",
       "      <td>481.0</td>\n",
       "    </tr>\n",
       "    <tr>\n",
       "      <th>2</th>\n",
       "      <td>3442f8959a84dea7ee197c632cb2df15</td>\n",
       "      <td>campinas</td>\n",
       "      <td>201708</td>\n",
       "      <td>8</td>\n",
       "      <td>3</td>\n",
       "      <td>11</td>\n",
       "      <td>SP</td>\n",
       "      <td>sports_leisure</td>\n",
       "      <td>10.80</td>\n",
       "      <td>bc8a5de6abf5b14f98a6135a7fb46731</td>\n",
       "      <td>2017-08-30</td>\n",
       "      <td>364.0</td>\n",
       "    </tr>\n",
       "    <tr>\n",
       "      <th>3</th>\n",
       "      <td>d1b65fc7debc3361ea86b5f14c68d2e2</td>\n",
       "      <td>mogi guacu</td>\n",
       "      <td>201711</td>\n",
       "      <td>11</td>\n",
       "      <td>5</td>\n",
       "      <td>16</td>\n",
       "      <td>SP</td>\n",
       "      <td>luggage_accessories</td>\n",
       "      <td>89.99</td>\n",
       "      <td>035201c3c82a97f8a25dd6bd5244b2d5</td>\n",
       "      <td>2017-11-10</td>\n",
       "      <td>292.0</td>\n",
       "    </tr>\n",
       "    <tr>\n",
       "      <th>4</th>\n",
       "      <td>d1b65fc7debc3361ea86b5f14c68d2e2</td>\n",
       "      <td>mogi guacu</td>\n",
       "      <td>201709</td>\n",
       "      <td>9</td>\n",
       "      <td>4</td>\n",
       "      <td>19</td>\n",
       "      <td>SP</td>\n",
       "      <td>stationery</td>\n",
       "      <td>199.90</td>\n",
       "      <td>0504447548229e075dea8441b37b1e2a</td>\n",
       "      <td>2017-09-28</td>\n",
       "      <td>335.0</td>\n",
       "    </tr>\n",
       "  </tbody>\n",
       "</table>\n",
       "</div>"
      ],
      "text/plain": [
       "                          seller_id seller_city  year_month  month  day  hour  \\\n",
       "0  3442f8959a84dea7ee197c632cb2df15    campinas      201708      8    1    20   \n",
       "1  3442f8959a84dea7ee197c632cb2df15    campinas      201705      5    5    16   \n",
       "2  3442f8959a84dea7ee197c632cb2df15    campinas      201708      8    3    11   \n",
       "3  d1b65fc7debc3361ea86b5f14c68d2e2  mogi guacu      201711     11    5    16   \n",
       "4  d1b65fc7debc3361ea86b5f14c68d2e2  mogi guacu      201709      9    4    19   \n",
       "\n",
       "  seller_state product_category_name_english   price  \\\n",
       "0           SP                sports_leisure  106.20   \n",
       "1           SP                sports_leisure  101.70   \n",
       "2           SP                sports_leisure   10.80   \n",
       "3           SP           luggage_accessories   89.99   \n",
       "4           SP                    stationery  199.90   \n",
       "\n",
       "                           order_id  timestamp   hist  \n",
       "0  4a90af3e85dd563884e2afeab1091394 2017-08-21  373.0  \n",
       "1  6d953888a914b67350d5bc4d48f2acab 2017-05-05  481.0  \n",
       "2  bc8a5de6abf5b14f98a6135a7fb46731 2017-08-30  364.0  \n",
       "3  035201c3c82a97f8a25dd6bd5244b2d5 2017-11-10  292.0  \n",
       "4  0504447548229e075dea8441b37b1e2a 2017-09-28  335.0  "
      ]
     },
     "execution_count": 42,
     "metadata": {},
     "output_type": "execute_result"
    }
   ],
   "source": [
    "# present day is equal last day\n",
    "df['hist'] = last_day - df['timestamp']\n",
    "df['hist'].astype('timedelta64[D]')\n",
    "df['hist'] = df['hist'] / np.timedelta64(1, 'D')\n",
    "df.head()"
   ]
  },
  {
   "cell_type": "code",
   "execution_count": 46,
   "id": "7b862b1f",
   "metadata": {},
   "outputs": [
    {
     "name": "stdout",
     "output_type": "stream",
     "text": [
      "<class 'pandas.core.frame.DataFrame'>\n",
      "RangeIndex: 108630 entries, 0 to 108629\n",
      "Data columns (total 12 columns):\n",
      " #   Column                         Non-Null Count   Dtype         \n",
      "---  ------                         --------------   -----         \n",
      " 0   seller_id                      108630 non-null  object        \n",
      " 1   seller_city                    108630 non-null  object        \n",
      " 2   year_month                     108630 non-null  int64         \n",
      " 3   month                          108630 non-null  int64         \n",
      " 4   day                            108630 non-null  int64         \n",
      " 5   hour                           108630 non-null  int64         \n",
      " 6   seller_state                   108630 non-null  object        \n",
      " 7   product_category_name_english  108630 non-null  object        \n",
      " 8   price                          108630 non-null  float64       \n",
      " 9   order_id                       108630 non-null  object        \n",
      " 10  timestamp                      108630 non-null  datetime64[ns]\n",
      " 11  hist                           108630 non-null  float64       \n",
      "dtypes: datetime64[ns](1), float64(2), int64(4), object(5)\n",
      "memory usage: 9.9+ MB\n"
     ]
    }
   ],
   "source": [
    "df.info()"
   ]
  },
  {
   "cell_type": "code",
   "execution_count": 47,
   "id": "7c60a59c",
   "metadata": {},
   "outputs": [],
   "source": [
    "# Create rfmTable\n",
    "\n",
    "rfmTable = df.groupby('seller_id').agg({'hist': lambda x: x.min(),  # Recency\n",
    "                                        'seller_id': lambda x: len(x),  # Frequency\n",
    "                                        'price': lambda x: x.sum()})  # Monetary Value\n",
    "\n",
    "rfmTable.rename(columns={'hist': 'recency',\n",
    "                         'seller_id': 'frequency',\n",
    "                         'price': 'monetary_value'}, inplace=True)"
   ]
  },
  {
   "cell_type": "code",
   "execution_count": 48,
   "id": "6b110598",
   "metadata": {},
   "outputs": [
    {
     "data": {
      "text/html": [
       "<div>\n",
       "<style scoped>\n",
       "    .dataframe tbody tr th:only-of-type {\n",
       "        vertical-align: middle;\n",
       "    }\n",
       "\n",
       "    .dataframe tbody tr th {\n",
       "        vertical-align: top;\n",
       "    }\n",
       "\n",
       "    .dataframe thead th {\n",
       "        text-align: right;\n",
       "    }\n",
       "</style>\n",
       "<table border=\"1\" class=\"dataframe\">\n",
       "  <thead>\n",
       "    <tr style=\"text-align: right;\">\n",
       "      <th></th>\n",
       "      <th>recency</th>\n",
       "      <th>frequency</th>\n",
       "      <th>monetary_value</th>\n",
       "    </tr>\n",
       "    <tr>\n",
       "      <th>seller_id</th>\n",
       "      <th></th>\n",
       "      <th></th>\n",
       "      <th></th>\n",
       "    </tr>\n",
       "  </thead>\n",
       "  <tbody>\n",
       "    <tr>\n",
       "      <th>0015a82c2db000af6aaaf3ae2ecb0532</th>\n",
       "      <td>315.0</td>\n",
       "      <td>3</td>\n",
       "      <td>2685.00</td>\n",
       "    </tr>\n",
       "    <tr>\n",
       "      <th>001cca7ae9ae17fb1caed9dfb1094831</th>\n",
       "      <td>48.0</td>\n",
       "      <td>234</td>\n",
       "      <td>24487.03</td>\n",
       "    </tr>\n",
       "    <tr>\n",
       "      <th>002100f778ceb8431b7a1020ff7ab48f</th>\n",
       "      <td>139.0</td>\n",
       "      <td>54</td>\n",
       "      <td>1216.60</td>\n",
       "    </tr>\n",
       "    <tr>\n",
       "      <th>004c9cd9d87a3c30c522c48c4fc07416</th>\n",
       "      <td>120.0</td>\n",
       "      <td>156</td>\n",
       "      <td>17698.71</td>\n",
       "    </tr>\n",
       "    <tr>\n",
       "      <th>00720abe85ba0859807595bbf045a33b</th>\n",
       "      <td>26.0</td>\n",
       "      <td>26</td>\n",
       "      <td>1007.50</td>\n",
       "    </tr>\n",
       "  </tbody>\n",
       "</table>\n",
       "</div>"
      ],
      "text/plain": [
       "                                  recency  frequency  monetary_value\n",
       "seller_id                                                           \n",
       "0015a82c2db000af6aaaf3ae2ecb0532    315.0          3         2685.00\n",
       "001cca7ae9ae17fb1caed9dfb1094831     48.0        234        24487.03\n",
       "002100f778ceb8431b7a1020ff7ab48f    139.0         54         1216.60\n",
       "004c9cd9d87a3c30c522c48c4fc07416    120.0        156        17698.71\n",
       "00720abe85ba0859807595bbf045a33b     26.0         26         1007.50"
      ]
     },
     "execution_count": 48,
     "metadata": {},
     "output_type": "execute_result"
    }
   ],
   "source": [
    "rfmTable.head()"
   ]
  },
  {
   "cell_type": "code",
   "execution_count": 49,
   "id": "a7753787",
   "metadata": {},
   "outputs": [
    {
     "data": {
      "text/plain": [
       "(2912, 3)"
      ]
     },
     "execution_count": 49,
     "metadata": {},
     "output_type": "execute_result"
    }
   ],
   "source": [
    "rfmTable.shape"
   ]
  },
  {
   "cell_type": "code",
   "execution_count": 50,
   "id": "927492db",
   "metadata": {
    "collapsed": true
   },
   "outputs": [
    {
     "data": {
      "text/html": [
       "<div>\n",
       "<style scoped>\n",
       "    .dataframe tbody tr th:only-of-type {\n",
       "        vertical-align: middle;\n",
       "    }\n",
       "\n",
       "    .dataframe tbody tr th {\n",
       "        vertical-align: top;\n",
       "    }\n",
       "\n",
       "    .dataframe thead th {\n",
       "        text-align: right;\n",
       "    }\n",
       "</style>\n",
       "<table border=\"1\" class=\"dataframe\">\n",
       "  <thead>\n",
       "    <tr style=\"text-align: right;\">\n",
       "      <th></th>\n",
       "      <th>seller_id</th>\n",
       "      <th>seller_city</th>\n",
       "      <th>year_month</th>\n",
       "      <th>month</th>\n",
       "      <th>day</th>\n",
       "      <th>hour</th>\n",
       "      <th>seller_state</th>\n",
       "      <th>product_category_name_english</th>\n",
       "      <th>price</th>\n",
       "      <th>order_id</th>\n",
       "      <th>timestamp</th>\n",
       "      <th>hist</th>\n",
       "    </tr>\n",
       "  </thead>\n",
       "  <tbody>\n",
       "    <tr>\n",
       "      <th>104108</th>\n",
       "      <td>0015a82c2db000af6aaaf3ae2ecb0532</td>\n",
       "      <td>santo andre</td>\n",
       "      <td>201710</td>\n",
       "      <td>10</td>\n",
       "      <td>3</td>\n",
       "      <td>8</td>\n",
       "      <td>SP</td>\n",
       "      <td>small_appliances</td>\n",
       "      <td>895.0</td>\n",
       "      <td>7f39ba4c9052be115350065d07583cac</td>\n",
       "      <td>2017-10-18</td>\n",
       "      <td>315.0</td>\n",
       "    </tr>\n",
       "    <tr>\n",
       "      <th>104109</th>\n",
       "      <td>0015a82c2db000af6aaaf3ae2ecb0532</td>\n",
       "      <td>santo andre</td>\n",
       "      <td>201710</td>\n",
       "      <td>10</td>\n",
       "      <td>4</td>\n",
       "      <td>13</td>\n",
       "      <td>SP</td>\n",
       "      <td>small_appliances</td>\n",
       "      <td>895.0</td>\n",
       "      <td>9dc8d1a6f16f1b89874c29c9d8d30447</td>\n",
       "      <td>2017-10-12</td>\n",
       "      <td>321.0</td>\n",
       "    </tr>\n",
       "    <tr>\n",
       "      <th>104110</th>\n",
       "      <td>0015a82c2db000af6aaaf3ae2ecb0532</td>\n",
       "      <td>santo andre</td>\n",
       "      <td>201709</td>\n",
       "      <td>9</td>\n",
       "      <td>2</td>\n",
       "      <td>22</td>\n",
       "      <td>SP</td>\n",
       "      <td>small_appliances</td>\n",
       "      <td>895.0</td>\n",
       "      <td>d455a8cb295653b55abda06d434ab492</td>\n",
       "      <td>2017-09-26</td>\n",
       "      <td>337.0</td>\n",
       "    </tr>\n",
       "  </tbody>\n",
       "</table>\n",
       "</div>"
      ],
      "text/plain": [
       "                               seller_id  seller_city  year_month  month  day  \\\n",
       "104108  0015a82c2db000af6aaaf3ae2ecb0532  santo andre      201710     10    3   \n",
       "104109  0015a82c2db000af6aaaf3ae2ecb0532  santo andre      201710     10    4   \n",
       "104110  0015a82c2db000af6aaaf3ae2ecb0532  santo andre      201709      9    2   \n",
       "\n",
       "        hour seller_state product_category_name_english  price  \\\n",
       "104108     8           SP              small_appliances  895.0   \n",
       "104109    13           SP              small_appliances  895.0   \n",
       "104110    22           SP              small_appliances  895.0   \n",
       "\n",
       "                                order_id  timestamp   hist  \n",
       "104108  7f39ba4c9052be115350065d07583cac 2017-10-18  315.0  \n",
       "104109  9dc8d1a6f16f1b89874c29c9d8d30447 2017-10-12  321.0  \n",
       "104110  d455a8cb295653b55abda06d434ab492 2017-09-26  337.0  "
      ]
     },
     "execution_count": 50,
     "metadata": {},
     "output_type": "execute_result"
    }
   ],
   "source": [
    "df[df['seller_id'] == '0015a82c2db000af6aaaf3ae2ecb0532']"
   ]
  },
  {
   "cell_type": "code",
   "execution_count": 51,
   "id": "268d2e1e",
   "metadata": {},
   "outputs": [
    {
     "name": "stdout",
     "output_type": "stream",
     "text": [
      "      recency  frequency  monetary_value\n",
      "0.25    13.00        2.0        219.8000\n",
      "0.50    41.00        8.0        849.5000\n",
      "0.75   195.25       26.0       3538.4475 <class 'pandas.core.frame.DataFrame'>\n"
     ]
    }
   ],
   "source": [
    "# RFM analysis involves categorising R,F and M into 3 or more categories. \n",
    "# Let's create 4 categories based on quartiles \n",
    "# (quartiles roughly divide the sample into 4 segments equal proportion).\n",
    "\n",
    "quartiles = rfmTable.quantile(q=[0.25, 0.50, 0.75])\n",
    "print(quartiles, type(quartiles))"
   ]
  },
  {
   "cell_type": "code",
   "execution_count": 52,
   "id": "fda9c500",
   "metadata": {},
   "outputs": [
    {
     "data": {
      "text/plain": [
       "{'recency': {0.25: 13.0, 0.5: 41.0, 0.75: 195.25},\n",
       " 'frequency': {0.25: 2.0, 0.5: 8.0, 0.75: 26.0},\n",
       " 'monetary_value': {0.25: 219.8, 0.5: 849.5, 0.75: 3538.4475}}"
      ]
     },
     "execution_count": 52,
     "metadata": {},
     "output_type": "execute_result"
    }
   ],
   "source": [
    "quartiles = quartiles.to_dict()\n",
    "quartiles"
   ]
  },
  {
   "cell_type": "code",
   "execution_count": 53,
   "id": "659d2133",
   "metadata": {},
   "outputs": [],
   "source": [
    "# for Recency\n",
    "def RClass(x, p, d):\n",
    "    if x <= d[p][0.25]:\n",
    "        return 1\n",
    "    elif x <= d[p][0.50]:\n",
    "        return 2\n",
    "    elif x <= d[p][0.75]:\n",
    "        return 3\n",
    "    else:\n",
    "        return 4\n",
    "\n",
    "\n",
    "# for Frequency and Monetary value\n",
    "def FMClass(x, p, d):\n",
    "    if x <= d[p][0.25]:\n",
    "        return 4\n",
    "    elif x <= d[p][0.50]:\n",
    "        return 3\n",
    "    elif x <= d[p][0.75]:\n",
    "        return 2\n",
    "    else:\n",
    "        return 1"
   ]
  },
  {
   "cell_type": "code",
   "execution_count": 54,
   "id": "5c2030e7",
   "metadata": {},
   "outputs": [],
   "source": [
    "rfmSeg = rfmTable\n",
    "rfmSeg['R_Quartile'] = rfmSeg['recency'].apply(\n",
    "    RClass, args=('recency', quartiles,))\n",
    "rfmSeg['F_Quartile'] = rfmSeg['frequency'].apply(\n",
    "    FMClass, args=('frequency', quartiles,))\n",
    "rfmSeg['M_Quartile'] = rfmSeg['monetary_value'].apply(\n",
    "    FMClass, args=('monetary_value', quartiles,))"
   ]
  },
  {
   "cell_type": "code",
   "execution_count": 135,
   "id": "676fd2d7",
   "metadata": {},
   "outputs": [],
   "source": [
    "rfmSeg['FMClass'] = rfmSeg.F_Quartile.map(str) \\\n",
    "    + rfmSeg.M_Quartile.map(str)"
   ]
  },
  {
   "cell_type": "code",
   "execution_count": null,
   "id": "eae3ffca",
   "metadata": {},
   "outputs": [],
   "source": [
    "rfmSeg['RFMClass'] = rfmSeg.R_Quartile.map(str) \\\n",
    "    + rfmSeg.F_Quartile.map(str) \\\n",
    "    + rfmSeg.M_Quartile.map(str)"
   ]
  },
  {
   "cell_type": "code",
   "execution_count": 136,
   "id": "b4ee2456",
   "metadata": {},
   "outputs": [
    {
     "data": {
      "text/html": [
       "<div>\n",
       "<style scoped>\n",
       "    .dataframe tbody tr th:only-of-type {\n",
       "        vertical-align: middle;\n",
       "    }\n",
       "\n",
       "    .dataframe tbody tr th {\n",
       "        vertical-align: top;\n",
       "    }\n",
       "\n",
       "    .dataframe thead th {\n",
       "        text-align: right;\n",
       "    }\n",
       "</style>\n",
       "<table border=\"1\" class=\"dataframe\">\n",
       "  <thead>\n",
       "    <tr style=\"text-align: right;\">\n",
       "      <th></th>\n",
       "      <th>recency</th>\n",
       "      <th>frequency</th>\n",
       "      <th>monetary_value</th>\n",
       "      <th>R_Quartile</th>\n",
       "      <th>F_Quartile</th>\n",
       "      <th>M_Quartile</th>\n",
       "      <th>RFMClass</th>\n",
       "      <th>Total Score</th>\n",
       "      <th>SellerID</th>\n",
       "      <th>RFM_Level</th>\n",
       "      <th>FMClass</th>\n",
       "    </tr>\n",
       "    <tr>\n",
       "      <th>seller_id</th>\n",
       "      <th></th>\n",
       "      <th></th>\n",
       "      <th></th>\n",
       "      <th></th>\n",
       "      <th></th>\n",
       "      <th></th>\n",
       "      <th></th>\n",
       "      <th></th>\n",
       "      <th></th>\n",
       "      <th></th>\n",
       "      <th></th>\n",
       "    </tr>\n",
       "  </thead>\n",
       "  <tbody>\n",
       "    <tr>\n",
       "      <th>0015a82c2db000af6aaaf3ae2ecb0532</th>\n",
       "      <td>315.0</td>\n",
       "      <td>3</td>\n",
       "      <td>2685.00</td>\n",
       "      <td>4</td>\n",
       "      <td>3</td>\n",
       "      <td>2</td>\n",
       "      <td>432</td>\n",
       "      <td>9</td>\n",
       "      <td>0015a82c2db000af6aaaf3ae2ecb0532</td>\n",
       "      <td>Worst Sellers</td>\n",
       "      <td>32</td>\n",
       "    </tr>\n",
       "    <tr>\n",
       "      <th>001cca7ae9ae17fb1caed9dfb1094831</th>\n",
       "      <td>48.0</td>\n",
       "      <td>234</td>\n",
       "      <td>24487.03</td>\n",
       "      <td>3</td>\n",
       "      <td>1</td>\n",
       "      <td>1</td>\n",
       "      <td>311</td>\n",
       "      <td>5</td>\n",
       "      <td>001cca7ae9ae17fb1caed9dfb1094831</td>\n",
       "      <td>Best Sellers</td>\n",
       "      <td>11</td>\n",
       "    </tr>\n",
       "    <tr>\n",
       "      <th>002100f778ceb8431b7a1020ff7ab48f</th>\n",
       "      <td>139.0</td>\n",
       "      <td>54</td>\n",
       "      <td>1216.60</td>\n",
       "      <td>3</td>\n",
       "      <td>1</td>\n",
       "      <td>2</td>\n",
       "      <td>312</td>\n",
       "      <td>6</td>\n",
       "      <td>002100f778ceb8431b7a1020ff7ab48f</td>\n",
       "      <td>Potential</td>\n",
       "      <td>12</td>\n",
       "    </tr>\n",
       "    <tr>\n",
       "      <th>004c9cd9d87a3c30c522c48c4fc07416</th>\n",
       "      <td>120.0</td>\n",
       "      <td>156</td>\n",
       "      <td>17698.71</td>\n",
       "      <td>3</td>\n",
       "      <td>1</td>\n",
       "      <td>1</td>\n",
       "      <td>311</td>\n",
       "      <td>5</td>\n",
       "      <td>004c9cd9d87a3c30c522c48c4fc07416</td>\n",
       "      <td>Best Sellers</td>\n",
       "      <td>11</td>\n",
       "    </tr>\n",
       "    <tr>\n",
       "      <th>00720abe85ba0859807595bbf045a33b</th>\n",
       "      <td>26.0</td>\n",
       "      <td>26</td>\n",
       "      <td>1007.50</td>\n",
       "      <td>2</td>\n",
       "      <td>2</td>\n",
       "      <td>2</td>\n",
       "      <td>222</td>\n",
       "      <td>6</td>\n",
       "      <td>00720abe85ba0859807595bbf045a33b</td>\n",
       "      <td>Potential</td>\n",
       "      <td>22</td>\n",
       "    </tr>\n",
       "  </tbody>\n",
       "</table>\n",
       "</div>"
      ],
      "text/plain": [
       "                                  recency  frequency  monetary_value  \\\n",
       "seller_id                                                              \n",
       "0015a82c2db000af6aaaf3ae2ecb0532    315.0          3         2685.00   \n",
       "001cca7ae9ae17fb1caed9dfb1094831     48.0        234        24487.03   \n",
       "002100f778ceb8431b7a1020ff7ab48f    139.0         54         1216.60   \n",
       "004c9cd9d87a3c30c522c48c4fc07416    120.0        156        17698.71   \n",
       "00720abe85ba0859807595bbf045a33b     26.0         26         1007.50   \n",
       "\n",
       "                                  R_Quartile  F_Quartile  M_Quartile RFMClass  \\\n",
       "seller_id                                                                       \n",
       "0015a82c2db000af6aaaf3ae2ecb0532           4           3           2      432   \n",
       "001cca7ae9ae17fb1caed9dfb1094831           3           1           1      311   \n",
       "002100f778ceb8431b7a1020ff7ab48f           3           1           2      312   \n",
       "004c9cd9d87a3c30c522c48c4fc07416           3           1           1      311   \n",
       "00720abe85ba0859807595bbf045a33b           2           2           2      222   \n",
       "\n",
       "                                  Total Score  \\\n",
       "seller_id                                       \n",
       "0015a82c2db000af6aaaf3ae2ecb0532            9   \n",
       "001cca7ae9ae17fb1caed9dfb1094831            5   \n",
       "002100f778ceb8431b7a1020ff7ab48f            6   \n",
       "004c9cd9d87a3c30c522c48c4fc07416            5   \n",
       "00720abe85ba0859807595bbf045a33b            6   \n",
       "\n",
       "                                                          SellerID  \\\n",
       "seller_id                                                            \n",
       "0015a82c2db000af6aaaf3ae2ecb0532  0015a82c2db000af6aaaf3ae2ecb0532   \n",
       "001cca7ae9ae17fb1caed9dfb1094831  001cca7ae9ae17fb1caed9dfb1094831   \n",
       "002100f778ceb8431b7a1020ff7ab48f  002100f778ceb8431b7a1020ff7ab48f   \n",
       "004c9cd9d87a3c30c522c48c4fc07416  004c9cd9d87a3c30c522c48c4fc07416   \n",
       "00720abe85ba0859807595bbf045a33b  00720abe85ba0859807595bbf045a33b   \n",
       "\n",
       "                                      RFM_Level FMClass  \n",
       "seller_id                                                \n",
       "0015a82c2db000af6aaaf3ae2ecb0532  Worst Sellers      32  \n",
       "001cca7ae9ae17fb1caed9dfb1094831   Best Sellers      11  \n",
       "002100f778ceb8431b7a1020ff7ab48f      Potential      12  \n",
       "004c9cd9d87a3c30c522c48c4fc07416   Best Sellers      11  \n",
       "00720abe85ba0859807595bbf045a33b      Potential      22  "
      ]
     },
     "execution_count": 136,
     "metadata": {},
     "output_type": "execute_result"
    }
   ],
   "source": [
    "rfmSeg.head()"
   ]
  },
  {
   "cell_type": "code",
   "execution_count": 58,
   "id": "2f976bfa",
   "metadata": {},
   "outputs": [
    {
     "data": {
      "text/html": [
       "<div>\n",
       "<style scoped>\n",
       "    .dataframe tbody tr th:only-of-type {\n",
       "        vertical-align: middle;\n",
       "    }\n",
       "\n",
       "    .dataframe tbody tr th {\n",
       "        vertical-align: top;\n",
       "    }\n",
       "\n",
       "    .dataframe thead th {\n",
       "        text-align: right;\n",
       "    }\n",
       "</style>\n",
       "<table border=\"1\" class=\"dataframe\">\n",
       "  <thead>\n",
       "    <tr style=\"text-align: right;\">\n",
       "      <th></th>\n",
       "      <th>recency</th>\n",
       "      <th>frequency</th>\n",
       "      <th>monetary_value</th>\n",
       "      <th>R_Quartile</th>\n",
       "      <th>F_Quartile</th>\n",
       "      <th>M_Quartile</th>\n",
       "      <th>RFMClass</th>\n",
       "    </tr>\n",
       "    <tr>\n",
       "      <th>seller_id</th>\n",
       "      <th></th>\n",
       "      <th></th>\n",
       "      <th></th>\n",
       "      <th></th>\n",
       "      <th></th>\n",
       "      <th></th>\n",
       "      <th></th>\n",
       "    </tr>\n",
       "  </thead>\n",
       "  <tbody>\n",
       "    <tr>\n",
       "      <th>4869f7a5dfa277a7dca6462dcf3b52b2</th>\n",
       "      <td>5.0</td>\n",
       "      <td>1148</td>\n",
       "      <td>226987.93</td>\n",
       "      <td>1</td>\n",
       "      <td>1</td>\n",
       "      <td>1</td>\n",
       "      <td>111</td>\n",
       "    </tr>\n",
       "    <tr>\n",
       "      <th>53243585a1d6dc2643021fd1853d8905</th>\n",
       "      <td>8.0</td>\n",
       "      <td>400</td>\n",
       "      <td>217940.44</td>\n",
       "      <td>1</td>\n",
       "      <td>1</td>\n",
       "      <td>1</td>\n",
       "      <td>111</td>\n",
       "    </tr>\n",
       "    <tr>\n",
       "      <th>4a3ca9315b744ce9f8e9374361493884</th>\n",
       "      <td>2.0</td>\n",
       "      <td>1949</td>\n",
       "      <td>196882.12</td>\n",
       "      <td>1</td>\n",
       "      <td>1</td>\n",
       "      <td>1</td>\n",
       "      <td>111</td>\n",
       "    </tr>\n",
       "    <tr>\n",
       "      <th>fa1c13f2614d7b5c4749cbc52fecda94</th>\n",
       "      <td>0.0</td>\n",
       "      <td>579</td>\n",
       "      <td>190917.14</td>\n",
       "      <td>1</td>\n",
       "      <td>1</td>\n",
       "      <td>1</td>\n",
       "      <td>111</td>\n",
       "    </tr>\n",
       "    <tr>\n",
       "      <th>da8622b14eb17ae2831f4ac5b9dab84a</th>\n",
       "      <td>1.0</td>\n",
       "      <td>1548</td>\n",
       "      <td>159816.87</td>\n",
       "      <td>1</td>\n",
       "      <td>1</td>\n",
       "      <td>1</td>\n",
       "      <td>111</td>\n",
       "    </tr>\n",
       "    <tr>\n",
       "      <th>...</th>\n",
       "      <td>...</td>\n",
       "      <td>...</td>\n",
       "      <td>...</td>\n",
       "      <td>...</td>\n",
       "      <td>...</td>\n",
       "      <td>...</td>\n",
       "      <td>...</td>\n",
       "    </tr>\n",
       "    <tr>\n",
       "      <th>344223b2a90784f64136a8a5da012e7f</th>\n",
       "      <td>224.0</td>\n",
       "      <td>1</td>\n",
       "      <td>10.90</td>\n",
       "      <td>4</td>\n",
       "      <td>4</td>\n",
       "      <td>4</td>\n",
       "      <td>444</td>\n",
       "    </tr>\n",
       "    <tr>\n",
       "      <th>c18309219e789960add0b2255ca4b091</th>\n",
       "      <td>267.0</td>\n",
       "      <td>1</td>\n",
       "      <td>9.90</td>\n",
       "      <td>4</td>\n",
       "      <td>4</td>\n",
       "      <td>4</td>\n",
       "      <td>444</td>\n",
       "    </tr>\n",
       "    <tr>\n",
       "      <th>0f94588695d71662beec8d883ffacf09</th>\n",
       "      <td>546.0</td>\n",
       "      <td>1</td>\n",
       "      <td>9.00</td>\n",
       "      <td>4</td>\n",
       "      <td>4</td>\n",
       "      <td>4</td>\n",
       "      <td>444</td>\n",
       "    </tr>\n",
       "    <tr>\n",
       "      <th>ad14615bdd492b01b0d97922e87cb87f</th>\n",
       "      <td>565.0</td>\n",
       "      <td>1</td>\n",
       "      <td>8.25</td>\n",
       "      <td>4</td>\n",
       "      <td>4</td>\n",
       "      <td>4</td>\n",
       "      <td>444</td>\n",
       "    </tr>\n",
       "    <tr>\n",
       "      <th>77128dec4bec4878c37ab7d6169d6f26</th>\n",
       "      <td>532.0</td>\n",
       "      <td>1</td>\n",
       "      <td>6.50</td>\n",
       "      <td>4</td>\n",
       "      <td>4</td>\n",
       "      <td>4</td>\n",
       "      <td>444</td>\n",
       "    </tr>\n",
       "  </tbody>\n",
       "</table>\n",
       "<p>2912 rows × 7 columns</p>\n",
       "</div>"
      ],
      "text/plain": [
       "                                  recency  frequency  monetary_value  \\\n",
       "seller_id                                                              \n",
       "4869f7a5dfa277a7dca6462dcf3b52b2      5.0       1148       226987.93   \n",
       "53243585a1d6dc2643021fd1853d8905      8.0        400       217940.44   \n",
       "4a3ca9315b744ce9f8e9374361493884      2.0       1949       196882.12   \n",
       "fa1c13f2614d7b5c4749cbc52fecda94      0.0        579       190917.14   \n",
       "da8622b14eb17ae2831f4ac5b9dab84a      1.0       1548       159816.87   \n",
       "...                                   ...        ...             ...   \n",
       "344223b2a90784f64136a8a5da012e7f    224.0          1           10.90   \n",
       "c18309219e789960add0b2255ca4b091    267.0          1            9.90   \n",
       "0f94588695d71662beec8d883ffacf09    546.0          1            9.00   \n",
       "ad14615bdd492b01b0d97922e87cb87f    565.0          1            8.25   \n",
       "77128dec4bec4878c37ab7d6169d6f26    532.0          1            6.50   \n",
       "\n",
       "                                  R_Quartile  F_Quartile  M_Quartile RFMClass  \n",
       "seller_id                                                                      \n",
       "4869f7a5dfa277a7dca6462dcf3b52b2           1           1           1      111  \n",
       "53243585a1d6dc2643021fd1853d8905           1           1           1      111  \n",
       "4a3ca9315b744ce9f8e9374361493884           1           1           1      111  \n",
       "fa1c13f2614d7b5c4749cbc52fecda94           1           1           1      111  \n",
       "da8622b14eb17ae2831f4ac5b9dab84a           1           1           1      111  \n",
       "...                                      ...         ...         ...      ...  \n",
       "344223b2a90784f64136a8a5da012e7f           4           4           4      444  \n",
       "c18309219e789960add0b2255ca4b091           4           4           4      444  \n",
       "0f94588695d71662beec8d883ffacf09           4           4           4      444  \n",
       "ad14615bdd492b01b0d97922e87cb87f           4           4           4      444  \n",
       "77128dec4bec4878c37ab7d6169d6f26           4           4           4      444  \n",
       "\n",
       "[2912 rows x 7 columns]"
      ]
     },
     "execution_count": 58,
     "metadata": {},
     "output_type": "execute_result"
    }
   ],
   "source": [
    "rfmSeg.sort_values(by=['RFMClass', 'monetary_value'], ascending=[True, False])"
   ]
  },
  {
   "cell_type": "code",
   "execution_count": 123,
   "id": "01154448",
   "metadata": {},
   "outputs": [
    {
     "data": {
      "text/plain": [
       "RFMClass\n",
       "111    20386.837666\n",
       "311    16593.388488\n",
       "211    14643.432117\n",
       "411     9355.228400\n",
       "421     8650.792857\n",
       "321     8011.563462\n",
       "121     7585.111071\n",
       "331     7125.475000\n",
       "221     6786.530244\n",
       "241     6729.000000\n",
       "231     6468.193333\n",
       "431     5819.696154\n",
       "341     5598.000000\n",
       "441     5189.225000\n",
       "131     4965.490000\n",
       "312     2475.369667\n",
       "212     2310.599487\n",
       "112     2283.183889\n",
       "412     2118.791818\n",
       "322     1827.456333\n",
       "222     1827.170091\n",
       "122     1800.884000\n",
       "422     1611.288519\n",
       "332     1552.601379\n",
       "442     1552.328000\n",
       "232     1546.905455\n",
       "242     1437.624444\n",
       "432     1429.612800\n",
       "132     1408.981304\n",
       "342     1381.106429\n",
       "142     1155.176000\n",
       "113      807.222500\n",
       "313      694.900000\n",
       "223      596.270702\n",
       "123      591.528772\n",
       "323      580.166279\n",
       "423      517.675263\n",
       "333      500.771398\n",
       "133      486.863380\n",
       "233      477.859574\n",
       "413      455.033333\n",
       "433      426.435481\n",
       "243      419.777931\n",
       "343      417.283469\n",
       "443      402.506515\n",
       "143      372.804737\n",
       "424      187.096667\n",
       "124      164.733333\n",
       "224      163.376667\n",
       "134      144.709429\n",
       "234      143.070811\n",
       "334      136.475510\n",
       "434      133.211636\n",
       "244       98.906329\n",
       "344       96.634845\n",
       "144       92.253519\n",
       "444       89.789000\n",
       "Name: monetary_value, dtype: float64"
      ]
     },
     "execution_count": 123,
     "metadata": {},
     "output_type": "execute_result"
    }
   ],
   "source": [
    "rfmSeg.groupby('RFMClass').agg('monetary_value').mean().sort_values(ascending=False)"
   ]
  },
  {
   "cell_type": "code",
   "execution_count": 124,
   "id": "9350878e",
   "metadata": {},
   "outputs": [],
   "source": [
    "def rfm_level(df):\n",
    "    if (0 < df['R_Quartile'] < 4 and df['F_Quartile'] == 1 and df['M_Quartile'] == 1):\n",
    "        return 'Best Sellers'\n",
    "    elif df['R_Quartile'] == 4:\n",
    "        return 'Worst Sellers'\n",
    "    elif df['M_Quartile'] == 1:\n",
    "        return 'Loyal Sellers'\n",
    "    elif df['M_Quartile'] == 2:\n",
    "        return 'Potential'\n",
    "    else:\n",
    "        return 'Others'"
   ]
  },
  {
   "cell_type": "code",
   "execution_count": 63,
   "id": "1db3a93b",
   "metadata": {},
   "outputs": [
    {
     "data": {
      "text/html": [
       "<div>\n",
       "<style scoped>\n",
       "    .dataframe tbody tr th:only-of-type {\n",
       "        vertical-align: middle;\n",
       "    }\n",
       "\n",
       "    .dataframe tbody tr th {\n",
       "        vertical-align: top;\n",
       "    }\n",
       "\n",
       "    .dataframe thead th {\n",
       "        text-align: right;\n",
       "    }\n",
       "</style>\n",
       "<table border=\"1\" class=\"dataframe\">\n",
       "  <thead>\n",
       "    <tr style=\"text-align: right;\">\n",
       "      <th></th>\n",
       "      <th>recency</th>\n",
       "      <th>frequency</th>\n",
       "      <th>monetary_value</th>\n",
       "      <th>R_Quartile</th>\n",
       "      <th>F_Quartile</th>\n",
       "      <th>M_Quartile</th>\n",
       "      <th>RFMClass</th>\n",
       "      <th>Total Score</th>\n",
       "    </tr>\n",
       "    <tr>\n",
       "      <th>seller_id</th>\n",
       "      <th></th>\n",
       "      <th></th>\n",
       "      <th></th>\n",
       "      <th></th>\n",
       "      <th></th>\n",
       "      <th></th>\n",
       "      <th></th>\n",
       "      <th></th>\n",
       "    </tr>\n",
       "  </thead>\n",
       "  <tbody>\n",
       "    <tr>\n",
       "      <th>0015a82c2db000af6aaaf3ae2ecb0532</th>\n",
       "      <td>315.0</td>\n",
       "      <td>3</td>\n",
       "      <td>2685.00</td>\n",
       "      <td>4</td>\n",
       "      <td>3</td>\n",
       "      <td>2</td>\n",
       "      <td>432</td>\n",
       "      <td>9</td>\n",
       "    </tr>\n",
       "    <tr>\n",
       "      <th>001cca7ae9ae17fb1caed9dfb1094831</th>\n",
       "      <td>48.0</td>\n",
       "      <td>234</td>\n",
       "      <td>24487.03</td>\n",
       "      <td>3</td>\n",
       "      <td>1</td>\n",
       "      <td>1</td>\n",
       "      <td>311</td>\n",
       "      <td>5</td>\n",
       "    </tr>\n",
       "    <tr>\n",
       "      <th>002100f778ceb8431b7a1020ff7ab48f</th>\n",
       "      <td>139.0</td>\n",
       "      <td>54</td>\n",
       "      <td>1216.60</td>\n",
       "      <td>3</td>\n",
       "      <td>1</td>\n",
       "      <td>2</td>\n",
       "      <td>312</td>\n",
       "      <td>6</td>\n",
       "    </tr>\n",
       "    <tr>\n",
       "      <th>004c9cd9d87a3c30c522c48c4fc07416</th>\n",
       "      <td>120.0</td>\n",
       "      <td>156</td>\n",
       "      <td>17698.71</td>\n",
       "      <td>3</td>\n",
       "      <td>1</td>\n",
       "      <td>1</td>\n",
       "      <td>311</td>\n",
       "      <td>5</td>\n",
       "    </tr>\n",
       "    <tr>\n",
       "      <th>00720abe85ba0859807595bbf045a33b</th>\n",
       "      <td>26.0</td>\n",
       "      <td>26</td>\n",
       "      <td>1007.50</td>\n",
       "      <td>2</td>\n",
       "      <td>2</td>\n",
       "      <td>2</td>\n",
       "      <td>222</td>\n",
       "      <td>6</td>\n",
       "    </tr>\n",
       "  </tbody>\n",
       "</table>\n",
       "</div>"
      ],
      "text/plain": [
       "                                  recency  frequency  monetary_value  \\\n",
       "seller_id                                                              \n",
       "0015a82c2db000af6aaaf3ae2ecb0532    315.0          3         2685.00   \n",
       "001cca7ae9ae17fb1caed9dfb1094831     48.0        234        24487.03   \n",
       "002100f778ceb8431b7a1020ff7ab48f    139.0         54         1216.60   \n",
       "004c9cd9d87a3c30c522c48c4fc07416    120.0        156        17698.71   \n",
       "00720abe85ba0859807595bbf045a33b     26.0         26         1007.50   \n",
       "\n",
       "                                  R_Quartile  F_Quartile  M_Quartile RFMClass  \\\n",
       "seller_id                                                                       \n",
       "0015a82c2db000af6aaaf3ae2ecb0532           4           3           2      432   \n",
       "001cca7ae9ae17fb1caed9dfb1094831           3           1           1      311   \n",
       "002100f778ceb8431b7a1020ff7ab48f           3           1           2      312   \n",
       "004c9cd9d87a3c30c522c48c4fc07416           3           1           1      311   \n",
       "00720abe85ba0859807595bbf045a33b           2           2           2      222   \n",
       "\n",
       "                                  Total Score  \n",
       "seller_id                                      \n",
       "0015a82c2db000af6aaaf3ae2ecb0532            9  \n",
       "001cca7ae9ae17fb1caed9dfb1094831            5  \n",
       "002100f778ceb8431b7a1020ff7ab48f            6  \n",
       "004c9cd9d87a3c30c522c48c4fc07416            5  \n",
       "00720abe85ba0859807595bbf045a33b            6  "
      ]
     },
     "metadata": {},
     "output_type": "display_data"
    },
    {
     "name": "stdout",
     "output_type": "stream",
     "text": [
      "<class 'pandas.core.frame.DataFrame'>\n",
      "Index: 2912 entries, 0015a82c2db000af6aaaf3ae2ecb0532 to ffff564a4f9085cd26170f4732393726\n",
      "Data columns (total 8 columns):\n",
      " #   Column          Non-Null Count  Dtype  \n",
      "---  ------          --------------  -----  \n",
      " 0   recency         2912 non-null   float64\n",
      " 1   frequency       2912 non-null   int64  \n",
      " 2   monetary_value  2912 non-null   float64\n",
      " 3   R_Quartile      2912 non-null   int64  \n",
      " 4   F_Quartile      2912 non-null   int64  \n",
      " 5   M_Quartile      2912 non-null   int64  \n",
      " 6   RFMClass        2912 non-null   object \n",
      " 7   Total Score     2912 non-null   int64  \n",
      "dtypes: float64(2), int64(5), object(1)\n",
      "memory usage: 204.8+ KB\n",
      "None\n"
     ]
    }
   ],
   "source": [
    "# Total Score values are between 3 and 12\n",
    "rfmSeg['Total Score'] = rfmSeg['R_Quartile'] + \\\n",
    "    rfmSeg['F_Quartile'] + rfmSeg['M_Quartile']\n",
    "display(rfmSeg.head()) \n",
    "print(rfmSeg.info())"
   ]
  },
  {
   "cell_type": "code",
   "execution_count": 126,
   "id": "a8e2b9df",
   "metadata": {},
   "outputs": [],
   "source": [
    "rfmSeg['RFM_Level'] = rfmSeg.apply(rfm_level, axis=1)"
   ]
  },
  {
   "cell_type": "code",
   "execution_count": 127,
   "id": "d968ae45",
   "metadata": {},
   "outputs": [
    {
     "data": {
      "text/html": [
       "<div>\n",
       "<style scoped>\n",
       "    .dataframe tbody tr th:only-of-type {\n",
       "        vertical-align: middle;\n",
       "    }\n",
       "\n",
       "    .dataframe tbody tr th {\n",
       "        vertical-align: top;\n",
       "    }\n",
       "\n",
       "    .dataframe thead th {\n",
       "        text-align: right;\n",
       "    }\n",
       "</style>\n",
       "<table border=\"1\" class=\"dataframe\">\n",
       "  <thead>\n",
       "    <tr style=\"text-align: right;\">\n",
       "      <th></th>\n",
       "      <th>recency</th>\n",
       "      <th>frequency</th>\n",
       "      <th>monetary_value</th>\n",
       "      <th>R_Quartile</th>\n",
       "      <th>F_Quartile</th>\n",
       "      <th>M_Quartile</th>\n",
       "      <th>RFMClass</th>\n",
       "      <th>Total Score</th>\n",
       "      <th>SellerID</th>\n",
       "      <th>RFM_Level</th>\n",
       "    </tr>\n",
       "    <tr>\n",
       "      <th>seller_id</th>\n",
       "      <th></th>\n",
       "      <th></th>\n",
       "      <th></th>\n",
       "      <th></th>\n",
       "      <th></th>\n",
       "      <th></th>\n",
       "      <th></th>\n",
       "      <th></th>\n",
       "      <th></th>\n",
       "      <th></th>\n",
       "    </tr>\n",
       "  </thead>\n",
       "  <tbody>\n",
       "    <tr>\n",
       "      <th>0015a82c2db000af6aaaf3ae2ecb0532</th>\n",
       "      <td>315.0</td>\n",
       "      <td>3</td>\n",
       "      <td>2685.00</td>\n",
       "      <td>4</td>\n",
       "      <td>3</td>\n",
       "      <td>2</td>\n",
       "      <td>432</td>\n",
       "      <td>9</td>\n",
       "      <td>0015a82c2db000af6aaaf3ae2ecb0532</td>\n",
       "      <td>Worst Sellers</td>\n",
       "    </tr>\n",
       "    <tr>\n",
       "      <th>001cca7ae9ae17fb1caed9dfb1094831</th>\n",
       "      <td>48.0</td>\n",
       "      <td>234</td>\n",
       "      <td>24487.03</td>\n",
       "      <td>3</td>\n",
       "      <td>1</td>\n",
       "      <td>1</td>\n",
       "      <td>311</td>\n",
       "      <td>5</td>\n",
       "      <td>001cca7ae9ae17fb1caed9dfb1094831</td>\n",
       "      <td>Best Sellers</td>\n",
       "    </tr>\n",
       "    <tr>\n",
       "      <th>002100f778ceb8431b7a1020ff7ab48f</th>\n",
       "      <td>139.0</td>\n",
       "      <td>54</td>\n",
       "      <td>1216.60</td>\n",
       "      <td>3</td>\n",
       "      <td>1</td>\n",
       "      <td>2</td>\n",
       "      <td>312</td>\n",
       "      <td>6</td>\n",
       "      <td>002100f778ceb8431b7a1020ff7ab48f</td>\n",
       "      <td>Potential</td>\n",
       "    </tr>\n",
       "    <tr>\n",
       "      <th>004c9cd9d87a3c30c522c48c4fc07416</th>\n",
       "      <td>120.0</td>\n",
       "      <td>156</td>\n",
       "      <td>17698.71</td>\n",
       "      <td>3</td>\n",
       "      <td>1</td>\n",
       "      <td>1</td>\n",
       "      <td>311</td>\n",
       "      <td>5</td>\n",
       "      <td>004c9cd9d87a3c30c522c48c4fc07416</td>\n",
       "      <td>Best Sellers</td>\n",
       "    </tr>\n",
       "    <tr>\n",
       "      <th>00720abe85ba0859807595bbf045a33b</th>\n",
       "      <td>26.0</td>\n",
       "      <td>26</td>\n",
       "      <td>1007.50</td>\n",
       "      <td>2</td>\n",
       "      <td>2</td>\n",
       "      <td>2</td>\n",
       "      <td>222</td>\n",
       "      <td>6</td>\n",
       "      <td>00720abe85ba0859807595bbf045a33b</td>\n",
       "      <td>Potential</td>\n",
       "    </tr>\n",
       "  </tbody>\n",
       "</table>\n",
       "</div>"
      ],
      "text/plain": [
       "                                  recency  frequency  monetary_value  \\\n",
       "seller_id                                                              \n",
       "0015a82c2db000af6aaaf3ae2ecb0532    315.0          3         2685.00   \n",
       "001cca7ae9ae17fb1caed9dfb1094831     48.0        234        24487.03   \n",
       "002100f778ceb8431b7a1020ff7ab48f    139.0         54         1216.60   \n",
       "004c9cd9d87a3c30c522c48c4fc07416    120.0        156        17698.71   \n",
       "00720abe85ba0859807595bbf045a33b     26.0         26         1007.50   \n",
       "\n",
       "                                  R_Quartile  F_Quartile  M_Quartile RFMClass  \\\n",
       "seller_id                                                                       \n",
       "0015a82c2db000af6aaaf3ae2ecb0532           4           3           2      432   \n",
       "001cca7ae9ae17fb1caed9dfb1094831           3           1           1      311   \n",
       "002100f778ceb8431b7a1020ff7ab48f           3           1           2      312   \n",
       "004c9cd9d87a3c30c522c48c4fc07416           3           1           1      311   \n",
       "00720abe85ba0859807595bbf045a33b           2           2           2      222   \n",
       "\n",
       "                                  Total Score  \\\n",
       "seller_id                                       \n",
       "0015a82c2db000af6aaaf3ae2ecb0532            9   \n",
       "001cca7ae9ae17fb1caed9dfb1094831            5   \n",
       "002100f778ceb8431b7a1020ff7ab48f            6   \n",
       "004c9cd9d87a3c30c522c48c4fc07416            5   \n",
       "00720abe85ba0859807595bbf045a33b            6   \n",
       "\n",
       "                                                          SellerID  \\\n",
       "seller_id                                                            \n",
       "0015a82c2db000af6aaaf3ae2ecb0532  0015a82c2db000af6aaaf3ae2ecb0532   \n",
       "001cca7ae9ae17fb1caed9dfb1094831  001cca7ae9ae17fb1caed9dfb1094831   \n",
       "002100f778ceb8431b7a1020ff7ab48f  002100f778ceb8431b7a1020ff7ab48f   \n",
       "004c9cd9d87a3c30c522c48c4fc07416  004c9cd9d87a3c30c522c48c4fc07416   \n",
       "00720abe85ba0859807595bbf045a33b  00720abe85ba0859807595bbf045a33b   \n",
       "\n",
       "                                      RFM_Level  \n",
       "seller_id                                        \n",
       "0015a82c2db000af6aaaf3ae2ecb0532  Worst Sellers  \n",
       "001cca7ae9ae17fb1caed9dfb1094831   Best Sellers  \n",
       "002100f778ceb8431b7a1020ff7ab48f      Potential  \n",
       "004c9cd9d87a3c30c522c48c4fc07416   Best Sellers  \n",
       "00720abe85ba0859807595bbf045a33b      Potential  "
      ]
     },
     "execution_count": 127,
     "metadata": {},
     "output_type": "execute_result"
    }
   ],
   "source": [
    "rfmSeg.head()"
   ]
  },
  {
   "cell_type": "code",
   "execution_count": 130,
   "id": "bc8cc0c2",
   "metadata": {
    "scrolled": true
   },
   "outputs": [
    {
     "data": {
      "text/plain": [
       "<AxesSubplot:xlabel='RFM_Level', ylabel='SellerID'>"
      ]
     },
     "execution_count": 130,
     "metadata": {},
     "output_type": "execute_result"
    },
    {
     "data": {
      "image/png": "[encoded data removed]",
      "text/plain": [
       "<Figure size 1008x576 with 1 Axes>"
      ]
     },
     "metadata": {
      "needs_background": "light"
     },
     "output_type": "display_data"
    }
   ],
   "source": [
    "# We are going to do a small visualization of our segments\n",
    "sq1 = rfmSeg.groupby('RFM_Level')['SellerID'].nunique() \\\n",
    "            .sort_values(ascending=False).reset_index()\n",
    "plt.figure(figsize=(14, 8))\n",
    "# sq1.drop([0], inplace=True)\n",
    "sns.barplot(data=sq1, x='RFM_Level', y='SellerID', palette='Greens_d')"
   ]
  },
  {
   "cell_type": "code",
   "execution_count": 137,
   "id": "6762e873",
   "metadata": {},
   "outputs": [],
   "source": [
    "rfmSeg.to_csv(os.path.join(os.getcwd(), 'result_datas', 'rfmTable.tsv'), \n",
    "                                  sep='\\t', \n",
    "                                  decimal=',')"
   ]
  },
  {
   "cell_type": "code",
   "execution_count": 106,
   "id": "c987c279",
   "metadata": {},
   "outputs": [],
   "source": [
    "rfmSeg[rfmSeg['RFMClass'] == '111'].sort_values(\n",
    "    'monetary_value', ascending=False).head(5)\n",
    "rfmSeg['SellerID'] = pd.Series(rfmSeg.index.values, index=rfmSeg.index)\n",
    "# print(rfmSeg)"
   ]
  },
  {
   "cell_type": "code",
   "execution_count": 115,
   "id": "9b5317e8",
   "metadata": {},
   "outputs": [],
   "source": [
    "sellerSegmentation = rfmSeg.groupby('RFMClass').agg(\n",
    "    {'RFMClass': lambda x: len(x), 'monetary_value': lambda x: sum(x)})\n",
    "sellerSegmentation.rename(\n",
    "    columns={'RFMClass': 'ClassName', 'monetary_value': 'MonetaryValue'}, inplace=True)"
   ]
  },
  {
   "cell_type": "code",
   "execution_count": 116,
   "id": "b2d64d32",
   "metadata": {},
   "outputs": [
    {
     "name": "stdout",
     "output_type": "stream",
     "text": [
      "Summary..\n",
      "Number of groups:  57\n",
      "Group names:  ['111' '112' '113' '121' '122' '123' '124' '131' '132' '133' '134' '142'\n",
      " '143' '144' '211' '212' '221' '222' '223' '224' '231' '232' '233' '234'\n",
      " '241' '242' '243' '244' '311' '312' '313' '321' '322' '323' '331' '332'\n",
      " '333' '334' '341' '342' '343' '344' '411' '412' '413' '421' '422' '423'\n",
      " '424' '431' '432' '433' '434' '441' '442' '443' '444']\n"
     ]
    }
   ],
   "source": [
    "print('Summary..')\n",
    "print('Number of groups: ', sellerSegmentation.shape[0])\n",
    "print('Group names: ', sellerSegmentation.index.values)"
   ]
  },
  {
   "cell_type": "code",
   "execution_count": 117,
   "id": "5c4b276c",
   "metadata": {},
   "outputs": [
    {
     "data": {
      "text/html": [
       "<div>\n",
       "<style scoped>\n",
       "    .dataframe tbody tr th:only-of-type {\n",
       "        vertical-align: middle;\n",
       "    }\n",
       "\n",
       "    .dataframe tbody tr th {\n",
       "        vertical-align: top;\n",
       "    }\n",
       "\n",
       "    .dataframe thead th {\n",
       "        text-align: right;\n",
       "    }\n",
       "</style>\n",
       "<table border=\"1\" class=\"dataframe\">\n",
       "  <thead>\n",
       "    <tr style=\"text-align: right;\">\n",
       "      <th></th>\n",
       "      <th>ClassName</th>\n",
       "      <th>MonetaryValue</th>\n",
       "      <th>RFMClass</th>\n",
       "    </tr>\n",
       "    <tr>\n",
       "      <th>RFMClass</th>\n",
       "      <th></th>\n",
       "      <th></th>\n",
       "      <th></th>\n",
       "    </tr>\n",
       "  </thead>\n",
       "  <tbody>\n",
       "    <tr>\n",
       "      <th>111</th>\n",
       "      <td>317</td>\n",
       "      <td>6462627.54</td>\n",
       "      <td>111</td>\n",
       "    </tr>\n",
       "    <tr>\n",
       "      <th>112</th>\n",
       "      <td>54</td>\n",
       "      <td>123291.93</td>\n",
       "      <td>112</td>\n",
       "    </tr>\n",
       "    <tr>\n",
       "      <th>113</th>\n",
       "      <td>4</td>\n",
       "      <td>3228.89</td>\n",
       "      <td>113</td>\n",
       "    </tr>\n",
       "    <tr>\n",
       "      <th>121</th>\n",
       "      <td>28</td>\n",
       "      <td>212383.11</td>\n",
       "      <td>121</td>\n",
       "    </tr>\n",
       "    <tr>\n",
       "      <th>122</th>\n",
       "      <td>105</td>\n",
       "      <td>189092.82</td>\n",
       "      <td>122</td>\n",
       "    </tr>\n",
       "    <tr>\n",
       "      <th>123</th>\n",
       "      <td>57</td>\n",
       "      <td>33717.14</td>\n",
       "      <td>123</td>\n",
       "    </tr>\n",
       "    <tr>\n",
       "      <th>124</th>\n",
       "      <td>3</td>\n",
       "      <td>494.20</td>\n",
       "      <td>124</td>\n",
       "    </tr>\n",
       "    <tr>\n",
       "      <th>131</th>\n",
       "      <td>2</td>\n",
       "      <td>9930.98</td>\n",
       "      <td>131</td>\n",
       "    </tr>\n",
       "    <tr>\n",
       "      <th>132</th>\n",
       "      <td>23</td>\n",
       "      <td>32406.57</td>\n",
       "      <td>132</td>\n",
       "    </tr>\n",
       "    <tr>\n",
       "      <th>133</th>\n",
       "      <td>71</td>\n",
       "      <td>34567.30</td>\n",
       "      <td>133</td>\n",
       "    </tr>\n",
       "    <tr>\n",
       "      <th>134</th>\n",
       "      <td>35</td>\n",
       "      <td>5064.83</td>\n",
       "      <td>134</td>\n",
       "    </tr>\n",
       "    <tr>\n",
       "      <th>142</th>\n",
       "      <td>5</td>\n",
       "      <td>5775.88</td>\n",
       "      <td>142</td>\n",
       "    </tr>\n",
       "    <tr>\n",
       "      <th>143</th>\n",
       "      <td>19</td>\n",
       "      <td>7083.29</td>\n",
       "      <td>143</td>\n",
       "    </tr>\n",
       "    <tr>\n",
       "      <th>144</th>\n",
       "      <td>54</td>\n",
       "      <td>4981.69</td>\n",
       "      <td>144</td>\n",
       "    </tr>\n",
       "    <tr>\n",
       "      <th>211</th>\n",
       "      <td>137</td>\n",
       "      <td>2006150.20</td>\n",
       "      <td>211</td>\n",
       "    </tr>\n",
       "    <tr>\n",
       "      <th>212</th>\n",
       "      <td>39</td>\n",
       "      <td>90113.38</td>\n",
       "      <td>212</td>\n",
       "    </tr>\n",
       "    <tr>\n",
       "      <th>221</th>\n",
       "      <td>41</td>\n",
       "      <td>278247.74</td>\n",
       "      <td>221</td>\n",
       "    </tr>\n",
       "    <tr>\n",
       "      <th>222</th>\n",
       "      <td>110</td>\n",
       "      <td>200988.71</td>\n",
       "      <td>222</td>\n",
       "    </tr>\n",
       "    <tr>\n",
       "      <th>223</th>\n",
       "      <td>57</td>\n",
       "      <td>33987.43</td>\n",
       "      <td>223</td>\n",
       "    </tr>\n",
       "    <tr>\n",
       "      <th>224</th>\n",
       "      <td>3</td>\n",
       "      <td>490.13</td>\n",
       "      <td>224</td>\n",
       "    </tr>\n",
       "    <tr>\n",
       "      <th>231</th>\n",
       "      <td>12</td>\n",
       "      <td>77618.32</td>\n",
       "      <td>231</td>\n",
       "    </tr>\n",
       "    <tr>\n",
       "      <th>232</th>\n",
       "      <td>44</td>\n",
       "      <td>68063.84</td>\n",
       "      <td>232</td>\n",
       "    </tr>\n",
       "    <tr>\n",
       "      <th>233</th>\n",
       "      <td>94</td>\n",
       "      <td>44918.80</td>\n",
       "      <td>233</td>\n",
       "    </tr>\n",
       "    <tr>\n",
       "      <th>234</th>\n",
       "      <td>37</td>\n",
       "      <td>5293.62</td>\n",
       "      <td>234</td>\n",
       "    </tr>\n",
       "    <tr>\n",
       "      <th>241</th>\n",
       "      <td>1</td>\n",
       "      <td>6729.00</td>\n",
       "      <td>241</td>\n",
       "    </tr>\n",
       "    <tr>\n",
       "      <th>242</th>\n",
       "      <td>9</td>\n",
       "      <td>12938.62</td>\n",
       "      <td>242</td>\n",
       "    </tr>\n",
       "    <tr>\n",
       "      <th>243</th>\n",
       "      <td>29</td>\n",
       "      <td>12173.56</td>\n",
       "      <td>243</td>\n",
       "    </tr>\n",
       "    <tr>\n",
       "      <th>244</th>\n",
       "      <td>79</td>\n",
       "      <td>7813.60</td>\n",
       "      <td>244</td>\n",
       "    </tr>\n",
       "    <tr>\n",
       "      <th>311</th>\n",
       "      <td>86</td>\n",
       "      <td>1427031.41</td>\n",
       "      <td>311</td>\n",
       "    </tr>\n",
       "    <tr>\n",
       "      <th>312</th>\n",
       "      <td>30</td>\n",
       "      <td>74261.09</td>\n",
       "      <td>312</td>\n",
       "    </tr>\n",
       "    <tr>\n",
       "      <th>313</th>\n",
       "      <td>1</td>\n",
       "      <td>694.90</td>\n",
       "      <td>313</td>\n",
       "    </tr>\n",
       "    <tr>\n",
       "      <th>321</th>\n",
       "      <td>26</td>\n",
       "      <td>208300.65</td>\n",
       "      <td>321</td>\n",
       "    </tr>\n",
       "    <tr>\n",
       "      <th>322</th>\n",
       "      <td>90</td>\n",
       "      <td>164471.07</td>\n",
       "      <td>322</td>\n",
       "    </tr>\n",
       "    <tr>\n",
       "      <th>323</th>\n",
       "      <td>43</td>\n",
       "      <td>24947.15</td>\n",
       "      <td>323</td>\n",
       "    </tr>\n",
       "    <tr>\n",
       "      <th>331</th>\n",
       "      <td>14</td>\n",
       "      <td>99756.65</td>\n",
       "      <td>331</td>\n",
       "    </tr>\n",
       "    <tr>\n",
       "      <th>332</th>\n",
       "      <td>58</td>\n",
       "      <td>90050.88</td>\n",
       "      <td>332</td>\n",
       "    </tr>\n",
       "    <tr>\n",
       "      <th>333</th>\n",
       "      <td>93</td>\n",
       "      <td>46571.74</td>\n",
       "      <td>333</td>\n",
       "    </tr>\n",
       "    <tr>\n",
       "      <th>334</th>\n",
       "      <td>49</td>\n",
       "      <td>6687.30</td>\n",
       "      <td>334</td>\n",
       "    </tr>\n",
       "    <tr>\n",
       "      <th>341</th>\n",
       "      <td>1</td>\n",
       "      <td>5598.00</td>\n",
       "      <td>341</td>\n",
       "    </tr>\n",
       "    <tr>\n",
       "      <th>342</th>\n",
       "      <td>14</td>\n",
       "      <td>19335.49</td>\n",
       "      <td>342</td>\n",
       "    </tr>\n",
       "    <tr>\n",
       "      <th>343</th>\n",
       "      <td>49</td>\n",
       "      <td>20446.89</td>\n",
       "      <td>343</td>\n",
       "    </tr>\n",
       "    <tr>\n",
       "      <th>344</th>\n",
       "      <td>161</td>\n",
       "      <td>15558.21</td>\n",
       "      <td>344</td>\n",
       "    </tr>\n",
       "    <tr>\n",
       "      <th>411</th>\n",
       "      <td>25</td>\n",
       "      <td>233880.71</td>\n",
       "      <td>411</td>\n",
       "    </tr>\n",
       "    <tr>\n",
       "      <th>412</th>\n",
       "      <td>22</td>\n",
       "      <td>46613.42</td>\n",
       "      <td>412</td>\n",
       "    </tr>\n",
       "    <tr>\n",
       "      <th>413</th>\n",
       "      <td>3</td>\n",
       "      <td>1365.10</td>\n",
       "      <td>413</td>\n",
       "    </tr>\n",
       "    <tr>\n",
       "      <th>421</th>\n",
       "      <td>21</td>\n",
       "      <td>181666.65</td>\n",
       "      <td>421</td>\n",
       "    </tr>\n",
       "    <tr>\n",
       "      <th>422</th>\n",
       "      <td>54</td>\n",
       "      <td>87009.58</td>\n",
       "      <td>422</td>\n",
       "    </tr>\n",
       "    <tr>\n",
       "      <th>423</th>\n",
       "      <td>38</td>\n",
       "      <td>19671.66</td>\n",
       "      <td>423</td>\n",
       "    </tr>\n",
       "    <tr>\n",
       "      <th>424</th>\n",
       "      <td>3</td>\n",
       "      <td>561.29</td>\n",
       "      <td>424</td>\n",
       "    </tr>\n",
       "    <tr>\n",
       "      <th>431</th>\n",
       "      <td>13</td>\n",
       "      <td>75656.05</td>\n",
       "      <td>431</td>\n",
       "    </tr>\n",
       "    <tr>\n",
       "      <th>432</th>\n",
       "      <td>50</td>\n",
       "      <td>71480.64</td>\n",
       "      <td>432</td>\n",
       "    </tr>\n",
       "    <tr>\n",
       "      <th>433</th>\n",
       "      <td>104</td>\n",
       "      <td>44349.29</td>\n",
       "      <td>433</td>\n",
       "    </tr>\n",
       "    <tr>\n",
       "      <th>434</th>\n",
       "      <td>55</td>\n",
       "      <td>7326.64</td>\n",
       "      <td>434</td>\n",
       "    </tr>\n",
       "    <tr>\n",
       "      <th>441</th>\n",
       "      <td>4</td>\n",
       "      <td>20756.90</td>\n",
       "      <td>441</td>\n",
       "    </tr>\n",
       "    <tr>\n",
       "      <th>442</th>\n",
       "      <td>20</td>\n",
       "      <td>31046.56</td>\n",
       "      <td>442</td>\n",
       "    </tr>\n",
       "    <tr>\n",
       "      <th>443</th>\n",
       "      <td>66</td>\n",
       "      <td>26565.43</td>\n",
       "      <td>443</td>\n",
       "    </tr>\n",
       "    <tr>\n",
       "      <th>444</th>\n",
       "      <td>250</td>\n",
       "      <td>22447.25</td>\n",
       "      <td>444</td>\n",
       "    </tr>\n",
       "  </tbody>\n",
       "</table>\n",
       "</div>"
      ],
      "text/plain": [
       "          ClassName  MonetaryValue RFMClass\n",
       "RFMClass                                   \n",
       "111             317     6462627.54      111\n",
       "112              54      123291.93      112\n",
       "113               4        3228.89      113\n",
       "121              28      212383.11      121\n",
       "122             105      189092.82      122\n",
       "123              57       33717.14      123\n",
       "124               3         494.20      124\n",
       "131               2        9930.98      131\n",
       "132              23       32406.57      132\n",
       "133              71       34567.30      133\n",
       "134              35        5064.83      134\n",
       "142               5        5775.88      142\n",
       "143              19        7083.29      143\n",
       "144              54        4981.69      144\n",
       "211             137     2006150.20      211\n",
       "212              39       90113.38      212\n",
       "221              41      278247.74      221\n",
       "222             110      200988.71      222\n",
       "223              57       33987.43      223\n",
       "224               3         490.13      224\n",
       "231              12       77618.32      231\n",
       "232              44       68063.84      232\n",
       "233              94       44918.80      233\n",
       "234              37        5293.62      234\n",
       "241               1        6729.00      241\n",
       "242               9       12938.62      242\n",
       "243              29       12173.56      243\n",
       "244              79        7813.60      244\n",
       "311              86     1427031.41      311\n",
       "312              30       74261.09      312\n",
       "313               1         694.90      313\n",
       "321              26      208300.65      321\n",
       "322              90      164471.07      322\n",
       "323              43       24947.15      323\n",
       "331              14       99756.65      331\n",
       "332              58       90050.88      332\n",
       "333              93       46571.74      333\n",
       "334              49        6687.30      334\n",
       "341               1        5598.00      341\n",
       "342              14       19335.49      342\n",
       "343              49       20446.89      343\n",
       "344             161       15558.21      344\n",
       "411              25      233880.71      411\n",
       "412              22       46613.42      412\n",
       "413               3        1365.10      413\n",
       "421              21      181666.65      421\n",
       "422              54       87009.58      422\n",
       "423              38       19671.66      423\n",
       "424               3         561.29      424\n",
       "431              13       75656.05      431\n",
       "432              50       71480.64      432\n",
       "433             104       44349.29      433\n",
       "434              55        7326.64      434\n",
       "441               4       20756.90      441\n",
       "442              20       31046.56      442\n",
       "443              66       26565.43      443\n",
       "444             250       22447.25      444"
      ]
     },
     "metadata": {},
     "output_type": "display_data"
    }
   ],
   "source": [
    "sellerSegmentation['RFMClass'] = pd.Series(\n",
    "    sellerSegmentation.index.values, index=sellerSegmentation.index)\n",
    "display(sellerSegmentation)"
   ]
  },
  {
   "cell_type": "markdown",
   "id": "06a27201",
   "metadata": {},
   "source": [
    "### Кластеризация по RFM-анализу"
   ]
  },
  {
   "cell_type": "code",
   "execution_count": 131,
   "id": "f718e715",
   "metadata": {},
   "outputs": [],
   "source": [
    "from sklearn.cluster import KMeans\n",
    "from sklearn.preprocessing import RobustScaler, StandardScaler"
   ]
  },
  {
   "cell_type": "code",
   "execution_count": 133,
   "id": "9a665d38",
   "metadata": {
    "scrolled": false
   },
   "outputs": [
    {
     "name": "stderr",
     "output_type": "stream",
     "text": [
      "C:\\ProgramData\\Anaconda3\\envs\\py3.7\\lib\\site-packages\\ipykernel_launcher.py:15: ConvergenceWarning: Number of distinct clusters (57) found smaller than n_clusters (58). Possibly due to duplicate points in X.\n",
      "  from ipykernel import kernelapp as app\n",
      "C:\\ProgramData\\Anaconda3\\envs\\py3.7\\lib\\site-packages\\ipykernel_launcher.py:15: ConvergenceWarning: Number of distinct clusters (57) found smaller than n_clusters (59). Possibly due to duplicate points in X.\n",
      "  from ipykernel import kernelapp as app\n",
      "C:\\ProgramData\\Anaconda3\\envs\\py3.7\\lib\\site-packages\\ipykernel_launcher.py:15: ConvergenceWarning: Number of distinct clusters (57) found smaller than n_clusters (60). Possibly due to duplicate points in X.\n",
      "  from ipykernel import kernelapp as app\n",
      "C:\\ProgramData\\Anaconda3\\envs\\py3.7\\lib\\site-packages\\ipykernel_launcher.py:15: ConvergenceWarning: Number of distinct clusters (57) found smaller than n_clusters (61). Possibly due to duplicate points in X.\n",
      "  from ipykernel import kernelapp as app\n",
      "C:\\ProgramData\\Anaconda3\\envs\\py3.7\\lib\\site-packages\\ipykernel_launcher.py:15: ConvergenceWarning: Number of distinct clusters (57) found smaller than n_clusters (62). Possibly due to duplicate points in X.\n",
      "  from ipykernel import kernelapp as app\n",
      "C:\\ProgramData\\Anaconda3\\envs\\py3.7\\lib\\site-packages\\ipykernel_launcher.py:15: ConvergenceWarning: Number of distinct clusters (57) found smaller than n_clusters (63). Possibly due to duplicate points in X.\n",
      "  from ipykernel import kernelapp as app\n",
      "C:\\ProgramData\\Anaconda3\\envs\\py3.7\\lib\\site-packages\\ipykernel_launcher.py:15: ConvergenceWarning: Number of distinct clusters (57) found smaller than n_clusters (64). Possibly due to duplicate points in X.\n",
      "  from ipykernel import kernelapp as app\n",
      "C:\\ProgramData\\Anaconda3\\envs\\py3.7\\lib\\site-packages\\ipykernel_launcher.py:15: ConvergenceWarning: Number of distinct clusters (57) found smaller than n_clusters (65). Possibly due to duplicate points in X.\n",
      "  from ipykernel import kernelapp as app\n",
      "C:\\ProgramData\\Anaconda3\\envs\\py3.7\\lib\\site-packages\\ipykernel_launcher.py:15: ConvergenceWarning: Number of distinct clusters (57) found smaller than n_clusters (66). Possibly due to duplicate points in X.\n",
      "  from ipykernel import kernelapp as app\n",
      "C:\\ProgramData\\Anaconda3\\envs\\py3.7\\lib\\site-packages\\ipykernel_launcher.py:15: ConvergenceWarning: Number of distinct clusters (57) found smaller than n_clusters (67). Possibly due to duplicate points in X.\n",
      "  from ipykernel import kernelapp as app\n",
      "C:\\ProgramData\\Anaconda3\\envs\\py3.7\\lib\\site-packages\\ipykernel_launcher.py:15: ConvergenceWarning: Number of distinct clusters (57) found smaller than n_clusters (68). Possibly due to duplicate points in X.\n",
      "  from ipykernel import kernelapp as app\n",
      "C:\\ProgramData\\Anaconda3\\envs\\py3.7\\lib\\site-packages\\ipykernel_launcher.py:15: ConvergenceWarning: Number of distinct clusters (57) found smaller than n_clusters (69). Possibly due to duplicate points in X.\n",
      "  from ipykernel import kernelapp as app\n",
      "C:\\ProgramData\\Anaconda3\\envs\\py3.7\\lib\\site-packages\\ipykernel_launcher.py:15: ConvergenceWarning: Number of distinct clusters (57) found smaller than n_clusters (70). Possibly due to duplicate points in X.\n",
      "  from ipykernel import kernelapp as app\n",
      "C:\\ProgramData\\Anaconda3\\envs\\py3.7\\lib\\site-packages\\ipykernel_launcher.py:15: ConvergenceWarning: Number of distinct clusters (57) found smaller than n_clusters (71). Possibly due to duplicate points in X.\n",
      "  from ipykernel import kernelapp as app\n",
      "C:\\ProgramData\\Anaconda3\\envs\\py3.7\\lib\\site-packages\\ipykernel_launcher.py:15: ConvergenceWarning: Number of distinct clusters (57) found smaller than n_clusters (72). Possibly due to duplicate points in X.\n",
      "  from ipykernel import kernelapp as app\n",
      "C:\\ProgramData\\Anaconda3\\envs\\py3.7\\lib\\site-packages\\ipykernel_launcher.py:15: ConvergenceWarning: Number of distinct clusters (57) found smaller than n_clusters (73). Possibly due to duplicate points in X.\n",
      "  from ipykernel import kernelapp as app\n",
      "C:\\ProgramData\\Anaconda3\\envs\\py3.7\\lib\\site-packages\\ipykernel_launcher.py:15: ConvergenceWarning: Number of distinct clusters (57) found smaller than n_clusters (74). Possibly due to duplicate points in X.\n",
      "  from ipykernel import kernelapp as app\n",
      "C:\\ProgramData\\Anaconda3\\envs\\py3.7\\lib\\site-packages\\ipykernel_launcher.py:15: ConvergenceWarning: Number of distinct clusters (57) found smaller than n_clusters (75). Possibly due to duplicate points in X.\n",
      "  from ipykernel import kernelapp as app\n",
      "C:\\ProgramData\\Anaconda3\\envs\\py3.7\\lib\\site-packages\\ipykernel_launcher.py:15: ConvergenceWarning: Number of distinct clusters (57) found smaller than n_clusters (76). Possibly due to duplicate points in X.\n",
      "  from ipykernel import kernelapp as app\n",
      "C:\\ProgramData\\Anaconda3\\envs\\py3.7\\lib\\site-packages\\ipykernel_launcher.py:15: ConvergenceWarning: Number of distinct clusters (57) found smaller than n_clusters (77). Possibly due to duplicate points in X.\n",
      "  from ipykernel import kernelapp as app\n",
      "C:\\ProgramData\\Anaconda3\\envs\\py3.7\\lib\\site-packages\\ipykernel_launcher.py:15: ConvergenceWarning: Number of distinct clusters (57) found smaller than n_clusters (78). Possibly due to duplicate points in X.\n",
      "  from ipykernel import kernelapp as app\n",
      "C:\\ProgramData\\Anaconda3\\envs\\py3.7\\lib\\site-packages\\ipykernel_launcher.py:15: ConvergenceWarning: Number of distinct clusters (57) found smaller than n_clusters (79). Possibly due to duplicate points in X.\n",
      "  from ipykernel import kernelapp as app\n",
      "C:\\ProgramData\\Anaconda3\\envs\\py3.7\\lib\\site-packages\\ipykernel_launcher.py:15: ConvergenceWarning: Number of distinct clusters (57) found smaller than n_clusters (80). Possibly due to duplicate points in X.\n",
      "  from ipykernel import kernelapp as app\n",
      "C:\\ProgramData\\Anaconda3\\envs\\py3.7\\lib\\site-packages\\ipykernel_launcher.py:15: ConvergenceWarning: Number of distinct clusters (57) found smaller than n_clusters (81). Possibly due to duplicate points in X.\n",
      "  from ipykernel import kernelapp as app\n",
      "C:\\ProgramData\\Anaconda3\\envs\\py3.7\\lib\\site-packages\\ipykernel_launcher.py:15: ConvergenceWarning: Number of distinct clusters (57) found smaller than n_clusters (82). Possibly due to duplicate points in X.\n",
      "  from ipykernel import kernelapp as app\n",
      "C:\\ProgramData\\Anaconda3\\envs\\py3.7\\lib\\site-packages\\ipykernel_launcher.py:15: ConvergenceWarning: Number of distinct clusters (57) found smaller than n_clusters (83). Possibly due to duplicate points in X.\n",
      "  from ipykernel import kernelapp as app\n",
      "C:\\ProgramData\\Anaconda3\\envs\\py3.7\\lib\\site-packages\\ipykernel_launcher.py:15: ConvergenceWarning: Number of distinct clusters (57) found smaller than n_clusters (84). Possibly due to duplicate points in X.\n",
      "  from ipykernel import kernelapp as app\n",
      "C:\\ProgramData\\Anaconda3\\envs\\py3.7\\lib\\site-packages\\ipykernel_launcher.py:15: ConvergenceWarning: Number of distinct clusters (57) found smaller than n_clusters (85). Possibly due to duplicate points in X.\n",
      "  from ipykernel import kernelapp as app\n",
      "C:\\ProgramData\\Anaconda3\\envs\\py3.7\\lib\\site-packages\\ipykernel_launcher.py:15: ConvergenceWarning: Number of distinct clusters (57) found smaller than n_clusters (86). Possibly due to duplicate points in X.\n",
      "  from ipykernel import kernelapp as app\n",
      "C:\\ProgramData\\Anaconda3\\envs\\py3.7\\lib\\site-packages\\ipykernel_launcher.py:15: ConvergenceWarning: Number of distinct clusters (57) found smaller than n_clusters (87). Possibly due to duplicate points in X.\n",
      "  from ipykernel import kernelapp as app\n",
      "C:\\ProgramData\\Anaconda3\\envs\\py3.7\\lib\\site-packages\\ipykernel_launcher.py:15: ConvergenceWarning: Number of distinct clusters (57) found smaller than n_clusters (88). Possibly due to duplicate points in X.\n",
      "  from ipykernel import kernelapp as app\n",
      "C:\\ProgramData\\Anaconda3\\envs\\py3.7\\lib\\site-packages\\ipykernel_launcher.py:15: ConvergenceWarning: Number of distinct clusters (57) found smaller than n_clusters (89). Possibly due to duplicate points in X.\n",
      "  from ipykernel import kernelapp as app\n",
      "C:\\ProgramData\\Anaconda3\\envs\\py3.7\\lib\\site-packages\\ipykernel_launcher.py:15: ConvergenceWarning: Number of distinct clusters (57) found smaller than n_clusters (90). Possibly due to duplicate points in X.\n",
      "  from ipykernel import kernelapp as app\n"
     ]
    },
    {
     "name": "stderr",
     "output_type": "stream",
     "text": [
      "C:\\ProgramData\\Anaconda3\\envs\\py3.7\\lib\\site-packages\\ipykernel_launcher.py:15: ConvergenceWarning: Number of distinct clusters (57) found smaller than n_clusters (91). Possibly due to duplicate points in X.\n",
      "  from ipykernel import kernelapp as app\n",
      "C:\\ProgramData\\Anaconda3\\envs\\py3.7\\lib\\site-packages\\ipykernel_launcher.py:15: ConvergenceWarning: Number of distinct clusters (57) found smaller than n_clusters (92). Possibly due to duplicate points in X.\n",
      "  from ipykernel import kernelapp as app\n",
      "C:\\ProgramData\\Anaconda3\\envs\\py3.7\\lib\\site-packages\\ipykernel_launcher.py:15: ConvergenceWarning: Number of distinct clusters (57) found smaller than n_clusters (93). Possibly due to duplicate points in X.\n",
      "  from ipykernel import kernelapp as app\n",
      "C:\\ProgramData\\Anaconda3\\envs\\py3.7\\lib\\site-packages\\ipykernel_launcher.py:15: ConvergenceWarning: Number of distinct clusters (57) found smaller than n_clusters (94). Possibly due to duplicate points in X.\n",
      "  from ipykernel import kernelapp as app\n",
      "C:\\ProgramData\\Anaconda3\\envs\\py3.7\\lib\\site-packages\\ipykernel_launcher.py:15: ConvergenceWarning: Number of distinct clusters (57) found smaller than n_clusters (95). Possibly due to duplicate points in X.\n",
      "  from ipykernel import kernelapp as app\n",
      "C:\\ProgramData\\Anaconda3\\envs\\py3.7\\lib\\site-packages\\ipykernel_launcher.py:15: ConvergenceWarning: Number of distinct clusters (57) found smaller than n_clusters (96). Possibly due to duplicate points in X.\n",
      "  from ipykernel import kernelapp as app\n",
      "C:\\ProgramData\\Anaconda3\\envs\\py3.7\\lib\\site-packages\\ipykernel_launcher.py:15: ConvergenceWarning: Number of distinct clusters (57) found smaller than n_clusters (97). Possibly due to duplicate points in X.\n",
      "  from ipykernel import kernelapp as app\n",
      "C:\\ProgramData\\Anaconda3\\envs\\py3.7\\lib\\site-packages\\ipykernel_launcher.py:15: ConvergenceWarning: Number of distinct clusters (57) found smaller than n_clusters (98). Possibly due to duplicate points in X.\n",
      "  from ipykernel import kernelapp as app\n",
      "C:\\ProgramData\\Anaconda3\\envs\\py3.7\\lib\\site-packages\\ipykernel_launcher.py:15: ConvergenceWarning: Number of distinct clusters (57) found smaller than n_clusters (99). Possibly due to duplicate points in X.\n",
      "  from ipykernel import kernelapp as app\n"
     ]
    },
    {
     "data": {
      "text/plain": [
       "Text(0, 0.5, 'Inertia')"
      ]
     },
     "execution_count": 133,
     "metadata": {},
     "output_type": "execute_result"
    },
    {
     "data": {
      "image/png": "[encoded data removed]",
      "text/plain": [
       "<Figure size 1080x720 with 1 Axes>"
      ]
     },
     "metadata": {
      "needs_background": "light"
     },
     "output_type": "display_data"
    }
   ],
   "source": [
    "# Scaling with Robust Scaler\n",
    "rfm_model = rfmSeg[['R_Quartile', 'F_Quartile', 'M_Quartile']]\n",
    "standar = RobustScaler()\n",
    "standar.fit(rfm_model)\n",
    "rfm_model = standar.transform(rfm_model)\n",
    "rfm_model = pd.DataFrame(rfm_model, columns=['R_Quartile', 'F_Quartile', 'M_Quartile'])\n",
    "rfm_model['SellerId'] = rfmSeg.index\n",
    "\n",
    "# Find K best with Elbow Method\n",
    "# Modeling with KMean\n",
    "inertia_list = []\n",
    "\n",
    "for i in range(1, 100):\n",
    "    kmeans = KMeans(n_clusters=i)\n",
    "    kmeans.fit(rfm_model[['R_Quartile', 'F_Quartile', 'M_Quartile']])\n",
    "    inertia_list.append(kmeans.inertia_)\n",
    "    \n",
    "# Show graph elbow method\n",
    "plt.figure(figsize=(15,10))\n",
    "plt.plot(range(1,100), inertia_list, marker='o', markerfacecolor='green', linestyle='dashed')\n",
    "plt.title('K value vs Inertia')\n",
    "plt.xlabel('K value')\n",
    "plt.ylabel('Inertia')"
   ]
  },
  {
   "cell_type": "code",
   "execution_count": 134,
   "id": "f4769b8f",
   "metadata": {},
   "outputs": [
    {
     "name": "stdout",
     "output_type": "stream",
     "text": [
      "[[-0.20455154 -0.40481928 -0.33413655]\n",
      " [ 0.70617284  0.41746032  0.3633157 ]\n",
      " [-0.44444444 -0.96491228 -0.82873851]\n",
      " [ 0.65071225 -0.00897436 -0.16980057]\n",
      " [-0.1897514   0.21575342  0.19989853]\n",
      " [ 0.15482149 -0.93843844 -0.7967968 ]\n",
      " [ 0.69923996 -0.53908795 -0.52696345]]\n"
     ]
    }
   ],
   "source": [
    "# Create clusters\n",
    "kmeans = KMeans(n_clusters=7).fit(rfm_model[['R_Quartile', 'F_Quartile', 'M_Quartile']])\n",
    "centroids = kmeans.cluster_centers_\n",
    "print(centroids)"
   ]
  },
  {
   "cell_type": "code",
   "execution_count": null,
   "id": "7d4a4ac0",
   "metadata": {},
   "outputs": [],
   "source": []
  },
  {
   "cell_type": "code",
   "execution_count": null,
   "id": "208c6c9c",
   "metadata": {},
   "outputs": [],
   "source": []
  },
  {
   "cell_type": "code",
   "execution_count": null,
   "id": "432ca0d8",
   "metadata": {},
   "outputs": [],
   "source": []
  },
  {
   "cell_type": "code",
   "execution_count": 120,
   "id": "0d8476f3",
   "metadata": {},
   "outputs": [
    {
     "name": "stdout",
     "output_type": "stream",
     "text": [
      "57\n"
     ]
    },
    {
     "data": {
      "text/plain": [
       "<matplotlib.colorbar.Colorbar at 0x29df6c5b908>"
      ]
     },
     "execution_count": 120,
     "metadata": {},
     "output_type": "execute_result"
    },
    {
     "data": {
      "image/png": "[encoded data removed]",
      "text/plain": [
       "<Figure size 1440x1440 with 2 Axes>"
      ]
     },
     "metadata": {
      "needs_background": "light"
     },
     "output_type": "display_data"
    }
   ],
   "source": [
    "rng = np.random.RandomState(0)\n",
    "x = rng.randn(100)\n",
    "y = rng.randn(100)\n",
    "colors = rng.rand(57)\n",
    "sizes = 1000 * rng.rand(100)\n",
    "print(len(sellerSegmentation['RFMClass'].values))\n",
    "fig_size = plt.rcParams[\"figure.figsize\"]\n",
    "\n",
    "# Set figure width to 12 and height to 9\n",
    "fig_size[0] = 20\n",
    "fig_size[1] = 20\n",
    "plt.rcParams[\"figure.figsize\"] = fig_size\n",
    "plt.scatter(sellerSegmentation['RFMClass'].values, sellerSegmentation['ClassName'].values, c=colors, \\\n",
    "            s=sellerSegmentation['MonetaryValue'].values, alpha=0.3,\n",
    "            cmap='viridis')\n",
    "plt.colorbar()  # show color scale"
   ]
  },
  {
   "cell_type": "code",
   "execution_count": 121,
   "id": "92a5cad6",
   "metadata": {},
   "outputs": [
    {
     "data": {
      "text/plain": [
       "<matplotlib.collections.PathCollection at 0x29df99f6f88>"
      ]
     },
     "execution_count": 121,
     "metadata": {},
     "output_type": "execute_result"
    },
    {
     "data": {
      "image/png": "[encoded data removed]",
      "text/plain": [
       "<Figure size 1440x1440 with 1 Axes>"
      ]
     },
     "metadata": {
      "needs_background": "light"
     },
     "output_type": "display_data"
    }
   ],
   "source": [
    "plt.scatter(rfmSeg['RFMClass'].values,\n",
    "            rfmSeg['SellerID'].values, s=100)"
   ]
  },
  {
   "cell_type": "code",
   "execution_count": null,
   "id": "ad98ae38",
   "metadata": {},
   "outputs": [],
   "source": []
  },
  {
   "cell_type": "code",
   "execution_count": null,
   "id": "8279f68f",
   "metadata": {},
   "outputs": [],
   "source": []
  },
  {
   "cell_type": "code",
   "execution_count": 64,
   "id": "574ebc3e",
   "metadata": {},
   "outputs": [
    {
     "data": {
      "text/plain": [
       "Total Score\n",
       "3     20386.837666\n",
       "4     10693.265936\n",
       "5      7211.715596\n",
       "6      3043.014806\n",
       "7      1953.861216\n",
       "8      1069.645873\n",
       "9       627.790909\n",
       "10      364.818849\n",
       "11      175.355603\n",
       "12       89.789000\n",
       "Name: monetary_value, dtype: float64"
      ]
     },
     "execution_count": 64,
     "metadata": {},
     "output_type": "execute_result"
    }
   ],
   "source": [
    "rfmSeg.groupby('Total Score').agg('monetary_value').mean()"
   ]
  },
  {
   "cell_type": "code",
   "execution_count": 65,
   "id": "889474ce",
   "metadata": {},
   "outputs": [
    {
     "data": {
      "text/plain": [
       "<AxesSubplot:xlabel='Total Score'>"
      ]
     },
     "execution_count": 65,
     "metadata": {},
     "output_type": "execute_result"
    },
    {
     "data": {
      "image/png": "[encoded data removed]",
      "text/plain": [
       "<Figure size 432x288 with 1 Axes>"
      ]
     },
     "metadata": {
      "needs_background": "light"
     },
     "output_type": "display_data"
    }
   ],
   "source": [
    "rfmSeg.groupby('Total Score').agg('monetary_value').mean().plot(kind='bar', colormap='Blues_r')"
   ]
  },
  {
   "cell_type": "code",
   "execution_count": 66,
   "id": "dd6f3c8d",
   "metadata": {},
   "outputs": [
    {
     "data": {
      "text/plain": [
       "<AxesSubplot:xlabel='Total Score'>"
      ]
     },
     "execution_count": 66,
     "metadata": {},
     "output_type": "execute_result"
    },
    {
     "data": {
      "image/png": "[encoded data removed]",
      "text/plain": [
       "<Figure size 432x288 with 1 Axes>"
      ]
     },
     "metadata": {
      "needs_background": "light"
     },
     "output_type": "display_data"
    }
   ],
   "source": [
    "rfmSeg.groupby('Total Score').agg('frequency').mean().plot(kind='bar', colormap='Blues_r')"
   ]
  },
  {
   "cell_type": "code",
   "execution_count": 67,
   "id": "f0268cea",
   "metadata": {},
   "outputs": [
    {
     "data": {
      "text/plain": [
       "<AxesSubplot:xlabel='Total Score'>"
      ]
     },
     "execution_count": 67,
     "metadata": {},
     "output_type": "execute_result"
    },
    {
     "data": {
      "image/png": "[encoded data removed]",
      "text/plain": [
       "<Figure size 432x288 with 1 Axes>"
      ]
     },
     "metadata": {
      "needs_background": "light"
     },
     "output_type": "display_data"
    }
   ],
   "source": [
    "rfmSeg.groupby('Total Score').agg('recency').mean().plot(\n",
    "    kind='bar', colormap='Blues_r')"
   ]
  },
  {
   "cell_type": "code",
   "execution_count": 69,
   "id": "327f02ef",
   "metadata": {},
   "outputs": [
    {
     "data": {
      "text/plain": [
       "<AxesSubplot:xlabel='Total Score'>"
      ]
     },
     "execution_count": 69,
     "metadata": {},
     "output_type": "execute_result"
    },
    {
     "data": {
      "image/png": "[encoded data removed]",
      "text/plain": [
       "<Figure size 432x288 with 1 Axes>"
      ]
     },
     "metadata": {
      "needs_background": "light"
     },
     "output_type": "display_data"
    }
   ],
   "source": [
    "rfmSeg.reset_index().groupby('Total Score').agg('seller_id').count().plot(\n",
    "    kind='bar', colormap='Blues_r')"
   ]
  },
  {
   "cell_type": "code",
   "execution_count": 71,
   "id": "7363d346",
   "metadata": {
    "collapsed": true
   },
   "outputs": [
    {
     "data": {
      "text/plain": [
       "111    317\n",
       "444    250\n",
       "344    161\n",
       "211    137\n",
       "222    110\n",
       "122    105\n",
       "433    104\n",
       "233     94\n",
       "333     93\n",
       "322     90\n",
       "311     86\n",
       "244     79\n",
       "133     71\n",
       "443     66\n",
       "332     58\n",
       "223     57\n",
       "123     57\n",
       "434     55\n",
       "144     54\n",
       "112     54\n",
       "422     54\n",
       "432     50\n",
       "334     49\n",
       "343     49\n",
       "232     44\n",
       "323     43\n",
       "221     41\n",
       "212     39\n",
       "423     38\n",
       "234     37\n",
       "134     35\n",
       "312     30\n",
       "243     29\n",
       "121     28\n",
       "321     26\n",
       "411     25\n",
       "132     23\n",
       "412     22\n",
       "421     21\n",
       "442     20\n",
       "143     19\n",
       "331     14\n",
       "342     14\n",
       "431     13\n",
       "231     12\n",
       "242      9\n",
       "142      5\n",
       "441      4\n",
       "113      4\n",
       "124      3\n",
       "224      3\n",
       "424      3\n",
       "413      3\n",
       "131      2\n",
       "313      1\n",
       "241      1\n",
       "341      1\n",
       "Name: RFMClass, dtype: int64"
      ]
     },
     "execution_count": 71,
     "metadata": {},
     "output_type": "execute_result"
    }
   ],
   "source": [
    "rfmSeg['RFMClass'].value_counts()"
   ]
  },
  {
   "cell_type": "code",
   "execution_count": 74,
   "id": "aa2bf252",
   "metadata": {
    "collapsed": true
   },
   "outputs": [
    {
     "name": "stderr",
     "output_type": "stream",
     "text": [
      "C:\\ProgramData\\Anaconda3\\envs\\py3.7\\lib\\site-packages\\seaborn\\distributions.py:2557: FutureWarning: `distplot` is a deprecated function and will be removed in a future version. Please adapt your code to use either `displot` (a figure-level function with similar flexibility) or `histplot` (an axes-level function for histograms).\n",
      "  warnings.warn(msg, FutureWarning)\n"
     ]
    },
    {
     "data": {
      "text/plain": [
       "Text(0.5, 0, 'Days since last sale')"
      ]
     },
     "execution_count": 74,
     "metadata": {},
     "output_type": "execute_result"
    },
    {
     "data": {
      "image/png": "[encoded data removed]",
      "text/plain": [
       "<Figure size 576x576 with 1 Axes>"
      ]
     },
     "metadata": {
      "needs_background": "light"
     },
     "output_type": "display_data"
    }
   ],
   "source": [
    "# Plotting for the last day since the seller made a sale:\n",
    "\n",
    "plt.figure(figsize=(8,8))\n",
    "sns.set_context(\"poster\")\n",
    "sns.set_palette(['skyblue'])\n",
    "sns.distplot(rfmSeg['recency'])\n",
    "plt.xlabel('Days since last sale')"
   ]
  },
  {
   "cell_type": "code",
   "execution_count": 75,
   "id": "37f68336",
   "metadata": {
    "collapsed": true
   },
   "outputs": [
    {
     "name": "stderr",
     "output_type": "stream",
     "text": [
      "C:\\ProgramData\\Anaconda3\\envs\\py3.7\\lib\\site-packages\\seaborn\\distributions.py:2557: FutureWarning: `distplot` is a deprecated function and will be removed in a future version. Please adapt your code to use either `displot` (a figure-level function with similar flexibility) or `histplot` (an axes-level function for histograms).\n",
      "  warnings.warn(msg, FutureWarning)\n"
     ]
    },
    {
     "data": {
      "text/plain": [
       "<AxesSubplot:xlabel='frequency', ylabel='Density'>"
      ]
     },
     "execution_count": 75,
     "metadata": {},
     "output_type": "execute_result"
    },
    {
     "data": {
      "image/png": "[encoded data removed]",
      "text/plain": [
       "<Figure size 576x576 with 1 Axes>"
      ]
     },
     "metadata": {
      "needs_background": "light"
     },
     "output_type": "display_data"
    }
   ],
   "source": [
    "# Plotting the number of times the sellers has made a sale:\n",
    "\n",
    "plt.figure(figsize=(8, 8))\n",
    "sns.set_context(\"poster\")\n",
    "sns.set_palette(['pink'])\n",
    "sns.distplot(rfmSeg['frequency'])"
   ]
  },
  {
   "cell_type": "code",
   "execution_count": 77,
   "id": "dd04332d",
   "metadata": {
    "collapsed": true
   },
   "outputs": [
    {
     "name": "stderr",
     "output_type": "stream",
     "text": [
      "C:\\ProgramData\\Anaconda3\\envs\\py3.7\\lib\\site-packages\\seaborn\\distributions.py:2557: FutureWarning: `distplot` is a deprecated function and will be removed in a future version. Please adapt your code to use either `displot` (a figure-level function with similar flexibility) or `histplot` (an axes-level function for histograms).\n",
      "  warnings.warn(msg, FutureWarning)\n"
     ]
    },
    {
     "data": {
      "text/plain": [
       "Text(0.5, 0, 'Money')"
      ]
     },
     "execution_count": 77,
     "metadata": {},
     "output_type": "execute_result"
    },
    {
     "data": {
      "image/png": "[encoded data removed]",
      "text/plain": [
       "<Figure size 576x576 with 1 Axes>"
      ]
     },
     "metadata": {
      "needs_background": "light"
     },
     "output_type": "display_data"
    }
   ],
   "source": [
    "# Plotting the total income that the particular seller has:\n",
    "\n",
    "plt.figure(figsize=(8, 8))\n",
    "sns.set_context(\"poster\")\n",
    "sns.set_palette(['orange'])\n",
    "sns.distplot(rfmSeg['monetary_value'])\n",
    "plt.xlabel('Money')"
   ]
  },
  {
   "cell_type": "code",
   "execution_count": 79,
   "id": "d7a81b20",
   "metadata": {},
   "outputs": [],
   "source": [
    "# Making a copy so that I don't lose my temper over messing up a previously perfect dataframe.\n",
    "from sklearn.cluster import KMeans\n",
    "RFM = rfmSeg.copy()\n",
    "\n",
    "# Importing KMeans and finding clusters:\n",
    "\n",
    "km = KMeans(n_clusters=4, init='k-means++')\n",
    "\n",
    "nclusters = km.fit_predict(RFM)\n",
    "\n",
    "clusters = pd.DataFrame(nclusters, columns=['clusters'], index=RFM.index)\n",
    "\n",
    "# Concatenating the clusters with the RFM dataframe:\n",
    "rfmK = pd.concat([RFM, clusters], axis=1)"
   ]
  },
  {
   "cell_type": "code",
   "execution_count": 81,
   "id": "b4af7a9f",
   "metadata": {},
   "outputs": [
    {
     "data": {
      "text/plain": [
       "<AxesSubplot:xlabel='frequency', ylabel='monetary_value'>"
      ]
     },
     "execution_count": 81,
     "metadata": {},
     "output_type": "execute_result"
    },
    {
     "data": {
      "image/png": "[encoded data removed]",
      "text/plain": [
       "<Figure size 576x576 with 1 Axes>"
      ]
     },
     "metadata": {
      "needs_background": "light"
     },
     "output_type": "display_data"
    }
   ],
   "source": [
    "# Lets take a look at the clusters:\n",
    "plt.figure(figsize=(8, 8))\n",
    "sns.scatterplot(data=rfmK, x='frequency', y='monetary_value', hue='clusters')"
   ]
  },
  {
   "cell_type": "code",
   "execution_count": 82,
   "id": "20b0dc6a",
   "metadata": {},
   "outputs": [],
   "source": [
    "RFMKMEANS = rfmK.copy()\n",
    "\n",
    "RFMKMEANS['clusters'] = ['SuperFans' if x ==\n",
    "                         3 else x for x in RFMKMEANS['clusters']]\n",
    "RFMKMEANS['clusters'] = ['UsualCustomers' if x ==\n",
    "                         2 else x for x in RFMKMEANS['clusters']]\n",
    "RFMKMEANS['clusters'] = ['FrequentCustomers' if x ==\n",
    "                         0 else x for x in RFMKMEANS['clusters']]\n",
    "RFMKMEANS['clusters'] = ['Thrifters' if x ==\n",
    "                         1 else x for x in RFMKMEANS['clusters']]"
   ]
  },
  {
   "cell_type": "code",
   "execution_count": 83,
   "id": "4031201c",
   "metadata": {},
   "outputs": [
    {
     "name": "stderr",
     "output_type": "stream",
     "text": [
      "C:\\ProgramData\\Anaconda3\\envs\\py3.7\\lib\\site-packages\\seaborn\\_decorators.py:43: FutureWarning: Pass the following variable as a keyword arg: x. From version 0.12, the only valid positional argument will be `data`, and passing other arguments without an explicit keyword will result in an error or misinterpretation.\n",
      "  FutureWarning\n"
     ]
    },
    {
     "data": {
      "text/plain": [
       "<AxesSubplot:xlabel='clusters', ylabel='count'>"
      ]
     },
     "execution_count": 83,
     "metadata": {},
     "output_type": "execute_result"
    },
    {
     "data": {
      "image/png": "[encoded data removed]",
      "text/plain": [
       "<Figure size 1080x504 with 1 Axes>"
      ]
     },
     "metadata": {
      "needs_background": "light"
     },
     "output_type": "display_data"
    }
   ],
   "source": [
    "plt.figure(figsize=(15, 7))\n",
    "sns.set_context(\"poster\", font_scale=0.7)\n",
    "sns.set_palette('twilight')\n",
    "sns.countplot(RFMKMEANS['clusters'])"
   ]
  },
  {
   "cell_type": "markdown",
   "id": "6394be59",
   "metadata": {},
   "source": [
    "### Группировка топ 5 продавцов по количеству продаж в разрезе категорий "
   ]
  },
  {
   "cell_type": "code",
   "execution_count": null,
   "id": "77770209",
   "metadata": {},
   "outputs": [],
   "source": [
    "sellers_by_category = df_sellers_analize.groupby(['seller_id', 'product_category_name_english'])['order_id'].count().reset_index(). \\\n",
    "    rename(columns={'order_id': 'num_orders'}).sort_values(by=['num_orders'], ascending=False, ignore_index=True)"
   ]
  },
  {
   "cell_type": "code",
   "execution_count": null,
   "id": "65b2fcde",
   "metadata": {},
   "outputs": [],
   "source": [
    "plt.subplots(figsize=(12, 12))\n",
    "sns.barplot(y='seller_id', x='num_orders', hue='product_category_name_english', \n",
    "            data=sellers_by_category[sellers_by_category['seller_id'].isin(top5_sellers)])\n",
    "plt.ylabel('Seller_ID')\n",
    "plt.xticks(rotation=0)\n",
    "plt.xlabel('Количество заказов')\n",
    "plt.title('Топ5 продавцов в разрезе категорий')\n",
    "plt.legend(loc=4)\n",
    "plt.show()\n",
    "# sellers_by_category"
   ]
  },
  {
   "cell_type": "markdown",
   "id": "3e115622",
   "metadata": {},
   "source": [
    "Пока неинформативно!"
   ]
  },
  {
   "cell_type": "markdown",
   "id": "2b55b68d",
   "metadata": {},
   "source": [
    "### Посчитаем сумму доходов топ продавцов по категориям"
   ]
  },
  {
   "cell_type": "code",
   "execution_count": null,
   "id": "56e11fba",
   "metadata": {},
   "outputs": [],
   "source": [
    "sellers_income_by_category = df_sellers_analize.groupby(['seller_id', 'product_category_name_english'], as_index=False)['price'].sum(). \\\n",
    "                reset_index(drop=True). \\\n",
    "                rename(columns={'price': 'sum_income'}). \\\n",
    "                sort_values(by=['sum_income'], ascending=False, ignore_index=True)"
   ]
  },
  {
   "cell_type": "code",
   "execution_count": null,
   "id": "d265380d",
   "metadata": {},
   "outputs": [],
   "source": [
    "sellers_income_by_category"
   ]
  },
  {
   "cell_type": "code",
   "execution_count": null,
   "id": "467120aa",
   "metadata": {},
   "outputs": [],
   "source": [
    "sellers_income_by_category[sellers_income_by_category['seller_id'] == '4869f7a5dfa277a7dca6462dcf3b52b2']"
   ]
  },
  {
   "cell_type": "code",
   "execution_count": null,
   "id": "4acab41a",
   "metadata": {},
   "outputs": [],
   "source": [
    "sellers_income[sellers_income['seller_id'] == '4869f7a5dfa277a7dca6462dcf3b52b2']"
   ]
  },
  {
   "cell_type": "code",
   "execution_count": null,
   "id": "73833d9d",
   "metadata": {},
   "outputs": [],
   "source": [
    "sellers_income_by_category.to_csv('sellers_income_by_category.csv')"
   ]
  },
  {
   "cell_type": "code",
   "execution_count": null,
   "id": "1209b529",
   "metadata": {},
   "outputs": [],
   "source": [
    "plt.subplots(figsize=(15, 10))\n",
    "sns.barplot(y='seller_id', x='sum_income', hue='product_category_name_english', \n",
    "            data=sellers_income_by_category[sellers_income_by_category['seller_id'].isin(top5_best_sellers)])\n",
    "plt.ylabel('Seller_ID')\n",
    "plt.xticks(rotation=0)\n",
    "plt.xlabel('Объем оборота')\n",
    "plt.title('Топ5 продавцов в разрезе категорий')\n",
    "plt.legend(loc=4)\n",
    "plt.show()"
   ]
  },
  {
   "cell_type": "code",
   "execution_count": null,
   "id": "6dd0174b",
   "metadata": {},
   "outputs": [],
   "source": [
    "sellers_income_by_category.head()"
   ]
  },
  {
   "cell_type": "code",
   "execution_count": null,
   "id": "07d538ee",
   "metadata": {},
   "outputs": [],
   "source": [
    "sellers_by_category.head()"
   ]
  },
  {
   "cell_type": "code",
   "execution_count": null,
   "id": "990f03be",
   "metadata": {},
   "outputs": [],
   "source": [
    "sellers_income_by_category.to_csv('TEST2.tsv', sep='\\t', decimal=',')"
   ]
  },
  {
   "cell_type": "markdown",
   "id": "5fbf34a1",
   "metadata": {},
   "source": [
    "Анализ топ 10 городов по продажам, в котором смотрим на топ10 продавцов"
   ]
  },
  {
   "cell_type": "code",
   "execution_count": null,
   "id": "4cf6e0b2",
   "metadata": {},
   "outputs": [],
   "source": [
    "best_cities_by_orders = df_sellers_analize.groupby(['seller_city'])['order_id'].count().reset_index(). \\\n",
    "    rename(columns={'order_id': 'num_orders'}).sort_values(by=['num_orders'], ascending=False, ignore_index=True)"
   ]
  },
  {
   "cell_type": "code",
   "execution_count": null,
   "id": "d23a87bd",
   "metadata": {},
   "outputs": [],
   "source": [
    "top10_cities = best_cities_by_orders.iloc[:10, 0].tolist()"
   ]
  },
  {
   "cell_type": "code",
   "execution_count": null,
   "id": "096665c8",
   "metadata": {},
   "outputs": [],
   "source": [
    "city_by_cellers = df_sellers_analize.groupby(['seller_city', 'seller_id'])['order_id'].count().reset_index(). \\\n",
    "    rename(columns={'order_id': 'num_orders'}).sort_values(by=['num_orders'], ascending=False, ignore_index=True)"
   ]
  },
  {
   "cell_type": "code",
   "execution_count": null,
   "id": "f3769f9c",
   "metadata": {},
   "outputs": [],
   "source": [
    "city_by_cellers = city_by_cellers[city_by_cellers['seller_city'].isin(top10_cities)].reset_index(drop=True)"
   ]
  },
  {
   "cell_type": "code",
   "execution_count": null,
   "id": "b8059108",
   "metadata": {},
   "outputs": [],
   "source": [
    "best_cities_and_cellers = city_by_cellers[city_by_cellers['seller_id'].isin(top10_sellers)]"
   ]
  },
  {
   "cell_type": "code",
   "execution_count": null,
   "id": "662d34de",
   "metadata": {},
   "outputs": [],
   "source": [
    "best_cities_and_cellers.head()"
   ]
  },
  {
   "cell_type": "code",
   "execution_count": null,
   "id": "a610033c",
   "metadata": {
    "scrolled": true
   },
   "outputs": [],
   "source": [
    "plt.subplots(figsize=(12, 12))\n",
    "sns.barplot(y='seller_id', x='num_orders', hue='seller_city', \n",
    "            data=best_cities_and_cellers)\n",
    "plt.ylabel('Seller_ID')\n",
    "plt.xticks(rotation=0)\n",
    "plt.xlabel('Количество заказов')\n",
    "plt.title('Топ10 продавцов в разрезе топ городов по продажам')\n",
    "plt.legend(loc=4)\n",
    "plt.show()"
   ]
  },
  {
   "cell_type": "code",
   "execution_count": null,
   "id": "acab014c",
   "metadata": {},
   "outputs": [],
   "source": []
  },
  {
   "cell_type": "code",
   "execution_count": null,
   "id": "70e1872b",
   "metadata": {},
   "outputs": [],
   "source": [
    "# orders_filtering = orders_count[orders_count['order_id'] < 50].sort_values('seller_id')['seller_id']"
   ]
  },
  {
   "cell_type": "code",
   "execution_count": null,
   "id": "ae1680e8",
   "metadata": {},
   "outputs": [],
   "source": [
    "# orders_filtering"
   ]
  },
  {
   "cell_type": "code",
   "execution_count": null,
   "id": "473332ef",
   "metadata": {},
   "outputs": [],
   "source": [
    "# my_filter = orders_count[orders_count['order_id'] < 50].sort_values('seller_id')['seller_id'].str.startswith('ff')"
   ]
  },
  {
   "cell_type": "code",
   "execution_count": null,
   "id": "69b7a9d2",
   "metadata": {},
   "outputs": [],
   "source": [
    "# orders_filtering[my_filter].count()"
   ]
  },
  {
   "cell_type": "code",
   "execution_count": null,
   "id": "a08947e3",
   "metadata": {},
   "outputs": [],
   "source": [
    "# orders_count[orders_count['seller_id'].str.startswith('ff')]"
   ]
  },
  {
   "cell_type": "code",
   "execution_count": null,
   "id": "50b2fa27",
   "metadata": {},
   "outputs": [],
   "source": [
    "# orders_count[orders_count['seller_id'].str.startswith('ff')].count()"
   ]
  }
 ],
 "metadata": {
  "kernelspec": {
   "display_name": "Python 3",
   "language": "python",
   "name": "python3"
  },
  "language_info": {
   "codemirror_mode": {
    "name": "ipython",
    "version": 3
   },
   "file_extension": ".py",
   "mimetype": "text/x-python",
   "name": "python",
   "nbconvert_exporter": "python",
   "pygments_lexer": "ipython3",
   "version": "3.7.9"
  }
 },
 "nbformat": 4,
 "nbformat_minor": 5
}
