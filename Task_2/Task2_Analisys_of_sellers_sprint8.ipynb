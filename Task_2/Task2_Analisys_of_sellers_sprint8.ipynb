{
 "cells": [
  {
   "cell_type": "code",
   "execution_count": 1,
   "id": "0cf8e2cd",
   "metadata": {},
   "outputs": [],
   "source": [
    "# Importing libs\n",
    "import pandas as pd\n",
    "import numpy as np\n",
    "import matplotlib.pyplot as plt\n",
    "import seaborn as sns \n",
    "import os\n",
    "\n",
    "%matplotlib inline"
   ]
  },
  {
   "cell_type": "code",
   "execution_count": 2,
   "id": "b9b68c3d",
   "metadata": {},
   "outputs": [],
   "source": [
    "# Pandas setting\n",
    "pd.set_option('display.max_rows', 100)\n",
    "pd.set_option('display.max_columns', 100)"
   ]
  },
  {
   "cell_type": "code",
   "execution_count": 3,
   "id": "785120cf",
   "metadata": {},
   "outputs": [],
   "source": [
    "# Load necessary data files for analize\n",
    "sellers = pd.read_csv('sellers_1.csv')\n",
    "order_items = pd.read_csv('order_items.csv')\n",
    "orders = pd.read_csv('orders.csv')\n",
    "products = pd.read_csv('products.csv')"
   ]
  },
  {
   "cell_type": "code",
   "execution_count": 4,
   "id": "8fc0103f",
   "metadata": {},
   "outputs": [
    {
     "data": {
      "text/plain": [
       "((3095, 4), (112650, 7), (99441, 8), (32951, 9))"
      ]
     },
     "execution_count": 4,
     "metadata": {},
     "output_type": "execute_result"
    }
   ],
   "source": [
    "# Просмотр размерностей данных\n",
    "sellers.shape, order_items.shape, orders.shape, products.shape"
   ]
  },
  {
   "cell_type": "code",
   "execution_count": 5,
   "id": "4f6ec068",
   "metadata": {},
   "outputs": [],
   "source": [
    "# Объединение всех данных в единую таблицу\n",
    "data_sellers_and_orders = pd.merge(sellers, order_items, how='left', on='seller_id')\n",
    "full_data = pd.merge(data_sellers_and_orders, orders, how='left', on='order_id')\n",
    "full_data = pd.merge(full_data, products, how='left', on='product_id')"
   ]
  },
  {
   "cell_type": "code",
   "execution_count": 6,
   "id": "a9459668",
   "metadata": {},
   "outputs": [
    {
     "data": {
      "text/plain": [
       "(112650, 25)"
      ]
     },
     "execution_count": 6,
     "metadata": {},
     "output_type": "execute_result"
    }
   ],
   "source": [
    "full_data.shape"
   ]
  },
  {
   "cell_type": "code",
   "execution_count": 7,
   "id": "2d492a94",
   "metadata": {},
   "outputs": [
    {
     "name": "stdout",
     "output_type": "stream",
     "text": [
      "<class 'pandas.core.frame.DataFrame'>\n",
      "Int64Index: 112650 entries, 0 to 112649\n",
      "Data columns (total 25 columns):\n",
      " #   Column                         Non-Null Count   Dtype  \n",
      "---  ------                         --------------   -----  \n",
      " 0   seller_id                      112650 non-null  object \n",
      " 1   seller_zip_code_prefix         112650 non-null  int64  \n",
      " 2   seller_city                    112650 non-null  object \n",
      " 3   seller_state                   112650 non-null  object \n",
      " 4   order_id                       112650 non-null  object \n",
      " 5   order_item_id                  112650 non-null  int64  \n",
      " 6   product_id                     112650 non-null  object \n",
      " 7   shipping_limit_date            112650 non-null  object \n",
      " 8   price                          112650 non-null  float64\n",
      " 9   freight_value                  112650 non-null  float64\n",
      " 10  customer_id                    112650 non-null  object \n",
      " 11  order_status                   112650 non-null  object \n",
      " 12  order_purchase_timestamp       112650 non-null  object \n",
      " 13  order_approved_at              112635 non-null  object \n",
      " 14  order_delivered_carrier_date   111456 non-null  object \n",
      " 15  order_delivered_customer_date  110196 non-null  object \n",
      " 16  order_estimated_delivery_date  112650 non-null  object \n",
      " 17  product_category_name          111047 non-null  object \n",
      " 18  product_name_lenght            111047 non-null  float64\n",
      " 19  product_description_lenght     111047 non-null  float64\n",
      " 20  product_photos_qty             111047 non-null  float64\n",
      " 21  product_weight_g               112632 non-null  float64\n",
      " 22  product_length_cm              112632 non-null  float64\n",
      " 23  product_height_cm              112632 non-null  float64\n",
      " 24  product_width_cm               112632 non-null  float64\n",
      "dtypes: float64(9), int64(2), object(14)\n",
      "memory usage: 22.3+ MB\n"
     ]
    }
   ],
   "source": [
    "full_data.info()"
   ]
  },
  {
   "cell_type": "markdown",
   "id": "5fd53cc2",
   "metadata": {},
   "source": [
    "Присутствуют пропуски значений"
   ]
  },
  {
   "cell_type": "code",
   "execution_count": 8,
   "id": "7013f016",
   "metadata": {},
   "outputs": [
    {
     "data": {
      "text/html": [
       "<div>\n",
       "<style scoped>\n",
       "    .dataframe tbody tr th:only-of-type {\n",
       "        vertical-align: middle;\n",
       "    }\n",
       "\n",
       "    .dataframe tbody tr th {\n",
       "        vertical-align: top;\n",
       "    }\n",
       "\n",
       "    .dataframe thead th {\n",
       "        text-align: right;\n",
       "    }\n",
       "</style>\n",
       "<table border=\"1\" class=\"dataframe\">\n",
       "  <thead>\n",
       "    <tr style=\"text-align: right;\">\n",
       "      <th></th>\n",
       "      <th>seller_id</th>\n",
       "      <th>seller_zip_code_prefix</th>\n",
       "      <th>seller_city</th>\n",
       "      <th>seller_state</th>\n",
       "      <th>order_id</th>\n",
       "      <th>order_item_id</th>\n",
       "      <th>product_id</th>\n",
       "      <th>shipping_limit_date</th>\n",
       "      <th>price</th>\n",
       "      <th>freight_value</th>\n",
       "      <th>customer_id</th>\n",
       "      <th>order_status</th>\n",
       "      <th>order_purchase_timestamp</th>\n",
       "      <th>order_approved_at</th>\n",
       "      <th>order_delivered_carrier_date</th>\n",
       "      <th>order_delivered_customer_date</th>\n",
       "      <th>order_estimated_delivery_date</th>\n",
       "      <th>product_category_name</th>\n",
       "      <th>product_name_lenght</th>\n",
       "      <th>product_description_lenght</th>\n",
       "      <th>product_photos_qty</th>\n",
       "      <th>product_weight_g</th>\n",
       "      <th>product_length_cm</th>\n",
       "      <th>product_height_cm</th>\n",
       "      <th>product_width_cm</th>\n",
       "    </tr>\n",
       "  </thead>\n",
       "  <tbody>\n",
       "    <tr>\n",
       "      <th>0</th>\n",
       "      <td>3442f8959a84dea7ee197c632cb2df15</td>\n",
       "      <td>13023</td>\n",
       "      <td>campinas</td>\n",
       "      <td>SP</td>\n",
       "      <td>4a90af3e85dd563884e2afeab1091394</td>\n",
       "      <td>1</td>\n",
       "      <td>ffb64e34a37740dafb6c88f1abd1fa61</td>\n",
       "      <td>2017-08-25 20:50:19</td>\n",
       "      <td>106.20</td>\n",
       "      <td>9.56</td>\n",
       "      <td>9d6837f9700a3441e7183bff3bc4eef0</td>\n",
       "      <td>delivered</td>\n",
       "      <td>2017-08-21 20:35:44</td>\n",
       "      <td>2017-08-21 20:50:19</td>\n",
       "      <td>2017-08-29 20:33:29</td>\n",
       "      <td>2017-08-30 16:07:13</td>\n",
       "      <td>2017-09-01 00:00:00</td>\n",
       "      <td>esporte_lazer</td>\n",
       "      <td>26.0</td>\n",
       "      <td>417.0</td>\n",
       "      <td>3.0</td>\n",
       "      <td>700.0</td>\n",
       "      <td>43.0</td>\n",
       "      <td>15.0</td>\n",
       "      <td>35.0</td>\n",
       "    </tr>\n",
       "    <tr>\n",
       "      <th>1</th>\n",
       "      <td>3442f8959a84dea7ee197c632cb2df15</td>\n",
       "      <td>13023</td>\n",
       "      <td>campinas</td>\n",
       "      <td>SP</td>\n",
       "      <td>6d953888a914b67350d5bc4d48f2acab</td>\n",
       "      <td>1</td>\n",
       "      <td>f4621f8ad6f54a2e3c408884068be46d</td>\n",
       "      <td>2017-05-11 16:25:11</td>\n",
       "      <td>101.70</td>\n",
       "      <td>15.92</td>\n",
       "      <td>a973c4e3ad82777add3fa188f91dacea</td>\n",
       "      <td>delivered</td>\n",
       "      <td>2017-05-05 16:12:29</td>\n",
       "      <td>2017-05-05 16:25:11</td>\n",
       "      <td>2017-05-12 05:43:55</td>\n",
       "      <td>2017-06-02 16:57:44</td>\n",
       "      <td>2017-05-30 00:00:00</td>\n",
       "      <td>esporte_lazer</td>\n",
       "      <td>27.0</td>\n",
       "      <td>485.0</td>\n",
       "      <td>2.0</td>\n",
       "      <td>600.0</td>\n",
       "      <td>35.0</td>\n",
       "      <td>15.0</td>\n",
       "      <td>28.0</td>\n",
       "    </tr>\n",
       "    <tr>\n",
       "      <th>2</th>\n",
       "      <td>3442f8959a84dea7ee197c632cb2df15</td>\n",
       "      <td>13023</td>\n",
       "      <td>campinas</td>\n",
       "      <td>SP</td>\n",
       "      <td>bc8a5de6abf5b14f98a6135a7fb46731</td>\n",
       "      <td>2</td>\n",
       "      <td>325a06bcce0da45b7f4ecf2797dd40e4</td>\n",
       "      <td>2017-09-05 12:50:19</td>\n",
       "      <td>10.80</td>\n",
       "      <td>2.42</td>\n",
       "      <td>1554ffe702931a062b4383b109accf63</td>\n",
       "      <td>delivered</td>\n",
       "      <td>2017-08-30 11:47:52</td>\n",
       "      <td>2017-08-30 12:50:19</td>\n",
       "      <td>2017-08-30 19:22:18</td>\n",
       "      <td>2017-09-01 16:51:26</td>\n",
       "      <td>2017-09-20 00:00:00</td>\n",
       "      <td>esporte_lazer</td>\n",
       "      <td>44.0</td>\n",
       "      <td>1089.0</td>\n",
       "      <td>1.0</td>\n",
       "      <td>300.0</td>\n",
       "      <td>16.0</td>\n",
       "      <td>5.0</td>\n",
       "      <td>15.0</td>\n",
       "    </tr>\n",
       "    <tr>\n",
       "      <th>3</th>\n",
       "      <td>d1b65fc7debc3361ea86b5f14c68d2e2</td>\n",
       "      <td>13844</td>\n",
       "      <td>mogi guacu</td>\n",
       "      <td>SP</td>\n",
       "      <td>035201c3c82a97f8a25dd6bd5244b2d5</td>\n",
       "      <td>1</td>\n",
       "      <td>1c36a5285f7f3b1ed2637d7c528ce5ff</td>\n",
       "      <td>2017-11-22 04:30:29</td>\n",
       "      <td>89.99</td>\n",
       "      <td>45.09</td>\n",
       "      <td>9facbfd2dd51a45404d58154b12ed2dd</td>\n",
       "      <td>delivered</td>\n",
       "      <td>2017-11-10 16:54:13</td>\n",
       "      <td>2017-11-14 04:31:07</td>\n",
       "      <td>2017-11-14 20:06:59</td>\n",
       "      <td>2017-11-21 23:26:35</td>\n",
       "      <td>2017-12-04 00:00:00</td>\n",
       "      <td>malas_acessorios</td>\n",
       "      <td>21.0</td>\n",
       "      <td>769.0</td>\n",
       "      <td>4.0</td>\n",
       "      <td>1600.0</td>\n",
       "      <td>55.0</td>\n",
       "      <td>37.0</td>\n",
       "      <td>30.0</td>\n",
       "    </tr>\n",
       "    <tr>\n",
       "      <th>4</th>\n",
       "      <td>d1b65fc7debc3361ea86b5f14c68d2e2</td>\n",
       "      <td>13844</td>\n",
       "      <td>mogi guacu</td>\n",
       "      <td>SP</td>\n",
       "      <td>0504447548229e075dea8441b37b1e2a</td>\n",
       "      <td>1</td>\n",
       "      <td>8852eb03b04ec3268a66e9b696e25f6f</td>\n",
       "      <td>2017-10-06 02:14:42</td>\n",
       "      <td>199.90</td>\n",
       "      <td>21.89</td>\n",
       "      <td>4e2c1f15de98416a90c2ee06b55ccc9b</td>\n",
       "      <td>delivered</td>\n",
       "      <td>2017-09-28 19:31:57</td>\n",
       "      <td>2017-09-30 02:14:42</td>\n",
       "      <td>2017-10-02 19:33:19</td>\n",
       "      <td>2017-10-06 17:03:59</td>\n",
       "      <td>2017-11-03 00:00:00</td>\n",
       "      <td>papelaria</td>\n",
       "      <td>30.0</td>\n",
       "      <td>832.0</td>\n",
       "      <td>5.0</td>\n",
       "      <td>2000.0</td>\n",
       "      <td>25.0</td>\n",
       "      <td>55.0</td>\n",
       "      <td>40.0</td>\n",
       "    </tr>\n",
       "  </tbody>\n",
       "</table>\n",
       "</div>"
      ],
      "text/plain": [
       "                          seller_id  seller_zip_code_prefix seller_city  \\\n",
       "0  3442f8959a84dea7ee197c632cb2df15                   13023    campinas   \n",
       "1  3442f8959a84dea7ee197c632cb2df15                   13023    campinas   \n",
       "2  3442f8959a84dea7ee197c632cb2df15                   13023    campinas   \n",
       "3  d1b65fc7debc3361ea86b5f14c68d2e2                   13844  mogi guacu   \n",
       "4  d1b65fc7debc3361ea86b5f14c68d2e2                   13844  mogi guacu   \n",
       "\n",
       "  seller_state                          order_id  order_item_id  \\\n",
       "0           SP  4a90af3e85dd563884e2afeab1091394              1   \n",
       "1           SP  6d953888a914b67350d5bc4d48f2acab              1   \n",
       "2           SP  bc8a5de6abf5b14f98a6135a7fb46731              2   \n",
       "3           SP  035201c3c82a97f8a25dd6bd5244b2d5              1   \n",
       "4           SP  0504447548229e075dea8441b37b1e2a              1   \n",
       "\n",
       "                         product_id  shipping_limit_date   price  \\\n",
       "0  ffb64e34a37740dafb6c88f1abd1fa61  2017-08-25 20:50:19  106.20   \n",
       "1  f4621f8ad6f54a2e3c408884068be46d  2017-05-11 16:25:11  101.70   \n",
       "2  325a06bcce0da45b7f4ecf2797dd40e4  2017-09-05 12:50:19   10.80   \n",
       "3  1c36a5285f7f3b1ed2637d7c528ce5ff  2017-11-22 04:30:29   89.99   \n",
       "4  8852eb03b04ec3268a66e9b696e25f6f  2017-10-06 02:14:42  199.90   \n",
       "\n",
       "   freight_value                       customer_id order_status  \\\n",
       "0           9.56  9d6837f9700a3441e7183bff3bc4eef0    delivered   \n",
       "1          15.92  a973c4e3ad82777add3fa188f91dacea    delivered   \n",
       "2           2.42  1554ffe702931a062b4383b109accf63    delivered   \n",
       "3          45.09  9facbfd2dd51a45404d58154b12ed2dd    delivered   \n",
       "4          21.89  4e2c1f15de98416a90c2ee06b55ccc9b    delivered   \n",
       "\n",
       "  order_purchase_timestamp    order_approved_at order_delivered_carrier_date  \\\n",
       "0      2017-08-21 20:35:44  2017-08-21 20:50:19          2017-08-29 20:33:29   \n",
       "1      2017-05-05 16:12:29  2017-05-05 16:25:11          2017-05-12 05:43:55   \n",
       "2      2017-08-30 11:47:52  2017-08-30 12:50:19          2017-08-30 19:22:18   \n",
       "3      2017-11-10 16:54:13  2017-11-14 04:31:07          2017-11-14 20:06:59   \n",
       "4      2017-09-28 19:31:57  2017-09-30 02:14:42          2017-10-02 19:33:19   \n",
       "\n",
       "  order_delivered_customer_date order_estimated_delivery_date  \\\n",
       "0           2017-08-30 16:07:13           2017-09-01 00:00:00   \n",
       "1           2017-06-02 16:57:44           2017-05-30 00:00:00   \n",
       "2           2017-09-01 16:51:26           2017-09-20 00:00:00   \n",
       "3           2017-11-21 23:26:35           2017-12-04 00:00:00   \n",
       "4           2017-10-06 17:03:59           2017-11-03 00:00:00   \n",
       "\n",
       "  product_category_name  product_name_lenght  product_description_lenght  \\\n",
       "0         esporte_lazer                 26.0                       417.0   \n",
       "1         esporte_lazer                 27.0                       485.0   \n",
       "2         esporte_lazer                 44.0                      1089.0   \n",
       "3      malas_acessorios                 21.0                       769.0   \n",
       "4             papelaria                 30.0                       832.0   \n",
       "\n",
       "   product_photos_qty  product_weight_g  product_length_cm  product_height_cm  \\\n",
       "0                 3.0             700.0               43.0               15.0   \n",
       "1                 2.0             600.0               35.0               15.0   \n",
       "2                 1.0             300.0               16.0                5.0   \n",
       "3                 4.0            1600.0               55.0               37.0   \n",
       "4                 5.0            2000.0               25.0               55.0   \n",
       "\n",
       "   product_width_cm  \n",
       "0              35.0  \n",
       "1              28.0  \n",
       "2              15.0  \n",
       "3              30.0  \n",
       "4              40.0  "
      ]
     },
     "execution_count": 8,
     "metadata": {},
     "output_type": "execute_result"
    }
   ],
   "source": [
    "full_data.head()"
   ]
  },
  {
   "cell_type": "code",
   "execution_count": 9,
   "id": "df81e8cf",
   "metadata": {},
   "outputs": [
    {
     "data": {
      "text/plain": [
       "Index(['seller_id', 'seller_zip_code_prefix', 'seller_city', 'seller_state',\n",
       "       'order_id', 'order_item_id', 'product_id', 'shipping_limit_date',\n",
       "       'price', 'freight_value', 'customer_id', 'order_status',\n",
       "       'order_purchase_timestamp', 'order_approved_at',\n",
       "       'order_delivered_carrier_date', 'order_delivered_customer_date',\n",
       "       'order_estimated_delivery_date', 'product_category_name',\n",
       "       'product_name_lenght', 'product_description_lenght',\n",
       "       'product_photos_qty', 'product_weight_g', 'product_length_cm',\n",
       "       'product_height_cm', 'product_width_cm'],\n",
       "      dtype='object')"
      ]
     },
     "execution_count": 9,
     "metadata": {},
     "output_type": "execute_result"
    }
   ],
   "source": [
    "full_data.columns"
   ]
  },
  {
   "cell_type": "code",
   "execution_count": 10,
   "id": "39c2de3d",
   "metadata": {},
   "outputs": [],
   "source": [
    "# Фильтр ненужных колонок\n",
    "non_value_columns = ['product_name_lenght',\n",
    "                        'product_description_lenght',\n",
    "                        'product_photos_qty', \n",
    "                        'product_weight_g', \n",
    "                        'product_length_cm',\n",
    "                        'product_height_cm', \n",
    "                        'product_width_cm',\n",
    "                        'seller_zip_code_prefix',\n",
    "                        'customer_id',\n",
    "                        ]\n",
    "full_data = full_data.drop(non_value_columns, axis=1)"
   ]
  },
  {
   "cell_type": "code",
   "execution_count": 11,
   "id": "aa218e39",
   "metadata": {},
   "outputs": [
    {
     "data": {
      "text/html": [
       "<div>\n",
       "<style scoped>\n",
       "    .dataframe tbody tr th:only-of-type {\n",
       "        vertical-align: middle;\n",
       "    }\n",
       "\n",
       "    .dataframe tbody tr th {\n",
       "        vertical-align: top;\n",
       "    }\n",
       "\n",
       "    .dataframe thead th {\n",
       "        text-align: right;\n",
       "    }\n",
       "</style>\n",
       "<table border=\"1\" class=\"dataframe\">\n",
       "  <thead>\n",
       "    <tr style=\"text-align: right;\">\n",
       "      <th></th>\n",
       "      <th>order_item_id</th>\n",
       "      <th>price</th>\n",
       "      <th>freight_value</th>\n",
       "    </tr>\n",
       "  </thead>\n",
       "  <tbody>\n",
       "    <tr>\n",
       "      <th>count</th>\n",
       "      <td>112650.00</td>\n",
       "      <td>112650.00</td>\n",
       "      <td>112650.00</td>\n",
       "    </tr>\n",
       "    <tr>\n",
       "      <th>mean</th>\n",
       "      <td>1.20</td>\n",
       "      <td>120.65</td>\n",
       "      <td>19.99</td>\n",
       "    </tr>\n",
       "    <tr>\n",
       "      <th>std</th>\n",
       "      <td>0.71</td>\n",
       "      <td>183.63</td>\n",
       "      <td>15.81</td>\n",
       "    </tr>\n",
       "    <tr>\n",
       "      <th>min</th>\n",
       "      <td>1.00</td>\n",
       "      <td>0.85</td>\n",
       "      <td>0.00</td>\n",
       "    </tr>\n",
       "    <tr>\n",
       "      <th>25%</th>\n",
       "      <td>1.00</td>\n",
       "      <td>39.90</td>\n",
       "      <td>13.08</td>\n",
       "    </tr>\n",
       "    <tr>\n",
       "      <th>50%</th>\n",
       "      <td>1.00</td>\n",
       "      <td>74.99</td>\n",
       "      <td>16.26</td>\n",
       "    </tr>\n",
       "    <tr>\n",
       "      <th>75%</th>\n",
       "      <td>1.00</td>\n",
       "      <td>134.90</td>\n",
       "      <td>21.15</td>\n",
       "    </tr>\n",
       "    <tr>\n",
       "      <th>max</th>\n",
       "      <td>21.00</td>\n",
       "      <td>6735.00</td>\n",
       "      <td>409.68</td>\n",
       "    </tr>\n",
       "  </tbody>\n",
       "</table>\n",
       "</div>"
      ],
      "text/plain": [
       "       order_item_id      price  freight_value\n",
       "count      112650.00  112650.00      112650.00\n",
       "mean            1.20     120.65          19.99\n",
       "std             0.71     183.63          15.81\n",
       "min             1.00       0.85           0.00\n",
       "25%             1.00      39.90          13.08\n",
       "50%             1.00      74.99          16.26\n",
       "75%             1.00     134.90          21.15\n",
       "max            21.00    6735.00         409.68"
      ]
     },
     "execution_count": 11,
     "metadata": {},
     "output_type": "execute_result"
    }
   ],
   "source": [
    "full_data.describe().round(2)"
   ]
  },
  {
   "cell_type": "code",
   "execution_count": 12,
   "id": "7c42c859",
   "metadata": {},
   "outputs": [
    {
     "data": {
      "text/plain": [
       "Index(['seller_id', 'seller_city', 'seller_state', 'order_id', 'order_item_id',\n",
       "       'product_id', 'shipping_limit_date', 'price', 'freight_value',\n",
       "       'order_status', 'order_purchase_timestamp', 'order_approved_at',\n",
       "       'order_delivered_carrier_date', 'order_delivered_customer_date',\n",
       "       'order_estimated_delivery_date', 'product_category_name'],\n",
       "      dtype='object')"
      ]
     },
     "execution_count": 12,
     "metadata": {},
     "output_type": "execute_result"
    }
   ],
   "source": [
    "full_data.columns"
   ]
  },
  {
   "cell_type": "code",
   "execution_count": 13,
   "id": "c8dbd654",
   "metadata": {},
   "outputs": [
    {
     "data": {
      "text/html": [
       "<div>\n",
       "<style scoped>\n",
       "    .dataframe tbody tr th:only-of-type {\n",
       "        vertical-align: middle;\n",
       "    }\n",
       "\n",
       "    .dataframe tbody tr th {\n",
       "        vertical-align: top;\n",
       "    }\n",
       "\n",
       "    .dataframe thead th {\n",
       "        text-align: right;\n",
       "    }\n",
       "</style>\n",
       "<table border=\"1\" class=\"dataframe\">\n",
       "  <thead>\n",
       "    <tr style=\"text-align: right;\">\n",
       "      <th></th>\n",
       "      <th>seller_id</th>\n",
       "      <th>seller_city</th>\n",
       "      <th>seller_state</th>\n",
       "      <th>order_id</th>\n",
       "      <th>order_item_id</th>\n",
       "      <th>product_id</th>\n",
       "      <th>shipping_limit_date</th>\n",
       "      <th>price</th>\n",
       "      <th>freight_value</th>\n",
       "      <th>order_status</th>\n",
       "      <th>order_purchase_timestamp</th>\n",
       "      <th>order_approved_at</th>\n",
       "      <th>order_delivered_carrier_date</th>\n",
       "      <th>order_delivered_customer_date</th>\n",
       "      <th>order_estimated_delivery_date</th>\n",
       "      <th>product_category_name</th>\n",
       "    </tr>\n",
       "  </thead>\n",
       "  <tbody>\n",
       "    <tr>\n",
       "      <th>2</th>\n",
       "      <td>3442f8959a84dea7ee197c632cb2df15</td>\n",
       "      <td>campinas</td>\n",
       "      <td>SP</td>\n",
       "      <td>bc8a5de6abf5b14f98a6135a7fb46731</td>\n",
       "      <td>2</td>\n",
       "      <td>325a06bcce0da45b7f4ecf2797dd40e4</td>\n",
       "      <td>2017-09-05 12:50:19</td>\n",
       "      <td>10.8</td>\n",
       "      <td>2.42</td>\n",
       "      <td>delivered</td>\n",
       "      <td>2017-08-30 11:47:52</td>\n",
       "      <td>2017-08-30 12:50:19</td>\n",
       "      <td>2017-08-30 19:22:18</td>\n",
       "      <td>2017-09-01 16:51:26</td>\n",
       "      <td>2017-09-20 00:00:00</td>\n",
       "      <td>esporte_lazer</td>\n",
       "    </tr>\n",
       "    <tr>\n",
       "      <th>88524</th>\n",
       "      <td>8c16d1f32a54d92897cc437244442e1b</td>\n",
       "      <td>blumenau</td>\n",
       "      <td>SC</td>\n",
       "      <td>bc8a5de6abf5b14f98a6135a7fb46731</td>\n",
       "      <td>1</td>\n",
       "      <td>1b37d55343061aa2b18b807945ff9831</td>\n",
       "      <td>2017-09-05 12:50:19</td>\n",
       "      <td>118.9</td>\n",
       "      <td>26.68</td>\n",
       "      <td>delivered</td>\n",
       "      <td>2017-08-30 11:47:52</td>\n",
       "      <td>2017-08-30 12:50:19</td>\n",
       "      <td>2017-08-30 19:22:18</td>\n",
       "      <td>2017-09-01 16:51:26</td>\n",
       "      <td>2017-09-20 00:00:00</td>\n",
       "      <td>moveis_escritorio</td>\n",
       "    </tr>\n",
       "  </tbody>\n",
       "</table>\n",
       "</div>"
      ],
      "text/plain": [
       "                              seller_id seller_city seller_state  \\\n",
       "2      3442f8959a84dea7ee197c632cb2df15    campinas           SP   \n",
       "88524  8c16d1f32a54d92897cc437244442e1b    blumenau           SC   \n",
       "\n",
       "                               order_id  order_item_id  \\\n",
       "2      bc8a5de6abf5b14f98a6135a7fb46731              2   \n",
       "88524  bc8a5de6abf5b14f98a6135a7fb46731              1   \n",
       "\n",
       "                             product_id  shipping_limit_date  price  \\\n",
       "2      325a06bcce0da45b7f4ecf2797dd40e4  2017-09-05 12:50:19   10.8   \n",
       "88524  1b37d55343061aa2b18b807945ff9831  2017-09-05 12:50:19  118.9   \n",
       "\n",
       "       freight_value order_status order_purchase_timestamp  \\\n",
       "2               2.42    delivered      2017-08-30 11:47:52   \n",
       "88524          26.68    delivered      2017-08-30 11:47:52   \n",
       "\n",
       "         order_approved_at order_delivered_carrier_date  \\\n",
       "2      2017-08-30 12:50:19          2017-08-30 19:22:18   \n",
       "88524  2017-08-30 12:50:19          2017-08-30 19:22:18   \n",
       "\n",
       "      order_delivered_customer_date order_estimated_delivery_date  \\\n",
       "2               2017-09-01 16:51:26           2017-09-20 00:00:00   \n",
       "88524           2017-09-01 16:51:26           2017-09-20 00:00:00   \n",
       "\n",
       "      product_category_name  \n",
       "2             esporte_lazer  \n",
       "88524     moveis_escritorio  "
      ]
     },
     "execution_count": 13,
     "metadata": {},
     "output_type": "execute_result"
    }
   ],
   "source": [
    "# В одном заказе могут быть несколько продуктов. Просмотр одного из таких заказов\n",
    "# Видно, что в 1 заказе с несколькоми товарами продавцы могут быть разные\n",
    "full_data[full_data['order_id'] == 'bc8a5de6abf5b14f98a6135a7fb46731']"
   ]
  },
  {
   "cell_type": "code",
   "execution_count": 14,
   "id": "5a611c98",
   "metadata": {},
   "outputs": [],
   "source": [
    "# rearrange all the columns for easy reference\n",
    "df_sellers_analize = full_data[['seller_id', \n",
    "                                'seller_city', \n",
    "                                'seller_state', \n",
    "                                'product_category_name',\n",
    "                                'price', 'order_status', \n",
    "                                'freight_value', \n",
    "                                'order_delivered_customer_date', \n",
    "                                'order_id',\n",
    "                                'order_item_id',\n",
    "                                'product_id']]"
   ]
  },
  {
   "cell_type": "code",
   "execution_count": 15,
   "id": "122cd18b",
   "metadata": {},
   "outputs": [
    {
     "name": "stdout",
     "output_type": "stream",
     "text": [
      "<class 'pandas.core.frame.DataFrame'>\n",
      "Int64Index: 112650 entries, 0 to 112649\n",
      "Data columns (total 11 columns):\n",
      " #   Column                         Non-Null Count   Dtype  \n",
      "---  ------                         --------------   -----  \n",
      " 0   seller_id                      112650 non-null  object \n",
      " 1   seller_city                    112650 non-null  object \n",
      " 2   seller_state                   112650 non-null  object \n",
      " 3   product_category_name          111047 non-null  object \n",
      " 4   price                          112650 non-null  float64\n",
      " 5   order_status                   112650 non-null  object \n",
      " 6   freight_value                  112650 non-null  float64\n",
      " 7   order_delivered_customer_date  110196 non-null  object \n",
      " 8   order_id                       112650 non-null  object \n",
      " 9   order_item_id                  112650 non-null  int64  \n",
      " 10  product_id                     112650 non-null  object \n",
      "dtypes: float64(2), int64(1), object(8)\n",
      "memory usage: 10.3+ MB\n"
     ]
    }
   ],
   "source": [
    "df_sellers_analize.info()"
   ]
  },
  {
   "cell_type": "code",
   "execution_count": 16,
   "id": "4fd70b81",
   "metadata": {},
   "outputs": [
    {
     "data": {
      "text/plain": [
       "array(['campinas', 'mogi guacu', 'rio de janeiro', 'sao paulo',\n",
       "       'braganca paulista', 'brejao', 'penapolis', 'curitiba', 'anapolis',\n",
       "       'itirapina', 'tubarao', 'lauro de freitas', 'imbituba', 'brasilia',\n",
       "       'porto seguro', 'guaruja', 'tabatinga', 'salto', 'tres de maio',\n",
       "       'belo horizonte', 'arapongas', 'sao bernardo do campo', 'tatui',\n",
       "       'garopaba', 'camanducaia', 'tupa', 'guarulhos',\n",
       "       'sao jose dos pinhais', 'sao ludgero', 'sao jose', 'piracicaba',\n",
       "       'porto alegre', 'congonhal', 'santo andre', 'osasco', 'valinhos',\n",
       "       'joinville', 'saquarema', 'barra velha', 'petropolis',\n",
       "       'santo antonio da patrulha', 'ponta grossa', 'santana de parnaiba',\n",
       "       'sao carlos', 'ibitinga', 'barueri', 'caxias do sul', 'araguari',\n",
       "       'contagem', 'jaragua do sul', 'lages - sc', 'bento goncalves',\n",
       "       'catanduva', 'ribeirao pires', 'jaboticabal', 'echapora', 'cotia',\n",
       "       'rio do sul', 'sorocaba', 'pradopolis', 'itaborai', 'mirassol',\n",
       "       'birigui', 'assis', 'jaguariuna', 'araraquara', 'macae',\n",
       "       'rio claro', 'londrina', 'ribeirao preto', 'tres coracoes',\n",
       "       'nhandeara', 'orleans', 'cuiaba', 'formosa do oeste', 'santos',\n",
       "       'santa terezinha de goias', 'arvorezinha', 'guiricema', 'caruaru',\n",
       "       'franca', 'salvador', 'diadema', 'itaquaquecetuba',\n",
       "       'lencois paulista', 'carapicuiba', 'uruacu', 'itajai', 'loanda',\n",
       "       'maringa', 'ferraz de vasconcelos', 'limeira', 'claudio',\n",
       "       'niteroi', 'osvaldo cruz', 'sao goncalo', 'jaciara',\n",
       "       'balenario camboriu', 'timbo', 'jacutinga', 'fortaleza',\n",
       "       'ferraz de  vasconcelos', 'mirandopolis', 'bauru', 'jacarei',\n",
       "       'itu', 'laranjeiras do sul', 'videira', 'florianopolis',\n",
       "       'itapecerica da serra', 'mamanguape', 'ponte nova', 'goioere',\n",
       "       'pederneiras', 'itapevi', 'goiania', 'campina grande',\n",
       "       'estancia velha', 'resende', 'maua', 'caratinga', 'auriflama/sp',\n",
       "       'cafelandia', 'uba', 'sao paulo / sao paulo',\n",
       "       'sao jose do rio preto', 'porto ferreira', 'tres coroas',\n",
       "       'blumenau', 'mogi das cruzes', 'jaci', 'laranjal paulista',\n",
       "       'americana', 'sertanopolis', 'apucarana', 'colombo',\n",
       "       'vicente de carvalho', 'mesquita', 'sao pauo', 'cascavel',\n",
       "       'fazenda rio grande', 'taboao da serra', 'sao jose dos campos',\n",
       "       'toledo', 'marechal candido rondon', 'jundiai', 'mandirituba',\n",
       "       'suzano', 'vespasiano', 'santa rosa', 'sao joaquim da barra',\n",
       "       'santo antonio de posse', 'uruguaiana', 'campanha', 'piracanjuba',\n",
       "       'concordia', 'santa rita do sapucai', 'barretos', 'indaiatuba',\n",
       "       'nilopolis', 'pompeia', 'barro alto', 'são paulo', 'praia grande',\n",
       "       'luiz alves', 'brusque', 'criciuma', 'jales', 'atibaia',\n",
       "       'rio branco', 'barra mansa', 'marilia', 'bahia', 'taubate',\n",
       "       'cascavael', 'monteiro lobato', 'viana', 'paraiba do sul',\n",
       "       'mococa', 'sao roque', 'passos', 'francisco beltrao', 'tocantins',\n",
       "       'porto belo', 'nova iguacu', 'icara', 'lajeado', 'horizontina',\n",
       "       'votorantim', 'campo bom', 'monte alto', 'fernandopolis',\n",
       "       'pedreira', 'poa', 'divinopolis', 'santa barbara d´oeste',\n",
       "       'canoas', 'mombuca', 'sete lagoas', 'campo do meio',\n",
       "       'cordeiropolis', 'uberlandia', 'santa barbara d oeste',\n",
       "       'volta redonda', '04482255', 'aracatuba', 'monte siao', 'garuva',\n",
       "       'bonfinopolis de minas', 'cosmopolis', 'pocos de caldas',\n",
       "       'artur nogueira', 'joao pessoa', 'dois corregos', 'araquari',\n",
       "       'novo hamburgo, rio grande do sul, brasil', 'floranopolis',\n",
       "       'sumare', 'guaira', 'cachoeiro de itapemirim', 'serrana',\n",
       "       'rolandia', 'congonhas', 'sao  jose dos pinhais', 'boituva',\n",
       "       'mairipora', 'guaimbe', 'parai', 'aperibe', 'jaguaruna',\n",
       "       'vila velha', 'juiz de fora', 'fronteira', 'novo horizonte',\n",
       "       'pilar do sul', 'itajobi', 'cariacica / es', 'prados', 'mucambo',\n",
       "       'montes claros', 'vicosa', 'porto velho', 'sao jose do rio pardo',\n",
       "       'pato branco', 'sao joao del rei', 'presidente prudente',\n",
       "       'paracambi', 'serra negra', 'sao caetano do sul', 'bom jardim',\n",
       "       'serra redonda', 'sao francisco do sul', 'betim', 'imbituva',\n",
       "       'guaratuba', 'teresina', \"sao miguel d'oeste\", 'california',\n",
       "       'japira', 'foz do iguacu', 'nova friburgo', 'itau de minas',\n",
       "       'oliveira', 'sabara', 'pedrinhas paulista', 'votuporanga',\n",
       "       'holambra', 'ararangua', 'pinhais', 'pato bragado', 'carazinho',\n",
       "       'arinos', 'sao pedro', 'lages', 'ampere', 'itauna', 'mogi mirim',\n",
       "       'curitibanos', 'brasilia df', 'mogi das cruses', 'hortolandia',\n",
       "       'ipatinga', 'laguna', 'dores de campos', 'sao paulo - sp',\n",
       "       'araras', 'divisa nova', 'igaracu do tiete', 'pitangueiras',\n",
       "       'campo grande', 'garca', 'presidente epitacio', 'sbc/sp',\n",
       "       \"arraial d'ajuda (porto seguro)\", 'pacatuba', 'formosa',\n",
       "       'borda da mata', 'ubatuba', 'entre rios do oeste', 'formiga',\n",
       "       'venancio aires', 'navegantes', 'cruzeiro', 'santa maria',\n",
       "       'muriae', 'santo andre/sao paulo', 'ipe', 'messias targino',\n",
       "       'varginha', 'botucatu', 'domingos martins', 'uberaba',\n",
       "       'coronel fabriciano', 'cachoeirinha', 's jose do rio preto',\n",
       "       'taruma', 'pirassununga', 'aruja', 'sp / sp', 'angra dos reis',\n",
       "       'juzeiro do norte', 'laurentino', 'flores da cunha', 'montenegro',\n",
       "       'pedregulho', 'novo hamburgo', 'torres', 'aracaju',\n",
       "       'santa catarina', 'joao pinheiro', 'bady bassitt', 'sinop',\n",
       "       'guarapuava', 'araucaria', 'vitoria', 'batatais', 'lagoa santa',\n",
       "       'chapeco', 'umuarama', 'belford roxo', 'cariacica',\n",
       "       'monte alegre do sul', 'sp', 'lagoa da prata', 'rolante',\n",
       "       'teresopolis', 'itaporanga', 'campo largo', 'sao joao de meriti',\n",
       "       'maua/sao paulo', 'bom jesus dos perdoes', 'brotas', 'irece',\n",
       "       'coxim', 'jau', 'conselheiro lafaiete', 'amparo',\n",
       "       'sao miguel do oeste', 'gaspar', 'rio bonito', 'mandaguari',\n",
       "       'vargem grande paulista', 'conchal', 'cambe', 'marialva',\n",
       "       'alfenas', 'balneario camboriu', 'palhoca', 'sao bernardo do capo',\n",
       "       'guara', 'colatina', 'franco da rocha', 'lambari',\n",
       "       'mogi das cruzes / sp', 'treze tilias',\n",
       "       'rio de janeiro \\\\rio de janeiro', 'paulo lopes', 'santa cecilia',\n",
       "       'braco do norte', 'floresta', 'farroupilha', 'castro', 'luziania',\n",
       "       'joao monlevade', 'pelotas', 'sao bento', 'campos dos goytacazes',\n",
       "       'ouro fino', 'sao jose dos pinhas', 'tiete', 'viamao', 'janauba',\n",
       "       'capivari', 'santa terezinha de itaipu', 'igrejinha',\n",
       "       'sao bento do sul', 'duque de caxias', 'araxa', 'canoinhas',\n",
       "       'recife', 'barbacena/ minas gerais', 'vera cruz', 'parnamirim',\n",
       "       'santo angelo', 'paincandu', 'tres rios', 'tanabi',\n",
       "       'portoferreira', 'itatiba', 'sarandi', 'cravinhos', 'morrinhos',\n",
       "       'bebedouro', 'almirante tamandare', 'bertioga', 'natal',\n",
       "       'belo horizont', 'ivoti', 'andira-pr', 'cerqueira cesar',\n",
       "       'marapoama', 'imigrante', 'mairinque', 'sao paulo sp',\n",
       "       'rio de janeiro / rio de janeiro', 'andradas', 'sando andre',\n",
       "       'nova odessa', 'paulinia', 'extrema', 'olimpia',\n",
       "       'angra dos reis rj', 'ronda alta', 'sao  paulo', 'sao vicente',\n",
       "       'pinhais/pr', 'portao', 'registro', 'ao bernardo do campo',\n",
       "       'carmo do cajuru', 'embu das artes', 'fernando prestes',\n",
       "       'castro pires', 'vargem grande do sul', 'campina das missoes',\n",
       "       'sao pedro da aldeia', 'miguelopolis', 'itapui', 'sbc', 'neopolis',\n",
       "       'mineiros do tiete', 'varzea paulista', 'nova lima', 'barbacena',\n",
       "       'caieiras', 'buritama', 'erechim', 'itapetininga', 'pinhalzinho',\n",
       "       'descalvado', 'pitanga', 'bage', 'taio', \"santa barbara d'oeste\",\n",
       "       'patos de minas', 'garulhos', 'jarinu', 'nova petropolis',\n",
       "       'ribeirao preto / sao paulo', 'camboriu', 'nova trento',\n",
       "       'sao luis', 'sao jose do rio pret', 'eusebio', 'itaipulandia',\n",
       "       'ipira', 'campo magro', 'tiradentes', 'sao paluo', 'baependi',\n",
       "       'embu guacu', 'paraiso do sul', 'aparecida', 'cataguases',\n",
       "       'bariri', 'abadia de goias', 'alambari', 'ji parana', 'vassouras',\n",
       "       'lorena', 'rodeio', 'louveira', 'guanhaes',\n",
       "       'santo antonio de padua', 'presidente getulio', 'campos novos',\n",
       "       'eunapolis', 'engenheiro coelho', 'rio das pedras',\n",
       "       'afonso claudio', 'carapicuiba / sao paulo', 'centro', 'parana',\n",
       "       'indaial', 'bombinhas', 'orlandia', 'itapeva', 'sao sebastiao',\n",
       "       'macatuba', 'sao joao da boa vista', 'teixeira soares',\n",
       "       'mandaguacu', 'rio do oeste', 'vendas@creditparts.com.br',\n",
       "       'armacao dos buzios', 'mateus leme', 'sao paulop',\n",
       "       'campo limpo paulista', 'socorro', 'serra', 'bocaiuva do sul',\n",
       "       'ilheus', 'imbe', 'soledade', 'cajamar', 'rio negrinho',\n",
       "       'clementina', 'francisco morato', 'rio grande', 'xaxim', 'manaus',\n",
       "       'terra boa', 'minas gerais', 'avare', 'ibirite',\n",
       "       'santa maria da serra', 'auriflama', 'condor', 'ibia', 'guanambi',\n",
       "       'caucaia', 'cordilheira alta', 'carmo da mata', 'ouro preto',\n",
       "       'pedro leopoldo', 'santa rosa de viterbo', 'xanxere',\n",
       "       'alvares machado', 'scao jose do rio pardo', 'ribeirao das neves',\n",
       "       'medianeira', 'massaranduba', 'cornelio procopio', 'pirituba',\n",
       "       'jambeiro', 'sao leopoldo', 'aguas claras df', 'ribeirao pretp',\n",
       "       'cianorte', 'feira de santana', 'cachoeira do sul', 'guariba',\n",
       "       'sao sebastiao da grama/sp', 'dracena', 'ourinhos',\n",
       "       'robeirao preto', 'cacador', 'gama', 'queimados', 'cananeia',\n",
       "       'presidente bernardes', 'pinhalao', 'sombrio', 'campo mourao',\n",
       "       'ilicinea', 'itabira', 'barrinha', 'jussara', 'uniao da vitoria',\n",
       "       'triunfo', 'santa cruz do sul', 'colorado', 'itapema', 'sapiranga',\n",
       "       'paranavai', 'alvorada', 'ipaussu', 'rio verde', 'mage',\n",
       "       'tabao da serra', 'bofete', 'picarras', 'marica', 'jaragua',\n",
       "       'governador valadares', 'rio de janeiro, rio de janeiro, brasil',\n",
       "       'pouso alegre', 'timoteo', 'muqui', 'ipua', 'jacarei / sao paulo',\n",
       "       'varzea alegre', 'guaratingueta', 'tambau', 'irati',\n",
       "       'riberao preto', 'aparecida de goiania', 'bandeirantes',\n",
       "       'vitoria de santo antao', 'palotina', 'leme'], dtype=object)"
      ]
     },
     "execution_count": 16,
     "metadata": {},
     "output_type": "execute_result"
    }
   ],
   "source": [
    "# Просмотр уникальных значений городов. Нужно чистить данные\n",
    "df_sellers_analize['seller_city'].unique()"
   ]
  },
  {
   "cell_type": "code",
   "execution_count": 17,
   "id": "3e2a2d00",
   "metadata": {},
   "outputs": [
    {
     "data": {
      "text/plain": [
       "array(['SP', 'RJ', 'PE', 'PR', 'GO', 'SC', 'BA', 'DF', 'RS', 'MG', 'RN',\n",
       "       'MT', 'CE', 'PB', 'AC', 'ES', 'RO', 'PI', 'MS', 'SE', 'MA', 'AM',\n",
       "       'PA'], dtype=object)"
      ]
     },
     "execution_count": 17,
     "metadata": {},
     "output_type": "execute_result"
    }
   ],
   "source": [
    "# Просмотр уникальных значений районов продавцов\n",
    "df_sellers_analize['seller_state'].unique()"
   ]
  },
  {
   "cell_type": "code",
   "execution_count": 18,
   "id": "b9835716",
   "metadata": {},
   "outputs": [
    {
     "data": {
      "text/plain": [
       "order_delivered_customer_date    2454\n",
       "product_category_name            1603\n",
       "seller_id                           0\n",
       "seller_city                         0\n",
       "seller_state                        0\n",
       "price                               0\n",
       "order_status                        0\n",
       "freight_value                       0\n",
       "order_id                            0\n",
       "order_item_id                       0\n",
       "product_id                          0\n",
       "dtype: int64"
      ]
     },
     "execution_count": 18,
     "metadata": {},
     "output_type": "execute_result"
    }
   ],
   "source": [
    "# check missing values for each column \n",
    "df_sellers_analize.isnull().sum().sort_values(ascending=False)"
   ]
  },
  {
   "cell_type": "markdown",
   "id": "683be9c3",
   "metadata": {},
   "source": [
    "### Cleaning data"
   ]
  },
  {
   "cell_type": "code",
   "execution_count": 19,
   "id": "5455b812",
   "metadata": {},
   "outputs": [
    {
     "name": "stderr",
     "output_type": "stream",
     "text": [
      "C:\\ProgramData\\Anaconda3\\envs\\py3.7\\lib\\site-packages\\ipykernel_launcher.py:2: SettingWithCopyWarning: \n",
      "A value is trying to be set on a copy of a slice from a DataFrame.\n",
      "Try using .loc[row_indexer,col_indexer] = value instead\n",
      "\n",
      "See the caveats in the documentation: https://pandas.pydata.org/pandas-docs/stable/user_guide/indexing.html#returning-a-view-versus-a-copy\n",
      "  \n"
     ]
    }
   ],
   "source": [
    "# clean seller_city from wrong characters\n",
    "df_sellers_analize['seller_city'] = df_sellers_analize['seller_city'].str.split(r'\\\\|,|/|\\(|\\-').str[0].str.strip()"
   ]
  },
  {
   "cell_type": "code",
   "execution_count": 20,
   "id": "20e1468f",
   "metadata": {},
   "outputs": [],
   "source": [
    "# collect only delivered, shipped and invoiced orders\n",
    "df_sellers_analize = df_sellers_analize[df_sellers_analize['order_status'].isin(['delivered', 'shipped', 'invoiced'])]"
   ]
  },
  {
   "cell_type": "code",
   "execution_count": 21,
   "id": "17e14bec",
   "metadata": {},
   "outputs": [],
   "source": [
    "# Очистка от дубиликатов строк и пустых значений \n",
    "df_sellers_analize = df_sellers_analize.drop_duplicates()\n",
    "df_sellers_analize = df_sellers_analize.dropna().reset_index(drop=True)"
   ]
  },
  {
   "cell_type": "code",
   "execution_count": 22,
   "id": "ebc51604",
   "metadata": {
    "scrolled": true
   },
   "outputs": [
    {
     "data": {
      "text/plain": [
       "(108652, 11)"
      ]
     },
     "execution_count": 22,
     "metadata": {},
     "output_type": "execute_result"
    }
   ],
   "source": [
    "df_sellers_analize.shape"
   ]
  },
  {
   "cell_type": "code",
   "execution_count": 23,
   "id": "caf87df5",
   "metadata": {},
   "outputs": [
    {
     "data": {
      "text/plain": [
       "Index(['seller_id', 'seller_city', 'seller_state', 'product_category_name',\n",
       "       'price', 'order_status', 'freight_value',\n",
       "       'order_delivered_customer_date', 'order_id', 'order_item_id',\n",
       "       'product_id'],\n",
       "      dtype='object')"
      ]
     },
     "execution_count": 23,
     "metadata": {},
     "output_type": "execute_result"
    }
   ],
   "source": [
    "df_sellers_analize.columns"
   ]
  },
  {
   "cell_type": "code",
   "execution_count": 24,
   "id": "c350a172",
   "metadata": {},
   "outputs": [
    {
     "data": {
      "text/plain": [
       "seller_id                        0\n",
       "seller_city                      0\n",
       "seller_state                     0\n",
       "product_category_name            0\n",
       "price                            0\n",
       "order_status                     0\n",
       "freight_value                    0\n",
       "order_delivered_customer_date    0\n",
       "order_id                         0\n",
       "order_item_id                    0\n",
       "product_id                       0\n",
       "dtype: int64"
      ]
     },
     "execution_count": 24,
     "metadata": {},
     "output_type": "execute_result"
    }
   ],
   "source": [
    "# check missing values for each column \n",
    "df_sellers_analize.isnull().sum().sort_values(ascending=False)"
   ]
  },
  {
   "cell_type": "markdown",
   "id": "e79e3026",
   "metadata": {},
   "source": [
    "### Best | worst sellers analize"
   ]
  },
  {
   "cell_type": "markdown",
   "id": "d0d1b689",
   "metadata": {},
   "source": [
    "#### Первоначальный анализ продавцов по количеству продаж"
   ]
  },
  {
   "cell_type": "code",
   "execution_count": 25,
   "id": "12e02283",
   "metadata": {},
   "outputs": [],
   "source": [
    "orders_count = df_sellers_analize.groupby('seller_id', as_index=False)['order_id'].count()"
   ]
  },
  {
   "cell_type": "code",
   "execution_count": 26,
   "id": "b60beef8",
   "metadata": {},
   "outputs": [
    {
     "data": {
      "text/html": [
       "<div>\n",
       "<style scoped>\n",
       "    .dataframe tbody tr th:only-of-type {\n",
       "        vertical-align: middle;\n",
       "    }\n",
       "\n",
       "    .dataframe tbody tr th {\n",
       "        vertical-align: top;\n",
       "    }\n",
       "\n",
       "    .dataframe thead th {\n",
       "        text-align: right;\n",
       "    }\n",
       "</style>\n",
       "<table border=\"1\" class=\"dataframe\">\n",
       "  <thead>\n",
       "    <tr style=\"text-align: right;\">\n",
       "      <th></th>\n",
       "      <th>seller_id</th>\n",
       "      <th>order_id</th>\n",
       "    </tr>\n",
       "  </thead>\n",
       "  <tbody>\n",
       "    <tr>\n",
       "      <th>0</th>\n",
       "      <td>0015a82c2db000af6aaaf3ae2ecb0532</td>\n",
       "      <td>3</td>\n",
       "    </tr>\n",
       "    <tr>\n",
       "      <th>1</th>\n",
       "      <td>001cca7ae9ae17fb1caed9dfb1094831</td>\n",
       "      <td>234</td>\n",
       "    </tr>\n",
       "    <tr>\n",
       "      <th>2</th>\n",
       "      <td>002100f778ceb8431b7a1020ff7ab48f</td>\n",
       "      <td>54</td>\n",
       "    </tr>\n",
       "    <tr>\n",
       "      <th>3</th>\n",
       "      <td>004c9cd9d87a3c30c522c48c4fc07416</td>\n",
       "      <td>156</td>\n",
       "    </tr>\n",
       "    <tr>\n",
       "      <th>4</th>\n",
       "      <td>00720abe85ba0859807595bbf045a33b</td>\n",
       "      <td>26</td>\n",
       "    </tr>\n",
       "  </tbody>\n",
       "</table>\n",
       "</div>"
      ],
      "text/plain": [
       "                          seller_id  order_id\n",
       "0  0015a82c2db000af6aaaf3ae2ecb0532         3\n",
       "1  001cca7ae9ae17fb1caed9dfb1094831       234\n",
       "2  002100f778ceb8431b7a1020ff7ab48f        54\n",
       "3  004c9cd9d87a3c30c522c48c4fc07416       156\n",
       "4  00720abe85ba0859807595bbf045a33b        26"
      ]
     },
     "execution_count": 26,
     "metadata": {},
     "output_type": "execute_result"
    }
   ],
   "source": [
    "orders_count.head()"
   ]
  },
  {
   "cell_type": "code",
   "execution_count": 27,
   "id": "ee6e0681",
   "metadata": {},
   "outputs": [],
   "source": [
    "# Сортировка значений\n",
    "orders_count = orders_count.rename(columns={'order_id': 'num_orders'}). \\\n",
    "    sort_values(by=['num_orders'], ascending=False, ignore_index=True)"
   ]
  },
  {
   "cell_type": "code",
   "execution_count": 28,
   "id": "775dd83f",
   "metadata": {},
   "outputs": [
    {
     "data": {
      "image/png": "[encoded data removed]",
      "text/plain": [
       "<Figure size 1080x432 with 1 Axes>"
      ]
     },
     "metadata": {
      "needs_background": "light"
     },
     "output_type": "display_data"
    }
   ],
   "source": [
    "# График лидеров продаж по количеству\n",
    "plt.subplots(figsize=(15, 6))\n",
    "plt.bar(orders_count[orders_count['num_orders'] > 1000]['seller_id'],\n",
    "        orders_count[orders_count['num_orders'] > 1000]['num_orders'])\n",
    "plt.xlabel('Seller ID')\n",
    "plt.xticks(rotation=90)\n",
    "plt.ylabel('Number of Orders')\n",
    "plt.title('Лидеры по объемам продаж')\n",
    "plt.show()"
   ]
  },
  {
   "cell_type": "code",
   "execution_count": 29,
   "id": "168589db",
   "metadata": {
    "scrolled": false
   },
   "outputs": [
    {
     "data": {
      "text/html": [
       "<div>\n",
       "<style scoped>\n",
       "    .dataframe tbody tr th:only-of-type {\n",
       "        vertical-align: middle;\n",
       "    }\n",
       "\n",
       "    .dataframe tbody tr th {\n",
       "        vertical-align: top;\n",
       "    }\n",
       "\n",
       "    .dataframe thead th {\n",
       "        text-align: right;\n",
       "    }\n",
       "</style>\n",
       "<table border=\"1\" class=\"dataframe\">\n",
       "  <thead>\n",
       "    <tr style=\"text-align: right;\">\n",
       "      <th></th>\n",
       "      <th>seller_id</th>\n",
       "      <th>num_orders</th>\n",
       "    </tr>\n",
       "  </thead>\n",
       "  <tbody>\n",
       "    <tr>\n",
       "      <th>0</th>\n",
       "      <td>6560211a19b47992c3666cc44a7e94c0</td>\n",
       "      <td>1996</td>\n",
       "    </tr>\n",
       "    <tr>\n",
       "      <th>1</th>\n",
       "      <td>4a3ca9315b744ce9f8e9374361493884</td>\n",
       "      <td>1949</td>\n",
       "    </tr>\n",
       "    <tr>\n",
       "      <th>2</th>\n",
       "      <td>1f50f920176fa81dab994f9023523100</td>\n",
       "      <td>1926</td>\n",
       "    </tr>\n",
       "    <tr>\n",
       "      <th>3</th>\n",
       "      <td>cc419e0650a3c5ba77189a1882b7556a</td>\n",
       "      <td>1719</td>\n",
       "    </tr>\n",
       "    <tr>\n",
       "      <th>4</th>\n",
       "      <td>da8622b14eb17ae2831f4ac5b9dab84a</td>\n",
       "      <td>1548</td>\n",
       "    </tr>\n",
       "  </tbody>\n",
       "</table>\n",
       "</div>"
      ],
      "text/plain": [
       "                          seller_id  num_orders\n",
       "0  6560211a19b47992c3666cc44a7e94c0        1996\n",
       "1  4a3ca9315b744ce9f8e9374361493884        1949\n",
       "2  1f50f920176fa81dab994f9023523100        1926\n",
       "3  cc419e0650a3c5ba77189a1882b7556a        1719\n",
       "4  da8622b14eb17ae2831f4ac5b9dab84a        1548"
      ]
     },
     "execution_count": 29,
     "metadata": {},
     "output_type": "execute_result"
    }
   ],
   "source": [
    "orders_count.head()"
   ]
  },
  {
   "cell_type": "code",
   "execution_count": 30,
   "id": "94173083",
   "metadata": {},
   "outputs": [],
   "source": [
    "# Собираем топ5 и топ10 продавцов\n",
    "top5_sellers = orders_count.iloc[:5, 0].tolist()\n",
    "top10_sellers = orders_count.iloc[:10, 0].tolist()"
   ]
  },
  {
   "cell_type": "code",
   "execution_count": 31,
   "id": "bba4706a",
   "metadata": {},
   "outputs": [
    {
     "data": {
      "text/plain": [
       "13"
      ]
     },
     "execution_count": 31,
     "metadata": {},
     "output_type": "execute_result"
    }
   ],
   "source": [
    "orders_count[orders_count['num_orders'] > 1000].shape[0]"
   ]
  },
  {
   "cell_type": "code",
   "execution_count": 32,
   "id": "91bdd5a4",
   "metadata": {},
   "outputs": [],
   "source": [
    "# plt.subplots(figsize=(15,6))\n",
    "# plt.plot(orders_count['seller_id'], orders_count['num_orders'])\n",
    "# plt.xlabel('Customers ID')\n",
    "# plt.xticks(rotation=90)\n",
    "# plt.ylabel('Number of Orders')\n",
    "# plt.title('Number of Orders for different Customers')\n",
    "# plt.show()"
   ]
  },
  {
   "cell_type": "markdown",
   "id": "39205ff6",
   "metadata": {},
   "source": [
    "#### Полезно посмотреть не по количеству продаж, а по доходу"
   ]
  },
  {
   "cell_type": "code",
   "execution_count": 33,
   "id": "c9271123",
   "metadata": {},
   "outputs": [],
   "source": [
    "sellers_income = df_sellers_analize.groupby('seller_id', as_index=False)['price'].sum(). \\\n",
    "                rename(columns={'price': 'sum_income'}). \\\n",
    "                sort_values(by=['sum_income'], ascending=False, ignore_index=True)"
   ]
  },
  {
   "cell_type": "code",
   "execution_count": 34,
   "id": "d4afad23",
   "metadata": {},
   "outputs": [
    {
     "data": {
      "text/html": [
       "<div>\n",
       "<style scoped>\n",
       "    .dataframe tbody tr th:only-of-type {\n",
       "        vertical-align: middle;\n",
       "    }\n",
       "\n",
       "    .dataframe tbody tr th {\n",
       "        vertical-align: top;\n",
       "    }\n",
       "\n",
       "    .dataframe thead th {\n",
       "        text-align: right;\n",
       "    }\n",
       "</style>\n",
       "<table border=\"1\" class=\"dataframe\">\n",
       "  <thead>\n",
       "    <tr style=\"text-align: right;\">\n",
       "      <th></th>\n",
       "      <th>seller_id</th>\n",
       "      <th>sum_income</th>\n",
       "    </tr>\n",
       "  </thead>\n",
       "  <tbody>\n",
       "    <tr>\n",
       "      <th>0</th>\n",
       "      <td>4869f7a5dfa277a7dca6462dcf3b52b2</td>\n",
       "      <td>226987.93</td>\n",
       "    </tr>\n",
       "    <tr>\n",
       "      <th>1</th>\n",
       "      <td>53243585a1d6dc2643021fd1853d8905</td>\n",
       "      <td>217940.44</td>\n",
       "    </tr>\n",
       "    <tr>\n",
       "      <th>2</th>\n",
       "      <td>4a3ca9315b744ce9f8e9374361493884</td>\n",
       "      <td>196882.12</td>\n",
       "    </tr>\n",
       "    <tr>\n",
       "      <th>3</th>\n",
       "      <td>fa1c13f2614d7b5c4749cbc52fecda94</td>\n",
       "      <td>190917.14</td>\n",
       "    </tr>\n",
       "    <tr>\n",
       "      <th>4</th>\n",
       "      <td>7c67e1448b00f6e969d365cea6b010ab</td>\n",
       "      <td>186570.05</td>\n",
       "    </tr>\n",
       "    <tr>\n",
       "      <th>5</th>\n",
       "      <td>7e93a43ef30c4f03f38b393420bc753a</td>\n",
       "      <td>165981.49</td>\n",
       "    </tr>\n",
       "    <tr>\n",
       "      <th>6</th>\n",
       "      <td>da8622b14eb17ae2831f4ac5b9dab84a</td>\n",
       "      <td>159816.87</td>\n",
       "    </tr>\n",
       "    <tr>\n",
       "      <th>7</th>\n",
       "      <td>7a67c85e85bb2ce8582c35f2203ad736</td>\n",
       "      <td>139658.69</td>\n",
       "    </tr>\n",
       "    <tr>\n",
       "      <th>8</th>\n",
       "      <td>1025f0e2d44d7041d6cf58b6550e0bfa</td>\n",
       "      <td>138208.56</td>\n",
       "    </tr>\n",
       "    <tr>\n",
       "      <th>9</th>\n",
       "      <td>955fee9216a65b617aa5c0531780ce60</td>\n",
       "      <td>131836.71</td>\n",
       "    </tr>\n",
       "    <tr>\n",
       "      <th>10</th>\n",
       "      <td>6560211a19b47992c3666cc44a7e94c0</td>\n",
       "      <td>120702.83</td>\n",
       "    </tr>\n",
       "    <tr>\n",
       "      <th>11</th>\n",
       "      <td>46dc3b2cc0980fb8ec44634e21d2718e</td>\n",
       "      <td>113626.76</td>\n",
       "    </tr>\n",
       "    <tr>\n",
       "      <th>12</th>\n",
       "      <td>620c87c171fb2a6dd6e8bb4dec959fc6</td>\n",
       "      <td>112461.50</td>\n",
       "    </tr>\n",
       "    <tr>\n",
       "      <th>13</th>\n",
       "      <td>7d13fca15225358621be4086e1eb0964</td>\n",
       "      <td>112436.18</td>\n",
       "    </tr>\n",
       "    <tr>\n",
       "      <th>14</th>\n",
       "      <td>5dceca129747e92ff8ef7a997dc4f8ca</td>\n",
       "      <td>111126.73</td>\n",
       "    </tr>\n",
       "    <tr>\n",
       "      <th>15</th>\n",
       "      <td>1f50f920176fa81dab994f9023523100</td>\n",
       "      <td>106655.71</td>\n",
       "    </tr>\n",
       "    <tr>\n",
       "      <th>16</th>\n",
       "      <td>cc419e0650a3c5ba77189a1882b7556a</td>\n",
       "      <td>101090.96</td>\n",
       "    </tr>\n",
       "    <tr>\n",
       "      <th>17</th>\n",
       "      <td>a1043bafd471dff536d0c462352beb48</td>\n",
       "      <td>99309.23</td>\n",
       "    </tr>\n",
       "    <tr>\n",
       "      <th>18</th>\n",
       "      <td>3d871de0142ce09b7081e2b9d1733cb1</td>\n",
       "      <td>93407.40</td>\n",
       "    </tr>\n",
       "    <tr>\n",
       "      <th>19</th>\n",
       "      <td>edb1ef5e36e0c8cd84eb3c9b003e486d</td>\n",
       "      <td>79144.90</td>\n",
       "    </tr>\n",
       "    <tr>\n",
       "      <th>20</th>\n",
       "      <td>ccc4bbb5f32a6ab2b7066a4130f114e3</td>\n",
       "      <td>72926.72</td>\n",
       "    </tr>\n",
       "    <tr>\n",
       "      <th>21</th>\n",
       "      <td>f7ba60f8c3f99e7ee4042fdef03b70c4</td>\n",
       "      <td>68070.00</td>\n",
       "    </tr>\n",
       "    <tr>\n",
       "      <th>22</th>\n",
       "      <td>fe2032dab1a61af8794248c8196565c9</td>\n",
       "      <td>65689.71</td>\n",
       "    </tr>\n",
       "    <tr>\n",
       "      <th>23</th>\n",
       "      <td>8581055ce74af1daba164fdbd55a40de</td>\n",
       "      <td>63893.92</td>\n",
       "    </tr>\n",
       "    <tr>\n",
       "      <th>24</th>\n",
       "      <td>cca3071e3e9bb7d12640c9fbe2301306</td>\n",
       "      <td>63035.16</td>\n",
       "    </tr>\n",
       "  </tbody>\n",
       "</table>\n",
       "</div>"
      ],
      "text/plain": [
       "                           seller_id  sum_income\n",
       "0   4869f7a5dfa277a7dca6462dcf3b52b2   226987.93\n",
       "1   53243585a1d6dc2643021fd1853d8905   217940.44\n",
       "2   4a3ca9315b744ce9f8e9374361493884   196882.12\n",
       "3   fa1c13f2614d7b5c4749cbc52fecda94   190917.14\n",
       "4   7c67e1448b00f6e969d365cea6b010ab   186570.05\n",
       "5   7e93a43ef30c4f03f38b393420bc753a   165981.49\n",
       "6   da8622b14eb17ae2831f4ac5b9dab84a   159816.87\n",
       "7   7a67c85e85bb2ce8582c35f2203ad736   139658.69\n",
       "8   1025f0e2d44d7041d6cf58b6550e0bfa   138208.56\n",
       "9   955fee9216a65b617aa5c0531780ce60   131836.71\n",
       "10  6560211a19b47992c3666cc44a7e94c0   120702.83\n",
       "11  46dc3b2cc0980fb8ec44634e21d2718e   113626.76\n",
       "12  620c87c171fb2a6dd6e8bb4dec959fc6   112461.50\n",
       "13  7d13fca15225358621be4086e1eb0964   112436.18\n",
       "14  5dceca129747e92ff8ef7a997dc4f8ca   111126.73\n",
       "15  1f50f920176fa81dab994f9023523100   106655.71\n",
       "16  cc419e0650a3c5ba77189a1882b7556a   101090.96\n",
       "17  a1043bafd471dff536d0c462352beb48    99309.23\n",
       "18  3d871de0142ce09b7081e2b9d1733cb1    93407.40\n",
       "19  edb1ef5e36e0c8cd84eb3c9b003e486d    79144.90\n",
       "20  ccc4bbb5f32a6ab2b7066a4130f114e3    72926.72\n",
       "21  f7ba60f8c3f99e7ee4042fdef03b70c4    68070.00\n",
       "22  fe2032dab1a61af8794248c8196565c9    65689.71\n",
       "23  8581055ce74af1daba164fdbd55a40de    63893.92\n",
       "24  cca3071e3e9bb7d12640c9fbe2301306    63035.16"
      ]
     },
     "execution_count": 34,
     "metadata": {},
     "output_type": "execute_result"
    }
   ],
   "source": [
    "sellers_income.head(25)"
   ]
  },
  {
   "cell_type": "code",
   "execution_count": 35,
   "id": "becfff19",
   "metadata": {},
   "outputs": [
    {
     "data": {
      "text/plain": [
       "371"
      ]
     },
     "execution_count": 35,
     "metadata": {},
     "output_type": "execute_result"
    }
   ],
   "source": [
    "(sellers_income['sum_income'] < 100).sum()"
   ]
  },
  {
   "cell_type": "code",
   "execution_count": 36,
   "id": "7bae0b00",
   "metadata": {},
   "outputs": [],
   "source": [
    "top5_best_sellers = sellers_income.iloc[:5, 0].tolist()\n",
    "top10_best_sellers = sellers_income.iloc[:10, 0].tolist()"
   ]
  },
  {
   "cell_type": "code",
   "execution_count": 37,
   "id": "8a77c48d",
   "metadata": {},
   "outputs": [
    {
     "data": {
      "image/png": "[encoded data removed]",
      "text/plain": [
       "<Figure size 1080x432 with 1 Axes>"
      ]
     },
     "metadata": {
      "needs_background": "light"
     },
     "output_type": "display_data"
    }
   ],
   "source": [
    "plt.subplots(figsize=(15, 6))\n",
    "plt.bar(sellers_income[sellers_income['sum_income'] > 50000]['seller_id'],\n",
    "        sellers_income[sellers_income['sum_income'] > 50000]['sum_income'])\n",
    "plt.xlabel('Seller ID')\n",
    "plt.xticks(rotation=90)\n",
    "plt.ylabel('Сумма оборота')\n",
    "plt.title('Лидеры по обороту')\n",
    "plt.show()"
   ]
  },
  {
   "cell_type": "markdown",
   "id": "5c074da1",
   "metadata": {},
   "source": [
    "#### Продавцы, которые продали товаров меньше 100 товаров"
   ]
  },
  {
   "cell_type": "code",
   "execution_count": 38,
   "id": "4d5fbbb5",
   "metadata": {},
   "outputs": [
    {
     "data": {
      "text/plain": [
       "(2682, 2)"
      ]
     },
     "execution_count": 38,
     "metadata": {},
     "output_type": "execute_result"
    }
   ],
   "source": [
    "orders_count[orders_count['num_orders'] < 100].shape"
   ]
  },
  {
   "cell_type": "code",
   "execution_count": 39,
   "id": "89404565",
   "metadata": {},
   "outputs": [
    {
     "data": {
      "text/plain": [
       "(488, 2)"
      ]
     },
     "execution_count": 39,
     "metadata": {},
     "output_type": "execute_result"
    }
   ],
   "source": [
    "orders_count[orders_count['num_orders'] == 1].shape"
   ]
  },
  {
   "cell_type": "code",
   "execution_count": 40,
   "id": "446641ea",
   "metadata": {},
   "outputs": [],
   "source": [
    "outsider_sellers = orders_count[orders_count['num_orders'] < 100].reset_index(drop=True)"
   ]
  },
  {
   "cell_type": "code",
   "execution_count": 41,
   "id": "38f09319",
   "metadata": {},
   "outputs": [
    {
     "data": {
      "text/html": [
       "<div>\n",
       "<style scoped>\n",
       "    .dataframe tbody tr th:only-of-type {\n",
       "        vertical-align: middle;\n",
       "    }\n",
       "\n",
       "    .dataframe tbody tr th {\n",
       "        vertical-align: top;\n",
       "    }\n",
       "\n",
       "    .dataframe thead th {\n",
       "        text-align: right;\n",
       "    }\n",
       "</style>\n",
       "<table border=\"1\" class=\"dataframe\">\n",
       "  <thead>\n",
       "    <tr style=\"text-align: right;\">\n",
       "      <th></th>\n",
       "      <th>seller_id</th>\n",
       "      <th>num_orders</th>\n",
       "    </tr>\n",
       "  </thead>\n",
       "  <tbody>\n",
       "    <tr>\n",
       "      <th>0</th>\n",
       "      <td>dbd66278cbfe1aa1000f90a217ca4695</td>\n",
       "      <td>99</td>\n",
       "    </tr>\n",
       "    <tr>\n",
       "      <th>1</th>\n",
       "      <td>9d4db00d65d7760644ac0c14edb5fd86</td>\n",
       "      <td>99</td>\n",
       "    </tr>\n",
       "    <tr>\n",
       "      <th>2</th>\n",
       "      <td>688756f717c462a206ad854c5027a64a</td>\n",
       "      <td>99</td>\n",
       "    </tr>\n",
       "    <tr>\n",
       "      <th>3</th>\n",
       "      <td>70c27847eca8195c983ed7e798c56743</td>\n",
       "      <td>98</td>\n",
       "    </tr>\n",
       "    <tr>\n",
       "      <th>4</th>\n",
       "      <td>f27e33c6d29b5138fa9967bcd445b6d5</td>\n",
       "      <td>98</td>\n",
       "    </tr>\n",
       "  </tbody>\n",
       "</table>\n",
       "</div>"
      ],
      "text/plain": [
       "                          seller_id  num_orders\n",
       "0  dbd66278cbfe1aa1000f90a217ca4695          99\n",
       "1  9d4db00d65d7760644ac0c14edb5fd86          99\n",
       "2  688756f717c462a206ad854c5027a64a          99\n",
       "3  70c27847eca8195c983ed7e798c56743          98\n",
       "4  f27e33c6d29b5138fa9967bcd445b6d5          98"
      ]
     },
     "execution_count": 41,
     "metadata": {},
     "output_type": "execute_result"
    }
   ],
   "source": [
    "outsider_sellers.head()"
   ]
  },
  {
   "cell_type": "code",
   "execution_count": 42,
   "id": "fd5fce54",
   "metadata": {},
   "outputs": [],
   "source": [
    "count_outsider_sellers_by_orders = outsider_sellers.groupby('num_orders'). \\\n",
    "    count().reset_index().rename(columns={'seller_id': 'num_sellers'})"
   ]
  },
  {
   "cell_type": "code",
   "execution_count": 43,
   "id": "3df780c6",
   "metadata": {},
   "outputs": [
    {
     "data": {
      "text/plain": [
       "(99, 2)"
      ]
     },
     "execution_count": 43,
     "metadata": {},
     "output_type": "execute_result"
    }
   ],
   "source": [
    "count_outsider_sellers_by_orders.shape"
   ]
  },
  {
   "cell_type": "code",
   "execution_count": 44,
   "id": "7aa75290",
   "metadata": {},
   "outputs": [
    {
     "data": {
      "image/png": "[encoded data removed]",
      "text/plain": [
       "<Figure size 1080x432 with 1 Axes>"
      ]
     },
     "metadata": {
      "needs_background": "light"
     },
     "output_type": "display_data"
    }
   ],
   "source": [
    "plt.subplots(figsize=(15, 6))\n",
    "plt.bar(count_outsider_sellers_by_orders['num_orders'],\n",
    "        count_outsider_sellers_by_orders['num_sellers'])\n",
    "plt.xlabel('Number of Orders')\n",
    "plt.xticks(rotation=90)\n",
    "plt.ylabel('Number of Sellers')\n",
    "plt.title('Срез продавцов по наименьшим продажам')\n",
    "plt.show()"
   ]
  },
  {
   "cell_type": "markdown",
   "id": "3315d824",
   "metadata": {},
   "source": [
    "Интересно увидеть диаграмму доходов топ 5 продавцов, в разрезе категорий (с) Заказчик"
   ]
  },
  {
   "cell_type": "code",
   "execution_count": 45,
   "id": "1135bf27",
   "metadata": {
    "scrolled": true
   },
   "outputs": [
    {
     "data": {
      "text/html": [
       "<div>\n",
       "<style scoped>\n",
       "    .dataframe tbody tr th:only-of-type {\n",
       "        vertical-align: middle;\n",
       "    }\n",
       "\n",
       "    .dataframe tbody tr th {\n",
       "        vertical-align: top;\n",
       "    }\n",
       "\n",
       "    .dataframe thead th {\n",
       "        text-align: right;\n",
       "    }\n",
       "</style>\n",
       "<table border=\"1\" class=\"dataframe\">\n",
       "  <thead>\n",
       "    <tr style=\"text-align: right;\">\n",
       "      <th></th>\n",
       "      <th>seller_id</th>\n",
       "      <th>seller_city</th>\n",
       "      <th>seller_state</th>\n",
       "      <th>product_category_name</th>\n",
       "      <th>price</th>\n",
       "      <th>order_status</th>\n",
       "      <th>freight_value</th>\n",
       "      <th>order_delivered_customer_date</th>\n",
       "      <th>order_id</th>\n",
       "      <th>order_item_id</th>\n",
       "      <th>product_id</th>\n",
       "    </tr>\n",
       "  </thead>\n",
       "  <tbody>\n",
       "    <tr>\n",
       "      <th>0</th>\n",
       "      <td>3442f8959a84dea7ee197c632cb2df15</td>\n",
       "      <td>campinas</td>\n",
       "      <td>SP</td>\n",
       "      <td>esporte_lazer</td>\n",
       "      <td>106.20</td>\n",
       "      <td>delivered</td>\n",
       "      <td>9.56</td>\n",
       "      <td>2017-08-30 16:07:13</td>\n",
       "      <td>4a90af3e85dd563884e2afeab1091394</td>\n",
       "      <td>1</td>\n",
       "      <td>ffb64e34a37740dafb6c88f1abd1fa61</td>\n",
       "    </tr>\n",
       "    <tr>\n",
       "      <th>1</th>\n",
       "      <td>3442f8959a84dea7ee197c632cb2df15</td>\n",
       "      <td>campinas</td>\n",
       "      <td>SP</td>\n",
       "      <td>esporte_lazer</td>\n",
       "      <td>101.70</td>\n",
       "      <td>delivered</td>\n",
       "      <td>15.92</td>\n",
       "      <td>2017-06-02 16:57:44</td>\n",
       "      <td>6d953888a914b67350d5bc4d48f2acab</td>\n",
       "      <td>1</td>\n",
       "      <td>f4621f8ad6f54a2e3c408884068be46d</td>\n",
       "    </tr>\n",
       "    <tr>\n",
       "      <th>2</th>\n",
       "      <td>3442f8959a84dea7ee197c632cb2df15</td>\n",
       "      <td>campinas</td>\n",
       "      <td>SP</td>\n",
       "      <td>esporte_lazer</td>\n",
       "      <td>10.80</td>\n",
       "      <td>delivered</td>\n",
       "      <td>2.42</td>\n",
       "      <td>2017-09-01 16:51:26</td>\n",
       "      <td>bc8a5de6abf5b14f98a6135a7fb46731</td>\n",
       "      <td>2</td>\n",
       "      <td>325a06bcce0da45b7f4ecf2797dd40e4</td>\n",
       "    </tr>\n",
       "    <tr>\n",
       "      <th>3</th>\n",
       "      <td>d1b65fc7debc3361ea86b5f14c68d2e2</td>\n",
       "      <td>mogi guacu</td>\n",
       "      <td>SP</td>\n",
       "      <td>malas_acessorios</td>\n",
       "      <td>89.99</td>\n",
       "      <td>delivered</td>\n",
       "      <td>45.09</td>\n",
       "      <td>2017-11-21 23:26:35</td>\n",
       "      <td>035201c3c82a97f8a25dd6bd5244b2d5</td>\n",
       "      <td>1</td>\n",
       "      <td>1c36a5285f7f3b1ed2637d7c528ce5ff</td>\n",
       "    </tr>\n",
       "    <tr>\n",
       "      <th>4</th>\n",
       "      <td>d1b65fc7debc3361ea86b5f14c68d2e2</td>\n",
       "      <td>mogi guacu</td>\n",
       "      <td>SP</td>\n",
       "      <td>papelaria</td>\n",
       "      <td>199.90</td>\n",
       "      <td>delivered</td>\n",
       "      <td>21.89</td>\n",
       "      <td>2017-10-06 17:03:59</td>\n",
       "      <td>0504447548229e075dea8441b37b1e2a</td>\n",
       "      <td>1</td>\n",
       "      <td>8852eb03b04ec3268a66e9b696e25f6f</td>\n",
       "    </tr>\n",
       "    <tr>\n",
       "      <th>5</th>\n",
       "      <td>d1b65fc7debc3361ea86b5f14c68d2e2</td>\n",
       "      <td>mogi guacu</td>\n",
       "      <td>SP</td>\n",
       "      <td>malas_acessorios</td>\n",
       "      <td>99.90</td>\n",
       "      <td>delivered</td>\n",
       "      <td>22.70</td>\n",
       "      <td>2017-06-27 16:18:39</td>\n",
       "      <td>06e4e324b83309e575442446e34377d7</td>\n",
       "      <td>1</td>\n",
       "      <td>1c36a5285f7f3b1ed2637d7c528ce5ff</td>\n",
       "    </tr>\n",
       "    <tr>\n",
       "      <th>6</th>\n",
       "      <td>d1b65fc7debc3361ea86b5f14c68d2e2</td>\n",
       "      <td>mogi guacu</td>\n",
       "      <td>SP</td>\n",
       "      <td>papelaria</td>\n",
       "      <td>199.99</td>\n",
       "      <td>delivered</td>\n",
       "      <td>13.10</td>\n",
       "      <td>2017-12-05 18:04:43</td>\n",
       "      <td>16fd9b360cbadca08b1026c8532820f5</td>\n",
       "      <td>1</td>\n",
       "      <td>f74ed500ab93d12ce3fbc611474d89af</td>\n",
       "    </tr>\n",
       "    <tr>\n",
       "      <th>7</th>\n",
       "      <td>d1b65fc7debc3361ea86b5f14c68d2e2</td>\n",
       "      <td>mogi guacu</td>\n",
       "      <td>SP</td>\n",
       "      <td>malas_acessorios</td>\n",
       "      <td>209.90</td>\n",
       "      <td>delivered</td>\n",
       "      <td>21.55</td>\n",
       "      <td>2017-05-09 14:27:05</td>\n",
       "      <td>1887b26eba419ce20f6fe34a6f88e80a</td>\n",
       "      <td>1</td>\n",
       "      <td>765c417cdc38443aaa558a0159a98591</td>\n",
       "    </tr>\n",
       "    <tr>\n",
       "      <th>8</th>\n",
       "      <td>d1b65fc7debc3361ea86b5f14c68d2e2</td>\n",
       "      <td>mogi guacu</td>\n",
       "      <td>SP</td>\n",
       "      <td>malas_acessorios</td>\n",
       "      <td>289.99</td>\n",
       "      <td>delivered</td>\n",
       "      <td>98.02</td>\n",
       "      <td>2017-09-19 21:27:01</td>\n",
       "      <td>21fab12baaa93481ad76d02fa22255eb</td>\n",
       "      <td>1</td>\n",
       "      <td>4353af36fe588dc73497fa158ed6cefb</td>\n",
       "    </tr>\n",
       "    <tr>\n",
       "      <th>9</th>\n",
       "      <td>d1b65fc7debc3361ea86b5f14c68d2e2</td>\n",
       "      <td>mogi guacu</td>\n",
       "      <td>SP</td>\n",
       "      <td>papelaria</td>\n",
       "      <td>199.99</td>\n",
       "      <td>delivered</td>\n",
       "      <td>13.10</td>\n",
       "      <td>2017-12-07 21:53:18</td>\n",
       "      <td>2d5abff139e8101029312b689bfeae7a</td>\n",
       "      <td>1</td>\n",
       "      <td>f74ed500ab93d12ce3fbc611474d89af</td>\n",
       "    </tr>\n",
       "  </tbody>\n",
       "</table>\n",
       "</div>"
      ],
      "text/plain": [
       "                          seller_id seller_city seller_state  \\\n",
       "0  3442f8959a84dea7ee197c632cb2df15    campinas           SP   \n",
       "1  3442f8959a84dea7ee197c632cb2df15    campinas           SP   \n",
       "2  3442f8959a84dea7ee197c632cb2df15    campinas           SP   \n",
       "3  d1b65fc7debc3361ea86b5f14c68d2e2  mogi guacu           SP   \n",
       "4  d1b65fc7debc3361ea86b5f14c68d2e2  mogi guacu           SP   \n",
       "5  d1b65fc7debc3361ea86b5f14c68d2e2  mogi guacu           SP   \n",
       "6  d1b65fc7debc3361ea86b5f14c68d2e2  mogi guacu           SP   \n",
       "7  d1b65fc7debc3361ea86b5f14c68d2e2  mogi guacu           SP   \n",
       "8  d1b65fc7debc3361ea86b5f14c68d2e2  mogi guacu           SP   \n",
       "9  d1b65fc7debc3361ea86b5f14c68d2e2  mogi guacu           SP   \n",
       "\n",
       "  product_category_name   price order_status  freight_value  \\\n",
       "0         esporte_lazer  106.20    delivered           9.56   \n",
       "1         esporte_lazer  101.70    delivered          15.92   \n",
       "2         esporte_lazer   10.80    delivered           2.42   \n",
       "3      malas_acessorios   89.99    delivered          45.09   \n",
       "4             papelaria  199.90    delivered          21.89   \n",
       "5      malas_acessorios   99.90    delivered          22.70   \n",
       "6             papelaria  199.99    delivered          13.10   \n",
       "7      malas_acessorios  209.90    delivered          21.55   \n",
       "8      malas_acessorios  289.99    delivered          98.02   \n",
       "9             papelaria  199.99    delivered          13.10   \n",
       "\n",
       "  order_delivered_customer_date                          order_id  \\\n",
       "0           2017-08-30 16:07:13  4a90af3e85dd563884e2afeab1091394   \n",
       "1           2017-06-02 16:57:44  6d953888a914b67350d5bc4d48f2acab   \n",
       "2           2017-09-01 16:51:26  bc8a5de6abf5b14f98a6135a7fb46731   \n",
       "3           2017-11-21 23:26:35  035201c3c82a97f8a25dd6bd5244b2d5   \n",
       "4           2017-10-06 17:03:59  0504447548229e075dea8441b37b1e2a   \n",
       "5           2017-06-27 16:18:39  06e4e324b83309e575442446e34377d7   \n",
       "6           2017-12-05 18:04:43  16fd9b360cbadca08b1026c8532820f5   \n",
       "7           2017-05-09 14:27:05  1887b26eba419ce20f6fe34a6f88e80a   \n",
       "8           2017-09-19 21:27:01  21fab12baaa93481ad76d02fa22255eb   \n",
       "9           2017-12-07 21:53:18  2d5abff139e8101029312b689bfeae7a   \n",
       "\n",
       "   order_item_id                        product_id  \n",
       "0              1  ffb64e34a37740dafb6c88f1abd1fa61  \n",
       "1              1  f4621f8ad6f54a2e3c408884068be46d  \n",
       "2              2  325a06bcce0da45b7f4ecf2797dd40e4  \n",
       "3              1  1c36a5285f7f3b1ed2637d7c528ce5ff  \n",
       "4              1  8852eb03b04ec3268a66e9b696e25f6f  \n",
       "5              1  1c36a5285f7f3b1ed2637d7c528ce5ff  \n",
       "6              1  f74ed500ab93d12ce3fbc611474d89af  \n",
       "7              1  765c417cdc38443aaa558a0159a98591  \n",
       "8              1  4353af36fe588dc73497fa158ed6cefb  \n",
       "9              1  f74ed500ab93d12ce3fbc611474d89af  "
      ]
     },
     "execution_count": 45,
     "metadata": {},
     "output_type": "execute_result"
    }
   ],
   "source": [
    "df_sellers_analize.head(10)"
   ]
  },
  {
   "cell_type": "markdown",
   "id": "6394be59",
   "metadata": {},
   "source": [
    "### Группировка топ 5 продавцов по количеству продаж в разрезе категорий "
   ]
  },
  {
   "cell_type": "code",
   "execution_count": 46,
   "id": "77770209",
   "metadata": {},
   "outputs": [],
   "source": [
    "sellers_by_category = df_sellers_analize.groupby(['seller_id', 'product_category_name'])['order_id'].count().reset_index(). \\\n",
    "    rename(columns={'order_id': 'num_orders'}).sort_values(by=['num_orders'], ascending=False, ignore_index=True)"
   ]
  },
  {
   "cell_type": "code",
   "execution_count": 47,
   "id": "65b2fcde",
   "metadata": {
    "scrolled": false
   },
   "outputs": [
    {
     "data": {
      "image/png": "[encoded data removed]",
      "text/plain": [
       "<Figure size 864x864 with 1 Axes>"
      ]
     },
     "metadata": {
      "needs_background": "light"
     },
     "output_type": "display_data"
    }
   ],
   "source": [
    "plt.subplots(figsize=(12, 12))\n",
    "sns.barplot(y='seller_id', x='num_orders', hue='product_category_name', \n",
    "            data=sellers_by_category[sellers_by_category['seller_id'].isin(top5_sellers)])\n",
    "plt.ylabel('Seller_ID')\n",
    "plt.xticks(rotation=0)\n",
    "plt.xlabel('Количество заказов')\n",
    "plt.title('Топ5 продавцов в разрезе категорий')\n",
    "plt.legend(loc=4)\n",
    "plt.show()\n",
    "# sellers_by_category"
   ]
  },
  {
   "cell_type": "markdown",
   "id": "3e115622",
   "metadata": {},
   "source": [
    "Пока неинформативно!"
   ]
  },
  {
   "cell_type": "markdown",
   "id": "2b55b68d",
   "metadata": {},
   "source": [
    "### Посчитаем сумму доходов топ продавцов по категориям"
   ]
  },
  {
   "cell_type": "code",
   "execution_count": 48,
   "id": "56e11fba",
   "metadata": {},
   "outputs": [],
   "source": [
    "sellers_income_by_category = df_sellers_analize.groupby(['seller_id', 'product_category_name'], as_index=False)['price'].sum(). \\\n",
    "                reset_index(drop=True). \\\n",
    "                rename(columns={'price': 'sum_income'}). \\\n",
    "                sort_values(by=['sum_income'], ascending=False, ignore_index=True)"
   ]
  },
  {
   "cell_type": "code",
   "execution_count": 49,
   "id": "d265380d",
   "metadata": {},
   "outputs": [
    {
     "data": {
      "text/html": [
       "<div>\n",
       "<style scoped>\n",
       "    .dataframe tbody tr th:only-of-type {\n",
       "        vertical-align: middle;\n",
       "    }\n",
       "\n",
       "    .dataframe tbody tr th {\n",
       "        vertical-align: top;\n",
       "    }\n",
       "\n",
       "    .dataframe thead th {\n",
       "        text-align: right;\n",
       "    }\n",
       "</style>\n",
       "<table border=\"1\" class=\"dataframe\">\n",
       "  <thead>\n",
       "    <tr style=\"text-align: right;\">\n",
       "      <th></th>\n",
       "      <th>seller_id</th>\n",
       "      <th>product_category_name</th>\n",
       "      <th>sum_income</th>\n",
       "    </tr>\n",
       "  </thead>\n",
       "  <tbody>\n",
       "    <tr>\n",
       "      <th>0</th>\n",
       "      <td>4869f7a5dfa277a7dca6462dcf3b52b2</td>\n",
       "      <td>relogios_presentes</td>\n",
       "      <td>198822.03</td>\n",
       "    </tr>\n",
       "    <tr>\n",
       "      <th>1</th>\n",
       "      <td>fa1c13f2614d7b5c4749cbc52fecda94</td>\n",
       "      <td>relogios_presentes</td>\n",
       "      <td>188967.85</td>\n",
       "    </tr>\n",
       "    <tr>\n",
       "      <th>2</th>\n",
       "      <td>7c67e1448b00f6e969d365cea6b010ab</td>\n",
       "      <td>moveis_escritorio</td>\n",
       "      <td>171605.82</td>\n",
       "    </tr>\n",
       "    <tr>\n",
       "      <th>3</th>\n",
       "      <td>53243585a1d6dc2643021fd1853d8905</td>\n",
       "      <td>pcs</td>\n",
       "      <td>163322.76</td>\n",
       "    </tr>\n",
       "    <tr>\n",
       "      <th>4</th>\n",
       "      <td>4a3ca9315b744ce9f8e9374361493884</td>\n",
       "      <td>cama_mesa_banho</td>\n",
       "      <td>162206.95</td>\n",
       "    </tr>\n",
       "    <tr>\n",
       "      <th>...</th>\n",
       "      <td>...</td>\n",
       "      <td>...</td>\n",
       "      <td>...</td>\n",
       "    </tr>\n",
       "    <tr>\n",
       "      <th>6146</th>\n",
       "      <td>77128dec4bec4878c37ab7d6169d6f26</td>\n",
       "      <td>alimentos_bebidas</td>\n",
       "      <td>6.50</td>\n",
       "    </tr>\n",
       "    <tr>\n",
       "      <th>6147</th>\n",
       "      <td>741f8c587cb4248ebc5b779a0e8e0e51</td>\n",
       "      <td>pet_shop</td>\n",
       "      <td>5.99</td>\n",
       "    </tr>\n",
       "    <tr>\n",
       "      <th>6148</th>\n",
       "      <td>f593898ec748b7a8cb81fc04edafd98a</td>\n",
       "      <td>artes</td>\n",
       "      <td>5.35</td>\n",
       "    </tr>\n",
       "    <tr>\n",
       "      <th>6149</th>\n",
       "      <td>a218df5c097b0ca409cfaac1488cc7f6</td>\n",
       "      <td>construcao_ferramentas_construcao</td>\n",
       "      <td>3.99</td>\n",
       "    </tr>\n",
       "    <tr>\n",
       "      <th>6150</th>\n",
       "      <td>96804ea39d96eb908e7c3afdb671bb9e</td>\n",
       "      <td>construcao_ferramentas_construcao</td>\n",
       "      <td>2.55</td>\n",
       "    </tr>\n",
       "  </tbody>\n",
       "</table>\n",
       "<p>6151 rows × 3 columns</p>\n",
       "</div>"
      ],
      "text/plain": [
       "                             seller_id              product_category_name  \\\n",
       "0     4869f7a5dfa277a7dca6462dcf3b52b2                 relogios_presentes   \n",
       "1     fa1c13f2614d7b5c4749cbc52fecda94                 relogios_presentes   \n",
       "2     7c67e1448b00f6e969d365cea6b010ab                  moveis_escritorio   \n",
       "3     53243585a1d6dc2643021fd1853d8905                                pcs   \n",
       "4     4a3ca9315b744ce9f8e9374361493884                    cama_mesa_banho   \n",
       "...                                ...                                ...   \n",
       "6146  77128dec4bec4878c37ab7d6169d6f26                  alimentos_bebidas   \n",
       "6147  741f8c587cb4248ebc5b779a0e8e0e51                           pet_shop   \n",
       "6148  f593898ec748b7a8cb81fc04edafd98a                              artes   \n",
       "6149  a218df5c097b0ca409cfaac1488cc7f6  construcao_ferramentas_construcao   \n",
       "6150  96804ea39d96eb908e7c3afdb671bb9e  construcao_ferramentas_construcao   \n",
       "\n",
       "      sum_income  \n",
       "0      198822.03  \n",
       "1      188967.85  \n",
       "2      171605.82  \n",
       "3      163322.76  \n",
       "4      162206.95  \n",
       "...          ...  \n",
       "6146        6.50  \n",
       "6147        5.99  \n",
       "6148        5.35  \n",
       "6149        3.99  \n",
       "6150        2.55  \n",
       "\n",
       "[6151 rows x 3 columns]"
      ]
     },
     "execution_count": 49,
     "metadata": {},
     "output_type": "execute_result"
    }
   ],
   "source": [
    "sellers_income_by_category"
   ]
  },
  {
   "cell_type": "code",
   "execution_count": 50,
   "id": "73833d9d",
   "metadata": {},
   "outputs": [],
   "source": [
    "sellers_income_by_category.to_csv('sellers_income_by_category.csv')"
   ]
  },
  {
   "cell_type": "code",
   "execution_count": 51,
   "id": "1209b529",
   "metadata": {},
   "outputs": [
    {
     "data": {
      "image/png": "[encoded data removed]",
      "text/plain": [
       "<Figure size 1080x720 with 1 Axes>"
      ]
     },
     "metadata": {
      "needs_background": "light"
     },
     "output_type": "display_data"
    }
   ],
   "source": [
    "plt.subplots(figsize=(15, 10))\n",
    "sns.barplot(y='seller_id', x='sum_income', hue='product_category_name', \n",
    "            data=sellers_income_by_category[sellers_income_by_category['seller_id'].isin(top5_best_sellers)])\n",
    "plt.ylabel('Seller_ID')\n",
    "plt.xticks(rotation=0)\n",
    "plt.xlabel('Объем прибыли')\n",
    "plt.title('Топ5 продавцов в разрезе категорий')\n",
    "plt.legend(loc=4)\n",
    "plt.show()"
   ]
  },
  {
   "cell_type": "markdown",
   "id": "5fbf34a1",
   "metadata": {},
   "source": [
    "Анализ топ 10 городов по продажам, в котором смотрим на топ10 продавцов"
   ]
  },
  {
   "cell_type": "code",
   "execution_count": 52,
   "id": "4cf6e0b2",
   "metadata": {},
   "outputs": [],
   "source": [
    "best_cities_by_orders = df_sellers_analize.groupby(['seller_city'])['order_id'].count().reset_index(). \\\n",
    "    rename(columns={'order_id': 'num_orders'}).sort_values(by=['num_orders'], ascending=False, ignore_index=True)"
   ]
  },
  {
   "cell_type": "code",
   "execution_count": 53,
   "id": "d23a87bd",
   "metadata": {},
   "outputs": [],
   "source": [
    "top10_cities = best_cities_by_orders.iloc[:10, 0].tolist()"
   ]
  },
  {
   "cell_type": "code",
   "execution_count": 54,
   "id": "096665c8",
   "metadata": {},
   "outputs": [],
   "source": [
    "city_by_cellers = df_sellers_analize.groupby(['seller_city', 'seller_id'])['order_id'].count().reset_index(). \\\n",
    "    rename(columns={'order_id': 'num_orders'}).sort_values(by=['num_orders'], ascending=False, ignore_index=True)"
   ]
  },
  {
   "cell_type": "code",
   "execution_count": 55,
   "id": "f3769f9c",
   "metadata": {},
   "outputs": [],
   "source": [
    "city_by_cellers = city_by_cellers[city_by_cellers['seller_city'].isin(top10_cities)].reset_index(drop=True)"
   ]
  },
  {
   "cell_type": "code",
   "execution_count": 56,
   "id": "b8059108",
   "metadata": {},
   "outputs": [],
   "source": [
    "best_cities_and_cellers = city_by_cellers[city_by_cellers['seller_id'].isin(top10_sellers)]"
   ]
  },
  {
   "cell_type": "code",
   "execution_count": 57,
   "id": "662d34de",
   "metadata": {},
   "outputs": [
    {
     "data": {
      "text/html": [
       "<div>\n",
       "<style scoped>\n",
       "    .dataframe tbody tr th:only-of-type {\n",
       "        vertical-align: middle;\n",
       "    }\n",
       "\n",
       "    .dataframe tbody tr th {\n",
       "        vertical-align: top;\n",
       "    }\n",
       "\n",
       "    .dataframe thead th {\n",
       "        text-align: right;\n",
       "    }\n",
       "</style>\n",
       "<table border=\"1\" class=\"dataframe\">\n",
       "  <thead>\n",
       "    <tr style=\"text-align: right;\">\n",
       "      <th></th>\n",
       "      <th>seller_city</th>\n",
       "      <th>seller_id</th>\n",
       "      <th>num_orders</th>\n",
       "    </tr>\n",
       "  </thead>\n",
       "  <tbody>\n",
       "    <tr>\n",
       "      <th>0</th>\n",
       "      <td>sao paulo</td>\n",
       "      <td>6560211a19b47992c3666cc44a7e94c0</td>\n",
       "      <td>1996</td>\n",
       "    </tr>\n",
       "    <tr>\n",
       "      <th>1</th>\n",
       "      <td>ibitinga</td>\n",
       "      <td>4a3ca9315b744ce9f8e9374361493884</td>\n",
       "      <td>1949</td>\n",
       "    </tr>\n",
       "    <tr>\n",
       "      <th>2</th>\n",
       "      <td>sao jose do rio preto</td>\n",
       "      <td>1f50f920176fa81dab994f9023523100</td>\n",
       "      <td>1926</td>\n",
       "    </tr>\n",
       "    <tr>\n",
       "      <th>3</th>\n",
       "      <td>santo andre</td>\n",
       "      <td>cc419e0650a3c5ba77189a1882b7556a</td>\n",
       "      <td>1719</td>\n",
       "    </tr>\n",
       "    <tr>\n",
       "      <th>4</th>\n",
       "      <td>sao paulo</td>\n",
       "      <td>955fee9216a65b617aa5c0531780ce60</td>\n",
       "      <td>1472</td>\n",
       "    </tr>\n",
       "  </tbody>\n",
       "</table>\n",
       "</div>"
      ],
      "text/plain": [
       "             seller_city                         seller_id  num_orders\n",
       "0              sao paulo  6560211a19b47992c3666cc44a7e94c0        1996\n",
       "1               ibitinga  4a3ca9315b744ce9f8e9374361493884        1949\n",
       "2  sao jose do rio preto  1f50f920176fa81dab994f9023523100        1926\n",
       "3            santo andre  cc419e0650a3c5ba77189a1882b7556a        1719\n",
       "4              sao paulo  955fee9216a65b617aa5c0531780ce60        1472"
      ]
     },
     "execution_count": 57,
     "metadata": {},
     "output_type": "execute_result"
    }
   ],
   "source": [
    "best_cities_and_cellers.head()"
   ]
  },
  {
   "cell_type": "code",
   "execution_count": 58,
   "id": "a610033c",
   "metadata": {
    "scrolled": true
   },
   "outputs": [
    {
     "data": {
      "image/png": "[encoded data removed]",
      "text/plain": [
       "<Figure size 864x864 with 1 Axes>"
      ]
     },
     "metadata": {
      "needs_background": "light"
     },
     "output_type": "display_data"
    }
   ],
   "source": [
    "plt.subplots(figsize=(12, 12))\n",
    "sns.barplot(y='seller_id', x='num_orders', hue='seller_city', \n",
    "            data=best_cities_and_cellers)\n",
    "plt.ylabel('Seller_ID')\n",
    "plt.xticks(rotation=0)\n",
    "plt.xlabel('Количество заказов')\n",
    "plt.title('Топ10 продавцов в разрезе топ городов по продажам')\n",
    "plt.legend(loc=4)\n",
    "plt.show()"
   ]
  },
  {
   "cell_type": "code",
   "execution_count": null,
   "id": "acab014c",
   "metadata": {},
   "outputs": [],
   "source": []
  },
  {
   "cell_type": "code",
   "execution_count": 59,
   "id": "70e1872b",
   "metadata": {},
   "outputs": [],
   "source": [
    "# orders_filtering = orders_count[orders_count['order_id'] < 50].sort_values('seller_id')['seller_id']"
   ]
  },
  {
   "cell_type": "code",
   "execution_count": 60,
   "id": "ae1680e8",
   "metadata": {},
   "outputs": [],
   "source": [
    "# orders_filtering"
   ]
  },
  {
   "cell_type": "code",
   "execution_count": 61,
   "id": "473332ef",
   "metadata": {},
   "outputs": [],
   "source": [
    "# my_filter = orders_count[orders_count['order_id'] < 50].sort_values('seller_id')['seller_id'].str.startswith('ff')"
   ]
  },
  {
   "cell_type": "code",
   "execution_count": 62,
   "id": "69b7a9d2",
   "metadata": {},
   "outputs": [],
   "source": [
    "# orders_filtering[my_filter].count()"
   ]
  },
  {
   "cell_type": "code",
   "execution_count": 63,
   "id": "a08947e3",
   "metadata": {},
   "outputs": [],
   "source": [
    "# orders_count[orders_count['seller_id'].str.startswith('ff')]"
   ]
  },
  {
   "cell_type": "code",
   "execution_count": 64,
   "id": "50b2fa27",
   "metadata": {},
   "outputs": [],
   "source": [
    "# orders_count[orders_count['seller_id'].str.startswith('ff')].count()"
   ]
  }
 ],
 "metadata": {
  "kernelspec": {
   "display_name": "Python 3",
   "language": "python",
   "name": "python3"
  },
  "language_info": {
   "codemirror_mode": {
    "name": "ipython",
    "version": 3
   },
   "file_extension": ".py",
   "mimetype": "text/x-python",
   "name": "python",
   "nbconvert_exporter": "python",
   "pygments_lexer": "ipython3",
   "version": "3.7.9"
  }
 },
 "nbformat": 4,
 "nbformat_minor": 5
}
